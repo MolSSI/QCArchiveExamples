{
 "cells": [
  {
   "cell_type": "markdown",
   "metadata": {},
   "source": [
    "# TorsionDrive Datasets\n",
    "\n",
    "An individual TorsionDrive is specific workflow in the QCArchive ecosystem that computes the energy profile of rotatable dihedral (torsion) for use in Force Field fitting. This workflow has been developed by the QCArchive Team in conjunction with:\n",
    "\n",
    " - [Lee-Ping Wang](https://chemistry.ucdavis.edu/people/lee-ping-wang)\n",
    " - [John Chodera](http://www.choderalab.org)\n",
    " - Chaya Stern\n",
    " - Yudong Qiu\n",
    " - [The Open Force Field Initiative](https://openforcefield.org)\n",
    "\n",
    "The top-level TorsionDrive code can be found [here](https://github.com/lpwgroup/torsiondrive).\n",
    "\n",
    "The TorsionDrive Dataset organizes many TorsionDrives together for data exploration, analysis, and methodology comparison. To begin, we can connect to the MolSSI QCArchive server and query all known TorsionDrive Datasets:"
   ]
  },
  {
   "cell_type": "code",
   "execution_count": 1,
   "metadata": {},
   "outputs": [
    {
     "data": {
      "text/html": [
       "\n",
       "<h3>FractalClient</h3>\n",
       "<ul>\n",
       "  <li><b>Server:   &nbsp; </b>The MolSSI QCArchive Server</li>\n",
       "  <li><b>Address:  &nbsp; </b>https://api.qcarchive.molssi.org:443/</li>\n",
       "  <li><b>Username: &nbsp; </b>None</li>\n",
       "</ul>\n"
      ],
      "text/plain": [
       "FractalClient(server_name='The MolSSI QCArchive Server', address='https://api.qcarchive.molssi.org:443/', username='None')"
      ]
     },
     "execution_count": 1,
     "metadata": {},
     "output_type": "execute_result"
    }
   ],
   "source": [
    "import qcportal as ptl\n",
    "client = ptl.FractalClient()\n",
    "client"
   ]
  },
  {
   "cell_type": "code",
   "execution_count": 2,
   "metadata": {},
   "outputs": [
    {
     "data": {
      "text/html": [
       "<div>\n",
       "<style scoped>\n",
       "    .dataframe tbody tr th:only-of-type {\n",
       "        vertical-align: middle;\n",
       "    }\n",
       "\n",
       "    .dataframe tbody tr th {\n",
       "        vertical-align: top;\n",
       "    }\n",
       "\n",
       "    .dataframe thead th {\n",
       "        text-align: right;\n",
       "    }\n",
       "</style>\n",
       "<table border=\"1\" class=\"dataframe\">\n",
       "  <thead>\n",
       "    <tr style=\"text-align: right;\">\n",
       "      <th></th>\n",
       "      <th></th>\n",
       "      <th>tagline</th>\n",
       "    </tr>\n",
       "    <tr>\n",
       "      <th>collection</th>\n",
       "      <th>name</th>\n",
       "      <th></th>\n",
       "    </tr>\n",
       "  </thead>\n",
       "  <tbody>\n",
       "    <tr>\n",
       "      <td rowspan=\"9\" valign=\"top\">TorsionDriveDataset</td>\n",
       "      <td>Fragment Stability Benchmark</td>\n",
       "      <td>None</td>\n",
       "    </tr>\n",
       "    <tr>\n",
       "      <td>OpenFF Fragmenter Phenyl Benchmark</td>\n",
       "      <td>Phenyl substituent torsional barrier heights.</td>\n",
       "    </tr>\n",
       "    <tr>\n",
       "      <td>OpenFF Full TorsionDrive Benchmark 1</td>\n",
       "      <td>None</td>\n",
       "    </tr>\n",
       "    <tr>\n",
       "      <td>OpenFF Group1 Torsions</td>\n",
       "      <td>None</td>\n",
       "    </tr>\n",
       "    <tr>\n",
       "      <td>OpenFF Primary TorsionDrive Benchmark 1</td>\n",
       "      <td>None</td>\n",
       "    </tr>\n",
       "    <tr>\n",
       "      <td>OpenFF Substituted Phenyl Set 1</td>\n",
       "      <td>None</td>\n",
       "    </tr>\n",
       "    <tr>\n",
       "      <td>Pfizer Discrepancy Torsion Dataset 1</td>\n",
       "      <td>None</td>\n",
       "    </tr>\n",
       "    <tr>\n",
       "      <td>SMIRNOFF Coverage Torsion Set 1</td>\n",
       "      <td>None</td>\n",
       "    </tr>\n",
       "    <tr>\n",
       "      <td>TorsionDrive Paper</td>\n",
       "      <td>None</td>\n",
       "    </tr>\n",
       "  </tbody>\n",
       "</table>\n",
       "</div>"
      ],
      "text/plain": [
       "                                                                                                   tagline\n",
       "collection          name                                                                                  \n",
       "TorsionDriveDataset Fragment Stability Benchmark                                                      None\n",
       "                    OpenFF Fragmenter Phenyl Benchmark       Phenyl substituent torsional barrier heights.\n",
       "                    OpenFF Full TorsionDrive Benchmark 1                                              None\n",
       "                    OpenFF Group1 Torsions                                                            None\n",
       "                    OpenFF Primary TorsionDrive Benchmark 1                                           None\n",
       "                    OpenFF Substituted Phenyl Set 1                                                   None\n",
       "                    Pfizer Discrepancy Torsion Dataset 1                                              None\n",
       "                    SMIRNOFF Coverage Torsion Set 1                                                   None\n",
       "                    TorsionDrive Paper                                                                None"
      ]
     },
     "execution_count": 2,
     "metadata": {},
     "output_type": "execute_result"
    }
   ],
   "source": [
    "client.list_collections(\"TorsionDriveDataset\")"
   ]
  },
  {
   "cell_type": "markdown",
   "metadata": {},
   "source": [
    "One of the datasets can be obtained in the canonical manner:"
   ]
  },
  {
   "cell_type": "code",
   "execution_count": 3,
   "metadata": {},
   "outputs": [],
   "source": [
    "ds = client.get_collection(\"TorsionDriveDataset\", \"OpenFF Fragmenter Phenyl Benchmark\")"
   ]
  },
  {
   "cell_type": "markdown",
   "metadata": {},
   "source": [
    "## Exploring the Dataset\n",
    "\n",
    "Each row of the dataset is comprised of a `Entry` which contains a list of starting molecules for the TorsionDrive, the dihedral of interest (in this case zero-indexed), and the scan resolution of the dihedral. For the purposes of the underlying DataFrame each row is the name of this `Entry`."
   ]
  },
  {
   "cell_type": "code",
   "execution_count": 4,
   "metadata": {},
   "outputs": [
    {
     "data": {
      "text/html": [
       "<div>\n",
       "<style scoped>\n",
       "    .dataframe tbody tr th:only-of-type {\n",
       "        vertical-align: middle;\n",
       "    }\n",
       "\n",
       "    .dataframe tbody tr th {\n",
       "        vertical-align: top;\n",
       "    }\n",
       "\n",
       "    .dataframe thead th {\n",
       "        text-align: right;\n",
       "    }\n",
       "</style>\n",
       "<table border=\"1\" class=\"dataframe\">\n",
       "  <thead>\n",
       "    <tr style=\"text-align: right;\">\n",
       "      <th></th>\n",
       "    </tr>\n",
       "  </thead>\n",
       "  <tbody>\n",
       "    <tr>\n",
       "      <td>c1c[cH:1][c:2](cc1)[C:3](=[O:4])O</td>\n",
       "    </tr>\n",
       "    <tr>\n",
       "      <td>c1[cH:1][c:2](cnc1)[C:3](=[O:4])O</td>\n",
       "    </tr>\n",
       "    <tr>\n",
       "      <td>[cH:1]1cncc[c:2]1[C:3](=[O:4])O</td>\n",
       "    </tr>\n",
       "    <tr>\n",
       "      <td>[cH:1]1cc(nc[c:2]1[C:3](=[O:4])O)[O-]</td>\n",
       "    </tr>\n",
       "    <tr>\n",
       "      <td>Cc1c[cH:1][c:2](cn1)[C:3](=[O:4])O</td>\n",
       "    </tr>\n",
       "  </tbody>\n",
       "</table>\n",
       "</div>"
      ],
      "text/plain": [
       "Empty DataFrame\n",
       "Columns: []\n",
       "Index: [c1c[cH:1][c:2](cc1)[C:3](=[O:4])O, c1[cH:1][c:2](cnc1)[C:3](=[O:4])O, [cH:1]1cncc[c:2]1[C:3](=[O:4])O, [cH:1]1cc(nc[c:2]1[C:3](=[O:4])O)[O-], Cc1c[cH:1][c:2](cn1)[C:3](=[O:4])O]"
      ]
     },
     "execution_count": 4,
     "metadata": {},
     "output_type": "execute_result"
    }
   ],
   "source": [
    "ds.df.head()"
   ]
  },
  {
   "cell_type": "markdown",
   "metadata": {},
   "source": [
    "New computations are based off specifications which contain many additional parameters to tune the torsiondrive as well as the underlying computational method. Here, we can list all specifications that are attributed to this dataset."
   ]
  },
  {
   "cell_type": "code",
   "execution_count": 5,
   "metadata": {},
   "outputs": [
    {
     "data": {
      "text/html": [
       "<div>\n",
       "<style scoped>\n",
       "    .dataframe tbody tr th:only-of-type {\n",
       "        vertical-align: middle;\n",
       "    }\n",
       "\n",
       "    .dataframe tbody tr th {\n",
       "        vertical-align: top;\n",
       "    }\n",
       "\n",
       "    .dataframe thead th {\n",
       "        text-align: right;\n",
       "    }\n",
       "</style>\n",
       "<table border=\"1\" class=\"dataframe\">\n",
       "  <thead>\n",
       "    <tr style=\"text-align: right;\">\n",
       "      <th></th>\n",
       "      <th>Description</th>\n",
       "    </tr>\n",
       "    <tr>\n",
       "      <th>Name</th>\n",
       "      <th></th>\n",
       "    </tr>\n",
       "  </thead>\n",
       "  <tbody>\n",
       "    <tr>\n",
       "      <td>UFF</td>\n",
       "      <td>UFF gradient evaluation with RDKit</td>\n",
       "    </tr>\n",
       "    <tr>\n",
       "      <td>B3LYP-D3</td>\n",
       "      <td>B3LYP-D3 evaluation with Psi4</td>\n",
       "    </tr>\n",
       "  </tbody>\n",
       "</table>\n",
       "</div>"
      ],
      "text/plain": [
       "                                 Description\n",
       "Name                                        \n",
       "UFF       UFF gradient evaluation with RDKit\n",
       "B3LYP-D3       B3LYP-D3 evaluation with Psi4"
      ]
     },
     "execution_count": 5,
     "metadata": {},
     "output_type": "execute_result"
    }
   ],
   "source": [
    "ds.list_specifications()"
   ]
  },
  {
   "cell_type": "markdown",
   "metadata": {},
   "source": [
    "As we can see, we have several specifications at different levels of theory. It is important to recall that these Collections are \"live\": new specifications can be added and individual TorsionDrives can be under computation. To see the current status of each specification the `status` function is provided:"
   ]
  },
  {
   "cell_type": "code",
   "execution_count": 6,
   "metadata": {},
   "outputs": [
    {
     "data": {
      "text/html": [
       "<div>\n",
       "<style scoped>\n",
       "    .dataframe tbody tr th:only-of-type {\n",
       "        vertical-align: middle;\n",
       "    }\n",
       "\n",
       "    .dataframe tbody tr th {\n",
       "        vertical-align: top;\n",
       "    }\n",
       "\n",
       "    .dataframe thead th {\n",
       "        text-align: right;\n",
       "    }\n",
       "</style>\n",
       "<table border=\"1\" class=\"dataframe\">\n",
       "  <thead>\n",
       "    <tr style=\"text-align: right;\">\n",
       "      <th></th>\n",
       "      <th>UFF</th>\n",
       "      <th>B3LYP-D3</th>\n",
       "    </tr>\n",
       "  </thead>\n",
       "  <tbody>\n",
       "    <tr>\n",
       "      <td>COMPLETE</td>\n",
       "      <td>165</td>\n",
       "      <td>226</td>\n",
       "    </tr>\n",
       "    <tr>\n",
       "      <td>INCOMPLETE</td>\n",
       "      <td>62</td>\n",
       "      <td>1</td>\n",
       "    </tr>\n",
       "  </tbody>\n",
       "</table>\n",
       "</div>"
      ],
      "text/plain": [
       "            UFF  B3LYP-D3\n",
       "COMPLETE    165       226\n",
       "INCOMPLETE   62         1"
      ]
     },
     "execution_count": 6,
     "metadata": {},
     "output_type": "execute_result"
    }
   ],
   "source": [
    "ds.status([\"uff\", \"b3lyp-d3\"])"
   ]
  },
  {
   "cell_type": "code",
   "execution_count": 7,
   "metadata": {},
   "outputs": [
    {
     "data": {
      "text/html": [
       "<div>\n",
       "<style scoped>\n",
       "    .dataframe tbody tr th:only-of-type {\n",
       "        vertical-align: middle;\n",
       "    }\n",
       "\n",
       "    .dataframe tbody tr th {\n",
       "        vertical-align: top;\n",
       "    }\n",
       "\n",
       "    .dataframe thead th {\n",
       "        text-align: right;\n",
       "    }\n",
       "</style>\n",
       "<table border=\"1\" class=\"dataframe\">\n",
       "  <thead>\n",
       "    <tr style=\"text-align: right;\">\n",
       "      <th></th>\n",
       "      <th>B3LYP-D3</th>\n",
       "    </tr>\n",
       "  </thead>\n",
       "  <tbody>\n",
       "    <tr>\n",
       "      <td>c1c[cH:1][c:2](cc1)[C:3](=[O:4])O</td>\n",
       "      <td>COMPLETE</td>\n",
       "    </tr>\n",
       "    <tr>\n",
       "      <td>c1[cH:1][c:2](cnc1)[C:3](=[O:4])O</td>\n",
       "      <td>COMPLETE</td>\n",
       "    </tr>\n",
       "    <tr>\n",
       "      <td>[cH:1]1cncc[c:2]1[C:3](=[O:4])O</td>\n",
       "      <td>COMPLETE</td>\n",
       "    </tr>\n",
       "    <tr>\n",
       "      <td>[cH:1]1cc(nc[c:2]1[C:3](=[O:4])O)[O-]</td>\n",
       "      <td>COMPLETE</td>\n",
       "    </tr>\n",
       "    <tr>\n",
       "      <td>Cc1c[cH:1][c:2](cn1)[C:3](=[O:4])O</td>\n",
       "      <td>COMPLETE</td>\n",
       "    </tr>\n",
       "  </tbody>\n",
       "</table>\n",
       "</div>"
      ],
      "text/plain": [
       "                                       B3LYP-D3\n",
       "c1c[cH:1][c:2](cc1)[C:3](=[O:4])O      COMPLETE\n",
       "c1[cH:1][c:2](cnc1)[C:3](=[O:4])O      COMPLETE\n",
       "[cH:1]1cncc[c:2]1[C:3](=[O:4])O        COMPLETE\n",
       "[cH:1]1cc(nc[c:2]1[C:3](=[O:4])O)[O-]  COMPLETE\n",
       "Cc1c[cH:1][c:2](cn1)[C:3](=[O:4])O     COMPLETE"
      ]
     },
     "execution_count": 7,
     "metadata": {},
     "output_type": "execute_result"
    }
   ],
   "source": [
    "ds.status([\"b3lyp-d3\"], collapse=False, status=\"COMPLETE\").head()"
   ]
  },
  {
   "cell_type": "markdown",
   "metadata": {},
   "source": [
    "## Visualizing the TorsionDrives\n",
    "\n",
    "TorsionDrives can be visualized via the ``visualize`` command. Multiple torsiondrives can be plotted on the same graph for comparison."
   ]
  },
  {
   "cell_type": "code",
   "execution_count": 8,
   "metadata": {},
   "outputs": [
    {
     "data": {
      "text/html": [
       "        <script type=\"text/javascript\">\n",
       "        window.PlotlyConfig = {MathJaxConfig: 'local'};\n",
       "        if (window.MathJax) {MathJax.Hub.Config({SVG: {font: \"STIX-Web\"}});}\n",
       "        if (typeof require !== 'undefined') {\n",
       "        require.undef(\"plotly\");\n",
       "        requirejs.config({\n",
       "            paths: {\n",
       "                'plotly': ['https://cdn.plot.ly/plotly-latest.min']\n",
       "            }\n",
       "        });\n",
       "        require(['plotly'], function(Plotly) {\n",
       "            window._Plotly = Plotly;\n",
       "        });\n",
       "        }\n",
       "        </script>\n",
       "        "
      ]
     },
     "metadata": {},
     "output_type": "display_data"
    },
    {
     "data": {
      "text/html": [
       "        <script type=\"text/javascript\">\n",
       "        window.PlotlyConfig = {MathJaxConfig: 'local'};\n",
       "        if (window.MathJax) {MathJax.Hub.Config({SVG: {font: \"STIX-Web\"}});}\n",
       "        if (typeof require !== 'undefined') {\n",
       "        require.undef(\"plotly\");\n",
       "        requirejs.config({\n",
       "            paths: {\n",
       "                'plotly': ['https://cdn.plot.ly/plotly-latest.min']\n",
       "            }\n",
       "        });\n",
       "        require(['plotly'], function(Plotly) {\n",
       "            window._Plotly = Plotly;\n",
       "        });\n",
       "        }\n",
       "        </script>\n",
       "        "
      ]
     },
     "metadata": {},
     "output_type": "display_data"
    },
    {
     "data": {
      "text/html": [
       "        <script type=\"text/javascript\">\n",
       "        window.PlotlyConfig = {MathJaxConfig: 'local'};\n",
       "        if (window.MathJax) {MathJax.Hub.Config({SVG: {font: \"STIX-Web\"}});}\n",
       "        if (typeof require !== 'undefined') {\n",
       "        require.undef(\"plotly\");\n",
       "        requirejs.config({\n",
       "            paths: {\n",
       "                'plotly': ['https://cdn.plot.ly/plotly-latest.min']\n",
       "            }\n",
       "        });\n",
       "        require(['plotly'], function(Plotly) {\n",
       "            window._Plotly = Plotly;\n",
       "        });\n",
       "        }\n",
       "        </script>\n",
       "        "
      ]
     },
     "metadata": {},
     "output_type": "display_data"
    },
    {
     "data": {
      "application/vnd.plotly.v1+json": {
       "config": {
        "linkText": "Export to plot.ly",
        "plotlyServerURL": "https://plot.ly",
        "showLink": false
       },
       "data": [
        {
         "mode": "lines+markers",
         "name": "[CH3:4][O:3][c:2]1[cH:1]cccc1",
         "type": "scatter",
         "x": [
          -165,
          -150,
          -135,
          -120,
          -105,
          -90,
          -75,
          -60,
          -45,
          -30,
          -15,
          0,
          15,
          30,
          45,
          60,
          75,
          90,
          105,
          120,
          135,
          150,
          165,
          180
         ],
         "y": [
          1.371,
          5.132,
          9.891,
          12.92,
          14.032,
          14.394,
          13.921,
          12.638,
          9.364,
          4.74,
          1.24,
          0,
          1.24,
          4.74,
          9.364,
          12.638,
          13.921,
          14.394,
          14.032,
          12.92,
          9.891,
          5.132,
          1.371,
          0
         ]
        },
        {
         "mode": "lines+markers",
         "name": "[CH3:4][O:3][c:2]1[cH:1]ccnc1",
         "type": "scatter",
         "x": [
          -165,
          -150,
          -135,
          -120,
          -105,
          -90,
          -75,
          -60,
          -45,
          -30,
          -15,
          0,
          15,
          30,
          45,
          60,
          75,
          90,
          105,
          120,
          135,
          150,
          165,
          180
         ],
         "y": [
          1.409,
          5.27,
          10.236,
          13.445,
          14.483,
          14.793,
          14.275,
          12.917,
          9.7,
          5.137,
          1.619,
          0.361,
          1.619,
          5.137,
          9.7,
          12.917,
          14.275,
          14.793,
          14.483,
          13.445,
          10.236,
          5.27,
          1.409,
          0
         ]
        }
       ],
       "layout": {
        "template": {
         "data": {
          "bar": [
           {
            "error_x": {
             "color": "#2a3f5f"
            },
            "error_y": {
             "color": "#2a3f5f"
            },
            "marker": {
             "line": {
              "color": "#E5ECF6",
              "width": 0.5
             }
            },
            "type": "bar"
           }
          ],
          "barpolar": [
           {
            "marker": {
             "line": {
              "color": "#E5ECF6",
              "width": 0.5
             }
            },
            "type": "barpolar"
           }
          ],
          "carpet": [
           {
            "aaxis": {
             "endlinecolor": "#2a3f5f",
             "gridcolor": "white",
             "linecolor": "white",
             "minorgridcolor": "white",
             "startlinecolor": "#2a3f5f"
            },
            "baxis": {
             "endlinecolor": "#2a3f5f",
             "gridcolor": "white",
             "linecolor": "white",
             "minorgridcolor": "white",
             "startlinecolor": "#2a3f5f"
            },
            "type": "carpet"
           }
          ],
          "choropleth": [
           {
            "colorbar": {
             "outlinewidth": 0,
             "ticks": ""
            },
            "type": "choropleth"
           }
          ],
          "contour": [
           {
            "colorbar": {
             "outlinewidth": 0,
             "ticks": ""
            },
            "colorscale": [
             [
              0,
              "#0d0887"
             ],
             [
              0.1111111111111111,
              "#46039f"
             ],
             [
              0.2222222222222222,
              "#7201a8"
             ],
             [
              0.3333333333333333,
              "#9c179e"
             ],
             [
              0.4444444444444444,
              "#bd3786"
             ],
             [
              0.5555555555555556,
              "#d8576b"
             ],
             [
              0.6666666666666666,
              "#ed7953"
             ],
             [
              0.7777777777777778,
              "#fb9f3a"
             ],
             [
              0.8888888888888888,
              "#fdca26"
             ],
             [
              1,
              "#f0f921"
             ]
            ],
            "type": "contour"
           }
          ],
          "contourcarpet": [
           {
            "colorbar": {
             "outlinewidth": 0,
             "ticks": ""
            },
            "type": "contourcarpet"
           }
          ],
          "heatmap": [
           {
            "colorbar": {
             "outlinewidth": 0,
             "ticks": ""
            },
            "colorscale": [
             [
              0,
              "#0d0887"
             ],
             [
              0.1111111111111111,
              "#46039f"
             ],
             [
              0.2222222222222222,
              "#7201a8"
             ],
             [
              0.3333333333333333,
              "#9c179e"
             ],
             [
              0.4444444444444444,
              "#bd3786"
             ],
             [
              0.5555555555555556,
              "#d8576b"
             ],
             [
              0.6666666666666666,
              "#ed7953"
             ],
             [
              0.7777777777777778,
              "#fb9f3a"
             ],
             [
              0.8888888888888888,
              "#fdca26"
             ],
             [
              1,
              "#f0f921"
             ]
            ],
            "type": "heatmap"
           }
          ],
          "heatmapgl": [
           {
            "colorbar": {
             "outlinewidth": 0,
             "ticks": ""
            },
            "colorscale": [
             [
              0,
              "#0d0887"
             ],
             [
              0.1111111111111111,
              "#46039f"
             ],
             [
              0.2222222222222222,
              "#7201a8"
             ],
             [
              0.3333333333333333,
              "#9c179e"
             ],
             [
              0.4444444444444444,
              "#bd3786"
             ],
             [
              0.5555555555555556,
              "#d8576b"
             ],
             [
              0.6666666666666666,
              "#ed7953"
             ],
             [
              0.7777777777777778,
              "#fb9f3a"
             ],
             [
              0.8888888888888888,
              "#fdca26"
             ],
             [
              1,
              "#f0f921"
             ]
            ],
            "type": "heatmapgl"
           }
          ],
          "histogram": [
           {
            "marker": {
             "colorbar": {
              "outlinewidth": 0,
              "ticks": ""
             }
            },
            "type": "histogram"
           }
          ],
          "histogram2d": [
           {
            "colorbar": {
             "outlinewidth": 0,
             "ticks": ""
            },
            "colorscale": [
             [
              0,
              "#0d0887"
             ],
             [
              0.1111111111111111,
              "#46039f"
             ],
             [
              0.2222222222222222,
              "#7201a8"
             ],
             [
              0.3333333333333333,
              "#9c179e"
             ],
             [
              0.4444444444444444,
              "#bd3786"
             ],
             [
              0.5555555555555556,
              "#d8576b"
             ],
             [
              0.6666666666666666,
              "#ed7953"
             ],
             [
              0.7777777777777778,
              "#fb9f3a"
             ],
             [
              0.8888888888888888,
              "#fdca26"
             ],
             [
              1,
              "#f0f921"
             ]
            ],
            "type": "histogram2d"
           }
          ],
          "histogram2dcontour": [
           {
            "colorbar": {
             "outlinewidth": 0,
             "ticks": ""
            },
            "colorscale": [
             [
              0,
              "#0d0887"
             ],
             [
              0.1111111111111111,
              "#46039f"
             ],
             [
              0.2222222222222222,
              "#7201a8"
             ],
             [
              0.3333333333333333,
              "#9c179e"
             ],
             [
              0.4444444444444444,
              "#bd3786"
             ],
             [
              0.5555555555555556,
              "#d8576b"
             ],
             [
              0.6666666666666666,
              "#ed7953"
             ],
             [
              0.7777777777777778,
              "#fb9f3a"
             ],
             [
              0.8888888888888888,
              "#fdca26"
             ],
             [
              1,
              "#f0f921"
             ]
            ],
            "type": "histogram2dcontour"
           }
          ],
          "mesh3d": [
           {
            "colorbar": {
             "outlinewidth": 0,
             "ticks": ""
            },
            "type": "mesh3d"
           }
          ],
          "parcoords": [
           {
            "line": {
             "colorbar": {
              "outlinewidth": 0,
              "ticks": ""
             }
            },
            "type": "parcoords"
           }
          ],
          "scatter": [
           {
            "marker": {
             "colorbar": {
              "outlinewidth": 0,
              "ticks": ""
             }
            },
            "type": "scatter"
           }
          ],
          "scatter3d": [
           {
            "line": {
             "colorbar": {
              "outlinewidth": 0,
              "ticks": ""
             }
            },
            "marker": {
             "colorbar": {
              "outlinewidth": 0,
              "ticks": ""
             }
            },
            "type": "scatter3d"
           }
          ],
          "scattercarpet": [
           {
            "marker": {
             "colorbar": {
              "outlinewidth": 0,
              "ticks": ""
             }
            },
            "type": "scattercarpet"
           }
          ],
          "scattergeo": [
           {
            "marker": {
             "colorbar": {
              "outlinewidth": 0,
              "ticks": ""
             }
            },
            "type": "scattergeo"
           }
          ],
          "scattergl": [
           {
            "marker": {
             "colorbar": {
              "outlinewidth": 0,
              "ticks": ""
             }
            },
            "type": "scattergl"
           }
          ],
          "scattermapbox": [
           {
            "marker": {
             "colorbar": {
              "outlinewidth": 0,
              "ticks": ""
             }
            },
            "type": "scattermapbox"
           }
          ],
          "scatterpolar": [
           {
            "marker": {
             "colorbar": {
              "outlinewidth": 0,
              "ticks": ""
             }
            },
            "type": "scatterpolar"
           }
          ],
          "scatterpolargl": [
           {
            "marker": {
             "colorbar": {
              "outlinewidth": 0,
              "ticks": ""
             }
            },
            "type": "scatterpolargl"
           }
          ],
          "scatterternary": [
           {
            "marker": {
             "colorbar": {
              "outlinewidth": 0,
              "ticks": ""
             }
            },
            "type": "scatterternary"
           }
          ],
          "surface": [
           {
            "colorbar": {
             "outlinewidth": 0,
             "ticks": ""
            },
            "colorscale": [
             [
              0,
              "#0d0887"
             ],
             [
              0.1111111111111111,
              "#46039f"
             ],
             [
              0.2222222222222222,
              "#7201a8"
             ],
             [
              0.3333333333333333,
              "#9c179e"
             ],
             [
              0.4444444444444444,
              "#bd3786"
             ],
             [
              0.5555555555555556,
              "#d8576b"
             ],
             [
              0.6666666666666666,
              "#ed7953"
             ],
             [
              0.7777777777777778,
              "#fb9f3a"
             ],
             [
              0.8888888888888888,
              "#fdca26"
             ],
             [
              1,
              "#f0f921"
             ]
            ],
            "type": "surface"
           }
          ],
          "table": [
           {
            "cells": {
             "fill": {
              "color": "#EBF0F8"
             },
             "line": {
              "color": "white"
             }
            },
            "header": {
             "fill": {
              "color": "#C8D4E3"
             },
             "line": {
              "color": "white"
             }
            },
            "type": "table"
           }
          ]
         },
         "layout": {
          "annotationdefaults": {
           "arrowcolor": "#2a3f5f",
           "arrowhead": 0,
           "arrowwidth": 1
          },
          "colorscale": {
           "diverging": [
            [
             0,
             "#8e0152"
            ],
            [
             0.1,
             "#c51b7d"
            ],
            [
             0.2,
             "#de77ae"
            ],
            [
             0.3,
             "#f1b6da"
            ],
            [
             0.4,
             "#fde0ef"
            ],
            [
             0.5,
             "#f7f7f7"
            ],
            [
             0.6,
             "#e6f5d0"
            ],
            [
             0.7,
             "#b8e186"
            ],
            [
             0.8,
             "#7fbc41"
            ],
            [
             0.9,
             "#4d9221"
            ],
            [
             1,
             "#276419"
            ]
           ],
           "sequential": [
            [
             0,
             "#0d0887"
            ],
            [
             0.1111111111111111,
             "#46039f"
            ],
            [
             0.2222222222222222,
             "#7201a8"
            ],
            [
             0.3333333333333333,
             "#9c179e"
            ],
            [
             0.4444444444444444,
             "#bd3786"
            ],
            [
             0.5555555555555556,
             "#d8576b"
            ],
            [
             0.6666666666666666,
             "#ed7953"
            ],
            [
             0.7777777777777778,
             "#fb9f3a"
            ],
            [
             0.8888888888888888,
             "#fdca26"
            ],
            [
             1,
             "#f0f921"
            ]
           ],
           "sequentialminus": [
            [
             0,
             "#0d0887"
            ],
            [
             0.1111111111111111,
             "#46039f"
            ],
            [
             0.2222222222222222,
             "#7201a8"
            ],
            [
             0.3333333333333333,
             "#9c179e"
            ],
            [
             0.4444444444444444,
             "#bd3786"
            ],
            [
             0.5555555555555556,
             "#d8576b"
            ],
            [
             0.6666666666666666,
             "#ed7953"
            ],
            [
             0.7777777777777778,
             "#fb9f3a"
            ],
            [
             0.8888888888888888,
             "#fdca26"
            ],
            [
             1,
             "#f0f921"
            ]
           ]
          },
          "colorway": [
           "#636efa",
           "#EF553B",
           "#00cc96",
           "#ab63fa",
           "#FFA15A",
           "#19d3f3",
           "#FF6692",
           "#B6E880",
           "#FF97FF",
           "#FECB52"
          ],
          "font": {
           "color": "#2a3f5f"
          },
          "geo": {
           "bgcolor": "white",
           "lakecolor": "white",
           "landcolor": "#E5ECF6",
           "showlakes": true,
           "showland": true,
           "subunitcolor": "white"
          },
          "hoverlabel": {
           "align": "left"
          },
          "hovermode": "closest",
          "mapbox": {
           "style": "light"
          },
          "paper_bgcolor": "white",
          "plot_bgcolor": "#E5ECF6",
          "polar": {
           "angularaxis": {
            "gridcolor": "white",
            "linecolor": "white",
            "ticks": ""
           },
           "bgcolor": "#E5ECF6",
           "radialaxis": {
            "gridcolor": "white",
            "linecolor": "white",
            "ticks": ""
           }
          },
          "scene": {
           "xaxis": {
            "backgroundcolor": "#E5ECF6",
            "gridcolor": "white",
            "gridwidth": 2,
            "linecolor": "white",
            "showbackground": true,
            "ticks": "",
            "zerolinecolor": "white"
           },
           "yaxis": {
            "backgroundcolor": "#E5ECF6",
            "gridcolor": "white",
            "gridwidth": 2,
            "linecolor": "white",
            "showbackground": true,
            "ticks": "",
            "zerolinecolor": "white"
           },
           "zaxis": {
            "backgroundcolor": "#E5ECF6",
            "gridcolor": "white",
            "gridwidth": 2,
            "linecolor": "white",
            "showbackground": true,
            "ticks": "",
            "zerolinecolor": "white"
           }
          },
          "shapedefaults": {
           "line": {
            "color": "#2a3f5f"
           }
          },
          "ternary": {
           "aaxis": {
            "gridcolor": "white",
            "linecolor": "white",
            "ticks": ""
           },
           "baxis": {
            "gridcolor": "white",
            "linecolor": "white",
            "ticks": ""
           },
           "bgcolor": "#E5ECF6",
           "caxis": {
            "gridcolor": "white",
            "linecolor": "white",
            "ticks": ""
           }
          },
          "title": {
           "x": 0.05
          },
          "xaxis": {
           "automargin": true,
           "gridcolor": "white",
           "linecolor": "white",
           "ticks": "",
           "zerolinecolor": "white",
           "zerolinewidth": 2
          },
          "yaxis": {
           "automargin": true,
           "gridcolor": "white",
           "linecolor": "white",
           "ticks": "",
           "zerolinecolor": "white",
           "zerolinewidth": 2
          }
         }
        },
        "title": {
         "text": "TorsionDriveDataset 1-D Plot [spec=B3LYP-D3]"
        },
        "xaxis": {
         "range": [
          -175,
          190
         ],
         "title": {
          "text": "Dihedral Angle [degrees]"
         },
         "zeroline": false
        },
        "yaxis": {
         "title": {
          "text": "Relative Energy [kJ / mol]"
         },
         "zeroline": true
        }
       }
      },
      "text/html": [
       "<div>\n",
       "        \n",
       "        \n",
       "            <div id=\"75ddb078-7249-4c7a-a660-9d9ddff8341d\" class=\"plotly-graph-div\" style=\"height:525px; width:100%;\"></div>\n",
       "            <script type=\"text/javascript\">\n",
       "                require([\"plotly\"], function(Plotly) {\n",
       "                    window.PLOTLYENV=window.PLOTLYENV || {};\n",
       "                    \n",
       "                if (document.getElementById(\"75ddb078-7249-4c7a-a660-9d9ddff8341d\")) {\n",
       "                    Plotly.newPlot(\n",
       "                        '75ddb078-7249-4c7a-a660-9d9ddff8341d',\n",
       "                        [{\"mode\": \"lines+markers\", \"name\": \"[CH3:4][O:3][c:2]1[cH:1]cccc1\", \"type\": \"scatter\", \"x\": [-165, -150, -135, -120, -105, -90, -75, -60, -45, -30, -15, 0, 15, 30, 45, 60, 75, 90, 105, 120, 135, 150, 165, 180], \"y\": [1.371, 5.132, 9.891, 12.92, 14.032, 14.394, 13.921, 12.638, 9.364, 4.74, 1.24, 0.0, 1.24, 4.74, 9.364, 12.638, 13.921, 14.394, 14.032, 12.92, 9.891, 5.132, 1.371, 0.0]}, {\"mode\": \"lines+markers\", \"name\": \"[CH3:4][O:3][c:2]1[cH:1]ccnc1\", \"type\": \"scatter\", \"x\": [-165, -150, -135, -120, -105, -90, -75, -60, -45, -30, -15, 0, 15, 30, 45, 60, 75, 90, 105, 120, 135, 150, 165, 180], \"y\": [1.409, 5.27, 10.236, 13.445, 14.483, 14.793, 14.275, 12.917, 9.7, 5.137, 1.619, 0.361, 1.619, 5.137, 9.7, 12.917, 14.275, 14.793, 14.483, 13.445, 10.236, 5.27, 1.409, 0.0]}],\n",
       "                        {\"template\": {\"data\": {\"bar\": [{\"error_x\": {\"color\": \"#2a3f5f\"}, \"error_y\": {\"color\": \"#2a3f5f\"}, \"marker\": {\"line\": {\"color\": \"#E5ECF6\", \"width\": 0.5}}, \"type\": \"bar\"}], \"barpolar\": [{\"marker\": {\"line\": {\"color\": \"#E5ECF6\", \"width\": 0.5}}, \"type\": \"barpolar\"}], \"carpet\": [{\"aaxis\": {\"endlinecolor\": \"#2a3f5f\", \"gridcolor\": \"white\", \"linecolor\": \"white\", \"minorgridcolor\": \"white\", \"startlinecolor\": \"#2a3f5f\"}, \"baxis\": {\"endlinecolor\": \"#2a3f5f\", \"gridcolor\": \"white\", \"linecolor\": \"white\", \"minorgridcolor\": \"white\", \"startlinecolor\": \"#2a3f5f\"}, \"type\": \"carpet\"}], \"choropleth\": [{\"colorbar\": {\"outlinewidth\": 0, \"ticks\": \"\"}, \"type\": \"choropleth\"}], \"contour\": [{\"colorbar\": {\"outlinewidth\": 0, \"ticks\": \"\"}, \"colorscale\": [[0.0, \"#0d0887\"], [0.1111111111111111, \"#46039f\"], [0.2222222222222222, \"#7201a8\"], [0.3333333333333333, \"#9c179e\"], [0.4444444444444444, \"#bd3786\"], [0.5555555555555556, \"#d8576b\"], [0.6666666666666666, \"#ed7953\"], [0.7777777777777778, \"#fb9f3a\"], [0.8888888888888888, \"#fdca26\"], [1.0, \"#f0f921\"]], \"type\": \"contour\"}], \"contourcarpet\": [{\"colorbar\": {\"outlinewidth\": 0, \"ticks\": \"\"}, \"type\": \"contourcarpet\"}], \"heatmap\": [{\"colorbar\": {\"outlinewidth\": 0, \"ticks\": \"\"}, \"colorscale\": [[0.0, \"#0d0887\"], [0.1111111111111111, \"#46039f\"], [0.2222222222222222, \"#7201a8\"], [0.3333333333333333, \"#9c179e\"], [0.4444444444444444, \"#bd3786\"], [0.5555555555555556, \"#d8576b\"], [0.6666666666666666, \"#ed7953\"], [0.7777777777777778, \"#fb9f3a\"], [0.8888888888888888, \"#fdca26\"], [1.0, \"#f0f921\"]], \"type\": \"heatmap\"}], \"heatmapgl\": [{\"colorbar\": {\"outlinewidth\": 0, \"ticks\": \"\"}, \"colorscale\": [[0.0, \"#0d0887\"], [0.1111111111111111, \"#46039f\"], [0.2222222222222222, \"#7201a8\"], [0.3333333333333333, \"#9c179e\"], [0.4444444444444444, \"#bd3786\"], [0.5555555555555556, \"#d8576b\"], [0.6666666666666666, \"#ed7953\"], [0.7777777777777778, \"#fb9f3a\"], [0.8888888888888888, \"#fdca26\"], [1.0, \"#f0f921\"]], \"type\": \"heatmapgl\"}], \"histogram\": [{\"marker\": {\"colorbar\": {\"outlinewidth\": 0, \"ticks\": \"\"}}, \"type\": \"histogram\"}], \"histogram2d\": [{\"colorbar\": {\"outlinewidth\": 0, \"ticks\": \"\"}, \"colorscale\": [[0.0, \"#0d0887\"], [0.1111111111111111, \"#46039f\"], [0.2222222222222222, \"#7201a8\"], [0.3333333333333333, \"#9c179e\"], [0.4444444444444444, \"#bd3786\"], [0.5555555555555556, \"#d8576b\"], [0.6666666666666666, \"#ed7953\"], [0.7777777777777778, \"#fb9f3a\"], [0.8888888888888888, \"#fdca26\"], [1.0, \"#f0f921\"]], \"type\": \"histogram2d\"}], \"histogram2dcontour\": [{\"colorbar\": {\"outlinewidth\": 0, \"ticks\": \"\"}, \"colorscale\": [[0.0, \"#0d0887\"], [0.1111111111111111, \"#46039f\"], [0.2222222222222222, \"#7201a8\"], [0.3333333333333333, \"#9c179e\"], [0.4444444444444444, \"#bd3786\"], [0.5555555555555556, \"#d8576b\"], [0.6666666666666666, \"#ed7953\"], [0.7777777777777778, \"#fb9f3a\"], [0.8888888888888888, \"#fdca26\"], [1.0, \"#f0f921\"]], \"type\": \"histogram2dcontour\"}], \"mesh3d\": [{\"colorbar\": {\"outlinewidth\": 0, \"ticks\": \"\"}, \"type\": \"mesh3d\"}], \"parcoords\": [{\"line\": {\"colorbar\": {\"outlinewidth\": 0, \"ticks\": \"\"}}, \"type\": \"parcoords\"}], \"scatter\": [{\"marker\": {\"colorbar\": {\"outlinewidth\": 0, \"ticks\": \"\"}}, \"type\": \"scatter\"}], \"scatter3d\": [{\"line\": {\"colorbar\": {\"outlinewidth\": 0, \"ticks\": \"\"}}, \"marker\": {\"colorbar\": {\"outlinewidth\": 0, \"ticks\": \"\"}}, \"type\": \"scatter3d\"}], \"scattercarpet\": [{\"marker\": {\"colorbar\": {\"outlinewidth\": 0, \"ticks\": \"\"}}, \"type\": \"scattercarpet\"}], \"scattergeo\": [{\"marker\": {\"colorbar\": {\"outlinewidth\": 0, \"ticks\": \"\"}}, \"type\": \"scattergeo\"}], \"scattergl\": [{\"marker\": {\"colorbar\": {\"outlinewidth\": 0, \"ticks\": \"\"}}, \"type\": \"scattergl\"}], \"scattermapbox\": [{\"marker\": {\"colorbar\": {\"outlinewidth\": 0, \"ticks\": \"\"}}, \"type\": \"scattermapbox\"}], \"scatterpolar\": [{\"marker\": {\"colorbar\": {\"outlinewidth\": 0, \"ticks\": \"\"}}, \"type\": \"scatterpolar\"}], \"scatterpolargl\": [{\"marker\": {\"colorbar\": {\"outlinewidth\": 0, \"ticks\": \"\"}}, \"type\": \"scatterpolargl\"}], \"scatterternary\": [{\"marker\": {\"colorbar\": {\"outlinewidth\": 0, \"ticks\": \"\"}}, \"type\": \"scatterternary\"}], \"surface\": [{\"colorbar\": {\"outlinewidth\": 0, \"ticks\": \"\"}, \"colorscale\": [[0.0, \"#0d0887\"], [0.1111111111111111, \"#46039f\"], [0.2222222222222222, \"#7201a8\"], [0.3333333333333333, \"#9c179e\"], [0.4444444444444444, \"#bd3786\"], [0.5555555555555556, \"#d8576b\"], [0.6666666666666666, \"#ed7953\"], [0.7777777777777778, \"#fb9f3a\"], [0.8888888888888888, \"#fdca26\"], [1.0, \"#f0f921\"]], \"type\": \"surface\"}], \"table\": [{\"cells\": {\"fill\": {\"color\": \"#EBF0F8\"}, \"line\": {\"color\": \"white\"}}, \"header\": {\"fill\": {\"color\": \"#C8D4E3\"}, \"line\": {\"color\": \"white\"}}, \"type\": \"table\"}]}, \"layout\": {\"annotationdefaults\": {\"arrowcolor\": \"#2a3f5f\", \"arrowhead\": 0, \"arrowwidth\": 1}, \"colorscale\": {\"diverging\": [[0, \"#8e0152\"], [0.1, \"#c51b7d\"], [0.2, \"#de77ae\"], [0.3, \"#f1b6da\"], [0.4, \"#fde0ef\"], [0.5, \"#f7f7f7\"], [0.6, \"#e6f5d0\"], [0.7, \"#b8e186\"], [0.8, \"#7fbc41\"], [0.9, \"#4d9221\"], [1, \"#276419\"]], \"sequential\": [[0.0, \"#0d0887\"], [0.1111111111111111, \"#46039f\"], [0.2222222222222222, \"#7201a8\"], [0.3333333333333333, \"#9c179e\"], [0.4444444444444444, \"#bd3786\"], [0.5555555555555556, \"#d8576b\"], [0.6666666666666666, \"#ed7953\"], [0.7777777777777778, \"#fb9f3a\"], [0.8888888888888888, \"#fdca26\"], [1.0, \"#f0f921\"]], \"sequentialminus\": [[0.0, \"#0d0887\"], [0.1111111111111111, \"#46039f\"], [0.2222222222222222, \"#7201a8\"], [0.3333333333333333, \"#9c179e\"], [0.4444444444444444, \"#bd3786\"], [0.5555555555555556, \"#d8576b\"], [0.6666666666666666, \"#ed7953\"], [0.7777777777777778, \"#fb9f3a\"], [0.8888888888888888, \"#fdca26\"], [1.0, \"#f0f921\"]]}, \"colorway\": [\"#636efa\", \"#EF553B\", \"#00cc96\", \"#ab63fa\", \"#FFA15A\", \"#19d3f3\", \"#FF6692\", \"#B6E880\", \"#FF97FF\", \"#FECB52\"], \"font\": {\"color\": \"#2a3f5f\"}, \"geo\": {\"bgcolor\": \"white\", \"lakecolor\": \"white\", \"landcolor\": \"#E5ECF6\", \"showlakes\": true, \"showland\": true, \"subunitcolor\": \"white\"}, \"hoverlabel\": {\"align\": \"left\"}, \"hovermode\": \"closest\", \"mapbox\": {\"style\": \"light\"}, \"paper_bgcolor\": \"white\", \"plot_bgcolor\": \"#E5ECF6\", \"polar\": {\"angularaxis\": {\"gridcolor\": \"white\", \"linecolor\": \"white\", \"ticks\": \"\"}, \"bgcolor\": \"#E5ECF6\", \"radialaxis\": {\"gridcolor\": \"white\", \"linecolor\": \"white\", \"ticks\": \"\"}}, \"scene\": {\"xaxis\": {\"backgroundcolor\": \"#E5ECF6\", \"gridcolor\": \"white\", \"gridwidth\": 2, \"linecolor\": \"white\", \"showbackground\": true, \"ticks\": \"\", \"zerolinecolor\": \"white\"}, \"yaxis\": {\"backgroundcolor\": \"#E5ECF6\", \"gridcolor\": \"white\", \"gridwidth\": 2, \"linecolor\": \"white\", \"showbackground\": true, \"ticks\": \"\", \"zerolinecolor\": \"white\"}, \"zaxis\": {\"backgroundcolor\": \"#E5ECF6\", \"gridcolor\": \"white\", \"gridwidth\": 2, \"linecolor\": \"white\", \"showbackground\": true, \"ticks\": \"\", \"zerolinecolor\": \"white\"}}, \"shapedefaults\": {\"line\": {\"color\": \"#2a3f5f\"}}, \"ternary\": {\"aaxis\": {\"gridcolor\": \"white\", \"linecolor\": \"white\", \"ticks\": \"\"}, \"baxis\": {\"gridcolor\": \"white\", \"linecolor\": \"white\", \"ticks\": \"\"}, \"bgcolor\": \"#E5ECF6\", \"caxis\": {\"gridcolor\": \"white\", \"linecolor\": \"white\", \"ticks\": \"\"}}, \"title\": {\"x\": 0.05}, \"xaxis\": {\"automargin\": true, \"gridcolor\": \"white\", \"linecolor\": \"white\", \"ticks\": \"\", \"zerolinecolor\": \"white\", \"zerolinewidth\": 2}, \"yaxis\": {\"automargin\": true, \"gridcolor\": \"white\", \"linecolor\": \"white\", \"ticks\": \"\", \"zerolinecolor\": \"white\", \"zerolinewidth\": 2}}}, \"title\": {\"text\": \"TorsionDriveDataset 1-D Plot [spec=B3LYP-D3]\"}, \"xaxis\": {\"range\": [-175, 190], \"title\": {\"text\": \"Dihedral Angle [degrees]\"}, \"zeroline\": false}, \"yaxis\": {\"title\": {\"text\": \"Relative Energy [kJ / mol]\"}, \"zeroline\": true}},\n",
       "                        {\"responsive\": true}\n",
       "                    ).then(function(){\n",
       "                            \n",
       "var gd = document.getElementById('75ddb078-7249-4c7a-a660-9d9ddff8341d');\n",
       "var x = new MutationObserver(function (mutations, observer) {{\n",
       "        var display = window.getComputedStyle(gd).display;\n",
       "        if (!display || display === 'none') {{\n",
       "            console.log([gd, 'removed!']);\n",
       "            Plotly.purge(gd);\n",
       "            observer.disconnect();\n",
       "        }}\n",
       "}});\n",
       "\n",
       "// Listen for the removal of the full notebook cells\n",
       "var notebookContainer = gd.closest('#notebook-container');\n",
       "if (notebookContainer) {{\n",
       "    x.observe(notebookContainer, {childList: true});\n",
       "}}\n",
       "\n",
       "// Listen for the clearing of the current output cell\n",
       "var outputEl = gd.closest('.output');\n",
       "if (outputEl) {{\n",
       "    x.observe(outputEl, {childList: true});\n",
       "}}\n",
       "\n",
       "                        })\n",
       "                };\n",
       "                });\n",
       "            </script>\n",
       "        </div>"
      ]
     },
     "metadata": {},
     "output_type": "display_data"
    }
   ],
   "source": [
    "ds.visualize([\"[CH3:4][O:3][c:2]1[cH:1]cccc1\", \"[CH3:4][O:3][c:2]1[cH:1]ccnc1\"], \"B3LYP-D3\", units=\"kJ / mol\")"
   ]
  },
  {
   "cell_type": "markdown",
   "metadata": {},
   "source": [
    "## Computational Requirements\n",
    "\n",
    "We can check the number of optimizations and individual gradient evaluations by using the ``count`` method. \n",
    "By default, the ``count`` method shows the number of individual geometry optimizations:"
   ]
  },
  {
   "cell_type": "code",
   "execution_count": 9,
   "metadata": {},
   "outputs": [
    {
     "data": {
      "text/html": [
       "<div>\n",
       "<style scoped>\n",
       "    .dataframe tbody tr th:only-of-type {\n",
       "        vertical-align: middle;\n",
       "    }\n",
       "\n",
       "    .dataframe tbody tr th {\n",
       "        vertical-align: top;\n",
       "    }\n",
       "\n",
       "    .dataframe thead th {\n",
       "        text-align: right;\n",
       "    }\n",
       "</style>\n",
       "<table border=\"1\" class=\"dataframe\">\n",
       "  <thead>\n",
       "    <tr style=\"text-align: right;\">\n",
       "      <th></th>\n",
       "      <th>UFF</th>\n",
       "      <th>B3LYP-D3</th>\n",
       "    </tr>\n",
       "  </thead>\n",
       "  <tbody>\n",
       "    <tr>\n",
       "      <td>[CH3:4][O:3][c:2]1[cH:1]cccc1</td>\n",
       "      <td>49</td>\n",
       "      <td>49</td>\n",
       "    </tr>\n",
       "    <tr>\n",
       "      <td>[CH3:4][O:3][c:2]1[cH:1]ccnc1</td>\n",
       "      <td>49</td>\n",
       "      <td>53</td>\n",
       "    </tr>\n",
       "  </tbody>\n",
       "</table>\n",
       "</div>"
      ],
      "text/plain": [
       "                               UFF  B3LYP-D3\n",
       "[CH3:4][O:3][c:2]1[cH:1]cccc1   49        49\n",
       "[CH3:4][O:3][c:2]1[cH:1]ccnc1   49        53"
      ]
     },
     "execution_count": 9,
     "metadata": {},
     "output_type": "execute_result"
    }
   ],
   "source": [
    "ds.counts([\"[CH3:4][O:3][c:2]1[cH:1]cccc1\", \"[CH3:4][O:3][c:2]1[cH:1]ccnc1\"])"
   ]
  },
  {
   "cell_type": "markdown",
   "metadata": {},
   "source": [
    "In addition to individual optimization runs, we can also find a sum of how many gradient evaluations were performed in the course of the run."
   ]
  },
  {
   "cell_type": "code",
   "execution_count": 10,
   "metadata": {},
   "outputs": [
    {
     "data": {
      "text/html": [
       "<div>\n",
       "<style scoped>\n",
       "    .dataframe tbody tr th:only-of-type {\n",
       "        vertical-align: middle;\n",
       "    }\n",
       "\n",
       "    .dataframe tbody tr th {\n",
       "        vertical-align: top;\n",
       "    }\n",
       "\n",
       "    .dataframe thead th {\n",
       "        text-align: right;\n",
       "    }\n",
       "</style>\n",
       "<table border=\"1\" class=\"dataframe\">\n",
       "  <thead>\n",
       "    <tr style=\"text-align: right;\">\n",
       "      <th></th>\n",
       "      <th>UFF</th>\n",
       "      <th>B3LYP-D3</th>\n",
       "    </tr>\n",
       "  </thead>\n",
       "  <tbody>\n",
       "    <tr>\n",
       "      <td>[CH3:4][O:3][c:2]1[cH:1]cccc1</td>\n",
       "      <td>606</td>\n",
       "      <td>601</td>\n",
       "    </tr>\n",
       "    <tr>\n",
       "      <td>[CH3:4][O:3][c:2]1[cH:1]ccnc1</td>\n",
       "      <td>538</td>\n",
       "      <td>680</td>\n",
       "    </tr>\n",
       "  </tbody>\n",
       "</table>\n",
       "</div>"
      ],
      "text/plain": [
       "                               UFF  B3LYP-D3\n",
       "[CH3:4][O:3][c:2]1[cH:1]cccc1  606       601\n",
       "[CH3:4][O:3][c:2]1[cH:1]ccnc1  538       680"
      ]
     },
     "execution_count": 10,
     "metadata": {},
     "output_type": "execute_result"
    }
   ],
   "source": [
    "ds.counts([\"[CH3:4][O:3][c:2]1[cH:1]cccc1\", \"[CH3:4][O:3][c:2]1[cH:1]ccnc1\"], count_gradients=True)"
   ]
  },
  {
   "cell_type": "markdown",
   "metadata": {},
   "source": [
    "## Deep data inspection\n",
    "\n",
    "The TorsionDriveDataset also allows exploration of every single computation and molecule created during the individual TorsionDrive executions. Examples below this point will only be for those who wish to explore all of the individual computations in a TorsionDrive Dataset.\n",
    "\n",
    "These TorsionDrive Datasets are different from canonical ``ReactionDataset`` and ``Dataset`` collections as each item in the underlying Pandas DataFrame is a TorsionDriveRecord object which contains links to all data used in the TorsionDrive. We can observe the these in the underlying DataFrame:"
   ]
  },
  {
   "cell_type": "code",
   "execution_count": 11,
   "metadata": {},
   "outputs": [
    {
     "data": {
      "text/html": [
       "<div>\n",
       "<style scoped>\n",
       "    .dataframe tbody tr th:only-of-type {\n",
       "        vertical-align: middle;\n",
       "    }\n",
       "\n",
       "    .dataframe tbody tr th {\n",
       "        vertical-align: top;\n",
       "    }\n",
       "\n",
       "    .dataframe thead th {\n",
       "        text-align: right;\n",
       "    }\n",
       "</style>\n",
       "<table border=\"1\" class=\"dataframe\">\n",
       "  <thead>\n",
       "    <tr style=\"text-align: right;\">\n",
       "      <th></th>\n",
       "      <th>UFF</th>\n",
       "      <th>B3LYP-D3</th>\n",
       "    </tr>\n",
       "  </thead>\n",
       "  <tbody>\n",
       "    <tr>\n",
       "      <td>c1c[cH:1][c:2](cc1)[C:3](=[O:4])O</td>\n",
       "      <td>id=1761595 hash_index=973a82dee50895e16d0a1099...</td>\n",
       "      <td>id=1761822 hash_index=028379f6fcec47dd5a41b7c4...</td>\n",
       "    </tr>\n",
       "    <tr>\n",
       "      <td>c1[cH:1][c:2](cnc1)[C:3](=[O:4])O</td>\n",
       "      <td>id=1761596 hash_index=52cd24c390a25eee94e2ce1b...</td>\n",
       "      <td>id=1761823 hash_index=205e930c36ae28eb2dd5153d...</td>\n",
       "    </tr>\n",
       "    <tr>\n",
       "      <td>[cH:1]1cncc[c:2]1[C:3](=[O:4])O</td>\n",
       "      <td>id=1761597 hash_index=50db63b5d61dbaa0b326d588...</td>\n",
       "      <td>id=1761824 hash_index=381175f46c75a36d1bdec6c2...</td>\n",
       "    </tr>\n",
       "    <tr>\n",
       "      <td>[cH:1]1cc(nc[c:2]1[C:3](=[O:4])O)[O-]</td>\n",
       "      <td>id=1761598 hash_index=aa028d05f9aac9984667e4e2...</td>\n",
       "      <td>id=1761825 hash_index=f11d261f1ba21ac280706a36...</td>\n",
       "    </tr>\n",
       "    <tr>\n",
       "      <td>Cc1c[cH:1][c:2](cn1)[C:3](=[O:4])O</td>\n",
       "      <td>id=1761599 hash_index=16aeb7c248405ebd9ea1d117...</td>\n",
       "      <td>id=1761826 hash_index=93cf4b08356a79aef7f70be6...</td>\n",
       "    </tr>\n",
       "  </tbody>\n",
       "</table>\n",
       "</div>"
      ],
      "text/plain": [
       "                                                                                     UFF  \\\n",
       "c1c[cH:1][c:2](cc1)[C:3](=[O:4])O      id=1761595 hash_index=973a82dee50895e16d0a1099...   \n",
       "c1[cH:1][c:2](cnc1)[C:3](=[O:4])O      id=1761596 hash_index=52cd24c390a25eee94e2ce1b...   \n",
       "[cH:1]1cncc[c:2]1[C:3](=[O:4])O        id=1761597 hash_index=50db63b5d61dbaa0b326d588...   \n",
       "[cH:1]1cc(nc[c:2]1[C:3](=[O:4])O)[O-]  id=1761598 hash_index=aa028d05f9aac9984667e4e2...   \n",
       "Cc1c[cH:1][c:2](cn1)[C:3](=[O:4])O     id=1761599 hash_index=16aeb7c248405ebd9ea1d117...   \n",
       "\n",
       "                                                                                B3LYP-D3  \n",
       "c1c[cH:1][c:2](cc1)[C:3](=[O:4])O      id=1761822 hash_index=028379f6fcec47dd5a41b7c4...  \n",
       "c1[cH:1][c:2](cnc1)[C:3](=[O:4])O      id=1761823 hash_index=205e930c36ae28eb2dd5153d...  \n",
       "[cH:1]1cncc[c:2]1[C:3](=[O:4])O        id=1761824 hash_index=381175f46c75a36d1bdec6c2...  \n",
       "[cH:1]1cc(nc[c:2]1[C:3](=[O:4])O)[O-]  id=1761825 hash_index=f11d261f1ba21ac280706a36...  \n",
       "Cc1c[cH:1][c:2](cn1)[C:3](=[O:4])O     id=1761826 hash_index=93cf4b08356a79aef7f70be6...  "
      ]
     },
     "execution_count": 11,
     "metadata": {},
     "output_type": "execute_result"
    }
   ],
   "source": [
    "ds.df.head()"
   ]
  },
  {
   "cell_type": "markdown",
   "metadata": {},
   "source": [
    "We can then begin to explore an individual TorsionDriveRecord by first pulling it from the DataFrame:"
   ]
  },
  {
   "cell_type": "code",
   "execution_count": 12,
   "metadata": {},
   "outputs": [],
   "source": [
    "td = ds.df.loc[\"[CH3:4][O:3][c:2]1[cH:1]cccc1\", \"B3LYP-D3\"]"
   ]
  },
  {
   "cell_type": "markdown",
   "metadata": {},
   "source": [
    "We can then request a variety of attributes off this TorsionDriveRecord:"
   ]
  },
  {
   "cell_type": "code",
   "execution_count": 13,
   "metadata": {},
   "outputs": [
    {
     "name": "stdout",
     "output_type": "stream",
     "text": [
      "Torsion of interest                : [(3, 5, 7, 6)]\n",
      "Final optimization energy in hartree: -346.5319986074462\n"
     ]
    }
   ],
   "source": [
    "print(\"Torsion of interest                : {}\".format(td.keywords.dihedrals))\n",
    "print(\"Final optimization energy in hartree: {}\".format(td.get_final_energies(180)))"
   ]
  },
  {
   "cell_type": "code",
   "execution_count": 14,
   "metadata": {},
   "outputs": [
    {
     "data": {
      "application/vnd.jupyter.widget-view+json": {
       "model_id": "9a211d2dd67a45d5a367b1bd7171b379",
       "version_major": 2,
       "version_minor": 0
      },
      "text/plain": [
       "_ColormakerRegistry()"
      ]
     },
     "metadata": {},
     "output_type": "display_data"
    },
    {
     "data": {
      "application/vnd.jupyter.widget-view+json": {
       "model_id": "6596c3fce31d4891b620dfa0baa2c5c5",
       "version_major": 2,
       "version_minor": 0
      },
      "text/plain": [
       "NGLWidget()"
      ]
     },
     "metadata": {},
     "output_type": "display_data"
    }
   ],
   "source": [
    "td.get_final_molecules(90)"
   ]
  },
  {
   "cell_type": "markdown",
   "metadata": {},
   "source": [
    "The `Molecule` object has a `measure` attribute so that we check the dihedral angle is in fact 180 degrees."
   ]
  },
  {
   "cell_type": "code",
   "execution_count": 15,
   "metadata": {},
   "outputs": [
    {
     "data": {
      "text/plain": [
       "'3-5-7-6 dihedral in degrees: 179.99999995886662'"
      ]
     },
     "execution_count": 15,
     "metadata": {},
     "output_type": "execute_result"
    }
   ],
   "source": [
    "\"3-5-7-6 dihedral in degrees: {}\".format(td.get_final_molecules(180).measure([3, 5, 7, 6]))"
   ]
  },
  {
   "cell_type": "markdown",
   "metadata": {},
   "source": [
    "You can also get a dictionary of all final molecules:"
   ]
  },
  {
   "cell_type": "code",
   "execution_count": 16,
   "metadata": {},
   "outputs": [
    {
     "data": {
      "text/plain": [
       "{(-90,): Molecule(schema_name=qcschema_molecule, schema_version=2, validated=True, symbols=['C' 'C' 'C' 'C' 'C' 'C' 'C' 'O' 'H' 'H' 'H' 'H' 'H' 'H' 'H' 'H'], geometry=[[ 3.40718507 -2.21840696 -0.22958297]\n",
       "  [ 4.97493788 -3.48334777  1.48334476]\n",
       "  [ 1.7716505  -0.3298455   0.63640014]\n",
       "  [ 4.90787611 -2.87176474  4.05190433]\n",
       "  [ 1.69441113  0.29082009  3.20260133]\n",
       "  [ 3.26680019 -0.98070424  4.91013927]\n",
       "  [ 1.5337185  -1.70492748  8.94696498]\n",
       "  [ 3.24498132 -0.32624151  7.42021119]\n",
       "  [ 3.46717648 -2.69676568 -2.23750076]\n",
       "  [ 6.26600112 -4.95093418  0.81459893]\n",
       "  [ 0.55229994  0.67321911 -0.69586245]\n",
       "  [ 6.13043938 -3.82147864  5.41754483]\n",
       "  [ 0.44593371  1.77186336  3.91617642]\n",
       "  [ 1.72079846 -0.98831032 10.88831694]\n",
       "  [ 1.96264592 -3.7518771   8.93520479]\n",
       "  [-0.44384326 -1.44836098  8.3163972 ]], name=C7H8O, identifiers={'molecule_hash': '34e0a1476c201686f17fe576609083dc7d8bb187', 'molecular_formula': 'C7H8O', 'smiles': None, 'inchi': None, 'inchikey': None, 'canonical_explicit_hydrogen_smiles': None, 'canonical_isomeric_explicit_hydrogen_mapped_smiles': None, 'canonical_isomeric_explicit_hydrogen_smiles': None, 'canonical_isomeric_smiles': None, 'canonical_smiles': None}, comment=None, molecular_charge=0.0, molecular_multiplicity=1, masses=[12.         12.         12.         12.         12.         12.\n",
       "  12.         15.99491462  1.00782503  1.00782503  1.00782503  1.00782503\n",
       "   1.00782503  1.00782503  1.00782503  1.00782503], real=[ True  True  True  True  True  True  True  True  True  True  True  True\n",
       "   True  True  True  True], atom_labels=['' '' '' '' '' '' '' '' '' '' '' '' '' '' '' ''], atomic_numbers=[6 6 6 6 6 6 6 8 1 1 1 1 1 1 1 1], mass_numbers=[12 12 12 12 12 12 12 16  1  1  1  1  1  1  1  1], connectivity=[(0, 2, 2.0), (0, 1, 1.0), (0, 8, 1.0), (1, 3, 2.0), (1, 9, 1.0), (2, 4, 1.0), (2, 10, 1.0), (3, 5, 1.0), (3, 11, 1.0), (4, 5, 2.0), (4, 12, 1.0), (5, 7, 1.0), (6, 7, 1.0), (6, 13, 1.0), (6, 14, 1.0), (6, 15, 1.0)], fragments=[array([ 0,  1,  2,  3,  4,  5,  6,  7,  8,  9, 10, 11, 12, 13, 14, 15],\n",
       "       dtype=int32)], fragment_charges=[0.0], fragment_multiplicities=[1], fix_com=True, fix_orientation=True, fix_symmetry=None, provenance={'creator': 'QCElemental', 'version': 'v0.11.0', 'routine': 'qcelemental.molparse.from_schema'}, id=460608, extras=None),\n",
       " (180,): Molecule(schema_name=qcschema_molecule, schema_version=2, validated=True, symbols=['C' 'C' 'C' 'C' 'C' 'C' 'C' 'O' 'H' 'H' 'H' 'H' 'H' 'H' 'H' 'H'], geometry=[[ 3.61027365e+00 -1.98030605e+00 -3.18740370e-01]\n",
       "  [ 5.52088757e+00 -3.08165509e+00  1.14994779e+00]\n",
       "  [ 1.54199251e+00 -8.74617230e-01  8.85238100e-01]\n",
       "  [ 5.36125372e+00 -3.07470080e+00  3.77580127e+00]\n",
       "  [ 1.35317133e+00 -8.52024700e-01  3.52622139e+00]\n",
       "  [ 3.27349763e+00 -1.95850076e+00  4.98449807e+00]\n",
       "  [ 1.25868666e+00 -9.66527320e-01  8.90037066e+00]\n",
       "  [ 3.28505965e+00 -2.04442029e+00  7.55013272e+00]\n",
       "  [ 3.73979950e+00 -1.98801841e+00 -2.37887261e+00]\n",
       "  [ 7.15429448e+00 -3.95597241e+00  2.35669430e-01]\n",
       "  [ 3.66345200e-02 -7.97205000e-03 -2.33700310e-01]\n",
       "  [ 6.82865599e+00 -3.92206287e+00  4.95325767e+00]\n",
       "  [-2.84620420e-01  2.56175000e-02  4.41539709e+00]\n",
       "  [ 1.66683083e+00 -1.25550003e+00  1.09153783e+01]\n",
       "  [-5.62174440e-01 -1.88506626e+00  8.44355628e+00]\n",
       "  [ 1.07941944e+00  1.08370374e+00  8.53662357e+00]], name=C7H8O, identifiers={'molecule_hash': '454b9110a607f34201c736a791f2a438ef7eab3b', 'molecular_formula': 'C7H8O', 'smiles': None, 'inchi': None, 'inchikey': None, 'canonical_explicit_hydrogen_smiles': None, 'canonical_isomeric_explicit_hydrogen_mapped_smiles': None, 'canonical_isomeric_explicit_hydrogen_smiles': None, 'canonical_isomeric_smiles': None, 'canonical_smiles': None}, comment=None, molecular_charge=0.0, molecular_multiplicity=1, masses=[12.         12.         12.         12.         12.         12.\n",
       "  12.         15.99491462  1.00782503  1.00782503  1.00782503  1.00782503\n",
       "   1.00782503  1.00782503  1.00782503  1.00782503], real=[ True  True  True  True  True  True  True  True  True  True  True  True\n",
       "   True  True  True  True], atom_labels=['' '' '' '' '' '' '' '' '' '' '' '' '' '' '' ''], atomic_numbers=[6 6 6 6 6 6 6 8 1 1 1 1 1 1 1 1], mass_numbers=[12 12 12 12 12 12 12 16  1  1  1  1  1  1  1  1], connectivity=[(0, 2, 2.0), (0, 1, 1.0), (0, 8, 1.0), (1, 3, 2.0), (1, 9, 1.0), (2, 4, 1.0), (2, 10, 1.0), (3, 5, 1.0), (3, 11, 1.0), (4, 5, 2.0), (4, 12, 1.0), (5, 7, 1.0), (6, 7, 1.0), (6, 13, 1.0), (6, 14, 1.0), (6, 15, 1.0)], fragments=[array([ 0,  1,  2,  3,  4,  5,  6,  7,  8,  9, 10, 11, 12, 13, 14, 15],\n",
       "       dtype=int32)], fragment_charges=[0.0], fragment_multiplicities=[1], fix_com=True, fix_orientation=True, fix_symmetry=None, provenance={'creator': 'QCElemental', 'version': 'v0.11.0', 'routine': 'qcelemental.molparse.from_schema'}, id=458506, extras=None),\n",
       " (135,): Molecule(schema_name=qcschema_molecule, schema_version=2, validated=True, symbols=['C' 'C' 'C' 'C' 'C' 'C' 'C' 'O' 'H' 'H' 'H' 'H' 'H' 'H' 'H' 'H'], geometry=[[ 3.71074266 -1.78005411 -0.28373136]\n",
       "  [ 5.60347076 -2.81108719  1.25014161]\n",
       "  [ 1.41712809 -1.04780261  0.80318487]\n",
       "  [ 5.2116725  -3.10100381  3.84211902]\n",
       "  [ 0.99788049 -1.34633653  3.39535384]\n",
       "  [ 2.89417641 -2.3994055   4.92058236]\n",
       "  [ 1.52117769 -0.80706242  8.90148939]\n",
       "  [ 2.60669985 -2.77544922  7.4566502 ]\n",
       "  [ 4.02516342 -1.54291228 -2.31039311]\n",
       "  [ 7.41160882 -3.37483763  0.42488076]\n",
       "  [-0.07297217 -0.23671814 -0.37601593]\n",
       "  [ 6.66649345 -3.88431511  5.0779687 ]\n",
       "  [-0.8050157  -0.78350122  4.22440334]\n",
       "  [ 1.86678347 -1.26394897 10.89874498]\n",
       "  [-0.5432106  -0.64765122  8.61880289]\n",
       "  [ 2.39551084  1.03754822  8.45893749]], name=C7H8O, identifiers={'molecule_hash': 'a181fc4f7143c3e59d6db6a67f68ec2d6dca7d01', 'molecular_formula': 'C7H8O', 'smiles': None, 'inchi': None, 'inchikey': None, 'canonical_explicit_hydrogen_smiles': None, 'canonical_isomeric_explicit_hydrogen_mapped_smiles': None, 'canonical_isomeric_explicit_hydrogen_smiles': None, 'canonical_isomeric_smiles': None, 'canonical_smiles': None}, comment=None, molecular_charge=0.0, molecular_multiplicity=1, masses=[12.         12.         12.         12.         12.         12.\n",
       "  12.         15.99491462  1.00782503  1.00782503  1.00782503  1.00782503\n",
       "   1.00782503  1.00782503  1.00782503  1.00782503], real=[ True  True  True  True  True  True  True  True  True  True  True  True\n",
       "   True  True  True  True], atom_labels=['' '' '' '' '' '' '' '' '' '' '' '' '' '' '' ''], atomic_numbers=[6 6 6 6 6 6 6 8 1 1 1 1 1 1 1 1], mass_numbers=[12 12 12 12 12 12 12 16  1  1  1  1  1  1  1  1], connectivity=[(0, 2, 2.0), (0, 1, 1.0), (0, 8, 1.0), (1, 3, 2.0), (1, 9, 1.0), (2, 4, 1.0), (2, 10, 1.0), (3, 5, 1.0), (3, 11, 1.0), (4, 5, 2.0), (4, 12, 1.0), (5, 7, 1.0), (6, 7, 1.0), (6, 13, 1.0), (6, 14, 1.0), (6, 15, 1.0)], fragments=[array([ 0,  1,  2,  3,  4,  5,  6,  7,  8,  9, 10, 11, 12, 13, 14, 15],\n",
       "       dtype=int32)], fragment_charges=[0.0], fragment_multiplicities=[1], fix_com=True, fix_orientation=True, fix_symmetry=None, provenance={'creator': 'QCElemental', 'version': 'v0.11.0', 'routine': 'qcelemental.molparse.from_schema'}, id=458654, extras=None),\n",
       " (165,): Molecule(schema_name=qcschema_molecule, schema_version=2, validated=True, symbols=['C' 'C' 'C' 'C' 'C' 'C' 'C' 'O' 'H' 'H' 'H' 'H' 'H' 'H' 'H' 'H'], geometry=[[ 3.65418749 -1.90093631 -0.31404815]\n",
       "  [ 5.56021506 -2.99808714  1.16271943]\n",
       "  [ 1.51514808 -0.91626636  0.87283114]\n",
       "  [ 5.32801018 -3.10570501  3.78188   ]\n",
       "  [ 1.25147303 -1.01602504  3.50484657]\n",
       "  [ 3.16118484 -2.13031622  4.97086769]\n",
       "  [ 1.31253922 -0.89145213  8.89765096]\n",
       "  [ 3.08963919 -2.33077078  7.53054258]\n",
       "  [ 3.84376413 -1.81267554 -2.36768675]\n",
       "  [ 7.25298638 -3.76720236  0.26197523]\n",
       "  [ 0.01480673 -0.0501931  -0.25324579]\n",
       "  [ 6.79530961 -3.94250746  4.9669548 ]\n",
       "  [-0.4400024  -0.23597809  4.38548001]\n",
       "  [ 1.7612165  -1.14516869 10.90913746]\n",
       "  [-0.64769987 -1.53804325  8.5690084 ]\n",
       "  [ 1.43117256  1.13977679  8.42246929]], name=C7H8O, identifiers={'molecule_hash': '2c67957d95a44c137d7746d2ecd1c4f28c655849', 'molecular_formula': 'C7H8O', 'smiles': None, 'inchi': None, 'inchikey': None, 'canonical_explicit_hydrogen_smiles': None, 'canonical_isomeric_explicit_hydrogen_mapped_smiles': None, 'canonical_isomeric_explicit_hydrogen_smiles': None, 'canonical_isomeric_smiles': None, 'canonical_smiles': None}, comment=None, molecular_charge=0.0, molecular_multiplicity=1, masses=[12.         12.         12.         12.         12.         12.\n",
       "  12.         15.99491462  1.00782503  1.00782503  1.00782503  1.00782503\n",
       "   1.00782503  1.00782503  1.00782503  1.00782503], real=[ True  True  True  True  True  True  True  True  True  True  True  True\n",
       "   True  True  True  True], atom_labels=['' '' '' '' '' '' '' '' '' '' '' '' '' '' '' ''], atomic_numbers=[6 6 6 6 6 6 6 8 1 1 1 1 1 1 1 1], mass_numbers=[12 12 12 12 12 12 12 16  1  1  1  1  1  1  1  1], connectivity=[(0, 2, 2.0), (0, 1, 1.0), (0, 8, 1.0), (1, 3, 2.0), (1, 9, 1.0), (2, 4, 1.0), (2, 10, 1.0), (3, 5, 1.0), (3, 11, 1.0), (4, 5, 2.0), (4, 12, 1.0), (5, 7, 1.0), (6, 7, 1.0), (6, 13, 1.0), (6, 14, 1.0), (6, 15, 1.0)], fragments=[array([ 0,  1,  2,  3,  4,  5,  6,  7,  8,  9, 10, 11, 12, 13, 14, 15],\n",
       "       dtype=int32)], fragment_charges=[0.0], fragment_multiplicities=[1], fix_com=True, fix_orientation=True, fix_symmetry=None, provenance={'creator': 'QCElemental', 'version': 'v0.11.0', 'routine': 'qcelemental.molparse.from_schema'}, id=458889, extras=None),\n",
       " (-165,): Molecule(schema_name=qcschema_molecule, schema_version=2, validated=True, symbols=['C' 'C' 'C' 'C' 'C' 'C' 'C' 'O' 'H' 'H' 'H' 'H' 'H' 'H' 'H' 'H'], geometry=[[ 3.56477391 -2.06268365 -0.31933034]\n",
       "  [ 5.46806545 -3.1646068   1.15740257]\n",
       "  [ 1.56234862 -0.83094627  0.87518466]\n",
       "  [ 5.36641548 -3.0359742   3.78393169]\n",
       "  [ 1.43705914 -0.68051491  3.51500416]\n",
       "  [ 3.35702811 -1.77598282  4.98183602]\n",
       "  [ 1.22152767 -1.05569795  8.89252899]\n",
       "  [ 3.42101743 -1.73127425  7.549176  ]\n",
       "  [ 3.64518515 -2.17194564 -2.37912539]\n",
       "  [ 7.04316019 -4.14656642  0.25010762]\n",
       "  [ 0.0611202   0.03347081 -0.2509852 ]\n",
       "  [ 6.82376306 -3.89074244  4.96846074]\n",
       "  [-0.14605238  0.29553537  4.40164763]\n",
       "  [ 1.62176362 -1.39719575 10.90124846]\n",
       "  [-0.42219723 -2.21053475  8.31784924]\n",
       "  [ 0.73508868  0.96218359  8.64722648]], name=C7H8O, identifiers={'molecule_hash': 'cf816486557e9146f6a71606f1c8ec975073de08', 'molecular_formula': 'C7H8O', 'smiles': None, 'inchi': None, 'inchikey': None, 'canonical_explicit_hydrogen_smiles': None, 'canonical_isomeric_explicit_hydrogen_mapped_smiles': None, 'canonical_isomeric_explicit_hydrogen_smiles': None, 'canonical_isomeric_smiles': None, 'canonical_smiles': None}, comment=None, molecular_charge=0.0, molecular_multiplicity=1, masses=[12.         12.         12.         12.         12.         12.\n",
       "  12.         15.99491462  1.00782503  1.00782503  1.00782503  1.00782503\n",
       "   1.00782503  1.00782503  1.00782503  1.00782503], real=[ True  True  True  True  True  True  True  True  True  True  True  True\n",
       "   True  True  True  True], atom_labels=['' '' '' '' '' '' '' '' '' '' '' '' '' '' '' ''], atomic_numbers=[6 6 6 6 6 6 6 8 1 1 1 1 1 1 1 1], mass_numbers=[12 12 12 12 12 12 12 16  1  1  1  1  1  1  1  1], connectivity=[(0, 2, 2.0), (0, 1, 1.0), (0, 8, 1.0), (1, 3, 2.0), (1, 9, 1.0), (2, 4, 1.0), (2, 10, 1.0), (3, 5, 1.0), (3, 11, 1.0), (4, 5, 2.0), (4, 12, 1.0), (5, 7, 1.0), (6, 7, 1.0), (6, 13, 1.0), (6, 14, 1.0), (6, 15, 1.0)], fragments=[array([ 0,  1,  2,  3,  4,  5,  6,  7,  8,  9, 10, 11, 12, 13, 14, 15],\n",
       "       dtype=int32)], fragment_charges=[0.0], fragment_multiplicities=[1], fix_com=True, fix_orientation=True, fix_symmetry=None, provenance={'creator': 'QCElemental', 'version': 'v0.11.0', 'routine': 'qcelemental.molparse.from_schema'}, id=458861, extras=None),\n",
       " (-135,): Molecule(schema_name=qcschema_molecule, schema_version=2, validated=True, symbols=['C' 'C' 'C' 'C' 'C' 'C' 'C' 'O' 'H' 'H' 'H' 'H' 'H' 'H' 'H' 'H'], geometry=[[ 3.491733   -2.17583439 -0.29637177]\n",
       "  [ 5.33054359 -3.30455675  1.23430153]\n",
       "  [ 1.62351776 -0.67457419  0.81459627]\n",
       "  [ 5.2991748  -2.94298239  3.84661412]\n",
       "  [ 1.58487459 -0.28523287  3.42824227]\n",
       "  [ 3.44443861 -1.4048686   4.9512827 ]\n",
       "  [ 1.26160538 -1.27722055  8.88669334]\n",
       "  [ 3.54307214 -1.08323406  7.50911694]\n",
       "  [ 3.51165624 -2.47088682 -2.33965283]\n",
       "  [ 6.79103733 -4.49672339  0.38935433]\n",
       "  [ 0.17567664  0.21298338 -0.36216721]\n",
       "  [ 6.70326276 -3.8180982   5.07954316]\n",
       "  [ 0.12784967  0.9028205   4.27685668]\n",
       "  [ 1.77954751 -1.42167327 10.89369992]\n",
       "  [ 0.17735948 -2.97500059  8.3345377 ]\n",
       "  [ 0.03575585  0.39865631  8.65060519]], name=C7H8O, identifiers={'molecule_hash': '8175d7667946055f7f16e5bb64997ab5fb0dfb17', 'molecular_formula': 'C7H8O', 'smiles': None, 'inchi': None, 'inchikey': None, 'canonical_explicit_hydrogen_smiles': None, 'canonical_isomeric_explicit_hydrogen_mapped_smiles': None, 'canonical_isomeric_explicit_hydrogen_smiles': None, 'canonical_isomeric_smiles': None, 'canonical_smiles': None}, comment=None, molecular_charge=0.0, molecular_multiplicity=1, masses=[12.         12.         12.         12.         12.         12.\n",
       "  12.         15.99491462  1.00782503  1.00782503  1.00782503  1.00782503\n",
       "   1.00782503  1.00782503  1.00782503  1.00782503], real=[ True  True  True  True  True  True  True  True  True  True  True  True\n",
       "   True  True  True  True], atom_labels=['' '' '' '' '' '' '' '' '' '' '' '' '' '' '' ''], atomic_numbers=[6 6 6 6 6 6 6 8 1 1 1 1 1 1 1 1], mass_numbers=[12 12 12 12 12 12 12 16  1  1  1  1  1  1  1  1], connectivity=[(0, 2, 2.0), (0, 1, 1.0), (0, 8, 1.0), (1, 3, 2.0), (1, 9, 1.0), (2, 4, 1.0), (2, 10, 1.0), (3, 5, 1.0), (3, 11, 1.0), (4, 5, 2.0), (4, 12, 1.0), (5, 7, 1.0), (6, 7, 1.0), (6, 13, 1.0), (6, 14, 1.0), (6, 15, 1.0)], fragments=[array([ 0,  1,  2,  3,  4,  5,  6,  7,  8,  9, 10, 11, 12, 13, 14, 15],\n",
       "       dtype=int32)], fragment_charges=[0.0], fragment_multiplicities=[1], fix_com=True, fix_orientation=True, fix_symmetry=None, provenance={'creator': 'QCElemental', 'version': 'v0.11.0', 'routine': 'qcelemental.molparse.from_schema'}, id=458870, extras=None),\n",
       " (150,): Molecule(schema_name=qcschema_molecule, schema_version=2, validated=True, symbols=['C' 'C' 'C' 'C' 'C' 'C' 'C' 'O' 'H' 'H' 'H' 'H' 'H' 'H' 'H' 'H'], geometry=[[ 3.68950957 -1.83192958 -0.30263301]\n",
       "  [ 5.58788714 -2.91449311  1.19197383]\n",
       "  [ 1.47651723 -0.96952926  0.84767887]\n",
       "  [ 5.27814438 -3.12904808  3.79899959]\n",
       "  [ 1.13585096 -1.18495302  3.46192866]\n",
       "  [ 3.03480466 -2.29331251  4.94542969]\n",
       "  [ 1.40141672 -0.85296282  8.89427796]\n",
       "  [ 2.86097753 -2.59344088  7.49456838]\n",
       "  [ 3.94144492 -1.65547154 -2.34397562]\n",
       "  [ 7.33843648 -3.57937644  0.31914596]\n",
       "  [-0.01672084 -0.11341923 -0.29527781]\n",
       "  [ 6.74037439 -3.94979797  5.00135427]\n",
       "  [-0.60798886 -0.50658543  4.32710875]\n",
       "  [ 1.88525221 -1.13551231 10.89457591]\n",
       "  [-0.65152006 -1.17180494  8.66612967]\n",
       "  [ 1.831008    1.11863797  8.35470128]], name=C7H8O, identifiers={'molecule_hash': '2afce2897a153d1f113c03a8839f12cac3ac0719', 'molecular_formula': 'C7H8O', 'smiles': None, 'inchi': None, 'inchikey': None, 'canonical_explicit_hydrogen_smiles': None, 'canonical_isomeric_explicit_hydrogen_mapped_smiles': None, 'canonical_isomeric_explicit_hydrogen_smiles': None, 'canonical_isomeric_smiles': None, 'canonical_smiles': None}, comment=None, molecular_charge=0.0, molecular_multiplicity=1, masses=[12.         12.         12.         12.         12.         12.\n",
       "  12.         15.99491462  1.00782503  1.00782503  1.00782503  1.00782503\n",
       "   1.00782503  1.00782503  1.00782503  1.00782503], real=[ True  True  True  True  True  True  True  True  True  True  True  True\n",
       "   True  True  True  True], atom_labels=['' '' '' '' '' '' '' '' '' '' '' '' '' '' '' ''], atomic_numbers=[6 6 6 6 6 6 6 8 1 1 1 1 1 1 1 1], mass_numbers=[12 12 12 12 12 12 12 16  1  1  1  1  1  1  1  1], connectivity=[(0, 2, 2.0), (0, 1, 1.0), (0, 8, 1.0), (1, 3, 2.0), (1, 9, 1.0), (2, 4, 1.0), (2, 10, 1.0), (3, 5, 1.0), (3, 11, 1.0), (4, 5, 2.0), (4, 12, 1.0), (5, 7, 1.0), (6, 7, 1.0), (6, 13, 1.0), (6, 14, 1.0), (6, 15, 1.0)], fragments=[array([ 0,  1,  2,  3,  4,  5,  6,  7,  8,  9, 10, 11, 12, 13, 14, 15],\n",
       "       dtype=int32)], fragment_charges=[0.0], fragment_multiplicities=[1], fix_com=True, fix_orientation=True, fix_symmetry=None, provenance={'creator': 'QCElemental', 'version': 'v0.11.0', 'routine': 'qcelemental.molparse.from_schema'}, id=459105, extras=None),\n",
       " (-150,): Molecule(schema_name=qcschema_molecule, schema_version=2, validated=True, symbols=['C' 'C' 'C' 'C' 'C' 'C' 'C' 'O' 'H' 'H' 'H' 'H' 'H' 'H' 'H' 'H'], geometry=[[ 3.52476149e+00 -2.12952483e+00 -3.12109620e-01]\n",
       "  [ 5.41127251e+00 -3.23366809e+00  1.18174239e+00]\n",
       "  [ 1.58752395e+00 -7.68590320e-01  8.53755290e-01]\n",
       "  [ 5.35958136e+00 -2.98227988e+00  3.80332133e+00]\n",
       "  [ 1.51990512e+00 -4.90890560e-01  3.48340437e+00]\n",
       "  [ 3.42886502e+00 -1.58133228e+00  4.96735537e+00]\n",
       "  [ 1.23691058e+00 -1.15109572e+00  8.88478749e+00]\n",
       "  [ 3.52325946e+00 -1.39670006e+00  7.53161235e+00]\n",
       "  [ 3.56322781e+00 -2.33889999e+00 -2.36548922e+00]\n",
       "  [ 6.92801398e+00 -4.32112774e+00  2.95604100e-01]\n",
       "  [ 9.88758100e-02  9.59362800e-02 -2.88856250e-01]\n",
       "  [ 6.80025429e+00 -3.84213567e+00  5.00437371e+00]\n",
       "  [-4.47220000e-03  5.84117900e-01  4.36108482e+00]\n",
       "  [ 1.68066939e+00 -1.50621313e+00  1.08828092e+01]\n",
       "  [-1.89240600e-01 -2.53460509e+00  8.24066372e+00]\n",
       "  [ 4.20982040e-01  7.66566550e-01  8.72640143e+00]], name=C7H8O, identifiers={'molecule_hash': 'f3b67ee06b6b817183b9c0f41a9c6e7ac631c146', 'molecular_formula': 'C7H8O', 'smiles': None, 'inchi': None, 'inchikey': None, 'canonical_explicit_hydrogen_smiles': None, 'canonical_isomeric_explicit_hydrogen_mapped_smiles': None, 'canonical_isomeric_explicit_hydrogen_smiles': None, 'canonical_isomeric_smiles': None, 'canonical_smiles': None}, comment=None, molecular_charge=0.0, molecular_multiplicity=1, masses=[12.         12.         12.         12.         12.         12.\n",
       "  12.         15.99491462  1.00782503  1.00782503  1.00782503  1.00782503\n",
       "   1.00782503  1.00782503  1.00782503  1.00782503], real=[ True  True  True  True  True  True  True  True  True  True  True  True\n",
       "   True  True  True  True], atom_labels=['' '' '' '' '' '' '' '' '' '' '' '' '' '' '' ''], atomic_numbers=[6 6 6 6 6 6 6 8 1 1 1 1 1 1 1 1], mass_numbers=[12 12 12 12 12 12 12 16  1  1  1  1  1  1  1  1], connectivity=[(0, 2, 2.0), (0, 1, 1.0), (0, 8, 1.0), (1, 3, 2.0), (1, 9, 1.0), (2, 4, 1.0), (2, 10, 1.0), (3, 5, 1.0), (3, 11, 1.0), (4, 5, 2.0), (4, 12, 1.0), (5, 7, 1.0), (6, 7, 1.0), (6, 13, 1.0), (6, 14, 1.0), (6, 15, 1.0)], fragments=[array([ 0,  1,  2,  3,  4,  5,  6,  7,  8,  9, 10, 11, 12, 13, 14, 15],\n",
       "       dtype=int32)], fragment_charges=[0.0], fragment_multiplicities=[1], fix_com=True, fix_orientation=True, fix_symmetry=None, provenance={'creator': 'QCElemental', 'version': 'v0.11.0', 'routine': 'qcelemental.molparse.from_schema'}, id=459114, extras=None),\n",
       " (105,): Molecule(schema_name=qcschema_molecule, schema_version=2, validated=True, symbols=['C' 'C' 'C' 'C' 'C' 'C' 'C' 'O' 'H' 'H' 'H' 'H' 'H' 'H' 'H' 'H'], geometry=[[ 3.69545538 -1.70634993 -0.23938507]\n",
       "  [ 5.58436954 -2.54998336  1.40623546]\n",
       "  [ 1.25836456 -1.25614547  0.68418211]\n",
       "  [ 5.04976205 -2.9314534   3.96508707]\n",
       "  [ 0.70724096 -1.64444833  3.23706462]\n",
       "  [ 2.60724282 -2.48633636  4.87951087]\n",
       "  [ 1.86172856 -0.77318807  8.93121643]\n",
       "  [ 2.08977467 -2.94052016  7.37904178]\n",
       "  [ 4.11789466 -1.4081985  -2.23853071]\n",
       "  [ 7.4899185  -2.91207376  0.69511821]\n",
       "  [-0.22967914 -0.61125939 -0.59562359]\n",
       "  [ 6.49168507 -3.5949349   5.28423518]\n",
       "  [-1.19362524 -1.33018691  3.97905554]\n",
       "  [ 1.41574336 -1.43372593 10.85002017]\n",
       "  [ 0.33246541  0.49775271  8.28516983]\n",
       "  [ 3.6428032   0.32145572  8.98528528]], name=C7H8O, identifiers={'molecule_hash': 'a72a6127282ba5336fb37ae76ef40ea1e446a21c', 'molecular_formula': 'C7H8O', 'smiles': None, 'inchi': None, 'inchikey': None, 'canonical_explicit_hydrogen_smiles': None, 'canonical_isomeric_explicit_hydrogen_mapped_smiles': None, 'canonical_isomeric_explicit_hydrogen_smiles': None, 'canonical_isomeric_smiles': None, 'canonical_smiles': None}, comment=None, molecular_charge=0.0, molecular_multiplicity=1, masses=[12.         12.         12.         12.         12.         12.\n",
       "  12.         15.99491462  1.00782503  1.00782503  1.00782503  1.00782503\n",
       "   1.00782503  1.00782503  1.00782503  1.00782503], real=[ True  True  True  True  True  True  True  True  True  True  True  True\n",
       "   True  True  True  True], atom_labels=['' '' '' '' '' '' '' '' '' '' '' '' '' '' '' ''], atomic_numbers=[6 6 6 6 6 6 6 8 1 1 1 1 1 1 1 1], mass_numbers=[12 12 12 12 12 12 12 16  1  1  1  1  1  1  1  1], connectivity=[(0, 2, 2.0), (0, 1, 1.0), (0, 8, 1.0), (1, 3, 2.0), (1, 9, 1.0), (2, 4, 1.0), (2, 10, 1.0), (3, 5, 1.0), (3, 11, 1.0), (4, 5, 2.0), (4, 12, 1.0), (5, 7, 1.0), (6, 7, 1.0), (6, 13, 1.0), (6, 14, 1.0), (6, 15, 1.0)], fragments=[array([ 0,  1,  2,  3,  4,  5,  6,  7,  8,  9, 10, 11, 12, 13, 14, 15],\n",
       "       dtype=int32)], fragment_charges=[0.0], fragment_multiplicities=[1], fix_com=True, fix_orientation=True, fix_symmetry=None, provenance={'creator': 'QCElemental', 'version': 'v0.11.0', 'routine': 'qcelemental.molparse.from_schema'}, id=459232, extras=None),\n",
       " (-105,): Molecule(schema_name=qcschema_molecule, schema_version=2, validated=True, symbols=['C' 'C' 'C' 'C' 'C' 'C' 'C' 'O' 'H' 'H' 'H' 'H' 'H' 'H' 'H' 'H'], geometry=[[ 3.42039406 -2.20354666 -0.25271686]\n",
       "  [ 5.09605067 -3.43333395  1.38060355]\n",
       "  [ 1.7185079  -0.4240417   0.71262135]\n",
       "  [ 5.06721158 -2.90095096  3.96800149]\n",
       "  [ 1.68677973  0.12628289  3.29486938]\n",
       "  [ 3.36694948 -1.11363064  4.92455346]\n",
       "  [ 1.41395078 -1.58524678  8.90830178]\n",
       "  [ 3.41029401 -0.55427638  7.4557179 ]\n",
       "  [ 3.44543837 -2.62362267 -2.27431064]\n",
       "  [ 6.43496313 -4.81991356  0.63721685]\n",
       "  [ 0.4146949   0.55441554 -0.55653123]\n",
       "  [ 6.36113935 -3.83233623  5.27864259]\n",
       "  [ 0.38996126  1.53278678  4.07115436]\n",
       "  [ 1.68407697 -0.94737393 10.86717504]\n",
       "  [ 1.43485456 -3.67596418  8.86458193]\n",
       "  [-0.45838733 -0.93599831  8.24185377]], name=C7H8O, identifiers={'molecule_hash': 'dda2cb6b2f0782068fc6a0a395c8631962bc24e0', 'molecular_formula': 'C7H8O', 'smiles': None, 'inchi': None, 'inchikey': None, 'canonical_explicit_hydrogen_smiles': None, 'canonical_isomeric_explicit_hydrogen_mapped_smiles': None, 'canonical_isomeric_explicit_hydrogen_smiles': None, 'canonical_isomeric_smiles': None, 'canonical_smiles': None}, comment=None, molecular_charge=0.0, molecular_multiplicity=1, masses=[12.         12.         12.         12.         12.         12.\n",
       "  12.         15.99491462  1.00782503  1.00782503  1.00782503  1.00782503\n",
       "   1.00782503  1.00782503  1.00782503  1.00782503], real=[ True  True  True  True  True  True  True  True  True  True  True  True\n",
       "   True  True  True  True], atom_labels=['' '' '' '' '' '' '' '' '' '' '' '' '' '' '' ''], atomic_numbers=[6 6 6 6 6 6 6 8 1 1 1 1 1 1 1 1], mass_numbers=[12 12 12 12 12 12 12 16  1  1  1  1  1  1  1  1], connectivity=[(0, 2, 2.0), (0, 1, 1.0), (0, 8, 1.0), (1, 3, 2.0), (1, 9, 1.0), (2, 4, 1.0), (2, 10, 1.0), (3, 5, 1.0), (3, 11, 1.0), (4, 5, 2.0), (4, 12, 1.0), (5, 7, 1.0), (6, 7, 1.0), (6, 13, 1.0), (6, 14, 1.0), (6, 15, 1.0)], fragments=[array([ 0,  1,  2,  3,  4,  5,  6,  7,  8,  9, 10, 11, 12, 13, 14, 15],\n",
       "       dtype=int32)], fragment_charges=[0.0], fragment_multiplicities=[1], fix_com=True, fix_orientation=True, fix_symmetry=None, provenance={'creator': 'QCElemental', 'version': 'v0.11.0', 'routine': 'qcelemental.molparse.from_schema'}, id=459394, extras=None),\n",
       " (120,): Molecule(schema_name=qcschema_molecule, schema_version=2, validated=True, symbols=['C' 'C' 'C' 'C' 'C' 'C' 'C' 'O' 'H' 'H' 'H' 'H' 'H' 'H' 'H' 'H'], geometry=[[ 3.68154157 -1.74990256 -0.24461527]\n",
       "  [ 5.58614604 -2.68218607  1.33400306]\n",
       "  [ 1.31356562 -1.16345525  0.77506458]\n",
       "  [ 5.13669762 -3.01249357  3.91491872]\n",
       "  [ 0.84241752 -1.50501605  3.35088957]\n",
       "  [ 2.75895471 -2.43763707  4.92670024]\n",
       "  [ 1.70964993 -0.7538      8.9503509 ]\n",
       "  [ 2.3670574  -2.86664598  7.44878031]\n",
       "  [ 4.03838228 -1.48541515 -2.26104614]\n",
       "  [ 7.44229936 -3.14542008  0.55413637]\n",
       "  [-0.18938282 -0.44590515 -0.44750504]\n",
       "  [ 6.59476681 -3.73210344  5.18542651]\n",
       "  [-1.01536662 -1.08131531  4.14394906]\n",
       "  [ 1.55620491 -1.42607057 10.91017616]\n",
       "  [-0.12115984  0.08733461  8.39660453]\n",
       "  [ 3.17380361  0.7350621   8.85419846]], name=C7H8O, identifiers={'molecule_hash': '2526a43946fc423be4f370a91480eb7d31cbd392', 'molecular_formula': 'C7H8O', 'smiles': None, 'inchi': None, 'inchikey': None, 'canonical_explicit_hydrogen_smiles': None, 'canonical_isomeric_explicit_hydrogen_mapped_smiles': None, 'canonical_isomeric_explicit_hydrogen_smiles': None, 'canonical_isomeric_smiles': None, 'canonical_smiles': None}, comment=None, molecular_charge=0.0, molecular_multiplicity=1, masses=[12.         12.         12.         12.         12.         12.\n",
       "  12.         15.99491462  1.00782503  1.00782503  1.00782503  1.00782503\n",
       "   1.00782503  1.00782503  1.00782503  1.00782503], real=[ True  True  True  True  True  True  True  True  True  True  True  True\n",
       "   True  True  True  True], atom_labels=['' '' '' '' '' '' '' '' '' '' '' '' '' '' '' ''], atomic_numbers=[6 6 6 6 6 6 6 8 1 1 1 1 1 1 1 1], mass_numbers=[12 12 12 12 12 12 12 16  1  1  1  1  1  1  1  1], connectivity=[(0, 2, 2.0), (0, 1, 1.0), (0, 8, 1.0), (1, 3, 2.0), (1, 9, 1.0), (2, 4, 1.0), (2, 10, 1.0), (3, 5, 1.0), (3, 11, 1.0), (4, 5, 2.0), (4, 12, 1.0), (5, 7, 1.0), (6, 7, 1.0), (6, 13, 1.0), (6, 14, 1.0), (6, 15, 1.0)], fragments=[array([ 0,  1,  2,  3,  4,  5,  6,  7,  8,  9, 10, 11, 12, 13, 14, 15],\n",
       "       dtype=int32)], fragment_charges=[0.0], fragment_multiplicities=[1], fix_com=True, fix_orientation=True, fix_symmetry=None, provenance={'creator': 'QCElemental', 'version': 'v0.11.0', 'routine': 'qcelemental.molparse.from_schema'}, id=459538, extras=None),\n",
       " (-120,): Molecule(schema_name=qcschema_molecule, schema_version=2, validated=True, symbols=['C' 'C' 'C' 'C' 'C' 'C' 'C' 'O' 'H' 'H' 'H' 'H' 'H' 'H' 'H' 'H'], geometry=[[ 3.45091577 -2.17571528 -0.26546162]\n",
       "  [ 5.21045061 -3.36877965  1.30595734]\n",
       "  [ 1.66970257 -0.52870746  0.78601954]\n",
       "  [ 5.18350251 -2.93404589  3.9102702 ]\n",
       "  [ 1.64081975 -0.06925252  3.38632468]\n",
       "  [ 3.40713121 -1.27216144  4.9545363 ]\n",
       "  [ 1.31775564 -1.46385389  8.91994316]\n",
       "  [ 3.49582237 -0.83122039  7.50330384]\n",
       "  [ 3.4695849  -2.52358983 -2.30063283]\n",
       "  [ 6.60916241 -4.65886601  0.50136998]\n",
       "  [ 0.2959696   0.42130221 -0.43001301]\n",
       "  [ 6.53386114 -3.84721516  5.17544277]\n",
       "  [ 0.2743827   1.24257482  4.20596625]\n",
       "  [ 1.75350877 -1.06837263 10.91245988]\n",
       "  [ 0.83775254 -3.48824763  8.71708563]\n",
       "  [-0.35272618 -0.33384423  8.37353198]], name=C7H8O, identifiers={'molecule_hash': '135dd920d0dbd5dcbbb668246becc22ea8f19dba', 'molecular_formula': 'C7H8O', 'smiles': None, 'inchi': None, 'inchikey': None, 'canonical_explicit_hydrogen_smiles': None, 'canonical_isomeric_explicit_hydrogen_mapped_smiles': None, 'canonical_isomeric_explicit_hydrogen_smiles': None, 'canonical_isomeric_smiles': None, 'canonical_smiles': None}, comment=None, molecular_charge=0.0, molecular_multiplicity=1, masses=[12.         12.         12.         12.         12.         12.\n",
       "  12.         15.99491462  1.00782503  1.00782503  1.00782503  1.00782503\n",
       "   1.00782503  1.00782503  1.00782503  1.00782503], real=[ True  True  True  True  True  True  True  True  True  True  True  True\n",
       "   True  True  True  True], atom_labels=['' '' '' '' '' '' '' '' '' '' '' '' '' '' '' ''], atomic_numbers=[6 6 6 6 6 6 6 8 1 1 1 1 1 1 1 1], mass_numbers=[12 12 12 12 12 12 12 16  1  1  1  1  1  1  1  1], connectivity=[(0, 2, 2.0), (0, 1, 1.0), (0, 8, 1.0), (1, 3, 2.0), (1, 9, 1.0), (2, 4, 1.0), (2, 10, 1.0), (3, 5, 1.0), (3, 11, 1.0), (4, 5, 2.0), (4, 12, 1.0), (5, 7, 1.0), (6, 7, 1.0), (6, 13, 1.0), (6, 14, 1.0), (6, 15, 1.0)], fragments=[array([ 0,  1,  2,  3,  4,  5,  6,  7,  8,  9, 10, 11, 12, 13, 14, 15],\n",
       "       dtype=int32)], fragment_charges=[0.0], fragment_multiplicities=[1], fix_com=True, fix_orientation=True, fix_symmetry=None, provenance={'creator': 'QCElemental', 'version': 'v0.11.0', 'routine': 'qcelemental.molparse.from_schema'}, id=459600, extras=None),\n",
       " (90,): Molecule(schema_name=qcschema_molecule, schema_version=2, validated=True, symbols=['C' 'C' 'C' 'C' 'C' 'C' 'C' 'O' 'H' 'H' 'H' 'H' 'H' 'H' 'H' 'H'], geometry=[[ 3.70026604 -1.68781217 -0.21473939]\n",
       "  [ 5.55971395 -2.42504226  1.5147141 ]\n",
       "  [ 1.20886204 -1.3472961   0.60288173]\n",
       "  [ 4.93860674 -2.81548453  4.05199411]\n",
       "  [ 0.57469777 -1.73382934  3.13764424]\n",
       "  [ 2.44233629 -2.47122049  4.8618902 ]\n",
       "  [ 2.0262802  -0.81298112  8.97297625]\n",
       "  [ 1.81054902 -2.91990197  7.33754827]\n",
       "  [ 4.19006652 -1.388848   -2.19839178]\n",
       "  [ 7.50634899 -2.70687967  0.88300624]\n",
       "  [-0.25363715 -0.78411793 -0.74315142]\n",
       "  [ 6.35677177 -3.41129129  5.42873571]\n",
       "  [-1.36184649 -1.49732344  3.81235793]\n",
       "  [ 1.46745331 -1.44403575 10.87215158]\n",
       "  [ 0.77398282  0.75470241  8.38281463]\n",
       "  [ 3.98719974 -0.08961615  9.04816579]], name=C7H8O, identifiers={'molecule_hash': 'a6601a8f8c024493170efc180fb7ce6a3f6ea552', 'molecular_formula': 'C7H8O', 'smiles': None, 'inchi': None, 'inchikey': None, 'canonical_explicit_hydrogen_smiles': None, 'canonical_isomeric_explicit_hydrogen_mapped_smiles': None, 'canonical_isomeric_explicit_hydrogen_smiles': None, 'canonical_isomeric_smiles': None, 'canonical_smiles': None}, comment=None, molecular_charge=0.0, molecular_multiplicity=1, masses=[12.         12.         12.         12.         12.         12.\n",
       "  12.         15.99491462  1.00782503  1.00782503  1.00782503  1.00782503\n",
       "   1.00782503  1.00782503  1.00782503  1.00782503], real=[ True  True  True  True  True  True  True  True  True  True  True  True\n",
       "   True  True  True  True], atom_labels=['' '' '' '' '' '' '' '' '' '' '' '' '' '' '' ''], atomic_numbers=[6 6 6 6 6 6 6 8 1 1 1 1 1 1 1 1], mass_numbers=[12 12 12 12 12 12 12 16  1  1  1  1  1  1  1  1], connectivity=[(0, 2, 2.0), (0, 1, 1.0), (0, 8, 1.0), (1, 3, 2.0), (1, 9, 1.0), (2, 4, 1.0), (2, 10, 1.0), (3, 5, 1.0), (3, 11, 1.0), (4, 5, 2.0), (4, 12, 1.0), (5, 7, 1.0), (6, 7, 1.0), (6, 13, 1.0), (6, 14, 1.0), (6, 15, 1.0)], fragments=[array([ 0,  1,  2,  3,  4,  5,  6,  7,  8,  9, 10, 11, 12, 13, 14, 15],\n",
       "       dtype=int32)], fragment_charges=[0.0], fragment_multiplicities=[1], fix_com=True, fix_orientation=True, fix_symmetry=None, provenance={'creator': 'QCElemental', 'version': 'v0.11.0', 'routine': 'qcelemental.molparse.from_schema'}, id=461369, extras=None),\n",
       " (75,): Molecule(schema_name=qcschema_molecule, schema_version=2, validated=True, symbols=['C' 'C' 'C' 'C' 'C' 'C' 'C' 'O' 'H' 'H' 'H' 'H' 'H' 'H' 'H' 'H'], geometry=[[ 3.70212325 -1.72466955 -0.21585801]\n",
       "  [ 5.51905339 -2.32444209  1.61008955]\n",
       "  [ 1.16923478 -1.46408046  0.49415964]\n",
       "  [ 4.81449559 -2.66039694  4.13241122]\n",
       "  [ 0.4522114  -1.78473091  3.01641573]\n",
       "  [ 2.27581552 -2.38406191  4.8372815 ]\n",
       "  [ 2.15535767 -0.85813513  9.03145663]\n",
       "  [ 1.52672714 -2.78611098  7.28616169]\n",
       "  [ 4.25856462 -1.4718899  -2.18825289]\n",
       "  [ 7.49871004 -2.54995062  1.06400225]\n",
       "  [-0.2610239  -1.00629602 -0.92454499]\n",
       "  [ 6.20785963 -3.16338765  5.57048426]\n",
       "  [-1.51425058 -1.59868966  3.61443722]\n",
       "  [ 1.4695119  -1.46795424 10.8955    ]\n",
       "  [ 1.24259402  0.95548078  8.53075546]\n",
       "  [ 4.21880374 -0.54221236  9.1461044 ]], name=C7H8O, identifiers={'molecule_hash': 'b0e45b3d9bfb9763487b040f0053eb857a2140ce', 'molecular_formula': 'C7H8O', 'smiles': None, 'inchi': None, 'inchikey': None, 'canonical_explicit_hydrogen_smiles': None, 'canonical_isomeric_explicit_hydrogen_mapped_smiles': None, 'canonical_isomeric_explicit_hydrogen_smiles': None, 'canonical_isomeric_smiles': None, 'canonical_smiles': None}, comment=None, molecular_charge=0.0, molecular_multiplicity=1, masses=[12.         12.         12.         12.         12.         12.\n",
       "  12.         15.99491462  1.00782503  1.00782503  1.00782503  1.00782503\n",
       "   1.00782503  1.00782503  1.00782503  1.00782503], real=[ True  True  True  True  True  True  True  True  True  True  True  True\n",
       "   True  True  True  True], atom_labels=['' '' '' '' '' '' '' '' '' '' '' '' '' '' '' ''], atomic_numbers=[6 6 6 6 6 6 6 8 1 1 1 1 1 1 1 1], mass_numbers=[12 12 12 12 12 12 12 16  1  1  1  1  1  1  1  1], connectivity=[(0, 2, 2.0), (0, 1, 1.0), (0, 8, 1.0), (1, 3, 2.0), (1, 9, 1.0), (2, 4, 1.0), (2, 10, 1.0), (3, 5, 1.0), (3, 11, 1.0), (4, 5, 2.0), (4, 12, 1.0), (5, 7, 1.0), (6, 7, 1.0), (6, 13, 1.0), (6, 14, 1.0), (6, 15, 1.0)], fragments=[array([ 0,  1,  2,  3,  4,  5,  6,  7,  8,  9, 10, 11, 12, 13, 14, 15],\n",
       "       dtype=int32)], fragment_charges=[0.0], fragment_multiplicities=[1], fix_com=True, fix_orientation=True, fix_symmetry=None, provenance={'creator': 'QCElemental', 'version': 'v0.11.0', 'routine': 'qcelemental.molparse.from_schema'}, id=461425, extras=None),\n",
       " (-75,): Molecule(schema_name=qcschema_molecule, schema_version=2, validated=True, symbols=['C' 'C' 'C' 'C' 'C' 'C' 'C' 'O' 'H' 'H' 'H' 'H' 'H' 'H' 'H' 'H'], geometry=[[ 3.43900598 -2.20071294 -0.22823573]\n",
       "  [ 4.86508261 -3.50716914  1.57581688]\n",
       "  [ 1.85180055 -0.22953493  0.53510663]\n",
       "  [ 4.70765322 -2.85320039  4.12901981]\n",
       "  [ 1.67473259  0.42691458  3.08785967]\n",
       "  [ 3.10410599 -0.88523154  4.88656201]\n",
       "  [ 1.63777454 -1.79343168  9.00470539]\n",
       "  [ 2.9808923  -0.15490425  7.37079048]\n",
       "  [ 3.57347597 -2.7115241  -2.22444734]\n",
       "  [ 6.12387823 -5.03664869  0.98911017]\n",
       "  [ 0.74084538  0.80565965 -0.86563389]\n",
       "  [ 5.83674841 -3.83404887  5.55225734]\n",
       "  [ 0.45497214  1.96371446  3.7278884 ]\n",
       "  [ 1.7397371  -0.9786394  10.9132759 ]\n",
       "  [ 2.46538192 -3.71275772  9.04941128]\n",
       "  [-0.36950472 -1.95935811  8.4422741 ]], name=C7H8O, identifiers={'molecule_hash': '6fe82700dc2bbb954cfa35bce052a43ef355e8c3', 'molecular_formula': 'C7H8O', 'smiles': None, 'inchi': None, 'inchikey': None, 'canonical_explicit_hydrogen_smiles': None, 'canonical_isomeric_explicit_hydrogen_mapped_smiles': None, 'canonical_isomeric_explicit_hydrogen_smiles': None, 'canonical_isomeric_smiles': None, 'canonical_smiles': None}, comment=None, molecular_charge=0.0, molecular_multiplicity=1, masses=[12.         12.         12.         12.         12.         12.\n",
       "  12.         15.99491462  1.00782503  1.00782503  1.00782503  1.00782503\n",
       "   1.00782503  1.00782503  1.00782503  1.00782503], real=[ True  True  True  True  True  True  True  True  True  True  True  True\n",
       "   True  True  True  True], atom_labels=['' '' '' '' '' '' '' '' '' '' '' '' '' '' '' ''], atomic_numbers=[6 6 6 6 6 6 6 8 1 1 1 1 1 1 1 1], mass_numbers=[12 12 12 12 12 12 12 16  1  1  1  1  1  1  1  1], connectivity=[(0, 2, 2.0), (0, 1, 1.0), (0, 8, 1.0), (1, 3, 2.0), (1, 9, 1.0), (2, 4, 1.0), (2, 10, 1.0), (3, 5, 1.0), (3, 11, 1.0), (4, 5, 2.0), (4, 12, 1.0), (5, 7, 1.0), (6, 7, 1.0), (6, 13, 1.0), (6, 14, 1.0), (6, 15, 1.0)], fragments=[array([ 0,  1,  2,  3,  4,  5,  6,  7,  8,  9, 10, 11, 12, 13, 14, 15],\n",
       "       dtype=int32)], fragment_charges=[0.0], fragment_multiplicities=[1], fix_com=True, fix_orientation=True, fix_symmetry=None, provenance={'creator': 'QCElemental', 'version': 'v0.11.0', 'routine': 'qcelemental.molparse.from_schema'}, id=461459, extras=None),\n",
       " (30,): Molecule(schema_name=qcschema_molecule, schema_version=2, validated=True, symbols=['C' 'C' 'C' 'C' 'C' 'C' 'C' 'O' 'H' 'H' 'H' 'H' 'H' 'H' 'H' 'H'], geometry=[[ 3.69600344 -1.85447301 -0.30101366]\n",
       "  [ 5.42957732 -1.96441247  1.68575814]\n",
       "  [ 1.10571549 -1.80496047  0.24404663]\n",
       "  [ 4.60860206 -2.02544662  4.19938437]\n",
       "  [ 0.26273043 -1.85146068  2.73915521]\n",
       "  [ 2.01117613 -1.95189563  4.73362008]\n",
       "  [ 2.47935475 -1.15790713  9.14730531]\n",
       "  [ 1.03798047 -2.10187281  7.10982174]\n",
       "  [ 4.35246849 -1.80992101 -2.25772808]\n",
       "  [ 7.4563067  -2.0155252   1.28725824]\n",
       "  [-0.27319083 -1.72058681 -1.29211501]\n",
       "  [ 5.9901253  -2.13100274  5.72583171]\n",
       "  [-1.74683847 -1.81374977  3.20562904]\n",
       "  [ 1.1989466  -1.02138253 10.77726717]\n",
       "  [ 3.26020365  0.7331975   8.72723948]\n",
       "  [ 4.05738793 -2.42970717  9.6581919 ]], name=C7H8O, identifiers={'molecule_hash': '5aba4f48598014250d3b37a70e119aa9d17b76b8', 'molecular_formula': 'C7H8O', 'smiles': None, 'inchi': None, 'inchikey': None, 'canonical_explicit_hydrogen_smiles': None, 'canonical_isomeric_explicit_hydrogen_mapped_smiles': None, 'canonical_isomeric_explicit_hydrogen_smiles': None, 'canonical_isomeric_smiles': None, 'canonical_smiles': None}, comment=None, molecular_charge=0.0, molecular_multiplicity=1, masses=[12.         12.         12.         12.         12.         12.\n",
       "  12.         15.99491462  1.00782503  1.00782503  1.00782503  1.00782503\n",
       "   1.00782503  1.00782503  1.00782503  1.00782503], real=[ True  True  True  True  True  True  True  True  True  True  True  True\n",
       "   True  True  True  True], atom_labels=['' '' '' '' '' '' '' '' '' '' '' '' '' '' '' ''], atomic_numbers=[6 6 6 6 6 6 6 8 1 1 1 1 1 1 1 1], mass_numbers=[12 12 12 12 12 12 12 16  1  1  1  1  1  1  1  1], connectivity=[(0, 2, 2.0), (0, 1, 1.0), (0, 8, 1.0), (1, 3, 2.0), (1, 9, 1.0), (2, 4, 1.0), (2, 10, 1.0), (3, 5, 1.0), (3, 11, 1.0), (4, 5, 2.0), (4, 12, 1.0), (5, 7, 1.0), (6, 7, 1.0), (6, 13, 1.0), (6, 14, 1.0), (6, 15, 1.0)], fragments=[array([ 0,  1,  2,  3,  4,  5,  6,  7,  8,  9, 10, 11, 12, 13, 14, 15],\n",
       "       dtype=int32)], fragment_charges=[0.0], fragment_multiplicities=[1], fix_com=True, fix_orientation=True, fix_symmetry=None, provenance={'creator': 'QCElemental', 'version': 'v0.11.0', 'routine': 'qcelemental.molparse.from_schema'}, id=461723, extras=None),\n",
       " (60,): Molecule(schema_name=qcschema_molecule, schema_version=2, validated=True, symbols=['C' 'C' 'C' 'C' 'C' 'C' 'C' 'O' 'H' 'H' 'H' 'H' 'H' 'H' 'H' 'H'], geometry=[[ 3.71828345 -1.76811666 -0.27338275]\n",
       "  [ 5.50089579 -2.20886409  1.62864783]\n",
       "  [ 1.15779938 -1.58361834  0.35850376]\n",
       "  [ 4.74133601 -2.46356402  4.14507752]\n",
       "  [ 0.38360523 -1.81737538  2.87169991]\n",
       "  [ 2.17400832 -2.25536827  4.7722983 ]\n",
       "  [ 2.28444156 -0.94953994  9.06682808]\n",
       "  [ 1.32018125 -2.59349763  7.19110947]\n",
       "  [ 4.32142939 -1.57815469 -2.23890818]\n",
       "  [ 7.50367599 -2.37607107  1.14971388]\n",
       "  [-0.25023734 -1.246811   -1.11528944]\n",
       "  [ 6.12828802 -2.84801683  5.62417659]\n",
       "  [-1.60352774 -1.68120413  3.41076772]\n",
       "  [ 1.31483482 -1.42137021 10.84263787]\n",
       "  [ 1.90592803  1.05132903  8.59565568]\n",
       "  [ 4.34048833 -1.17965735  9.35939703]], name=C7H8O, identifiers={'molecule_hash': '179c476f669865b56eebca36680d181929e6e5b7', 'molecular_formula': 'C7H8O', 'smiles': None, 'inchi': None, 'inchikey': None, 'canonical_explicit_hydrogen_smiles': None, 'canonical_isomeric_explicit_hydrogen_mapped_smiles': None, 'canonical_isomeric_explicit_hydrogen_smiles': None, 'canonical_isomeric_smiles': None, 'canonical_smiles': None}, comment=None, molecular_charge=0.0, molecular_multiplicity=1, masses=[12.         12.         12.         12.         12.         12.\n",
       "  12.         15.99491462  1.00782503  1.00782503  1.00782503  1.00782503\n",
       "   1.00782503  1.00782503  1.00782503  1.00782503], real=[ True  True  True  True  True  True  True  True  True  True  True  True\n",
       "   True  True  True  True], atom_labels=['' '' '' '' '' '' '' '' '' '' '' '' '' '' '' ''], atomic_numbers=[6 6 6 6 6 6 6 8 1 1 1 1 1 1 1 1], mass_numbers=[12 12 12 12 12 12 12 16  1  1  1  1  1  1  1  1], connectivity=[(0, 2, 2.0), (0, 1, 1.0), (0, 8, 1.0), (1, 3, 2.0), (1, 9, 1.0), (2, 4, 1.0), (2, 10, 1.0), (3, 5, 1.0), (3, 11, 1.0), (4, 5, 2.0), (4, 12, 1.0), (5, 7, 1.0), (6, 7, 1.0), (6, 13, 1.0), (6, 14, 1.0), (6, 15, 1.0)], fragments=[array([ 0,  1,  2,  3,  4,  5,  6,  7,  8,  9, 10, 11, 12, 13, 14, 15],\n",
       "       dtype=int32)], fragment_charges=[0.0], fragment_multiplicities=[1], fix_com=True, fix_orientation=True, fix_symmetry=None, provenance={'creator': 'QCElemental', 'version': 'v0.11.0', 'routine': 'qcelemental.molparse.from_schema'}, id=461685, extras=None),\n",
       " (-60,): Molecule(schema_name=qcschema_molecule, schema_version=2, validated=True, symbols=['C' 'C' 'C' 'C' 'C' 'C' 'C' 'O' 'H' 'H' 'H' 'H' 'H' 'H' 'H' 'H'], geometry=[[ 3.48556806 -2.18859899 -0.28454022]\n",
       "  [ 4.75712849 -3.55422444  1.58838991]\n",
       "  [ 1.95045647 -0.14980855  0.40552128]\n",
       "  [ 4.50247118 -2.8965478   4.13335644]\n",
       "  [ 1.67036486  0.50930549  2.9466371 ]\n",
       "  [ 2.94379439 -0.86431289  4.81779631]\n",
       "  [ 1.78466861 -1.85587089  9.04078282]\n",
       "  [ 2.71212821 -0.07793354  7.2717555 ]\n",
       "  [ 3.69732353 -2.7058812  -2.2721875 ]\n",
       "  [ 5.9768439  -5.13753051  1.06503382]\n",
       "  [ 0.95491809  0.93350363 -1.0447928 ]\n",
       "  [ 5.52697525 -3.93700323  5.5917871 ]\n",
       "  [ 0.48365833  2.09295743  3.53111283]\n",
       "  [ 1.62148788 -0.86984945 10.86215514]\n",
       "  [ 3.06567807 -3.48777783  9.28933466]\n",
       "  [-0.097693   -2.57462474  8.48502773]], name=C7H8O, identifiers={'molecule_hash': 'b44ad27c199728b72c05ba913385cb2bc642c8a8', 'molecular_formula': 'C7H8O', 'smiles': None, 'inchi': None, 'inchikey': None, 'canonical_explicit_hydrogen_smiles': None, 'canonical_isomeric_explicit_hydrogen_mapped_smiles': None, 'canonical_isomeric_explicit_hydrogen_smiles': None, 'canonical_isomeric_smiles': None, 'canonical_smiles': None}, comment=None, molecular_charge=0.0, molecular_multiplicity=1, masses=[12.         12.         12.         12.         12.         12.\n",
       "  12.         15.99491462  1.00782503  1.00782503  1.00782503  1.00782503\n",
       "   1.00782503  1.00782503  1.00782503  1.00782503], real=[ True  True  True  True  True  True  True  True  True  True  True  True\n",
       "   True  True  True  True], atom_labels=['' '' '' '' '' '' '' '' '' '' '' '' '' '' '' ''], atomic_numbers=[6 6 6 6 6 6 6 8 1 1 1 1 1 1 1 1], mass_numbers=[12 12 12 12 12 12 12 16  1  1  1  1  1  1  1  1], connectivity=[(0, 2, 2.0), (0, 1, 1.0), (0, 8, 1.0), (1, 3, 2.0), (1, 9, 1.0), (2, 4, 1.0), (2, 10, 1.0), (3, 5, 1.0), (3, 11, 1.0), (4, 5, 2.0), (4, 12, 1.0), (5, 7, 1.0), (6, 7, 1.0), (6, 13, 1.0), (6, 14, 1.0), (6, 15, 1.0)], fragments=[array([ 0,  1,  2,  3,  4,  5,  6,  7,  8,  9, 10, 11, 12, 13, 14, 15],\n",
       "       dtype=int32)], fragment_charges=[0.0], fragment_multiplicities=[1], fix_com=True, fix_orientation=True, fix_symmetry=None, provenance={'creator': 'QCElemental', 'version': 'v0.11.0', 'routine': 'qcelemental.molparse.from_schema'}, id=461700, extras=None),\n",
       " (-30,): Molecule(schema_name=qcschema_molecule, schema_version=2, validated=True, symbols=['C' 'C' 'C' 'C' 'C' 'C' 'C' 'O' 'H' 'H' 'H' 'H' 'H' 'H' 'H' 'H'], geometry=[[ 3.54750913 -2.12259724 -0.30742535]\n",
       "  [ 4.51078875 -3.62629947  1.63566464]\n",
       "  [ 2.11306417  0.0171931   0.30314439]\n",
       "  [ 4.05963677 -3.01927365  4.17022987]\n",
       "  [ 1.63838631  0.63602012  2.81911036]\n",
       "  [ 2.60133437 -0.88567949  4.76903241]\n",
       "  [ 2.06262868 -1.91409872  9.1259098 ]\n",
       "  [ 2.14806198 -0.09606409  7.17464836]\n",
       "  [ 3.91046327 -2.60827962 -2.28075711]\n",
       "  [ 5.64288319 -5.29531538  1.18645125]\n",
       "  [ 1.34830037  1.21278008 -1.19818872]\n",
       "  [ 4.84397415 -4.20537125  5.66280304]\n",
       "  [ 0.52497984  2.29437545  3.33637992]\n",
       "  [ 1.22301635 -0.98084951 10.78088872]\n",
       "  [ 3.96516229 -2.59916291  9.65479546]\n",
       "  [ 0.88871412 -3.55824497  8.59566222]], name=C7H8O, identifiers={'molecule_hash': 'c5c33ab70cf9df182831507c6ed5daea82827341', 'molecular_formula': 'C7H8O', 'smiles': None, 'inchi': None, 'inchikey': None, 'canonical_explicit_hydrogen_smiles': None, 'canonical_isomeric_explicit_hydrogen_mapped_smiles': None, 'canonical_isomeric_explicit_hydrogen_smiles': None, 'canonical_isomeric_smiles': None, 'canonical_smiles': None}, comment=None, molecular_charge=0.0, molecular_multiplicity=1, masses=[12.         12.         12.         12.         12.         12.\n",
       "  12.         15.99491462  1.00782503  1.00782503  1.00782503  1.00782503\n",
       "   1.00782503  1.00782503  1.00782503  1.00782503], real=[ True  True  True  True  True  True  True  True  True  True  True  True\n",
       "   True  True  True  True], atom_labels=['' '' '' '' '' '' '' '' '' '' '' '' '' '' '' ''], atomic_numbers=[6 6 6 6 6 6 6 8 1 1 1 1 1 1 1 1], mass_numbers=[12 12 12 12 12 12 12 16  1  1  1  1  1  1  1  1], connectivity=[(0, 2, 2.0), (0, 1, 1.0), (0, 8, 1.0), (1, 3, 2.0), (1, 9, 1.0), (2, 4, 1.0), (2, 10, 1.0), (3, 5, 1.0), (3, 11, 1.0), (4, 5, 2.0), (4, 12, 1.0), (5, 7, 1.0), (6, 7, 1.0), (6, 13, 1.0), (6, 14, 1.0), (6, 15, 1.0)], fragments=[array([ 0,  1,  2,  3,  4,  5,  6,  7,  8,  9, 10, 11, 12, 13, 14, 15],\n",
       "       dtype=int32)], fragment_charges=[0.0], fragment_multiplicities=[1], fix_com=True, fix_orientation=True, fix_symmetry=None, provenance={'creator': 'QCElemental', 'version': 'v0.11.0', 'routine': 'qcelemental.molparse.from_schema'}, id=461731, extras=None),\n",
       " (45,): Molecule(schema_name=qcschema_molecule, schema_version=2, validated=True, symbols=['C' 'C' 'C' 'C' 'C' 'C' 'C' 'O' 'H' 'H' 'H' 'H' 'H' 'H' 'H' 'H'], geometry=[[ 3.69639473 -1.79743864 -0.29873657]\n",
       "  [ 5.45928124 -2.05967591  1.65083976]\n",
       "  [ 1.11810236 -1.70428504  0.28674669]\n",
       "  [ 4.67054666 -2.22992127  4.16744948]\n",
       "  [ 0.3109718  -1.85413007  2.7927833 ]\n",
       "  [ 2.08514535 -2.10889291  4.74580389]\n",
       "  [ 2.40545302 -1.06954623  9.11534623]\n",
       "  [ 1.16885394 -2.37939496  7.14132671]\n",
       "  [ 4.32497976 -1.67092038 -2.26118922]\n",
       "  [ 7.47686639 -2.15019919  1.21495776]\n",
       "  [-0.27892714 -1.5030941  -1.22190147]\n",
       "  [ 6.05998786 -2.46332476  5.67393071]\n",
       "  [-1.68935396 -1.78551201  3.29413963]\n",
       "  [ 1.14500254 -1.13490653 10.76580932]\n",
       "  [ 2.76366218  0.92393291  8.60563825]\n",
       "  [ 4.22194341 -1.95474001  9.648864  ]], name=C7H8O, identifiers={'molecule_hash': 'a159c8d539fe8935046beac7fdeabf3a66465c1c', 'molecular_formula': 'C7H8O', 'smiles': None, 'inchi': None, 'inchikey': None, 'canonical_explicit_hydrogen_smiles': None, 'canonical_isomeric_explicit_hydrogen_mapped_smiles': None, 'canonical_isomeric_explicit_hydrogen_smiles': None, 'canonical_isomeric_smiles': None, 'canonical_smiles': None}, comment=None, molecular_charge=0.0, molecular_multiplicity=1, masses=[12.         12.         12.         12.         12.         12.\n",
       "  12.         15.99491462  1.00782503  1.00782503  1.00782503  1.00782503\n",
       "   1.00782503  1.00782503  1.00782503  1.00782503], real=[ True  True  True  True  True  True  True  True  True  True  True  True\n",
       "   True  True  True  True], atom_labels=['' '' '' '' '' '' '' '' '' '' '' '' '' '' '' ''], atomic_numbers=[6 6 6 6 6 6 6 8 1 1 1 1 1 1 1 1], mass_numbers=[12 12 12 12 12 12 12 16  1  1  1  1  1  1  1  1], connectivity=[(0, 2, 2.0), (0, 1, 1.0), (0, 8, 1.0), (1, 3, 2.0), (1, 9, 1.0), (2, 4, 1.0), (2, 10, 1.0), (3, 5, 1.0), (3, 11, 1.0), (4, 5, 2.0), (4, 12, 1.0), (5, 7, 1.0), (6, 7, 1.0), (6, 13, 1.0), (6, 14, 1.0), (6, 15, 1.0)], fragments=[array([ 0,  1,  2,  3,  4,  5,  6,  7,  8,  9, 10, 11, 12, 13, 14, 15],\n",
       "       dtype=int32)], fragment_charges=[0.0], fragment_multiplicities=[1], fix_com=True, fix_orientation=True, fix_symmetry=None, provenance={'creator': 'QCElemental', 'version': 'v0.11.0', 'routine': 'qcelemental.molparse.from_schema'}, id=461819, extras=None),\n",
       " (-45,): Molecule(schema_name=qcschema_molecule, schema_version=2, validated=True, symbols=['C' 'C' 'C' 'C' 'C' 'C' 'C' 'O' 'H' 'H' 'H' 'H' 'H' 'H' 'H' 'H'], geometry=[[ 3.49939228 -2.15330139 -0.30787911]\n",
       "  [ 4.60813322 -3.59922556  1.60454938]\n",
       "  [ 2.03333459 -0.04875028  0.34065581]\n",
       "  [ 4.26647776 -2.96167543  4.14644088]\n",
       "  [ 1.66490412  0.59404878  2.87150549]\n",
       "  [ 2.77323437 -0.86555735  4.78671794]\n",
       "  [ 1.94936593 -1.89691127  9.0917486 ]\n",
       "  [ 2.4517307  -0.06107251  7.21585974]\n",
       "  [ 3.77829643 -2.65860577 -2.29010662]\n",
       "  [ 5.7696973  -5.23780629  1.12013198]\n",
       "  [ 1.15934525  1.09887588 -1.13829112]\n",
       "  [ 5.16374776 -4.08568481  5.62496036]\n",
       "  [ 0.52934295  2.22651639  3.42188566]\n",
       "  [ 1.290692   -0.87441177 10.77628966]\n",
       "  [ 3.65100376 -2.98999082  9.6184854 ]\n",
       "  [ 0.46628521 -3.23341981  8.47832305]], name=C7H8O, identifiers={'molecule_hash': '5c9839877f910bb7dafc3694046103f7cee32e02', 'molecular_formula': 'C7H8O', 'smiles': None, 'inchi': None, 'inchikey': None, 'canonical_explicit_hydrogen_smiles': None, 'canonical_isomeric_explicit_hydrogen_mapped_smiles': None, 'canonical_isomeric_explicit_hydrogen_smiles': None, 'canonical_isomeric_smiles': None, 'canonical_smiles': None}, comment=None, molecular_charge=0.0, molecular_multiplicity=1, masses=[12.         12.         12.         12.         12.         12.\n",
       "  12.         15.99491462  1.00782503  1.00782503  1.00782503  1.00782503\n",
       "   1.00782503  1.00782503  1.00782503  1.00782503], real=[ True  True  True  True  True  True  True  True  True  True  True  True\n",
       "   True  True  True  True], atom_labels=['' '' '' '' '' '' '' '' '' '' '' '' '' '' '' ''], atomic_numbers=[6 6 6 6 6 6 6 8 1 1 1 1 1 1 1 1], mass_numbers=[12 12 12 12 12 12 12 16  1  1  1  1  1  1  1  1], connectivity=[(0, 2, 2.0), (0, 1, 1.0), (0, 8, 1.0), (1, 3, 2.0), (1, 9, 1.0), (2, 4, 1.0), (2, 10, 1.0), (3, 5, 1.0), (3, 11, 1.0), (4, 5, 2.0), (4, 12, 1.0), (5, 7, 1.0), (6, 7, 1.0), (6, 13, 1.0), (6, 14, 1.0), (6, 15, 1.0)], fragments=[array([ 0,  1,  2,  3,  4,  5,  6,  7,  8,  9, 10, 11, 12, 13, 14, 15],\n",
       "       dtype=int32)], fragment_charges=[0.0], fragment_multiplicities=[1], fix_com=True, fix_orientation=True, fix_symmetry=None, provenance={'creator': 'QCElemental', 'version': 'v0.11.0', 'routine': 'qcelemental.molparse.from_schema'}, id=461827, extras=None),\n",
       " (0,): Molecule(schema_name=qcschema_molecule, schema_version=2, validated=True, symbols=['C' 'C' 'C' 'C' 'C' 'C' 'C' 'O' 'H' 'H' 'H' 'H' 'H' 'H' 'H' 'H'], geometry=[[ 3.705481   -2.005779   -0.30916382]\n",
       "  [ 5.41340407 -1.8578246   1.69359705]\n",
       "  [ 1.10677377 -1.96699335  0.20622924]\n",
       "  [ 4.56869423 -1.67222782  4.19620825]\n",
       "  [ 0.23744147 -1.78335773  2.68235995]\n",
       "  [ 1.96387315 -1.63440946  4.69802417]\n",
       "  [ 2.54284232 -1.30378749  9.1626126 ]\n",
       "  [ 0.93684859 -1.46033225  7.04427198]\n",
       "  [ 4.38361058 -2.14990825 -2.25347798]\n",
       "  [ 7.44581918 -1.88579145  1.32253157]\n",
       "  [-0.25684224 -2.08140433 -1.34162258]\n",
       "  [ 5.94690775 -1.55958853  5.72300638]\n",
       "  [-1.77796083 -1.75024478  3.1236002 ]\n",
       "  [ 1.31441531 -1.17992622 10.8317381 ]\n",
       "  [ 3.76178701  0.39258319  9.09604855]\n",
       "  [ 3.76126299 -2.99182153  9.34675257]], name=C7H8O, identifiers={'molecule_hash': '30b86628fd1d834aa7ad1deeb50d962a82a0214d', 'molecular_formula': 'C7H8O', 'smiles': None, 'inchi': None, 'inchikey': None, 'canonical_explicit_hydrogen_smiles': None, 'canonical_isomeric_explicit_hydrogen_mapped_smiles': None, 'canonical_isomeric_explicit_hydrogen_smiles': None, 'canonical_isomeric_smiles': None, 'canonical_smiles': None}, comment=None, molecular_charge=0.0, molecular_multiplicity=1, masses=[12.         12.         12.         12.         12.         12.\n",
       "  12.         15.99491462  1.00782503  1.00782503  1.00782503  1.00782503\n",
       "   1.00782503  1.00782503  1.00782503  1.00782503], real=[ True  True  True  True  True  True  True  True  True  True  True  True\n",
       "   True  True  True  True], atom_labels=['' '' '' '' '' '' '' '' '' '' '' '' '' '' '' ''], atomic_numbers=[6 6 6 6 6 6 6 8 1 1 1 1 1 1 1 1], mass_numbers=[12 12 12 12 12 12 12 16  1  1  1  1  1  1  1  1], connectivity=[(0, 2, 2.0), (0, 1, 1.0), (0, 8, 1.0), (1, 3, 2.0), (1, 9, 1.0), (2, 4, 1.0), (2, 10, 1.0), (3, 5, 1.0), (3, 11, 1.0), (4, 5, 2.0), (4, 12, 1.0), (5, 7, 1.0), (6, 7, 1.0), (6, 13, 1.0), (6, 14, 1.0), (6, 15, 1.0)], fragments=[array([ 0,  1,  2,  3,  4,  5,  6,  7,  8,  9, 10, 11, 12, 13, 14, 15],\n",
       "       dtype=int32)], fragment_charges=[0.0], fragment_multiplicities=[1], fix_com=True, fix_orientation=True, fix_symmetry=None, provenance={'creator': 'QCElemental', 'version': 'v0.11.0', 'routine': 'qcelemental.molparse.from_schema'}, id=463178, extras=None),\n",
       " (-15,): Molecule(schema_name=qcschema_molecule, schema_version=2, validated=True, symbols=['C' 'C' 'C' 'C' 'C' 'C' 'C' 'O' 'H' 'H' 'H' 'H' 'H' 'H' 'H' 'H'], geometry=[[ 3.70444484 -2.08536058 -0.30602168]\n",
       "  [ 5.42171814 -1.81248734  1.67650045]\n",
       "  [ 1.10845069 -2.04737062  0.22011872]\n",
       "  [ 4.58579213 -1.50370096  4.16903174]\n",
       "  [ 0.24847747 -1.74870149  2.6892643 ]\n",
       "  [ 1.98334563 -1.48072909  4.68387251]\n",
       "  [ 2.54115462 -1.3800461   9.16114721]\n",
       "  [ 0.97332592 -1.13872669  7.02046597]\n",
       "  [ 4.37458448 -2.32456995 -2.24376515]\n",
       "  [ 7.45230012 -1.83222076  1.29503933]\n",
       "  [-0.26085794 -2.25792583 -1.31253249]\n",
       "  [ 5.96644644 -1.28397146  5.68249548]\n",
       "  [-1.76495913 -1.71423857  3.13922479]\n",
       "  [ 1.29951636 -1.2873653  10.82289062]\n",
       "  [ 3.94041723  0.16716183  9.29131427]\n",
       "  [ 3.56236256 -3.20285849  9.1733056 ]], name=C7H8O, identifiers={'molecule_hash': '6353c768493bd01d50a28569b04b0bd1faeccfb3', 'molecular_formula': 'C7H8O', 'smiles': None, 'inchi': None, 'inchikey': None, 'canonical_explicit_hydrogen_smiles': None, 'canonical_isomeric_explicit_hydrogen_mapped_smiles': None, 'canonical_isomeric_explicit_hydrogen_smiles': None, 'canonical_isomeric_smiles': None, 'canonical_smiles': None}, comment=None, molecular_charge=0.0, molecular_multiplicity=1, masses=[12.         12.         12.         12.         12.         12.\n",
       "  12.         15.99491462  1.00782503  1.00782503  1.00782503  1.00782503\n",
       "   1.00782503  1.00782503  1.00782503  1.00782503], real=[ True  True  True  True  True  True  True  True  True  True  True  True\n",
       "   True  True  True  True], atom_labels=['' '' '' '' '' '' '' '' '' '' '' '' '' '' '' ''], atomic_numbers=[6 6 6 6 6 6 6 8 1 1 1 1 1 1 1 1], mass_numbers=[12 12 12 12 12 12 12 16  1  1  1  1  1  1  1  1], connectivity=[(0, 2, 2.0), (0, 1, 1.0), (0, 8, 1.0), (1, 3, 2.0), (1, 9, 1.0), (2, 4, 1.0), (2, 10, 1.0), (3, 5, 1.0), (3, 11, 1.0), (4, 5, 2.0), (4, 12, 1.0), (5, 7, 1.0), (6, 7, 1.0), (6, 13, 1.0), (6, 14, 1.0), (6, 15, 1.0)], fragments=[array([ 0,  1,  2,  3,  4,  5,  6,  7,  8,  9, 10, 11, 12, 13, 14, 15],\n",
       "       dtype=int32)], fragment_charges=[0.0], fragment_multiplicities=[1], fix_com=True, fix_orientation=True, fix_symmetry=None, provenance={'creator': 'QCElemental', 'version': 'v0.11.0', 'routine': 'qcelemental.molparse.from_schema'}, id=463335, extras=None),\n",
       " (15,): Molecule(schema_name=qcschema_molecule, schema_version=2, validated=True, symbols=['C' 'C' 'C' 'C' 'C' 'C' 'C' 'O' 'H' 'H' 'H' 'H' 'H' 'H' 'H' 'H'], geometry=[[ 3.70448247 -1.92662444 -0.31778593]\n",
       "  [ 5.42169639 -1.90514381  1.68336373]\n",
       "  [ 1.10848889 -1.88548988  0.20812449]\n",
       "  [ 4.58571506 -1.84287149  4.19415947]\n",
       "  [ 0.24846249 -1.81664612  2.69429743]\n",
       "  [ 1.983275   -1.78854545  4.70667893]\n",
       "  [ 2.5411861  -1.22859275  9.14992915]\n",
       "  [ 0.97317763 -1.78202702  7.06812715]\n",
       "  [ 4.37466574 -1.97588365 -2.26960286]\n",
       "  [ 7.45227515 -1.94275871  1.3032283 ]\n",
       "  [-0.26077669 -1.90247038 -1.33886803]\n",
       "  [ 5.96632233 -1.83779682  5.72352584]\n",
       "  [-1.76497555 -1.78351301  3.14435528]\n",
       "  [ 1.29956022 -1.07481746 10.80714566]\n",
       "  [ 3.56322061  0.57564798  8.8933725 ]\n",
       "  [ 3.93975196 -2.74036093  9.50672658]], name=C7H8O, identifiers={'molecule_hash': '0fb2d9128eabf27a29c645d57a5ce4d64ce03dc4', 'molecular_formula': 'C7H8O', 'smiles': None, 'inchi': None, 'inchikey': None, 'canonical_explicit_hydrogen_smiles': None, 'canonical_isomeric_explicit_hydrogen_mapped_smiles': None, 'canonical_isomeric_explicit_hydrogen_smiles': None, 'canonical_isomeric_smiles': None, 'canonical_smiles': None}, comment=None, molecular_charge=0.0, molecular_multiplicity=1, masses=[12.         12.         12.         12.         12.         12.\n",
       "  12.         15.99491462  1.00782503  1.00782503  1.00782503  1.00782503\n",
       "   1.00782503  1.00782503  1.00782503  1.00782503], real=[ True  True  True  True  True  True  True  True  True  True  True  True\n",
       "   True  True  True  True], atom_labels=['' '' '' '' '' '' '' '' '' '' '' '' '' '' '' ''], atomic_numbers=[6 6 6 6 6 6 6 8 1 1 1 1 1 1 1 1], mass_numbers=[12 12 12 12 12 12 12 16  1  1  1  1  1  1  1  1], connectivity=[(0, 2, 2.0), (0, 1, 1.0), (0, 8, 1.0), (1, 3, 2.0), (1, 9, 1.0), (2, 4, 1.0), (2, 10, 1.0), (3, 5, 1.0), (3, 11, 1.0), (4, 5, 2.0), (4, 12, 1.0), (5, 7, 1.0), (6, 7, 1.0), (6, 13, 1.0), (6, 14, 1.0), (6, 15, 1.0)], fragments=[array([ 0,  1,  2,  3,  4,  5,  6,  7,  8,  9, 10, 11, 12, 13, 14, 15],\n",
       "       dtype=int32)], fragment_charges=[0.0], fragment_multiplicities=[1], fix_com=True, fix_orientation=True, fix_symmetry=None, provenance={'creator': 'QCElemental', 'version': 'v0.11.0', 'routine': 'qcelemental.molparse.from_schema'}, id=465210, extras=None)}"
      ]
     },
     "execution_count": 16,
     "metadata": {},
     "output_type": "execute_result"
    }
   ],
   "source": [
    "td.get_final_molecules()"
   ]
  },
  {
   "cell_type": "markdown",
   "metadata": {},
   "source": [
    "## Exploring connection optimizations\n",
    "\n",
    "If desired, we can pull each geometry optimization belonging to the torsiondrive with the `get_history` function. \n",
    "In this case, we will pull the lowest energy optimization for the 180 degree dihedral:"
   ]
  },
  {
   "cell_type": "code",
   "execution_count": 17,
   "metadata": {},
   "outputs": [
    {
     "data": {
      "text/plain": [
       "OptimizationRecord(id=1701507, hash_index=effb8d6307ac3cc1a263e674e93342498f10219f, procedure=optimization, program=geometric, version=1, protocols={}, extras={}, stdout=228720, stderr=None, error=None, task_id=5c988a95b6a2de5fb9b9e33f, manager_name=None, status=COMPLETE, modified_on=2019-03-25 08:02:57.063000, created_on=2019-03-22 20:21:05.145000, provenance={'creator': 'geomeTRIC', 'version': '0.9.5', 'routine': 'geometric.run_json.geometric_run_json', 'wall_time': 111.76719880104065, 'qcengine_version': 'v0.6.4', 'cpu': 'Intel(R) Xeon(R) CPU E5-2680 v3 @ 2.50GHz', 'username': 'lnaden', 'hostname': 'dt039'}, schema_version=1, initial_molecule=458443, qc_spec={'driver': <DriverEnum.gradient: 'gradient'>, 'method': 'b3lyp-d3', 'basis': 'def2-svp', 'keywords': '5c954fa6b6a2de5f188ea234', 'program': 'psi4'}, keywords={'coordsys': 'tric', 'enforce': 0.1, 'constraints': {'set': [{'type': 'dihedral', 'indices': [3, 5, 7, 6], 'value': 180}]}, 'program': 'psi4'}, energies=[-346.53147622614085, -346.53177915374135, -346.5318873591642, -346.53194287295247, -346.53197743434515, -346.5319973422999, -346.53199831291954, -346.53199826976714, -346.5319986074462], final_molecule=458506, trajectory=['594805', '594862', '594863', '594864', '594865', '594866', '594867', '594868', '594869'])"
      ]
     },
     "execution_count": 17,
     "metadata": {},
     "output_type": "execute_result"
    }
   ],
   "source": [
    "opt = td.get_history(180, minimum=True)\n",
    "opt"
   ]
  },
  {
   "cell_type": "code",
   "execution_count": 18,
   "metadata": {},
   "outputs": [
    {
     "data": {
      "text/plain": [
       "[-346.53147622614085,\n",
       " -346.53177915374135,\n",
       " -346.5318873591642,\n",
       " -346.53194287295247,\n",
       " -346.53197743434515,\n",
       " -346.5319973422999,\n",
       " -346.53199831291954,\n",
       " -346.53199826976714,\n",
       " -346.5319986074462]"
      ]
     },
     "execution_count": 18,
     "metadata": {},
     "output_type": "execute_result"
    }
   ],
   "source": [
    "opt.energies"
   ]
  },
  {
   "cell_type": "markdown",
   "metadata": {},
   "source": [
    "## Exploring individual gradient evaluations\n",
    "\n",
    "We can go even deeper in the calculations to look at each gradient calculation of the `Optimization` calculation if we so choose and see even more details about how the `TorsionDrive` object was constructed."
   ]
  },
  {
   "cell_type": "code",
   "execution_count": 19,
   "metadata": {},
   "outputs": [],
   "source": [
    "result = opt.get_trajectory()[-1]"
   ]
  },
  {
   "cell_type": "code",
   "execution_count": 20,
   "metadata": {},
   "outputs": [
    {
     "name": "stdout",
     "output_type": "stream",
     "text": [
      "Program:                   psi4\n",
      "Number of Basis Functions: 152\n",
      "Total execution time:      12.15s\n"
     ]
    }
   ],
   "source": [
    "print(\"Program:                   {}\".format(result.program))\n",
    "print(\"Number of Basis Functions: {}\".format(result.properties.calcinfo_nbasis))\n",
    "print(\"Total execution time:      {:.2f}s\".format(result.provenance.wall_time))"
   ]
  },
  {
   "cell_type": "markdown",
   "metadata": {},
   "source": [
    "This example also contains the Wiberg-Lowdin indices. \n",
    "As this is specific to Psi4, this data resides inside the `extras` tag rather than general properties. \n",
    "This data is not yet well curated and currently exists as a 1D list. \n",
    "We will first pull this data and transform it to a 2D array:"
   ]
  },
  {
   "cell_type": "code",
   "execution_count": 21,
   "metadata": {},
   "outputs": [],
   "source": [
    "import numpy as np\n",
    "wiberg = np.array(result.extras[\"qcvars\"][\"WIBERG_LOWDIN_INDICES\"]).reshape(-1, 16)"
   ]
  },
  {
   "cell_type": "markdown",
   "metadata": {},
   "source": [
    "As this particular example is exploring the `3-5-7-6` dihedral, we would find the most use in the `5-7` bond. This can be acquired as follows: "
   ]
  },
  {
   "cell_type": "code",
   "execution_count": 22,
   "metadata": {},
   "outputs": [
    {
     "data": {
      "text/plain": [
       "1.2700940280530457"
      ]
     },
     "execution_count": 22,
     "metadata": {},
     "output_type": "execute_result"
    }
   ],
   "source": [
    "wiberg[5, 7]"
   ]
  },
  {
   "cell_type": "markdown",
   "metadata": {},
   "source": [
    "We can continue to explore these results and even obtain the standard Psi4 logging information!"
   ]
  },
  {
   "cell_type": "code",
   "execution_count": 23,
   "metadata": {},
   "outputs": [
    {
     "name": "stdout",
     "output_type": "stream",
     "text": [
      "\n",
      "  Memory set to  60.800 GiB by Python driver.\n",
      "gradient() will perform analytic gradient computation.\n",
      "\n",
      "*** tstart() called on dt039\n",
      "*** at Mon Mar 25 04:02:23 2019\n",
      "\n",
      "   => Loading Basis Set <=\n",
      "\n",
      "    Name: DEF2-SVP\n",
      "    Role: ORBITAL\n",
      "    Keyword: BASIS\n",
      "    atoms 1-7  entry C          line    90 file /home/lnaden/miniconda3/envs/qca/share/psi4/basis/def2-svp.gbs \n",
      "    atoms 8    entry O          line   130 file /home/lnaden/miniconda3/envs/qca/share/psi4/basis/def2-svp.gbs \n",
      "    atoms 9-16 entry H          line    15 file /home/lnaden/miniconda3/envs/qca/share/psi4/basis/def2-svp.gbs \n",
      "\n",
      "\n",
      "         ---------------------------------------------------------\n",
      "                                   SCF\n",
      "               by Justin Turney, Rob Parrish, Andy Simmonett\n",
      "                          and Daniel G. A. Smith\n",
      "                              RKS Reference\n",
      "                        6 Threads,  62259 MiB Core\n",
      "         ---------------------------------------------------------\n",
      "\n",
      "  ==> Geometry <==\n",
      "\n",
      "    Molecular \n"
     ]
    }
   ],
   "source": [
    "print(result.get_stdout()[:1000])"
   ]
  }
 ],
 "metadata": {
  "kernelspec": {
   "display_name": "Python 3",
   "language": "python",
   "name": "python3"
  },
  "language_info": {
   "codemirror_mode": {
    "name": "ipython",
    "version": 3
   },
   "file_extension": ".py",
   "mimetype": "text/x-python",
   "name": "python",
   "nbconvert_exporter": "python",
   "pygments_lexer": "ipython3",
   "version": "3.7.3"
  },
  "widgets": {
   "application/vnd.jupyter.widget-state+json": {
    "state": {
     "09f023edf32842cc83d8a7fc1c757da6": {
      "model_module": "@jupyter-widgets/controls",
      "model_module_version": "1.5.0",
      "model_name": "PlayModel",
      "state": {
       "layout": "IPY_MODEL_96d8c5724051455bbe8ae6f9bdbf069f",
       "max": 0,
       "style": "IPY_MODEL_c6dc212bd962497aa077494a781d5a8f"
      }
     },
     "0e06bfbeeb0640a08fdb783d77268561": {
      "model_module": "@jupyter-widgets/base",
      "model_module_version": "1.2.0",
      "model_name": "LayoutModel",
      "state": {}
     },
     "2316923d49e042ea922ea3ebc464e518": {
      "model_module": "@jupyter-widgets/base",
      "model_module_version": "1.2.0",
      "model_name": "LayoutModel",
      "state": {}
     },
     "2d369919e9c04e58ba175b62658a1c54": {
      "model_module": "@jupyter-widgets/controls",
      "model_module_version": "1.5.0",
      "model_name": "ButtonModel",
      "state": {
       "icon": "compress",
       "layout": "IPY_MODEL_a66efb2248a142daad50a3fd010baf6e",
       "style": "IPY_MODEL_8c3a3d29dbe942a7927bcfa5043f1e27"
      }
     },
     "43eec2dc09e14079a39332159a0056e0": {
      "model_module": "@jupyter-widgets/base",
      "model_module_version": "1.2.0",
      "model_name": "LayoutModel",
      "state": {}
     },
     "58459f5c9b0c4c3cac66431ef346eb33": {
      "model_module": "@jupyter-widgets/controls",
      "model_module_version": "1.5.0",
      "model_name": "SliderStyleModel",
      "state": {
       "description_width": ""
      }
     },
     "5ca0d4ae25ed4b59a17f430da4f44cf0": {
      "model_module": "@jupyter-widgets/controls",
      "model_module_version": "1.5.0",
      "model_name": "IntSliderModel",
      "state": {
       "layout": "IPY_MODEL_43eec2dc09e14079a39332159a0056e0",
       "max": 0,
       "style": "IPY_MODEL_58459f5c9b0c4c3cac66431ef346eb33"
      }
     },
     "6596c3fce31d4891b620dfa0baa2c5c5": {
      "model_module": "nglview-js-widgets",
      "model_module_version": "2.7.1",
      "model_name": "NGLModel",
      "state": {
       "_camera_orientation": [
        22.284232704401873,
        0,
        0,
        0,
        0,
        22.284232704401873,
        0,
        0,
        0,
        0,
        22.284232704401873,
        0,
        -1.625749945640564,
        0.7028999924659729,
        -2.2950000762939453,
        1
       ],
       "_camera_str": "orthographic",
       "_gui_theme": null,
       "_ibtn_fullscreen": "IPY_MODEL_2d369919e9c04e58ba175b62658a1c54",
       "_igui": null,
       "_iplayer": "IPY_MODEL_6ec051f84be040c0ae1b40b9448d3082",
       "_ngl_color_dict": {},
       "_ngl_coordinate_resource": {},
       "_ngl_full_stage_parameters": {
        "ambientColor": 14540253,
        "ambientIntensity": 0.2,
        "backgroundColor": "white",
        "cameraEyeSep": 0.3,
        "cameraFov": 40,
        "cameraType": "perspective",
        "clipDist": 10,
        "clipFar": 100,
        "clipNear": 0,
        "fogFar": 100,
        "fogNear": 50,
        "hoverTimeout": 0,
        "impostor": true,
        "lightColor": 14540253,
        "lightIntensity": 1,
        "mousePreset": "default",
        "panSpeed": 1,
        "quality": "medium",
        "rotateSpeed": 2,
        "sampleLevel": 0,
        "tooltip": true,
        "workerDefault": true,
        "zoomSpeed": 1.2
       },
       "_ngl_msg_archive": [
        {
         "args": [
          {
           "binary": false,
           "data": "\nQCElemental\n\n 16 16  0  0  0  0  0  0  0  0  0\n    1.9581   -0.8932   -0.1136 C   0  0     0  0  0  0  0  0\n    2.9421   -1.2833    0.8016 C   0  0     0  0  0  0  0  0\n    0.6397   -0.7130    0.3190 C   0  0     0  0  0  0  0  0\n    2.6134   -1.4899    2.1442 C   0  0     0  0  0  0  0  0\n    0.3041   -0.9175    1.6604 C   0  0     0  0  0  0  0  0\n    1.2924   -1.3077    2.5728 C   0  0     0  0  0  0  0  0\n    1.0723   -0.4302    4.7483 C   0  0     0  0  0  0  0  0\n    0.9581   -1.5451    3.8829 O   0  0     0  0  0  0  0  0\n    2.2173   -0.7349   -1.1633 H   0  0     0  0  0  0  0  0\n    3.9722   -1.4324    0.4673 H   0  0     0  0  0  0  0  0\n   -0.1342   -0.4149   -0.3933 H   0  0     0  0  0  0  0  0\n    3.3639   -1.8052    2.8728 H   0  0     0  0  0  0  0  0\n   -0.7207   -0.7923    2.0174 H   0  0     0  0  0  0  0  0\n    0.7765   -0.7642    5.7533 H   0  0     0  0  0  0  0  0\n    0.4096    0.3994    4.4360 H   0  0     0  0  0  0  0  0\n    2.1099   -0.0474    4.7881 H   0  0     0  0  0  0  0  0\n  1  3  2  0  0  0  0\n  1  2  1  0  0  0  0\n  1  9  1  0  0  0  0\n  2  4  2  0  0  0  0\n  2 10  1  0  0  0  0\n  3  5  1  0  0  0  0\n  3 11  1  0  0  0  0\n  4  6  1  0  0  0  0\n  4 12  1  0  0  0  0\n  5  6  2  0  0  0  0\n  5 13  1  0  0  0  0\n  6  8  1  0  0  0  0\n  7  8  1  0  0  0  0\n  7 14  1  0  0  0  0\n  7 15  1  0  0  0  0\n  7 16  1  0  0  0  0\n",
           "type": "blob"
          }
         ],
         "kwargs": {
          "defaultRepresentation": true,
          "ext": "sdf"
         },
         "methodName": "loadFile",
         "reconstruc_color_scheme": false,
         "target": "Stage",
         "type": "call_method"
        }
       ],
       "_ngl_original_stage_parameters": {
        "ambientColor": 14540253,
        "ambientIntensity": 0.2,
        "backgroundColor": "white",
        "cameraEyeSep": 0.3,
        "cameraFov": 40,
        "cameraType": "perspective",
        "clipDist": 10,
        "clipFar": 100,
        "clipNear": 0,
        "fogFar": 100,
        "fogNear": 50,
        "hoverTimeout": 0,
        "impostor": true,
        "lightColor": 14540253,
        "lightIntensity": 1,
        "mousePreset": "default",
        "panSpeed": 1,
        "quality": "medium",
        "rotateSpeed": 2,
        "sampleLevel": 0,
        "tooltip": true,
        "workerDefault": true,
        "zoomSpeed": 1.2
       },
       "_ngl_repr_dict": {
        "0": {
         "0": {
          "params": {
           "aspectRatio": 1.5,
           "assembly": "default",
           "bondScale": 0.3,
           "bondSpacing": 0.75,
           "clipCenter": {
            "x": 0,
            "y": 0,
            "z": 0
           },
           "clipNear": 0,
           "clipRadius": 0,
           "colorMode": "hcl",
           "colorReverse": false,
           "colorScale": "",
           "colorScheme": "element",
           "colorValue": 9474192,
           "cylinderOnly": false,
           "defaultAssembly": "",
           "depthWrite": true,
           "diffuse": 16777215,
           "diffuseInterior": false,
           "disableImpostor": false,
           "disablePicking": false,
           "flatShaded": false,
           "interiorColor": 2236962,
           "interiorDarkening": 0,
           "lazy": false,
           "lineOnly": false,
           "linewidth": 2,
           "matrix": {
            "elements": [
             1,
             0,
             0,
             0,
             0,
             1,
             0,
             0,
             0,
             0,
             1,
             0,
             0,
             0,
             0,
             1
            ]
           },
           "metalness": 0,
           "multipleBond": "off",
           "opacity": 1,
           "openEnded": true,
           "quality": "high",
           "radialSegments": 20,
           "radiusData": {},
           "radiusScale": 2,
           "radiusSize": 0.15,
           "radiusType": "size",
           "roughness": 0.4,
           "sele": "",
           "side": "double",
           "sphereDetail": 2,
           "useInteriorColor": true,
           "visible": true,
           "wireframe": false
          },
          "type": "ball+stick"
         }
        }
       },
       "_ngl_serialize": false,
       "_ngl_version": "2.0.0-dev.36",
       "_ngl_view_id": [
        "75D69807-66B2-4869-9A80-8FCFDFF84D01"
       ],
       "_player_dict": {},
       "_scene_position": {},
       "_scene_rotation": {},
       "_synced_model_ids": [],
       "_synced_repr_model_ids": [],
       "_view_height": "",
       "_view_width": "",
       "background": "white",
       "frame": 0,
       "gui_style": null,
       "layout": "IPY_MODEL_e01b37b48dc44b7d9832d75cb9792083",
       "max_frame": 0,
       "n_components": 1,
       "picked": {}
      }
     },
     "6ec051f84be040c0ae1b40b9448d3082": {
      "model_module": "@jupyter-widgets/controls",
      "model_module_version": "1.5.0",
      "model_name": "HBoxModel",
      "state": {
       "children": [
        "IPY_MODEL_09f023edf32842cc83d8a7fc1c757da6",
        "IPY_MODEL_5ca0d4ae25ed4b59a17f430da4f44cf0"
       ],
       "layout": "IPY_MODEL_bc612f544f5f4d7dad19342ccc1d3bee"
      }
     },
     "7dd562b41f7a4a8b9a2336c8662556d0": {
      "model_module": "@jupyter-widgets/controls",
      "model_module_version": "1.5.0",
      "model_name": "LinkModel",
      "state": {
       "source": [
        "IPY_MODEL_09f023edf32842cc83d8a7fc1c757da6",
        "value"
       ],
       "target": [
        "IPY_MODEL_6596c3fce31d4891b620dfa0baa2c5c5",
        "frame"
       ]
      }
     },
     "8c3a3d29dbe942a7927bcfa5043f1e27": {
      "model_module": "@jupyter-widgets/controls",
      "model_module_version": "1.5.0",
      "model_name": "ButtonStyleModel",
      "state": {}
     },
     "8c9ac512d3994db3821efbfd86050d34": {
      "model_module": "@jupyter-widgets/controls",
      "model_module_version": "1.5.0",
      "model_name": "LinkModel",
      "state": {
       "source": [
        "IPY_MODEL_09f023edf32842cc83d8a7fc1c757da6",
        "value"
       ],
       "target": [
        "IPY_MODEL_5ca0d4ae25ed4b59a17f430da4f44cf0",
        "value"
       ]
      }
     },
     "96d8c5724051455bbe8ae6f9bdbf069f": {
      "model_module": "@jupyter-widgets/base",
      "model_module_version": "1.2.0",
      "model_name": "LayoutModel",
      "state": {}
     },
     "9a211d2dd67a45d5a367b1bd7171b379": {
      "model_module": "nglview-js-widgets",
      "model_module_version": "2.7.1",
      "model_name": "ColormakerRegistryModel",
      "state": {
       "_msg_ar": [],
       "_msg_q": [],
       "_ready": true,
       "layout": "IPY_MODEL_2316923d49e042ea922ea3ebc464e518"
      }
     },
     "9a5d4efaf84a4f0e82b2c4b19119aa5d": {
      "model_module": "@jupyter-widgets/controls",
      "model_module_version": "1.5.0",
      "model_name": "ImageModel",
      "state": {
       "layout": "IPY_MODEL_0e06bfbeeb0640a08fdb783d77268561",
       "width": "900.0"
      }
     },
     "a64665ac3fe04c88bbaa3cc80fd466bd": {
      "model_module": "@jupyter-widgets/controls",
      "model_module_version": "1.5.0",
      "model_name": "LinkModel",
      "state": {
       "source": [
        "IPY_MODEL_5ca0d4ae25ed4b59a17f430da4f44cf0",
        "max"
       ],
       "target": [
        "IPY_MODEL_6596c3fce31d4891b620dfa0baa2c5c5",
        "max_frame"
       ]
      }
     },
     "a66efb2248a142daad50a3fd010baf6e": {
      "model_module": "@jupyter-widgets/base",
      "model_module_version": "1.2.0",
      "model_name": "LayoutModel",
      "state": {
       "width": "34px"
      }
     },
     "b006dce6937c480e9bd22162c3621b88": {
      "model_module": "@jupyter-widgets/controls",
      "model_module_version": "1.5.0",
      "model_name": "LinkModel",
      "state": {
       "source": [
        "IPY_MODEL_09f023edf32842cc83d8a7fc1c757da6",
        "max"
       ],
       "target": [
        "IPY_MODEL_6596c3fce31d4891b620dfa0baa2c5c5",
        "max_frame"
       ]
      }
     },
     "bc612f544f5f4d7dad19342ccc1d3bee": {
      "model_module": "@jupyter-widgets/base",
      "model_module_version": "1.2.0",
      "model_name": "LayoutModel",
      "state": {}
     },
     "c6dc212bd962497aa077494a781d5a8f": {
      "model_module": "@jupyter-widgets/controls",
      "model_module_version": "1.5.0",
      "model_name": "DescriptionStyleModel",
      "state": {
       "description_width": ""
      }
     },
     "e01b37b48dc44b7d9832d75cb9792083": {
      "model_module": "@jupyter-widgets/base",
      "model_module_version": "1.2.0",
      "model_name": "LayoutModel",
      "state": {}
     }
    },
    "version_major": 2,
    "version_minor": 0
   }
  }
 },
 "nbformat": 4,
 "nbformat_minor": 2
}
