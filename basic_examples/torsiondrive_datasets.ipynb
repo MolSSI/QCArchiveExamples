{
 "cells": [
  {
   "cell_type": "markdown",
   "metadata": {},
   "source": [
    "# TorsionDrive Datasets\n",
    "\n",
    "An individual TorsionDrive is specific workflow in the QCArchive ecosystem that computes the energy profile of rotatable dihedral (torsion) for use in Force Field fitting. This workflow has been developed by the QCArchive Team in conjunction with:\n",
    "\n",
    " - [Lee-Ping Wang](https://chemistry.ucdavis.edu/people/lee-ping-wang)\n",
    " - [John Chodera](http://www.choderalab.org)\n",
    " - Chaya Stern\n",
    " - Yudong Qiu\n",
    " - [The Open Force Field Initiative](https://openforcefield.org)\n",
    "\n",
    "The top-level TorsionDrive code can be found [here](https://github.com/lpwgroup/torsiondrive).\n",
    "\n",
    "The TorsionDrive Dataset organizes many TorsionDrives together for data exploration, analysis, and methodology comparison. To begin, we can connect to the MolSSI QCArchive server and query all known TorsionDrive Datasets:"
   ]
  },
  {
   "cell_type": "code",
   "execution_count": 1,
   "metadata": {},
   "outputs": [
    {
     "data": {
      "text/html": [
       "\n",
       "<h3>FractalClient</h3>\n",
       "<ul>\n",
       "  <li><b>Server:   &nbsp; </b>The MolSSI QCArchive Server</li>\n",
       "  <li><b>Address:  &nbsp; </b>https://api.qcarchive.molssi.org:443/</li>\n",
       "  <li><b>Username: &nbsp; </b>None</li>\n",
       "</ul>\n"
      ],
      "text/plain": [
       "FractalClient(server_name='The MolSSI QCArchive Server', address='https://api.qcarchive.molssi.org:443/', username='None')"
      ]
     },
     "execution_count": 1,
     "metadata": {},
     "output_type": "execute_result"
    }
   ],
   "source": [
    "import qcportal as ptl\n",
    "client = ptl.FractalClient()\n",
    "client"
   ]
  },
  {
   "cell_type": "code",
   "execution_count": 2,
   "metadata": {},
   "outputs": [
    {
     "data": {
      "text/html": [
       "<div>\n",
       "<style scoped>\n",
       "    .dataframe tbody tr th:only-of-type {\n",
       "        vertical-align: middle;\n",
       "    }\n",
       "\n",
       "    .dataframe tbody tr th {\n",
       "        vertical-align: top;\n",
       "    }\n",
       "\n",
       "    .dataframe thead th {\n",
       "        text-align: right;\n",
       "    }\n",
       "</style>\n",
       "<table border=\"1\" class=\"dataframe\">\n",
       "  <thead>\n",
       "    <tr style=\"text-align: right;\">\n",
       "      <th></th>\n",
       "      <th></th>\n",
       "      <th>tagline</th>\n",
       "    </tr>\n",
       "    <tr>\n",
       "      <th>collection</th>\n",
       "      <th>name</th>\n",
       "      <th></th>\n",
       "    </tr>\n",
       "  </thead>\n",
       "  <tbody>\n",
       "    <tr>\n",
       "      <th rowspan=\"2\" valign=\"top\">TorsionDriveDataset</th>\n",
       "      <th>OpenFF Fragmenter Phenyl Benchmark</th>\n",
       "      <td>Phenyl substituent torsional barrier heights.</td>\n",
       "    </tr>\n",
       "    <tr>\n",
       "      <th>OpenFF Group1 Torsions</th>\n",
       "      <td>None</td>\n",
       "    </tr>\n",
       "  </tbody>\n",
       "</table>\n",
       "</div>"
      ],
      "text/plain": [
       "                                                                                              tagline\n",
       "collection          name                                                                             \n",
       "TorsionDriveDataset OpenFF Fragmenter Phenyl Benchmark  Phenyl substituent torsional barrier heights.\n",
       "                    OpenFF Group1 Torsions                                                       None"
      ]
     },
     "execution_count": 2,
     "metadata": {},
     "output_type": "execute_result"
    }
   ],
   "source": [
    "client.list_collections(\"TorsionDriveDataset\")"
   ]
  },
  {
   "cell_type": "markdown",
   "metadata": {},
   "source": [
    "One of the datasets can be obtained in the canonical manner:"
   ]
  },
  {
   "cell_type": "code",
   "execution_count": 3,
   "metadata": {},
   "outputs": [],
   "source": [
    "ds = client.get_collection(\"TorsionDriveDataset\", \"OpenFF Fragmenter Phenyl Benchmark\")"
   ]
  },
  {
   "cell_type": "markdown",
   "metadata": {},
   "source": [
    "## Exploring the Dataset\n",
    "\n",
    "Each row of the dataset is comprised of a `Entry` which contains a list of starting molecules for the TorsionDrive, the dihedral of interest (in this case zero-indexed), and the scan resolution of the dihedral. For the purposes of the underlying DataFrame each row is the name of this `Entry`."
   ]
  },
  {
   "cell_type": "code",
   "execution_count": 4,
   "metadata": {},
   "outputs": [
    {
     "data": {
      "text/html": [
       "<div>\n",
       "<style scoped>\n",
       "    .dataframe tbody tr th:only-of-type {\n",
       "        vertical-align: middle;\n",
       "    }\n",
       "\n",
       "    .dataframe tbody tr th {\n",
       "        vertical-align: top;\n",
       "    }\n",
       "\n",
       "    .dataframe thead th {\n",
       "        text-align: right;\n",
       "    }\n",
       "</style>\n",
       "<table border=\"1\" class=\"dataframe\">\n",
       "  <thead>\n",
       "    <tr style=\"text-align: right;\">\n",
       "      <th></th>\n",
       "    </tr>\n",
       "  </thead>\n",
       "  <tbody>\n",
       "    <tr>\n",
       "      <th>c1c[cH:1][c:2](cc1)[C:3](=[O:4])O</th>\n",
       "    </tr>\n",
       "    <tr>\n",
       "      <th>c1[cH:1][c:2](cnc1)[C:3](=[O:4])O</th>\n",
       "    </tr>\n",
       "    <tr>\n",
       "      <th>[cH:1]1cncc[c:2]1[C:3](=[O:4])O</th>\n",
       "    </tr>\n",
       "    <tr>\n",
       "      <th>[cH:1]1cc(nc[c:2]1[C:3](=[O:4])O)[O-]</th>\n",
       "    </tr>\n",
       "    <tr>\n",
       "      <th>Cc1c[cH:1][c:2](cn1)[C:3](=[O:4])O</th>\n",
       "    </tr>\n",
       "  </tbody>\n",
       "</table>\n",
       "</div>"
      ],
      "text/plain": [
       "Empty DataFrame\n",
       "Columns: []\n",
       "Index: [c1c[cH:1][c:2](cc1)[C:3](=[O:4])O, c1[cH:1][c:2](cnc1)[C:3](=[O:4])O, [cH:1]1cncc[c:2]1[C:3](=[O:4])O, [cH:1]1cc(nc[c:2]1[C:3](=[O:4])O)[O-], Cc1c[cH:1][c:2](cn1)[C:3](=[O:4])O]"
      ]
     },
     "execution_count": 4,
     "metadata": {},
     "output_type": "execute_result"
    }
   ],
   "source": [
    "ds.df.head()"
   ]
  },
  {
   "cell_type": "markdown",
   "metadata": {},
   "source": [
    "New computations are based off specifications which contain many additional parameters to tune the torsiondrive as well as the underlying computational method. Here, we can list all specifications that are attributed to this dataset."
   ]
  },
  {
   "cell_type": "code",
   "execution_count": 5,
   "metadata": {},
   "outputs": [
    {
     "data": {
      "text/html": [
       "<div>\n",
       "<style scoped>\n",
       "    .dataframe tbody tr th:only-of-type {\n",
       "        vertical-align: middle;\n",
       "    }\n",
       "\n",
       "    .dataframe tbody tr th {\n",
       "        vertical-align: top;\n",
       "    }\n",
       "\n",
       "    .dataframe thead th {\n",
       "        text-align: right;\n",
       "    }\n",
       "</style>\n",
       "<table border=\"1\" class=\"dataframe\">\n",
       "  <thead>\n",
       "    <tr style=\"text-align: right;\">\n",
       "      <th></th>\n",
       "      <th>Description</th>\n",
       "    </tr>\n",
       "    <tr>\n",
       "      <th>Name</th>\n",
       "      <th></th>\n",
       "    </tr>\n",
       "  </thead>\n",
       "  <tbody>\n",
       "    <tr>\n",
       "      <th>UFF</th>\n",
       "      <td>UFF gradient evaluation with RDKit</td>\n",
       "    </tr>\n",
       "    <tr>\n",
       "      <th>B3LYP-D3</th>\n",
       "      <td>B3LYP-D3 evaluation with Psi4</td>\n",
       "    </tr>\n",
       "  </tbody>\n",
       "</table>\n",
       "</div>"
      ],
      "text/plain": [
       "                                 Description\n",
       "Name                                        \n",
       "UFF       UFF gradient evaluation with RDKit\n",
       "B3LYP-D3       B3LYP-D3 evaluation with Psi4"
      ]
     },
     "execution_count": 5,
     "metadata": {},
     "output_type": "execute_result"
    }
   ],
   "source": [
    "ds.list_specifications()"
   ]
  },
  {
   "cell_type": "markdown",
   "metadata": {},
   "source": [
    "As we can see, we have several specifications at different levels of theory. It is important to recall that these Collections are \"live\": new specifications can be added and individual TorsionDrives can be under computation. To see the current status of each specification the `status` function is provided:"
   ]
  },
  {
   "cell_type": "code",
   "execution_count": 6,
   "metadata": {},
   "outputs": [
    {
     "data": {
      "text/html": [
       "<div>\n",
       "<style scoped>\n",
       "    .dataframe tbody tr th:only-of-type {\n",
       "        vertical-align: middle;\n",
       "    }\n",
       "\n",
       "    .dataframe tbody tr th {\n",
       "        vertical-align: top;\n",
       "    }\n",
       "\n",
       "    .dataframe thead th {\n",
       "        text-align: right;\n",
       "    }\n",
       "</style>\n",
       "<table border=\"1\" class=\"dataframe\">\n",
       "  <thead>\n",
       "    <tr style=\"text-align: right;\">\n",
       "      <th></th>\n",
       "      <th>UFF</th>\n",
       "      <th>B3LYP-D3</th>\n",
       "    </tr>\n",
       "  </thead>\n",
       "  <tbody>\n",
       "    <tr>\n",
       "      <th>COMPLETE</th>\n",
       "      <td>165</td>\n",
       "      <td>226</td>\n",
       "    </tr>\n",
       "    <tr>\n",
       "      <th>INCOMPLETE</th>\n",
       "      <td>62</td>\n",
       "      <td>1</td>\n",
       "    </tr>\n",
       "  </tbody>\n",
       "</table>\n",
       "</div>"
      ],
      "text/plain": [
       "            UFF  B3LYP-D3\n",
       "COMPLETE    165       226\n",
       "INCOMPLETE   62         1"
      ]
     },
     "execution_count": 6,
     "metadata": {},
     "output_type": "execute_result"
    }
   ],
   "source": [
    "ds.status([\"uff\", \"b3lyp-d3\"])"
   ]
  },
  {
   "cell_type": "code",
   "execution_count": 7,
   "metadata": {},
   "outputs": [
    {
     "data": {
      "text/html": [
       "<div>\n",
       "<style scoped>\n",
       "    .dataframe tbody tr th:only-of-type {\n",
       "        vertical-align: middle;\n",
       "    }\n",
       "\n",
       "    .dataframe tbody tr th {\n",
       "        vertical-align: top;\n",
       "    }\n",
       "\n",
       "    .dataframe thead th {\n",
       "        text-align: right;\n",
       "    }\n",
       "</style>\n",
       "<table border=\"1\" class=\"dataframe\">\n",
       "  <thead>\n",
       "    <tr style=\"text-align: right;\">\n",
       "      <th></th>\n",
       "      <th>B3LYP-D3</th>\n",
       "    </tr>\n",
       "  </thead>\n",
       "  <tbody>\n",
       "    <tr>\n",
       "      <th>c1c[cH:1][c:2](cc1)[C:3](=[O:4])O</th>\n",
       "      <td>COMPLETE</td>\n",
       "    </tr>\n",
       "    <tr>\n",
       "      <th>c1[cH:1][c:2](cnc1)[C:3](=[O:4])O</th>\n",
       "      <td>COMPLETE</td>\n",
       "    </tr>\n",
       "    <tr>\n",
       "      <th>[cH:1]1cncc[c:2]1[C:3](=[O:4])O</th>\n",
       "      <td>COMPLETE</td>\n",
       "    </tr>\n",
       "    <tr>\n",
       "      <th>[cH:1]1cc(nc[c:2]1[C:3](=[O:4])O)[O-]</th>\n",
       "      <td>COMPLETE</td>\n",
       "    </tr>\n",
       "    <tr>\n",
       "      <th>Cc1c[cH:1][c:2](cn1)[C:3](=[O:4])O</th>\n",
       "      <td>COMPLETE</td>\n",
       "    </tr>\n",
       "  </tbody>\n",
       "</table>\n",
       "</div>"
      ],
      "text/plain": [
       "                                       B3LYP-D3\n",
       "c1c[cH:1][c:2](cc1)[C:3](=[O:4])O      COMPLETE\n",
       "c1[cH:1][c:2](cnc1)[C:3](=[O:4])O      COMPLETE\n",
       "[cH:1]1cncc[c:2]1[C:3](=[O:4])O        COMPLETE\n",
       "[cH:1]1cc(nc[c:2]1[C:3](=[O:4])O)[O-]  COMPLETE\n",
       "Cc1c[cH:1][c:2](cn1)[C:3](=[O:4])O     COMPLETE"
      ]
     },
     "execution_count": 7,
     "metadata": {},
     "output_type": "execute_result"
    }
   ],
   "source": [
    "ds.status([\"b3lyp-d3\"], collapse=False, status=\"COMPLETE\").head()"
   ]
  },
  {
   "cell_type": "markdown",
   "metadata": {},
   "source": [
    "## Visualizing the TorsionDrives\n",
    "\n",
    "TorsionDrives can be visualized via the ``visualize`` command. Multiple torsiondrives can be plotted on the same graph for comparison."
   ]
  },
  {
   "cell_type": "code",
   "execution_count": 8,
   "metadata": {},
   "outputs": [
    {
     "data": {
      "text/html": [
       "        <script type=\"text/javascript\">\n",
       "        window.PlotlyConfig = {MathJaxConfig: 'local'};\n",
       "        if (window.MathJax) {MathJax.Hub.Config({SVG: {font: \"STIX-Web\"}});}\n",
       "        if (typeof require !== 'undefined') {\n",
       "        require.undef(\"plotly\");\n",
       "        requirejs.config({\n",
       "            paths: {\n",
       "                'plotly': ['https://cdn.plot.ly/plotly-latest.min']\n",
       "            }\n",
       "        });\n",
       "        require(['plotly'], function(Plotly) {\n",
       "            window._Plotly = Plotly;\n",
       "        });\n",
       "        }\n",
       "        </script>\n",
       "        "
      ]
     },
     "metadata": {},
     "output_type": "display_data"
    },
    {
     "data": {
      "text/html": [
       "        <script type=\"text/javascript\">\n",
       "        window.PlotlyConfig = {MathJaxConfig: 'local'};\n",
       "        if (window.MathJax) {MathJax.Hub.Config({SVG: {font: \"STIX-Web\"}});}\n",
       "        if (typeof require !== 'undefined') {\n",
       "        require.undef(\"plotly\");\n",
       "        requirejs.config({\n",
       "            paths: {\n",
       "                'plotly': ['https://cdn.plot.ly/plotly-latest.min']\n",
       "            }\n",
       "        });\n",
       "        require(['plotly'], function(Plotly) {\n",
       "            window._Plotly = Plotly;\n",
       "        });\n",
       "        }\n",
       "        </script>\n",
       "        "
      ]
     },
     "metadata": {},
     "output_type": "display_data"
    },
    {
     "data": {
      "text/html": [
       "        <script type=\"text/javascript\">\n",
       "        window.PlotlyConfig = {MathJaxConfig: 'local'};\n",
       "        if (window.MathJax) {MathJax.Hub.Config({SVG: {font: \"STIX-Web\"}});}\n",
       "        if (typeof require !== 'undefined') {\n",
       "        require.undef(\"plotly\");\n",
       "        requirejs.config({\n",
       "            paths: {\n",
       "                'plotly': ['https://cdn.plot.ly/plotly-latest.min']\n",
       "            }\n",
       "        });\n",
       "        require(['plotly'], function(Plotly) {\n",
       "            window._Plotly = Plotly;\n",
       "        });\n",
       "        }\n",
       "        </script>\n",
       "        "
      ]
     },
     "metadata": {},
     "output_type": "display_data"
    },
    {
     "data": {
      "application/vnd.plotly.v1+json": {
       "config": {
        "linkText": "Export to plot.ly",
        "plotlyServerURL": "https://plot.ly",
        "responsive": true,
        "showLink": false
       },
       "data": [
        {
         "mode": "lines+markers",
         "name": "[CH3:4][O:3][c:2]1[cH:1]cccc1",
         "type": "scatter",
         "uid": "9538903a-668e-4fd0-ac1f-dd94f312d88b",
         "x": [
          -165,
          -150,
          -135,
          -120,
          -105,
          -90,
          -75,
          -60,
          -45,
          -30,
          -15,
          0,
          15,
          30,
          45,
          60,
          75,
          90,
          105,
          120,
          135,
          150,
          165,
          180
         ],
         "y": [
          1.371,
          5.132,
          9.891,
          12.92,
          14.032,
          14.394,
          13.921,
          12.638,
          9.364,
          4.74,
          1.24,
          0,
          1.24,
          4.74,
          9.364,
          12.638,
          13.921,
          14.394,
          14.032,
          12.92,
          9.891,
          5.132,
          1.371,
          0
         ]
        },
        {
         "mode": "lines+markers",
         "name": "[CH3:4][O:3][c:2]1[cH:1]ccnc1",
         "type": "scatter",
         "uid": "57d69960-2719-40d2-b5fd-c372039ac16b",
         "x": [
          -165,
          -150,
          -135,
          -120,
          -105,
          -90,
          -75,
          -60,
          -45,
          -30,
          -15,
          0,
          15,
          30,
          45,
          60,
          75,
          90,
          105,
          120,
          135,
          150,
          165,
          180
         ],
         "y": [
          1.409,
          5.27,
          10.236,
          13.445,
          14.483,
          14.793,
          14.275,
          12.917,
          9.7,
          5.137,
          1.619,
          0.361,
          1.619,
          5.137,
          9.7,
          12.917,
          14.275,
          14.793,
          14.483,
          13.445,
          10.236,
          5.27,
          1.409,
          0
         ]
        }
       ],
       "layout": {
        "title": {
         "text": "TorsionDriveDataset 1-D Plot [spec=B3LYP-D3]"
        },
        "xaxis": {
         "range": [
          -175,
          190
         ],
         "title": {
          "text": "Dihedral Angle [degrees]"
         },
         "zeroline": false
        },
        "yaxis": {
         "title": {
          "text": "Relative Energy [kJ / mol]"
         },
         "zeroline": true
        }
       }
      },
      "text/html": [
       "<div>\n",
       "        \n",
       "        \n",
       "            <div id=\"2619e9a5-53fc-450c-a75e-7c27ff6c1493\" class=\"plotly-graph-div\" style=\"height:525px; width:100%;\"></div>\n",
       "            <script type=\"text/javascript\">\n",
       "                require([\"plotly\"], function(Plotly) {\n",
       "                    window.PLOTLYENV=window.PLOTLYENV || {};\n",
       "                    window.PLOTLYENV.BASE_URL='https://plot.ly';\n",
       "                    \n",
       "                if (document.getElementById(\"2619e9a5-53fc-450c-a75e-7c27ff6c1493\")) {\n",
       "                    Plotly.newPlot(\n",
       "                        '2619e9a5-53fc-450c-a75e-7c27ff6c1493',\n",
       "                        [{\"mode\": \"lines+markers\", \"name\": \"[CH3:4][O:3][c:2]1[cH:1]cccc1\", \"type\": \"scatter\", \"uid\": \"fe8563c3-0f6f-4df0-bcb4-a9424924411f\", \"x\": [-165, -150, -135, -120, -105, -90, -75, -60, -45, -30, -15, 0, 15, 30, 45, 60, 75, 90, 105, 120, 135, 150, 165, 180], \"y\": [1.371, 5.132, 9.891, 12.92, 14.032, 14.394, 13.921, 12.638, 9.364, 4.74, 1.24, 0.0, 1.24, 4.74, 9.364, 12.638, 13.921, 14.394, 14.032, 12.92, 9.891, 5.132, 1.371, 0.0]}, {\"mode\": \"lines+markers\", \"name\": \"[CH3:4][O:3][c:2]1[cH:1]ccnc1\", \"type\": \"scatter\", \"uid\": \"99ee84a4-23e9-4897-a94a-85594fdc893b\", \"x\": [-165, -150, -135, -120, -105, -90, -75, -60, -45, -30, -15, 0, 15, 30, 45, 60, 75, 90, 105, 120, 135, 150, 165, 180], \"y\": [1.409, 5.27, 10.236, 13.445, 14.483, 14.793, 14.275, 12.917, 9.7, 5.137, 1.619, 0.361, 1.619, 5.137, 9.7, 12.917, 14.275, 14.793, 14.483, 13.445, 10.236, 5.27, 1.409, 0.0]}],\n",
       "                        {\"title\": {\"text\": \"TorsionDriveDataset 1-D Plot [spec=B3LYP-D3]\"}, \"xaxis\": {\"range\": [-175, 190], \"title\": {\"text\": \"Dihedral Angle [degrees]\"}, \"zeroline\": false}, \"yaxis\": {\"title\": {\"text\": \"Relative Energy [kJ / mol]\"}, \"zeroline\": true}},\n",
       "                        {\"showLink\": false, \"linkText\": \"Export to plot.ly\", \"plotlyServerURL\": \"https://plot.ly\", \"responsive\": true}\n",
       "                    ).then(function(){\n",
       "                            \n",
       "var gd = document.getElementById('2619e9a5-53fc-450c-a75e-7c27ff6c1493');\n",
       "var x = new MutationObserver(function (mutations, observer) {{\n",
       "        var display = window.getComputedStyle(gd).display;\n",
       "        if (!display || display === 'none') {{\n",
       "            console.log([gd, 'removed!']);\n",
       "            Plotly.purge(gd);\n",
       "            observer.disconnect();\n",
       "        }}\n",
       "}});\n",
       "\n",
       "// Listen for the removal of the full notebook cells\n",
       "var notebookContainer = gd.closest('#notebook-container');\n",
       "if (notebookContainer) {{\n",
       "    x.observe(notebookContainer, {childList: true});\n",
       "}}\n",
       "\n",
       "// Listen for the clearing of the current output cell\n",
       "var outputEl = gd.closest('.output');\n",
       "if (outputEl) {{\n",
       "    x.observe(outputEl, {childList: true});\n",
       "}}\n",
       "\n",
       "                        })\n",
       "                };\n",
       "                });\n",
       "            </script>\n",
       "        </div>"
      ]
     },
     "metadata": {},
     "output_type": "display_data"
    }
   ],
   "source": [
    "ds.visualize([\"[CH3:4][O:3][c:2]1[cH:1]cccc1\", \"[CH3:4][O:3][c:2]1[cH:1]ccnc1\"], \"B3LYP-D3\", units=\"kJ / mol\")"
   ]
  },
  {
   "cell_type": "markdown",
   "metadata": {},
   "source": [
    "## Computational Requirements\n",
    "\n",
    "We can check the number of optimizations and individual gradient evaluations by using the ``count`` method. \n",
    "By default, the ``count`` method shows the number of individual geometry optimizations:"
   ]
  },
  {
   "cell_type": "code",
   "execution_count": 9,
   "metadata": {},
   "outputs": [
    {
     "data": {
      "text/html": [
       "<div>\n",
       "<style scoped>\n",
       "    .dataframe tbody tr th:only-of-type {\n",
       "        vertical-align: middle;\n",
       "    }\n",
       "\n",
       "    .dataframe tbody tr th {\n",
       "        vertical-align: top;\n",
       "    }\n",
       "\n",
       "    .dataframe thead th {\n",
       "        text-align: right;\n",
       "    }\n",
       "</style>\n",
       "<table border=\"1\" class=\"dataframe\">\n",
       "  <thead>\n",
       "    <tr style=\"text-align: right;\">\n",
       "      <th></th>\n",
       "      <th>UFF</th>\n",
       "      <th>B3LYP-D3</th>\n",
       "    </tr>\n",
       "  </thead>\n",
       "  <tbody>\n",
       "    <tr>\n",
       "      <th>[CH3:4][O:3][c:2]1[cH:1]cccc1</th>\n",
       "      <td>49</td>\n",
       "      <td>49</td>\n",
       "    </tr>\n",
       "    <tr>\n",
       "      <th>[CH3:4][O:3][c:2]1[cH:1]ccnc1</th>\n",
       "      <td>49</td>\n",
       "      <td>53</td>\n",
       "    </tr>\n",
       "  </tbody>\n",
       "</table>\n",
       "</div>"
      ],
      "text/plain": [
       "                               UFF  B3LYP-D3\n",
       "[CH3:4][O:3][c:2]1[cH:1]cccc1   49        49\n",
       "[CH3:4][O:3][c:2]1[cH:1]ccnc1   49        53"
      ]
     },
     "execution_count": 9,
     "metadata": {},
     "output_type": "execute_result"
    }
   ],
   "source": [
    "ds.counts([\"[CH3:4][O:3][c:2]1[cH:1]cccc1\", \"[CH3:4][O:3][c:2]1[cH:1]ccnc1\"])"
   ]
  },
  {
   "cell_type": "markdown",
   "metadata": {},
   "source": [
    "In addition to individual optimization runs, we can also find a sum of how many gradient evaluations were performed in the course of the run."
   ]
  },
  {
   "cell_type": "code",
   "execution_count": 10,
   "metadata": {},
   "outputs": [
    {
     "data": {
      "text/html": [
       "<div>\n",
       "<style scoped>\n",
       "    .dataframe tbody tr th:only-of-type {\n",
       "        vertical-align: middle;\n",
       "    }\n",
       "\n",
       "    .dataframe tbody tr th {\n",
       "        vertical-align: top;\n",
       "    }\n",
       "\n",
       "    .dataframe thead th {\n",
       "        text-align: right;\n",
       "    }\n",
       "</style>\n",
       "<table border=\"1\" class=\"dataframe\">\n",
       "  <thead>\n",
       "    <tr style=\"text-align: right;\">\n",
       "      <th></th>\n",
       "      <th>UFF</th>\n",
       "      <th>B3LYP-D3</th>\n",
       "    </tr>\n",
       "  </thead>\n",
       "  <tbody>\n",
       "    <tr>\n",
       "      <th>[CH3:4][O:3][c:2]1[cH:1]cccc1</th>\n",
       "      <td>606</td>\n",
       "      <td>601</td>\n",
       "    </tr>\n",
       "    <tr>\n",
       "      <th>[CH3:4][O:3][c:2]1[cH:1]ccnc1</th>\n",
       "      <td>538</td>\n",
       "      <td>680</td>\n",
       "    </tr>\n",
       "  </tbody>\n",
       "</table>\n",
       "</div>"
      ],
      "text/plain": [
       "                               UFF  B3LYP-D3\n",
       "[CH3:4][O:3][c:2]1[cH:1]cccc1  606       601\n",
       "[CH3:4][O:3][c:2]1[cH:1]ccnc1  538       680"
      ]
     },
     "execution_count": 10,
     "metadata": {},
     "output_type": "execute_result"
    }
   ],
   "source": [
    "ds.counts([\"[CH3:4][O:3][c:2]1[cH:1]cccc1\", \"[CH3:4][O:3][c:2]1[cH:1]ccnc1\"], count_gradients=True)"
   ]
  },
  {
   "cell_type": "markdown",
   "metadata": {},
   "source": [
    "## Deep data inspection\n",
    "\n",
    "The TorsionDriveDataset also allows exploration of every single computation and molecule created during the individual TorsionDrive executions. Examples below this point will only be for those who wish to explore all of the individual computations in a TorsionDrive Dataset.\n",
    "\n",
    "These TorsionDrive Datasets are different from canonical ``ReactionDataset`` and ``Dataset`` collections as each item in the underlying Pandas DataFrame is a TorsionDriveRecord object which contains links to all data used in the TorsionDrive. We can observe the these in the underlying DataFrame:"
   ]
  },
  {
   "cell_type": "code",
   "execution_count": 11,
   "metadata": {},
   "outputs": [
    {
     "data": {
      "text/html": [
       "<div>\n",
       "<style scoped>\n",
       "    .dataframe tbody tr th:only-of-type {\n",
       "        vertical-align: middle;\n",
       "    }\n",
       "\n",
       "    .dataframe tbody tr th {\n",
       "        vertical-align: top;\n",
       "    }\n",
       "\n",
       "    .dataframe thead th {\n",
       "        text-align: right;\n",
       "    }\n",
       "</style>\n",
       "<table border=\"1\" class=\"dataframe\">\n",
       "  <thead>\n",
       "    <tr style=\"text-align: right;\">\n",
       "      <th></th>\n",
       "      <th>UFF</th>\n",
       "      <th>B3LYP-D3</th>\n",
       "    </tr>\n",
       "  </thead>\n",
       "  <tbody>\n",
       "    <tr>\n",
       "      <th>c1c[cH:1][c:2](cc1)[C:3](=[O:4])O</th>\n",
       "      <td>TorsionDriveRecord(id='5c951108cc2095305535f47...</td>\n",
       "      <td>TorsionDriveRecord(id='5c955144cc209530555d9af...</td>\n",
       "    </tr>\n",
       "    <tr>\n",
       "      <th>c1[cH:1][c:2](cnc1)[C:3](=[O:4])O</th>\n",
       "      <td>TorsionDriveRecord(id='5c951108cc2095305535f48...</td>\n",
       "      <td>TorsionDriveRecord(id='5c955144cc209530555d9b1...</td>\n",
       "    </tr>\n",
       "    <tr>\n",
       "      <th>[cH:1]1cncc[c:2]1[C:3](=[O:4])O</th>\n",
       "      <td>TorsionDriveRecord(id='5c951108cc2095305535f48...</td>\n",
       "      <td>TorsionDriveRecord(id='5c955144cc209530555d9b2...</td>\n",
       "    </tr>\n",
       "    <tr>\n",
       "      <th>[cH:1]1cc(nc[c:2]1[C:3](=[O:4])O)[O-]</th>\n",
       "      <td>TorsionDriveRecord(id='5c951108cc2095305535f49...</td>\n",
       "      <td>TorsionDriveRecord(id='5c955144cc209530555d9b3...</td>\n",
       "    </tr>\n",
       "    <tr>\n",
       "      <th>Cc1c[cH:1][c:2](cn1)[C:3](=[O:4])O</th>\n",
       "      <td>TorsionDriveRecord(id='5c951108cc2095305535f4a...</td>\n",
       "      <td>TorsionDriveRecord(id='5c955144cc209530555d9b5...</td>\n",
       "    </tr>\n",
       "  </tbody>\n",
       "</table>\n",
       "</div>"
      ],
      "text/plain": [
       "                                                                                     UFF  \\\n",
       "c1c[cH:1][c:2](cc1)[C:3](=[O:4])O      TorsionDriveRecord(id='5c951108cc2095305535f47...   \n",
       "c1[cH:1][c:2](cnc1)[C:3](=[O:4])O      TorsionDriveRecord(id='5c951108cc2095305535f48...   \n",
       "[cH:1]1cncc[c:2]1[C:3](=[O:4])O        TorsionDriveRecord(id='5c951108cc2095305535f48...   \n",
       "[cH:1]1cc(nc[c:2]1[C:3](=[O:4])O)[O-]  TorsionDriveRecord(id='5c951108cc2095305535f49...   \n",
       "Cc1c[cH:1][c:2](cn1)[C:3](=[O:4])O     TorsionDriveRecord(id='5c951108cc2095305535f4a...   \n",
       "\n",
       "                                                                                B3LYP-D3  \n",
       "c1c[cH:1][c:2](cc1)[C:3](=[O:4])O      TorsionDriveRecord(id='5c955144cc209530555d9af...  \n",
       "c1[cH:1][c:2](cnc1)[C:3](=[O:4])O      TorsionDriveRecord(id='5c955144cc209530555d9b1...  \n",
       "[cH:1]1cncc[c:2]1[C:3](=[O:4])O        TorsionDriveRecord(id='5c955144cc209530555d9b2...  \n",
       "[cH:1]1cc(nc[c:2]1[C:3](=[O:4])O)[O-]  TorsionDriveRecord(id='5c955144cc209530555d9b3...  \n",
       "Cc1c[cH:1][c:2](cn1)[C:3](=[O:4])O     TorsionDriveRecord(id='5c955144cc209530555d9b5...  "
      ]
     },
     "execution_count": 11,
     "metadata": {},
     "output_type": "execute_result"
    }
   ],
   "source": [
    "ds.df.head()"
   ]
  },
  {
   "cell_type": "markdown",
   "metadata": {},
   "source": [
    "We can then begin to explore an individual TorsionDriveRecord by first pulling it from the DataFrame:"
   ]
  },
  {
   "cell_type": "code",
   "execution_count": 12,
   "metadata": {},
   "outputs": [],
   "source": [
    "td = ds.df.loc[\"[CH3:4][O:3][c:2]1[cH:1]cccc1\", \"B3LYP-D3\"]"
   ]
  },
  {
   "cell_type": "markdown",
   "metadata": {},
   "source": [
    "We can then request a variety of attributes off this TorsionDriveRecord:"
   ]
  },
  {
   "cell_type": "code",
   "execution_count": 13,
   "metadata": {},
   "outputs": [
    {
     "name": "stdout",
     "output_type": "stream",
     "text": [
      "Torsion of interest                : [(3, 5, 7, 6)]\n",
      "Final optimization energy in hartree: -346.5319986074462\n"
     ]
    }
   ],
   "source": [
    "print(\"Torsion of interest                : {}\".format(td.keywords.dihedrals))\n",
    "print(\"Final optimization energy in hartree: {}\".format(td.get_final_energies(180)))"
   ]
  },
  {
   "cell_type": "code",
   "execution_count": 14,
   "metadata": {},
   "outputs": [
    {
     "data": {
      "application/3dmoljs_load.v0": "<div id=\"3dmolviewer_1559062105824587\"  style=\"position: relative; width: 400px; height: 400px\">\n        <p id=\"3dmolwarning_1559062105824587\" style=\"background-color:#ffcccc;color:black\">You appear to be running in JupyterLab (or JavaScript failed to load for some other reason).  You need to install the 3dmol extension: <br>\n        <tt>jupyter labextension install jupyterlab_3dmol</tt></p>\n        </div>\n<script>\n\nvar loadScriptAsync = function(uri){\n  return new Promise((resolve, reject) => {\n    var tag = document.createElement('script');\n    tag.src = uri;\n    tag.async = true;\n    tag.onload = () => {\n      resolve();\n    };\n  var firstScriptTag = document.getElementsByTagName('script')[0];\n  firstScriptTag.parentNode.insertBefore(tag, firstScriptTag);\n});\n};\n\nif(typeof $3Dmolpromise === 'undefined') {\n$3Dmolpromise = null;\n  $3Dmolpromise = loadScriptAsync('https://3dmol.csb.pitt.edu/build/3Dmol.js');\n}\n\nvar viewer_1559062105824587 = null;\nvar warn = document.getElementById(\"3dmolwarning_1559062105824587\");\nif(warn) {\n    warn.parentNode.removeChild(warn);\n}\n$3Dmolpromise.then(function() {\nviewer_1559062105824587 = $3Dmol.createViewer($(\"#3dmolviewer_1559062105824587\"),{backgroundColor:\"white\"});\n\tviewer_1559062105824587.addModel(\"16\\nC7H8O\\nC                     1.958096461784    -0.893151736255    -0.113635191421\\nC                     2.942073920184    -1.283277098904     0.801552182401\\nC                     0.639702242412    -0.712958392145     0.319031272245\\nC                     2.613398139269    -1.489890250270     2.144222940781\\nC                     0.304116962907    -0.917502973919     1.660369826998\\nC                     1.292428705460    -1.307713565849     2.572801494620\\nC                     1.072261304272    -0.430211081409     4.748294543383\\nO                     0.958101280185    -1.545145579914     3.882863326675\\nH                     2.217287713575    -0.734946710685    -1.163338830100\\nH                     3.972188820844    -1.432419033390     0.467266779087\\nH                    -0.134218999559    -0.414937339034    -0.393258795541\\nH                     3.363858754114    -1.805177609625     2.872763220482\\nH                    -0.720658126939    -0.792349441450     2.017412935473\\nH                     0.776542849374    -0.764150810293     5.753294847086\\nH                     0.409574069794     0.399371316210     4.435994463467\\nH                     2.109935236797    -0.047422824288     4.788083134432\\n\",\"xyz\");\n\tviewer_1559062105824587.setStyle({\"stick\": {\"radius\": 0.2}, \"sphere\": {\"scale\": 0.3}});\n\tviewer_1559062105824587.zoomTo();\nviewer_1559062105824587.render();\n});\n</script>",
      "text/html": [
       "<div id=\"3dmolviewer_1559062105824587\"  style=\"position: relative; width: 400px; height: 400px\">\n",
       "        <p id=\"3dmolwarning_1559062105824587\" style=\"background-color:#ffcccc;color:black\">You appear to be running in JupyterLab (or JavaScript failed to load for some other reason).  You need to install the 3dmol extension: <br>\n",
       "        <tt>jupyter labextension install jupyterlab_3dmol</tt></p>\n",
       "        </div>\n",
       "<script>\n",
       "\n",
       "var loadScriptAsync = function(uri){\n",
       "  return new Promise((resolve, reject) => {\n",
       "    var tag = document.createElement('script');\n",
       "    tag.src = uri;\n",
       "    tag.async = true;\n",
       "    tag.onload = () => {\n",
       "      resolve();\n",
       "    };\n",
       "  var firstScriptTag = document.getElementsByTagName('script')[0];\n",
       "  firstScriptTag.parentNode.insertBefore(tag, firstScriptTag);\n",
       "});\n",
       "};\n",
       "\n",
       "if(typeof $3Dmolpromise === 'undefined') {\n",
       "$3Dmolpromise = null;\n",
       "  $3Dmolpromise = loadScriptAsync('https://3dmol.csb.pitt.edu/build/3Dmol.js');\n",
       "}\n",
       "\n",
       "var viewer_1559062105824587 = null;\n",
       "var warn = document.getElementById(\"3dmolwarning_1559062105824587\");\n",
       "if(warn) {\n",
       "    warn.parentNode.removeChild(warn);\n",
       "}\n",
       "$3Dmolpromise.then(function() {\n",
       "viewer_1559062105824587 = $3Dmol.createViewer($(\"#3dmolviewer_1559062105824587\"),{backgroundColor:\"white\"});\n",
       "\tviewer_1559062105824587.addModel(\"16\\nC7H8O\\nC                     1.958096461784    -0.893151736255    -0.113635191421\\nC                     2.942073920184    -1.283277098904     0.801552182401\\nC                     0.639702242412    -0.712958392145     0.319031272245\\nC                     2.613398139269    -1.489890250270     2.144222940781\\nC                     0.304116962907    -0.917502973919     1.660369826998\\nC                     1.292428705460    -1.307713565849     2.572801494620\\nC                     1.072261304272    -0.430211081409     4.748294543383\\nO                     0.958101280185    -1.545145579914     3.882863326675\\nH                     2.217287713575    -0.734946710685    -1.163338830100\\nH                     3.972188820844    -1.432419033390     0.467266779087\\nH                    -0.134218999559    -0.414937339034    -0.393258795541\\nH                     3.363858754114    -1.805177609625     2.872763220482\\nH                    -0.720658126939    -0.792349441450     2.017412935473\\nH                     0.776542849374    -0.764150810293     5.753294847086\\nH                     0.409574069794     0.399371316210     4.435994463467\\nH                     2.109935236797    -0.047422824288     4.788083134432\\n\",\"xyz\");\n",
       "\tviewer_1559062105824587.setStyle({\"stick\": {\"radius\": 0.2}, \"sphere\": {\"scale\": 0.3}});\n",
       "\tviewer_1559062105824587.zoomTo();\n",
       "viewer_1559062105824587.render();\n",
       "});\n",
       "</script>"
      ]
     },
     "metadata": {},
     "output_type": "display_data"
    },
    {
     "data": {
      "text/plain": [
       "<Molecule(name='C7H8O' formula='C7H8O' hash='a6601a8')>"
      ]
     },
     "execution_count": 14,
     "metadata": {},
     "output_type": "execute_result"
    }
   ],
   "source": [
    "td.get_final_molecules(90)"
   ]
  },
  {
   "cell_type": "markdown",
   "metadata": {},
   "source": [
    "The `Molecule` object has a `measure` attribute so that we check the dihedral angle is in fact 180 degrees."
   ]
  },
  {
   "cell_type": "code",
   "execution_count": 15,
   "metadata": {},
   "outputs": [
    {
     "data": {
      "text/plain": [
       "'3-5-7-6 dihedral in degrees: 179.99999995886662'"
      ]
     },
     "execution_count": 15,
     "metadata": {},
     "output_type": "execute_result"
    }
   ],
   "source": [
    "\"3-5-7-6 dihedral in degrees: {}\".format(td.get_final_molecules(180).measure([3, 5, 7, 6]))"
   ]
  },
  {
   "cell_type": "markdown",
   "metadata": {},
   "source": [
    "## Exploring connection optimizations\n",
    "\n",
    "If desired, we can pull each geometry optimization belonging to the torsiondrive with the `get_history` function. \n",
    "In this case, we will pull the lowest energy optimization for the 180 degree dihedral:"
   ]
  },
  {
   "cell_type": "code",
   "execution_count": 16,
   "metadata": {},
   "outputs": [
    {
     "data": {
      "text/plain": [
       "<OptimizationRecord(id='5c988a95cc20953055316237' status='COMPLETE')>"
      ]
     },
     "execution_count": 16,
     "metadata": {},
     "output_type": "execute_result"
    }
   ],
   "source": [
    "opt = td.get_history(180, minimum=True)\n",
    "opt"
   ]
  },
  {
   "cell_type": "code",
   "execution_count": 17,
   "metadata": {},
   "outputs": [
    {
     "data": {
      "text/plain": [
       "[-346.53147622614085,\n",
       " -346.53177915374135,\n",
       " -346.5318873591642,\n",
       " -346.53194287295247,\n",
       " -346.53197743434515,\n",
       " -346.5319973422999,\n",
       " -346.53199831291954,\n",
       " -346.53199826976714,\n",
       " -346.5319986074462]"
      ]
     },
     "execution_count": 17,
     "metadata": {},
     "output_type": "execute_result"
    }
   ],
   "source": [
    "opt.energies"
   ]
  },
  {
   "cell_type": "markdown",
   "metadata": {},
   "source": [
    "## Exploring individual gradient evaluations\n",
    "\n",
    "We can go even deeper in the calculations to look at each gradient calculation of the `Optimization` calculation if we so choose and see even more details about how the `TorsionDrive` object was constructed."
   ]
  },
  {
   "cell_type": "code",
   "execution_count": 18,
   "metadata": {},
   "outputs": [],
   "source": [
    "result = opt.get_trajectory()[-1]"
   ]
  },
  {
   "cell_type": "code",
   "execution_count": 19,
   "metadata": {},
   "outputs": [
    {
     "name": "stdout",
     "output_type": "stream",
     "text": [
      "Program:                   psi4\n",
      "Number of Basis Functions: 152\n",
      "Total execution time:      12.15s\n"
     ]
    }
   ],
   "source": [
    "print(\"Program:                   {}\".format(result.program))\n",
    "print(\"Number of Basis Functions: {}\".format(result.properties.calcinfo_nbasis))\n",
    "print(\"Total execution time:      {:.2f}s\".format(result.provenance.wall_time))"
   ]
  },
  {
   "cell_type": "markdown",
   "metadata": {},
   "source": [
    "This example also contains the Wiberg-Lowdin indices. \n",
    "As this is specific to Psi4, this data resides inside the `extras` tag rather than general properties. \n",
    "This data is not yet well curated and currently exists as a 1D list. \n",
    "We will first pull this data and transform it to a 2D array:"
   ]
  },
  {
   "cell_type": "code",
   "execution_count": 20,
   "metadata": {},
   "outputs": [],
   "source": [
    "import numpy as np\n",
    "wiberg = np.array(result.extras[\"qcvars\"][\"WIBERG_LOWDIN_INDICES\"]).reshape(-1, 16)"
   ]
  },
  {
   "cell_type": "markdown",
   "metadata": {},
   "source": [
    "As this particular example is exploring the `3-5-7-6` dihedral, we would find the most use in the `5-7` bond. This can be acquired as follows: "
   ]
  },
  {
   "cell_type": "code",
   "execution_count": 21,
   "metadata": {},
   "outputs": [
    {
     "data": {
      "text/plain": [
       "1.2700940280530457"
      ]
     },
     "execution_count": 21,
     "metadata": {},
     "output_type": "execute_result"
    }
   ],
   "source": [
    "wiberg[5, 7]"
   ]
  },
  {
   "cell_type": "markdown",
   "metadata": {},
   "source": [
    "We can continue to explore these results and even obtain the standard Psi4 logging information!"
   ]
  },
  {
   "cell_type": "code",
   "execution_count": 22,
   "metadata": {},
   "outputs": [
    {
     "name": "stdout",
     "output_type": "stream",
     "text": [
      "\n",
      "  Memory set to  60.800 GiB by Python driver.\n",
      "gradient() will perform analytic gradient computation.\n",
      "\n",
      "*** tstart() called on dt039\n",
      "*** at Mon Mar 25 04:02:23 2019\n",
      "\n",
      "   => Loading Basis Set <=\n",
      "\n",
      "    Name: DEF2-SVP\n",
      "    Role: ORBITAL\n",
      "    Keyword: BASIS\n",
      "    atoms 1-7  entry C          line    90 file /home/lnaden/miniconda3/envs/qca/share/psi4/basis/def2-svp.gbs \n",
      "    atoms 8    entry O          line   130 file /home/lnaden/miniconda3/envs/qca/share/psi4/basis/def2-svp.gbs \n",
      "    atoms 9-16 entry H          line    15 file /home/lnaden/miniconda3/envs/qca/share/psi4/basis/def2-svp.gbs \n",
      "\n",
      "\n",
      "         ---------------------------------------------------------\n",
      "                                   SCF\n",
      "               by Justin Turney, Rob Parrish, Andy Simmonett\n",
      "                          and Daniel G. A. Smith\n",
      "                              RKS Reference\n",
      "                        6 Threads,  62259 MiB Core\n",
      "         ---------------------------------------------------------\n",
      "\n",
      "  ==> Geometry <==\n",
      "\n",
      "    Molecular \n"
     ]
    }
   ],
   "source": [
    "print(result.get_stdout()[:1000])"
   ]
  }
 ],
 "metadata": {
  "kernelspec": {
   "display_name": "Python 3",
   "language": "python",
   "name": "python3"
  },
  "language_info": {
   "codemirror_mode": {
    "name": "ipython",
    "version": 3
   },
   "file_extension": ".py",
   "mimetype": "text/x-python",
   "name": "python",
   "nbconvert_exporter": "python",
   "pygments_lexer": "ipython3",
   "version": "3.7.2"
  }
 },
 "nbformat": 4,
 "nbformat_minor": 2
}