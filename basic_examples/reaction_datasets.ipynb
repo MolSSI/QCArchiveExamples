{
 "cells": [
  {
   "cell_type": "markdown",
   "metadata": {},
   "source": [
    "# Reaction Datasets\n",
    "\n",
    "ReactionDatasets are datasets where the primary index represents a chemical reaction, made up of stoichiometrically weighted linear combinations of individual computations. \n",
    "For example, an interaction energy dataset would have an index of the complex subtracted by the individual monomers to obtain a final interaction energy. \n",
    "This idea can extended to standard reaction energies, conformational defect energies, and more. \n",
    "\n",
    "This dataset type has been developed by the QCArchive Team in conjunction with:\n",
    "\n",
    " - [David Sherrill](http://vergil.chemistry.gatech.edu)\n",
    " - Lori Burns\n",
    " - Daniel Nascimento\n",
    " - Dom Sirianni\n",
    "\n",
    "To begin, we can connect to the MolSSI QCArchive server:"
   ]
  },
  {
   "cell_type": "code",
   "execution_count": 2,
   "metadata": {
    "scrolled": true
   },
   "outputs": [
    {
     "name": "stdout",
     "output_type": "stream",
     "text": [
      "FractalClient(server_name='The MolSSI QCArchive Server', address='https://api.qcarchive.molssi.org:443/', username='None')\n"
     ]
    }
   ],
   "source": [
    "#import qcportal as ptl\n",
    "import qcfractal.interface as ptl\n",
    "client = ptl.FractalClient()\n",
    "print(client)"
   ]
  },
  {
   "cell_type": "markdown",
   "metadata": {},
   "source": [
    "The current `ReactionDataset`s can be explored below:"
   ]
  },
  {
   "cell_type": "code",
   "execution_count": 2,
   "metadata": {},
   "outputs": [
    {
     "data": {
      "text/html": [
       "<div>\n",
       "<style scoped>\n",
       "    .dataframe tbody tr th:only-of-type {\n",
       "        vertical-align: middle;\n",
       "    }\n",
       "\n",
       "    .dataframe tbody tr th {\n",
       "        vertical-align: top;\n",
       "    }\n",
       "\n",
       "    .dataframe thead th {\n",
       "        text-align: right;\n",
       "    }\n",
       "</style>\n",
       "<table border=\"1\" class=\"dataframe\">\n",
       "  <thead>\n",
       "    <tr style=\"text-align: right;\">\n",
       "      <th></th>\n",
       "      <th></th>\n",
       "      <th>tagline</th>\n",
       "    </tr>\n",
       "    <tr>\n",
       "      <th>collection</th>\n",
       "      <th>name</th>\n",
       "      <th></th>\n",
       "    </tr>\n",
       "  </thead>\n",
       "  <tbody>\n",
       "    <tr>\n",
       "      <td rowspan=\"5\" valign=\"top\">ReactionDataset</td>\n",
       "      <td>A21</td>\n",
       "      <td>Equilibrium complexes from A24 database of sma...</td>\n",
       "    </tr>\n",
       "    <tr>\n",
       "      <td>A24</td>\n",
       "      <td>Interaction energies for small bimolecular com...</td>\n",
       "    </tr>\n",
       "    <tr>\n",
       "      <td>ACONF</td>\n",
       "      <td>Conformation energies for alkanes</td>\n",
       "    </tr>\n",
       "    <tr>\n",
       "      <td>AlkBind12</td>\n",
       "      <td>Binding energies of saturated and unsaturated ...</td>\n",
       "    </tr>\n",
       "    <tr>\n",
       "      <td>AlkIsod14</td>\n",
       "      <td>Isodesmic reaction energies for alkanes N=3--8</td>\n",
       "    </tr>\n",
       "  </tbody>\n",
       "</table>\n",
       "</div>"
      ],
      "text/plain": [
       "                                                                     tagline\n",
       "collection      name                                                        \n",
       "ReactionDataset A21        Equilibrium complexes from A24 database of sma...\n",
       "                A24        Interaction energies for small bimolecular com...\n",
       "                ACONF                      Conformation energies for alkanes\n",
       "                AlkBind12  Binding energies of saturated and unsaturated ...\n",
       "                AlkIsod14     Isodesmic reaction energies for alkanes N=3--8"
      ]
     },
     "execution_count": 2,
     "metadata": {},
     "output_type": "execute_result"
    }
   ],
   "source": [
    "client.list_collections(\"ReactionDataset\").head()"
   ]
  },
  {
   "cell_type": "markdown",
   "metadata": {},
   "source": [
    "## Exploring a Dataset\n",
    "\n",
    "For this example, we will explore S22 dataset which is a small interaction energy dataset of 22 common dimers such as the water dimer, methane dimer, and more. To obtain this collection:"
   ]
  },
  {
   "cell_type": "code",
   "execution_count": 3,
   "metadata": {},
   "outputs": [
    {
     "name": "stdout",
     "output_type": "stream",
     "text": [
      "ReactionDataset(name=`S22`, id='184', client='https://api.qcarchive.molssi.org:443/') \n"
     ]
    }
   ],
   "source": [
    "ds = client.get_collection(\"ReactionDataset\", \"S22\")\n",
    "print(ds)"
   ]
  },
  {
   "cell_type": "markdown",
   "metadata": {},
   "source": [
    "The reactions in the dataset -- dimerization reactions in the case of S22 -- can be listed:"
   ]
  },
  {
   "cell_type": "code",
   "execution_count": 4,
   "metadata": {},
   "outputs": [
    {
     "data": {
      "text/plain": [
       "['2-Pyridone-2-Aminopyridine Complex',\n",
       " 'Adenine-Thymine Complex Stack',\n",
       " 'Adenine-Thymine Complex WC',\n",
       " 'Ammonia Dimer',\n",
       " 'Benzene-Ammonia Complex',\n",
       " 'Benzene Dimer PD',\n",
       " 'Benzene Dimer T-Shape',\n",
       " 'Benzene-HCN Complex',\n",
       " 'Benzene-Methane Complex',\n",
       " 'Benzene-Water Complex',\n",
       " 'Ethene Dimer',\n",
       " 'Ethene-Ethine Complex',\n",
       " 'Formamide Dimer',\n",
       " 'Formic Acid Dimer',\n",
       " 'Indole-Benzene Complex Stack',\n",
       " 'Indole-Benzene Complex T-Shape',\n",
       " 'Methane Dimer',\n",
       " 'Phenol Dimer',\n",
       " 'Pyrazine Dimer',\n",
       " 'Uracil Dimer HB',\n",
       " 'Uracil Dimer Stack',\n",
       " 'Water Dimer']"
      ]
     },
     "execution_count": 4,
     "metadata": {},
     "output_type": "execute_result"
    }
   ],
   "source": [
    "ds.get_index()"
   ]
  },
  {
   "cell_type": "markdown",
   "metadata": {},
   "source": [
    "Datasets contain two types of data, those computed through QCArchive (\"native\") and those that are provided from external sources (\"contributed\"). Contributed data often come from experiments or very costly benchmarks taken from literature. \n",
    "\n",
    "`Datasets` and `ReactionDatasets` provide a list of all data that has been computed or contributed through the `list_values` method. "
   ]
  },
  {
   "cell_type": "code",
   "execution_count": 5,
   "metadata": {},
   "outputs": [
    {
     "data": {
      "text/html": [
       "<div>\n",
       "<style scoped>\n",
       "    .dataframe tbody tr th:only-of-type {\n",
       "        vertical-align: middle;\n",
       "    }\n",
       "\n",
       "    .dataframe tbody tr th {\n",
       "        vertical-align: top;\n",
       "    }\n",
       "\n",
       "    .dataframe thead th {\n",
       "        text-align: right;\n",
       "    }\n",
       "</style>\n",
       "<table border=\"1\" class=\"dataframe\">\n",
       "  <thead>\n",
       "    <tr style=\"text-align: right;\">\n",
       "      <th></th>\n",
       "      <th></th>\n",
       "      <th></th>\n",
       "      <th></th>\n",
       "      <th></th>\n",
       "      <th></th>\n",
       "      <th>stoichiometry</th>\n",
       "      <th>name</th>\n",
       "    </tr>\n",
       "    <tr>\n",
       "      <th>native</th>\n",
       "      <th>driver</th>\n",
       "      <th>program</th>\n",
       "      <th>method</th>\n",
       "      <th>basis</th>\n",
       "      <th>keywords</th>\n",
       "      <th></th>\n",
       "      <th></th>\n",
       "    </tr>\n",
       "  </thead>\n",
       "  <tbody>\n",
       "    <tr>\n",
       "      <td rowspan=\"3\" valign=\"top\">False</td>\n",
       "      <td rowspan=\"3\" valign=\"top\">Unknown</td>\n",
       "      <td rowspan=\"3\" valign=\"top\">Unknown</td>\n",
       "      <td rowspan=\"3\" valign=\"top\">Unknown</td>\n",
       "      <td rowspan=\"3\" valign=\"top\">Unknown</td>\n",
       "      <td>Unknown</td>\n",
       "      <td>default</td>\n",
       "      <td>S220</td>\n",
       "    </tr>\n",
       "    <tr>\n",
       "      <td>Unknown</td>\n",
       "      <td>default</td>\n",
       "      <td>S22a</td>\n",
       "    </tr>\n",
       "    <tr>\n",
       "      <td>Unknown</td>\n",
       "      <td>default</td>\n",
       "      <td>S22b</td>\n",
       "    </tr>\n",
       "    <tr>\n",
       "      <td rowspan=\"2\" valign=\"top\">True</td>\n",
       "      <td rowspan=\"2\" valign=\"top\">energy</td>\n",
       "      <td rowspan=\"2\" valign=\"top\">psi4</td>\n",
       "      <td rowspan=\"2\" valign=\"top\">b2plyp</td>\n",
       "      <td rowspan=\"2\" valign=\"top\">aug-cc-pvdz</td>\n",
       "      <td>scf_default</td>\n",
       "      <td>cp</td>\n",
       "      <td>cp-B2PLYP/aug-cc-pvdz</td>\n",
       "    </tr>\n",
       "    <tr>\n",
       "      <td>scf_default</td>\n",
       "      <td>default</td>\n",
       "      <td>B2PLYP/aug-cc-pvdz</td>\n",
       "    </tr>\n",
       "  </tbody>\n",
       "</table>\n",
       "</div>"
      ],
      "text/plain": [
       "                                                       stoichiometry  \\\n",
       "native driver  program method  basis       keywords                    \n",
       "False  Unknown Unknown Unknown Unknown     Unknown           default   \n",
       "                                           Unknown           default   \n",
       "                                           Unknown           default   \n",
       "True   energy  psi4    b2plyp  aug-cc-pvdz scf_default            cp   \n",
       "                                           scf_default       default   \n",
       "\n",
       "                                                                         name  \n",
       "native driver  program method  basis       keywords                            \n",
       "False  Unknown Unknown Unknown Unknown     Unknown                       S220  \n",
       "                                           Unknown                       S22a  \n",
       "                                           Unknown                       S22b  \n",
       "True   energy  psi4    b2plyp  aug-cc-pvdz scf_default  cp-B2PLYP/aug-cc-pvdz  \n",
       "                                           scf_default     B2PLYP/aug-cc-pvdz  "
      ]
     },
     "execution_count": 5,
     "metadata": {},
     "output_type": "execute_result"
    }
   ],
   "source": [
    "ds.list_values().head()"
   ]
  },
  {
   "cell_type": "markdown",
   "metadata": {},
   "source": [
    "Here, we have listed the first five available data sources. The first three are contributed, marked by `native=False` and correspond to benchmarks. The last two are computed data (`native=True`). \n",
    "\n",
    "There are six primary keys to describe data:\n",
    "\n",
    " - `native` - Whether a computation was done using QCArchive.\n",
    " - `driver` - The type of computation, this can be energy, gradient, Hessian, and properties.\n",
    " - `program` - The program used in the computation.\n",
    " - `method` - The quantum chemistry, semiempirical, AI-model, or force field used in the computation.\n",
    " - `basis` - The basis used in the computation.\n",
    " - `keywords` - A keywords alias used in the computation, specific to the details of the program or procedure.\n",
    "\n",
    "In addition, there is also the `stoichiometry` field which is unique to `ReactionDatasets`. \n",
    "There exist several ways to compute the interaction energy: counterpoise-corrected (`cp`), non-counterpoise-corrected (`default`), and Valiron–Mayer function counterpoise (`vmfc`). \n",
    "The `stoichiometry` field allows for the selection of this particular form."
   ]
  },
  {
   "cell_type": "markdown",
   "metadata": {},
   "source": [
    "Searches in `list_values` may be narrowed by specifying some or all of the keys. In this case, we will filter our history by the DFT method `B2PLYP` and the basis set `def2-SVP`."
   ]
  },
  {
   "cell_type": "code",
   "execution_count": 5,
   "metadata": {},
   "outputs": [
    {
     "data": {
      "text/html": [
       "<div>\n",
       "<style scoped>\n",
       "    .dataframe tbody tr th:only-of-type {\n",
       "        vertical-align: middle;\n",
       "    }\n",
       "\n",
       "    .dataframe tbody tr th {\n",
       "        vertical-align: top;\n",
       "    }\n",
       "\n",
       "    .dataframe thead th {\n",
       "        text-align: right;\n",
       "    }\n",
       "</style>\n",
       "<table border=\"1\" class=\"dataframe\">\n",
       "  <thead>\n",
       "    <tr style=\"text-align: right;\">\n",
       "      <th></th>\n",
       "      <th></th>\n",
       "      <th></th>\n",
       "      <th></th>\n",
       "      <th></th>\n",
       "      <th></th>\n",
       "      <th>stoichiometry</th>\n",
       "      <th>name</th>\n",
       "    </tr>\n",
       "    <tr>\n",
       "      <th>native</th>\n",
       "      <th>driver</th>\n",
       "      <th>program</th>\n",
       "      <th>method</th>\n",
       "      <th>basis</th>\n",
       "      <th>keywords</th>\n",
       "      <th></th>\n",
       "      <th></th>\n",
       "    </tr>\n",
       "  </thead>\n",
       "  <tbody>\n",
       "    <tr>\n",
       "      <td rowspan=\"2\" valign=\"top\">True</td>\n",
       "      <td rowspan=\"2\" valign=\"top\">energy</td>\n",
       "      <td rowspan=\"2\" valign=\"top\">psi4</td>\n",
       "      <td rowspan=\"2\" valign=\"top\">b2plyp</td>\n",
       "      <td rowspan=\"2\" valign=\"top\">def2-svp</td>\n",
       "      <td>scf_default</td>\n",
       "      <td>cp</td>\n",
       "      <td>cp-B2PLYP/def2-svp</td>\n",
       "    </tr>\n",
       "    <tr>\n",
       "      <td>scf_default</td>\n",
       "      <td>default</td>\n",
       "      <td>B2PLYP/def2-svp</td>\n",
       "    </tr>\n",
       "  </tbody>\n",
       "</table>\n",
       "</div>"
      ],
      "text/plain": [
       "                                                  stoichiometry  \\\n",
       "native driver program method basis    keywords                    \n",
       "True   energy psi4    b2plyp def2-svp scf_default            cp   \n",
       "                                      scf_default       default   \n",
       "\n",
       "                                                                 name  \n",
       "native driver program method basis    keywords                         \n",
       "True   energy psi4    b2plyp def2-svp scf_default  cp-B2PLYP/def2-svp  \n",
       "                                      scf_default     B2PLYP/def2-svp  "
      ]
     },
     "execution_count": 5,
     "metadata": {},
     "output_type": "execute_result"
    }
   ],
   "source": [
    "ds.list_values(method=\"B2PLYP\", basis=\"def2-SVP\")"
   ]
  },
  {
   "cell_type": "markdown",
   "metadata": {},
   "source": [
    "## Querying Data\n",
    "\n",
    "To obtain the data for the computations we must query them from the server. For example, we can pull all `B3LYP-D3M` interaction energies:"
   ]
  },
  {
   "cell_type": "code",
   "execution_count": 6,
   "metadata": {},
   "outputs": [
    {
     "data": {
      "text/html": [
       "<div>\n",
       "<style scoped>\n",
       "    .dataframe tbody tr th:only-of-type {\n",
       "        vertical-align: middle;\n",
       "    }\n",
       "\n",
       "    .dataframe tbody tr th {\n",
       "        vertical-align: top;\n",
       "    }\n",
       "\n",
       "    .dataframe thead th {\n",
       "        text-align: right;\n",
       "    }\n",
       "</style>\n",
       "<table border=\"1\" class=\"dataframe\">\n",
       "  <thead>\n",
       "    <tr style=\"text-align: right;\">\n",
       "      <th></th>\n",
       "      <th>B3LYP-D3M/def2-svp</th>\n",
       "      <th>B3LYP-D3M/aug-cc-pvtz</th>\n",
       "      <th>B3LYP-D3M/aug-cc-pvdz</th>\n",
       "      <th>B3LYP-D3M/def2-tzvp</th>\n",
       "    </tr>\n",
       "  </thead>\n",
       "  <tbody>\n",
       "    <tr>\n",
       "      <td>2-Pyridone-2-Aminopyridine Complex</td>\n",
       "      <td>-22.831506</td>\n",
       "      <td>-18.238308</td>\n",
       "      <td>-19.005121</td>\n",
       "      <td>-18.536530</td>\n",
       "    </tr>\n",
       "    <tr>\n",
       "      <td>Adenine-Thymine Complex Stack</td>\n",
       "      <td>-15.577143</td>\n",
       "      <td>-11.778090</td>\n",
       "      <td>-12.897930</td>\n",
       "      <td>-12.149707</td>\n",
       "    </tr>\n",
       "    <tr>\n",
       "      <td>Adenine-Thymine Complex WC</td>\n",
       "      <td>-22.574701</td>\n",
       "      <td>-17.687043</td>\n",
       "      <td>-18.449484</td>\n",
       "      <td>-17.833451</td>\n",
       "    </tr>\n",
       "    <tr>\n",
       "      <td>Ammonia Dimer</td>\n",
       "      <td>-6.248386</td>\n",
       "      <td>-3.328184</td>\n",
       "      <td>-3.509980</td>\n",
       "      <td>-4.049052</td>\n",
       "    </tr>\n",
       "    <tr>\n",
       "      <td>Benzene Dimer PD</td>\n",
       "      <td>-3.459984</td>\n",
       "      <td>-2.467563</td>\n",
       "      <td>-3.058981</td>\n",
       "      <td>-2.556100</td>\n",
       "    </tr>\n",
       "    <tr>\n",
       "      <td>Benzene Dimer T-Shape</td>\n",
       "      <td>-3.597379</td>\n",
       "      <td>-3.016720</td>\n",
       "      <td>-3.617173</td>\n",
       "      <td>-3.072012</td>\n",
       "    </tr>\n",
       "    <tr>\n",
       "      <td>Benzene-Ammonia Complex</td>\n",
       "      <td>-3.251346</td>\n",
       "      <td>-2.572470</td>\n",
       "      <td>-2.833251</td>\n",
       "      <td>-2.934200</td>\n",
       "    </tr>\n",
       "    <tr>\n",
       "      <td>Benzene-HCN Complex</td>\n",
       "      <td>-5.480155</td>\n",
       "      <td>-5.221790</td>\n",
       "      <td>-5.479076</td>\n",
       "      <td>-5.279021</td>\n",
       "    </tr>\n",
       "    <tr>\n",
       "      <td>Benzene-Methane Complex</td>\n",
       "      <td>-1.917835</td>\n",
       "      <td>-1.552191</td>\n",
       "      <td>-1.830850</td>\n",
       "      <td>-1.555573</td>\n",
       "    </tr>\n",
       "    <tr>\n",
       "      <td>Benzene-Water Complex</td>\n",
       "      <td>-4.926573</td>\n",
       "      <td>-3.727725</td>\n",
       "      <td>-3.924570</td>\n",
       "      <td>-4.613285</td>\n",
       "    </tr>\n",
       "    <tr>\n",
       "      <td>Ethene Dimer</td>\n",
       "      <td>-2.294543</td>\n",
       "      <td>-1.678959</td>\n",
       "      <td>-2.050798</td>\n",
       "      <td>-1.668464</td>\n",
       "    </tr>\n",
       "    <tr>\n",
       "      <td>Ethene-Ethine Complex</td>\n",
       "      <td>-2.330609</td>\n",
       "      <td>-1.823828</td>\n",
       "      <td>-2.114814</td>\n",
       "      <td>-1.878851</td>\n",
       "    </tr>\n",
       "    <tr>\n",
       "      <td>Formamide Dimer</td>\n",
       "      <td>-21.689185</td>\n",
       "      <td>-17.104115</td>\n",
       "      <td>-17.546706</td>\n",
       "      <td>-17.436781</td>\n",
       "    </tr>\n",
       "    <tr>\n",
       "      <td>Formic Acid Dimer</td>\n",
       "      <td>-25.933297</td>\n",
       "      <td>-20.385421</td>\n",
       "      <td>-20.536286</td>\n",
       "      <td>-20.668411</td>\n",
       "    </tr>\n",
       "    <tr>\n",
       "      <td>Indole-Benzene Complex Stack</td>\n",
       "      <td>-5.736506</td>\n",
       "      <td>-4.213569</td>\n",
       "      <td>-5.056658</td>\n",
       "      <td>-4.398316</td>\n",
       "    </tr>\n",
       "    <tr>\n",
       "      <td>Indole-Benzene Complex T-Shape</td>\n",
       "      <td>-7.081938</td>\n",
       "      <td>-6.083396</td>\n",
       "      <td>-6.796603</td>\n",
       "      <td>-6.363817</td>\n",
       "    </tr>\n",
       "    <tr>\n",
       "      <td>Methane Dimer</td>\n",
       "      <td>-0.672244</td>\n",
       "      <td>-0.511469</td>\n",
       "      <td>-0.813825</td>\n",
       "      <td>-0.522247</td>\n",
       "    </tr>\n",
       "    <tr>\n",
       "      <td>Phenol Dimer</td>\n",
       "      <td>-10.977429</td>\n",
       "      <td>-7.523356</td>\n",
       "      <td>-7.974372</td>\n",
       "      <td>-8.032781</td>\n",
       "    </tr>\n",
       "    <tr>\n",
       "      <td>Pyrazine Dimer</td>\n",
       "      <td>-5.443984</td>\n",
       "      <td>-4.036813</td>\n",
       "      <td>-4.664210</td>\n",
       "      <td>-4.096590</td>\n",
       "    </tr>\n",
       "    <tr>\n",
       "      <td>Uracil Dimer HB</td>\n",
       "      <td>-25.623412</td>\n",
       "      <td>-21.904878</td>\n",
       "      <td>-22.497729</td>\n",
       "      <td>-21.922461</td>\n",
       "    </tr>\n",
       "    <tr>\n",
       "      <td>Uracil Dimer Stack</td>\n",
       "      <td>-13.223797</td>\n",
       "      <td>-10.486322</td>\n",
       "      <td>-11.125815</td>\n",
       "      <td>-10.781041</td>\n",
       "    </tr>\n",
       "    <tr>\n",
       "      <td>Water Dimer</td>\n",
       "      <td>-9.002674</td>\n",
       "      <td>-5.417591</td>\n",
       "      <td>-5.539915</td>\n",
       "      <td>-6.427460</td>\n",
       "    </tr>\n",
       "  </tbody>\n",
       "</table>\n",
       "</div>"
      ],
      "text/plain": [
       "                                    B3LYP-D3M/def2-svp  B3LYP-D3M/aug-cc-pvtz  \\\n",
       "2-Pyridone-2-Aminopyridine Complex          -22.831506             -18.238308   \n",
       "Adenine-Thymine Complex Stack               -15.577143             -11.778090   \n",
       "Adenine-Thymine Complex WC                  -22.574701             -17.687043   \n",
       "Ammonia Dimer                                -6.248386              -3.328184   \n",
       "Benzene Dimer PD                             -3.459984              -2.467563   \n",
       "Benzene Dimer T-Shape                        -3.597379              -3.016720   \n",
       "Benzene-Ammonia Complex                      -3.251346              -2.572470   \n",
       "Benzene-HCN Complex                          -5.480155              -5.221790   \n",
       "Benzene-Methane Complex                      -1.917835              -1.552191   \n",
       "Benzene-Water Complex                        -4.926573              -3.727725   \n",
       "Ethene Dimer                                 -2.294543              -1.678959   \n",
       "Ethene-Ethine Complex                        -2.330609              -1.823828   \n",
       "Formamide Dimer                             -21.689185             -17.104115   \n",
       "Formic Acid Dimer                           -25.933297             -20.385421   \n",
       "Indole-Benzene Complex Stack                 -5.736506              -4.213569   \n",
       "Indole-Benzene Complex T-Shape               -7.081938              -6.083396   \n",
       "Methane Dimer                                -0.672244              -0.511469   \n",
       "Phenol Dimer                                -10.977429              -7.523356   \n",
       "Pyrazine Dimer                               -5.443984              -4.036813   \n",
       "Uracil Dimer HB                             -25.623412             -21.904878   \n",
       "Uracil Dimer Stack                          -13.223797             -10.486322   \n",
       "Water Dimer                                  -9.002674              -5.417591   \n",
       "\n",
       "                                    B3LYP-D3M/aug-cc-pvdz  B3LYP-D3M/def2-tzvp  \n",
       "2-Pyridone-2-Aminopyridine Complex             -19.005121           -18.536530  \n",
       "Adenine-Thymine Complex Stack                  -12.897930           -12.149707  \n",
       "Adenine-Thymine Complex WC                     -18.449484           -17.833451  \n",
       "Ammonia Dimer                                   -3.509980            -4.049052  \n",
       "Benzene Dimer PD                                -3.058981            -2.556100  \n",
       "Benzene Dimer T-Shape                           -3.617173            -3.072012  \n",
       "Benzene-Ammonia Complex                         -2.833251            -2.934200  \n",
       "Benzene-HCN Complex                             -5.479076            -5.279021  \n",
       "Benzene-Methane Complex                         -1.830850            -1.555573  \n",
       "Benzene-Water Complex                           -3.924570            -4.613285  \n",
       "Ethene Dimer                                    -2.050798            -1.668464  \n",
       "Ethene-Ethine Complex                           -2.114814            -1.878851  \n",
       "Formamide Dimer                                -17.546706           -17.436781  \n",
       "Formic Acid Dimer                              -20.536286           -20.668411  \n",
       "Indole-Benzene Complex Stack                    -5.056658            -4.398316  \n",
       "Indole-Benzene Complex T-Shape                  -6.796603            -6.363817  \n",
       "Methane Dimer                                   -0.813825            -0.522247  \n",
       "Phenol Dimer                                    -7.974372            -8.032781  \n",
       "Pyrazine Dimer                                  -4.664210            -4.096590  \n",
       "Uracil Dimer HB                                -22.497729           -21.922461  \n",
       "Uracil Dimer Stack                             -11.125815           -10.781041  \n",
       "Water Dimer                                     -5.539915            -6.427460  "
      ]
     },
     "execution_count": 7,
     "metadata": {},
     "output_type": "execute_result"
    }
   ],
   "source": [
    "ds.get_values(method=\"B3LYP-D3M\")"
   ]
  },
  {
   "cell_type": "markdown",
   "metadata": {},
   "source": [
    "The units of these energies are stored in `ds.units`:"
   ]
  },
  {
   "cell_type": "code",
   "execution_count": 8,
   "metadata": {},
   "outputs": [
    {
     "data": {
      "text/plain": [
       "'kcal / mol'"
      ]
     },
     "execution_count": 8,
     "metadata": {},
     "output_type": "execute_result"
    }
   ],
   "source": [
    "ds.units"
   ]
  },
  {
   "cell_type": "markdown",
   "metadata": {},
   "source": [
    "## Statistics and Visualization\n",
    "\n",
    "Visual statistics and plotting can be generated by the ``visualize`` command:"
   ]
  },
  {
   "cell_type": "code",
   "execution_count": 9,
   "metadata": {},
   "outputs": [
    {
     "ename": "KeyError",
     "evalue": "'d3'",
     "output_type": "error",
     "traceback": [
      "\u001b[0;31m---------------------------------------------------------------------------\u001b[0m",
      "\u001b[0;31mKeyError\u001b[0m                                  Traceback (most recent call last)",
      "\u001b[0;32m<ipython-input-9-f446411d1e4e>\u001b[0m in \u001b[0;36m<module>\u001b[0;34m\u001b[0m\n\u001b[0;32m----> 1\u001b[0;31m \u001b[0mds\u001b[0m\u001b[0;34m.\u001b[0m\u001b[0mvisualize\u001b[0m\u001b[0;34m(\u001b[0m\u001b[0mmethod\u001b[0m\u001b[0;34m=\u001b[0m\u001b[0;34m[\u001b[0m\u001b[0;34m\"B3LYP\"\u001b[0m\u001b[0;34m,\u001b[0m \u001b[0;34m\"B3LYP-D3\"\u001b[0m\u001b[0;34m,\u001b[0m \u001b[0;34m\"B3LYP-D3M\"\u001b[0m\u001b[0;34m]\u001b[0m\u001b[0;34m,\u001b[0m \u001b[0mbasis\u001b[0m\u001b[0;34m=\u001b[0m\u001b[0;34m[\u001b[0m\u001b[0;34m\"def2-tzvp\"\u001b[0m\u001b[0;34m]\u001b[0m\u001b[0;34m,\u001b[0m \u001b[0mgroupby\u001b[0m\u001b[0;34m=\u001b[0m\u001b[0;34m\"D3\"\u001b[0m\u001b[0;34m)\u001b[0m\u001b[0;34m\u001b[0m\u001b[0;34m\u001b[0m\u001b[0m\n\u001b[0m",
      "\u001b[0;32m~/anaconda3/envs/qcfractal-master/lib/python3.7/site-packages/qcfractal-0.9.0+152.gd9f04c2.dirty-py3.7.egg/qcfractal/interface/collections/reaction_dataset.py\u001b[0m in \u001b[0;36mvisualize\u001b[0;34m(self, method, basis, keywords, program, stoich, groupby, metric, bench, kind, return_figure)\u001b[0m\n\u001b[1;32m    365\u001b[0m         \u001b[0mquery\u001b[0m \u001b[0;34m=\u001b[0m \u001b[0;34m{\u001b[0m\u001b[0mk\u001b[0m\u001b[0;34m:\u001b[0m \u001b[0mv\u001b[0m \u001b[0;32mfor\u001b[0m \u001b[0mk\u001b[0m\u001b[0;34m,\u001b[0m \u001b[0mv\u001b[0m \u001b[0;32min\u001b[0m \u001b[0mquery\u001b[0m\u001b[0;34m.\u001b[0m\u001b[0mitems\u001b[0m\u001b[0;34m(\u001b[0m\u001b[0;34m)\u001b[0m \u001b[0;32mif\u001b[0m \u001b[0mv\u001b[0m \u001b[0;32mis\u001b[0m \u001b[0;32mnot\u001b[0m \u001b[0;32mNone\u001b[0m\u001b[0;34m}\u001b[0m\u001b[0;34m\u001b[0m\u001b[0;34m\u001b[0m\u001b[0m\n\u001b[1;32m    366\u001b[0m \u001b[0;34m\u001b[0m\u001b[0m\n\u001b[0;32m--> 367\u001b[0;31m         \u001b[0;32mreturn\u001b[0m \u001b[0mself\u001b[0m\u001b[0;34m.\u001b[0m\u001b[0m_visualize\u001b[0m\u001b[0;34m(\u001b[0m\u001b[0mmetric\u001b[0m\u001b[0;34m,\u001b[0m \u001b[0mbench\u001b[0m\u001b[0;34m,\u001b[0m \u001b[0mquery\u001b[0m\u001b[0;34m=\u001b[0m\u001b[0mquery\u001b[0m\u001b[0;34m,\u001b[0m \u001b[0mgroupby\u001b[0m\u001b[0;34m=\u001b[0m\u001b[0mgroupby\u001b[0m\u001b[0;34m,\u001b[0m \u001b[0mreturn_figure\u001b[0m\u001b[0;34m=\u001b[0m\u001b[0mreturn_figure\u001b[0m\u001b[0;34m,\u001b[0m \u001b[0mkind\u001b[0m\u001b[0;34m=\u001b[0m\u001b[0mkind\u001b[0m\u001b[0;34m)\u001b[0m\u001b[0;34m\u001b[0m\u001b[0;34m\u001b[0m\u001b[0m\n\u001b[0m\u001b[1;32m    368\u001b[0m \u001b[0;34m\u001b[0m\u001b[0m\n\u001b[1;32m    369\u001b[0m     def get_molecules(self, subset: Optional[Union[str, Set[str]]] = None,\n",
      "\u001b[0;32m~/anaconda3/envs/qcfractal-master/lib/python3.7/site-packages/qcfractal-0.9.0+152.gd9f04c2.dirty-py3.7.egg/qcfractal/interface/collections/dataset.py\u001b[0m in \u001b[0;36m_visualize\u001b[0;34m(self, metric, bench, query, groupby, return_figure, digits, kind)\u001b[0m\n\u001b[1;32m    596\u001b[0m             \u001b[0mquery_names\u001b[0m \u001b[0;34m=\u001b[0m \u001b[0;34m[\u001b[0m\u001b[0;34m]\u001b[0m\u001b[0;34m\u001b[0m\u001b[0;34m\u001b[0m\u001b[0m\n\u001b[1;32m    597\u001b[0m             \u001b[0mqueries\u001b[0m \u001b[0;34m=\u001b[0m \u001b[0;34m[\u001b[0m\u001b[0;34m]\u001b[0m\u001b[0;34m\u001b[0m\u001b[0;34m\u001b[0m\u001b[0m\n\u001b[0;32m--> 598\u001b[0;31m             \u001b[0;32mfor\u001b[0m \u001b[0mgb\u001b[0m \u001b[0;32min\u001b[0m \u001b[0mquery\u001b[0m\u001b[0;34m[\u001b[0m\u001b[0mgroupby\u001b[0m\u001b[0;34m]\u001b[0m\u001b[0;34m:\u001b[0m\u001b[0;34m\u001b[0m\u001b[0;34m\u001b[0m\u001b[0m\n\u001b[0m\u001b[1;32m    599\u001b[0m                 \u001b[0mgb_query\u001b[0m \u001b[0;34m=\u001b[0m \u001b[0mquery\u001b[0m\u001b[0;34m.\u001b[0m\u001b[0mcopy\u001b[0m\u001b[0;34m(\u001b[0m\u001b[0;34m)\u001b[0m\u001b[0;34m\u001b[0m\u001b[0;34m\u001b[0m\u001b[0m\n\u001b[1;32m    600\u001b[0m                 \u001b[0mgb_query\u001b[0m\u001b[0;34m[\u001b[0m\u001b[0mgroupby\u001b[0m\u001b[0;34m]\u001b[0m \u001b[0;34m=\u001b[0m \u001b[0mgb\u001b[0m\u001b[0;34m\u001b[0m\u001b[0;34m\u001b[0m\u001b[0m\n",
      "\u001b[0;31mKeyError\u001b[0m: 'd3'"
     ]
    }
   ],
   "source": [
    "ds.visualize(method=[\"B3LYP\", \"B3LYP-D3\", \"B3LYP-D3M\"], basis=[\"def2-tzvp\"], groupby=\"D3\")"
   ]
  },
  {
   "cell_type": "code",
   "execution_count": 22,
   "metadata": {},
   "outputs": [
    {
     "ename": "KeyError",
     "evalue": "'d3'",
     "output_type": "error",
     "traceback": [
      "\u001b[0;31m---------------------------------------------------------------------------\u001b[0m",
      "\u001b[0;31mKeyError\u001b[0m                                  Traceback (most recent call last)",
      "\u001b[0;32m<ipython-input-22-d0eec5936338>\u001b[0m in \u001b[0;36m<module>\u001b[0;34m\u001b[0m\n\u001b[0;32m----> 1\u001b[0;31m \u001b[0mds\u001b[0m\u001b[0;34m.\u001b[0m\u001b[0mvisualize\u001b[0m\u001b[0;34m(\u001b[0m\u001b[0mmethod\u001b[0m\u001b[0;34m=\u001b[0m\u001b[0;34m[\u001b[0m\u001b[0;34m\"B3LYP\"\u001b[0m\u001b[0;34m,\u001b[0m \u001b[0;34m\"B3LYP-D3\"\u001b[0m\u001b[0;34m,\u001b[0m \u001b[0;34m\"B2PLYP\"\u001b[0m\u001b[0;34m,\u001b[0m \u001b[0;34m\"B2PLYP-D3\"\u001b[0m\u001b[0;34m]\u001b[0m\u001b[0;34m,\u001b[0m \u001b[0mbasis\u001b[0m\u001b[0;34m=\u001b[0m\u001b[0;34m\"def2-tzvp\"\u001b[0m\u001b[0;34m,\u001b[0m \u001b[0mgroupby\u001b[0m\u001b[0;34m=\u001b[0m\u001b[0;34m\"D3\"\u001b[0m\u001b[0;34m,\u001b[0m \u001b[0mkind\u001b[0m\u001b[0;34m=\u001b[0m\u001b[0;34m\"violin\"\u001b[0m\u001b[0;34m)\u001b[0m\u001b[0;34m\u001b[0m\u001b[0;34m\u001b[0m\u001b[0m\n\u001b[0m",
      "\u001b[0;32m~/anaconda3/envs/qcfractal-master/lib/python3.7/site-packages/qcfractal-0.9.0+152.gd9f04c2-py3.7.egg/qcfractal/interface/collections/reaction_dataset.py\u001b[0m in \u001b[0;36mvisualize\u001b[0;34m(self, method, basis, keywords, program, stoich, groupby, metric, bench, kind, return_figure)\u001b[0m\n\u001b[1;32m    365\u001b[0m         \u001b[0mquery\u001b[0m \u001b[0;34m=\u001b[0m \u001b[0;34m{\u001b[0m\u001b[0mk\u001b[0m\u001b[0;34m:\u001b[0m \u001b[0mv\u001b[0m \u001b[0;32mfor\u001b[0m \u001b[0mk\u001b[0m\u001b[0;34m,\u001b[0m \u001b[0mv\u001b[0m \u001b[0;32min\u001b[0m \u001b[0mquery\u001b[0m\u001b[0;34m.\u001b[0m\u001b[0mitems\u001b[0m\u001b[0;34m(\u001b[0m\u001b[0;34m)\u001b[0m \u001b[0;32mif\u001b[0m \u001b[0mv\u001b[0m \u001b[0;32mis\u001b[0m \u001b[0;32mnot\u001b[0m \u001b[0;32mNone\u001b[0m\u001b[0;34m}\u001b[0m\u001b[0;34m\u001b[0m\u001b[0;34m\u001b[0m\u001b[0m\n\u001b[1;32m    366\u001b[0m \u001b[0;34m\u001b[0m\u001b[0m\n\u001b[0;32m--> 367\u001b[0;31m         \u001b[0;32mreturn\u001b[0m \u001b[0mself\u001b[0m\u001b[0;34m.\u001b[0m\u001b[0m_visualize\u001b[0m\u001b[0;34m(\u001b[0m\u001b[0mmetric\u001b[0m\u001b[0;34m,\u001b[0m \u001b[0mbench\u001b[0m\u001b[0;34m,\u001b[0m \u001b[0mquery\u001b[0m\u001b[0;34m=\u001b[0m\u001b[0mquery\u001b[0m\u001b[0;34m,\u001b[0m \u001b[0mgroupby\u001b[0m\u001b[0;34m=\u001b[0m\u001b[0mgroupby\u001b[0m\u001b[0;34m,\u001b[0m \u001b[0mreturn_figure\u001b[0m\u001b[0;34m=\u001b[0m\u001b[0mreturn_figure\u001b[0m\u001b[0;34m,\u001b[0m \u001b[0mkind\u001b[0m\u001b[0;34m=\u001b[0m\u001b[0mkind\u001b[0m\u001b[0;34m)\u001b[0m\u001b[0;34m\u001b[0m\u001b[0;34m\u001b[0m\u001b[0m\n\u001b[0m\u001b[1;32m    368\u001b[0m \u001b[0;34m\u001b[0m\u001b[0m\n\u001b[1;32m    369\u001b[0m     def get_molecules(self, subset: Optional[Union[str, Set[str]]] = None,\n",
      "\u001b[0;32m~/anaconda3/envs/qcfractal-master/lib/python3.7/site-packages/qcfractal-0.9.0+152.gd9f04c2-py3.7.egg/qcfractal/interface/collections/dataset.py\u001b[0m in \u001b[0;36m_visualize\u001b[0;34m(self, metric, bench, query, groupby, return_figure, digits, kind)\u001b[0m\n\u001b[1;32m    596\u001b[0m             \u001b[0mquery_names\u001b[0m \u001b[0;34m=\u001b[0m \u001b[0;34m[\u001b[0m\u001b[0;34m]\u001b[0m\u001b[0;34m\u001b[0m\u001b[0;34m\u001b[0m\u001b[0m\n\u001b[1;32m    597\u001b[0m             \u001b[0mqueries\u001b[0m \u001b[0;34m=\u001b[0m \u001b[0;34m[\u001b[0m\u001b[0;34m]\u001b[0m\u001b[0;34m\u001b[0m\u001b[0;34m\u001b[0m\u001b[0m\n\u001b[0;32m--> 598\u001b[0;31m             \u001b[0;32mfor\u001b[0m \u001b[0mgb\u001b[0m \u001b[0;32min\u001b[0m \u001b[0mquery\u001b[0m\u001b[0;34m[\u001b[0m\u001b[0mgroupby\u001b[0m\u001b[0;34m]\u001b[0m\u001b[0;34m:\u001b[0m\u001b[0;34m\u001b[0m\u001b[0;34m\u001b[0m\u001b[0m\n\u001b[0m\u001b[1;32m    599\u001b[0m                 \u001b[0mgb_query\u001b[0m \u001b[0;34m=\u001b[0m \u001b[0mquery\u001b[0m\u001b[0;34m.\u001b[0m\u001b[0mcopy\u001b[0m\u001b[0;34m(\u001b[0m\u001b[0;34m)\u001b[0m\u001b[0;34m\u001b[0m\u001b[0;34m\u001b[0m\u001b[0m\n\u001b[1;32m    600\u001b[0m                 \u001b[0mgb_query\u001b[0m\u001b[0;34m[\u001b[0m\u001b[0mgroupby\u001b[0m\u001b[0;34m]\u001b[0m \u001b[0;34m=\u001b[0m \u001b[0mgb\u001b[0m\u001b[0;34m\u001b[0m\u001b[0;34m\u001b[0m\u001b[0m\n",
      "\u001b[0;31mKeyError\u001b[0m: 'd3'"
     ]
    }
   ],
   "source": [
    "ds.visualize(method=[\"B3LYP\", \"B3LYP-D3\", \"B2PLYP\", \"B2PLYP-D3\"], basis=\"def2-tzvp\", groupby=\"D3\", kind=\"violin\")"
   ]
  },
  {
   "cell_type": "markdown",
   "metadata": {},
   "source": [
    "## Next steps\n",
    "\n",
    "The next sections cover other collections that are used for organizing workflows, such as geometry optimization. There are more examples using `Dataset` and `ReactionDataset` in the [Cookbook](https://qcarchivetutorials.readthedocs.io/en/latest/cookbook/overview.html). \n",
    "Full documentation of [Dataset](http://docs.qcarchive.molssi.org/projects/QCPortal/en/stable/collection-dataset.html) and [ReactionDataset](http://docs.qcarchive.molssi.org/projects/QCPortal/en/stable/collection-reactiondataset.html) are available in the [QCPortal documentation](http://docs.qcarchive.molssi.org/projects/QCPortal/en/stable/index.html). "
   ]
  }
 ],
 "metadata": {
  "kernelspec": {
   "display_name": "Python 3",
   "language": "python",
   "name": "python3"
  },
  "language_info": {
   "codemirror_mode": {
    "name": "ipython",
    "version": 3
   },
   "file_extension": ".py",
   "mimetype": "text/x-python",
   "name": "python",
   "nbconvert_exporter": "python",
   "pygments_lexer": "ipython3",
   "version": "3.7.3"
  }
 },
 "nbformat": 4,
 "nbformat_minor": 2
}
