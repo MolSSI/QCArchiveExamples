{
 "cells": [
  {
   "cell_type": "markdown",
   "metadata": {},
   "source": [
    "# Reaction Datasets\n",
    "\n",
    "ReactionDatasets are datasets where the primary index is made up of linear combinations of individual computations. For example, an interaction energy dataset would have an index of the complex subtracted by the individual monomers to obtain a final interaction energy. This idea can extended to standard reaction energies, conformational defect energies, and more. This dataset type has been developed by the QCArchive Team in conjunction with:\n",
    "\n",
    " - [David Sherrill](http://vergil.chemistry.gatech.edu)\n",
    " - Lori Burns\n",
    " - Daniel Nascimento\n",
    " - Dom Sirianni\n",
    "\n",
    "To begin, we can connect to the MolSSI QCArchive server:"
   ]
  },
  {
   "cell_type": "code",
   "execution_count": 2,
   "metadata": {
    "scrolled": true
   },
   "outputs": [
    {
     "name": "stdout",
     "output_type": "stream",
     "text": [
      "FractalClient(server_name='The MolSSI QCArchive Server', address='https://api.qcarchive.molssi.org:443/', username='None')\n"
     ]
    }
   ],
   "source": [
    "import qcportal as ptl\n",
    "client = ptl.FractalClient()\n",
    "print(client)"
   ]
  },
  {
   "cell_type": "markdown",
   "metadata": {},
   "source": [
    "The current `ReactionDataset`s can be explored below:"
   ]
  },
  {
   "cell_type": "code",
   "execution_count": 2,
   "metadata": {},
   "outputs": [
    {
     "data": {
      "text/html": [
       "<div>\n",
       "<style scoped>\n",
       "    .dataframe tbody tr th:only-of-type {\n",
       "        vertical-align: middle;\n",
       "    }\n",
       "\n",
       "    .dataframe tbody tr th {\n",
       "        vertical-align: top;\n",
       "    }\n",
       "\n",
       "    .dataframe thead th {\n",
       "        text-align: right;\n",
       "    }\n",
       "</style>\n",
       "<table border=\"1\" class=\"dataframe\">\n",
       "  <thead>\n",
       "    <tr style=\"text-align: right;\">\n",
       "      <th></th>\n",
       "      <th></th>\n",
       "      <th>tagline</th>\n",
       "    </tr>\n",
       "    <tr>\n",
       "      <th>collection</th>\n",
       "      <th>name</th>\n",
       "      <th></th>\n",
       "    </tr>\n",
       "  </thead>\n",
       "  <tbody>\n",
       "    <tr>\n",
       "      <th rowspan=\"5\" valign=\"top\">ReactionDataset</th>\n",
       "      <th>A21</th>\n",
       "      <td>Equilibrium complexes from A24 database of sma...</td>\n",
       "    </tr>\n",
       "    <tr>\n",
       "      <th>A24</th>\n",
       "      <td>Interaction energies for small bimolecular com...</td>\n",
       "    </tr>\n",
       "    <tr>\n",
       "      <th>ACONF</th>\n",
       "      <td>Conformation energies for alkanes</td>\n",
       "    </tr>\n",
       "    <tr>\n",
       "      <th>AlkBind12</th>\n",
       "      <td>Binding energies of saturated and unsaturated ...</td>\n",
       "    </tr>\n",
       "    <tr>\n",
       "      <th>AlkIsod14</th>\n",
       "      <td>Isodesmic reaction energies for alkanes N=3--8</td>\n",
       "    </tr>\n",
       "  </tbody>\n",
       "</table>\n",
       "</div>"
      ],
      "text/plain": [
       "                                                                     tagline\n",
       "collection      name                                                        \n",
       "ReactionDataset A21        Equilibrium complexes from A24 database of sma...\n",
       "                A24        Interaction energies for small bimolecular com...\n",
       "                ACONF                      Conformation energies for alkanes\n",
       "                AlkBind12  Binding energies of saturated and unsaturated ...\n",
       "                AlkIsod14     Isodesmic reaction energies for alkanes N=3--8"
      ]
     },
     "execution_count": 2,
     "metadata": {},
     "output_type": "execute_result"
    }
   ],
   "source": [
    "client.list_collections(\"ReactionDataset\").head()"
   ]
  },
  {
   "cell_type": "markdown",
   "metadata": {},
   "source": [
    "## Exploring a Dataset\n",
    "\n",
    "For this example, we will explore S22 dataset which is a small interaction energy dataset of 22 common dimers such as the water dimer, methane dimer, and more. To obtain this collection:"
   ]
  },
  {
   "cell_type": "code",
   "execution_count": 3,
   "metadata": {},
   "outputs": [
    {
     "name": "stdout",
     "output_type": "stream",
     "text": [
      "ReactionDataset(name=`S22`, id='5c8159a4b6a2de3bd1e74306', client='https://api.qcarchive.molssi.org:443/') \n"
     ]
    }
   ],
   "source": [
    "ds = client.get_collection(\"ReactionDataset\", \"S22\")\n",
    "print(ds)"
   ]
  },
  {
   "cell_type": "markdown",
   "metadata": {},
   "source": [
    "This dataset automatically comes with some ``Contributed Value`` data, or data that has been provided rather than explicitly computed. This data is often either experimental data or very costly benchmarks taken from literature. As these Datasets are based off of Pandas DataFrames, we can directly access the underlying DataFrame to see the data provided:"
   ]
  },
  {
   "cell_type": "code",
   "execution_count": 4,
   "metadata": {},
   "outputs": [
    {
     "data": {
      "text/html": [
       "<div>\n",
       "<style scoped>\n",
       "    .dataframe tbody tr th:only-of-type {\n",
       "        vertical-align: middle;\n",
       "    }\n",
       "\n",
       "    .dataframe tbody tr th {\n",
       "        vertical-align: top;\n",
       "    }\n",
       "\n",
       "    .dataframe thead th {\n",
       "        text-align: right;\n",
       "    }\n",
       "</style>\n",
       "<table border=\"1\" class=\"dataframe\">\n",
       "  <thead>\n",
       "    <tr style=\"text-align: right;\">\n",
       "      <th></th>\n",
       "      <th>S220</th>\n",
       "      <th>S22a</th>\n",
       "      <th>S22b</th>\n",
       "    </tr>\n",
       "  </thead>\n",
       "  <tbody>\n",
       "    <tr>\n",
       "      <th>Ammonia Dimer</th>\n",
       "      <td>-3.17</td>\n",
       "      <td>-3.15</td>\n",
       "      <td>-3.133</td>\n",
       "    </tr>\n",
       "    <tr>\n",
       "      <th>Water Dimer</th>\n",
       "      <td>-5.02</td>\n",
       "      <td>-5.07</td>\n",
       "      <td>-4.989</td>\n",
       "    </tr>\n",
       "    <tr>\n",
       "      <th>Formic Acid Dimer</th>\n",
       "      <td>-18.61</td>\n",
       "      <td>-18.81</td>\n",
       "      <td>-18.753</td>\n",
       "    </tr>\n",
       "    <tr>\n",
       "      <th>Formamide Dimer</th>\n",
       "      <td>-15.96</td>\n",
       "      <td>-16.11</td>\n",
       "      <td>-16.062</td>\n",
       "    </tr>\n",
       "    <tr>\n",
       "      <th>Uracil Dimer HB</th>\n",
       "      <td>-20.65</td>\n",
       "      <td>-20.69</td>\n",
       "      <td>-20.641</td>\n",
       "    </tr>\n",
       "  </tbody>\n",
       "</table>\n",
       "</div>"
      ],
      "text/plain": [
       "                    S220   S22a    S22b\n",
       "Ammonia Dimer      -3.17  -3.15  -3.133\n",
       "Water Dimer        -5.02  -5.07  -4.989\n",
       "Formic Acid Dimer -18.61 -18.81 -18.753\n",
       "Formamide Dimer   -15.96 -16.11 -16.062\n",
       "Uracil Dimer HB   -20.65 -20.69 -20.641"
      ]
     },
     "execution_count": 4,
     "metadata": {},
     "output_type": "execute_result"
    }
   ],
   "source": [
    "ds.df.head()"
   ]
  },
  {
   "cell_type": "markdown",
   "metadata": {},
   "source": [
    "Here we used `.head()` to access the first five records in the `ReactionDataset`.\n",
    "\n",
    "All `Collection`s that have `Dataset` in the name (including `ReactionDataset`) have a history available to them to list the data that has been computed. In this case we will filter our history by the DFT method `B2PLYP` and the basis set `def2-SVP`"
   ]
  },
  {
   "cell_type": "code",
   "execution_count": 5,
   "metadata": {},
   "outputs": [
    {
     "data": {
      "text/html": [
       "<div>\n",
       "<style scoped>\n",
       "    .dataframe tbody tr th:only-of-type {\n",
       "        vertical-align: middle;\n",
       "    }\n",
       "\n",
       "    .dataframe tbody tr th {\n",
       "        vertical-align: top;\n",
       "    }\n",
       "\n",
       "    .dataframe thead th {\n",
       "        text-align: right;\n",
       "    }\n",
       "</style>\n",
       "<table border=\"1\" class=\"dataframe\">\n",
       "  <thead>\n",
       "    <tr style=\"text-align: right;\">\n",
       "      <th></th>\n",
       "      <th></th>\n",
       "      <th></th>\n",
       "      <th></th>\n",
       "      <th></th>\n",
       "      <th>stoichiometry</th>\n",
       "    </tr>\n",
       "    <tr>\n",
       "      <th>driver</th>\n",
       "      <th>program</th>\n",
       "      <th>method</th>\n",
       "      <th>basis</th>\n",
       "      <th>keywords</th>\n",
       "      <th></th>\n",
       "    </tr>\n",
       "  </thead>\n",
       "  <tbody>\n",
       "    <tr>\n",
       "      <th rowspan=\"2\" valign=\"top\">energy</th>\n",
       "      <th rowspan=\"2\" valign=\"top\">psi4</th>\n",
       "      <th rowspan=\"2\" valign=\"top\">b2plyp</th>\n",
       "      <th rowspan=\"2\" valign=\"top\">def2-svp</th>\n",
       "      <th>scf_default</th>\n",
       "      <td>cp</td>\n",
       "    </tr>\n",
       "    <tr>\n",
       "      <th>scf_default</th>\n",
       "      <td>default</td>\n",
       "    </tr>\n",
       "  </tbody>\n",
       "</table>\n",
       "</div>"
      ],
      "text/plain": [
       "                                           stoichiometry\n",
       "driver program method basis    keywords                 \n",
       "energy psi4    b2plyp def2-svp scf_default            cp\n",
       "                               scf_default       default"
      ]
     },
     "execution_count": 5,
     "metadata": {},
     "output_type": "execute_result"
    }
   ],
   "source": [
    "ds.list_history(method=\"B2PLYP\", basis=\"def2-SVP\")"
   ]
  },
  {
   "cell_type": "markdown",
   "metadata": {},
   "source": [
    "Here we can see that there are five primary keys in the computation:\n",
    "\n",
    " - `driver` - The type of computation, this can be energy, gradient, Hessian, and properties.\n",
    " - `program` - The program used in the computation.\n",
    " - `method` - The quantum chemistry, semiempirical, AI-model, or force field used in the computation.\n",
    " - `basis` - The basis used in the computation.\n",
    " - `keywords` - A keywords alias used in the computation -- these keywords aliases reference `KeywordSets` (see advanced tutorials).\n",
    "\n",
    "In addition, there is also the `stoichiometry` field which is unique to `ReactionDatasets`. There exist several ways to compute the interaction energy (counterpoise-corrected (`cp`), non-counterpoise-corrected (`default`), and Valiron–Mayer function counterpoise (`vmfc`)). The `stoichiometry` field allows for the selection of this particular form."
   ]
  },
  {
   "cell_type": "markdown",
   "metadata": {},
   "source": [
    "## Querying Data\n",
    "\n",
    "To obtain the data for the various historical computations we must query them from the server. Here we will automatically pull all relevant computations that match our query:"
   ]
  },
  {
   "cell_type": "code",
   "execution_count": 6,
   "metadata": {},
   "outputs": [
    {
     "data": {
      "text/html": [
       "<div>\n",
       "<style scoped>\n",
       "    .dataframe tbody tr th:only-of-type {\n",
       "        vertical-align: middle;\n",
       "    }\n",
       "\n",
       "    .dataframe tbody tr th {\n",
       "        vertical-align: top;\n",
       "    }\n",
       "\n",
       "    .dataframe thead th {\n",
       "        text-align: right;\n",
       "    }\n",
       "</style>\n",
       "<table border=\"1\" class=\"dataframe\">\n",
       "  <thead>\n",
       "    <tr style=\"text-align: right;\">\n",
       "      <th></th>\n",
       "      <th>S220</th>\n",
       "      <th>S22a</th>\n",
       "      <th>S22b</th>\n",
       "      <th>B3LYP-D3M/def2-svp</th>\n",
       "      <th>B3LYP-D3M/def2-tzvp</th>\n",
       "    </tr>\n",
       "  </thead>\n",
       "  <tbody>\n",
       "    <tr>\n",
       "      <th>Ammonia Dimer</th>\n",
       "      <td>-3.17</td>\n",
       "      <td>-3.15</td>\n",
       "      <td>-3.133</td>\n",
       "      <td>-6.248386</td>\n",
       "      <td>-4.049052</td>\n",
       "    </tr>\n",
       "    <tr>\n",
       "      <th>Water Dimer</th>\n",
       "      <td>-5.02</td>\n",
       "      <td>-5.07</td>\n",
       "      <td>-4.989</td>\n",
       "      <td>-9.002674</td>\n",
       "      <td>-6.427460</td>\n",
       "    </tr>\n",
       "    <tr>\n",
       "      <th>Formic Acid Dimer</th>\n",
       "      <td>-18.61</td>\n",
       "      <td>-18.81</td>\n",
       "      <td>-18.753</td>\n",
       "      <td>-25.933297</td>\n",
       "      <td>-20.668411</td>\n",
       "    </tr>\n",
       "    <tr>\n",
       "      <th>Formamide Dimer</th>\n",
       "      <td>-15.96</td>\n",
       "      <td>-16.11</td>\n",
       "      <td>-16.062</td>\n",
       "      <td>-21.689185</td>\n",
       "      <td>-17.436781</td>\n",
       "    </tr>\n",
       "    <tr>\n",
       "      <th>Uracil Dimer HB</th>\n",
       "      <td>-20.65</td>\n",
       "      <td>-20.69</td>\n",
       "      <td>-20.641</td>\n",
       "      <td>-25.623412</td>\n",
       "      <td>-21.922461</td>\n",
       "    </tr>\n",
       "  </tbody>\n",
       "</table>\n",
       "</div>"
      ],
      "text/plain": [
       "                    S220   S22a    S22b  B3LYP-D3M/def2-svp  \\\n",
       "Ammonia Dimer      -3.17  -3.15  -3.133           -6.248386   \n",
       "Water Dimer        -5.02  -5.07  -4.989           -9.002674   \n",
       "Formic Acid Dimer -18.61 -18.81 -18.753          -25.933297   \n",
       "Formamide Dimer   -15.96 -16.11 -16.062          -21.689185   \n",
       "Uracil Dimer HB   -20.65 -20.69 -20.641          -25.623412   \n",
       "\n",
       "                   B3LYP-D3M/def2-tzvp  \n",
       "Ammonia Dimer                -4.049052  \n",
       "Water Dimer                  -6.427460  \n",
       "Formic Acid Dimer           -20.668411  \n",
       "Formamide Dimer             -17.436781  \n",
       "Uracil Dimer HB             -21.922461  "
      ]
     },
     "execution_count": 6,
     "metadata": {},
     "output_type": "execute_result"
    }
   ],
   "source": [
    "ds.get_history(method=\"B3LYP-D3M\")\n",
    "ds.df.head()"
   ]
  },
  {
   "cell_type": "markdown",
   "metadata": {},
   "source": [
    "## Statistics and Visualization\n",
    "\n",
    "Visual statistics and plotting can be generated by the ``visualize`` command:"
   ]
  },
  {
   "cell_type": "code",
   "execution_count": 7,
   "metadata": {},
   "outputs": [
    {
     "data": {
      "text/html": [
       "<script type=\"text/javascript\">window.PlotlyConfig = {MathJaxConfig: 'local'};</script><script type=\"text/javascript\">if (window.MathJax) {MathJax.Hub.Config({SVG: {font: \"STIX-Web\"}});}</script><script>requirejs.config({paths: { 'plotly': ['https://cdn.plot.ly/plotly-latest.min']},});if(!window._Plotly) {require(['plotly'],function(plotly) {window._Plotly=plotly;});}</script>"
      ],
      "text/vnd.plotly.v1+html": [
       "<script type=\"text/javascript\">window.PlotlyConfig = {MathJaxConfig: 'local'};</script><script type=\"text/javascript\">if (window.MathJax) {MathJax.Hub.Config({SVG: {font: \"STIX-Web\"}});}</script><script>requirejs.config({paths: { 'plotly': ['https://cdn.plot.ly/plotly-latest.min']},});if(!window._Plotly) {require(['plotly'],function(plotly) {window._Plotly=plotly;});}</script>"
      ]
     },
     "metadata": {},
     "output_type": "display_data"
    },
    {
     "data": {
      "application/vnd.plotly.v1+json": {
       "config": {
        "linkText": "Export to plot.ly",
        "plotlyServerURL": "https://plot.ly",
        "showLink": false
       },
       "data": [
        {
         "name": "No -D3",
         "type": "bar",
         "uid": "f0f57e5c-5198-41d6-b023-2aba264e7fee",
         "x": [
          "B3LYP/def2-tzvp"
         ],
         "y": [
          3.428
         ]
        },
        {
         "name": "D3",
         "type": "bar",
         "uid": "87919b9c-26e7-4070-b403-c82622081795",
         "x": [
          "B3LYP/def2-tzvp"
         ],
         "y": [
          0.618
         ]
        },
        {
         "name": "D3M",
         "type": "bar",
         "uid": "b3911745-beb9-47a1-b9db-e2ac556d2679",
         "x": [
          "B3LYP/def2-tzvp"
         ],
         "y": [
          0.768
         ]
        }
       ],
       "layout": {
        "title": {
         "text": "S22 Dataset Statistics"
        },
        "yaxis": {
         "title": {
          "text": "MUE [kcal / mol]"
         }
        }
       }
      },
      "text/html": [
       "<div id=\"969ec75a-4bb3-49c7-a856-7d8feb966936\" style=\"height: 525px; width: 100%;\" class=\"plotly-graph-div\"></div><script type=\"text/javascript\">require([\"plotly\"], function(Plotly) { window.PLOTLYENV=window.PLOTLYENV || {};window.PLOTLYENV.BASE_URL=\"https://plot.ly\";\n",
       "if (document.getElementById(\"969ec75a-4bb3-49c7-a856-7d8feb966936\")) {\n",
       "    Plotly.newPlot(\"969ec75a-4bb3-49c7-a856-7d8feb966936\", [{\"name\": \"No -D3\", \"x\": [\"B3LYP/def2-tzvp\"], \"y\": [3.428], \"type\": \"bar\", \"uid\": \"f0f57e5c-5198-41d6-b023-2aba264e7fee\"}, {\"name\": \"D3\", \"x\": [\"B3LYP/def2-tzvp\"], \"y\": [0.618], \"type\": \"bar\", \"uid\": \"87919b9c-26e7-4070-b403-c82622081795\"}, {\"name\": \"D3M\", \"x\": [\"B3LYP/def2-tzvp\"], \"y\": [0.768], \"type\": \"bar\", \"uid\": \"b3911745-beb9-47a1-b9db-e2ac556d2679\"}], {\"title\": {\"text\": \"S22 Dataset Statistics\"}, \"yaxis\": {\"title\": {\"text\": \"MUE [kcal / mol]\"}}}, {\"showLink\": false, \"linkText\": \"Export to plot.ly\", \"plotlyServerURL\": \"https://plot.ly\"}); \n",
       "}\n",
       "});</script><script type=\"text/javascript\">window.addEventListener(\"resize\", function(){if (document.getElementById(\"969ec75a-4bb3-49c7-a856-7d8feb966936\")) {window._Plotly.Plots.resize(document.getElementById(\"969ec75a-4bb3-49c7-a856-7d8feb966936\"));};})</script>"
      ],
      "text/vnd.plotly.v1+html": [
       "<div id=\"969ec75a-4bb3-49c7-a856-7d8feb966936\" style=\"height: 525px; width: 100%;\" class=\"plotly-graph-div\"></div><script type=\"text/javascript\">require([\"plotly\"], function(Plotly) { window.PLOTLYENV=window.PLOTLYENV || {};window.PLOTLYENV.BASE_URL=\"https://plot.ly\";\n",
       "if (document.getElementById(\"969ec75a-4bb3-49c7-a856-7d8feb966936\")) {\n",
       "    Plotly.newPlot(\"969ec75a-4bb3-49c7-a856-7d8feb966936\", [{\"name\": \"No -D3\", \"x\": [\"B3LYP/def2-tzvp\"], \"y\": [3.428], \"type\": \"bar\", \"uid\": \"f0f57e5c-5198-41d6-b023-2aba264e7fee\"}, {\"name\": \"D3\", \"x\": [\"B3LYP/def2-tzvp\"], \"y\": [0.618], \"type\": \"bar\", \"uid\": \"87919b9c-26e7-4070-b403-c82622081795\"}, {\"name\": \"D3M\", \"x\": [\"B3LYP/def2-tzvp\"], \"y\": [0.768], \"type\": \"bar\", \"uid\": \"b3911745-beb9-47a1-b9db-e2ac556d2679\"}], {\"title\": {\"text\": \"S22 Dataset Statistics\"}, \"yaxis\": {\"title\": {\"text\": \"MUE [kcal / mol]\"}}}, {\"showLink\": false, \"linkText\": \"Export to plot.ly\", \"plotlyServerURL\": \"https://plot.ly\"}); \n",
       "}\n",
       "});</script><script type=\"text/javascript\">window.addEventListener(\"resize\", function(){if (document.getElementById(\"969ec75a-4bb3-49c7-a856-7d8feb966936\")) {window._Plotly.Plots.resize(document.getElementById(\"969ec75a-4bb3-49c7-a856-7d8feb966936\"));};})</script>"
      ]
     },
     "metadata": {},
     "output_type": "display_data"
    }
   ],
   "source": [
    "ds.visualize(method=[\"B3LYP\", \"B3LYP-D3\", \"B3LYP-D3M\"], basis=[\"def2-tzvp\"], groupby=\"D3\")"
   ]
  },
  {
   "cell_type": "code",
   "execution_count": 8,
   "metadata": {},
   "outputs": [
    {
     "data": {
      "text/html": [
       "<script type=\"text/javascript\">window.PlotlyConfig = {MathJaxConfig: 'local'};</script><script type=\"text/javascript\">if (window.MathJax) {MathJax.Hub.Config({SVG: {font: \"STIX-Web\"}});}</script><script>requirejs.config({paths: { 'plotly': ['https://cdn.plot.ly/plotly-latest.min']},});if(!window._Plotly) {require(['plotly'],function(plotly) {window._Plotly=plotly;});}</script>"
      ],
      "text/vnd.plotly.v1+html": [
       "<script type=\"text/javascript\">window.PlotlyConfig = {MathJaxConfig: 'local'};</script><script type=\"text/javascript\">if (window.MathJax) {MathJax.Hub.Config({SVG: {font: \"STIX-Web\"}});}</script><script>requirejs.config({paths: { 'plotly': ['https://cdn.plot.ly/plotly-latest.min']},});if(!window._Plotly) {require(['plotly'],function(plotly) {window._Plotly=plotly;});}</script>"
      ]
     },
     "metadata": {},
     "output_type": "display_data"
    },
    {
     "data": {
      "application/vnd.plotly.v1+json": {
       "config": {
        "linkText": "Export to plot.ly",
        "plotlyServerURL": "https://plot.ly",
        "showLink": false
       },
       "data": [
        {
         "box": {
          "visible": true
         },
         "name": "No -D3",
         "side": "positive",
         "type": "violin",
         "uid": "265915ea-ff50-4996-983b-06d2b0734b5d",
         "x": [
          "B2PLYP/def2-tzvp",
          "B3LYP/def2-tzvp",
          "B2PLYP/def2-tzvp",
          "B3LYP/def2-tzvp",
          "B2PLYP/def2-tzvp",
          "B3LYP/def2-tzvp",
          "B2PLYP/def2-tzvp",
          "B3LYP/def2-tzvp",
          "B2PLYP/def2-tzvp",
          "B3LYP/def2-tzvp",
          "B2PLYP/def2-tzvp",
          "B3LYP/def2-tzvp",
          "B2PLYP/def2-tzvp",
          "B3LYP/def2-tzvp",
          "B2PLYP/def2-tzvp",
          "B3LYP/def2-tzvp",
          "B2PLYP/def2-tzvp",
          "B3LYP/def2-tzvp",
          "B2PLYP/def2-tzvp",
          "B3LYP/def2-tzvp",
          "B2PLYP/def2-tzvp",
          "B3LYP/def2-tzvp",
          "B2PLYP/def2-tzvp",
          "B3LYP/def2-tzvp",
          "B2PLYP/def2-tzvp",
          "B3LYP/def2-tzvp",
          "B2PLYP/def2-tzvp",
          "B3LYP/def2-tzvp",
          "B2PLYP/def2-tzvp",
          "B3LYP/def2-tzvp",
          "B2PLYP/def2-tzvp",
          "B3LYP/def2-tzvp",
          "B2PLYP/def2-tzvp",
          "B3LYP/def2-tzvp",
          "B2PLYP/def2-tzvp",
          "B3LYP/def2-tzvp",
          "B2PLYP/def2-tzvp",
          "B3LYP/def2-tzvp",
          "B2PLYP/def2-tzvp",
          "B3LYP/def2-tzvp",
          "B2PLYP/def2-tzvp",
          "B3LYP/def2-tzvp",
          "B2PLYP/def2-tzvp",
          "B3LYP/def2-tzvp"
         ],
         "y": [
          1.338,
          2.612,
          5.71,
          12.174,
          1.991,
          3.333,
          0.113,
          0.208,
          2.983,
          6.092,
          1.742,
          3.463,
          0.849,
          1.765,
          1.151,
          2.338,
          1.176,
          2.127,
          0.271,
          1.103,
          1.145,
          1.921,
          0.373,
          0.702,
          1.073,
          1.561,
          0.623,
          0.885,
          4.019,
          8.686,
          2.156,
          4.559,
          0.562,
          0.878,
          1.561,
          3.411,
          3.123,
          6.451,
          1.582,
          2.411,
          4.046,
          8.181,
          0.692,
          0.545
         ]
        },
        {
         "box": {
          "visible": true
         },
         "name": "D3",
         "side": "negative",
         "type": "violin",
         "uid": "4a0f16b6-7f34-4ec4-a86b-9b99e6ad70b8",
         "x": [
          "B2PLYP/def2-tzvp",
          "B3LYP/def2-tzvp",
          "B2PLYP/def2-tzvp",
          "B3LYP/def2-tzvp",
          "B2PLYP/def2-tzvp",
          "B3LYP/def2-tzvp",
          "B2PLYP/def2-tzvp",
          "B3LYP/def2-tzvp",
          "B2PLYP/def2-tzvp",
          "B3LYP/def2-tzvp",
          "B2PLYP/def2-tzvp",
          "B3LYP/def2-tzvp",
          "B2PLYP/def2-tzvp",
          "B3LYP/def2-tzvp",
          "B2PLYP/def2-tzvp",
          "B3LYP/def2-tzvp",
          "B2PLYP/def2-tzvp",
          "B3LYP/def2-tzvp",
          "B2PLYP/def2-tzvp",
          "B3LYP/def2-tzvp",
          "B2PLYP/def2-tzvp",
          "B3LYP/def2-tzvp",
          "B2PLYP/def2-tzvp",
          "B3LYP/def2-tzvp",
          "B2PLYP/def2-tzvp",
          "B3LYP/def2-tzvp",
          "B2PLYP/def2-tzvp",
          "B3LYP/def2-tzvp",
          "B2PLYP/def2-tzvp",
          "B3LYP/def2-tzvp",
          "B2PLYP/def2-tzvp",
          "B3LYP/def2-tzvp",
          "B2PLYP/def2-tzvp",
          "B3LYP/def2-tzvp",
          "B2PLYP/def2-tzvp",
          "B3LYP/def2-tzvp",
          "B2PLYP/def2-tzvp",
          "B3LYP/def2-tzvp",
          "B2PLYP/def2-tzvp",
          "B3LYP/def2-tzvp",
          "B2PLYP/def2-tzvp",
          "B3LYP/def2-tzvp",
          "B2PLYP/def2-tzvp",
          "B3LYP/def2-tzvp"
         ],
         "y": [
          0.707,
          1.294,
          0.664,
          0.301,
          0.224,
          0.897,
          0.59,
          0.708,
          0.056,
          0.056,
          0.207,
          0.233,
          0.36,
          0.591,
          0.343,
          0.406,
          0.013,
          0.119,
          0.897,
          1.222,
          0.019,
          0.199,
          0.17,
          0.357,
          0.289,
          1.012,
          0.61,
          1.441,
          0.326,
          0.138,
          0.397,
          0.368,
          0.147,
          0.043,
          0.687,
          0.841,
          0.047,
          0.183,
          0.189,
          0.916,
          0.578,
          0.981,
          1.083,
          1.284
         ]
        }
       ],
       "layout": {
        "title": {
         "text": "S22 Dataset Statistics"
        },
        "yaxis": {
         "title": {
          "text": "UE [kcal / mol]"
         }
        }
       }
      },
      "text/html": [
       "<div id=\"f1a8affa-ea71-4c3b-98b0-74e9bb8d9a0c\" style=\"height: 525px; width: 100%;\" class=\"plotly-graph-div\"></div><script type=\"text/javascript\">require([\"plotly\"], function(Plotly) { window.PLOTLYENV=window.PLOTLYENV || {};window.PLOTLYENV.BASE_URL=\"https://plot.ly\";\n",
       "if (document.getElementById(\"f1a8affa-ea71-4c3b-98b0-74e9bb8d9a0c\")) {\n",
       "    Plotly.newPlot(\"f1a8affa-ea71-4c3b-98b0-74e9bb8d9a0c\", [{\"box\": {\"visible\": true}, \"name\": \"No -D3\", \"side\": \"positive\", \"x\": [\"B2PLYP/def2-tzvp\", \"B3LYP/def2-tzvp\", \"B2PLYP/def2-tzvp\", \"B3LYP/def2-tzvp\", \"B2PLYP/def2-tzvp\", \"B3LYP/def2-tzvp\", \"B2PLYP/def2-tzvp\", \"B3LYP/def2-tzvp\", \"B2PLYP/def2-tzvp\", \"B3LYP/def2-tzvp\", \"B2PLYP/def2-tzvp\", \"B3LYP/def2-tzvp\", \"B2PLYP/def2-tzvp\", \"B3LYP/def2-tzvp\", \"B2PLYP/def2-tzvp\", \"B3LYP/def2-tzvp\", \"B2PLYP/def2-tzvp\", \"B3LYP/def2-tzvp\", \"B2PLYP/def2-tzvp\", \"B3LYP/def2-tzvp\", \"B2PLYP/def2-tzvp\", \"B3LYP/def2-tzvp\", \"B2PLYP/def2-tzvp\", \"B3LYP/def2-tzvp\", \"B2PLYP/def2-tzvp\", \"B3LYP/def2-tzvp\", \"B2PLYP/def2-tzvp\", \"B3LYP/def2-tzvp\", \"B2PLYP/def2-tzvp\", \"B3LYP/def2-tzvp\", \"B2PLYP/def2-tzvp\", \"B3LYP/def2-tzvp\", \"B2PLYP/def2-tzvp\", \"B3LYP/def2-tzvp\", \"B2PLYP/def2-tzvp\", \"B3LYP/def2-tzvp\", \"B2PLYP/def2-tzvp\", \"B3LYP/def2-tzvp\", \"B2PLYP/def2-tzvp\", \"B3LYP/def2-tzvp\", \"B2PLYP/def2-tzvp\", \"B3LYP/def2-tzvp\", \"B2PLYP/def2-tzvp\", \"B3LYP/def2-tzvp\"], \"y\": [1.338, 2.612, 5.71, 12.174, 1.991, 3.333, 0.113, 0.208, 2.983, 6.092, 1.742, 3.463, 0.849, 1.765, 1.151, 2.338, 1.176, 2.127, 0.271, 1.103, 1.145, 1.921, 0.373, 0.702, 1.073, 1.561, 0.623, 0.885, 4.019, 8.686, 2.156, 4.559, 0.562, 0.878, 1.561, 3.411, 3.123, 6.451, 1.582, 2.411, 4.046, 8.181, 0.692, 0.545], \"type\": \"violin\", \"uid\": \"265915ea-ff50-4996-983b-06d2b0734b5d\"}, {\"box\": {\"visible\": true}, \"name\": \"D3\", \"side\": \"negative\", \"x\": [\"B2PLYP/def2-tzvp\", \"B3LYP/def2-tzvp\", \"B2PLYP/def2-tzvp\", \"B3LYP/def2-tzvp\", \"B2PLYP/def2-tzvp\", \"B3LYP/def2-tzvp\", \"B2PLYP/def2-tzvp\", \"B3LYP/def2-tzvp\", \"B2PLYP/def2-tzvp\", \"B3LYP/def2-tzvp\", \"B2PLYP/def2-tzvp\", \"B3LYP/def2-tzvp\", \"B2PLYP/def2-tzvp\", \"B3LYP/def2-tzvp\", \"B2PLYP/def2-tzvp\", \"B3LYP/def2-tzvp\", \"B2PLYP/def2-tzvp\", \"B3LYP/def2-tzvp\", \"B2PLYP/def2-tzvp\", \"B3LYP/def2-tzvp\", \"B2PLYP/def2-tzvp\", \"B3LYP/def2-tzvp\", \"B2PLYP/def2-tzvp\", \"B3LYP/def2-tzvp\", \"B2PLYP/def2-tzvp\", \"B3LYP/def2-tzvp\", \"B2PLYP/def2-tzvp\", \"B3LYP/def2-tzvp\", \"B2PLYP/def2-tzvp\", \"B3LYP/def2-tzvp\", \"B2PLYP/def2-tzvp\", \"B3LYP/def2-tzvp\", \"B2PLYP/def2-tzvp\", \"B3LYP/def2-tzvp\", \"B2PLYP/def2-tzvp\", \"B3LYP/def2-tzvp\", \"B2PLYP/def2-tzvp\", \"B3LYP/def2-tzvp\", \"B2PLYP/def2-tzvp\", \"B3LYP/def2-tzvp\", \"B2PLYP/def2-tzvp\", \"B3LYP/def2-tzvp\", \"B2PLYP/def2-tzvp\", \"B3LYP/def2-tzvp\"], \"y\": [0.707, 1.294, 0.664, 0.301, 0.224, 0.897, 0.59, 0.708, 0.056, 0.056, 0.207, 0.233, 0.36, 0.591, 0.343, 0.406, 0.013, 0.119, 0.897, 1.222, 0.019, 0.199, 0.17, 0.357, 0.289, 1.012, 0.61, 1.441, 0.326, 0.138, 0.397, 0.368, 0.147, 0.043, 0.687, 0.841, 0.047, 0.183, 0.189, 0.916, 0.578, 0.981, 1.083, 1.284], \"type\": \"violin\", \"uid\": \"4a0f16b6-7f34-4ec4-a86b-9b99e6ad70b8\"}], {\"title\": {\"text\": \"S22 Dataset Statistics\"}, \"yaxis\": {\"title\": {\"text\": \"UE [kcal / mol]\"}}}, {\"showLink\": false, \"linkText\": \"Export to plot.ly\", \"plotlyServerURL\": \"https://plot.ly\"}); \n",
       "}\n",
       "});</script><script type=\"text/javascript\">window.addEventListener(\"resize\", function(){if (document.getElementById(\"f1a8affa-ea71-4c3b-98b0-74e9bb8d9a0c\")) {window._Plotly.Plots.resize(document.getElementById(\"f1a8affa-ea71-4c3b-98b0-74e9bb8d9a0c\"));};})</script>"
      ],
      "text/vnd.plotly.v1+html": [
       "<div id=\"f1a8affa-ea71-4c3b-98b0-74e9bb8d9a0c\" style=\"height: 525px; width: 100%;\" class=\"plotly-graph-div\"></div><script type=\"text/javascript\">require([\"plotly\"], function(Plotly) { window.PLOTLYENV=window.PLOTLYENV || {};window.PLOTLYENV.BASE_URL=\"https://plot.ly\";\n",
       "if (document.getElementById(\"f1a8affa-ea71-4c3b-98b0-74e9bb8d9a0c\")) {\n",
       "    Plotly.newPlot(\"f1a8affa-ea71-4c3b-98b0-74e9bb8d9a0c\", [{\"box\": {\"visible\": true}, \"name\": \"No -D3\", \"side\": \"positive\", \"x\": [\"B2PLYP/def2-tzvp\", \"B3LYP/def2-tzvp\", \"B2PLYP/def2-tzvp\", \"B3LYP/def2-tzvp\", \"B2PLYP/def2-tzvp\", \"B3LYP/def2-tzvp\", \"B2PLYP/def2-tzvp\", \"B3LYP/def2-tzvp\", \"B2PLYP/def2-tzvp\", \"B3LYP/def2-tzvp\", \"B2PLYP/def2-tzvp\", \"B3LYP/def2-tzvp\", \"B2PLYP/def2-tzvp\", \"B3LYP/def2-tzvp\", \"B2PLYP/def2-tzvp\", \"B3LYP/def2-tzvp\", \"B2PLYP/def2-tzvp\", \"B3LYP/def2-tzvp\", \"B2PLYP/def2-tzvp\", \"B3LYP/def2-tzvp\", \"B2PLYP/def2-tzvp\", \"B3LYP/def2-tzvp\", \"B2PLYP/def2-tzvp\", \"B3LYP/def2-tzvp\", \"B2PLYP/def2-tzvp\", \"B3LYP/def2-tzvp\", \"B2PLYP/def2-tzvp\", \"B3LYP/def2-tzvp\", \"B2PLYP/def2-tzvp\", \"B3LYP/def2-tzvp\", \"B2PLYP/def2-tzvp\", \"B3LYP/def2-tzvp\", \"B2PLYP/def2-tzvp\", \"B3LYP/def2-tzvp\", \"B2PLYP/def2-tzvp\", \"B3LYP/def2-tzvp\", \"B2PLYP/def2-tzvp\", \"B3LYP/def2-tzvp\", \"B2PLYP/def2-tzvp\", \"B3LYP/def2-tzvp\", \"B2PLYP/def2-tzvp\", \"B3LYP/def2-tzvp\", \"B2PLYP/def2-tzvp\", \"B3LYP/def2-tzvp\"], \"y\": [1.338, 2.612, 5.71, 12.174, 1.991, 3.333, 0.113, 0.208, 2.983, 6.092, 1.742, 3.463, 0.849, 1.765, 1.151, 2.338, 1.176, 2.127, 0.271, 1.103, 1.145, 1.921, 0.373, 0.702, 1.073, 1.561, 0.623, 0.885, 4.019, 8.686, 2.156, 4.559, 0.562, 0.878, 1.561, 3.411, 3.123, 6.451, 1.582, 2.411, 4.046, 8.181, 0.692, 0.545], \"type\": \"violin\", \"uid\": \"265915ea-ff50-4996-983b-06d2b0734b5d\"}, {\"box\": {\"visible\": true}, \"name\": \"D3\", \"side\": \"negative\", \"x\": [\"B2PLYP/def2-tzvp\", \"B3LYP/def2-tzvp\", \"B2PLYP/def2-tzvp\", \"B3LYP/def2-tzvp\", \"B2PLYP/def2-tzvp\", \"B3LYP/def2-tzvp\", \"B2PLYP/def2-tzvp\", \"B3LYP/def2-tzvp\", \"B2PLYP/def2-tzvp\", \"B3LYP/def2-tzvp\", \"B2PLYP/def2-tzvp\", \"B3LYP/def2-tzvp\", \"B2PLYP/def2-tzvp\", \"B3LYP/def2-tzvp\", \"B2PLYP/def2-tzvp\", \"B3LYP/def2-tzvp\", \"B2PLYP/def2-tzvp\", \"B3LYP/def2-tzvp\", \"B2PLYP/def2-tzvp\", \"B3LYP/def2-tzvp\", \"B2PLYP/def2-tzvp\", \"B3LYP/def2-tzvp\", \"B2PLYP/def2-tzvp\", \"B3LYP/def2-tzvp\", \"B2PLYP/def2-tzvp\", \"B3LYP/def2-tzvp\", \"B2PLYP/def2-tzvp\", \"B3LYP/def2-tzvp\", \"B2PLYP/def2-tzvp\", \"B3LYP/def2-tzvp\", \"B2PLYP/def2-tzvp\", \"B3LYP/def2-tzvp\", \"B2PLYP/def2-tzvp\", \"B3LYP/def2-tzvp\", \"B2PLYP/def2-tzvp\", \"B3LYP/def2-tzvp\", \"B2PLYP/def2-tzvp\", \"B3LYP/def2-tzvp\", \"B2PLYP/def2-tzvp\", \"B3LYP/def2-tzvp\", \"B2PLYP/def2-tzvp\", \"B3LYP/def2-tzvp\", \"B2PLYP/def2-tzvp\", \"B3LYP/def2-tzvp\"], \"y\": [0.707, 1.294, 0.664, 0.301, 0.224, 0.897, 0.59, 0.708, 0.056, 0.056, 0.207, 0.233, 0.36, 0.591, 0.343, 0.406, 0.013, 0.119, 0.897, 1.222, 0.019, 0.199, 0.17, 0.357, 0.289, 1.012, 0.61, 1.441, 0.326, 0.138, 0.397, 0.368, 0.147, 0.043, 0.687, 0.841, 0.047, 0.183, 0.189, 0.916, 0.578, 0.981, 1.083, 1.284], \"type\": \"violin\", \"uid\": \"4a0f16b6-7f34-4ec4-a86b-9b99e6ad70b8\"}], {\"title\": {\"text\": \"S22 Dataset Statistics\"}, \"yaxis\": {\"title\": {\"text\": \"UE [kcal / mol]\"}}}, {\"showLink\": false, \"linkText\": \"Export to plot.ly\", \"plotlyServerURL\": \"https://plot.ly\"}); \n",
       "}\n",
       "});</script><script type=\"text/javascript\">window.addEventListener(\"resize\", function(){if (document.getElementById(\"f1a8affa-ea71-4c3b-98b0-74e9bb8d9a0c\")) {window._Plotly.Plots.resize(document.getElementById(\"f1a8affa-ea71-4c3b-98b0-74e9bb8d9a0c\"));};})</script>"
      ]
     },
     "metadata": {},
     "output_type": "display_data"
    }
   ],
   "source": [
    "ds.visualize(method=[\"B3LYP\", \"B3LYP-D3\", \"B2PLYP\", \"B2PLYP-D3\"], basis=\"def2-tzvp\", groupby=\"D3\", kind=\"violin\")"
   ]
  }
 ],
 "metadata": {
  "kernelspec": {
   "display_name": "Python 3",
   "language": "python",
   "name": "python3"
  },
  "language_info": {
   "codemirror_mode": {
    "name": "ipython",
    "version": 3
   },
   "file_extension": ".py",
   "mimetype": "text/x-python",
   "name": "python",
   "nbconvert_exporter": "python",
   "pygments_lexer": "ipython3",
   "version": "3.7.2"
  }
 },
 "nbformat": 4,
 "nbformat_minor": 2
}
