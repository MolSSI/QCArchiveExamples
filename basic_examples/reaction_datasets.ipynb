{
 "cells": [
  {
   "cell_type": "markdown",
   "metadata": {},
   "source": [
    "# Reaction Datasets\n",
    "\n",
    "ReactionDatasets are datasets where the primary index represents a chemical reaction, made up of stoichiometrically weighted linear combinations of individual computations. \n",
    "For example, an interaction energy dataset would have an index of the complex subtracted by the individual monomers to obtain a final interaction energy. \n",
    "This idea can extended to standard reaction energies, conformational defect energies, and more. \n",
    "\n",
    "This dataset type has been developed by the QCArchive Team in conjunction with:\n",
    "\n",
    " - [David Sherrill](http://vergil.chemistry.gatech.edu)\n",
    " - Lori Burns\n",
    " - Daniel Nascimento\n",
    " - Dom Sirianni\n",
    "\n",
    "To begin, we can connect to the MolSSI QCArchive server:"
   ]
  },
  {
   "cell_type": "code",
   "execution_count": 1,
   "metadata": {
    "scrolled": true
   },
   "outputs": [
    {
     "data": {
      "text/html": [
       "\n",
       "<h3>FractalClient</h3>\n",
       "<ul>\n",
       "  <li><b>Server:   &nbsp; </b>The MolSSI QCArchive Server</li>\n",
       "  <li><b>Address:  &nbsp; </b>https://api.qcarchive.molssi.org:443/</li>\n",
       "  <li><b>Username: &nbsp; </b>None</li>\n",
       "</ul>\n"
      ],
      "text/plain": [
       "FractalClient(server_name='The MolSSI QCArchive Server', address='https://api.qcarchive.molssi.org:443/', username='None')"
      ]
     },
     "execution_count": 1,
     "metadata": {},
     "output_type": "execute_result"
    }
   ],
   "source": [
    "import qcportal as ptl\n",
    "client = ptl.FractalClient()\n",
    "client"
   ]
  },
  {
   "cell_type": "markdown",
   "metadata": {},
   "source": [
    "The current `ReactionDataset`s can be explored below:"
   ]
  },
  {
   "cell_type": "code",
   "execution_count": 2,
   "metadata": {},
   "outputs": [
    {
     "data": {
      "text/html": [
       "<div>\n",
       "<style scoped>\n",
       "    .dataframe tbody tr th:only-of-type {\n",
       "        vertical-align: middle;\n",
       "    }\n",
       "\n",
       "    .dataframe tbody tr th {\n",
       "        vertical-align: top;\n",
       "    }\n",
       "\n",
       "    .dataframe thead th {\n",
       "        text-align: right;\n",
       "    }\n",
       "</style>\n",
       "<table border=\"1\" class=\"dataframe\">\n",
       "  <thead>\n",
       "    <tr style=\"text-align: right;\">\n",
       "      <th></th>\n",
       "      <th></th>\n",
       "      <th>tagline</th>\n",
       "    </tr>\n",
       "    <tr>\n",
       "      <th>collection</th>\n",
       "      <th>name</th>\n",
       "      <th></th>\n",
       "    </tr>\n",
       "  </thead>\n",
       "  <tbody>\n",
       "    <tr>\n",
       "      <td rowspan=\"5\" valign=\"top\">ReactionDataset</td>\n",
       "      <td>A21</td>\n",
       "      <td>Equilibrium complexes from A24 database of sma...</td>\n",
       "    </tr>\n",
       "    <tr>\n",
       "      <td>A24</td>\n",
       "      <td>Interaction energies for small bimolecular com...</td>\n",
       "    </tr>\n",
       "    <tr>\n",
       "      <td>ACONF</td>\n",
       "      <td>Conformation energies for alkanes</td>\n",
       "    </tr>\n",
       "    <tr>\n",
       "      <td>AlkBind12</td>\n",
       "      <td>Binding energies of saturated and unsaturated ...</td>\n",
       "    </tr>\n",
       "    <tr>\n",
       "      <td>AlkIsod14</td>\n",
       "      <td>Isodesmic reaction energies for alkanes N=3--8</td>\n",
       "    </tr>\n",
       "  </tbody>\n",
       "</table>\n",
       "</div>"
      ],
      "text/plain": [
       "                                                                     tagline\n",
       "collection      name                                                        \n",
       "ReactionDataset A21        Equilibrium complexes from A24 database of sma...\n",
       "                A24        Interaction energies for small bimolecular com...\n",
       "                ACONF                      Conformation energies for alkanes\n",
       "                AlkBind12  Binding energies of saturated and unsaturated ...\n",
       "                AlkIsod14     Isodesmic reaction energies for alkanes N=3--8"
      ]
     },
     "execution_count": 2,
     "metadata": {},
     "output_type": "execute_result"
    }
   ],
   "source": [
    "client.list_collections(\"ReactionDataset\").head()"
   ]
  },
  {
   "cell_type": "markdown",
   "metadata": {},
   "source": [
    "## Exploring a Dataset\n",
    "\n",
    "For this example, we will explore S22 dataset which is a small interaction energy dataset of 22 common dimers such as the water dimer, methane dimer, and more. To obtain this collection:"
   ]
  },
  {
   "cell_type": "code",
   "execution_count": 3,
   "metadata": {},
   "outputs": [
    {
     "name": "stdout",
     "output_type": "stream",
     "text": [
      "ReactionDataset(name=`S22`, id='184', client='https://api.qcarchive.molssi.org:443/') \n"
     ]
    }
   ],
   "source": [
    "ds = client.get_collection(\"ReactionDataset\", \"S22\")\n",
    "print(ds)"
   ]
  },
  {
   "cell_type": "markdown",
   "metadata": {},
   "source": [
    "The reactions in the dataset -- dimerization reactions in the case of S22 -- can be listed:"
   ]
  },
  {
   "cell_type": "code",
   "execution_count": 4,
   "metadata": {},
   "outputs": [
    {
     "data": {
      "text/plain": [
       "['2-Pyridone-2-Aminopyridine Complex',\n",
       " 'Adenine-Thymine Complex Stack',\n",
       " 'Adenine-Thymine Complex WC',\n",
       " 'Ammonia Dimer',\n",
       " 'Benzene-Ammonia Complex',\n",
       " 'Benzene Dimer PD',\n",
       " 'Benzene Dimer T-Shape',\n",
       " 'Benzene-HCN Complex',\n",
       " 'Benzene-Methane Complex',\n",
       " 'Benzene-Water Complex',\n",
       " 'Ethene Dimer',\n",
       " 'Ethene-Ethine Complex',\n",
       " 'Formamide Dimer',\n",
       " 'Formic Acid Dimer',\n",
       " 'Indole-Benzene Complex Stack',\n",
       " 'Indole-Benzene Complex T-Shape',\n",
       " 'Methane Dimer',\n",
       " 'Phenol Dimer',\n",
       " 'Pyrazine Dimer',\n",
       " 'Uracil Dimer HB',\n",
       " 'Uracil Dimer Stack',\n",
       " 'Water Dimer']"
      ]
     },
     "execution_count": 4,
     "metadata": {},
     "output_type": "execute_result"
    }
   ],
   "source": [
    "ds.get_index()"
   ]
  },
  {
   "cell_type": "markdown",
   "metadata": {},
   "source": [
    "Datasets contain two types of data, those computed through QCArchive (\"native\") and those that are provided from external sources (\"contributed\"). Contributed data often come from experiments or very costly benchmarks taken from literature. \n",
    "\n",
    "`Datasets` and `ReactionDatasets` provide a list of all data that has been computed or contributed through the `list_values` method. "
   ]
  },
  {
   "cell_type": "code",
   "execution_count": 5,
   "metadata": {},
   "outputs": [
    {
     "data": {
      "text/html": [
       "<div>\n",
       "<style scoped>\n",
       "    .dataframe tbody tr th:only-of-type {\n",
       "        vertical-align: middle;\n",
       "    }\n",
       "\n",
       "    .dataframe tbody tr th {\n",
       "        vertical-align: top;\n",
       "    }\n",
       "\n",
       "    .dataframe thead th {\n",
       "        text-align: right;\n",
       "    }\n",
       "</style>\n",
       "<table border=\"1\" class=\"dataframe\">\n",
       "  <thead>\n",
       "    <tr style=\"text-align: right;\">\n",
       "      <th></th>\n",
       "      <th></th>\n",
       "      <th></th>\n",
       "      <th></th>\n",
       "      <th></th>\n",
       "      <th></th>\n",
       "      <th>stoichiometry</th>\n",
       "      <th>name</th>\n",
       "    </tr>\n",
       "    <tr>\n",
       "      <th>native</th>\n",
       "      <th>driver</th>\n",
       "      <th>program</th>\n",
       "      <th>method</th>\n",
       "      <th>basis</th>\n",
       "      <th>keywords</th>\n",
       "      <th></th>\n",
       "      <th></th>\n",
       "    </tr>\n",
       "  </thead>\n",
       "  <tbody>\n",
       "    <tr>\n",
       "      <td rowspan=\"3\" valign=\"top\">False</td>\n",
       "      <td rowspan=\"3\" valign=\"top\">Unknown</td>\n",
       "      <td rowspan=\"3\" valign=\"top\">Unknown</td>\n",
       "      <td rowspan=\"3\" valign=\"top\">Unknown</td>\n",
       "      <td rowspan=\"3\" valign=\"top\">Unknown</td>\n",
       "      <td>Unknown</td>\n",
       "      <td>default</td>\n",
       "      <td>S220</td>\n",
       "    </tr>\n",
       "    <tr>\n",
       "      <td>Unknown</td>\n",
       "      <td>default</td>\n",
       "      <td>S22a</td>\n",
       "    </tr>\n",
       "    <tr>\n",
       "      <td>Unknown</td>\n",
       "      <td>default</td>\n",
       "      <td>S22b</td>\n",
       "    </tr>\n",
       "    <tr>\n",
       "      <td rowspan=\"2\" valign=\"top\">True</td>\n",
       "      <td rowspan=\"2\" valign=\"top\">energy</td>\n",
       "      <td rowspan=\"2\" valign=\"top\">psi4</td>\n",
       "      <td rowspan=\"2\" valign=\"top\">b2plyp</td>\n",
       "      <td rowspan=\"2\" valign=\"top\">aug-cc-pvdz</td>\n",
       "      <td>scf_default</td>\n",
       "      <td>cp</td>\n",
       "      <td>cp-B2PLYP/aug-cc-pvdz</td>\n",
       "    </tr>\n",
       "    <tr>\n",
       "      <td>scf_default</td>\n",
       "      <td>default</td>\n",
       "      <td>B2PLYP/aug-cc-pvdz</td>\n",
       "    </tr>\n",
       "  </tbody>\n",
       "</table>\n",
       "</div>"
      ],
      "text/plain": [
       "                                                       stoichiometry  \\\n",
       "native driver  program method  basis       keywords                    \n",
       "False  Unknown Unknown Unknown Unknown     Unknown           default   \n",
       "                                           Unknown           default   \n",
       "                                           Unknown           default   \n",
       "True   energy  psi4    b2plyp  aug-cc-pvdz scf_default            cp   \n",
       "                                           scf_default       default   \n",
       "\n",
       "                                                                         name  \n",
       "native driver  program method  basis       keywords                            \n",
       "False  Unknown Unknown Unknown Unknown     Unknown                       S220  \n",
       "                                           Unknown                       S22a  \n",
       "                                           Unknown                       S22b  \n",
       "True   energy  psi4    b2plyp  aug-cc-pvdz scf_default  cp-B2PLYP/aug-cc-pvdz  \n",
       "                                           scf_default     B2PLYP/aug-cc-pvdz  "
      ]
     },
     "execution_count": 5,
     "metadata": {},
     "output_type": "execute_result"
    }
   ],
   "source": [
    "ds.list_values().head()"
   ]
  },
  {
   "cell_type": "markdown",
   "metadata": {},
   "source": [
    "Here, we have listed the first five available data sources. The first three are contributed, marked by `native=False` and correspond to benchmarks. The last two are computed data (`native=True`). \n",
    "\n",
    "There are six primary keys to describe data:\n",
    "\n",
    " - `native` - Whether a computation was done using QCArchive.\n",
    " - `driver` - The type of computation, this can be energy, gradient, Hessian, and properties.\n",
    " - `program` - The program used in the computation.\n",
    " - `method` - The quantum chemistry, semiempirical, AI-model, or force field used in the computation.\n",
    " - `basis` - The basis used in the computation.\n",
    " - `keywords` - A keywords alias used in the computation, specific to the details of the program or procedure.\n",
    "\n",
    "In addition, there is also the `stoichiometry` field which is unique to `ReactionDatasets`. \n",
    "There exist several ways to compute the interaction energy: counterpoise-corrected (`cp`), non-counterpoise-corrected (`default`), and Valiron–Mayer function counterpoise (`vmfc`). \n",
    "The `stoichiometry` field allows for the selection of this particular form."
   ]
  },
  {
   "cell_type": "markdown",
   "metadata": {},
   "source": [
    "Searches in `list_values` may be narrowed by specifying some or all of the keys. In this case, we will filter our history by the DFT method `B2PLYP` and the basis set `def2-SVP`."
   ]
  },
  {
   "cell_type": "code",
   "execution_count": 6,
   "metadata": {},
   "outputs": [
    {
     "data": {
      "text/html": [
       "<div>\n",
       "<style scoped>\n",
       "    .dataframe tbody tr th:only-of-type {\n",
       "        vertical-align: middle;\n",
       "    }\n",
       "\n",
       "    .dataframe tbody tr th {\n",
       "        vertical-align: top;\n",
       "    }\n",
       "\n",
       "    .dataframe thead th {\n",
       "        text-align: right;\n",
       "    }\n",
       "</style>\n",
       "<table border=\"1\" class=\"dataframe\">\n",
       "  <thead>\n",
       "    <tr style=\"text-align: right;\">\n",
       "      <th></th>\n",
       "      <th></th>\n",
       "      <th></th>\n",
       "      <th></th>\n",
       "      <th></th>\n",
       "      <th></th>\n",
       "      <th>stoichiometry</th>\n",
       "      <th>name</th>\n",
       "    </tr>\n",
       "    <tr>\n",
       "      <th>native</th>\n",
       "      <th>driver</th>\n",
       "      <th>program</th>\n",
       "      <th>method</th>\n",
       "      <th>basis</th>\n",
       "      <th>keywords</th>\n",
       "      <th></th>\n",
       "      <th></th>\n",
       "    </tr>\n",
       "  </thead>\n",
       "  <tbody>\n",
       "    <tr>\n",
       "      <td rowspan=\"2\" valign=\"top\">True</td>\n",
       "      <td rowspan=\"2\" valign=\"top\">energy</td>\n",
       "      <td rowspan=\"2\" valign=\"top\">psi4</td>\n",
       "      <td rowspan=\"2\" valign=\"top\">b2plyp</td>\n",
       "      <td rowspan=\"2\" valign=\"top\">def2-svp</td>\n",
       "      <td>scf_default</td>\n",
       "      <td>cp</td>\n",
       "      <td>cp-B2PLYP/def2-svp</td>\n",
       "    </tr>\n",
       "    <tr>\n",
       "      <td>scf_default</td>\n",
       "      <td>default</td>\n",
       "      <td>B2PLYP/def2-svp</td>\n",
       "    </tr>\n",
       "  </tbody>\n",
       "</table>\n",
       "</div>"
      ],
      "text/plain": [
       "                                                  stoichiometry  \\\n",
       "native driver program method basis    keywords                    \n",
       "True   energy psi4    b2plyp def2-svp scf_default            cp   \n",
       "                                      scf_default       default   \n",
       "\n",
       "                                                                 name  \n",
       "native driver program method basis    keywords                         \n",
       "True   energy psi4    b2plyp def2-svp scf_default  cp-B2PLYP/def2-svp  \n",
       "                                      scf_default     B2PLYP/def2-svp  "
      ]
     },
     "execution_count": 6,
     "metadata": {},
     "output_type": "execute_result"
    }
   ],
   "source": [
    "ds.list_values(method=\"B2PLYP\", basis=\"def2-SVP\")"
   ]
  },
  {
   "cell_type": "markdown",
   "metadata": {},
   "source": [
    "## Querying Data\n",
    "\n",
    "To obtain the data for the computations we must query them from the server. For example, we can pull all `B3LYP-D3M` interaction energies:"
   ]
  },
  {
   "cell_type": "code",
   "execution_count": 7,
   "metadata": {},
   "outputs": [
    {
     "data": {
      "text/html": [
       "<div>\n",
       "<style scoped>\n",
       "    .dataframe tbody tr th:only-of-type {\n",
       "        vertical-align: middle;\n",
       "    }\n",
       "\n",
       "    .dataframe tbody tr th {\n",
       "        vertical-align: top;\n",
       "    }\n",
       "\n",
       "    .dataframe thead th {\n",
       "        text-align: right;\n",
       "    }\n",
       "</style>\n",
       "<table border=\"1\" class=\"dataframe\">\n",
       "  <thead>\n",
       "    <tr style=\"text-align: right;\">\n",
       "      <th></th>\n",
       "      <th>B3LYP-D3M/def2-tzvp</th>\n",
       "      <th>B3LYP-D3M/aug-cc-pvdz</th>\n",
       "      <th>B3LYP-D3M/def2-svp</th>\n",
       "      <th>B3LYP-D3M/aug-cc-pvtz</th>\n",
       "    </tr>\n",
       "  </thead>\n",
       "  <tbody>\n",
       "    <tr>\n",
       "      <td>2-Pyridone-2-Aminopyridine Complex</td>\n",
       "      <td>-18.536530</td>\n",
       "      <td>-19.005121</td>\n",
       "      <td>-22.831506</td>\n",
       "      <td>-18.238308</td>\n",
       "    </tr>\n",
       "    <tr>\n",
       "      <td>Adenine-Thymine Complex Stack</td>\n",
       "      <td>-12.149707</td>\n",
       "      <td>-12.897930</td>\n",
       "      <td>-15.577143</td>\n",
       "      <td>-11.778090</td>\n",
       "    </tr>\n",
       "    <tr>\n",
       "      <td>Adenine-Thymine Complex WC</td>\n",
       "      <td>-17.833451</td>\n",
       "      <td>-18.449484</td>\n",
       "      <td>-22.574701</td>\n",
       "      <td>-17.687043</td>\n",
       "    </tr>\n",
       "    <tr>\n",
       "      <td>Ammonia Dimer</td>\n",
       "      <td>-4.049052</td>\n",
       "      <td>-3.509980</td>\n",
       "      <td>-6.248386</td>\n",
       "      <td>-3.328184</td>\n",
       "    </tr>\n",
       "    <tr>\n",
       "      <td>Benzene Dimer PD</td>\n",
       "      <td>-2.556100</td>\n",
       "      <td>-3.058981</td>\n",
       "      <td>-3.459984</td>\n",
       "      <td>-2.467563</td>\n",
       "    </tr>\n",
       "    <tr>\n",
       "      <td>Benzene Dimer T-Shape</td>\n",
       "      <td>-3.072012</td>\n",
       "      <td>-3.617173</td>\n",
       "      <td>-3.597379</td>\n",
       "      <td>-3.016720</td>\n",
       "    </tr>\n",
       "    <tr>\n",
       "      <td>Benzene-Ammonia Complex</td>\n",
       "      <td>-2.934200</td>\n",
       "      <td>-2.833251</td>\n",
       "      <td>-3.251346</td>\n",
       "      <td>-2.572470</td>\n",
       "    </tr>\n",
       "    <tr>\n",
       "      <td>Benzene-HCN Complex</td>\n",
       "      <td>-5.279021</td>\n",
       "      <td>-5.479076</td>\n",
       "      <td>-5.480155</td>\n",
       "      <td>-5.221790</td>\n",
       "    </tr>\n",
       "    <tr>\n",
       "      <td>Benzene-Methane Complex</td>\n",
       "      <td>-1.555573</td>\n",
       "      <td>-1.830850</td>\n",
       "      <td>-1.917835</td>\n",
       "      <td>-1.552191</td>\n",
       "    </tr>\n",
       "    <tr>\n",
       "      <td>Benzene-Water Complex</td>\n",
       "      <td>-4.613285</td>\n",
       "      <td>-3.924570</td>\n",
       "      <td>-4.926573</td>\n",
       "      <td>-3.727725</td>\n",
       "    </tr>\n",
       "    <tr>\n",
       "      <td>Ethene Dimer</td>\n",
       "      <td>-1.668464</td>\n",
       "      <td>-2.050798</td>\n",
       "      <td>-2.294543</td>\n",
       "      <td>-1.678959</td>\n",
       "    </tr>\n",
       "    <tr>\n",
       "      <td>Ethene-Ethine Complex</td>\n",
       "      <td>-1.878851</td>\n",
       "      <td>-2.114814</td>\n",
       "      <td>-2.330609</td>\n",
       "      <td>-1.823828</td>\n",
       "    </tr>\n",
       "    <tr>\n",
       "      <td>Formamide Dimer</td>\n",
       "      <td>-17.436781</td>\n",
       "      <td>-17.546706</td>\n",
       "      <td>-21.689185</td>\n",
       "      <td>-17.104115</td>\n",
       "    </tr>\n",
       "    <tr>\n",
       "      <td>Formic Acid Dimer</td>\n",
       "      <td>-20.668411</td>\n",
       "      <td>-20.536286</td>\n",
       "      <td>-25.933297</td>\n",
       "      <td>-20.385421</td>\n",
       "    </tr>\n",
       "    <tr>\n",
       "      <td>Indole-Benzene Complex Stack</td>\n",
       "      <td>-4.398316</td>\n",
       "      <td>-5.056658</td>\n",
       "      <td>-5.736506</td>\n",
       "      <td>-4.213569</td>\n",
       "    </tr>\n",
       "    <tr>\n",
       "      <td>Indole-Benzene Complex T-Shape</td>\n",
       "      <td>-6.363817</td>\n",
       "      <td>-6.796603</td>\n",
       "      <td>-7.081938</td>\n",
       "      <td>-6.083396</td>\n",
       "    </tr>\n",
       "    <tr>\n",
       "      <td>Methane Dimer</td>\n",
       "      <td>-0.522247</td>\n",
       "      <td>-0.813825</td>\n",
       "      <td>-0.672244</td>\n",
       "      <td>-0.511469</td>\n",
       "    </tr>\n",
       "    <tr>\n",
       "      <td>Phenol Dimer</td>\n",
       "      <td>-8.032781</td>\n",
       "      <td>-7.974372</td>\n",
       "      <td>-10.977429</td>\n",
       "      <td>-7.523356</td>\n",
       "    </tr>\n",
       "    <tr>\n",
       "      <td>Pyrazine Dimer</td>\n",
       "      <td>-4.096590</td>\n",
       "      <td>-4.664210</td>\n",
       "      <td>-5.443984</td>\n",
       "      <td>-4.036813</td>\n",
       "    </tr>\n",
       "    <tr>\n",
       "      <td>Uracil Dimer HB</td>\n",
       "      <td>-21.922461</td>\n",
       "      <td>-22.497729</td>\n",
       "      <td>-25.623412</td>\n",
       "      <td>-21.904878</td>\n",
       "    </tr>\n",
       "    <tr>\n",
       "      <td>Uracil Dimer Stack</td>\n",
       "      <td>-10.781041</td>\n",
       "      <td>-11.125815</td>\n",
       "      <td>-13.223797</td>\n",
       "      <td>-10.486322</td>\n",
       "    </tr>\n",
       "    <tr>\n",
       "      <td>Water Dimer</td>\n",
       "      <td>-6.427460</td>\n",
       "      <td>-5.539915</td>\n",
       "      <td>-9.002674</td>\n",
       "      <td>-5.417591</td>\n",
       "    </tr>\n",
       "  </tbody>\n",
       "</table>\n",
       "</div>"
      ],
      "text/plain": [
       "                                    B3LYP-D3M/def2-tzvp  \\\n",
       "2-Pyridone-2-Aminopyridine Complex           -18.536530   \n",
       "Adenine-Thymine Complex Stack                -12.149707   \n",
       "Adenine-Thymine Complex WC                   -17.833451   \n",
       "Ammonia Dimer                                 -4.049052   \n",
       "Benzene Dimer PD                              -2.556100   \n",
       "Benzene Dimer T-Shape                         -3.072012   \n",
       "Benzene-Ammonia Complex                       -2.934200   \n",
       "Benzene-HCN Complex                           -5.279021   \n",
       "Benzene-Methane Complex                       -1.555573   \n",
       "Benzene-Water Complex                         -4.613285   \n",
       "Ethene Dimer                                  -1.668464   \n",
       "Ethene-Ethine Complex                         -1.878851   \n",
       "Formamide Dimer                              -17.436781   \n",
       "Formic Acid Dimer                            -20.668411   \n",
       "Indole-Benzene Complex Stack                  -4.398316   \n",
       "Indole-Benzene Complex T-Shape                -6.363817   \n",
       "Methane Dimer                                 -0.522247   \n",
       "Phenol Dimer                                  -8.032781   \n",
       "Pyrazine Dimer                                -4.096590   \n",
       "Uracil Dimer HB                              -21.922461   \n",
       "Uracil Dimer Stack                           -10.781041   \n",
       "Water Dimer                                   -6.427460   \n",
       "\n",
       "                                    B3LYP-D3M/aug-cc-pvdz  B3LYP-D3M/def2-svp  \\\n",
       "2-Pyridone-2-Aminopyridine Complex             -19.005121          -22.831506   \n",
       "Adenine-Thymine Complex Stack                  -12.897930          -15.577143   \n",
       "Adenine-Thymine Complex WC                     -18.449484          -22.574701   \n",
       "Ammonia Dimer                                   -3.509980           -6.248386   \n",
       "Benzene Dimer PD                                -3.058981           -3.459984   \n",
       "Benzene Dimer T-Shape                           -3.617173           -3.597379   \n",
       "Benzene-Ammonia Complex                         -2.833251           -3.251346   \n",
       "Benzene-HCN Complex                             -5.479076           -5.480155   \n",
       "Benzene-Methane Complex                         -1.830850           -1.917835   \n",
       "Benzene-Water Complex                           -3.924570           -4.926573   \n",
       "Ethene Dimer                                    -2.050798           -2.294543   \n",
       "Ethene-Ethine Complex                           -2.114814           -2.330609   \n",
       "Formamide Dimer                                -17.546706          -21.689185   \n",
       "Formic Acid Dimer                              -20.536286          -25.933297   \n",
       "Indole-Benzene Complex Stack                    -5.056658           -5.736506   \n",
       "Indole-Benzene Complex T-Shape                  -6.796603           -7.081938   \n",
       "Methane Dimer                                   -0.813825           -0.672244   \n",
       "Phenol Dimer                                    -7.974372          -10.977429   \n",
       "Pyrazine Dimer                                  -4.664210           -5.443984   \n",
       "Uracil Dimer HB                                -22.497729          -25.623412   \n",
       "Uracil Dimer Stack                             -11.125815          -13.223797   \n",
       "Water Dimer                                     -5.539915           -9.002674   \n",
       "\n",
       "                                    B3LYP-D3M/aug-cc-pvtz  \n",
       "2-Pyridone-2-Aminopyridine Complex             -18.238308  \n",
       "Adenine-Thymine Complex Stack                  -11.778090  \n",
       "Adenine-Thymine Complex WC                     -17.687043  \n",
       "Ammonia Dimer                                   -3.328184  \n",
       "Benzene Dimer PD                                -2.467563  \n",
       "Benzene Dimer T-Shape                           -3.016720  \n",
       "Benzene-Ammonia Complex                         -2.572470  \n",
       "Benzene-HCN Complex                             -5.221790  \n",
       "Benzene-Methane Complex                         -1.552191  \n",
       "Benzene-Water Complex                           -3.727725  \n",
       "Ethene Dimer                                    -1.678959  \n",
       "Ethene-Ethine Complex                           -1.823828  \n",
       "Formamide Dimer                                -17.104115  \n",
       "Formic Acid Dimer                              -20.385421  \n",
       "Indole-Benzene Complex Stack                    -4.213569  \n",
       "Indole-Benzene Complex T-Shape                  -6.083396  \n",
       "Methane Dimer                                   -0.511469  \n",
       "Phenol Dimer                                    -7.523356  \n",
       "Pyrazine Dimer                                  -4.036813  \n",
       "Uracil Dimer HB                                -21.904878  \n",
       "Uracil Dimer Stack                             -10.486322  \n",
       "Water Dimer                                     -5.417591  "
      ]
     },
     "execution_count": 7,
     "metadata": {},
     "output_type": "execute_result"
    }
   ],
   "source": [
    "ds.get_values(method=\"B3LYP-D3M\")"
   ]
  },
  {
   "cell_type": "markdown",
   "metadata": {},
   "source": [
    "The units of these energies are stored in `ds.units`:"
   ]
  },
  {
   "cell_type": "code",
   "execution_count": 8,
   "metadata": {},
   "outputs": [
    {
     "data": {
      "text/plain": [
       "'kcal / mol'"
      ]
     },
     "execution_count": 8,
     "metadata": {},
     "output_type": "execute_result"
    }
   ],
   "source": [
    "ds.units"
   ]
  },
  {
   "cell_type": "markdown",
   "metadata": {},
   "source": [
    "## Statistics and Visualization\n",
    "\n",
    "Visual statistics and plotting can be generated by the ``visualize`` command:"
   ]
  },
  {
   "cell_type": "code",
   "execution_count": 9,
   "metadata": {},
   "outputs": [
    {
     "data": {
      "text/html": [
       "        <script type=\"text/javascript\">\n",
       "        window.PlotlyConfig = {MathJaxConfig: 'local'};\n",
       "        if (window.MathJax) {MathJax.Hub.Config({SVG: {font: \"STIX-Web\"}});}\n",
       "        if (typeof require !== 'undefined') {\n",
       "        require.undef(\"plotly\");\n",
       "        requirejs.config({\n",
       "            paths: {\n",
       "                'plotly': ['https://cdn.plot.ly/plotly-latest.min']\n",
       "            }\n",
       "        });\n",
       "        require(['plotly'], function(Plotly) {\n",
       "            window._Plotly = Plotly;\n",
       "        });\n",
       "        }\n",
       "        </script>\n",
       "        "
      ]
     },
     "metadata": {},
     "output_type": "display_data"
    },
    {
     "data": {
      "application/vnd.plotly.v1+json": {
       "config": {
        "linkText": "Export to plot.ly",
        "plotlyServerURL": "https://plot.ly",
        "showLink": false
       },
       "data": [
        {
         "name": "No -D3",
         "type": "bar",
         "x": [
          "B3LYP/def2-tzvp"
         ],
         "y": [
          3.428
         ]
        },
        {
         "name": "D3",
         "type": "bar",
         "x": [
          "B3LYP/def2-tzvp"
         ],
         "y": [
          0.618
         ]
        },
        {
         "name": "D3M",
         "type": "bar",
         "x": [
          "B3LYP/def2-tzvp"
         ],
         "y": [
          0.768
         ]
        }
       ],
       "layout": {
        "template": {
         "data": {
          "bar": [
           {
            "error_x": {
             "color": "#2a3f5f"
            },
            "error_y": {
             "color": "#2a3f5f"
            },
            "marker": {
             "line": {
              "color": "#E5ECF6",
              "width": 0.5
             }
            },
            "type": "bar"
           }
          ],
          "barpolar": [
           {
            "marker": {
             "line": {
              "color": "#E5ECF6",
              "width": 0.5
             }
            },
            "type": "barpolar"
           }
          ],
          "carpet": [
           {
            "aaxis": {
             "endlinecolor": "#2a3f5f",
             "gridcolor": "white",
             "linecolor": "white",
             "minorgridcolor": "white",
             "startlinecolor": "#2a3f5f"
            },
            "baxis": {
             "endlinecolor": "#2a3f5f",
             "gridcolor": "white",
             "linecolor": "white",
             "minorgridcolor": "white",
             "startlinecolor": "#2a3f5f"
            },
            "type": "carpet"
           }
          ],
          "choropleth": [
           {
            "colorbar": {
             "outlinewidth": 0,
             "ticks": ""
            },
            "type": "choropleth"
           }
          ],
          "contour": [
           {
            "colorbar": {
             "outlinewidth": 0,
             "ticks": ""
            },
            "colorscale": [
             [
              0,
              "#0d0887"
             ],
             [
              0.1111111111111111,
              "#46039f"
             ],
             [
              0.2222222222222222,
              "#7201a8"
             ],
             [
              0.3333333333333333,
              "#9c179e"
             ],
             [
              0.4444444444444444,
              "#bd3786"
             ],
             [
              0.5555555555555556,
              "#d8576b"
             ],
             [
              0.6666666666666666,
              "#ed7953"
             ],
             [
              0.7777777777777778,
              "#fb9f3a"
             ],
             [
              0.8888888888888888,
              "#fdca26"
             ],
             [
              1,
              "#f0f921"
             ]
            ],
            "type": "contour"
           }
          ],
          "contourcarpet": [
           {
            "colorbar": {
             "outlinewidth": 0,
             "ticks": ""
            },
            "type": "contourcarpet"
           }
          ],
          "heatmap": [
           {
            "colorbar": {
             "outlinewidth": 0,
             "ticks": ""
            },
            "colorscale": [
             [
              0,
              "#0d0887"
             ],
             [
              0.1111111111111111,
              "#46039f"
             ],
             [
              0.2222222222222222,
              "#7201a8"
             ],
             [
              0.3333333333333333,
              "#9c179e"
             ],
             [
              0.4444444444444444,
              "#bd3786"
             ],
             [
              0.5555555555555556,
              "#d8576b"
             ],
             [
              0.6666666666666666,
              "#ed7953"
             ],
             [
              0.7777777777777778,
              "#fb9f3a"
             ],
             [
              0.8888888888888888,
              "#fdca26"
             ],
             [
              1,
              "#f0f921"
             ]
            ],
            "type": "heatmap"
           }
          ],
          "heatmapgl": [
           {
            "colorbar": {
             "outlinewidth": 0,
             "ticks": ""
            },
            "colorscale": [
             [
              0,
              "#0d0887"
             ],
             [
              0.1111111111111111,
              "#46039f"
             ],
             [
              0.2222222222222222,
              "#7201a8"
             ],
             [
              0.3333333333333333,
              "#9c179e"
             ],
             [
              0.4444444444444444,
              "#bd3786"
             ],
             [
              0.5555555555555556,
              "#d8576b"
             ],
             [
              0.6666666666666666,
              "#ed7953"
             ],
             [
              0.7777777777777778,
              "#fb9f3a"
             ],
             [
              0.8888888888888888,
              "#fdca26"
             ],
             [
              1,
              "#f0f921"
             ]
            ],
            "type": "heatmapgl"
           }
          ],
          "histogram": [
           {
            "marker": {
             "colorbar": {
              "outlinewidth": 0,
              "ticks": ""
             }
            },
            "type": "histogram"
           }
          ],
          "histogram2d": [
           {
            "colorbar": {
             "outlinewidth": 0,
             "ticks": ""
            },
            "colorscale": [
             [
              0,
              "#0d0887"
             ],
             [
              0.1111111111111111,
              "#46039f"
             ],
             [
              0.2222222222222222,
              "#7201a8"
             ],
             [
              0.3333333333333333,
              "#9c179e"
             ],
             [
              0.4444444444444444,
              "#bd3786"
             ],
             [
              0.5555555555555556,
              "#d8576b"
             ],
             [
              0.6666666666666666,
              "#ed7953"
             ],
             [
              0.7777777777777778,
              "#fb9f3a"
             ],
             [
              0.8888888888888888,
              "#fdca26"
             ],
             [
              1,
              "#f0f921"
             ]
            ],
            "type": "histogram2d"
           }
          ],
          "histogram2dcontour": [
           {
            "colorbar": {
             "outlinewidth": 0,
             "ticks": ""
            },
            "colorscale": [
             [
              0,
              "#0d0887"
             ],
             [
              0.1111111111111111,
              "#46039f"
             ],
             [
              0.2222222222222222,
              "#7201a8"
             ],
             [
              0.3333333333333333,
              "#9c179e"
             ],
             [
              0.4444444444444444,
              "#bd3786"
             ],
             [
              0.5555555555555556,
              "#d8576b"
             ],
             [
              0.6666666666666666,
              "#ed7953"
             ],
             [
              0.7777777777777778,
              "#fb9f3a"
             ],
             [
              0.8888888888888888,
              "#fdca26"
             ],
             [
              1,
              "#f0f921"
             ]
            ],
            "type": "histogram2dcontour"
           }
          ],
          "mesh3d": [
           {
            "colorbar": {
             "outlinewidth": 0,
             "ticks": ""
            },
            "type": "mesh3d"
           }
          ],
          "parcoords": [
           {
            "line": {
             "colorbar": {
              "outlinewidth": 0,
              "ticks": ""
             }
            },
            "type": "parcoords"
           }
          ],
          "scatter": [
           {
            "marker": {
             "colorbar": {
              "outlinewidth": 0,
              "ticks": ""
             }
            },
            "type": "scatter"
           }
          ],
          "scatter3d": [
           {
            "line": {
             "colorbar": {
              "outlinewidth": 0,
              "ticks": ""
             }
            },
            "marker": {
             "colorbar": {
              "outlinewidth": 0,
              "ticks": ""
             }
            },
            "type": "scatter3d"
           }
          ],
          "scattercarpet": [
           {
            "marker": {
             "colorbar": {
              "outlinewidth": 0,
              "ticks": ""
             }
            },
            "type": "scattercarpet"
           }
          ],
          "scattergeo": [
           {
            "marker": {
             "colorbar": {
              "outlinewidth": 0,
              "ticks": ""
             }
            },
            "type": "scattergeo"
           }
          ],
          "scattergl": [
           {
            "marker": {
             "colorbar": {
              "outlinewidth": 0,
              "ticks": ""
             }
            },
            "type": "scattergl"
           }
          ],
          "scattermapbox": [
           {
            "marker": {
             "colorbar": {
              "outlinewidth": 0,
              "ticks": ""
             }
            },
            "type": "scattermapbox"
           }
          ],
          "scatterpolar": [
           {
            "marker": {
             "colorbar": {
              "outlinewidth": 0,
              "ticks": ""
             }
            },
            "type": "scatterpolar"
           }
          ],
          "scatterpolargl": [
           {
            "marker": {
             "colorbar": {
              "outlinewidth": 0,
              "ticks": ""
             }
            },
            "type": "scatterpolargl"
           }
          ],
          "scatterternary": [
           {
            "marker": {
             "colorbar": {
              "outlinewidth": 0,
              "ticks": ""
             }
            },
            "type": "scatterternary"
           }
          ],
          "surface": [
           {
            "colorbar": {
             "outlinewidth": 0,
             "ticks": ""
            },
            "colorscale": [
             [
              0,
              "#0d0887"
             ],
             [
              0.1111111111111111,
              "#46039f"
             ],
             [
              0.2222222222222222,
              "#7201a8"
             ],
             [
              0.3333333333333333,
              "#9c179e"
             ],
             [
              0.4444444444444444,
              "#bd3786"
             ],
             [
              0.5555555555555556,
              "#d8576b"
             ],
             [
              0.6666666666666666,
              "#ed7953"
             ],
             [
              0.7777777777777778,
              "#fb9f3a"
             ],
             [
              0.8888888888888888,
              "#fdca26"
             ],
             [
              1,
              "#f0f921"
             ]
            ],
            "type": "surface"
           }
          ],
          "table": [
           {
            "cells": {
             "fill": {
              "color": "#EBF0F8"
             },
             "line": {
              "color": "white"
             }
            },
            "header": {
             "fill": {
              "color": "#C8D4E3"
             },
             "line": {
              "color": "white"
             }
            },
            "type": "table"
           }
          ]
         },
         "layout": {
          "annotationdefaults": {
           "arrowcolor": "#2a3f5f",
           "arrowhead": 0,
           "arrowwidth": 1
          },
          "colorscale": {
           "diverging": [
            [
             0,
             "#8e0152"
            ],
            [
             0.1,
             "#c51b7d"
            ],
            [
             0.2,
             "#de77ae"
            ],
            [
             0.3,
             "#f1b6da"
            ],
            [
             0.4,
             "#fde0ef"
            ],
            [
             0.5,
             "#f7f7f7"
            ],
            [
             0.6,
             "#e6f5d0"
            ],
            [
             0.7,
             "#b8e186"
            ],
            [
             0.8,
             "#7fbc41"
            ],
            [
             0.9,
             "#4d9221"
            ],
            [
             1,
             "#276419"
            ]
           ],
           "sequential": [
            [
             0,
             "#0d0887"
            ],
            [
             0.1111111111111111,
             "#46039f"
            ],
            [
             0.2222222222222222,
             "#7201a8"
            ],
            [
             0.3333333333333333,
             "#9c179e"
            ],
            [
             0.4444444444444444,
             "#bd3786"
            ],
            [
             0.5555555555555556,
             "#d8576b"
            ],
            [
             0.6666666666666666,
             "#ed7953"
            ],
            [
             0.7777777777777778,
             "#fb9f3a"
            ],
            [
             0.8888888888888888,
             "#fdca26"
            ],
            [
             1,
             "#f0f921"
            ]
           ],
           "sequentialminus": [
            [
             0,
             "#0d0887"
            ],
            [
             0.1111111111111111,
             "#46039f"
            ],
            [
             0.2222222222222222,
             "#7201a8"
            ],
            [
             0.3333333333333333,
             "#9c179e"
            ],
            [
             0.4444444444444444,
             "#bd3786"
            ],
            [
             0.5555555555555556,
             "#d8576b"
            ],
            [
             0.6666666666666666,
             "#ed7953"
            ],
            [
             0.7777777777777778,
             "#fb9f3a"
            ],
            [
             0.8888888888888888,
             "#fdca26"
            ],
            [
             1,
             "#f0f921"
            ]
           ]
          },
          "colorway": [
           "#636efa",
           "#EF553B",
           "#00cc96",
           "#ab63fa",
           "#FFA15A",
           "#19d3f3",
           "#FF6692",
           "#B6E880",
           "#FF97FF",
           "#FECB52"
          ],
          "font": {
           "color": "#2a3f5f"
          },
          "geo": {
           "bgcolor": "white",
           "lakecolor": "white",
           "landcolor": "#E5ECF6",
           "showlakes": true,
           "showland": true,
           "subunitcolor": "white"
          },
          "hoverlabel": {
           "align": "left"
          },
          "hovermode": "closest",
          "mapbox": {
           "style": "light"
          },
          "paper_bgcolor": "white",
          "plot_bgcolor": "#E5ECF6",
          "polar": {
           "angularaxis": {
            "gridcolor": "white",
            "linecolor": "white",
            "ticks": ""
           },
           "bgcolor": "#E5ECF6",
           "radialaxis": {
            "gridcolor": "white",
            "linecolor": "white",
            "ticks": ""
           }
          },
          "scene": {
           "xaxis": {
            "backgroundcolor": "#E5ECF6",
            "gridcolor": "white",
            "gridwidth": 2,
            "linecolor": "white",
            "showbackground": true,
            "ticks": "",
            "zerolinecolor": "white"
           },
           "yaxis": {
            "backgroundcolor": "#E5ECF6",
            "gridcolor": "white",
            "gridwidth": 2,
            "linecolor": "white",
            "showbackground": true,
            "ticks": "",
            "zerolinecolor": "white"
           },
           "zaxis": {
            "backgroundcolor": "#E5ECF6",
            "gridcolor": "white",
            "gridwidth": 2,
            "linecolor": "white",
            "showbackground": true,
            "ticks": "",
            "zerolinecolor": "white"
           }
          },
          "shapedefaults": {
           "line": {
            "color": "#2a3f5f"
           }
          },
          "ternary": {
           "aaxis": {
            "gridcolor": "white",
            "linecolor": "white",
            "ticks": ""
           },
           "baxis": {
            "gridcolor": "white",
            "linecolor": "white",
            "ticks": ""
           },
           "bgcolor": "#E5ECF6",
           "caxis": {
            "gridcolor": "white",
            "linecolor": "white",
            "ticks": ""
           }
          },
          "title": {
           "x": 0.05
          },
          "xaxis": {
           "automargin": true,
           "gridcolor": "white",
           "linecolor": "white",
           "ticks": "",
           "zerolinecolor": "white",
           "zerolinewidth": 2
          },
          "yaxis": {
           "automargin": true,
           "gridcolor": "white",
           "linecolor": "white",
           "ticks": "",
           "zerolinecolor": "white",
           "zerolinewidth": 2
          }
         }
        },
        "title": {
         "text": "S22 Dataset Statistics"
        },
        "yaxis": {
         "title": {
          "text": "MUE [kcal / mol]"
         }
        }
       }
      },
      "text/html": [
       "<div>\n",
       "        \n",
       "        \n",
       "            <div id=\"a7466dba-f5a5-4404-b3e9-c5dfb2ed2ffb\" class=\"plotly-graph-div\" style=\"height:525px; width:100%;\"></div>\n",
       "            <script type=\"text/javascript\">\n",
       "                require([\"plotly\"], function(Plotly) {\n",
       "                    window.PLOTLYENV=window.PLOTLYENV || {};\n",
       "                    \n",
       "                if (document.getElementById(\"a7466dba-f5a5-4404-b3e9-c5dfb2ed2ffb\")) {\n",
       "                    Plotly.newPlot(\n",
       "                        'a7466dba-f5a5-4404-b3e9-c5dfb2ed2ffb',\n",
       "                        [{\"name\": \"No -D3\", \"type\": \"bar\", \"x\": [\"B3LYP/def2-tzvp\"], \"y\": [3.428]}, {\"name\": \"D3\", \"type\": \"bar\", \"x\": [\"B3LYP/def2-tzvp\"], \"y\": [0.618]}, {\"name\": \"D3M\", \"type\": \"bar\", \"x\": [\"B3LYP/def2-tzvp\"], \"y\": [0.768]}],\n",
       "                        {\"template\": {\"data\": {\"bar\": [{\"error_x\": {\"color\": \"#2a3f5f\"}, \"error_y\": {\"color\": \"#2a3f5f\"}, \"marker\": {\"line\": {\"color\": \"#E5ECF6\", \"width\": 0.5}}, \"type\": \"bar\"}], \"barpolar\": [{\"marker\": {\"line\": {\"color\": \"#E5ECF6\", \"width\": 0.5}}, \"type\": \"barpolar\"}], \"carpet\": [{\"aaxis\": {\"endlinecolor\": \"#2a3f5f\", \"gridcolor\": \"white\", \"linecolor\": \"white\", \"minorgridcolor\": \"white\", \"startlinecolor\": \"#2a3f5f\"}, \"baxis\": {\"endlinecolor\": \"#2a3f5f\", \"gridcolor\": \"white\", \"linecolor\": \"white\", \"minorgridcolor\": \"white\", \"startlinecolor\": \"#2a3f5f\"}, \"type\": \"carpet\"}], \"choropleth\": [{\"colorbar\": {\"outlinewidth\": 0, \"ticks\": \"\"}, \"type\": \"choropleth\"}], \"contour\": [{\"colorbar\": {\"outlinewidth\": 0, \"ticks\": \"\"}, \"colorscale\": [[0.0, \"#0d0887\"], [0.1111111111111111, \"#46039f\"], [0.2222222222222222, \"#7201a8\"], [0.3333333333333333, \"#9c179e\"], [0.4444444444444444, \"#bd3786\"], [0.5555555555555556, \"#d8576b\"], [0.6666666666666666, \"#ed7953\"], [0.7777777777777778, \"#fb9f3a\"], [0.8888888888888888, \"#fdca26\"], [1.0, \"#f0f921\"]], \"type\": \"contour\"}], \"contourcarpet\": [{\"colorbar\": {\"outlinewidth\": 0, \"ticks\": \"\"}, \"type\": \"contourcarpet\"}], \"heatmap\": [{\"colorbar\": {\"outlinewidth\": 0, \"ticks\": \"\"}, \"colorscale\": [[0.0, \"#0d0887\"], [0.1111111111111111, \"#46039f\"], [0.2222222222222222, \"#7201a8\"], [0.3333333333333333, \"#9c179e\"], [0.4444444444444444, \"#bd3786\"], [0.5555555555555556, \"#d8576b\"], [0.6666666666666666, \"#ed7953\"], [0.7777777777777778, \"#fb9f3a\"], [0.8888888888888888, \"#fdca26\"], [1.0, \"#f0f921\"]], \"type\": \"heatmap\"}], \"heatmapgl\": [{\"colorbar\": {\"outlinewidth\": 0, \"ticks\": \"\"}, \"colorscale\": [[0.0, \"#0d0887\"], [0.1111111111111111, \"#46039f\"], [0.2222222222222222, \"#7201a8\"], [0.3333333333333333, \"#9c179e\"], [0.4444444444444444, \"#bd3786\"], [0.5555555555555556, \"#d8576b\"], [0.6666666666666666, \"#ed7953\"], [0.7777777777777778, \"#fb9f3a\"], [0.8888888888888888, \"#fdca26\"], [1.0, \"#f0f921\"]], \"type\": \"heatmapgl\"}], \"histogram\": [{\"marker\": {\"colorbar\": {\"outlinewidth\": 0, \"ticks\": \"\"}}, \"type\": \"histogram\"}], \"histogram2d\": [{\"colorbar\": {\"outlinewidth\": 0, \"ticks\": \"\"}, \"colorscale\": [[0.0, \"#0d0887\"], [0.1111111111111111, \"#46039f\"], [0.2222222222222222, \"#7201a8\"], [0.3333333333333333, \"#9c179e\"], [0.4444444444444444, \"#bd3786\"], [0.5555555555555556, \"#d8576b\"], [0.6666666666666666, \"#ed7953\"], [0.7777777777777778, \"#fb9f3a\"], [0.8888888888888888, \"#fdca26\"], [1.0, \"#f0f921\"]], \"type\": \"histogram2d\"}], \"histogram2dcontour\": [{\"colorbar\": {\"outlinewidth\": 0, \"ticks\": \"\"}, \"colorscale\": [[0.0, \"#0d0887\"], [0.1111111111111111, \"#46039f\"], [0.2222222222222222, \"#7201a8\"], [0.3333333333333333, \"#9c179e\"], [0.4444444444444444, \"#bd3786\"], [0.5555555555555556, \"#d8576b\"], [0.6666666666666666, \"#ed7953\"], [0.7777777777777778, \"#fb9f3a\"], [0.8888888888888888, \"#fdca26\"], [1.0, \"#f0f921\"]], \"type\": \"histogram2dcontour\"}], \"mesh3d\": [{\"colorbar\": {\"outlinewidth\": 0, \"ticks\": \"\"}, \"type\": \"mesh3d\"}], \"parcoords\": [{\"line\": {\"colorbar\": {\"outlinewidth\": 0, \"ticks\": \"\"}}, \"type\": \"parcoords\"}], \"scatter\": [{\"marker\": {\"colorbar\": {\"outlinewidth\": 0, \"ticks\": \"\"}}, \"type\": \"scatter\"}], \"scatter3d\": [{\"line\": {\"colorbar\": {\"outlinewidth\": 0, \"ticks\": \"\"}}, \"marker\": {\"colorbar\": {\"outlinewidth\": 0, \"ticks\": \"\"}}, \"type\": \"scatter3d\"}], \"scattercarpet\": [{\"marker\": {\"colorbar\": {\"outlinewidth\": 0, \"ticks\": \"\"}}, \"type\": \"scattercarpet\"}], \"scattergeo\": [{\"marker\": {\"colorbar\": {\"outlinewidth\": 0, \"ticks\": \"\"}}, \"type\": \"scattergeo\"}], \"scattergl\": [{\"marker\": {\"colorbar\": {\"outlinewidth\": 0, \"ticks\": \"\"}}, \"type\": \"scattergl\"}], \"scattermapbox\": [{\"marker\": {\"colorbar\": {\"outlinewidth\": 0, \"ticks\": \"\"}}, \"type\": \"scattermapbox\"}], \"scatterpolar\": [{\"marker\": {\"colorbar\": {\"outlinewidth\": 0, \"ticks\": \"\"}}, \"type\": \"scatterpolar\"}], \"scatterpolargl\": [{\"marker\": {\"colorbar\": {\"outlinewidth\": 0, \"ticks\": \"\"}}, \"type\": \"scatterpolargl\"}], \"scatterternary\": [{\"marker\": {\"colorbar\": {\"outlinewidth\": 0, \"ticks\": \"\"}}, \"type\": \"scatterternary\"}], \"surface\": [{\"colorbar\": {\"outlinewidth\": 0, \"ticks\": \"\"}, \"colorscale\": [[0.0, \"#0d0887\"], [0.1111111111111111, \"#46039f\"], [0.2222222222222222, \"#7201a8\"], [0.3333333333333333, \"#9c179e\"], [0.4444444444444444, \"#bd3786\"], [0.5555555555555556, \"#d8576b\"], [0.6666666666666666, \"#ed7953\"], [0.7777777777777778, \"#fb9f3a\"], [0.8888888888888888, \"#fdca26\"], [1.0, \"#f0f921\"]], \"type\": \"surface\"}], \"table\": [{\"cells\": {\"fill\": {\"color\": \"#EBF0F8\"}, \"line\": {\"color\": \"white\"}}, \"header\": {\"fill\": {\"color\": \"#C8D4E3\"}, \"line\": {\"color\": \"white\"}}, \"type\": \"table\"}]}, \"layout\": {\"annotationdefaults\": {\"arrowcolor\": \"#2a3f5f\", \"arrowhead\": 0, \"arrowwidth\": 1}, \"colorscale\": {\"diverging\": [[0, \"#8e0152\"], [0.1, \"#c51b7d\"], [0.2, \"#de77ae\"], [0.3, \"#f1b6da\"], [0.4, \"#fde0ef\"], [0.5, \"#f7f7f7\"], [0.6, \"#e6f5d0\"], [0.7, \"#b8e186\"], [0.8, \"#7fbc41\"], [0.9, \"#4d9221\"], [1, \"#276419\"]], \"sequential\": [[0.0, \"#0d0887\"], [0.1111111111111111, \"#46039f\"], [0.2222222222222222, \"#7201a8\"], [0.3333333333333333, \"#9c179e\"], [0.4444444444444444, \"#bd3786\"], [0.5555555555555556, \"#d8576b\"], [0.6666666666666666, \"#ed7953\"], [0.7777777777777778, \"#fb9f3a\"], [0.8888888888888888, \"#fdca26\"], [1.0, \"#f0f921\"]], \"sequentialminus\": [[0.0, \"#0d0887\"], [0.1111111111111111, \"#46039f\"], [0.2222222222222222, \"#7201a8\"], [0.3333333333333333, \"#9c179e\"], [0.4444444444444444, \"#bd3786\"], [0.5555555555555556, \"#d8576b\"], [0.6666666666666666, \"#ed7953\"], [0.7777777777777778, \"#fb9f3a\"], [0.8888888888888888, \"#fdca26\"], [1.0, \"#f0f921\"]]}, \"colorway\": [\"#636efa\", \"#EF553B\", \"#00cc96\", \"#ab63fa\", \"#FFA15A\", \"#19d3f3\", \"#FF6692\", \"#B6E880\", \"#FF97FF\", \"#FECB52\"], \"font\": {\"color\": \"#2a3f5f\"}, \"geo\": {\"bgcolor\": \"white\", \"lakecolor\": \"white\", \"landcolor\": \"#E5ECF6\", \"showlakes\": true, \"showland\": true, \"subunitcolor\": \"white\"}, \"hoverlabel\": {\"align\": \"left\"}, \"hovermode\": \"closest\", \"mapbox\": {\"style\": \"light\"}, \"paper_bgcolor\": \"white\", \"plot_bgcolor\": \"#E5ECF6\", \"polar\": {\"angularaxis\": {\"gridcolor\": \"white\", \"linecolor\": \"white\", \"ticks\": \"\"}, \"bgcolor\": \"#E5ECF6\", \"radialaxis\": {\"gridcolor\": \"white\", \"linecolor\": \"white\", \"ticks\": \"\"}}, \"scene\": {\"xaxis\": {\"backgroundcolor\": \"#E5ECF6\", \"gridcolor\": \"white\", \"gridwidth\": 2, \"linecolor\": \"white\", \"showbackground\": true, \"ticks\": \"\", \"zerolinecolor\": \"white\"}, \"yaxis\": {\"backgroundcolor\": \"#E5ECF6\", \"gridcolor\": \"white\", \"gridwidth\": 2, \"linecolor\": \"white\", \"showbackground\": true, \"ticks\": \"\", \"zerolinecolor\": \"white\"}, \"zaxis\": {\"backgroundcolor\": \"#E5ECF6\", \"gridcolor\": \"white\", \"gridwidth\": 2, \"linecolor\": \"white\", \"showbackground\": true, \"ticks\": \"\", \"zerolinecolor\": \"white\"}}, \"shapedefaults\": {\"line\": {\"color\": \"#2a3f5f\"}}, \"ternary\": {\"aaxis\": {\"gridcolor\": \"white\", \"linecolor\": \"white\", \"ticks\": \"\"}, \"baxis\": {\"gridcolor\": \"white\", \"linecolor\": \"white\", \"ticks\": \"\"}, \"bgcolor\": \"#E5ECF6\", \"caxis\": {\"gridcolor\": \"white\", \"linecolor\": \"white\", \"ticks\": \"\"}}, \"title\": {\"x\": 0.05}, \"xaxis\": {\"automargin\": true, \"gridcolor\": \"white\", \"linecolor\": \"white\", \"ticks\": \"\", \"zerolinecolor\": \"white\", \"zerolinewidth\": 2}, \"yaxis\": {\"automargin\": true, \"gridcolor\": \"white\", \"linecolor\": \"white\", \"ticks\": \"\", \"zerolinecolor\": \"white\", \"zerolinewidth\": 2}}}, \"title\": {\"text\": \"S22 Dataset Statistics\"}, \"yaxis\": {\"title\": {\"text\": \"MUE [kcal / mol]\"}}},\n",
       "                        {\"responsive\": true}\n",
       "                    ).then(function(){\n",
       "                            \n",
       "var gd = document.getElementById('a7466dba-f5a5-4404-b3e9-c5dfb2ed2ffb');\n",
       "var x = new MutationObserver(function (mutations, observer) {{\n",
       "        var display = window.getComputedStyle(gd).display;\n",
       "        if (!display || display === 'none') {{\n",
       "            console.log([gd, 'removed!']);\n",
       "            Plotly.purge(gd);\n",
       "            observer.disconnect();\n",
       "        }}\n",
       "}});\n",
       "\n",
       "// Listen for the removal of the full notebook cells\n",
       "var notebookContainer = gd.closest('#notebook-container');\n",
       "if (notebookContainer) {{\n",
       "    x.observe(notebookContainer, {childList: true});\n",
       "}}\n",
       "\n",
       "// Listen for the clearing of the current output cell\n",
       "var outputEl = gd.closest('.output');\n",
       "if (outputEl) {{\n",
       "    x.observe(outputEl, {childList: true});\n",
       "}}\n",
       "\n",
       "                        })\n",
       "                };\n",
       "                });\n",
       "            </script>\n",
       "        </div>"
      ]
     },
     "metadata": {},
     "output_type": "display_data"
    }
   ],
   "source": [
    "ds.visualize(method=[\"B3LYP\", \"B3LYP-D3\", \"B3LYP-D3M\"], basis=[\"def2-tzvp\"], groupby=\"D3\")"
   ]
  },
  {
   "cell_type": "code",
   "execution_count": 10,
   "metadata": {},
   "outputs": [
    {
     "data": {
      "text/html": [
       "        <script type=\"text/javascript\">\n",
       "        window.PlotlyConfig = {MathJaxConfig: 'local'};\n",
       "        if (window.MathJax) {MathJax.Hub.Config({SVG: {font: \"STIX-Web\"}});}\n",
       "        if (typeof require !== 'undefined') {\n",
       "        require.undef(\"plotly\");\n",
       "        requirejs.config({\n",
       "            paths: {\n",
       "                'plotly': ['https://cdn.plot.ly/plotly-latest.min']\n",
       "            }\n",
       "        });\n",
       "        require(['plotly'], function(Plotly) {\n",
       "            window._Plotly = Plotly;\n",
       "        });\n",
       "        }\n",
       "        </script>\n",
       "        "
      ]
     },
     "metadata": {},
     "output_type": "display_data"
    },
    {
     "data": {
      "application/vnd.plotly.v1+json": {
       "config": {
        "linkText": "Export to plot.ly",
        "plotlyServerURL": "https://plot.ly",
        "showLink": false
       },
       "data": [
        {
         "box": {
          "visible": true
         },
         "name": "No -D3",
         "side": "positive",
         "type": "violin",
         "x": [
          "B3LYP/def2-tzvp",
          "B2PLYP/def2-tzvp",
          "B3LYP/def2-tzvp",
          "B2PLYP/def2-tzvp",
          "B3LYP/def2-tzvp",
          "B2PLYP/def2-tzvp",
          "B3LYP/def2-tzvp",
          "B2PLYP/def2-tzvp",
          "B3LYP/def2-tzvp",
          "B2PLYP/def2-tzvp",
          "B3LYP/def2-tzvp",
          "B2PLYP/def2-tzvp",
          "B3LYP/def2-tzvp",
          "B2PLYP/def2-tzvp",
          "B3LYP/def2-tzvp",
          "B2PLYP/def2-tzvp",
          "B3LYP/def2-tzvp",
          "B2PLYP/def2-tzvp",
          "B3LYP/def2-tzvp",
          "B2PLYP/def2-tzvp",
          "B3LYP/def2-tzvp",
          "B2PLYP/def2-tzvp",
          "B3LYP/def2-tzvp",
          "B2PLYP/def2-tzvp",
          "B3LYP/def2-tzvp",
          "B2PLYP/def2-tzvp",
          "B3LYP/def2-tzvp",
          "B2PLYP/def2-tzvp",
          "B3LYP/def2-tzvp",
          "B2PLYP/def2-tzvp",
          "B3LYP/def2-tzvp",
          "B2PLYP/def2-tzvp",
          "B3LYP/def2-tzvp",
          "B2PLYP/def2-tzvp",
          "B3LYP/def2-tzvp",
          "B2PLYP/def2-tzvp",
          "B3LYP/def2-tzvp",
          "B2PLYP/def2-tzvp",
          "B3LYP/def2-tzvp",
          "B2PLYP/def2-tzvp",
          "B3LYP/def2-tzvp",
          "B2PLYP/def2-tzvp",
          "B3LYP/def2-tzvp",
          "B2PLYP/def2-tzvp"
         ],
         "y": [
          2.612,
          1.338,
          12.174,
          5.71,
          3.333,
          1.991,
          0.208,
          0.113,
          6.092,
          2.983,
          3.463,
          1.742,
          1.765,
          0.849,
          2.338,
          1.151,
          2.127,
          1.176,
          1.103,
          0.271,
          1.921,
          1.145,
          0.702,
          0.373,
          1.561,
          1.073,
          0.885,
          0.623,
          8.686,
          4.019,
          4.559,
          2.156,
          0.878,
          0.562,
          3.411,
          1.561,
          6.451,
          3.123,
          2.411,
          1.582,
          8.181,
          4.046,
          0.545,
          0.692
         ]
        },
        {
         "box": {
          "visible": true
         },
         "name": "D3",
         "side": "negative",
         "type": "violin",
         "x": [
          "B2PLYP/def2-tzvp",
          "B3LYP/def2-tzvp",
          "B2PLYP/def2-tzvp",
          "B3LYP/def2-tzvp",
          "B2PLYP/def2-tzvp",
          "B3LYP/def2-tzvp",
          "B2PLYP/def2-tzvp",
          "B3LYP/def2-tzvp",
          "B2PLYP/def2-tzvp",
          "B3LYP/def2-tzvp",
          "B2PLYP/def2-tzvp",
          "B3LYP/def2-tzvp",
          "B2PLYP/def2-tzvp",
          "B3LYP/def2-tzvp",
          "B2PLYP/def2-tzvp",
          "B3LYP/def2-tzvp",
          "B2PLYP/def2-tzvp",
          "B3LYP/def2-tzvp",
          "B2PLYP/def2-tzvp",
          "B3LYP/def2-tzvp",
          "B2PLYP/def2-tzvp",
          "B3LYP/def2-tzvp",
          "B2PLYP/def2-tzvp",
          "B3LYP/def2-tzvp",
          "B2PLYP/def2-tzvp",
          "B3LYP/def2-tzvp",
          "B2PLYP/def2-tzvp",
          "B3LYP/def2-tzvp",
          "B2PLYP/def2-tzvp",
          "B3LYP/def2-tzvp",
          "B2PLYP/def2-tzvp",
          "B3LYP/def2-tzvp",
          "B2PLYP/def2-tzvp",
          "B3LYP/def2-tzvp",
          "B2PLYP/def2-tzvp",
          "B3LYP/def2-tzvp",
          "B2PLYP/def2-tzvp",
          "B3LYP/def2-tzvp",
          "B2PLYP/def2-tzvp",
          "B3LYP/def2-tzvp",
          "B2PLYP/def2-tzvp",
          "B3LYP/def2-tzvp",
          "B2PLYP/def2-tzvp",
          "B3LYP/def2-tzvp"
         ],
         "y": [
          0.707,
          1.294,
          0.664,
          0.301,
          0.224,
          0.897,
          0.59,
          0.708,
          0.056,
          0.056,
          0.207,
          0.233,
          0.36,
          0.591,
          0.343,
          0.406,
          0.013,
          0.119,
          0.897,
          1.222,
          0.019,
          0.199,
          0.17,
          0.357,
          0.289,
          1.012,
          0.61,
          1.441,
          0.326,
          0.138,
          0.397,
          0.368,
          0.147,
          0.043,
          0.687,
          0.841,
          0.047,
          0.183,
          0.189,
          0.916,
          0.578,
          0.981,
          1.083,
          1.284
         ]
        }
       ],
       "layout": {
        "template": {
         "data": {
          "bar": [
           {
            "error_x": {
             "color": "#2a3f5f"
            },
            "error_y": {
             "color": "#2a3f5f"
            },
            "marker": {
             "line": {
              "color": "#E5ECF6",
              "width": 0.5
             }
            },
            "type": "bar"
           }
          ],
          "barpolar": [
           {
            "marker": {
             "line": {
              "color": "#E5ECF6",
              "width": 0.5
             }
            },
            "type": "barpolar"
           }
          ],
          "carpet": [
           {
            "aaxis": {
             "endlinecolor": "#2a3f5f",
             "gridcolor": "white",
             "linecolor": "white",
             "minorgridcolor": "white",
             "startlinecolor": "#2a3f5f"
            },
            "baxis": {
             "endlinecolor": "#2a3f5f",
             "gridcolor": "white",
             "linecolor": "white",
             "minorgridcolor": "white",
             "startlinecolor": "#2a3f5f"
            },
            "type": "carpet"
           }
          ],
          "choropleth": [
           {
            "colorbar": {
             "outlinewidth": 0,
             "ticks": ""
            },
            "type": "choropleth"
           }
          ],
          "contour": [
           {
            "colorbar": {
             "outlinewidth": 0,
             "ticks": ""
            },
            "colorscale": [
             [
              0,
              "#0d0887"
             ],
             [
              0.1111111111111111,
              "#46039f"
             ],
             [
              0.2222222222222222,
              "#7201a8"
             ],
             [
              0.3333333333333333,
              "#9c179e"
             ],
             [
              0.4444444444444444,
              "#bd3786"
             ],
             [
              0.5555555555555556,
              "#d8576b"
             ],
             [
              0.6666666666666666,
              "#ed7953"
             ],
             [
              0.7777777777777778,
              "#fb9f3a"
             ],
             [
              0.8888888888888888,
              "#fdca26"
             ],
             [
              1,
              "#f0f921"
             ]
            ],
            "type": "contour"
           }
          ],
          "contourcarpet": [
           {
            "colorbar": {
             "outlinewidth": 0,
             "ticks": ""
            },
            "type": "contourcarpet"
           }
          ],
          "heatmap": [
           {
            "colorbar": {
             "outlinewidth": 0,
             "ticks": ""
            },
            "colorscale": [
             [
              0,
              "#0d0887"
             ],
             [
              0.1111111111111111,
              "#46039f"
             ],
             [
              0.2222222222222222,
              "#7201a8"
             ],
             [
              0.3333333333333333,
              "#9c179e"
             ],
             [
              0.4444444444444444,
              "#bd3786"
             ],
             [
              0.5555555555555556,
              "#d8576b"
             ],
             [
              0.6666666666666666,
              "#ed7953"
             ],
             [
              0.7777777777777778,
              "#fb9f3a"
             ],
             [
              0.8888888888888888,
              "#fdca26"
             ],
             [
              1,
              "#f0f921"
             ]
            ],
            "type": "heatmap"
           }
          ],
          "heatmapgl": [
           {
            "colorbar": {
             "outlinewidth": 0,
             "ticks": ""
            },
            "colorscale": [
             [
              0,
              "#0d0887"
             ],
             [
              0.1111111111111111,
              "#46039f"
             ],
             [
              0.2222222222222222,
              "#7201a8"
             ],
             [
              0.3333333333333333,
              "#9c179e"
             ],
             [
              0.4444444444444444,
              "#bd3786"
             ],
             [
              0.5555555555555556,
              "#d8576b"
             ],
             [
              0.6666666666666666,
              "#ed7953"
             ],
             [
              0.7777777777777778,
              "#fb9f3a"
             ],
             [
              0.8888888888888888,
              "#fdca26"
             ],
             [
              1,
              "#f0f921"
             ]
            ],
            "type": "heatmapgl"
           }
          ],
          "histogram": [
           {
            "marker": {
             "colorbar": {
              "outlinewidth": 0,
              "ticks": ""
             }
            },
            "type": "histogram"
           }
          ],
          "histogram2d": [
           {
            "colorbar": {
             "outlinewidth": 0,
             "ticks": ""
            },
            "colorscale": [
             [
              0,
              "#0d0887"
             ],
             [
              0.1111111111111111,
              "#46039f"
             ],
             [
              0.2222222222222222,
              "#7201a8"
             ],
             [
              0.3333333333333333,
              "#9c179e"
             ],
             [
              0.4444444444444444,
              "#bd3786"
             ],
             [
              0.5555555555555556,
              "#d8576b"
             ],
             [
              0.6666666666666666,
              "#ed7953"
             ],
             [
              0.7777777777777778,
              "#fb9f3a"
             ],
             [
              0.8888888888888888,
              "#fdca26"
             ],
             [
              1,
              "#f0f921"
             ]
            ],
            "type": "histogram2d"
           }
          ],
          "histogram2dcontour": [
           {
            "colorbar": {
             "outlinewidth": 0,
             "ticks": ""
            },
            "colorscale": [
             [
              0,
              "#0d0887"
             ],
             [
              0.1111111111111111,
              "#46039f"
             ],
             [
              0.2222222222222222,
              "#7201a8"
             ],
             [
              0.3333333333333333,
              "#9c179e"
             ],
             [
              0.4444444444444444,
              "#bd3786"
             ],
             [
              0.5555555555555556,
              "#d8576b"
             ],
             [
              0.6666666666666666,
              "#ed7953"
             ],
             [
              0.7777777777777778,
              "#fb9f3a"
             ],
             [
              0.8888888888888888,
              "#fdca26"
             ],
             [
              1,
              "#f0f921"
             ]
            ],
            "type": "histogram2dcontour"
           }
          ],
          "mesh3d": [
           {
            "colorbar": {
             "outlinewidth": 0,
             "ticks": ""
            },
            "type": "mesh3d"
           }
          ],
          "parcoords": [
           {
            "line": {
             "colorbar": {
              "outlinewidth": 0,
              "ticks": ""
             }
            },
            "type": "parcoords"
           }
          ],
          "scatter": [
           {
            "marker": {
             "colorbar": {
              "outlinewidth": 0,
              "ticks": ""
             }
            },
            "type": "scatter"
           }
          ],
          "scatter3d": [
           {
            "line": {
             "colorbar": {
              "outlinewidth": 0,
              "ticks": ""
             }
            },
            "marker": {
             "colorbar": {
              "outlinewidth": 0,
              "ticks": ""
             }
            },
            "type": "scatter3d"
           }
          ],
          "scattercarpet": [
           {
            "marker": {
             "colorbar": {
              "outlinewidth": 0,
              "ticks": ""
             }
            },
            "type": "scattercarpet"
           }
          ],
          "scattergeo": [
           {
            "marker": {
             "colorbar": {
              "outlinewidth": 0,
              "ticks": ""
             }
            },
            "type": "scattergeo"
           }
          ],
          "scattergl": [
           {
            "marker": {
             "colorbar": {
              "outlinewidth": 0,
              "ticks": ""
             }
            },
            "type": "scattergl"
           }
          ],
          "scattermapbox": [
           {
            "marker": {
             "colorbar": {
              "outlinewidth": 0,
              "ticks": ""
             }
            },
            "type": "scattermapbox"
           }
          ],
          "scatterpolar": [
           {
            "marker": {
             "colorbar": {
              "outlinewidth": 0,
              "ticks": ""
             }
            },
            "type": "scatterpolar"
           }
          ],
          "scatterpolargl": [
           {
            "marker": {
             "colorbar": {
              "outlinewidth": 0,
              "ticks": ""
             }
            },
            "type": "scatterpolargl"
           }
          ],
          "scatterternary": [
           {
            "marker": {
             "colorbar": {
              "outlinewidth": 0,
              "ticks": ""
             }
            },
            "type": "scatterternary"
           }
          ],
          "surface": [
           {
            "colorbar": {
             "outlinewidth": 0,
             "ticks": ""
            },
            "colorscale": [
             [
              0,
              "#0d0887"
             ],
             [
              0.1111111111111111,
              "#46039f"
             ],
             [
              0.2222222222222222,
              "#7201a8"
             ],
             [
              0.3333333333333333,
              "#9c179e"
             ],
             [
              0.4444444444444444,
              "#bd3786"
             ],
             [
              0.5555555555555556,
              "#d8576b"
             ],
             [
              0.6666666666666666,
              "#ed7953"
             ],
             [
              0.7777777777777778,
              "#fb9f3a"
             ],
             [
              0.8888888888888888,
              "#fdca26"
             ],
             [
              1,
              "#f0f921"
             ]
            ],
            "type": "surface"
           }
          ],
          "table": [
           {
            "cells": {
             "fill": {
              "color": "#EBF0F8"
             },
             "line": {
              "color": "white"
             }
            },
            "header": {
             "fill": {
              "color": "#C8D4E3"
             },
             "line": {
              "color": "white"
             }
            },
            "type": "table"
           }
          ]
         },
         "layout": {
          "annotationdefaults": {
           "arrowcolor": "#2a3f5f",
           "arrowhead": 0,
           "arrowwidth": 1
          },
          "colorscale": {
           "diverging": [
            [
             0,
             "#8e0152"
            ],
            [
             0.1,
             "#c51b7d"
            ],
            [
             0.2,
             "#de77ae"
            ],
            [
             0.3,
             "#f1b6da"
            ],
            [
             0.4,
             "#fde0ef"
            ],
            [
             0.5,
             "#f7f7f7"
            ],
            [
             0.6,
             "#e6f5d0"
            ],
            [
             0.7,
             "#b8e186"
            ],
            [
             0.8,
             "#7fbc41"
            ],
            [
             0.9,
             "#4d9221"
            ],
            [
             1,
             "#276419"
            ]
           ],
           "sequential": [
            [
             0,
             "#0d0887"
            ],
            [
             0.1111111111111111,
             "#46039f"
            ],
            [
             0.2222222222222222,
             "#7201a8"
            ],
            [
             0.3333333333333333,
             "#9c179e"
            ],
            [
             0.4444444444444444,
             "#bd3786"
            ],
            [
             0.5555555555555556,
             "#d8576b"
            ],
            [
             0.6666666666666666,
             "#ed7953"
            ],
            [
             0.7777777777777778,
             "#fb9f3a"
            ],
            [
             0.8888888888888888,
             "#fdca26"
            ],
            [
             1,
             "#f0f921"
            ]
           ],
           "sequentialminus": [
            [
             0,
             "#0d0887"
            ],
            [
             0.1111111111111111,
             "#46039f"
            ],
            [
             0.2222222222222222,
             "#7201a8"
            ],
            [
             0.3333333333333333,
             "#9c179e"
            ],
            [
             0.4444444444444444,
             "#bd3786"
            ],
            [
             0.5555555555555556,
             "#d8576b"
            ],
            [
             0.6666666666666666,
             "#ed7953"
            ],
            [
             0.7777777777777778,
             "#fb9f3a"
            ],
            [
             0.8888888888888888,
             "#fdca26"
            ],
            [
             1,
             "#f0f921"
            ]
           ]
          },
          "colorway": [
           "#636efa",
           "#EF553B",
           "#00cc96",
           "#ab63fa",
           "#FFA15A",
           "#19d3f3",
           "#FF6692",
           "#B6E880",
           "#FF97FF",
           "#FECB52"
          ],
          "font": {
           "color": "#2a3f5f"
          },
          "geo": {
           "bgcolor": "white",
           "lakecolor": "white",
           "landcolor": "#E5ECF6",
           "showlakes": true,
           "showland": true,
           "subunitcolor": "white"
          },
          "hoverlabel": {
           "align": "left"
          },
          "hovermode": "closest",
          "mapbox": {
           "style": "light"
          },
          "paper_bgcolor": "white",
          "plot_bgcolor": "#E5ECF6",
          "polar": {
           "angularaxis": {
            "gridcolor": "white",
            "linecolor": "white",
            "ticks": ""
           },
           "bgcolor": "#E5ECF6",
           "radialaxis": {
            "gridcolor": "white",
            "linecolor": "white",
            "ticks": ""
           }
          },
          "scene": {
           "xaxis": {
            "backgroundcolor": "#E5ECF6",
            "gridcolor": "white",
            "gridwidth": 2,
            "linecolor": "white",
            "showbackground": true,
            "ticks": "",
            "zerolinecolor": "white"
           },
           "yaxis": {
            "backgroundcolor": "#E5ECF6",
            "gridcolor": "white",
            "gridwidth": 2,
            "linecolor": "white",
            "showbackground": true,
            "ticks": "",
            "zerolinecolor": "white"
           },
           "zaxis": {
            "backgroundcolor": "#E5ECF6",
            "gridcolor": "white",
            "gridwidth": 2,
            "linecolor": "white",
            "showbackground": true,
            "ticks": "",
            "zerolinecolor": "white"
           }
          },
          "shapedefaults": {
           "line": {
            "color": "#2a3f5f"
           }
          },
          "ternary": {
           "aaxis": {
            "gridcolor": "white",
            "linecolor": "white",
            "ticks": ""
           },
           "baxis": {
            "gridcolor": "white",
            "linecolor": "white",
            "ticks": ""
           },
           "bgcolor": "#E5ECF6",
           "caxis": {
            "gridcolor": "white",
            "linecolor": "white",
            "ticks": ""
           }
          },
          "title": {
           "x": 0.05
          },
          "xaxis": {
           "automargin": true,
           "gridcolor": "white",
           "linecolor": "white",
           "ticks": "",
           "zerolinecolor": "white",
           "zerolinewidth": 2
          },
          "yaxis": {
           "automargin": true,
           "gridcolor": "white",
           "linecolor": "white",
           "ticks": "",
           "zerolinecolor": "white",
           "zerolinewidth": 2
          }
         }
        },
        "title": {
         "text": "S22 Dataset Statistics"
        },
        "yaxis": {
         "title": {
          "text": "UE [kcal / mol]"
         }
        }
       }
      },
      "text/html": [
       "<div>\n",
       "        \n",
       "        \n",
       "            <div id=\"e3508778-465c-42fd-b786-b2cc2cc8e208\" class=\"plotly-graph-div\" style=\"height:525px; width:100%;\"></div>\n",
       "            <script type=\"text/javascript\">\n",
       "                require([\"plotly\"], function(Plotly) {\n",
       "                    window.PLOTLYENV=window.PLOTLYENV || {};\n",
       "                    \n",
       "                if (document.getElementById(\"e3508778-465c-42fd-b786-b2cc2cc8e208\")) {\n",
       "                    Plotly.newPlot(\n",
       "                        'e3508778-465c-42fd-b786-b2cc2cc8e208',\n",
       "                        [{\"box\": {\"visible\": true}, \"name\": \"No -D3\", \"side\": \"positive\", \"type\": \"violin\", \"x\": [\"B3LYP/def2-tzvp\", \"B2PLYP/def2-tzvp\", \"B3LYP/def2-tzvp\", \"B2PLYP/def2-tzvp\", \"B3LYP/def2-tzvp\", \"B2PLYP/def2-tzvp\", \"B3LYP/def2-tzvp\", \"B2PLYP/def2-tzvp\", \"B3LYP/def2-tzvp\", \"B2PLYP/def2-tzvp\", \"B3LYP/def2-tzvp\", \"B2PLYP/def2-tzvp\", \"B3LYP/def2-tzvp\", \"B2PLYP/def2-tzvp\", \"B3LYP/def2-tzvp\", \"B2PLYP/def2-tzvp\", \"B3LYP/def2-tzvp\", \"B2PLYP/def2-tzvp\", \"B3LYP/def2-tzvp\", \"B2PLYP/def2-tzvp\", \"B3LYP/def2-tzvp\", \"B2PLYP/def2-tzvp\", \"B3LYP/def2-tzvp\", \"B2PLYP/def2-tzvp\", \"B3LYP/def2-tzvp\", \"B2PLYP/def2-tzvp\", \"B3LYP/def2-tzvp\", \"B2PLYP/def2-tzvp\", \"B3LYP/def2-tzvp\", \"B2PLYP/def2-tzvp\", \"B3LYP/def2-tzvp\", \"B2PLYP/def2-tzvp\", \"B3LYP/def2-tzvp\", \"B2PLYP/def2-tzvp\", \"B3LYP/def2-tzvp\", \"B2PLYP/def2-tzvp\", \"B3LYP/def2-tzvp\", \"B2PLYP/def2-tzvp\", \"B3LYP/def2-tzvp\", \"B2PLYP/def2-tzvp\", \"B3LYP/def2-tzvp\", \"B2PLYP/def2-tzvp\", \"B3LYP/def2-tzvp\", \"B2PLYP/def2-tzvp\"], \"y\": [2.612, 1.338, 12.174, 5.71, 3.333, 1.991, 0.208, 0.113, 6.092, 2.983, 3.463, 1.742, 1.765, 0.849, 2.338, 1.151, 2.127, 1.176, 1.103, 0.271, 1.921, 1.145, 0.702, 0.373, 1.561, 1.073, 0.885, 0.623, 8.686, 4.019, 4.559, 2.156, 0.878, 0.562, 3.411, 1.561, 6.451, 3.123, 2.411, 1.582, 8.181, 4.046, 0.545, 0.692]}, {\"box\": {\"visible\": true}, \"name\": \"D3\", \"side\": \"negative\", \"type\": \"violin\", \"x\": [\"B2PLYP/def2-tzvp\", \"B3LYP/def2-tzvp\", \"B2PLYP/def2-tzvp\", \"B3LYP/def2-tzvp\", \"B2PLYP/def2-tzvp\", \"B3LYP/def2-tzvp\", \"B2PLYP/def2-tzvp\", \"B3LYP/def2-tzvp\", \"B2PLYP/def2-tzvp\", \"B3LYP/def2-tzvp\", \"B2PLYP/def2-tzvp\", \"B3LYP/def2-tzvp\", \"B2PLYP/def2-tzvp\", \"B3LYP/def2-tzvp\", \"B2PLYP/def2-tzvp\", \"B3LYP/def2-tzvp\", \"B2PLYP/def2-tzvp\", \"B3LYP/def2-tzvp\", \"B2PLYP/def2-tzvp\", \"B3LYP/def2-tzvp\", \"B2PLYP/def2-tzvp\", \"B3LYP/def2-tzvp\", \"B2PLYP/def2-tzvp\", \"B3LYP/def2-tzvp\", \"B2PLYP/def2-tzvp\", \"B3LYP/def2-tzvp\", \"B2PLYP/def2-tzvp\", \"B3LYP/def2-tzvp\", \"B2PLYP/def2-tzvp\", \"B3LYP/def2-tzvp\", \"B2PLYP/def2-tzvp\", \"B3LYP/def2-tzvp\", \"B2PLYP/def2-tzvp\", \"B3LYP/def2-tzvp\", \"B2PLYP/def2-tzvp\", \"B3LYP/def2-tzvp\", \"B2PLYP/def2-tzvp\", \"B3LYP/def2-tzvp\", \"B2PLYP/def2-tzvp\", \"B3LYP/def2-tzvp\", \"B2PLYP/def2-tzvp\", \"B3LYP/def2-tzvp\", \"B2PLYP/def2-tzvp\", \"B3LYP/def2-tzvp\"], \"y\": [0.707, 1.294, 0.664, 0.301, 0.224, 0.897, 0.59, 0.708, 0.056, 0.056, 0.207, 0.233, 0.36, 0.591, 0.343, 0.406, 0.013, 0.119, 0.897, 1.222, 0.019, 0.199, 0.17, 0.357, 0.289, 1.012, 0.61, 1.441, 0.326, 0.138, 0.397, 0.368, 0.147, 0.043, 0.687, 0.841, 0.047, 0.183, 0.189, 0.916, 0.578, 0.981, 1.083, 1.284]}],\n",
       "                        {\"template\": {\"data\": {\"bar\": [{\"error_x\": {\"color\": \"#2a3f5f\"}, \"error_y\": {\"color\": \"#2a3f5f\"}, \"marker\": {\"line\": {\"color\": \"#E5ECF6\", \"width\": 0.5}}, \"type\": \"bar\"}], \"barpolar\": [{\"marker\": {\"line\": {\"color\": \"#E5ECF6\", \"width\": 0.5}}, \"type\": \"barpolar\"}], \"carpet\": [{\"aaxis\": {\"endlinecolor\": \"#2a3f5f\", \"gridcolor\": \"white\", \"linecolor\": \"white\", \"minorgridcolor\": \"white\", \"startlinecolor\": \"#2a3f5f\"}, \"baxis\": {\"endlinecolor\": \"#2a3f5f\", \"gridcolor\": \"white\", \"linecolor\": \"white\", \"minorgridcolor\": \"white\", \"startlinecolor\": \"#2a3f5f\"}, \"type\": \"carpet\"}], \"choropleth\": [{\"colorbar\": {\"outlinewidth\": 0, \"ticks\": \"\"}, \"type\": \"choropleth\"}], \"contour\": [{\"colorbar\": {\"outlinewidth\": 0, \"ticks\": \"\"}, \"colorscale\": [[0.0, \"#0d0887\"], [0.1111111111111111, \"#46039f\"], [0.2222222222222222, \"#7201a8\"], [0.3333333333333333, \"#9c179e\"], [0.4444444444444444, \"#bd3786\"], [0.5555555555555556, \"#d8576b\"], [0.6666666666666666, \"#ed7953\"], [0.7777777777777778, \"#fb9f3a\"], [0.8888888888888888, \"#fdca26\"], [1.0, \"#f0f921\"]], \"type\": \"contour\"}], \"contourcarpet\": [{\"colorbar\": {\"outlinewidth\": 0, \"ticks\": \"\"}, \"type\": \"contourcarpet\"}], \"heatmap\": [{\"colorbar\": {\"outlinewidth\": 0, \"ticks\": \"\"}, \"colorscale\": [[0.0, \"#0d0887\"], [0.1111111111111111, \"#46039f\"], [0.2222222222222222, \"#7201a8\"], [0.3333333333333333, \"#9c179e\"], [0.4444444444444444, \"#bd3786\"], [0.5555555555555556, \"#d8576b\"], [0.6666666666666666, \"#ed7953\"], [0.7777777777777778, \"#fb9f3a\"], [0.8888888888888888, \"#fdca26\"], [1.0, \"#f0f921\"]], \"type\": \"heatmap\"}], \"heatmapgl\": [{\"colorbar\": {\"outlinewidth\": 0, \"ticks\": \"\"}, \"colorscale\": [[0.0, \"#0d0887\"], [0.1111111111111111, \"#46039f\"], [0.2222222222222222, \"#7201a8\"], [0.3333333333333333, \"#9c179e\"], [0.4444444444444444, \"#bd3786\"], [0.5555555555555556, \"#d8576b\"], [0.6666666666666666, \"#ed7953\"], [0.7777777777777778, \"#fb9f3a\"], [0.8888888888888888, \"#fdca26\"], [1.0, \"#f0f921\"]], \"type\": \"heatmapgl\"}], \"histogram\": [{\"marker\": {\"colorbar\": {\"outlinewidth\": 0, \"ticks\": \"\"}}, \"type\": \"histogram\"}], \"histogram2d\": [{\"colorbar\": {\"outlinewidth\": 0, \"ticks\": \"\"}, \"colorscale\": [[0.0, \"#0d0887\"], [0.1111111111111111, \"#46039f\"], [0.2222222222222222, \"#7201a8\"], [0.3333333333333333, \"#9c179e\"], [0.4444444444444444, \"#bd3786\"], [0.5555555555555556, \"#d8576b\"], [0.6666666666666666, \"#ed7953\"], [0.7777777777777778, \"#fb9f3a\"], [0.8888888888888888, \"#fdca26\"], [1.0, \"#f0f921\"]], \"type\": \"histogram2d\"}], \"histogram2dcontour\": [{\"colorbar\": {\"outlinewidth\": 0, \"ticks\": \"\"}, \"colorscale\": [[0.0, \"#0d0887\"], [0.1111111111111111, \"#46039f\"], [0.2222222222222222, \"#7201a8\"], [0.3333333333333333, \"#9c179e\"], [0.4444444444444444, \"#bd3786\"], [0.5555555555555556, \"#d8576b\"], [0.6666666666666666, \"#ed7953\"], [0.7777777777777778, \"#fb9f3a\"], [0.8888888888888888, \"#fdca26\"], [1.0, \"#f0f921\"]], \"type\": \"histogram2dcontour\"}], \"mesh3d\": [{\"colorbar\": {\"outlinewidth\": 0, \"ticks\": \"\"}, \"type\": \"mesh3d\"}], \"parcoords\": [{\"line\": {\"colorbar\": {\"outlinewidth\": 0, \"ticks\": \"\"}}, \"type\": \"parcoords\"}], \"scatter\": [{\"marker\": {\"colorbar\": {\"outlinewidth\": 0, \"ticks\": \"\"}}, \"type\": \"scatter\"}], \"scatter3d\": [{\"line\": {\"colorbar\": {\"outlinewidth\": 0, \"ticks\": \"\"}}, \"marker\": {\"colorbar\": {\"outlinewidth\": 0, \"ticks\": \"\"}}, \"type\": \"scatter3d\"}], \"scattercarpet\": [{\"marker\": {\"colorbar\": {\"outlinewidth\": 0, \"ticks\": \"\"}}, \"type\": \"scattercarpet\"}], \"scattergeo\": [{\"marker\": {\"colorbar\": {\"outlinewidth\": 0, \"ticks\": \"\"}}, \"type\": \"scattergeo\"}], \"scattergl\": [{\"marker\": {\"colorbar\": {\"outlinewidth\": 0, \"ticks\": \"\"}}, \"type\": \"scattergl\"}], \"scattermapbox\": [{\"marker\": {\"colorbar\": {\"outlinewidth\": 0, \"ticks\": \"\"}}, \"type\": \"scattermapbox\"}], \"scatterpolar\": [{\"marker\": {\"colorbar\": {\"outlinewidth\": 0, \"ticks\": \"\"}}, \"type\": \"scatterpolar\"}], \"scatterpolargl\": [{\"marker\": {\"colorbar\": {\"outlinewidth\": 0, \"ticks\": \"\"}}, \"type\": \"scatterpolargl\"}], \"scatterternary\": [{\"marker\": {\"colorbar\": {\"outlinewidth\": 0, \"ticks\": \"\"}}, \"type\": \"scatterternary\"}], \"surface\": [{\"colorbar\": {\"outlinewidth\": 0, \"ticks\": \"\"}, \"colorscale\": [[0.0, \"#0d0887\"], [0.1111111111111111, \"#46039f\"], [0.2222222222222222, \"#7201a8\"], [0.3333333333333333, \"#9c179e\"], [0.4444444444444444, \"#bd3786\"], [0.5555555555555556, \"#d8576b\"], [0.6666666666666666, \"#ed7953\"], [0.7777777777777778, \"#fb9f3a\"], [0.8888888888888888, \"#fdca26\"], [1.0, \"#f0f921\"]], \"type\": \"surface\"}], \"table\": [{\"cells\": {\"fill\": {\"color\": \"#EBF0F8\"}, \"line\": {\"color\": \"white\"}}, \"header\": {\"fill\": {\"color\": \"#C8D4E3\"}, \"line\": {\"color\": \"white\"}}, \"type\": \"table\"}]}, \"layout\": {\"annotationdefaults\": {\"arrowcolor\": \"#2a3f5f\", \"arrowhead\": 0, \"arrowwidth\": 1}, \"colorscale\": {\"diverging\": [[0, \"#8e0152\"], [0.1, \"#c51b7d\"], [0.2, \"#de77ae\"], [0.3, \"#f1b6da\"], [0.4, \"#fde0ef\"], [0.5, \"#f7f7f7\"], [0.6, \"#e6f5d0\"], [0.7, \"#b8e186\"], [0.8, \"#7fbc41\"], [0.9, \"#4d9221\"], [1, \"#276419\"]], \"sequential\": [[0.0, \"#0d0887\"], [0.1111111111111111, \"#46039f\"], [0.2222222222222222, \"#7201a8\"], [0.3333333333333333, \"#9c179e\"], [0.4444444444444444, \"#bd3786\"], [0.5555555555555556, \"#d8576b\"], [0.6666666666666666, \"#ed7953\"], [0.7777777777777778, \"#fb9f3a\"], [0.8888888888888888, \"#fdca26\"], [1.0, \"#f0f921\"]], \"sequentialminus\": [[0.0, \"#0d0887\"], [0.1111111111111111, \"#46039f\"], [0.2222222222222222, \"#7201a8\"], [0.3333333333333333, \"#9c179e\"], [0.4444444444444444, \"#bd3786\"], [0.5555555555555556, \"#d8576b\"], [0.6666666666666666, \"#ed7953\"], [0.7777777777777778, \"#fb9f3a\"], [0.8888888888888888, \"#fdca26\"], [1.0, \"#f0f921\"]]}, \"colorway\": [\"#636efa\", \"#EF553B\", \"#00cc96\", \"#ab63fa\", \"#FFA15A\", \"#19d3f3\", \"#FF6692\", \"#B6E880\", \"#FF97FF\", \"#FECB52\"], \"font\": {\"color\": \"#2a3f5f\"}, \"geo\": {\"bgcolor\": \"white\", \"lakecolor\": \"white\", \"landcolor\": \"#E5ECF6\", \"showlakes\": true, \"showland\": true, \"subunitcolor\": \"white\"}, \"hoverlabel\": {\"align\": \"left\"}, \"hovermode\": \"closest\", \"mapbox\": {\"style\": \"light\"}, \"paper_bgcolor\": \"white\", \"plot_bgcolor\": \"#E5ECF6\", \"polar\": {\"angularaxis\": {\"gridcolor\": \"white\", \"linecolor\": \"white\", \"ticks\": \"\"}, \"bgcolor\": \"#E5ECF6\", \"radialaxis\": {\"gridcolor\": \"white\", \"linecolor\": \"white\", \"ticks\": \"\"}}, \"scene\": {\"xaxis\": {\"backgroundcolor\": \"#E5ECF6\", \"gridcolor\": \"white\", \"gridwidth\": 2, \"linecolor\": \"white\", \"showbackground\": true, \"ticks\": \"\", \"zerolinecolor\": \"white\"}, \"yaxis\": {\"backgroundcolor\": \"#E5ECF6\", \"gridcolor\": \"white\", \"gridwidth\": 2, \"linecolor\": \"white\", \"showbackground\": true, \"ticks\": \"\", \"zerolinecolor\": \"white\"}, \"zaxis\": {\"backgroundcolor\": \"#E5ECF6\", \"gridcolor\": \"white\", \"gridwidth\": 2, \"linecolor\": \"white\", \"showbackground\": true, \"ticks\": \"\", \"zerolinecolor\": \"white\"}}, \"shapedefaults\": {\"line\": {\"color\": \"#2a3f5f\"}}, \"ternary\": {\"aaxis\": {\"gridcolor\": \"white\", \"linecolor\": \"white\", \"ticks\": \"\"}, \"baxis\": {\"gridcolor\": \"white\", \"linecolor\": \"white\", \"ticks\": \"\"}, \"bgcolor\": \"#E5ECF6\", \"caxis\": {\"gridcolor\": \"white\", \"linecolor\": \"white\", \"ticks\": \"\"}}, \"title\": {\"x\": 0.05}, \"xaxis\": {\"automargin\": true, \"gridcolor\": \"white\", \"linecolor\": \"white\", \"ticks\": \"\", \"zerolinecolor\": \"white\", \"zerolinewidth\": 2}, \"yaxis\": {\"automargin\": true, \"gridcolor\": \"white\", \"linecolor\": \"white\", \"ticks\": \"\", \"zerolinecolor\": \"white\", \"zerolinewidth\": 2}}}, \"title\": {\"text\": \"S22 Dataset Statistics\"}, \"yaxis\": {\"title\": {\"text\": \"UE [kcal / mol]\"}}},\n",
       "                        {\"responsive\": true}\n",
       "                    ).then(function(){\n",
       "                            \n",
       "var gd = document.getElementById('e3508778-465c-42fd-b786-b2cc2cc8e208');\n",
       "var x = new MutationObserver(function (mutations, observer) {{\n",
       "        var display = window.getComputedStyle(gd).display;\n",
       "        if (!display || display === 'none') {{\n",
       "            console.log([gd, 'removed!']);\n",
       "            Plotly.purge(gd);\n",
       "            observer.disconnect();\n",
       "        }}\n",
       "}});\n",
       "\n",
       "// Listen for the removal of the full notebook cells\n",
       "var notebookContainer = gd.closest('#notebook-container');\n",
       "if (notebookContainer) {{\n",
       "    x.observe(notebookContainer, {childList: true});\n",
       "}}\n",
       "\n",
       "// Listen for the clearing of the current output cell\n",
       "var outputEl = gd.closest('.output');\n",
       "if (outputEl) {{\n",
       "    x.observe(outputEl, {childList: true});\n",
       "}}\n",
       "\n",
       "                        })\n",
       "                };\n",
       "                });\n",
       "            </script>\n",
       "        </div>"
      ]
     },
     "metadata": {},
     "output_type": "display_data"
    }
   ],
   "source": [
    "ds.visualize(method=[\"B3LYP\", \"B3LYP-D3\", \"B2PLYP\", \"B2PLYP-D3\"], basis=\"def2-tzvp\", groupby=\"D3\", kind=\"violin\")"
   ]
  },
  {
   "cell_type": "markdown",
   "metadata": {},
   "source": [
    "## Next steps\n",
    "\n",
    "The next sections cover other collections that are used for organizing workflows, such as geometry optimization. There are more examples using `Dataset` and `ReactionDataset` in the [Cookbook](https://qcarchivetutorials.readthedocs.io/en/latest/cookbook/overview.html). \n",
    "Full documentation of [Dataset](http://docs.qcarchive.molssi.org/projects/QCPortal/en/stable/collection-dataset.html) and [ReactionDataset](http://docs.qcarchive.molssi.org/projects/QCPortal/en/stable/collection-reactiondataset.html) are available in the [QCPortal documentation](http://docs.qcarchive.molssi.org/projects/QCPortal/en/stable/index.html). "
   ]
  }
 ],
 "metadata": {
  "kernelspec": {
   "display_name": "Python 3",
   "language": "python",
   "name": "python3"
  },
  "language_info": {
   "codemirror_mode": {
    "name": "ipython",
    "version": 3
   },
   "file_extension": ".py",
   "mimetype": "text/x-python",
   "name": "python",
   "nbconvert_exporter": "python",
   "pygments_lexer": "ipython3",
   "version": "3.7.4"
  }
 },
 "nbformat": 4,
 "nbformat_minor": 2
}
