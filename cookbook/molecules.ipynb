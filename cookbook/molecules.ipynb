{
 "cells": [
  {
   "cell_type": "markdown",
   "metadata": {
    "pycharm": {
     "name": "#%% md\n"
    }
   },
   "source": [
    "# Getting Molecules\n",
    "\n",
    "This example shows how to get a molecule from QCArchive in a number of contexts."
   ]
  },
  {
   "cell_type": "markdown",
   "metadata": {},
   "source": [
    "## From an ID\n",
    "\n",
    "Every molecule computed with QCArchive is assigned a unique ID.\n",
    "If a molecule's ID is known, it can be queried from the Molecules table. "
   ]
  },
  {
   "cell_type": "code",
   "execution_count": 1,
   "metadata": {
    "pycharm": {
     "name": "#%%\n"
    }
   },
   "outputs": [],
   "source": [
    "import qcportal as ptl\n",
    "client = ptl.FractalClient()"
   ]
  },
  {
   "cell_type": "markdown",
   "metadata": {},
   "source": [
    "For example, molecule 1234 is 1,2,3-trimethylbenzene."
   ]
  },
  {
   "cell_type": "code",
   "execution_count": 2,
   "metadata": {
    "pycharm": {
     "name": "#%%\n"
    }
   },
   "outputs": [
    {
     "data": {
      "application/vnd.jupyter.widget-view+json": {
       "model_id": "f9affdecb7d943abbbd0b6a7ca0776b0",
       "version_major": 2,
       "version_minor": 0
      },
      "text/plain": []
     },
     "metadata": {},
     "output_type": "display_data"
    },
    {
     "data": {
      "application/vnd.jupyter.widget-view+json": {
       "model_id": "22612590c7e745ae9af07ed19337c485",
       "version_major": 2,
       "version_minor": 0
      },
      "text/plain": [
       "NGLWidget()"
      ]
     },
     "metadata": {},
     "output_type": "display_data"
    }
   ],
   "source": [
    "mol = client.query_molecules(1234)[0]\n",
    "mol "
   ]
  },
  {
   "cell_type": "code",
   "execution_count": 3,
   "metadata": {
    "pycharm": {
     "name": "#%%\n"
    }
   },
   "outputs": [
    {
     "name": "stdout",
     "output_type": "stream",
     "text": [
      "Molecule(name='C9H12', formula='C9H12', hash='572b510')\n"
     ]
    }
   ],
   "source": [
    "print(mol)"
   ]
  },
  {
   "cell_type": "markdown",
   "metadata": {},
   "source": [
    "The following sections show how to find molecule IDs from Collections."
   ]
  },
  {
   "cell_type": "markdown",
   "metadata": {},
   "source": [
    "## From a Dataset\n",
    "Load a `Dataset`:"
   ]
  },
  {
   "cell_type": "code",
   "execution_count": 4,
   "metadata": {},
   "outputs": [],
   "source": [
    "import qcportal as ptl\n",
    "client = ptl.FractalClient()\n",
    "\n",
    "ds = client.get_collection(\"Dataset\", \"SMIRNOFF Coverage Set 1\")"
   ]
  },
  {
   "cell_type": "markdown",
   "metadata": {},
   "source": [
    "`get_molecules` returns molecules corresponding to row of the `Dataset`:"
   ]
  },
  {
   "cell_type": "code",
   "execution_count": 5,
   "metadata": {},
   "outputs": [
    {
     "data": {
      "text/html": [
       "<div>\n",
       "<style scoped>\n",
       "    .dataframe tbody tr th:only-of-type {\n",
       "        vertical-align: middle;\n",
       "    }\n",
       "\n",
       "    .dataframe tbody tr th {\n",
       "        vertical-align: top;\n",
       "    }\n",
       "\n",
       "    .dataframe thead th {\n",
       "        text-align: right;\n",
       "    }\n",
       "</style>\n",
       "<table border=\"1\" class=\"dataframe\">\n",
       "  <thead>\n",
       "    <tr style=\"text-align: right;\">\n",
       "      <th></th>\n",
       "      <th>molecule</th>\n",
       "    </tr>\n",
       "    <tr>\n",
       "      <th>index</th>\n",
       "      <th></th>\n",
       "    </tr>\n",
       "  </thead>\n",
       "  <tbody>\n",
       "    <tr>\n",
       "      <th>C(CBr)c1n[nH]nn1-1</th>\n",
       "      <td>Molecule(name='BrC3H5N4', formula='BrC3H5N4', ...</td>\n",
       "    </tr>\n",
       "    <tr>\n",
       "      <th>C(CBr)c1n[nH]nn1-2</th>\n",
       "      <td>Molecule(name='BrC3H5N4', formula='BrC3H5N4', ...</td>\n",
       "    </tr>\n",
       "    <tr>\n",
       "      <th>C(CBr)c1n[nH]nn1-3</th>\n",
       "      <td>Molecule(name='BrC3H5N4', formula='BrC3H5N4', ...</td>\n",
       "    </tr>\n",
       "    <tr>\n",
       "      <th>C(CBr)c1n[n-]nn1-0</th>\n",
       "      <td>Molecule(name='BrC3H4N4', formula='BrC3H4N4', ...</td>\n",
       "    </tr>\n",
       "    <tr>\n",
       "      <th>C(CBr)c1n[n-]nn1-1</th>\n",
       "      <td>Molecule(name='BrC3H4N4', formula='BrC3H4N4', ...</td>\n",
       "    </tr>\n",
       "    <tr>\n",
       "      <th>...</th>\n",
       "      <td>...</td>\n",
       "    </tr>\n",
       "    <tr>\n",
       "      <th>CSSCCN=C=S-7</th>\n",
       "      <td>Molecule(name='C4H7NS3', formula='C4H7NS3', ha...</td>\n",
       "    </tr>\n",
       "    <tr>\n",
       "      <th>CSSCCN=C=S-8</th>\n",
       "      <td>Molecule(name='C4H7NS3', formula='C4H7NS3', ha...</td>\n",
       "    </tr>\n",
       "    <tr>\n",
       "      <th>CSSCCN=C=S-9</th>\n",
       "      <td>Molecule(name='C4H7NS3', formula='C4H7NS3', ha...</td>\n",
       "    </tr>\n",
       "    <tr>\n",
       "      <th>CSSCCN=C=S-10</th>\n",
       "      <td>Molecule(name='C4H7NS3', formula='C4H7NS3', ha...</td>\n",
       "    </tr>\n",
       "    <tr>\n",
       "      <th>CSSCCN=C=S-11</th>\n",
       "      <td>Molecule(name='C4H7NS3', formula='C4H7NS3', ha...</td>\n",
       "    </tr>\n",
       "  </tbody>\n",
       "</table>\n",
       "<p>1109 rows × 1 columns</p>\n",
       "</div>"
      ],
      "text/plain": [
       "                                                             molecule\n",
       "index                                                                \n",
       "C(CBr)c1n[nH]nn1-1  Molecule(name='BrC3H5N4', formula='BrC3H5N4', ...\n",
       "C(CBr)c1n[nH]nn1-2  Molecule(name='BrC3H5N4', formula='BrC3H5N4', ...\n",
       "C(CBr)c1n[nH]nn1-3  Molecule(name='BrC3H5N4', formula='BrC3H5N4', ...\n",
       "C(CBr)c1n[n-]nn1-0  Molecule(name='BrC3H4N4', formula='BrC3H4N4', ...\n",
       "C(CBr)c1n[n-]nn1-1  Molecule(name='BrC3H4N4', formula='BrC3H4N4', ...\n",
       "...                                                               ...\n",
       "CSSCCN=C=S-7        Molecule(name='C4H7NS3', formula='C4H7NS3', ha...\n",
       "CSSCCN=C=S-8        Molecule(name='C4H7NS3', formula='C4H7NS3', ha...\n",
       "CSSCCN=C=S-9        Molecule(name='C4H7NS3', formula='C4H7NS3', ha...\n",
       "CSSCCN=C=S-10       Molecule(name='C4H7NS3', formula='C4H7NS3', ha...\n",
       "CSSCCN=C=S-11       Molecule(name='C4H7NS3', formula='C4H7NS3', ha...\n",
       "\n",
       "[1109 rows x 1 columns]"
      ]
     },
     "execution_count": 5,
     "metadata": {},
     "output_type": "execute_result"
    }
   ],
   "source": [
    "molecules = ds.get_molecules()\n",
    "molecules"
   ]
  },
  {
   "cell_type": "markdown",
   "metadata": {},
   "source": [
    "Individual `Molecule` objects may be picked out of the dataframe:"
   ]
  },
  {
   "cell_type": "code",
   "execution_count": 6,
   "metadata": {
    "scrolled": false
   },
   "outputs": [
    {
     "data": {
      "application/vnd.jupyter.widget-view+json": {
       "model_id": "9278169f2acb43d08c8bc4579ee5b235",
       "version_major": 2,
       "version_minor": 0
      },
      "text/plain": [
       "NGLWidget()"
      ]
     },
     "metadata": {},
     "output_type": "display_data"
    }
   ],
   "source": [
    "molecules.loc[\"C(CBr)c1n[n-]nn1-0\", \"molecule\"]"
   ]
  },
  {
   "cell_type": "markdown",
   "metadata": {},
   "source": [
    "In some datasets, such as QM7, molecules are indexed with a number but this is actually stored as a string:"
   ]
  },
  {
   "cell_type": "code",
   "execution_count": 7,
   "metadata": {},
   "outputs": [
    {
     "data": {
      "application/vnd.jupyter.widget-view+json": {
       "model_id": "ae5d34ae74d24f399abcd3b98874a5f4",
       "version_major": 2,
       "version_minor": 0
      },
      "text/plain": [
       "NGLWidget()"
      ]
     },
     "metadata": {},
     "output_type": "display_data"
    }
   ],
   "source": [
    "qm7 = client.get_collection(\"Dataset\", \"QM7\")\n",
    "\n",
    "# NOT qm7.get_molecules().loc[0, \"molecule\"]\n",
    "qm7.get_molecules().loc[\"0\", \"molecule\"]"
   ]
  },
  {
   "cell_type": "markdown",
   "metadata": {},
   "source": [
    "For large datasets, you may not want to query all molecules at once. `get_molecules` accepts a subset option for selecting specific molecules:"
   ]
  },
  {
   "cell_type": "code",
   "execution_count": 8,
   "metadata": {},
   "outputs": [
    {
     "data": {
      "text/html": [
       "<div>\n",
       "<style scoped>\n",
       "    .dataframe tbody tr th:only-of-type {\n",
       "        vertical-align: middle;\n",
       "    }\n",
       "\n",
       "    .dataframe tbody tr th {\n",
       "        vertical-align: top;\n",
       "    }\n",
       "\n",
       "    .dataframe thead th {\n",
       "        text-align: right;\n",
       "    }\n",
       "</style>\n",
       "<table border=\"1\" class=\"dataframe\">\n",
       "  <thead>\n",
       "    <tr style=\"text-align: right;\">\n",
       "      <th></th>\n",
       "      <th>molecule</th>\n",
       "    </tr>\n",
       "    <tr>\n",
       "      <th>index</th>\n",
       "      <th></th>\n",
       "    </tr>\n",
       "  </thead>\n",
       "  <tbody>\n",
       "    <tr>\n",
       "      <th>C(CBr)c1n[n-]nn1-0</th>\n",
       "      <td>Molecule(name='BrC3H4N4', formula='BrC3H4N4', ...</td>\n",
       "    </tr>\n",
       "    <tr>\n",
       "      <th>CSSCCN=C=S-10</th>\n",
       "      <td>Molecule(name='C4H7NS3', formula='C4H7NS3', ha...</td>\n",
       "    </tr>\n",
       "  </tbody>\n",
       "</table>\n",
       "</div>"
      ],
      "text/plain": [
       "                                                             molecule\n",
       "index                                                                \n",
       "C(CBr)c1n[n-]nn1-0  Molecule(name='BrC3H4N4', formula='BrC3H4N4', ...\n",
       "CSSCCN=C=S-10       Molecule(name='C4H7NS3', formula='C4H7NS3', ha..."
      ]
     },
     "execution_count": 8,
     "metadata": {},
     "output_type": "execute_result"
    }
   ],
   "source": [
    "ds.get_molecules(subset=['C(CBr)c1n[n-]nn1-0','CSSCCN=C=S-10'])"
   ]
  },
  {
   "cell_type": "markdown",
   "metadata": {},
   "source": [
    "If a single string is provided for `subset`, the `Molecule` object is returned directly. "
   ]
  },
  {
   "cell_type": "code",
   "execution_count": 9,
   "metadata": {},
   "outputs": [
    {
     "data": {
      "application/vnd.jupyter.widget-view+json": {
       "model_id": "8c3c159e9bb644e7bc879c3f91287d82",
       "version_major": 2,
       "version_minor": 0
      },
      "text/plain": [
       "NGLWidget()"
      ]
     },
     "metadata": {},
     "output_type": "display_data"
    }
   ],
   "source": [
    "ds.get_molecules(subset='CSSCCN=C=S-10')"
   ]
  },
  {
   "cell_type": "markdown",
   "metadata": {},
   "source": [
    "## From a ReactionDataset\n",
    "\n",
    "Load a `ReactionDataset`:"
   ]
  },
  {
   "cell_type": "code",
   "execution_count": 10,
   "metadata": {
    "pycharm": {
     "name": "#%%\n"
    }
   },
   "outputs": [],
   "source": [
    "import qcportal as ptl\n",
    "client = ptl.FractalClient()\n",
    "\n",
    "ds = client.get_collection(\"ReactionDataset\", \"S22\")"
   ]
  },
  {
   "cell_type": "markdown",
   "metadata": {},
   "source": [
    "`get_molecules` returns molecules corresponding to each reaction. By default, the final molecule is returned for every reaction:"
   ]
  },
  {
   "cell_type": "code",
   "execution_count": 11,
   "metadata": {
    "pycharm": {
     "name": "#%%\n"
    }
   },
   "outputs": [
    {
     "data": {
      "text/html": [
       "<div>\n",
       "<style scoped>\n",
       "    .dataframe tbody tr th:only-of-type {\n",
       "        vertical-align: middle;\n",
       "    }\n",
       "\n",
       "    .dataframe tbody tr th {\n",
       "        vertical-align: top;\n",
       "    }\n",
       "\n",
       "    .dataframe thead th {\n",
       "        text-align: right;\n",
       "    }\n",
       "</style>\n",
       "<table border=\"1\" class=\"dataframe\">\n",
       "  <thead>\n",
       "    <tr style=\"text-align: right;\">\n",
       "      <th></th>\n",
       "      <th></th>\n",
       "      <th></th>\n",
       "      <th>molecule</th>\n",
       "    </tr>\n",
       "    <tr>\n",
       "      <th>name</th>\n",
       "      <th>stoichiometry</th>\n",
       "      <th>idx</th>\n",
       "      <th></th>\n",
       "    </tr>\n",
       "  </thead>\n",
       "  <tbody>\n",
       "    <tr>\n",
       "      <th>2-Pyridone-2-Aminopyridine Complex</th>\n",
       "      <th>default</th>\n",
       "      <th>0</th>\n",
       "      <td>Molecule(name='C10H11N3O', formula='C10H11N3O'...</td>\n",
       "    </tr>\n",
       "    <tr>\n",
       "      <th>Adenine-Thymine Complex Stack</th>\n",
       "      <th>default</th>\n",
       "      <th>0</th>\n",
       "      <td>Molecule(name='C10H11N7O2', formula='C10H11N7O...</td>\n",
       "    </tr>\n",
       "    <tr>\n",
       "      <th>Adenine-Thymine Complex WC</th>\n",
       "      <th>default</th>\n",
       "      <th>0</th>\n",
       "      <td>Molecule(name='C10H11N7O2', formula='C10H11N7O...</td>\n",
       "    </tr>\n",
       "    <tr>\n",
       "      <th>Ammonia Dimer</th>\n",
       "      <th>default</th>\n",
       "      <th>0</th>\n",
       "      <td>Molecule(name='H6N2', formula='H6N2', hash='94...</td>\n",
       "    </tr>\n",
       "    <tr>\n",
       "      <th>Benzene Dimer PD</th>\n",
       "      <th>default</th>\n",
       "      <th>0</th>\n",
       "      <td>Molecule(name='C12H12', formula='C12H12', hash...</td>\n",
       "    </tr>\n",
       "    <tr>\n",
       "      <th>Benzene Dimer T-Shape</th>\n",
       "      <th>default</th>\n",
       "      <th>0</th>\n",
       "      <td>Molecule(name='C12H12', formula='C12H12', hash...</td>\n",
       "    </tr>\n",
       "    <tr>\n",
       "      <th>Benzene-Ammonia Complex</th>\n",
       "      <th>default</th>\n",
       "      <th>0</th>\n",
       "      <td>Molecule(name='C6H9N', formula='C6H9N', hash='...</td>\n",
       "    </tr>\n",
       "    <tr>\n",
       "      <th>Benzene-HCN Complex</th>\n",
       "      <th>default</th>\n",
       "      <th>0</th>\n",
       "      <td>Molecule(name='C7H7N', formula='C7H7N', hash='...</td>\n",
       "    </tr>\n",
       "    <tr>\n",
       "      <th>Benzene-Methane Complex</th>\n",
       "      <th>default</th>\n",
       "      <th>0</th>\n",
       "      <td>Molecule(name='C7H10', formula='C7H10', hash='...</td>\n",
       "    </tr>\n",
       "    <tr>\n",
       "      <th>Benzene-Water Complex</th>\n",
       "      <th>default</th>\n",
       "      <th>0</th>\n",
       "      <td>Molecule(name='C6H8O', formula='C6H8O', hash='...</td>\n",
       "    </tr>\n",
       "    <tr>\n",
       "      <th>Ethene Dimer</th>\n",
       "      <th>default</th>\n",
       "      <th>0</th>\n",
       "      <td>Molecule(name='C4H8', formula='C4H8', hash='6c...</td>\n",
       "    </tr>\n",
       "    <tr>\n",
       "      <th>Ethene-Ethine Complex</th>\n",
       "      <th>default</th>\n",
       "      <th>0</th>\n",
       "      <td>Molecule(name='C4H6', formula='C4H6', hash='a4...</td>\n",
       "    </tr>\n",
       "    <tr>\n",
       "      <th>Formamide Dimer</th>\n",
       "      <th>default</th>\n",
       "      <th>0</th>\n",
       "      <td>Molecule(name='C2H6N2O2', formula='C2H6N2O2', ...</td>\n",
       "    </tr>\n",
       "    <tr>\n",
       "      <th>Formic Acid Dimer</th>\n",
       "      <th>default</th>\n",
       "      <th>0</th>\n",
       "      <td>Molecule(name='C2H4O4', formula='C2H4O4', hash...</td>\n",
       "    </tr>\n",
       "    <tr>\n",
       "      <th>Indole-Benzene Complex Stack</th>\n",
       "      <th>default</th>\n",
       "      <th>0</th>\n",
       "      <td>Molecule(name='C14H13N', formula='C14H13N', ha...</td>\n",
       "    </tr>\n",
       "    <tr>\n",
       "      <th>Indole-Benzene Complex T-Shape</th>\n",
       "      <th>default</th>\n",
       "      <th>0</th>\n",
       "      <td>Molecule(name='C14H13N', formula='C14H13N', ha...</td>\n",
       "    </tr>\n",
       "    <tr>\n",
       "      <th>Methane Dimer</th>\n",
       "      <th>default</th>\n",
       "      <th>0</th>\n",
       "      <td>Molecule(name='C2H8', formula='C2H8', hash='ec...</td>\n",
       "    </tr>\n",
       "    <tr>\n",
       "      <th>Phenol Dimer</th>\n",
       "      <th>default</th>\n",
       "      <th>0</th>\n",
       "      <td>Molecule(name='C12H12O2', formula='C12H12O2', ...</td>\n",
       "    </tr>\n",
       "    <tr>\n",
       "      <th>Pyrazine Dimer</th>\n",
       "      <th>default</th>\n",
       "      <th>0</th>\n",
       "      <td>Molecule(name='C8H8N4', formula='C8H8N4', hash...</td>\n",
       "    </tr>\n",
       "    <tr>\n",
       "      <th>Uracil Dimer HB</th>\n",
       "      <th>default</th>\n",
       "      <th>0</th>\n",
       "      <td>Molecule(name='C8H8N4O4', formula='C8H8N4O4', ...</td>\n",
       "    </tr>\n",
       "    <tr>\n",
       "      <th>Uracil Dimer Stack</th>\n",
       "      <th>default</th>\n",
       "      <th>0</th>\n",
       "      <td>Molecule(name='C8H8N4O4', formula='C8H8N4O4', ...</td>\n",
       "    </tr>\n",
       "    <tr>\n",
       "      <th>Water Dimer</th>\n",
       "      <th>default</th>\n",
       "      <th>0</th>\n",
       "      <td>Molecule(name='H4O2', formula='H4O2', hash='42...</td>\n",
       "    </tr>\n",
       "  </tbody>\n",
       "</table>\n",
       "</div>"
      ],
      "text/plain": [
       "                                                                                               molecule\n",
       "name                               stoichiometry idx                                                   \n",
       "2-Pyridone-2-Aminopyridine Complex default       0    Molecule(name='C10H11N3O', formula='C10H11N3O'...\n",
       "Adenine-Thymine Complex Stack      default       0    Molecule(name='C10H11N7O2', formula='C10H11N7O...\n",
       "Adenine-Thymine Complex WC         default       0    Molecule(name='C10H11N7O2', formula='C10H11N7O...\n",
       "Ammonia Dimer                      default       0    Molecule(name='H6N2', formula='H6N2', hash='94...\n",
       "Benzene Dimer PD                   default       0    Molecule(name='C12H12', formula='C12H12', hash...\n",
       "Benzene Dimer T-Shape              default       0    Molecule(name='C12H12', formula='C12H12', hash...\n",
       "Benzene-Ammonia Complex            default       0    Molecule(name='C6H9N', formula='C6H9N', hash='...\n",
       "Benzene-HCN Complex                default       0    Molecule(name='C7H7N', formula='C7H7N', hash='...\n",
       "Benzene-Methane Complex            default       0    Molecule(name='C7H10', formula='C7H10', hash='...\n",
       "Benzene-Water Complex              default       0    Molecule(name='C6H8O', formula='C6H8O', hash='...\n",
       "Ethene Dimer                       default       0    Molecule(name='C4H8', formula='C4H8', hash='6c...\n",
       "Ethene-Ethine Complex              default       0    Molecule(name='C4H6', formula='C4H6', hash='a4...\n",
       "Formamide Dimer                    default       0    Molecule(name='C2H6N2O2', formula='C2H6N2O2', ...\n",
       "Formic Acid Dimer                  default       0    Molecule(name='C2H4O4', formula='C2H4O4', hash...\n",
       "Indole-Benzene Complex Stack       default       0    Molecule(name='C14H13N', formula='C14H13N', ha...\n",
       "Indole-Benzene Complex T-Shape     default       0    Molecule(name='C14H13N', formula='C14H13N', ha...\n",
       "Methane Dimer                      default       0    Molecule(name='C2H8', formula='C2H8', hash='ec...\n",
       "Phenol Dimer                       default       0    Molecule(name='C12H12O2', formula='C12H12O2', ...\n",
       "Pyrazine Dimer                     default       0    Molecule(name='C8H8N4', formula='C8H8N4', hash...\n",
       "Uracil Dimer HB                    default       0    Molecule(name='C8H8N4O4', formula='C8H8N4O4', ...\n",
       "Uracil Dimer Stack                 default       0    Molecule(name='C8H8N4O4', formula='C8H8N4O4', ...\n",
       "Water Dimer                        default       0    Molecule(name='H4O2', formula='H4O2', hash='42..."
      ]
     },
     "execution_count": 11,
     "metadata": {},
     "output_type": "execute_result"
    }
   ],
   "source": [
    "dimers = ds.get_molecules()\n",
    "dimers"
   ]
  },
  {
   "cell_type": "markdown",
   "metadata": {},
   "source": [
    "Individual `Molecule` objects may be picked out of the dataframe:"
   ]
  },
  {
   "cell_type": "code",
   "execution_count": 12,
   "metadata": {},
   "outputs": [
    {
     "data": {
      "application/vnd.jupyter.widget-view+json": {
       "model_id": "051b5a88d5284df0af1de60ef5eb2e11",
       "version_major": 2,
       "version_minor": 0
      },
      "text/plain": [
       "NGLWidget()"
      ]
     },
     "metadata": {},
     "output_type": "display_data"
    }
   ],
   "source": [
    "dimers.loc['Adenine-Thymine Complex WC', 'molecule'][0]"
   ]
  },
  {
   "cell_type": "markdown",
   "metadata": {},
   "source": [
    "Reactants and products (or monomers and complexes) may be picked out with the `stoich` keyword. For the case of an interaction energy dataset like S22, `stoich=\"default\"` corresponds to complexes and `stoich=\"default1\"` corresponds to the monomers without counterpoise corrections.  "
   ]
  },
  {
   "cell_type": "code",
   "execution_count": 13,
   "metadata": {
    "scrolled": false
   },
   "outputs": [
    {
     "data": {
      "text/html": [
       "<div>\n",
       "<style scoped>\n",
       "    .dataframe tbody tr th:only-of-type {\n",
       "        vertical-align: middle;\n",
       "    }\n",
       "\n",
       "    .dataframe tbody tr th {\n",
       "        vertical-align: top;\n",
       "    }\n",
       "\n",
       "    .dataframe thead th {\n",
       "        text-align: right;\n",
       "    }\n",
       "</style>\n",
       "<table border=\"1\" class=\"dataframe\">\n",
       "  <thead>\n",
       "    <tr style=\"text-align: right;\">\n",
       "      <th></th>\n",
       "      <th></th>\n",
       "      <th></th>\n",
       "      <th>molecule</th>\n",
       "    </tr>\n",
       "    <tr>\n",
       "      <th>name</th>\n",
       "      <th>stoichiometry</th>\n",
       "      <th>idx</th>\n",
       "      <th></th>\n",
       "    </tr>\n",
       "  </thead>\n",
       "  <tbody>\n",
       "    <tr>\n",
       "      <th rowspan=\"2\" valign=\"top\">2-Pyridone-2-Aminopyridine Complex</th>\n",
       "      <th rowspan=\"2\" valign=\"top\">default1</th>\n",
       "      <th>0</th>\n",
       "      <td>Molecule(name='C10H11N3O ((0,),[])', formula='...</td>\n",
       "    </tr>\n",
       "    <tr>\n",
       "      <th>1</th>\n",
       "      <td>Molecule(name='C10H11N3O ((1,),[])', formula='...</td>\n",
       "    </tr>\n",
       "    <tr>\n",
       "      <th rowspan=\"2\" valign=\"top\">Adenine-Thymine Complex Stack</th>\n",
       "      <th rowspan=\"2\" valign=\"top\">default1</th>\n",
       "      <th>0</th>\n",
       "      <td>Molecule(name='C10H11N7O2 ((0,),[])', formula=...</td>\n",
       "    </tr>\n",
       "    <tr>\n",
       "      <th>1</th>\n",
       "      <td>Molecule(name='C10H11N7O2 ((1,),[])', formula=...</td>\n",
       "    </tr>\n",
       "    <tr>\n",
       "      <th rowspan=\"2\" valign=\"top\">Adenine-Thymine Complex WC</th>\n",
       "      <th rowspan=\"2\" valign=\"top\">default1</th>\n",
       "      <th>0</th>\n",
       "      <td>Molecule(name='C10H11N7O2 ((0,),[])', formula=...</td>\n",
       "    </tr>\n",
       "    <tr>\n",
       "      <th>1</th>\n",
       "      <td>Molecule(name='C10H11N7O2 ((1,),[])', formula=...</td>\n",
       "    </tr>\n",
       "    <tr>\n",
       "      <th rowspan=\"2\" valign=\"top\">Ammonia Dimer</th>\n",
       "      <th rowspan=\"2\" valign=\"top\">default1</th>\n",
       "      <th>0</th>\n",
       "      <td>Molecule(name='H6N2 ((0,),[])', formula='H3N',...</td>\n",
       "    </tr>\n",
       "    <tr>\n",
       "      <th>1</th>\n",
       "      <td>Molecule(name='H6N2 ((1,),[])', formula='H3N',...</td>\n",
       "    </tr>\n",
       "    <tr>\n",
       "      <th rowspan=\"2\" valign=\"top\">Benzene Dimer PD</th>\n",
       "      <th rowspan=\"2\" valign=\"top\">default1</th>\n",
       "      <th>0</th>\n",
       "      <td>Molecule(name='C12H12 ((0,),[])', formula='C6H...</td>\n",
       "    </tr>\n",
       "    <tr>\n",
       "      <th>1</th>\n",
       "      <td>Molecule(name='C12H12 ((1,),[])', formula='C6H...</td>\n",
       "    </tr>\n",
       "  </tbody>\n",
       "</table>\n",
       "</div>"
      ],
      "text/plain": [
       "                                                                                               molecule\n",
       "name                               stoichiometry idx                                                   \n",
       "2-Pyridone-2-Aminopyridine Complex default1      0    Molecule(name='C10H11N3O ((0,),[])', formula='...\n",
       "                                                 1    Molecule(name='C10H11N3O ((1,),[])', formula='...\n",
       "Adenine-Thymine Complex Stack      default1      0    Molecule(name='C10H11N7O2 ((0,),[])', formula=...\n",
       "                                                 1    Molecule(name='C10H11N7O2 ((1,),[])', formula=...\n",
       "Adenine-Thymine Complex WC         default1      0    Molecule(name='C10H11N7O2 ((0,),[])', formula=...\n",
       "                                                 1    Molecule(name='C10H11N7O2 ((1,),[])', formula=...\n",
       "Ammonia Dimer                      default1      0    Molecule(name='H6N2 ((0,),[])', formula='H3N',...\n",
       "                                                 1    Molecule(name='H6N2 ((1,),[])', formula='H3N',...\n",
       "Benzene Dimer PD                   default1      0    Molecule(name='C12H12 ((0,),[])', formula='C6H...\n",
       "                                                 1    Molecule(name='C12H12 ((1,),[])', formula='C6H..."
      ]
     },
     "execution_count": 13,
     "metadata": {},
     "output_type": "execute_result"
    }
   ],
   "source": [
    "monomers = ds.get_molecules(stoich=\"default1\")\n",
    "monomers.head(10)"
   ]
  },
  {
   "cell_type": "markdown",
   "metadata": {},
   "source": [
    "As before, the individual `Molecule` objects for the monomers may be extracted from the DataFrame:"
   ]
  },
  {
   "cell_type": "code",
   "execution_count": 14,
   "metadata": {},
   "outputs": [
    {
     "data": {
      "application/vnd.jupyter.widget-view+json": {
       "model_id": "55b007d46106433ab40d48d200e73e59",
       "version_major": 2,
       "version_minor": 0
      },
      "text/plain": [
       "NGLWidget()"
      ]
     },
     "metadata": {},
     "output_type": "display_data"
    }
   ],
   "source": [
    "monomers.loc['Adenine-Thymine Complex WC', 'molecule'][0]"
   ]
  },
  {
   "cell_type": "code",
   "execution_count": 15,
   "metadata": {},
   "outputs": [
    {
     "data": {
      "application/vnd.jupyter.widget-view+json": {
       "model_id": "2e720ba407034c2689edab63e2e52af9",
       "version_major": 2,
       "version_minor": 0
      },
      "text/plain": [
       "NGLWidget()"
      ]
     },
     "metadata": {},
     "output_type": "display_data"
    }
   ],
   "source": [
    "monomers.loc['Adenine-Thymine Complex WC', 'molecule'][1]"
   ]
  },
  {
   "cell_type": "markdown",
   "metadata": {},
   "source": [
    "Note that it is possible to get all molecules involved in a reaction by specifying a list for `stoich`:"
   ]
  },
  {
   "cell_type": "code",
   "execution_count": 16,
   "metadata": {},
   "outputs": [
    {
     "data": {
      "text/html": [
       "<div>\n",
       "<style scoped>\n",
       "    .dataframe tbody tr th:only-of-type {\n",
       "        vertical-align: middle;\n",
       "    }\n",
       "\n",
       "    .dataframe tbody tr th {\n",
       "        vertical-align: top;\n",
       "    }\n",
       "\n",
       "    .dataframe thead th {\n",
       "        text-align: right;\n",
       "    }\n",
       "</style>\n",
       "<table border=\"1\" class=\"dataframe\">\n",
       "  <thead>\n",
       "    <tr style=\"text-align: right;\">\n",
       "      <th></th>\n",
       "      <th></th>\n",
       "      <th></th>\n",
       "      <th>molecule</th>\n",
       "    </tr>\n",
       "    <tr>\n",
       "      <th>name</th>\n",
       "      <th>stoichiometry</th>\n",
       "      <th>idx</th>\n",
       "      <th></th>\n",
       "    </tr>\n",
       "  </thead>\n",
       "  <tbody>\n",
       "    <tr>\n",
       "      <th rowspan=\"3\" valign=\"top\">2-Pyridone-2-Aminopyridine Complex</th>\n",
       "      <th>default</th>\n",
       "      <th>0</th>\n",
       "      <td>Molecule(name='C10H11N3O', formula='C10H11N3O'...</td>\n",
       "    </tr>\n",
       "    <tr>\n",
       "      <th rowspan=\"2\" valign=\"top\">default1</th>\n",
       "      <th>0</th>\n",
       "      <td>Molecule(name='C10H11N3O ((0,),[])', formula='...</td>\n",
       "    </tr>\n",
       "    <tr>\n",
       "      <th>1</th>\n",
       "      <td>Molecule(name='C10H11N3O ((1,),[])', formula='...</td>\n",
       "    </tr>\n",
       "    <tr>\n",
       "      <th rowspan=\"3\" valign=\"top\">Adenine-Thymine Complex Stack</th>\n",
       "      <th>default</th>\n",
       "      <th>0</th>\n",
       "      <td>Molecule(name='C10H11N7O2', formula='C10H11N7O...</td>\n",
       "    </tr>\n",
       "    <tr>\n",
       "      <th rowspan=\"2\" valign=\"top\">default1</th>\n",
       "      <th>0</th>\n",
       "      <td>Molecule(name='C10H11N7O2 ((0,),[])', formula=...</td>\n",
       "    </tr>\n",
       "    <tr>\n",
       "      <th>1</th>\n",
       "      <td>Molecule(name='C10H11N7O2 ((1,),[])', formula=...</td>\n",
       "    </tr>\n",
       "    <tr>\n",
       "      <th rowspan=\"3\" valign=\"top\">Adenine-Thymine Complex WC</th>\n",
       "      <th>default</th>\n",
       "      <th>0</th>\n",
       "      <td>Molecule(name='C10H11N7O2', formula='C10H11N7O...</td>\n",
       "    </tr>\n",
       "    <tr>\n",
       "      <th rowspan=\"2\" valign=\"top\">default1</th>\n",
       "      <th>0</th>\n",
       "      <td>Molecule(name='C10H11N7O2 ((0,),[])', formula=...</td>\n",
       "    </tr>\n",
       "    <tr>\n",
       "      <th>1</th>\n",
       "      <td>Molecule(name='C10H11N7O2 ((1,),[])', formula=...</td>\n",
       "    </tr>\n",
       "    <tr>\n",
       "      <th rowspan=\"3\" valign=\"top\">Ammonia Dimer</th>\n",
       "      <th>default</th>\n",
       "      <th>0</th>\n",
       "      <td>Molecule(name='H6N2', formula='H6N2', hash='94...</td>\n",
       "    </tr>\n",
       "    <tr>\n",
       "      <th rowspan=\"2\" valign=\"top\">default1</th>\n",
       "      <th>0</th>\n",
       "      <td>Molecule(name='H6N2 ((0,),[])', formula='H3N',...</td>\n",
       "    </tr>\n",
       "    <tr>\n",
       "      <th>1</th>\n",
       "      <td>Molecule(name='H6N2 ((1,),[])', formula='H3N',...</td>\n",
       "    </tr>\n",
       "    <tr>\n",
       "      <th rowspan=\"3\" valign=\"top\">Benzene Dimer PD</th>\n",
       "      <th>default</th>\n",
       "      <th>0</th>\n",
       "      <td>Molecule(name='C12H12', formula='C12H12', hash...</td>\n",
       "    </tr>\n",
       "    <tr>\n",
       "      <th rowspan=\"2\" valign=\"top\">default1</th>\n",
       "      <th>0</th>\n",
       "      <td>Molecule(name='C12H12 ((0,),[])', formula='C6H...</td>\n",
       "    </tr>\n",
       "    <tr>\n",
       "      <th>1</th>\n",
       "      <td>Molecule(name='C12H12 ((1,),[])', formula='C6H...</td>\n",
       "    </tr>\n",
       "  </tbody>\n",
       "</table>\n",
       "</div>"
      ],
      "text/plain": [
       "                                                                                               molecule\n",
       "name                               stoichiometry idx                                                   \n",
       "2-Pyridone-2-Aminopyridine Complex default       0    Molecule(name='C10H11N3O', formula='C10H11N3O'...\n",
       "                                   default1      0    Molecule(name='C10H11N3O ((0,),[])', formula='...\n",
       "                                                 1    Molecule(name='C10H11N3O ((1,),[])', formula='...\n",
       "Adenine-Thymine Complex Stack      default       0    Molecule(name='C10H11N7O2', formula='C10H11N7O...\n",
       "                                   default1      0    Molecule(name='C10H11N7O2 ((0,),[])', formula=...\n",
       "                                                 1    Molecule(name='C10H11N7O2 ((1,),[])', formula=...\n",
       "Adenine-Thymine Complex WC         default       0    Molecule(name='C10H11N7O2', formula='C10H11N7O...\n",
       "                                   default1      0    Molecule(name='C10H11N7O2 ((0,),[])', formula=...\n",
       "                                                 1    Molecule(name='C10H11N7O2 ((1,),[])', formula=...\n",
       "Ammonia Dimer                      default       0    Molecule(name='H6N2', formula='H6N2', hash='94...\n",
       "                                   default1      0    Molecule(name='H6N2 ((0,),[])', formula='H3N',...\n",
       "                                                 1    Molecule(name='H6N2 ((1,),[])', formula='H3N',...\n",
       "Benzene Dimer PD                   default       0    Molecule(name='C12H12', formula='C12H12', hash...\n",
       "                                   default1      0    Molecule(name='C12H12 ((0,),[])', formula='C6H...\n",
       "                                                 1    Molecule(name='C12H12 ((1,),[])', formula='C6H..."
      ]
     },
     "execution_count": 16,
     "metadata": {},
     "output_type": "execute_result"
    }
   ],
   "source": [
    "ds.get_molecules(stoich=['default', 'default1']).head(15)"
   ]
  },
  {
   "cell_type": "markdown",
   "metadata": {},
   "source": [
    "Counterpoise-corrected calcuations are available through `stoich=\"cp\"` and `stoich=\"cp1\"`. Counterpoise-corrected monomers contain ghost atoms:"
   ]
  },
  {
   "cell_type": "code",
   "execution_count": 17,
   "metadata": {},
   "outputs": [
    {
     "data": {
      "application/vnd.jupyter.widget-view+json": {
       "model_id": "6304b9221dcc4f42b6ab035598f2bdad",
       "version_major": 2,
       "version_minor": 0
      },
      "text/plain": [
       "NGLWidget()"
      ]
     },
     "metadata": {},
     "output_type": "display_data"
    }
   ],
   "source": [
    "ds.get_molecules(stoich=\"cp1\").loc['Adenine-Thymine Complex WC', 'molecule'][0]"
   ]
  },
  {
   "cell_type": "code",
   "execution_count": 18,
   "metadata": {
    "scrolled": false
   },
   "outputs": [
    {
     "data": {
      "application/vnd.jupyter.widget-view+json": {
       "model_id": "90c90b12ea6b40e7acfad01a57fb8191",
       "version_major": 2,
       "version_minor": 0
      },
      "text/plain": [
       "NGLWidget()"
      ]
     },
     "metadata": {},
     "output_type": "display_data"
    }
   ],
   "source": [
    "ds.get_molecules(stoich=\"cp1\").loc['Adenine-Thymine Complex WC', 'molecule'][1]"
   ]
  },
  {
   "cell_type": "markdown",
   "metadata": {},
   "source": [
    "For large datasets, you may not want to query all molecules at once. `get_molecules` accepts a subset option for selecting specific reactions:"
   ]
  },
  {
   "cell_type": "code",
   "execution_count": 19,
   "metadata": {},
   "outputs": [
    {
     "data": {
      "text/html": [
       "<div>\n",
       "<style scoped>\n",
       "    .dataframe tbody tr th:only-of-type {\n",
       "        vertical-align: middle;\n",
       "    }\n",
       "\n",
       "    .dataframe tbody tr th {\n",
       "        vertical-align: top;\n",
       "    }\n",
       "\n",
       "    .dataframe thead th {\n",
       "        text-align: right;\n",
       "    }\n",
       "</style>\n",
       "<table border=\"1\" class=\"dataframe\">\n",
       "  <thead>\n",
       "    <tr style=\"text-align: right;\">\n",
       "      <th></th>\n",
       "      <th></th>\n",
       "      <th></th>\n",
       "      <th>molecule</th>\n",
       "    </tr>\n",
       "    <tr>\n",
       "      <th>name</th>\n",
       "      <th>stoichiometry</th>\n",
       "      <th>idx</th>\n",
       "      <th></th>\n",
       "    </tr>\n",
       "  </thead>\n",
       "  <tbody>\n",
       "    <tr>\n",
       "      <th>Adenine-Thymine Complex WC</th>\n",
       "      <th>default</th>\n",
       "      <th>0</th>\n",
       "      <td>Molecule(name='C10H11N7O2', formula='C10H11N7O...</td>\n",
       "    </tr>\n",
       "  </tbody>\n",
       "</table>\n",
       "</div>"
      ],
      "text/plain": [
       "                                                                                       molecule\n",
       "name                       stoichiometry idx                                                   \n",
       "Adenine-Thymine Complex WC default       0    Molecule(name='C10H11N7O2', formula='C10H11N7O..."
      ]
     },
     "execution_count": 19,
     "metadata": {},
     "output_type": "execute_result"
    }
   ],
   "source": [
    "ds.get_molecules(subset='Adenine-Thymine Complex WC')"
   ]
  },
  {
   "cell_type": "code",
   "execution_count": 20,
   "metadata": {},
   "outputs": [
    {
     "data": {
      "text/html": [
       "<div>\n",
       "<style scoped>\n",
       "    .dataframe tbody tr th:only-of-type {\n",
       "        vertical-align: middle;\n",
       "    }\n",
       "\n",
       "    .dataframe tbody tr th {\n",
       "        vertical-align: top;\n",
       "    }\n",
       "\n",
       "    .dataframe thead th {\n",
       "        text-align: right;\n",
       "    }\n",
       "</style>\n",
       "<table border=\"1\" class=\"dataframe\">\n",
       "  <thead>\n",
       "    <tr style=\"text-align: right;\">\n",
       "      <th></th>\n",
       "      <th></th>\n",
       "      <th></th>\n",
       "      <th>molecule</th>\n",
       "    </tr>\n",
       "    <tr>\n",
       "      <th>name</th>\n",
       "      <th>stoichiometry</th>\n",
       "      <th>idx</th>\n",
       "      <th></th>\n",
       "    </tr>\n",
       "  </thead>\n",
       "  <tbody>\n",
       "    <tr>\n",
       "      <th rowspan=\"3\" valign=\"top\">Adenine-Thymine Complex WC</th>\n",
       "      <th>default</th>\n",
       "      <th>0</th>\n",
       "      <td>Molecule(name='C10H11N7O2', formula='C10H11N7O...</td>\n",
       "    </tr>\n",
       "    <tr>\n",
       "      <th rowspan=\"2\" valign=\"top\">default1</th>\n",
       "      <th>0</th>\n",
       "      <td>Molecule(name='C10H11N7O2 ((0,),[])', formula=...</td>\n",
       "    </tr>\n",
       "    <tr>\n",
       "      <th>1</th>\n",
       "      <td>Molecule(name='C10H11N7O2 ((1,),[])', formula=...</td>\n",
       "    </tr>\n",
       "    <tr>\n",
       "      <th rowspan=\"3\" valign=\"top\">Ammonia Dimer</th>\n",
       "      <th>default</th>\n",
       "      <th>0</th>\n",
       "      <td>Molecule(name='H6N2', formula='H6N2', hash='94...</td>\n",
       "    </tr>\n",
       "    <tr>\n",
       "      <th rowspan=\"2\" valign=\"top\">default1</th>\n",
       "      <th>0</th>\n",
       "      <td>Molecule(name='H6N2 ((0,),[])', formula='H3N',...</td>\n",
       "    </tr>\n",
       "    <tr>\n",
       "      <th>1</th>\n",
       "      <td>Molecule(name='H6N2 ((1,),[])', formula='H3N',...</td>\n",
       "    </tr>\n",
       "    <tr>\n",
       "      <th rowspan=\"3\" valign=\"top\">Water Dimer</th>\n",
       "      <th>default</th>\n",
       "      <th>0</th>\n",
       "      <td>Molecule(name='H4O2', formula='H4O2', hash='42...</td>\n",
       "    </tr>\n",
       "    <tr>\n",
       "      <th rowspan=\"2\" valign=\"top\">default1</th>\n",
       "      <th>0</th>\n",
       "      <td>Molecule(name='H4O2 ((0,),[])', formula='H2O',...</td>\n",
       "    </tr>\n",
       "    <tr>\n",
       "      <th>1</th>\n",
       "      <td>Molecule(name='H4O2 ((1,),[])', formula='H2O',...</td>\n",
       "    </tr>\n",
       "  </tbody>\n",
       "</table>\n",
       "</div>"
      ],
      "text/plain": [
       "                                                                                       molecule\n",
       "name                       stoichiometry idx                                                   \n",
       "Adenine-Thymine Complex WC default       0    Molecule(name='C10H11N7O2', formula='C10H11N7O...\n",
       "                           default1      0    Molecule(name='C10H11N7O2 ((0,),[])', formula=...\n",
       "                                         1    Molecule(name='C10H11N7O2 ((1,),[])', formula=...\n",
       "Ammonia Dimer              default       0    Molecule(name='H6N2', formula='H6N2', hash='94...\n",
       "                           default1      0    Molecule(name='H6N2 ((0,),[])', formula='H3N',...\n",
       "                                         1    Molecule(name='H6N2 ((1,),[])', formula='H3N',...\n",
       "Water Dimer                default       0    Molecule(name='H4O2', formula='H4O2', hash='42...\n",
       "                           default1      0    Molecule(name='H4O2 ((0,),[])', formula='H2O',...\n",
       "                                         1    Molecule(name='H4O2 ((1,),[])', formula='H2O',..."
      ]
     },
     "execution_count": 20,
     "metadata": {},
     "output_type": "execute_result"
    }
   ],
   "source": [
    "ds.get_molecules(subset=['Adenine-Thymine Complex WC', 'Ammonia Dimer', 'Water Dimer'], stoich=['default', 'default1'])"
   ]
  },
  {
   "cell_type": "markdown",
   "metadata": {},
   "source": [
    "## From an OptimizationDataset\n",
    "\n",
    "Load an `OptimizationDataset`:"
   ]
  },
  {
   "cell_type": "code",
   "execution_count": 21,
   "metadata": {
    "pycharm": {
     "name": "#%%\n"
    }
   },
   "outputs": [],
   "source": [
    "import qcportal as ptl\n",
    "client = ptl.FractalClient()\n",
    "\n",
    "client.list_collections()\n",
    "ds = client.get_collection(\"OptimizationDataset\", \"SMIRNOFF Coverage Set 1\")"
   ]
  },
  {
   "cell_type": "markdown",
   "metadata": {},
   "source": [
    "Show some available molecules:"
   ]
  },
  {
   "cell_type": "code",
   "execution_count": 22,
   "metadata": {
    "pycharm": {
     "name": "#%%\n"
    }
   },
   "outputs": [
    {
     "data": {
      "text/html": [
       "<div>\n",
       "<style scoped>\n",
       "    .dataframe tbody tr th:only-of-type {\n",
       "        vertical-align: middle;\n",
       "    }\n",
       "\n",
       "    .dataframe tbody tr th {\n",
       "        vertical-align: top;\n",
       "    }\n",
       "\n",
       "    .dataframe thead th {\n",
       "        text-align: right;\n",
       "    }\n",
       "</style>\n",
       "<table border=\"1\" class=\"dataframe\">\n",
       "  <thead>\n",
       "    <tr style=\"text-align: right;\">\n",
       "      <th></th>\n",
       "    </tr>\n",
       "  </thead>\n",
       "  <tbody>\n",
       "    <tr>\n",
       "      <th>COC(O)OC-0</th>\n",
       "    </tr>\n",
       "    <tr>\n",
       "      <th>C[S-]-0</th>\n",
       "    </tr>\n",
       "    <tr>\n",
       "      <th>CS-0</th>\n",
       "    </tr>\n",
       "    <tr>\n",
       "      <th>CO-0</th>\n",
       "    </tr>\n",
       "    <tr>\n",
       "      <th>CCO-0</th>\n",
       "    </tr>\n",
       "  </tbody>\n",
       "</table>\n",
       "</div>"
      ],
      "text/plain": [
       "Empty DataFrame\n",
       "Columns: []\n",
       "Index: [COC(O)OC-0, C[S-]-0, CS-0, CO-0, CCO-0]"
      ]
     },
     "execution_count": 22,
     "metadata": {},
     "output_type": "execute_result"
    }
   ],
   "source": [
    "ds.df.head()"
   ]
  },
  {
   "cell_type": "markdown",
   "metadata": {},
   "source": [
    "Show available specifications:"
   ]
  },
  {
   "cell_type": "code",
   "execution_count": 23,
   "metadata": {
    "pycharm": {
     "name": "#%%\n"
    }
   },
   "outputs": [
    {
     "data": {
      "text/html": [
       "<div>\n",
       "<style scoped>\n",
       "    .dataframe tbody tr th:only-of-type {\n",
       "        vertical-align: middle;\n",
       "    }\n",
       "\n",
       "    .dataframe tbody tr th {\n",
       "        vertical-align: top;\n",
       "    }\n",
       "\n",
       "    .dataframe thead th {\n",
       "        text-align: right;\n",
       "    }\n",
       "</style>\n",
       "<table border=\"1\" class=\"dataframe\">\n",
       "  <thead>\n",
       "    <tr style=\"text-align: right;\">\n",
       "      <th></th>\n",
       "      <th>Description</th>\n",
       "    </tr>\n",
       "    <tr>\n",
       "      <th>Name</th>\n",
       "      <th></th>\n",
       "    </tr>\n",
       "  </thead>\n",
       "  <tbody>\n",
       "    <tr>\n",
       "      <th>default</th>\n",
       "      <td>Standard OpenFF optimization quantum chemistry...</td>\n",
       "    </tr>\n",
       "  </tbody>\n",
       "</table>\n",
       "</div>"
      ],
      "text/plain": [
       "                                               Description\n",
       "Name                                                      \n",
       "default  Standard OpenFF optimization quantum chemistry..."
      ]
     },
     "execution_count": 23,
     "metadata": {},
     "output_type": "execute_result"
    }
   ],
   "source": [
    "ds.list_specifications()"
   ]
  },
  {
   "cell_type": "markdown",
   "metadata": {},
   "source": [
    "Obtain a specific record from a molecule and specification:"
   ]
  },
  {
   "cell_type": "code",
   "execution_count": 24,
   "metadata": {
    "pycharm": {
     "name": "#%%\n"
    }
   },
   "outputs": [],
   "source": [
    "r = ds.get_record(\"CCO-0\",\"default\")"
   ]
  },
  {
   "cell_type": "markdown",
   "metadata": {},
   "source": [
    "Get the optimized molecule:"
   ]
  },
  {
   "cell_type": "code",
   "execution_count": 25,
   "metadata": {
    "pycharm": {
     "name": "#%%\n"
    }
   },
   "outputs": [
    {
     "data": {
      "application/vnd.jupyter.widget-view+json": {
       "model_id": "f1a84f1c962947fe947a20c21178e00f",
       "version_major": 2,
       "version_minor": 0
      },
      "text/plain": [
       "NGLWidget()"
      ]
     },
     "metadata": {},
     "output_type": "display_data"
    }
   ],
   "source": [
    "r.get_final_molecule()"
   ]
  },
  {
   "cell_type": "markdown",
   "metadata": {},
   "source": [
    "Get the optimization trajectory:"
   ]
  },
  {
   "cell_type": "code",
   "execution_count": 26,
   "metadata": {
    "pycharm": {
     "name": "#%%\n"
    }
   },
   "outputs": [
    {
     "data": {
      "text/plain": [
       "[Molecule(name='C2H6O', formula='C2H6O', hash='29df3ae'),\n",
       " Molecule(name='C2H6O', formula='C2H6O', hash='93989e4'),\n",
       " Molecule(name='C2H6O', formula='C2H6O', hash='14261f7'),\n",
       " Molecule(name='C2H6O', formula='C2H6O', hash='3b6db86'),\n",
       " Molecule(name='C2H6O', formula='C2H6O', hash='b35d632'),\n",
       " Molecule(name='C2H6O', formula='C2H6O', hash='c900f12'),\n",
       " Molecule(name='C2H6O', formula='C2H6O', hash='a1e9d7a'),\n",
       " Molecule(name='C2H6O', formula='C2H6O', hash='422ad57')]"
      ]
     },
     "execution_count": 26,
     "metadata": {},
     "output_type": "execute_result"
    }
   ],
   "source": [
    "r.get_molecular_trajectory()"
   ]
  },
  {
   "cell_type": "markdown",
   "metadata": {},
   "source": [
    "## From a TorsionDriveDataset"
   ]
  },
  {
   "cell_type": "code",
   "execution_count": 27,
   "metadata": {
    "pycharm": {
     "name": "#%%\n"
    }
   },
   "outputs": [],
   "source": [
    "import qcportal as ptl\n",
    "client = ptl.FractalClient()\n",
    "\n",
    "ds = client.get_collection(\"TorsionDriveDataset\", \"SMIRNOFF Coverage Torsion Set 1\")"
   ]
  },
  {
   "cell_type": "markdown",
   "metadata": {},
   "source": [
    "Show some available torsions:"
   ]
  },
  {
   "cell_type": "code",
   "execution_count": 28,
   "metadata": {
    "pycharm": {
     "name": "#%%\n"
    }
   },
   "outputs": [
    {
     "data": {
      "text/html": [
       "<div>\n",
       "<style scoped>\n",
       "    .dataframe tbody tr th:only-of-type {\n",
       "        vertical-align: middle;\n",
       "    }\n",
       "\n",
       "    .dataframe tbody tr th {\n",
       "        vertical-align: top;\n",
       "    }\n",
       "\n",
       "    .dataframe thead th {\n",
       "        text-align: right;\n",
       "    }\n",
       "</style>\n",
       "<table border=\"1\" class=\"dataframe\">\n",
       "  <thead>\n",
       "    <tr style=\"text-align: right;\">\n",
       "      <th></th>\n",
       "    </tr>\n",
       "  </thead>\n",
       "  <tbody>\n",
       "    <tr>\n",
       "      <th>[CH3:1][O:2][CH:3]([OH:4])OC</th>\n",
       "    </tr>\n",
       "    <tr>\n",
       "      <th>[CH3:1][O:2][CH:3](O)[O:4]C</th>\n",
       "    </tr>\n",
       "    <tr>\n",
       "      <th>CO[CH:3]([OH:4])[O:2][CH3:1]</th>\n",
       "    </tr>\n",
       "    <tr>\n",
       "      <th>C[O:4][CH:3](O)[O:2][CH3:1]</th>\n",
       "    </tr>\n",
       "    <tr>\n",
       "      <th>[H:4][C:3](O)([O:2][CH3:1])OC</th>\n",
       "    </tr>\n",
       "  </tbody>\n",
       "</table>\n",
       "</div>"
      ],
      "text/plain": [
       "Empty DataFrame\n",
       "Columns: []\n",
       "Index: [[CH3:1][O:2][CH:3]([OH:4])OC, [CH3:1][O:2][CH:3](O)[O:4]C, CO[CH:3]([OH:4])[O:2][CH3:1], C[O:4][CH:3](O)[O:2][CH3:1], [H:4][C:3](O)([O:2][CH3:1])OC]"
      ]
     },
     "execution_count": 28,
     "metadata": {},
     "output_type": "execute_result"
    }
   ],
   "source": [
    "ds.df.head()  "
   ]
  },
  {
   "cell_type": "markdown",
   "metadata": {},
   "source": [
    "Show available specifications:"
   ]
  },
  {
   "cell_type": "code",
   "execution_count": 29,
   "metadata": {
    "pycharm": {
     "name": "#%%\n"
    }
   },
   "outputs": [
    {
     "data": {
      "text/html": [
       "<div>\n",
       "<style scoped>\n",
       "    .dataframe tbody tr th:only-of-type {\n",
       "        vertical-align: middle;\n",
       "    }\n",
       "\n",
       "    .dataframe tbody tr th {\n",
       "        vertical-align: top;\n",
       "    }\n",
       "\n",
       "    .dataframe thead th {\n",
       "        text-align: right;\n",
       "    }\n",
       "</style>\n",
       "<table border=\"1\" class=\"dataframe\">\n",
       "  <thead>\n",
       "    <tr style=\"text-align: right;\">\n",
       "      <th></th>\n",
       "      <th>Description</th>\n",
       "    </tr>\n",
       "    <tr>\n",
       "      <th>Name</th>\n",
       "      <th></th>\n",
       "    </tr>\n",
       "  </thead>\n",
       "  <tbody>\n",
       "    <tr>\n",
       "      <th>default</th>\n",
       "      <td>Standard OpenFF torsiondrive specification.</td>\n",
       "    </tr>\n",
       "  </tbody>\n",
       "</table>\n",
       "</div>"
      ],
      "text/plain": [
       "                                         Description\n",
       "Name                                                \n",
       "default  Standard OpenFF torsiondrive specification."
      ]
     },
     "execution_count": 29,
     "metadata": {},
     "output_type": "execute_result"
    }
   ],
   "source": [
    "ds.list_specifications()"
   ]
  },
  {
   "cell_type": "markdown",
   "metadata": {},
   "source": [
    "Get a specific torsiondrive:"
   ]
  },
  {
   "cell_type": "code",
   "execution_count": 30,
   "metadata": {
    "pycharm": {
     "name": "#%%\n"
    }
   },
   "outputs": [],
   "source": [
    "td = ds.get_record(\"CO[CH:3]([OH:4])[O:2][CH3:1]\", \"default\")"
   ]
  },
  {
   "cell_type": "markdown",
   "metadata": {},
   "source": [
    "Get molecules for each angle along the torsion scan:"
   ]
  },
  {
   "cell_type": "code",
   "execution_count": 31,
   "metadata": {
    "pycharm": {
     "name": "#%%\n"
    }
   },
   "outputs": [
    {
     "data": {
      "text/plain": [
       "{(-75,): Molecule(name='C3H8O3', formula='C3H8O3', hash='60e16ca'),\n",
       " (-90,): Molecule(name='C3H8O3', formula='C3H8O3', hash='c337c03'),\n",
       " (-60,): Molecule(name='C3H8O3', formula='C3H8O3', hash='b4ff4d4'),\n",
       " (-105,): Molecule(name='C3H8O3', formula='C3H8O3', hash='5b05d3a'),\n",
       " (-30,): Molecule(name='C3H8O3', formula='C3H8O3', hash='8737c8f'),\n",
       " (-45,): Molecule(name='C3H8O3', formula='C3H8O3', hash='240c817'),\n",
       " (-120,): Molecule(name='C3H8O3', formula='C3H8O3', hash='399d214'),\n",
       " (0,): Molecule(name='C3H8O3', formula='C3H8O3', hash='f1b0dd1'),\n",
       " (-15,): Molecule(name='C3H8O3', formula='C3H8O3', hash='05c30a0'),\n",
       " (15,): Molecule(name='C3H8O3', formula='C3H8O3', hash='f329f87'),\n",
       " (-150,): Molecule(name='C3H8O3', formula='C3H8O3', hash='1c56b54'),\n",
       " (180,): Molecule(name='C3H8O3', formula='C3H8O3', hash='d299528'),\n",
       " (-165,): Molecule(name='C3H8O3', formula='C3H8O3', hash='c81a1fc'),\n",
       " (-135,): Molecule(name='C3H8O3', formula='C3H8O3', hash='530c77d'),\n",
       " (30,): Molecule(name='C3H8O3', formula='C3H8O3', hash='99156ab'),\n",
       " (150,): Molecule(name='C3H8O3', formula='C3H8O3', hash='810b759'),\n",
       " (45,): Molecule(name='C3H8O3', formula='C3H8O3', hash='e1f13fa'),\n",
       " (165,): Molecule(name='C3H8O3', formula='C3H8O3', hash='df216e3'),\n",
       " (60,): Molecule(name='C3H8O3', formula='C3H8O3', hash='e69654b'),\n",
       " (75,): Molecule(name='C3H8O3', formula='C3H8O3', hash='5c12648'),\n",
       " (135,): Molecule(name='C3H8O3', formula='C3H8O3', hash='35f87a2'),\n",
       " (90,): Molecule(name='C3H8O3', formula='C3H8O3', hash='cdbfa17'),\n",
       " (120,): Molecule(name='C3H8O3', formula='C3H8O3', hash='5271be0'),\n",
       " (105,): Molecule(name='C3H8O3', formula='C3H8O3', hash='c0f46d7')}"
      ]
     },
     "execution_count": 31,
     "metadata": {},
     "output_type": "execute_result"
    }
   ],
   "source": [
    "td.get_final_molecules()"
   ]
  },
  {
   "cell_type": "code",
   "execution_count": 32,
   "metadata": {
    "pycharm": {
     "name": "#%%\n"
    }
   },
   "outputs": [
    {
     "data": {
      "application/vnd.jupyter.widget-view+json": {
       "model_id": "83a5d84e195f46bc929e0d76531ba0d2",
       "version_major": 2,
       "version_minor": 0
      },
      "text/plain": [
       "NGLWidget()"
      ]
     },
     "metadata": {},
     "output_type": "display_data"
    }
   ],
   "source": [
    "td.get_final_molecules()[(30,)]"
   ]
  }
 ],
 "metadata": {
  "interpreter": {
   "hash": "e22a43ad26350dfc735209d394c5333b8bb419c45038d71bfa83e47a37359431"
  },
  "kernelspec": {
   "display_name": "Python 3.9.1 64-bit ('chemgen': conda)",
   "name": "python3"
  },
  "language_info": {
   "codemirror_mode": {
    "name": "ipython",
    "version": 3
   },
   "file_extension": ".py",
   "mimetype": "text/x-python",
   "name": "python",
   "nbconvert_exporter": "python",
   "pygments_lexer": "ipython3",
   "version": "3.9.1"
  },
  "metadata": {
   "interpreter": {
    "hash": "e22a43ad26350dfc735209d394c5333b8bb419c45038d71bfa83e47a37359431"
   }
  },
  "pycharm": {
   "stem_cell": {
    "cell_type": "raw",
    "metadata": {
     "collapsed": false
    },
    "source": []
   }
  }
 },
 "nbformat": 4,
 "nbformat_minor": 1
}