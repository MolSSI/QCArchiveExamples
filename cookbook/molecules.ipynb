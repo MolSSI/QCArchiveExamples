{
 "cells": [
  {
   "cell_type": "markdown",
   "metadata": {
    "pycharm": {
     "name": "#%% md\n"
    }
   },
   "source": [
    "# Getting Molecules\n",
    "\n",
    "This example shows how to get a molecule from QCArchive in a number of contexts."
   ]
  },
  {
   "cell_type": "markdown",
   "metadata": {},
   "source": [
    "## From an ID\n",
    "\n",
    "Every molecule computed with QCArchive is assigned a unique ID.\n",
    "If a molecule's ID is known, it can be queried from the Molecules table. "
   ]
  },
  {
   "cell_type": "code",
   "execution_count": 1,
   "metadata": {
    "pycharm": {
     "name": "#%%\n"
    }
   },
   "outputs": [],
   "source": [
    "import qcportal as ptl\n",
    "client = ptl.FractalClient()"
   ]
  },
  {
   "cell_type": "markdown",
   "metadata": {},
   "source": [
    "For example, molecule 1234 is 1,2,3-trimethylbenzene."
   ]
  },
  {
   "cell_type": "code",
   "execution_count": 2,
   "metadata": {
    "pycharm": {
     "name": "#%%\n"
    }
   },
   "outputs": [
    {
     "data": {
      "application/3dmoljs_load.v0": "<div id=\"3dmolviewer_1569939780161912\"  style=\"position: relative; width: 400px; height: 400px\">\n        <p id=\"3dmolwarning_1569939780161912\" style=\"background-color:#ffcccc;color:black\">You appear to be running in JupyterLab (or JavaScript failed to load for some other reason).  You need to install the 3dmol extension: <br>\n        <tt>jupyter labextension install jupyterlab_3dmol</tt></p>\n        </div>\n<script>\n\nvar loadScriptAsync = function(uri){\n  return new Promise((resolve, reject) => {\n    var tag = document.createElement('script');\n    tag.src = uri;\n    tag.async = true;\n    tag.onload = () => {\n      resolve();\n    };\n  var firstScriptTag = document.getElementsByTagName('script')[0];\n  firstScriptTag.parentNode.insertBefore(tag, firstScriptTag);\n});\n};\n\nif(typeof $3Dmolpromise === 'undefined') {\n$3Dmolpromise = null;\n  $3Dmolpromise = loadScriptAsync('https://3dmol.csb.pitt.edu/build/3Dmol.js');\n}\n\nvar viewer_1569939780161912 = null;\nvar warn = document.getElementById(\"3dmolwarning_1569939780161912\");\nif(warn) {\n    warn.parentNode.removeChild(warn);\n}\n$3Dmolpromise.then(function() {\nviewer_1569939780161912 = $3Dmol.createViewer($(\"#3dmolviewer_1569939780161912\"),{backgroundColor:\"white\"});\n\tviewer_1569939780161912.addModel(\"21\\nC9H12\\nC                     0.776479871994     1.156134463385     0.121542591228\\nC                     0.438429690334     0.679567908122    -1.141595091975\\nC                     0.439577078821     0.423533055514     1.255585387764\\nC                    -0.363723536834    -0.465178778108    -1.279725991730\\nC                    -0.415502828385    -0.685937227907     1.160631416613\\nC                    -0.792912983429    -1.170236644458    -0.121804279943\\nC                    -0.744392084678    -0.917923156500    -2.666766549983\\nC                    -0.856925058179    -1.374181477949     2.427060703777\\nC                    -1.703936690413    -2.374380900784    -0.246989621254\\nH                     1.380610203168     2.049406423411     0.216714048921\\nH                     0.770290662964     1.232461941773    -2.011963177510\\nH                     0.769502950936     0.784464203584     2.222141623291\\nH                    -0.238962510978    -1.878436765084    -2.898916777516\\nH                    -0.447809351101    -0.177691478927    -3.439954373507\\nH                    -1.844638825192    -1.050455805875    -2.735084841327\\nH                    -1.962016543060    -1.480103641644     2.438815782834\\nH                    -0.562925111565    -0.802128403465     3.332572326307\\nH                    -0.383242656300    -2.377541231755     2.485353500027\\nH                    -2.761425129123    -2.038610393380    -0.229251405356\\nH                    -1.542976842368    -3.097214459361     0.578338572599\\nH                    -1.519884697209    -2.938478658464    -1.182927991461\\n\",\"xyz\");\n\tviewer_1569939780161912.setStyle({\"stick\": {\"radius\": 0.2}, \"sphere\": {\"scale\": 0.3}});\n\tviewer_1569939780161912.zoomTo();\nviewer_1569939780161912.render();\n});\n</script>",
      "text/html": [
       "<div id=\"3dmolviewer_1569939780161912\"  style=\"position: relative; width: 400px; height: 400px\">\n",
       "        <p id=\"3dmolwarning_1569939780161912\" style=\"background-color:#ffcccc;color:black\">You appear to be running in JupyterLab (or JavaScript failed to load for some other reason).  You need to install the 3dmol extension: <br>\n",
       "        <tt>jupyter labextension install jupyterlab_3dmol</tt></p>\n",
       "        </div>\n",
       "<script>\n",
       "\n",
       "var loadScriptAsync = function(uri){\n",
       "  return new Promise((resolve, reject) => {\n",
       "    var tag = document.createElement('script');\n",
       "    tag.src = uri;\n",
       "    tag.async = true;\n",
       "    tag.onload = () => {\n",
       "      resolve();\n",
       "    };\n",
       "  var firstScriptTag = document.getElementsByTagName('script')[0];\n",
       "  firstScriptTag.parentNode.insertBefore(tag, firstScriptTag);\n",
       "});\n",
       "};\n",
       "\n",
       "if(typeof $3Dmolpromise === 'undefined') {\n",
       "$3Dmolpromise = null;\n",
       "  $3Dmolpromise = loadScriptAsync('https://3dmol.csb.pitt.edu/build/3Dmol.js');\n",
       "}\n",
       "\n",
       "var viewer_1569939780161912 = null;\n",
       "var warn = document.getElementById(\"3dmolwarning_1569939780161912\");\n",
       "if(warn) {\n",
       "    warn.parentNode.removeChild(warn);\n",
       "}\n",
       "$3Dmolpromise.then(function() {\n",
       "viewer_1569939780161912 = $3Dmol.createViewer($(\"#3dmolviewer_1569939780161912\"),{backgroundColor:\"white\"});\n",
       "\tviewer_1569939780161912.addModel(\"21\\nC9H12\\nC                     0.776479871994     1.156134463385     0.121542591228\\nC                     0.438429690334     0.679567908122    -1.141595091975\\nC                     0.439577078821     0.423533055514     1.255585387764\\nC                    -0.363723536834    -0.465178778108    -1.279725991730\\nC                    -0.415502828385    -0.685937227907     1.160631416613\\nC                    -0.792912983429    -1.170236644458    -0.121804279943\\nC                    -0.744392084678    -0.917923156500    -2.666766549983\\nC                    -0.856925058179    -1.374181477949     2.427060703777\\nC                    -1.703936690413    -2.374380900784    -0.246989621254\\nH                     1.380610203168     2.049406423411     0.216714048921\\nH                     0.770290662964     1.232461941773    -2.011963177510\\nH                     0.769502950936     0.784464203584     2.222141623291\\nH                    -0.238962510978    -1.878436765084    -2.898916777516\\nH                    -0.447809351101    -0.177691478927    -3.439954373507\\nH                    -1.844638825192    -1.050455805875    -2.735084841327\\nH                    -1.962016543060    -1.480103641644     2.438815782834\\nH                    -0.562925111565    -0.802128403465     3.332572326307\\nH                    -0.383242656300    -2.377541231755     2.485353500027\\nH                    -2.761425129123    -2.038610393380    -0.229251405356\\nH                    -1.542976842368    -3.097214459361     0.578338572599\\nH                    -1.519884697209    -2.938478658464    -1.182927991461\\n\",\"xyz\");\n",
       "\tviewer_1569939780161912.setStyle({\"stick\": {\"radius\": 0.2}, \"sphere\": {\"scale\": 0.3}});\n",
       "\tviewer_1569939780161912.zoomTo();\n",
       "viewer_1569939780161912.render();\n",
       "});\n",
       "</script>"
      ]
     },
     "metadata": {},
     "output_type": "display_data"
    },
    {
     "data": {
      "text/plain": [
       "<Molecule(name='C9H12' formula='C9H12' hash='572b510')>"
      ]
     },
     "execution_count": 2,
     "metadata": {},
     "output_type": "execute_result"
    }
   ],
   "source": [
    "mol = client.query_molecules(1234)[0]\n",
    "mol "
   ]
  },
  {
   "cell_type": "code",
   "execution_count": 3,
   "metadata": {
    "pycharm": {
     "name": "#%%\n"
    }
   },
   "outputs": [
    {
     "name": "stdout",
     "output_type": "stream",
     "text": [
      "    Geometry (in Angstrom), charge = 0.0, multiplicity = 1:\n",
      "\n",
      "       Center              X                  Y                   Z       \n",
      "    ------------   -----------------  -----------------  -----------------\n",
      "    C                 0.776479871994     1.156134463385     0.121542591228\n",
      "    C                 0.438429690334     0.679567908122    -1.141595091975\n",
      "    C                 0.439577078821     0.423533055514     1.255585387764\n",
      "    C                -0.363723536834    -0.465178778108    -1.279725991730\n",
      "    C                -0.415502828385    -0.685937227907     1.160631416613\n",
      "    C                -0.792912983429    -1.170236644458    -0.121804279943\n",
      "    C                -0.744392084678    -0.917923156500    -2.666766549983\n",
      "    C                -0.856925058179    -1.374181477949     2.427060703777\n",
      "    C                -1.703936690413    -2.374380900784    -0.246989621254\n",
      "    H                 1.380610203168     2.049406423411     0.216714048921\n",
      "    H                 0.770290662964     1.232461941773    -2.011963177510\n",
      "    H                 0.769502950936     0.784464203584     2.222141623291\n",
      "    H                -0.238962510978    -1.878436765084    -2.898916777516\n",
      "    H                -0.447809351101    -0.177691478927    -3.439954373507\n",
      "    H                -1.844638825192    -1.050455805875    -2.735084841327\n",
      "    H                -1.962016543060    -1.480103641644     2.438815782834\n",
      "    H                -0.562925111565    -0.802128403465     3.332572326307\n",
      "    H                -0.383242656300    -2.377541231755     2.485353500027\n",
      "    H                -2.761425129123    -2.038610393380    -0.229251405356\n",
      "    H                -1.542976842368    -3.097214459361     0.578338572599\n",
      "    H                -1.519884697209    -2.938478658464    -1.182927991461\n",
      "\n"
     ]
    }
   ],
   "source": [
    "print(mol)"
   ]
  },
  {
   "cell_type": "markdown",
   "metadata": {},
   "source": [
    "The following sections show how to find molecule IDs from Collections."
   ]
  },
  {
   "cell_type": "markdown",
   "metadata": {},
   "source": [
    "## From a Dataset\n",
    "Load a `Dataset`:"
   ]
  },
  {
   "cell_type": "code",
   "execution_count": 81,
   "metadata": {},
   "outputs": [],
   "source": [
    "import qcportal as ptl\n",
    "client = ptl.FractalClient()\n",
    "\n",
    "ds = client.get_collection(\"Dataset\", \"SMIRNOFF Coverage Set 1\")"
   ]
  },
  {
   "cell_type": "markdown",
   "metadata": {},
   "source": [
    "`get_molecules` returns molecules corresponding to row of the `Dataset`:"
   ]
  },
  {
   "cell_type": "code",
   "execution_count": 82,
   "metadata": {},
   "outputs": [
    {
     "data": {
      "text/html": [
       "<div>\n",
       "<style scoped>\n",
       "    .dataframe tbody tr th:only-of-type {\n",
       "        vertical-align: middle;\n",
       "    }\n",
       "\n",
       "    .dataframe tbody tr th {\n",
       "        vertical-align: top;\n",
       "    }\n",
       "\n",
       "    .dataframe thead th {\n",
       "        text-align: right;\n",
       "    }\n",
       "</style>\n",
       "<table border=\"1\" class=\"dataframe\">\n",
       "  <thead>\n",
       "    <tr style=\"text-align: right;\">\n",
       "      <th></th>\n",
       "      <th>molecule</th>\n",
       "    </tr>\n",
       "    <tr>\n",
       "      <th>index</th>\n",
       "      <th></th>\n",
       "    </tr>\n",
       "  </thead>\n",
       "  <tbody>\n",
       "    <tr>\n",
       "      <td>C(CBr)c1n[nH]nn1-1</td>\n",
       "      <td>Geometry (in Angstrom), charge = 0.0, mult...</td>\n",
       "    </tr>\n",
       "    <tr>\n",
       "      <td>C(CBr)c1n[nH]nn1-2</td>\n",
       "      <td>Geometry (in Angstrom), charge = 0.0, mult...</td>\n",
       "    </tr>\n",
       "    <tr>\n",
       "      <td>C(CBr)c1n[nH]nn1-3</td>\n",
       "      <td>Geometry (in Angstrom), charge = 0.0, mult...</td>\n",
       "    </tr>\n",
       "    <tr>\n",
       "      <td>C(CBr)c1n[n-]nn1-0</td>\n",
       "      <td>Geometry (in Angstrom), charge = -1.0, mul...</td>\n",
       "    </tr>\n",
       "    <tr>\n",
       "      <td>C(CBr)c1n[n-]nn1-1</td>\n",
       "      <td>Geometry (in Angstrom), charge = -1.0, mul...</td>\n",
       "    </tr>\n",
       "    <tr>\n",
       "      <td>...</td>\n",
       "      <td>...</td>\n",
       "    </tr>\n",
       "    <tr>\n",
       "      <td>CSSCCN=C=S-7</td>\n",
       "      <td>Geometry (in Angstrom), charge = 0.0, mult...</td>\n",
       "    </tr>\n",
       "    <tr>\n",
       "      <td>CSSCCN=C=S-8</td>\n",
       "      <td>Geometry (in Angstrom), charge = 0.0, mult...</td>\n",
       "    </tr>\n",
       "    <tr>\n",
       "      <td>CSSCCN=C=S-9</td>\n",
       "      <td>Geometry (in Angstrom), charge = 0.0, mult...</td>\n",
       "    </tr>\n",
       "    <tr>\n",
       "      <td>CSSCCN=C=S-10</td>\n",
       "      <td>Geometry (in Angstrom), charge = 0.0, mult...</td>\n",
       "    </tr>\n",
       "    <tr>\n",
       "      <td>CSSCCN=C=S-11</td>\n",
       "      <td>Geometry (in Angstrom), charge = 0.0, mult...</td>\n",
       "    </tr>\n",
       "  </tbody>\n",
       "</table>\n",
       "<p>1109 rows × 1 columns</p>\n",
       "</div>"
      ],
      "text/plain": [
       "                                                             molecule\n",
       "index                                                                \n",
       "C(CBr)c1n[nH]nn1-1      Geometry (in Angstrom), charge = 0.0, mult...\n",
       "C(CBr)c1n[nH]nn1-2      Geometry (in Angstrom), charge = 0.0, mult...\n",
       "C(CBr)c1n[nH]nn1-3      Geometry (in Angstrom), charge = 0.0, mult...\n",
       "C(CBr)c1n[n-]nn1-0      Geometry (in Angstrom), charge = -1.0, mul...\n",
       "C(CBr)c1n[n-]nn1-1      Geometry (in Angstrom), charge = -1.0, mul...\n",
       "...                                                               ...\n",
       "CSSCCN=C=S-7            Geometry (in Angstrom), charge = 0.0, mult...\n",
       "CSSCCN=C=S-8            Geometry (in Angstrom), charge = 0.0, mult...\n",
       "CSSCCN=C=S-9            Geometry (in Angstrom), charge = 0.0, mult...\n",
       "CSSCCN=C=S-10           Geometry (in Angstrom), charge = 0.0, mult...\n",
       "CSSCCN=C=S-11           Geometry (in Angstrom), charge = 0.0, mult...\n",
       "\n",
       "[1109 rows x 1 columns]"
      ]
     },
     "execution_count": 82,
     "metadata": {},
     "output_type": "execute_result"
    }
   ],
   "source": [
    "molecules = ds.get_molecules()\n",
    "molecules"
   ]
  },
  {
   "cell_type": "markdown",
   "metadata": {},
   "source": [
    "Individual `Molecule` objects may be picked out of the dataframe:"
   ]
  },
  {
   "cell_type": "code",
   "execution_count": 83,
   "metadata": {
    "scrolled": false
   },
   "outputs": [
    {
     "data": {
      "application/3dmoljs_load.v0": "<div id=\"3dmolviewer_1569948849012813\"  style=\"position: relative; width: 400px; height: 400px\">\n        <p id=\"3dmolwarning_1569948849012813\" style=\"background-color:#ffcccc;color:black\">You appear to be running in JupyterLab (or JavaScript failed to load for some other reason).  You need to install the 3dmol extension: <br>\n        <tt>jupyter labextension install jupyterlab_3dmol</tt></p>\n        </div>\n<script>\n\nvar loadScriptAsync = function(uri){\n  return new Promise((resolve, reject) => {\n    var tag = document.createElement('script');\n    tag.src = uri;\n    tag.async = true;\n    tag.onload = () => {\n      resolve();\n    };\n  var firstScriptTag = document.getElementsByTagName('script')[0];\n  firstScriptTag.parentNode.insertBefore(tag, firstScriptTag);\n});\n};\n\nif(typeof $3Dmolpromise === 'undefined') {\n$3Dmolpromise = null;\n  $3Dmolpromise = loadScriptAsync('https://3dmol.csb.pitt.edu/build/3Dmol.js');\n}\n\nvar viewer_1569948849012813 = null;\nvar warn = document.getElementById(\"3dmolwarning_1569948849012813\");\nif(warn) {\n    warn.parentNode.removeChild(warn);\n}\n$3Dmolpromise.then(function() {\nviewer_1569948849012813 = $3Dmol.createViewer($(\"#3dmolviewer_1569948849012813\"),{backgroundColor:\"white\"});\n\tviewer_1569948849012813.addModel(\"12\\nBrC3H4N4\\nC                     0.084231793092     0.077978648871    -1.851350596718\\nC                     0.203211658466    -0.330465384157    -0.411858781818\\nC                    -0.384454472112     0.786298813348     0.436688639101\\nN                     0.484211610176     0.991228487962    -3.730433815266\\nN                     1.012675786305     0.803221889962    -2.501284983217\\nN                    -0.994415463005    -0.177292024218    -2.614087969389\\nN                    -0.708602633980     0.408663615111    -3.797410187289\\nBr                   -0.295089781788     0.379169272387     2.420162645998\\nH                     1.253053555274    -0.485533224968    -0.147166690587\\nH                    -0.345818175023    -1.259798786675    -0.235257291525\\nH                     0.164685086271     1.719423304905     0.327575203444\\nH                    -1.443720840415     0.939387277387     0.239947500271\\n\",\"xyz\");\n\tviewer_1569948849012813.setStyle({\"stick\": {\"radius\": 0.2}, \"sphere\": {\"scale\": 0.3}});\n\tviewer_1569948849012813.zoomTo();\nviewer_1569948849012813.render();\n});\n</script>",
      "text/html": [
       "<div id=\"3dmolviewer_1569948849012813\"  style=\"position: relative; width: 400px; height: 400px\">\n",
       "        <p id=\"3dmolwarning_1569948849012813\" style=\"background-color:#ffcccc;color:black\">You appear to be running in JupyterLab (or JavaScript failed to load for some other reason).  You need to install the 3dmol extension: <br>\n",
       "        <tt>jupyter labextension install jupyterlab_3dmol</tt></p>\n",
       "        </div>\n",
       "<script>\n",
       "\n",
       "var loadScriptAsync = function(uri){\n",
       "  return new Promise((resolve, reject) => {\n",
       "    var tag = document.createElement('script');\n",
       "    tag.src = uri;\n",
       "    tag.async = true;\n",
       "    tag.onload = () => {\n",
       "      resolve();\n",
       "    };\n",
       "  var firstScriptTag = document.getElementsByTagName('script')[0];\n",
       "  firstScriptTag.parentNode.insertBefore(tag, firstScriptTag);\n",
       "});\n",
       "};\n",
       "\n",
       "if(typeof $3Dmolpromise === 'undefined') {\n",
       "$3Dmolpromise = null;\n",
       "  $3Dmolpromise = loadScriptAsync('https://3dmol.csb.pitt.edu/build/3Dmol.js');\n",
       "}\n",
       "\n",
       "var viewer_1569948849012813 = null;\n",
       "var warn = document.getElementById(\"3dmolwarning_1569948849012813\");\n",
       "if(warn) {\n",
       "    warn.parentNode.removeChild(warn);\n",
       "}\n",
       "$3Dmolpromise.then(function() {\n",
       "viewer_1569948849012813 = $3Dmol.createViewer($(\"#3dmolviewer_1569948849012813\"),{backgroundColor:\"white\"});\n",
       "\tviewer_1569948849012813.addModel(\"12\\nBrC3H4N4\\nC                     0.084231793092     0.077978648871    -1.851350596718\\nC                     0.203211658466    -0.330465384157    -0.411858781818\\nC                    -0.384454472112     0.786298813348     0.436688639101\\nN                     0.484211610176     0.991228487962    -3.730433815266\\nN                     1.012675786305     0.803221889962    -2.501284983217\\nN                    -0.994415463005    -0.177292024218    -2.614087969389\\nN                    -0.708602633980     0.408663615111    -3.797410187289\\nBr                   -0.295089781788     0.379169272387     2.420162645998\\nH                     1.253053555274    -0.485533224968    -0.147166690587\\nH                    -0.345818175023    -1.259798786675    -0.235257291525\\nH                     0.164685086271     1.719423304905     0.327575203444\\nH                    -1.443720840415     0.939387277387     0.239947500271\\n\",\"xyz\");\n",
       "\tviewer_1569948849012813.setStyle({\"stick\": {\"radius\": 0.2}, \"sphere\": {\"scale\": 0.3}});\n",
       "\tviewer_1569948849012813.zoomTo();\n",
       "viewer_1569948849012813.render();\n",
       "});\n",
       "</script>"
      ]
     },
     "metadata": {},
     "output_type": "display_data"
    },
    {
     "data": {
      "text/plain": [
       "<Molecule(name='BrC3H4N4' formula='BrC3H4N4' hash='9fd48c6')>"
      ]
     },
     "execution_count": 83,
     "metadata": {},
     "output_type": "execute_result"
    }
   ],
   "source": [
    "molecules.loc[\"C(CBr)c1n[n-]nn1-0\", \"molecule\"]"
   ]
  },
  {
   "cell_type": "markdown",
   "metadata": {},
   "source": [
    "For large datasets, you may not want to query all molecules at once. `get_molecules` accepts a subset option for selecting specific molecules:"
   ]
  },
  {
   "cell_type": "code",
   "execution_count": 84,
   "metadata": {},
   "outputs": [
    {
     "data": {
      "text/html": [
       "<div>\n",
       "<style scoped>\n",
       "    .dataframe tbody tr th:only-of-type {\n",
       "        vertical-align: middle;\n",
       "    }\n",
       "\n",
       "    .dataframe tbody tr th {\n",
       "        vertical-align: top;\n",
       "    }\n",
       "\n",
       "    .dataframe thead th {\n",
       "        text-align: right;\n",
       "    }\n",
       "</style>\n",
       "<table border=\"1\" class=\"dataframe\">\n",
       "  <thead>\n",
       "    <tr style=\"text-align: right;\">\n",
       "      <th></th>\n",
       "      <th>molecule</th>\n",
       "    </tr>\n",
       "    <tr>\n",
       "      <th>index</th>\n",
       "      <th></th>\n",
       "    </tr>\n",
       "  </thead>\n",
       "  <tbody>\n",
       "    <tr>\n",
       "      <td>C(CBr)c1n[n-]nn1-0</td>\n",
       "      <td>Geometry (in Angstrom), charge = -1.0, mul...</td>\n",
       "    </tr>\n",
       "    <tr>\n",
       "      <td>CSSCCN=C=S-10</td>\n",
       "      <td>Geometry (in Angstrom), charge = 0.0, mult...</td>\n",
       "    </tr>\n",
       "  </tbody>\n",
       "</table>\n",
       "</div>"
      ],
      "text/plain": [
       "                                                             molecule\n",
       "index                                                                \n",
       "C(CBr)c1n[n-]nn1-0      Geometry (in Angstrom), charge = -1.0, mul...\n",
       "CSSCCN=C=S-10           Geometry (in Angstrom), charge = 0.0, mult..."
      ]
     },
     "execution_count": 84,
     "metadata": {},
     "output_type": "execute_result"
    }
   ],
   "source": [
    "ds.get_molecules(subset=['C(CBr)c1n[n-]nn1-0','CSSCCN=C=S-10'])"
   ]
  },
  {
   "cell_type": "markdown",
   "metadata": {},
   "source": [
    "If a single string is provided for `subset`, the `Molecule` object is returned directly. "
   ]
  },
  {
   "cell_type": "code",
   "execution_count": 86,
   "metadata": {},
   "outputs": [
    {
     "data": {
      "application/3dmoljs_load.v0": "<div id=\"3dmolviewer_1569948926554484\"  style=\"position: relative; width: 400px; height: 400px\">\n        <p id=\"3dmolwarning_1569948926554484\" style=\"background-color:#ffcccc;color:black\">You appear to be running in JupyterLab (or JavaScript failed to load for some other reason).  You need to install the 3dmol extension: <br>\n        <tt>jupyter labextension install jupyterlab_3dmol</tt></p>\n        </div>\n<script>\n\nvar loadScriptAsync = function(uri){\n  return new Promise((resolve, reject) => {\n    var tag = document.createElement('script');\n    tag.src = uri;\n    tag.async = true;\n    tag.onload = () => {\n      resolve();\n    };\n  var firstScriptTag = document.getElementsByTagName('script')[0];\n  firstScriptTag.parentNode.insertBefore(tag, firstScriptTag);\n});\n};\n\nif(typeof $3Dmolpromise === 'undefined') {\n$3Dmolpromise = null;\n  $3Dmolpromise = loadScriptAsync('https://3dmol.csb.pitt.edu/build/3Dmol.js');\n}\n\nvar viewer_1569948926554484 = null;\nvar warn = document.getElementById(\"3dmolwarning_1569948926554484\");\nif(warn) {\n    warn.parentNode.removeChild(warn);\n}\n$3Dmolpromise.then(function() {\nviewer_1569948926554484 = $3Dmol.createViewer($(\"#3dmolviewer_1569948926554484\"),{backgroundColor:\"white\"});\n\tviewer_1569948926554484.addModel(\"15\\nC4H7NS3\\nC                     3.982986020356    -3.096297860931     5.379296551524\\nC                     1.700267338592    -5.255039286497     3.937781718606\\nC                     4.414397487350    -2.316062545275     3.025797470316\\nC                     3.065519612582    -1.714163807316     2.621485835044\\nN                     4.355778273429    -3.087402418478     4.238889943938\\nS                     3.524807933947    -3.250045986697     6.891476915389\\nS                     0.875155472383    -3.639446762866     3.685146766076\\nS                     1.811005951548    -2.888973722940     1.971104949982\\nH                     1.248399103033    -5.680010423415     4.839018605294\\nH                     2.771851592373    -5.133617823932     4.094028709121\\nH                     1.511490819501    -5.917475886772     3.091137324772\\nH                     5.137587573780    -1.502707287445     3.172127960367\\nH                     4.794544441092    -2.956764207642     2.225939035997\\nH                     2.627728771436    -1.149590451618     3.448380165894\\nH                     3.238422863269    -1.019764247337     1.791375561990\\n\",\"xyz\");\n\tviewer_1569948926554484.setStyle({\"stick\": {\"radius\": 0.2}, \"sphere\": {\"scale\": 0.3}});\n\tviewer_1569948926554484.zoomTo();\nviewer_1569948926554484.render();\n});\n</script>",
      "text/html": [
       "<div id=\"3dmolviewer_1569948926554484\"  style=\"position: relative; width: 400px; height: 400px\">\n",
       "        <p id=\"3dmolwarning_1569948926554484\" style=\"background-color:#ffcccc;color:black\">You appear to be running in JupyterLab (or JavaScript failed to load for some other reason).  You need to install the 3dmol extension: <br>\n",
       "        <tt>jupyter labextension install jupyterlab_3dmol</tt></p>\n",
       "        </div>\n",
       "<script>\n",
       "\n",
       "var loadScriptAsync = function(uri){\n",
       "  return new Promise((resolve, reject) => {\n",
       "    var tag = document.createElement('script');\n",
       "    tag.src = uri;\n",
       "    tag.async = true;\n",
       "    tag.onload = () => {\n",
       "      resolve();\n",
       "    };\n",
       "  var firstScriptTag = document.getElementsByTagName('script')[0];\n",
       "  firstScriptTag.parentNode.insertBefore(tag, firstScriptTag);\n",
       "});\n",
       "};\n",
       "\n",
       "if(typeof $3Dmolpromise === 'undefined') {\n",
       "$3Dmolpromise = null;\n",
       "  $3Dmolpromise = loadScriptAsync('https://3dmol.csb.pitt.edu/build/3Dmol.js');\n",
       "}\n",
       "\n",
       "var viewer_1569948926554484 = null;\n",
       "var warn = document.getElementById(\"3dmolwarning_1569948926554484\");\n",
       "if(warn) {\n",
       "    warn.parentNode.removeChild(warn);\n",
       "}\n",
       "$3Dmolpromise.then(function() {\n",
       "viewer_1569948926554484 = $3Dmol.createViewer($(\"#3dmolviewer_1569948926554484\"),{backgroundColor:\"white\"});\n",
       "\tviewer_1569948926554484.addModel(\"15\\nC4H7NS3\\nC                     3.982986020356    -3.096297860931     5.379296551524\\nC                     1.700267338592    -5.255039286497     3.937781718606\\nC                     4.414397487350    -2.316062545275     3.025797470316\\nC                     3.065519612582    -1.714163807316     2.621485835044\\nN                     4.355778273429    -3.087402418478     4.238889943938\\nS                     3.524807933947    -3.250045986697     6.891476915389\\nS                     0.875155472383    -3.639446762866     3.685146766076\\nS                     1.811005951548    -2.888973722940     1.971104949982\\nH                     1.248399103033    -5.680010423415     4.839018605294\\nH                     2.771851592373    -5.133617823932     4.094028709121\\nH                     1.511490819501    -5.917475886772     3.091137324772\\nH                     5.137587573780    -1.502707287445     3.172127960367\\nH                     4.794544441092    -2.956764207642     2.225939035997\\nH                     2.627728771436    -1.149590451618     3.448380165894\\nH                     3.238422863269    -1.019764247337     1.791375561990\\n\",\"xyz\");\n",
       "\tviewer_1569948926554484.setStyle({\"stick\": {\"radius\": 0.2}, \"sphere\": {\"scale\": 0.3}});\n",
       "\tviewer_1569948926554484.zoomTo();\n",
       "viewer_1569948926554484.render();\n",
       "});\n",
       "</script>"
      ]
     },
     "metadata": {},
     "output_type": "display_data"
    },
    {
     "data": {
      "text/plain": [
       "<Molecule(name='C4H7NS3' formula='C4H7NS3' hash='fc1a1d6')>"
      ]
     },
     "execution_count": 86,
     "metadata": {},
     "output_type": "execute_result"
    }
   ],
   "source": [
    "ds.get_molecules(subset='CSSCCN=C=S-10')"
   ]
  },
  {
   "cell_type": "markdown",
   "metadata": {},
   "source": [
    "## From a ReactionDataset\n",
    "\n",
    "Load a `ReactionDataset`:"
   ]
  },
  {
   "cell_type": "code",
   "execution_count": 12,
   "metadata": {
    "pycharm": {
     "name": "#%%\n"
    }
   },
   "outputs": [],
   "source": [
    "import qcportal as ptl\n",
    "client = ptl.FractalClient()\n",
    "\n",
    "ds = client.get_collection(\"ReactionDataset\", \"S22\")"
   ]
  },
  {
   "cell_type": "markdown",
   "metadata": {},
   "source": [
    "`get_molecules` returns molecules corresponding to each reaction. By default, the final molecule is returned for every reaction:"
   ]
  },
  {
   "cell_type": "code",
   "execution_count": 24,
   "metadata": {
    "pycharm": {
     "name": "#%%\n"
    }
   },
   "outputs": [
    {
     "data": {
      "text/html": [
       "<div>\n",
       "<style scoped>\n",
       "    .dataframe tbody tr th:only-of-type {\n",
       "        vertical-align: middle;\n",
       "    }\n",
       "\n",
       "    .dataframe tbody tr th {\n",
       "        vertical-align: top;\n",
       "    }\n",
       "\n",
       "    .dataframe thead th {\n",
       "        text-align: right;\n",
       "    }\n",
       "</style>\n",
       "<table border=\"1\" class=\"dataframe\">\n",
       "  <thead>\n",
       "    <tr style=\"text-align: right;\">\n",
       "      <th></th>\n",
       "      <th></th>\n",
       "      <th></th>\n",
       "      <th>molecule</th>\n",
       "    </tr>\n",
       "    <tr>\n",
       "      <th>name</th>\n",
       "      <th>stoichiometry</th>\n",
       "      <th>idx</th>\n",
       "      <th></th>\n",
       "    </tr>\n",
       "  </thead>\n",
       "  <tbody>\n",
       "    <tr>\n",
       "      <td>2-Pyridone-2-Aminopyridine Complex</td>\n",
       "      <td>default</td>\n",
       "      <td>0</td>\n",
       "      <td>Geometry (in Angstrom), charge = 0.0, mult...</td>\n",
       "    </tr>\n",
       "    <tr>\n",
       "      <td>Adenine-Thymine Complex Stack</td>\n",
       "      <td>default</td>\n",
       "      <td>0</td>\n",
       "      <td>Geometry (in Angstrom), charge = 0.0, mult...</td>\n",
       "    </tr>\n",
       "    <tr>\n",
       "      <td>Adenine-Thymine Complex WC</td>\n",
       "      <td>default</td>\n",
       "      <td>0</td>\n",
       "      <td>Geometry (in Angstrom), charge = 0.0, mult...</td>\n",
       "    </tr>\n",
       "    <tr>\n",
       "      <td>Ammonia Dimer</td>\n",
       "      <td>default</td>\n",
       "      <td>0</td>\n",
       "      <td>Geometry (in Angstrom), charge = 0.0, mult...</td>\n",
       "    </tr>\n",
       "    <tr>\n",
       "      <td>Benzene Dimer PD</td>\n",
       "      <td>default</td>\n",
       "      <td>0</td>\n",
       "      <td>Geometry (in Angstrom), charge = 0.0, mult...</td>\n",
       "    </tr>\n",
       "    <tr>\n",
       "      <td>Benzene Dimer T-Shape</td>\n",
       "      <td>default</td>\n",
       "      <td>0</td>\n",
       "      <td>Geometry (in Angstrom), charge = 0.0, mult...</td>\n",
       "    </tr>\n",
       "    <tr>\n",
       "      <td>Benzene-Ammonia Complex</td>\n",
       "      <td>default</td>\n",
       "      <td>0</td>\n",
       "      <td>Geometry (in Angstrom), charge = 0.0, mult...</td>\n",
       "    </tr>\n",
       "    <tr>\n",
       "      <td>Benzene-HCN Complex</td>\n",
       "      <td>default</td>\n",
       "      <td>0</td>\n",
       "      <td>Geometry (in Angstrom), charge = 0.0, mult...</td>\n",
       "    </tr>\n",
       "    <tr>\n",
       "      <td>Benzene-Methane Complex</td>\n",
       "      <td>default</td>\n",
       "      <td>0</td>\n",
       "      <td>Geometry (in Angstrom), charge = 0.0, mult...</td>\n",
       "    </tr>\n",
       "    <tr>\n",
       "      <td>Benzene-Water Complex</td>\n",
       "      <td>default</td>\n",
       "      <td>0</td>\n",
       "      <td>Geometry (in Angstrom), charge = 0.0, mult...</td>\n",
       "    </tr>\n",
       "    <tr>\n",
       "      <td>Ethene Dimer</td>\n",
       "      <td>default</td>\n",
       "      <td>0</td>\n",
       "      <td>Geometry (in Angstrom), charge = 0.0, mult...</td>\n",
       "    </tr>\n",
       "    <tr>\n",
       "      <td>Ethene-Ethine Complex</td>\n",
       "      <td>default</td>\n",
       "      <td>0</td>\n",
       "      <td>Geometry (in Angstrom), charge = 0.0, mult...</td>\n",
       "    </tr>\n",
       "    <tr>\n",
       "      <td>Formamide Dimer</td>\n",
       "      <td>default</td>\n",
       "      <td>0</td>\n",
       "      <td>Geometry (in Angstrom), charge = 0.0, mult...</td>\n",
       "    </tr>\n",
       "    <tr>\n",
       "      <td>Formic Acid Dimer</td>\n",
       "      <td>default</td>\n",
       "      <td>0</td>\n",
       "      <td>Geometry (in Angstrom), charge = 0.0, mult...</td>\n",
       "    </tr>\n",
       "    <tr>\n",
       "      <td>Indole-Benzene Complex Stack</td>\n",
       "      <td>default</td>\n",
       "      <td>0</td>\n",
       "      <td>Geometry (in Angstrom), charge = 0.0, mult...</td>\n",
       "    </tr>\n",
       "    <tr>\n",
       "      <td>Indole-Benzene Complex T-Shape</td>\n",
       "      <td>default</td>\n",
       "      <td>0</td>\n",
       "      <td>Geometry (in Angstrom), charge = 0.0, mult...</td>\n",
       "    </tr>\n",
       "    <tr>\n",
       "      <td>Methane Dimer</td>\n",
       "      <td>default</td>\n",
       "      <td>0</td>\n",
       "      <td>Geometry (in Angstrom), charge = 0.0, mult...</td>\n",
       "    </tr>\n",
       "    <tr>\n",
       "      <td>Phenol Dimer</td>\n",
       "      <td>default</td>\n",
       "      <td>0</td>\n",
       "      <td>Geometry (in Angstrom), charge = 0.0, mult...</td>\n",
       "    </tr>\n",
       "    <tr>\n",
       "      <td>Pyrazine Dimer</td>\n",
       "      <td>default</td>\n",
       "      <td>0</td>\n",
       "      <td>Geometry (in Angstrom), charge = 0.0, mult...</td>\n",
       "    </tr>\n",
       "    <tr>\n",
       "      <td>Uracil Dimer HB</td>\n",
       "      <td>default</td>\n",
       "      <td>0</td>\n",
       "      <td>Geometry (in Angstrom), charge = 0.0, mult...</td>\n",
       "    </tr>\n",
       "    <tr>\n",
       "      <td>Uracil Dimer Stack</td>\n",
       "      <td>default</td>\n",
       "      <td>0</td>\n",
       "      <td>Geometry (in Angstrom), charge = 0.0, mult...</td>\n",
       "    </tr>\n",
       "    <tr>\n",
       "      <td>Water Dimer</td>\n",
       "      <td>default</td>\n",
       "      <td>0</td>\n",
       "      <td>Geometry (in Angstrom), charge = 0.0, mult...</td>\n",
       "    </tr>\n",
       "  </tbody>\n",
       "</table>\n",
       "</div>"
      ],
      "text/plain": [
       "                                                                                               molecule\n",
       "name                               stoichiometry idx                                                   \n",
       "2-Pyridone-2-Aminopyridine Complex default       0        Geometry (in Angstrom), charge = 0.0, mult...\n",
       "Adenine-Thymine Complex Stack      default       0        Geometry (in Angstrom), charge = 0.0, mult...\n",
       "Adenine-Thymine Complex WC         default       0        Geometry (in Angstrom), charge = 0.0, mult...\n",
       "Ammonia Dimer                      default       0        Geometry (in Angstrom), charge = 0.0, mult...\n",
       "Benzene Dimer PD                   default       0        Geometry (in Angstrom), charge = 0.0, mult...\n",
       "Benzene Dimer T-Shape              default       0        Geometry (in Angstrom), charge = 0.0, mult...\n",
       "Benzene-Ammonia Complex            default       0        Geometry (in Angstrom), charge = 0.0, mult...\n",
       "Benzene-HCN Complex                default       0        Geometry (in Angstrom), charge = 0.0, mult...\n",
       "Benzene-Methane Complex            default       0        Geometry (in Angstrom), charge = 0.0, mult...\n",
       "Benzene-Water Complex              default       0        Geometry (in Angstrom), charge = 0.0, mult...\n",
       "Ethene Dimer                       default       0        Geometry (in Angstrom), charge = 0.0, mult...\n",
       "Ethene-Ethine Complex              default       0        Geometry (in Angstrom), charge = 0.0, mult...\n",
       "Formamide Dimer                    default       0        Geometry (in Angstrom), charge = 0.0, mult...\n",
       "Formic Acid Dimer                  default       0        Geometry (in Angstrom), charge = 0.0, mult...\n",
       "Indole-Benzene Complex Stack       default       0        Geometry (in Angstrom), charge = 0.0, mult...\n",
       "Indole-Benzene Complex T-Shape     default       0        Geometry (in Angstrom), charge = 0.0, mult...\n",
       "Methane Dimer                      default       0        Geometry (in Angstrom), charge = 0.0, mult...\n",
       "Phenol Dimer                       default       0        Geometry (in Angstrom), charge = 0.0, mult...\n",
       "Pyrazine Dimer                     default       0        Geometry (in Angstrom), charge = 0.0, mult...\n",
       "Uracil Dimer HB                    default       0        Geometry (in Angstrom), charge = 0.0, mult...\n",
       "Uracil Dimer Stack                 default       0        Geometry (in Angstrom), charge = 0.0, mult...\n",
       "Water Dimer                        default       0        Geometry (in Angstrom), charge = 0.0, mult..."
      ]
     },
     "execution_count": 24,
     "metadata": {},
     "output_type": "execute_result"
    }
   ],
   "source": [
    "dimers = ds.get_molecules()\n",
    "dimers"
   ]
  },
  {
   "cell_type": "markdown",
   "metadata": {},
   "source": [
    "Individual `Molecule` objects may be picked out of the dataframe:"
   ]
  },
  {
   "cell_type": "code",
   "execution_count": 25,
   "metadata": {},
   "outputs": [
    {
     "data": {
      "application/3dmoljs_load.v0": "<div id=\"3dmolviewer_1569941179935689\"  style=\"position: relative; width: 400px; height: 400px\">\n        <p id=\"3dmolwarning_1569941179935689\" style=\"background-color:#ffcccc;color:black\">You appear to be running in JupyterLab (or JavaScript failed to load for some other reason).  You need to install the 3dmol extension: <br>\n        <tt>jupyter labextension install jupyterlab_3dmol</tt></p>\n        </div>\n<script>\n\nvar loadScriptAsync = function(uri){\n  return new Promise((resolve, reject) => {\n    var tag = document.createElement('script');\n    tag.src = uri;\n    tag.async = true;\n    tag.onload = () => {\n      resolve();\n    };\n  var firstScriptTag = document.getElementsByTagName('script')[0];\n  firstScriptTag.parentNode.insertBefore(tag, firstScriptTag);\n});\n};\n\nif(typeof $3Dmolpromise === 'undefined') {\n$3Dmolpromise = null;\n  $3Dmolpromise = loadScriptAsync('https://3dmol.csb.pitt.edu/build/3Dmol.js');\n}\n\nvar viewer_1569941179935689 = null;\nvar warn = document.getElementById(\"3dmolwarning_1569941179935689\");\nif(warn) {\n    warn.parentNode.removeChild(warn);\n}\n$3Dmolpromise.then(function() {\nviewer_1569941179935689 = $3Dmol.createViewer($(\"#3dmolviewer_1569941179935689\"),{backgroundColor:\"white\"});\n\tviewer_1569941179935689.addModel(\"30\\nC10H11N7O2\\nN                     0.935015501028    -0.027980102136    -0.378891602521\\nC                     1.673963802153    -0.035776602275     0.742431599531\\nC                     3.074795501699    -0.009447998712     0.599456198832\\nC                     3.564610897448     0.019544599348    -0.705987202075\\nN                     2.853150997578     0.025803098842    -1.840959598925\\nC                     1.549076001313     0.001256901711    -1.580800900065\\nN                     4.088582401393    -0.005442899826     1.528978602283\\nC                     5.182992100311     0.025397098211     0.787217602572\\nN                     4.929487101070     0.041240399310    -0.556727398657\\nN                     1.071617697781    -0.076536598638     1.939139000426\\nH                     0.879443501157     0.005025998144    -2.431570902311\\nH                     6.188259098745     0.037554198486     1.173882400267\\nH                     5.603536802157     0.064875501454    -1.303681097917\\nH                     0.058691499528    -0.042376500447     2.003918101668\\nH                     1.644379599847    -0.034739499611     2.761915898652\\nN                    -3.921172899171    -0.000964600095    -1.516365901596\\nC                    -4.613683301800     0.016905100464    -0.333651999359\\nC                    -3.991738701381     0.021934797557     0.866333802526\\nC                    -2.536136700147     0.007465097619     0.876672401192\\nN                    -1.925648400039    -0.011059300985    -0.363894799747\\nC                    -2.539589697866    -0.014947398789    -1.596235697524\\nC                    -4.710613098945     0.041337302241     2.173863701548\\nO                    -1.867473001753     0.011209301557     1.912083302084\\nO                    -1.941678299606    -0.029187800950    -2.657378300670\\nH                    -4.401717200150    -0.003607797928    -2.400492398813\\nH                    -0.883825501219    -0.021616799096    -0.378426900261\\nH                    -5.690921999289     0.026934701973    -0.422718302530\\nH                    -4.443928200424    -0.830257299650     2.769565499197\\nH                    -4.426705598926     0.918617802132     2.753025599802\\nH                    -5.788397097675     0.050552997449     2.024728000769\\n\",\"xyz\");\n\tviewer_1569941179935689.setStyle({\"stick\": {\"radius\": 0.2}, \"sphere\": {\"scale\": 0.3}});\n\tviewer_1569941179935689.zoomTo();\nviewer_1569941179935689.render();\n});\n</script>",
      "text/html": [
       "<div id=\"3dmolviewer_1569941179935689\"  style=\"position: relative; width: 400px; height: 400px\">\n",
       "        <p id=\"3dmolwarning_1569941179935689\" style=\"background-color:#ffcccc;color:black\">You appear to be running in JupyterLab (or JavaScript failed to load for some other reason).  You need to install the 3dmol extension: <br>\n",
       "        <tt>jupyter labextension install jupyterlab_3dmol</tt></p>\n",
       "        </div>\n",
       "<script>\n",
       "\n",
       "var loadScriptAsync = function(uri){\n",
       "  return new Promise((resolve, reject) => {\n",
       "    var tag = document.createElement('script');\n",
       "    tag.src = uri;\n",
       "    tag.async = true;\n",
       "    tag.onload = () => {\n",
       "      resolve();\n",
       "    };\n",
       "  var firstScriptTag = document.getElementsByTagName('script')[0];\n",
       "  firstScriptTag.parentNode.insertBefore(tag, firstScriptTag);\n",
       "});\n",
       "};\n",
       "\n",
       "if(typeof $3Dmolpromise === 'undefined') {\n",
       "$3Dmolpromise = null;\n",
       "  $3Dmolpromise = loadScriptAsync('https://3dmol.csb.pitt.edu/build/3Dmol.js');\n",
       "}\n",
       "\n",
       "var viewer_1569941179935689 = null;\n",
       "var warn = document.getElementById(\"3dmolwarning_1569941179935689\");\n",
       "if(warn) {\n",
       "    warn.parentNode.removeChild(warn);\n",
       "}\n",
       "$3Dmolpromise.then(function() {\n",
       "viewer_1569941179935689 = $3Dmol.createViewer($(\"#3dmolviewer_1569941179935689\"),{backgroundColor:\"white\"});\n",
       "\tviewer_1569941179935689.addModel(\"30\\nC10H11N7O2\\nN                     0.935015501028    -0.027980102136    -0.378891602521\\nC                     1.673963802153    -0.035776602275     0.742431599531\\nC                     3.074795501699    -0.009447998712     0.599456198832\\nC                     3.564610897448     0.019544599348    -0.705987202075\\nN                     2.853150997578     0.025803098842    -1.840959598925\\nC                     1.549076001313     0.001256901711    -1.580800900065\\nN                     4.088582401393    -0.005442899826     1.528978602283\\nC                     5.182992100311     0.025397098211     0.787217602572\\nN                     4.929487101070     0.041240399310    -0.556727398657\\nN                     1.071617697781    -0.076536598638     1.939139000426\\nH                     0.879443501157     0.005025998144    -2.431570902311\\nH                     6.188259098745     0.037554198486     1.173882400267\\nH                     5.603536802157     0.064875501454    -1.303681097917\\nH                     0.058691499528    -0.042376500447     2.003918101668\\nH                     1.644379599847    -0.034739499611     2.761915898652\\nN                    -3.921172899171    -0.000964600095    -1.516365901596\\nC                    -4.613683301800     0.016905100464    -0.333651999359\\nC                    -3.991738701381     0.021934797557     0.866333802526\\nC                    -2.536136700147     0.007465097619     0.876672401192\\nN                    -1.925648400039    -0.011059300985    -0.363894799747\\nC                    -2.539589697866    -0.014947398789    -1.596235697524\\nC                    -4.710613098945     0.041337302241     2.173863701548\\nO                    -1.867473001753     0.011209301557     1.912083302084\\nO                    -1.941678299606    -0.029187800950    -2.657378300670\\nH                    -4.401717200150    -0.003607797928    -2.400492398813\\nH                    -0.883825501219    -0.021616799096    -0.378426900261\\nH                    -5.690921999289     0.026934701973    -0.422718302530\\nH                    -4.443928200424    -0.830257299650     2.769565499197\\nH                    -4.426705598926     0.918617802132     2.753025599802\\nH                    -5.788397097675     0.050552997449     2.024728000769\\n\",\"xyz\");\n",
       "\tviewer_1569941179935689.setStyle({\"stick\": {\"radius\": 0.2}, \"sphere\": {\"scale\": 0.3}});\n",
       "\tviewer_1569941179935689.zoomTo();\n",
       "viewer_1569941179935689.render();\n",
       "});\n",
       "</script>"
      ]
     },
     "metadata": {},
     "output_type": "display_data"
    },
    {
     "data": {
      "text/plain": [
       "<Molecule(name='C10H11N7O2' formula='C10H11N7O2' hash='5357c2c')>"
      ]
     },
     "execution_count": 25,
     "metadata": {},
     "output_type": "execute_result"
    }
   ],
   "source": [
    "dimers.loc['Adenine-Thymine Complex WC', 'molecule'][0]"
   ]
  },
  {
   "cell_type": "markdown",
   "metadata": {},
   "source": [
    "Reactants and products (or monomers and complexes) may be picked out with the `stoich` keyword. For the case of an interaction energy dataset like S22, `stoich=\"default\"` corresponds to complexes and `stoich=\"default1\"` corresponds to the monomers without counterpoise corrections.  "
   ]
  },
  {
   "cell_type": "code",
   "execution_count": 33,
   "metadata": {
    "scrolled": false
   },
   "outputs": [
    {
     "data": {
      "text/html": [
       "<div>\n",
       "<style scoped>\n",
       "    .dataframe tbody tr th:only-of-type {\n",
       "        vertical-align: middle;\n",
       "    }\n",
       "\n",
       "    .dataframe tbody tr th {\n",
       "        vertical-align: top;\n",
       "    }\n",
       "\n",
       "    .dataframe thead th {\n",
       "        text-align: right;\n",
       "    }\n",
       "</style>\n",
       "<table border=\"1\" class=\"dataframe\">\n",
       "  <thead>\n",
       "    <tr style=\"text-align: right;\">\n",
       "      <th></th>\n",
       "      <th></th>\n",
       "      <th></th>\n",
       "      <th>molecule</th>\n",
       "    </tr>\n",
       "    <tr>\n",
       "      <th>name</th>\n",
       "      <th>stoichiometry</th>\n",
       "      <th>idx</th>\n",
       "      <th></th>\n",
       "    </tr>\n",
       "  </thead>\n",
       "  <tbody>\n",
       "    <tr>\n",
       "      <td rowspan=\"2\" valign=\"top\">2-Pyridone-2-Aminopyridine Complex</td>\n",
       "      <td rowspan=\"2\" valign=\"top\">default1</td>\n",
       "      <td>0</td>\n",
       "      <td>Geometry (in Angstrom), charge = 0.0, mult...</td>\n",
       "    </tr>\n",
       "    <tr>\n",
       "      <td>1</td>\n",
       "      <td>Geometry (in Angstrom), charge = 0.0, mult...</td>\n",
       "    </tr>\n",
       "    <tr>\n",
       "      <td rowspan=\"2\" valign=\"top\">Adenine-Thymine Complex Stack</td>\n",
       "      <td rowspan=\"2\" valign=\"top\">default1</td>\n",
       "      <td>0</td>\n",
       "      <td>Geometry (in Angstrom), charge = 0.0, mult...</td>\n",
       "    </tr>\n",
       "    <tr>\n",
       "      <td>1</td>\n",
       "      <td>Geometry (in Angstrom), charge = 0.0, mult...</td>\n",
       "    </tr>\n",
       "    <tr>\n",
       "      <td rowspan=\"2\" valign=\"top\">Adenine-Thymine Complex WC</td>\n",
       "      <td rowspan=\"2\" valign=\"top\">default1</td>\n",
       "      <td>0</td>\n",
       "      <td>Geometry (in Angstrom), charge = 0.0, mult...</td>\n",
       "    </tr>\n",
       "    <tr>\n",
       "      <td>1</td>\n",
       "      <td>Geometry (in Angstrom), charge = 0.0, mult...</td>\n",
       "    </tr>\n",
       "    <tr>\n",
       "      <td rowspan=\"2\" valign=\"top\">Ammonia Dimer</td>\n",
       "      <td rowspan=\"2\" valign=\"top\">default1</td>\n",
       "      <td>0</td>\n",
       "      <td>Geometry (in Angstrom), charge = 0.0, mult...</td>\n",
       "    </tr>\n",
       "    <tr>\n",
       "      <td>1</td>\n",
       "      <td>Geometry (in Angstrom), charge = 0.0, mult...</td>\n",
       "    </tr>\n",
       "    <tr>\n",
       "      <td rowspan=\"2\" valign=\"top\">Benzene Dimer PD</td>\n",
       "      <td rowspan=\"2\" valign=\"top\">default1</td>\n",
       "      <td>0</td>\n",
       "      <td>Geometry (in Angstrom), charge = 0.0, mult...</td>\n",
       "    </tr>\n",
       "    <tr>\n",
       "      <td>1</td>\n",
       "      <td>Geometry (in Angstrom), charge = 0.0, mult...</td>\n",
       "    </tr>\n",
       "  </tbody>\n",
       "</table>\n",
       "</div>"
      ],
      "text/plain": [
       "                                                                                               molecule\n",
       "name                               stoichiometry idx                                                   \n",
       "2-Pyridone-2-Aminopyridine Complex default1      0        Geometry (in Angstrom), charge = 0.0, mult...\n",
       "                                                 1        Geometry (in Angstrom), charge = 0.0, mult...\n",
       "Adenine-Thymine Complex Stack      default1      0        Geometry (in Angstrom), charge = 0.0, mult...\n",
       "                                                 1        Geometry (in Angstrom), charge = 0.0, mult...\n",
       "Adenine-Thymine Complex WC         default1      0        Geometry (in Angstrom), charge = 0.0, mult...\n",
       "                                                 1        Geometry (in Angstrom), charge = 0.0, mult...\n",
       "Ammonia Dimer                      default1      0        Geometry (in Angstrom), charge = 0.0, mult...\n",
       "                                                 1        Geometry (in Angstrom), charge = 0.0, mult...\n",
       "Benzene Dimer PD                   default1      0        Geometry (in Angstrom), charge = 0.0, mult...\n",
       "                                                 1        Geometry (in Angstrom), charge = 0.0, mult..."
      ]
     },
     "execution_count": 33,
     "metadata": {},
     "output_type": "execute_result"
    }
   ],
   "source": [
    "monomers = ds.get_molecules(stoich=\"default1\")\n",
    "monomers.head(10)"
   ]
  },
  {
   "cell_type": "markdown",
   "metadata": {},
   "source": [
    "As before, the individual `Molecule` objects for the monomers may be extracted from the DataFrame:"
   ]
  },
  {
   "cell_type": "code",
   "execution_count": 34,
   "metadata": {},
   "outputs": [
    {
     "data": {
      "application/3dmoljs_load.v0": "<div id=\"3dmolviewer_1569941318293925\"  style=\"position: relative; width: 400px; height: 400px\">\n        <p id=\"3dmolwarning_1569941318293925\" style=\"background-color:#ffcccc;color:black\">You appear to be running in JupyterLab (or JavaScript failed to load for some other reason).  You need to install the 3dmol extension: <br>\n        <tt>jupyter labextension install jupyterlab_3dmol</tt></p>\n        </div>\n<script>\n\nvar loadScriptAsync = function(uri){\n  return new Promise((resolve, reject) => {\n    var tag = document.createElement('script');\n    tag.src = uri;\n    tag.async = true;\n    tag.onload = () => {\n      resolve();\n    };\n  var firstScriptTag = document.getElementsByTagName('script')[0];\n  firstScriptTag.parentNode.insertBefore(tag, firstScriptTag);\n});\n};\n\nif(typeof $3Dmolpromise === 'undefined') {\n$3Dmolpromise = null;\n  $3Dmolpromise = loadScriptAsync('https://3dmol.csb.pitt.edu/build/3Dmol.js');\n}\n\nvar viewer_1569941318293925 = null;\nvar warn = document.getElementById(\"3dmolwarning_1569941318293925\");\nif(warn) {\n    warn.parentNode.removeChild(warn);\n}\n$3Dmolpromise.then(function() {\nviewer_1569941318293925 = $3Dmol.createViewer($(\"#3dmolviewer_1569941318293925\"),{backgroundColor:\"white\"});\n\tviewer_1569941318293925.addModel(\"15\\nC10H11N7O2 ((0,),[])\\nN                     1.946701651864     0.459206388857     0.002691776301\\nC                     1.211499353879    -0.664601649456     0.000649649694\\nC                    -0.190017100977    -0.525980138926     0.000085880170\\nC                    -0.684328645606     0.778089068141    -0.001242317587\\nN                     0.023374096069     1.915425204339    -0.001445918519\\nC                     1.328482850599     1.659337312300     0.001159178555\\nN                    -1.200818705647    -1.458754955474     0.001839673989\\nC                    -2.297905628493    -0.720315437069     0.001172011103\\nN                    -2.048903990816     0.624562879298    -0.000940892956\\nN                     1.818191601266    -1.859762593454    -0.009628940276\\nH                     1.995293539738     2.512328096671     0.002469172616\\nH                    -3.302022206254    -1.110146259682     0.002182173355\\nH                    -2.725587417464     1.369506244918    -0.001544959325\\nH                     2.830559300599    -1.920515915565     0.043318181877\\nH                     1.247349448285    -2.683678021740     0.035842140873\\n\",\"xyz\");\n\tviewer_1569941318293925.setStyle({\"stick\": {\"radius\": 0.2}, \"sphere\": {\"scale\": 0.3}});\n\tviewer_1569941318293925.zoomTo();\nviewer_1569941318293925.render();\n});\n</script>",
      "text/html": [
       "<div id=\"3dmolviewer_1569941318293925\"  style=\"position: relative; width: 400px; height: 400px\">\n",
       "        <p id=\"3dmolwarning_1569941318293925\" style=\"background-color:#ffcccc;color:black\">You appear to be running in JupyterLab (or JavaScript failed to load for some other reason).  You need to install the 3dmol extension: <br>\n",
       "        <tt>jupyter labextension install jupyterlab_3dmol</tt></p>\n",
       "        </div>\n",
       "<script>\n",
       "\n",
       "var loadScriptAsync = function(uri){\n",
       "  return new Promise((resolve, reject) => {\n",
       "    var tag = document.createElement('script');\n",
       "    tag.src = uri;\n",
       "    tag.async = true;\n",
       "    tag.onload = () => {\n",
       "      resolve();\n",
       "    };\n",
       "  var firstScriptTag = document.getElementsByTagName('script')[0];\n",
       "  firstScriptTag.parentNode.insertBefore(tag, firstScriptTag);\n",
       "});\n",
       "};\n",
       "\n",
       "if(typeof $3Dmolpromise === 'undefined') {\n",
       "$3Dmolpromise = null;\n",
       "  $3Dmolpromise = loadScriptAsync('https://3dmol.csb.pitt.edu/build/3Dmol.js');\n",
       "}\n",
       "\n",
       "var viewer_1569941318293925 = null;\n",
       "var warn = document.getElementById(\"3dmolwarning_1569941318293925\");\n",
       "if(warn) {\n",
       "    warn.parentNode.removeChild(warn);\n",
       "}\n",
       "$3Dmolpromise.then(function() {\n",
       "viewer_1569941318293925 = $3Dmol.createViewer($(\"#3dmolviewer_1569941318293925\"),{backgroundColor:\"white\"});\n",
       "\tviewer_1569941318293925.addModel(\"15\\nC10H11N7O2 ((0,),[])\\nN                     1.946701651864     0.459206388857     0.002691776301\\nC                     1.211499353879    -0.664601649456     0.000649649694\\nC                    -0.190017100977    -0.525980138926     0.000085880170\\nC                    -0.684328645606     0.778089068141    -0.001242317587\\nN                     0.023374096069     1.915425204339    -0.001445918519\\nC                     1.328482850599     1.659337312300     0.001159178555\\nN                    -1.200818705647    -1.458754955474     0.001839673989\\nC                    -2.297905628493    -0.720315437069     0.001172011103\\nN                    -2.048903990816     0.624562879298    -0.000940892956\\nN                     1.818191601266    -1.859762593454    -0.009628940276\\nH                     1.995293539738     2.512328096671     0.002469172616\\nH                    -3.302022206254    -1.110146259682     0.002182173355\\nH                    -2.725587417464     1.369506244918    -0.001544959325\\nH                     2.830559300599    -1.920515915565     0.043318181877\\nH                     1.247349448285    -2.683678021740     0.035842140873\\n\",\"xyz\");\n",
       "\tviewer_1569941318293925.setStyle({\"stick\": {\"radius\": 0.2}, \"sphere\": {\"scale\": 0.3}});\n",
       "\tviewer_1569941318293925.zoomTo();\n",
       "viewer_1569941318293925.render();\n",
       "});\n",
       "</script>"
      ]
     },
     "metadata": {},
     "output_type": "display_data"
    },
    {
     "data": {
      "text/plain": [
       "<Molecule(name='C10H11N7O2 ((0,),[])' formula='C5H5N5' hash='c0e7ed3')>"
      ]
     },
     "execution_count": 34,
     "metadata": {},
     "output_type": "execute_result"
    }
   ],
   "source": [
    "monomers.loc['Adenine-Thymine Complex WC', 'molecule'][0]"
   ]
  },
  {
   "cell_type": "code",
   "execution_count": 35,
   "metadata": {},
   "outputs": [
    {
     "data": {
      "application/3dmoljs_load.v0": "<div id=\"3dmolviewer_1569941318884407\"  style=\"position: relative; width: 400px; height: 400px\">\n        <p id=\"3dmolwarning_1569941318884407\" style=\"background-color:#ffcccc;color:black\">You appear to be running in JupyterLab (or JavaScript failed to load for some other reason).  You need to install the 3dmol extension: <br>\n        <tt>jupyter labextension install jupyterlab_3dmol</tt></p>\n        </div>\n<script>\n\nvar loadScriptAsync = function(uri){\n  return new Promise((resolve, reject) => {\n    var tag = document.createElement('script');\n    tag.src = uri;\n    tag.async = true;\n    tag.onload = () => {\n      resolve();\n    };\n  var firstScriptTag = document.getElementsByTagName('script')[0];\n  firstScriptTag.parentNode.insertBefore(tag, firstScriptTag);\n});\n};\n\nif(typeof $3Dmolpromise === 'undefined') {\n$3Dmolpromise = null;\n  $3Dmolpromise = loadScriptAsync('https://3dmol.csb.pitt.edu/build/3Dmol.js');\n}\n\nvar viewer_1569941318884407 = null;\nvar warn = document.getElementById(\"3dmolwarning_1569941318884407\");\nif(warn) {\n    warn.parentNode.removeChild(warn);\n}\n$3Dmolpromise.then(function() {\nviewer_1569941318884407 = $3Dmol.createViewer($(\"#3dmolviewer_1569941318884407\"),{backgroundColor:\"white\"});\n\tviewer_1569941318884407.addModel(\"15\\nC10H11N7O2 ((1,),[])\\nN                     1.107047853029     1.237553452056     0.000448234265\\nC                    -0.232426934296     1.528258413266     0.000175083572\\nC                    -1.179728030410     0.564190511861    -0.000007202102\\nC                    -0.737087221918    -0.822590828935     0.000264112346\\nN                     0.631893931038    -1.017360576276     0.001469133523\\nC                     1.612419624702    -0.050835509287     0.000136009127\\nC                    -2.646041250442     0.841168245803    -0.000414859058\\nO                    -1.513439959088    -1.779918658417    -0.000593726247\\nO                     2.806912672975    -0.289391749753    -0.001181324622\\nH                     1.798057080455     1.969069152335    -0.000260931991\\nH                     0.969553616959    -2.003110794207     0.001664161784\\nH                    -0.482622485721     2.579866100342    -0.000090007752\\nH                    -3.119123866995     0.396883378970     0.873920552694\\nH                    -3.118561886089     0.397014382080    -0.875117461584\\nH                    -2.839305160530     1.911959448158    -0.000409075151\\n\",\"xyz\");\n\tviewer_1569941318884407.setStyle({\"stick\": {\"radius\": 0.2}, \"sphere\": {\"scale\": 0.3}});\n\tviewer_1569941318884407.zoomTo();\nviewer_1569941318884407.render();\n});\n</script>",
      "text/html": [
       "<div id=\"3dmolviewer_1569941318884407\"  style=\"position: relative; width: 400px; height: 400px\">\n",
       "        <p id=\"3dmolwarning_1569941318884407\" style=\"background-color:#ffcccc;color:black\">You appear to be running in JupyterLab (or JavaScript failed to load for some other reason).  You need to install the 3dmol extension: <br>\n",
       "        <tt>jupyter labextension install jupyterlab_3dmol</tt></p>\n",
       "        </div>\n",
       "<script>\n",
       "\n",
       "var loadScriptAsync = function(uri){\n",
       "  return new Promise((resolve, reject) => {\n",
       "    var tag = document.createElement('script');\n",
       "    tag.src = uri;\n",
       "    tag.async = true;\n",
       "    tag.onload = () => {\n",
       "      resolve();\n",
       "    };\n",
       "  var firstScriptTag = document.getElementsByTagName('script')[0];\n",
       "  firstScriptTag.parentNode.insertBefore(tag, firstScriptTag);\n",
       "});\n",
       "};\n",
       "\n",
       "if(typeof $3Dmolpromise === 'undefined') {\n",
       "$3Dmolpromise = null;\n",
       "  $3Dmolpromise = loadScriptAsync('https://3dmol.csb.pitt.edu/build/3Dmol.js');\n",
       "}\n",
       "\n",
       "var viewer_1569941318884407 = null;\n",
       "var warn = document.getElementById(\"3dmolwarning_1569941318884407\");\n",
       "if(warn) {\n",
       "    warn.parentNode.removeChild(warn);\n",
       "}\n",
       "$3Dmolpromise.then(function() {\n",
       "viewer_1569941318884407 = $3Dmol.createViewer($(\"#3dmolviewer_1569941318884407\"),{backgroundColor:\"white\"});\n",
       "\tviewer_1569941318884407.addModel(\"15\\nC10H11N7O2 ((1,),[])\\nN                     1.107047853029     1.237553452056     0.000448234265\\nC                    -0.232426934296     1.528258413266     0.000175083572\\nC                    -1.179728030410     0.564190511861    -0.000007202102\\nC                    -0.737087221918    -0.822590828935     0.000264112346\\nN                     0.631893931038    -1.017360576276     0.001469133523\\nC                     1.612419624702    -0.050835509287     0.000136009127\\nC                    -2.646041250442     0.841168245803    -0.000414859058\\nO                    -1.513439959088    -1.779918658417    -0.000593726247\\nO                     2.806912672975    -0.289391749753    -0.001181324622\\nH                     1.798057080455     1.969069152335    -0.000260931991\\nH                     0.969553616959    -2.003110794207     0.001664161784\\nH                    -0.482622485721     2.579866100342    -0.000090007752\\nH                    -3.119123866995     0.396883378970     0.873920552694\\nH                    -3.118561886089     0.397014382080    -0.875117461584\\nH                    -2.839305160530     1.911959448158    -0.000409075151\\n\",\"xyz\");\n",
       "\tviewer_1569941318884407.setStyle({\"stick\": {\"radius\": 0.2}, \"sphere\": {\"scale\": 0.3}});\n",
       "\tviewer_1569941318884407.zoomTo();\n",
       "viewer_1569941318884407.render();\n",
       "});\n",
       "</script>"
      ]
     },
     "metadata": {},
     "output_type": "display_data"
    },
    {
     "data": {
      "text/plain": [
       "<Molecule(name='C10H11N7O2 ((1,),[])' formula='C5H6N2O2' hash='a4f9749')>"
      ]
     },
     "execution_count": 35,
     "metadata": {},
     "output_type": "execute_result"
    }
   ],
   "source": [
    "monomers.loc['Adenine-Thymine Complex WC', 'molecule'][1]"
   ]
  },
  {
   "cell_type": "markdown",
   "metadata": {},
   "source": [
    "Note that it is possible to get all molecules involved in a reaction by specifying a list for `stoich`:"
   ]
  },
  {
   "cell_type": "code",
   "execution_count": 45,
   "metadata": {},
   "outputs": [
    {
     "data": {
      "text/html": [
       "<div>\n",
       "<style scoped>\n",
       "    .dataframe tbody tr th:only-of-type {\n",
       "        vertical-align: middle;\n",
       "    }\n",
       "\n",
       "    .dataframe tbody tr th {\n",
       "        vertical-align: top;\n",
       "    }\n",
       "\n",
       "    .dataframe thead th {\n",
       "        text-align: right;\n",
       "    }\n",
       "</style>\n",
       "<table border=\"1\" class=\"dataframe\">\n",
       "  <thead>\n",
       "    <tr style=\"text-align: right;\">\n",
       "      <th></th>\n",
       "      <th></th>\n",
       "      <th></th>\n",
       "      <th>molecule</th>\n",
       "    </tr>\n",
       "    <tr>\n",
       "      <th>name</th>\n",
       "      <th>stoichiometry</th>\n",
       "      <th>idx</th>\n",
       "      <th></th>\n",
       "    </tr>\n",
       "  </thead>\n",
       "  <tbody>\n",
       "    <tr>\n",
       "      <td rowspan=\"3\" valign=\"top\">2-Pyridone-2-Aminopyridine Complex</td>\n",
       "      <td>default</td>\n",
       "      <td>0</td>\n",
       "      <td>Geometry (in Angstrom), charge = 0.0, mult...</td>\n",
       "    </tr>\n",
       "    <tr>\n",
       "      <td rowspan=\"2\" valign=\"top\">default1</td>\n",
       "      <td>0</td>\n",
       "      <td>Geometry (in Angstrom), charge = 0.0, mult...</td>\n",
       "    </tr>\n",
       "    <tr>\n",
       "      <td>1</td>\n",
       "      <td>Geometry (in Angstrom), charge = 0.0, mult...</td>\n",
       "    </tr>\n",
       "    <tr>\n",
       "      <td rowspan=\"3\" valign=\"top\">Adenine-Thymine Complex Stack</td>\n",
       "      <td>default</td>\n",
       "      <td>0</td>\n",
       "      <td>Geometry (in Angstrom), charge = 0.0, mult...</td>\n",
       "    </tr>\n",
       "    <tr>\n",
       "      <td rowspan=\"2\" valign=\"top\">default1</td>\n",
       "      <td>0</td>\n",
       "      <td>Geometry (in Angstrom), charge = 0.0, mult...</td>\n",
       "    </tr>\n",
       "    <tr>\n",
       "      <td>1</td>\n",
       "      <td>Geometry (in Angstrom), charge = 0.0, mult...</td>\n",
       "    </tr>\n",
       "    <tr>\n",
       "      <td rowspan=\"3\" valign=\"top\">Adenine-Thymine Complex WC</td>\n",
       "      <td>default</td>\n",
       "      <td>0</td>\n",
       "      <td>Geometry (in Angstrom), charge = 0.0, mult...</td>\n",
       "    </tr>\n",
       "    <tr>\n",
       "      <td rowspan=\"2\" valign=\"top\">default1</td>\n",
       "      <td>0</td>\n",
       "      <td>Geometry (in Angstrom), charge = 0.0, mult...</td>\n",
       "    </tr>\n",
       "    <tr>\n",
       "      <td>1</td>\n",
       "      <td>Geometry (in Angstrom), charge = 0.0, mult...</td>\n",
       "    </tr>\n",
       "    <tr>\n",
       "      <td rowspan=\"3\" valign=\"top\">Ammonia Dimer</td>\n",
       "      <td>default</td>\n",
       "      <td>0</td>\n",
       "      <td>Geometry (in Angstrom), charge = 0.0, mult...</td>\n",
       "    </tr>\n",
       "    <tr>\n",
       "      <td rowspan=\"2\" valign=\"top\">default1</td>\n",
       "      <td>0</td>\n",
       "      <td>Geometry (in Angstrom), charge = 0.0, mult...</td>\n",
       "    </tr>\n",
       "    <tr>\n",
       "      <td>1</td>\n",
       "      <td>Geometry (in Angstrom), charge = 0.0, mult...</td>\n",
       "    </tr>\n",
       "    <tr>\n",
       "      <td rowspan=\"3\" valign=\"top\">Benzene Dimer PD</td>\n",
       "      <td>default</td>\n",
       "      <td>0</td>\n",
       "      <td>Geometry (in Angstrom), charge = 0.0, mult...</td>\n",
       "    </tr>\n",
       "    <tr>\n",
       "      <td rowspan=\"2\" valign=\"top\">default1</td>\n",
       "      <td>0</td>\n",
       "      <td>Geometry (in Angstrom), charge = 0.0, mult...</td>\n",
       "    </tr>\n",
       "    <tr>\n",
       "      <td>1</td>\n",
       "      <td>Geometry (in Angstrom), charge = 0.0, mult...</td>\n",
       "    </tr>\n",
       "  </tbody>\n",
       "</table>\n",
       "</div>"
      ],
      "text/plain": [
       "                                                                                               molecule\n",
       "name                               stoichiometry idx                                                   \n",
       "2-Pyridone-2-Aminopyridine Complex default       0        Geometry (in Angstrom), charge = 0.0, mult...\n",
       "                                   default1      0        Geometry (in Angstrom), charge = 0.0, mult...\n",
       "                                                 1        Geometry (in Angstrom), charge = 0.0, mult...\n",
       "Adenine-Thymine Complex Stack      default       0        Geometry (in Angstrom), charge = 0.0, mult...\n",
       "                                   default1      0        Geometry (in Angstrom), charge = 0.0, mult...\n",
       "                                                 1        Geometry (in Angstrom), charge = 0.0, mult...\n",
       "Adenine-Thymine Complex WC         default       0        Geometry (in Angstrom), charge = 0.0, mult...\n",
       "                                   default1      0        Geometry (in Angstrom), charge = 0.0, mult...\n",
       "                                                 1        Geometry (in Angstrom), charge = 0.0, mult...\n",
       "Ammonia Dimer                      default       0        Geometry (in Angstrom), charge = 0.0, mult...\n",
       "                                   default1      0        Geometry (in Angstrom), charge = 0.0, mult...\n",
       "                                                 1        Geometry (in Angstrom), charge = 0.0, mult...\n",
       "Benzene Dimer PD                   default       0        Geometry (in Angstrom), charge = 0.0, mult...\n",
       "                                   default1      0        Geometry (in Angstrom), charge = 0.0, mult...\n",
       "                                                 1        Geometry (in Angstrom), charge = 0.0, mult..."
      ]
     },
     "execution_count": 45,
     "metadata": {},
     "output_type": "execute_result"
    }
   ],
   "source": [
    "ds.get_molecules(stoich=['default', 'default1']).head(15)"
   ]
  },
  {
   "cell_type": "markdown",
   "metadata": {},
   "source": [
    "Counterpoise-corrected calcuations are available through `stoich=\"cp\"` and `stoich=\"cp1\"`. Counterpoise-corrected monomers contain ghost atoms:"
   ]
  },
  {
   "cell_type": "code",
   "execution_count": 36,
   "metadata": {},
   "outputs": [
    {
     "data": {
      "application/3dmoljs_load.v0": "<div id=\"3dmolviewer_1569941629235324\"  style=\"position: relative; width: 400px; height: 400px\">\n        <p id=\"3dmolwarning_1569941629235324\" style=\"background-color:#ffcccc;color:black\">You appear to be running in JupyterLab (or JavaScript failed to load for some other reason).  You need to install the 3dmol extension: <br>\n        <tt>jupyter labextension install jupyterlab_3dmol</tt></p>\n        </div>\n<script>\n\nvar loadScriptAsync = function(uri){\n  return new Promise((resolve, reject) => {\n    var tag = document.createElement('script');\n    tag.src = uri;\n    tag.async = true;\n    tag.onload = () => {\n      resolve();\n    };\n  var firstScriptTag = document.getElementsByTagName('script')[0];\n  firstScriptTag.parentNode.insertBefore(tag, firstScriptTag);\n});\n};\n\nif(typeof $3Dmolpromise === 'undefined') {\n$3Dmolpromise = null;\n  $3Dmolpromise = loadScriptAsync('https://3dmol.csb.pitt.edu/build/3Dmol.js');\n}\n\nvar viewer_1569941629235324 = null;\nvar warn = document.getElementById(\"3dmolwarning_1569941629235324\");\nif(warn) {\n    warn.parentNode.removeChild(warn);\n}\n$3Dmolpromise.then(function() {\nviewer_1569941629235324 = $3Dmol.createViewer($(\"#3dmolviewer_1569941629235324\"),{backgroundColor:\"white\"});\n\tviewer_1569941629235324.addModel(\"30\\nC10H11N7O2 ((0,),[1])\\nN                     0.934901981932     0.378864879072     0.027979123158\\nC                     1.673881176424    -0.742437976117     0.035774326813\\nC                     3.074708954766    -0.599423929605     0.009446834522\\nC                     3.564488398216     0.706033012946    -0.019543398116\\nN                     2.852997223973     1.840985814364    -0.025800558792\\nC                     1.548929382183     1.580791142037    -0.001255594643\\nN                     4.088521471929    -1.528918392500     0.005440910120\\nC                     5.182910749899    -0.787127187353    -0.025397225213\\nN                     4.929368724128     0.556810855195    -0.041238568357\\nN                     1.071568023916    -1.939162035510     0.076532053006\\nH                     0.879273444768     2.431542697166    -0.005023775600\\nH                     6.188188411253    -1.173764266747    -0.037554299030\\nH                     5.603397861388     1.303783165618    -0.064872067094\\nH                     0.058643635449    -2.003968997932     0.042371213967\\nH                     1.644352627684    -2.761923084879     0.034734017335\\n@N                   -3.921317740265     1.516205402148     0.000962340508\\n@C                   -4.613795540286     0.333472449531    -0.016909661971\\n@C                   -3.991817871583    -0.866496207012    -0.021940856636\\n@C                   -2.536215595177    -0.876794720504    -0.007470251805\\n@N                   -1.925761490501     0.363789276519     0.011056491054\\n@C                   -2.539736750921     1.596113245918     0.014946139348\\n@C                   -4.710656226888    -2.174045886678    -0.041345874911\\n@O                   -1.867523363548    -1.912187190154    -0.011215662267\\n@O                   -1.941854600286     2.657272301182     0.029188594716\\n@H                   -4.401886404563     2.400318654059     0.003606628446\\n@H                   -0.883938999147     0.378350063730     0.021614671803\\n@H                   -5.691036687866     0.422509081736    -0.026939803241\\n@H                   -4.443955463634    -2.769741709917     0.830247954380\\n@H                   -4.426732211247    -2.753198577249    -0.918627110359\\n@H                   -5.788444326741    -2.024939867449    -0.050562019921\\n\",\"xyz\");\n\tviewer_1569941629235324.setStyle({\"stick\": {\"radius\": 0.2}, \"sphere\": {\"scale\": 0.3}});\n\tviewer_1569941629235324.zoomTo();\nviewer_1569941629235324.render();\n});\n</script>",
      "text/html": [
       "<div id=\"3dmolviewer_1569941629235324\"  style=\"position: relative; width: 400px; height: 400px\">\n",
       "        <p id=\"3dmolwarning_1569941629235324\" style=\"background-color:#ffcccc;color:black\">You appear to be running in JupyterLab (or JavaScript failed to load for some other reason).  You need to install the 3dmol extension: <br>\n",
       "        <tt>jupyter labextension install jupyterlab_3dmol</tt></p>\n",
       "        </div>\n",
       "<script>\n",
       "\n",
       "var loadScriptAsync = function(uri){\n",
       "  return new Promise((resolve, reject) => {\n",
       "    var tag = document.createElement('script');\n",
       "    tag.src = uri;\n",
       "    tag.async = true;\n",
       "    tag.onload = () => {\n",
       "      resolve();\n",
       "    };\n",
       "  var firstScriptTag = document.getElementsByTagName('script')[0];\n",
       "  firstScriptTag.parentNode.insertBefore(tag, firstScriptTag);\n",
       "});\n",
       "};\n",
       "\n",
       "if(typeof $3Dmolpromise === 'undefined') {\n",
       "$3Dmolpromise = null;\n",
       "  $3Dmolpromise = loadScriptAsync('https://3dmol.csb.pitt.edu/build/3Dmol.js');\n",
       "}\n",
       "\n",
       "var viewer_1569941629235324 = null;\n",
       "var warn = document.getElementById(\"3dmolwarning_1569941629235324\");\n",
       "if(warn) {\n",
       "    warn.parentNode.removeChild(warn);\n",
       "}\n",
       "$3Dmolpromise.then(function() {\n",
       "viewer_1569941629235324 = $3Dmol.createViewer($(\"#3dmolviewer_1569941629235324\"),{backgroundColor:\"white\"});\n",
       "\tviewer_1569941629235324.addModel(\"30\\nC10H11N7O2 ((0,),[1])\\nN                     0.934901981932     0.378864879072     0.027979123158\\nC                     1.673881176424    -0.742437976117     0.035774326813\\nC                     3.074708954766    -0.599423929605     0.009446834522\\nC                     3.564488398216     0.706033012946    -0.019543398116\\nN                     2.852997223973     1.840985814364    -0.025800558792\\nC                     1.548929382183     1.580791142037    -0.001255594643\\nN                     4.088521471929    -1.528918392500     0.005440910120\\nC                     5.182910749899    -0.787127187353    -0.025397225213\\nN                     4.929368724128     0.556810855195    -0.041238568357\\nN                     1.071568023916    -1.939162035510     0.076532053006\\nH                     0.879273444768     2.431542697166    -0.005023775600\\nH                     6.188188411253    -1.173764266747    -0.037554299030\\nH                     5.603397861388     1.303783165618    -0.064872067094\\nH                     0.058643635449    -2.003968997932     0.042371213967\\nH                     1.644352627684    -2.761923084879     0.034734017335\\n@N                   -3.921317740265     1.516205402148     0.000962340508\\n@C                   -4.613795540286     0.333472449531    -0.016909661971\\n@C                   -3.991817871583    -0.866496207012    -0.021940856636\\n@C                   -2.536215595177    -0.876794720504    -0.007470251805\\n@N                   -1.925761490501     0.363789276519     0.011056491054\\n@C                   -2.539736750921     1.596113245918     0.014946139348\\n@C                   -4.710656226888    -2.174045886678    -0.041345874911\\n@O                   -1.867523363548    -1.912187190154    -0.011215662267\\n@O                   -1.941854600286     2.657272301182     0.029188594716\\n@H                   -4.401886404563     2.400318654059     0.003606628446\\n@H                   -0.883938999147     0.378350063730     0.021614671803\\n@H                   -5.691036687866     0.422509081736    -0.026939803241\\n@H                   -4.443955463634    -2.769741709917     0.830247954380\\n@H                   -4.426732211247    -2.753198577249    -0.918627110359\\n@H                   -5.788444326741    -2.024939867449    -0.050562019921\\n\",\"xyz\");\n",
       "\tviewer_1569941629235324.setStyle({\"stick\": {\"radius\": 0.2}, \"sphere\": {\"scale\": 0.3}});\n",
       "\tviewer_1569941629235324.zoomTo();\n",
       "viewer_1569941629235324.render();\n",
       "});\n",
       "</script>"
      ]
     },
     "metadata": {},
     "output_type": "display_data"
    },
    {
     "data": {
      "text/plain": [
       "<Molecule(name='C10H11N7O2 ((0,),[1])' formula='C10H11N7O2' hash='d3955aa')>"
      ]
     },
     "execution_count": 36,
     "metadata": {},
     "output_type": "execute_result"
    }
   ],
   "source": [
    "ds.get_molecules(stoich=\"cp1\").loc['Adenine-Thymine Complex WC', 'molecule'][0]"
   ]
  },
  {
   "cell_type": "code",
   "execution_count": 37,
   "metadata": {
    "scrolled": false
   },
   "outputs": [
    {
     "data": {
      "application/3dmoljs_load.v0": "<div id=\"3dmolviewer_1569941645186172\"  style=\"position: relative; width: 400px; height: 400px\">\n        <p id=\"3dmolwarning_1569941645186172\" style=\"background-color:#ffcccc;color:black\">You appear to be running in JupyterLab (or JavaScript failed to load for some other reason).  You need to install the 3dmol extension: <br>\n        <tt>jupyter labextension install jupyterlab_3dmol</tt></p>\n        </div>\n<script>\n\nvar loadScriptAsync = function(uri){\n  return new Promise((resolve, reject) => {\n    var tag = document.createElement('script');\n    tag.src = uri;\n    tag.async = true;\n    tag.onload = () => {\n      resolve();\n    };\n  var firstScriptTag = document.getElementsByTagName('script')[0];\n  firstScriptTag.parentNode.insertBefore(tag, firstScriptTag);\n});\n};\n\nif(typeof $3Dmolpromise === 'undefined') {\n$3Dmolpromise = null;\n  $3Dmolpromise = loadScriptAsync('https://3dmol.csb.pitt.edu/build/3Dmol.js');\n}\n\nvar viewer_1569941645186172 = null;\nvar warn = document.getElementById(\"3dmolwarning_1569941645186172\");\nif(warn) {\n    warn.parentNode.removeChild(warn);\n}\n$3Dmolpromise.then(function() {\nviewer_1569941645186172 = $3Dmol.createViewer($(\"#3dmolviewer_1569941645186172\"),{backgroundColor:\"white\"});\n\tviewer_1569941645186172.addModel(\"30\\nC10H11N7O2 ((1,),[0])\\nN                     3.921317740265     1.516205402148     0.000962340508\\nC                     4.613795540286     0.333472449531    -0.016909661971\\nC                     3.991817871583    -0.866496207012    -0.021940856636\\nC                     2.536215595177    -0.876794720504    -0.007470251805\\nN                     1.925761490501     0.363789276519     0.011056491054\\nC                     2.539736750921     1.596113245918     0.014946139348\\nC                     4.710656226888    -2.174045886678    -0.041345874911\\nO                     1.867523363548    -1.912187190154    -0.011215662267\\nO                     1.941854600286     2.657272301182     0.029188594716\\nH                     4.401886404563     2.400318654059     0.003606628446\\nH                     0.883938999147     0.378350063730     0.021614671803\\nH                     5.691036687866     0.422509081736    -0.026939803241\\nH                     4.443955463634    -2.769741709917     0.830247954380\\nH                     4.426732211247    -2.753198577249    -0.918627110359\\nH                     5.788444326741    -2.024939867449    -0.050562019921\\n@N                   -0.934901981932     0.378864879072     0.027979123158\\n@C                   -1.673881176424    -0.742437976117     0.035774326813\\n@C                   -3.074708954766    -0.599423929605     0.009446834522\\n@C                   -3.564488398216     0.706033012946    -0.019543398116\\n@N                   -2.852997223973     1.840985814364    -0.025800558792\\n@C                   -1.548929382183     1.580791142037    -0.001255594643\\n@N                   -4.088521471929    -1.528918392500     0.005440910120\\n@C                   -5.182910749899    -0.787127187353    -0.025397225213\\n@N                   -4.929368724128     0.556810855195    -0.041238568357\\n@N                   -1.071568023916    -1.939162035510     0.076532053006\\n@H                   -0.879273444768     2.431542697166    -0.005023775600\\n@H                   -6.188188411253    -1.173764266747    -0.037554299030\\n@H                   -5.603397861388     1.303783165618    -0.064872067094\\n@H                   -0.058643635449    -2.003968997932     0.042371213967\\n@H                   -1.644352627684    -2.761923084879     0.034734017335\\n\",\"xyz\");\n\tviewer_1569941645186172.setStyle({\"stick\": {\"radius\": 0.2}, \"sphere\": {\"scale\": 0.3}});\n\tviewer_1569941645186172.zoomTo();\nviewer_1569941645186172.render();\n});\n</script>",
      "text/html": [
       "<div id=\"3dmolviewer_1569941645186172\"  style=\"position: relative; width: 400px; height: 400px\">\n",
       "        <p id=\"3dmolwarning_1569941645186172\" style=\"background-color:#ffcccc;color:black\">You appear to be running in JupyterLab (or JavaScript failed to load for some other reason).  You need to install the 3dmol extension: <br>\n",
       "        <tt>jupyter labextension install jupyterlab_3dmol</tt></p>\n",
       "        </div>\n",
       "<script>\n",
       "\n",
       "var loadScriptAsync = function(uri){\n",
       "  return new Promise((resolve, reject) => {\n",
       "    var tag = document.createElement('script');\n",
       "    tag.src = uri;\n",
       "    tag.async = true;\n",
       "    tag.onload = () => {\n",
       "      resolve();\n",
       "    };\n",
       "  var firstScriptTag = document.getElementsByTagName('script')[0];\n",
       "  firstScriptTag.parentNode.insertBefore(tag, firstScriptTag);\n",
       "});\n",
       "};\n",
       "\n",
       "if(typeof $3Dmolpromise === 'undefined') {\n",
       "$3Dmolpromise = null;\n",
       "  $3Dmolpromise = loadScriptAsync('https://3dmol.csb.pitt.edu/build/3Dmol.js');\n",
       "}\n",
       "\n",
       "var viewer_1569941645186172 = null;\n",
       "var warn = document.getElementById(\"3dmolwarning_1569941645186172\");\n",
       "if(warn) {\n",
       "    warn.parentNode.removeChild(warn);\n",
       "}\n",
       "$3Dmolpromise.then(function() {\n",
       "viewer_1569941645186172 = $3Dmol.createViewer($(\"#3dmolviewer_1569941645186172\"),{backgroundColor:\"white\"});\n",
       "\tviewer_1569941645186172.addModel(\"30\\nC10H11N7O2 ((1,),[0])\\nN                     3.921317740265     1.516205402148     0.000962340508\\nC                     4.613795540286     0.333472449531    -0.016909661971\\nC                     3.991817871583    -0.866496207012    -0.021940856636\\nC                     2.536215595177    -0.876794720504    -0.007470251805\\nN                     1.925761490501     0.363789276519     0.011056491054\\nC                     2.539736750921     1.596113245918     0.014946139348\\nC                     4.710656226888    -2.174045886678    -0.041345874911\\nO                     1.867523363548    -1.912187190154    -0.011215662267\\nO                     1.941854600286     2.657272301182     0.029188594716\\nH                     4.401886404563     2.400318654059     0.003606628446\\nH                     0.883938999147     0.378350063730     0.021614671803\\nH                     5.691036687866     0.422509081736    -0.026939803241\\nH                     4.443955463634    -2.769741709917     0.830247954380\\nH                     4.426732211247    -2.753198577249    -0.918627110359\\nH                     5.788444326741    -2.024939867449    -0.050562019921\\n@N                   -0.934901981932     0.378864879072     0.027979123158\\n@C                   -1.673881176424    -0.742437976117     0.035774326813\\n@C                   -3.074708954766    -0.599423929605     0.009446834522\\n@C                   -3.564488398216     0.706033012946    -0.019543398116\\n@N                   -2.852997223973     1.840985814364    -0.025800558792\\n@C                   -1.548929382183     1.580791142037    -0.001255594643\\n@N                   -4.088521471929    -1.528918392500     0.005440910120\\n@C                   -5.182910749899    -0.787127187353    -0.025397225213\\n@N                   -4.929368724128     0.556810855195    -0.041238568357\\n@N                   -1.071568023916    -1.939162035510     0.076532053006\\n@H                   -0.879273444768     2.431542697166    -0.005023775600\\n@H                   -6.188188411253    -1.173764266747    -0.037554299030\\n@H                   -5.603397861388     1.303783165618    -0.064872067094\\n@H                   -0.058643635449    -2.003968997932     0.042371213967\\n@H                   -1.644352627684    -2.761923084879     0.034734017335\\n\",\"xyz\");\n",
       "\tviewer_1569941645186172.setStyle({\"stick\": {\"radius\": 0.2}, \"sphere\": {\"scale\": 0.3}});\n",
       "\tviewer_1569941645186172.zoomTo();\n",
       "viewer_1569941645186172.render();\n",
       "});\n",
       "</script>"
      ]
     },
     "metadata": {},
     "output_type": "display_data"
    },
    {
     "data": {
      "text/plain": [
       "<Molecule(name='C10H11N7O2 ((1,),[0])' formula='C10H11N7O2' hash='e63c41f')>"
      ]
     },
     "execution_count": 37,
     "metadata": {},
     "output_type": "execute_result"
    }
   ],
   "source": [
    "ds.get_molecules(stoich=\"cp1\").loc['Adenine-Thymine Complex WC', 'molecule'][1]"
   ]
  },
  {
   "cell_type": "markdown",
   "metadata": {},
   "source": [
    "For large datasets, you may not want to query all molecules at once. `get_molecules` accepts a subset option for selecting specific reactions:"
   ]
  },
  {
   "cell_type": "code",
   "execution_count": 46,
   "metadata": {},
   "outputs": [
    {
     "data": {
      "text/html": [
       "<div>\n",
       "<style scoped>\n",
       "    .dataframe tbody tr th:only-of-type {\n",
       "        vertical-align: middle;\n",
       "    }\n",
       "\n",
       "    .dataframe tbody tr th {\n",
       "        vertical-align: top;\n",
       "    }\n",
       "\n",
       "    .dataframe thead th {\n",
       "        text-align: right;\n",
       "    }\n",
       "</style>\n",
       "<table border=\"1\" class=\"dataframe\">\n",
       "  <thead>\n",
       "    <tr style=\"text-align: right;\">\n",
       "      <th></th>\n",
       "      <th></th>\n",
       "      <th></th>\n",
       "      <th>molecule</th>\n",
       "    </tr>\n",
       "    <tr>\n",
       "      <th>name</th>\n",
       "      <th>stoichiometry</th>\n",
       "      <th>idx</th>\n",
       "      <th></th>\n",
       "    </tr>\n",
       "  </thead>\n",
       "  <tbody>\n",
       "    <tr>\n",
       "      <td>Adenine-Thymine Complex WC</td>\n",
       "      <td>default</td>\n",
       "      <td>0</td>\n",
       "      <td>Geometry (in Angstrom), charge = 0.0, mult...</td>\n",
       "    </tr>\n",
       "  </tbody>\n",
       "</table>\n",
       "</div>"
      ],
      "text/plain": [
       "                                                                                       molecule\n",
       "name                       stoichiometry idx                                                   \n",
       "Adenine-Thymine Complex WC default       0        Geometry (in Angstrom), charge = 0.0, mult..."
      ]
     },
     "execution_count": 46,
     "metadata": {},
     "output_type": "execute_result"
    }
   ],
   "source": [
    "ds.get_molecules(subset='Adenine-Thymine Complex WC')"
   ]
  },
  {
   "cell_type": "code",
   "execution_count": 47,
   "metadata": {},
   "outputs": [
    {
     "data": {
      "text/html": [
       "<div>\n",
       "<style scoped>\n",
       "    .dataframe tbody tr th:only-of-type {\n",
       "        vertical-align: middle;\n",
       "    }\n",
       "\n",
       "    .dataframe tbody tr th {\n",
       "        vertical-align: top;\n",
       "    }\n",
       "\n",
       "    .dataframe thead th {\n",
       "        text-align: right;\n",
       "    }\n",
       "</style>\n",
       "<table border=\"1\" class=\"dataframe\">\n",
       "  <thead>\n",
       "    <tr style=\"text-align: right;\">\n",
       "      <th></th>\n",
       "      <th></th>\n",
       "      <th></th>\n",
       "      <th>molecule</th>\n",
       "    </tr>\n",
       "    <tr>\n",
       "      <th>name</th>\n",
       "      <th>stoichiometry</th>\n",
       "      <th>idx</th>\n",
       "      <th></th>\n",
       "    </tr>\n",
       "  </thead>\n",
       "  <tbody>\n",
       "    <tr>\n",
       "      <td rowspan=\"3\" valign=\"top\">Adenine-Thymine Complex WC</td>\n",
       "      <td>default</td>\n",
       "      <td>0</td>\n",
       "      <td>Geometry (in Angstrom), charge = 0.0, mult...</td>\n",
       "    </tr>\n",
       "    <tr>\n",
       "      <td rowspan=\"2\" valign=\"top\">default1</td>\n",
       "      <td>0</td>\n",
       "      <td>Geometry (in Angstrom), charge = 0.0, mult...</td>\n",
       "    </tr>\n",
       "    <tr>\n",
       "      <td>1</td>\n",
       "      <td>Geometry (in Angstrom), charge = 0.0, mult...</td>\n",
       "    </tr>\n",
       "    <tr>\n",
       "      <td rowspan=\"3\" valign=\"top\">Ammonia Dimer</td>\n",
       "      <td>default</td>\n",
       "      <td>0</td>\n",
       "      <td>Geometry (in Angstrom), charge = 0.0, mult...</td>\n",
       "    </tr>\n",
       "    <tr>\n",
       "      <td rowspan=\"2\" valign=\"top\">default1</td>\n",
       "      <td>0</td>\n",
       "      <td>Geometry (in Angstrom), charge = 0.0, mult...</td>\n",
       "    </tr>\n",
       "    <tr>\n",
       "      <td>1</td>\n",
       "      <td>Geometry (in Angstrom), charge = 0.0, mult...</td>\n",
       "    </tr>\n",
       "    <tr>\n",
       "      <td rowspan=\"3\" valign=\"top\">Water Dimer</td>\n",
       "      <td>default</td>\n",
       "      <td>0</td>\n",
       "      <td>Geometry (in Angstrom), charge = 0.0, mult...</td>\n",
       "    </tr>\n",
       "    <tr>\n",
       "      <td rowspan=\"2\" valign=\"top\">default1</td>\n",
       "      <td>0</td>\n",
       "      <td>Geometry (in Angstrom), charge = 0.0, mult...</td>\n",
       "    </tr>\n",
       "    <tr>\n",
       "      <td>1</td>\n",
       "      <td>Geometry (in Angstrom), charge = 0.0, mult...</td>\n",
       "    </tr>\n",
       "  </tbody>\n",
       "</table>\n",
       "</div>"
      ],
      "text/plain": [
       "                                                                                       molecule\n",
       "name                       stoichiometry idx                                                   \n",
       "Adenine-Thymine Complex WC default       0        Geometry (in Angstrom), charge = 0.0, mult...\n",
       "                           default1      0        Geometry (in Angstrom), charge = 0.0, mult...\n",
       "                                         1        Geometry (in Angstrom), charge = 0.0, mult...\n",
       "Ammonia Dimer              default       0        Geometry (in Angstrom), charge = 0.0, mult...\n",
       "                           default1      0        Geometry (in Angstrom), charge = 0.0, mult...\n",
       "                                         1        Geometry (in Angstrom), charge = 0.0, mult...\n",
       "Water Dimer                default       0        Geometry (in Angstrom), charge = 0.0, mult...\n",
       "                           default1      0        Geometry (in Angstrom), charge = 0.0, mult...\n",
       "                                         1        Geometry (in Angstrom), charge = 0.0, mult..."
      ]
     },
     "execution_count": 47,
     "metadata": {},
     "output_type": "execute_result"
    }
   ],
   "source": [
    "ds.get_molecules(subset=['Adenine-Thymine Complex WC', 'Ammonia Dimer', 'Water Dimer'], stoich=['default', 'default1'])"
   ]
  },
  {
   "cell_type": "markdown",
   "metadata": {},
   "source": [
    "## From an OptimizationDataset\n",
    "\n",
    "Load an `OptimizationDataset`:"
   ]
  },
  {
   "cell_type": "code",
   "execution_count": 87,
   "metadata": {
    "pycharm": {
     "name": "#%%\n"
    }
   },
   "outputs": [],
   "source": [
    "import qcportal as ptl\n",
    "client = ptl.FractalClient()\n",
    "\n",
    "client.list_collections()\n",
    "ds = client.get_collection(\"OptimizationDataset\", \"SMIRNOFF Coverage Set 1\")"
   ]
  },
  {
   "cell_type": "markdown",
   "metadata": {},
   "source": [
    "Show some available molecules:"
   ]
  },
  {
   "cell_type": "code",
   "execution_count": 59,
   "metadata": {
    "pycharm": {
     "name": "#%%\n"
    }
   },
   "outputs": [
    {
     "data": {
      "text/html": [
       "<div>\n",
       "<style scoped>\n",
       "    .dataframe tbody tr th:only-of-type {\n",
       "        vertical-align: middle;\n",
       "    }\n",
       "\n",
       "    .dataframe tbody tr th {\n",
       "        vertical-align: top;\n",
       "    }\n",
       "\n",
       "    .dataframe thead th {\n",
       "        text-align: right;\n",
       "    }\n",
       "</style>\n",
       "<table border=\"1\" class=\"dataframe\">\n",
       "  <thead>\n",
       "    <tr style=\"text-align: right;\">\n",
       "      <th></th>\n",
       "    </tr>\n",
       "  </thead>\n",
       "  <tbody>\n",
       "    <tr>\n",
       "      <td>COC(O)OC-0</td>\n",
       "    </tr>\n",
       "    <tr>\n",
       "      <td>C[S-]-0</td>\n",
       "    </tr>\n",
       "    <tr>\n",
       "      <td>CS-0</td>\n",
       "    </tr>\n",
       "    <tr>\n",
       "      <td>CO-0</td>\n",
       "    </tr>\n",
       "    <tr>\n",
       "      <td>CCO-0</td>\n",
       "    </tr>\n",
       "  </tbody>\n",
       "</table>\n",
       "</div>"
      ],
      "text/plain": [
       "Empty DataFrame\n",
       "Columns: []\n",
       "Index: [COC(O)OC-0, C[S-]-0, CS-0, CO-0, CCO-0]"
      ]
     },
     "execution_count": 59,
     "metadata": {},
     "output_type": "execute_result"
    }
   ],
   "source": [
    "ds.df.head()"
   ]
  },
  {
   "cell_type": "markdown",
   "metadata": {},
   "source": [
    "Show available specifications:"
   ]
  },
  {
   "cell_type": "code",
   "execution_count": 60,
   "metadata": {
    "pycharm": {
     "name": "#%%\n"
    }
   },
   "outputs": [
    {
     "data": {
      "text/html": [
       "<div>\n",
       "<style scoped>\n",
       "    .dataframe tbody tr th:only-of-type {\n",
       "        vertical-align: middle;\n",
       "    }\n",
       "\n",
       "    .dataframe tbody tr th {\n",
       "        vertical-align: top;\n",
       "    }\n",
       "\n",
       "    .dataframe thead th {\n",
       "        text-align: right;\n",
       "    }\n",
       "</style>\n",
       "<table border=\"1\" class=\"dataframe\">\n",
       "  <thead>\n",
       "    <tr style=\"text-align: right;\">\n",
       "      <th></th>\n",
       "      <th>Description</th>\n",
       "    </tr>\n",
       "    <tr>\n",
       "      <th>Name</th>\n",
       "      <th></th>\n",
       "    </tr>\n",
       "  </thead>\n",
       "  <tbody>\n",
       "    <tr>\n",
       "      <td>default</td>\n",
       "      <td>Standard OpenFF optimization quantum chemistry...</td>\n",
       "    </tr>\n",
       "  </tbody>\n",
       "</table>\n",
       "</div>"
      ],
      "text/plain": [
       "                                               Description\n",
       "Name                                                      \n",
       "default  Standard OpenFF optimization quantum chemistry..."
      ]
     },
     "execution_count": 60,
     "metadata": {},
     "output_type": "execute_result"
    }
   ],
   "source": [
    "ds.list_specifications()"
   ]
  },
  {
   "cell_type": "markdown",
   "metadata": {},
   "source": [
    "Obtain a specific record from a molecule and specification:"
   ]
  },
  {
   "cell_type": "code",
   "execution_count": 61,
   "metadata": {
    "pycharm": {
     "name": "#%%\n"
    }
   },
   "outputs": [],
   "source": [
    "r = ds.get_record(\"CCO-0\",\"default\")"
   ]
  },
  {
   "cell_type": "markdown",
   "metadata": {},
   "source": [
    "Get the optimized molecule:"
   ]
  },
  {
   "cell_type": "code",
   "execution_count": 62,
   "metadata": {
    "pycharm": {
     "name": "#%%\n"
    }
   },
   "outputs": [
    {
     "data": {
      "application/3dmoljs_load.v0": "<div id=\"3dmolviewer_1569946665799656\"  style=\"position: relative; width: 400px; height: 400px\">\n        <p id=\"3dmolwarning_1569946665799656\" style=\"background-color:#ffcccc;color:black\">You appear to be running in JupyterLab (or JavaScript failed to load for some other reason).  You need to install the 3dmol extension: <br>\n        <tt>jupyter labextension install jupyterlab_3dmol</tt></p>\n        </div>\n<script>\n\nvar loadScriptAsync = function(uri){\n  return new Promise((resolve, reject) => {\n    var tag = document.createElement('script');\n    tag.src = uri;\n    tag.async = true;\n    tag.onload = () => {\n      resolve();\n    };\n  var firstScriptTag = document.getElementsByTagName('script')[0];\n  firstScriptTag.parentNode.insertBefore(tag, firstScriptTag);\n});\n};\n\nif(typeof $3Dmolpromise === 'undefined') {\n$3Dmolpromise = null;\n  $3Dmolpromise = loadScriptAsync('https://3dmol.csb.pitt.edu/build/3Dmol.js');\n}\n\nvar viewer_1569946665799656 = null;\nvar warn = document.getElementById(\"3dmolwarning_1569946665799656\");\nif(warn) {\n    warn.parentNode.removeChild(warn);\n}\n$3Dmolpromise.then(function() {\nviewer_1569946665799656 = $3Dmol.createViewer($(\"#3dmolviewer_1569946665799656\"),{backgroundColor:\"white\"});\n\tviewer_1569946665799656.addModel(\"9\\nC2H6O\\nC                     1.061794570636    -0.292452256734     0.016362466277\\nC                     1.911485400629     0.889539392695    -0.444082895767\\nO                     1.536076916594     1.374958024338    -1.738057550114\\nH                    -0.000090468136    -0.027376676071     0.012252907809\\nH                     1.201060735428    -1.160032261008    -0.640835972835\\nH                     1.340584985238    -0.597358206987     1.031700352625\\nH                     2.978762871597     0.622464183647    -0.426853864765\\nH                     1.776466110499     1.740665181947     0.228962934984\\nH                     1.638810824637     0.648006451042    -2.371976107868\\n\",\"xyz\");\n\tviewer_1569946665799656.setStyle({\"stick\": {\"radius\": 0.2}, \"sphere\": {\"scale\": 0.3}});\n\tviewer_1569946665799656.zoomTo();\nviewer_1569946665799656.render();\n});\n</script>",
      "text/html": [
       "<div id=\"3dmolviewer_1569946665799656\"  style=\"position: relative; width: 400px; height: 400px\">\n",
       "        <p id=\"3dmolwarning_1569946665799656\" style=\"background-color:#ffcccc;color:black\">You appear to be running in JupyterLab (or JavaScript failed to load for some other reason).  You need to install the 3dmol extension: <br>\n",
       "        <tt>jupyter labextension install jupyterlab_3dmol</tt></p>\n",
       "        </div>\n",
       "<script>\n",
       "\n",
       "var loadScriptAsync = function(uri){\n",
       "  return new Promise((resolve, reject) => {\n",
       "    var tag = document.createElement('script');\n",
       "    tag.src = uri;\n",
       "    tag.async = true;\n",
       "    tag.onload = () => {\n",
       "      resolve();\n",
       "    };\n",
       "  var firstScriptTag = document.getElementsByTagName('script')[0];\n",
       "  firstScriptTag.parentNode.insertBefore(tag, firstScriptTag);\n",
       "});\n",
       "};\n",
       "\n",
       "if(typeof $3Dmolpromise === 'undefined') {\n",
       "$3Dmolpromise = null;\n",
       "  $3Dmolpromise = loadScriptAsync('https://3dmol.csb.pitt.edu/build/3Dmol.js');\n",
       "}\n",
       "\n",
       "var viewer_1569946665799656 = null;\n",
       "var warn = document.getElementById(\"3dmolwarning_1569946665799656\");\n",
       "if(warn) {\n",
       "    warn.parentNode.removeChild(warn);\n",
       "}\n",
       "$3Dmolpromise.then(function() {\n",
       "viewer_1569946665799656 = $3Dmol.createViewer($(\"#3dmolviewer_1569946665799656\"),{backgroundColor:\"white\"});\n",
       "\tviewer_1569946665799656.addModel(\"9\\nC2H6O\\nC                     1.061794570636    -0.292452256734     0.016362466277\\nC                     1.911485400629     0.889539392695    -0.444082895767\\nO                     1.536076916594     1.374958024338    -1.738057550114\\nH                    -0.000090468136    -0.027376676071     0.012252907809\\nH                     1.201060735428    -1.160032261008    -0.640835972835\\nH                     1.340584985238    -0.597358206987     1.031700352625\\nH                     2.978762871597     0.622464183647    -0.426853864765\\nH                     1.776466110499     1.740665181947     0.228962934984\\nH                     1.638810824637     0.648006451042    -2.371976107868\\n\",\"xyz\");\n",
       "\tviewer_1569946665799656.setStyle({\"stick\": {\"radius\": 0.2}, \"sphere\": {\"scale\": 0.3}});\n",
       "\tviewer_1569946665799656.zoomTo();\n",
       "viewer_1569946665799656.render();\n",
       "});\n",
       "</script>"
      ]
     },
     "metadata": {},
     "output_type": "display_data"
    },
    {
     "data": {
      "text/plain": [
       "<Molecule(name='C2H6O' formula='C2H6O' hash='422ad57')>"
      ]
     },
     "execution_count": 62,
     "metadata": {},
     "output_type": "execute_result"
    }
   ],
   "source": [
    "r.get_final_molecule()"
   ]
  },
  {
   "cell_type": "markdown",
   "metadata": {},
   "source": [
    "Get the optimization trajectory:"
   ]
  },
  {
   "cell_type": "code",
   "execution_count": 63,
   "metadata": {
    "pycharm": {
     "name": "#%%\n"
    }
   },
   "outputs": [
    {
     "data": {
      "text/plain": [
       "[<Molecule(name='C2H6O' formula='C2H6O' hash='29df3ae')>,\n",
       " <Molecule(name='C2H6O' formula='C2H6O' hash='93989e4')>,\n",
       " <Molecule(name='C2H6O' formula='C2H6O' hash='14261f7')>,\n",
       " <Molecule(name='C2H6O' formula='C2H6O' hash='3b6db86')>,\n",
       " <Molecule(name='C2H6O' formula='C2H6O' hash='b35d632')>,\n",
       " <Molecule(name='C2H6O' formula='C2H6O' hash='c900f12')>,\n",
       " <Molecule(name='C2H6O' formula='C2H6O' hash='a1e9d7a')>,\n",
       " <Molecule(name='C2H6O' formula='C2H6O' hash='422ad57')>]"
      ]
     },
     "execution_count": 63,
     "metadata": {},
     "output_type": "execute_result"
    }
   ],
   "source": [
    "r.get_molecular_trajectory()"
   ]
  },
  {
   "cell_type": "markdown",
   "metadata": {},
   "source": [
    "## From a TorsionDriveDataset"
   ]
  },
  {
   "cell_type": "code",
   "execution_count": 64,
   "metadata": {
    "pycharm": {
     "name": "#%%\n"
    }
   },
   "outputs": [],
   "source": [
    "import qcportal as ptl\n",
    "client = ptl.FractalClient()\n",
    "\n",
    "ds = client.get_collection(\"TorsionDriveDataset\", \"SMIRNOFF Coverage Torsion Set 1\")"
   ]
  },
  {
   "cell_type": "markdown",
   "metadata": {},
   "source": [
    "Show some available torsions:"
   ]
  },
  {
   "cell_type": "code",
   "execution_count": 65,
   "metadata": {
    "pycharm": {
     "name": "#%%\n"
    }
   },
   "outputs": [
    {
     "data": {
      "text/html": [
       "<div>\n",
       "<style scoped>\n",
       "    .dataframe tbody tr th:only-of-type {\n",
       "        vertical-align: middle;\n",
       "    }\n",
       "\n",
       "    .dataframe tbody tr th {\n",
       "        vertical-align: top;\n",
       "    }\n",
       "\n",
       "    .dataframe thead th {\n",
       "        text-align: right;\n",
       "    }\n",
       "</style>\n",
       "<table border=\"1\" class=\"dataframe\">\n",
       "  <thead>\n",
       "    <tr style=\"text-align: right;\">\n",
       "      <th></th>\n",
       "    </tr>\n",
       "  </thead>\n",
       "  <tbody>\n",
       "    <tr>\n",
       "      <td>[CH3:1][O:2][CH:3]([OH:4])OC</td>\n",
       "    </tr>\n",
       "    <tr>\n",
       "      <td>[CH3:1][O:2][CH:3](O)[O:4]C</td>\n",
       "    </tr>\n",
       "    <tr>\n",
       "      <td>CO[CH:3]([OH:4])[O:2][CH3:1]</td>\n",
       "    </tr>\n",
       "    <tr>\n",
       "      <td>C[O:4][CH:3](O)[O:2][CH3:1]</td>\n",
       "    </tr>\n",
       "    <tr>\n",
       "      <td>[H:4][C:3](O)([O:2][CH3:1])OC</td>\n",
       "    </tr>\n",
       "  </tbody>\n",
       "</table>\n",
       "</div>"
      ],
      "text/plain": [
       "Empty DataFrame\n",
       "Columns: []\n",
       "Index: [[CH3:1][O:2][CH:3]([OH:4])OC, [CH3:1][O:2][CH:3](O)[O:4]C, CO[CH:3]([OH:4])[O:2][CH3:1], C[O:4][CH:3](O)[O:2][CH3:1], [H:4][C:3](O)([O:2][CH3:1])OC]"
      ]
     },
     "execution_count": 65,
     "metadata": {},
     "output_type": "execute_result"
    }
   ],
   "source": [
    "ds.df.head()  "
   ]
  },
  {
   "cell_type": "markdown",
   "metadata": {},
   "source": [
    "Show available specifications:"
   ]
  },
  {
   "cell_type": "code",
   "execution_count": 66,
   "metadata": {
    "pycharm": {
     "name": "#%%\n"
    }
   },
   "outputs": [
    {
     "data": {
      "text/html": [
       "<div>\n",
       "<style scoped>\n",
       "    .dataframe tbody tr th:only-of-type {\n",
       "        vertical-align: middle;\n",
       "    }\n",
       "\n",
       "    .dataframe tbody tr th {\n",
       "        vertical-align: top;\n",
       "    }\n",
       "\n",
       "    .dataframe thead th {\n",
       "        text-align: right;\n",
       "    }\n",
       "</style>\n",
       "<table border=\"1\" class=\"dataframe\">\n",
       "  <thead>\n",
       "    <tr style=\"text-align: right;\">\n",
       "      <th></th>\n",
       "      <th>Description</th>\n",
       "    </tr>\n",
       "    <tr>\n",
       "      <th>Name</th>\n",
       "      <th></th>\n",
       "    </tr>\n",
       "  </thead>\n",
       "  <tbody>\n",
       "    <tr>\n",
       "      <td>default</td>\n",
       "      <td>Standard OpenFF torsiondrive specification.</td>\n",
       "    </tr>\n",
       "  </tbody>\n",
       "</table>\n",
       "</div>"
      ],
      "text/plain": [
       "                                         Description\n",
       "Name                                                \n",
       "default  Standard OpenFF torsiondrive specification."
      ]
     },
     "execution_count": 66,
     "metadata": {},
     "output_type": "execute_result"
    }
   ],
   "source": [
    "ds.list_specifications()"
   ]
  },
  {
   "cell_type": "markdown",
   "metadata": {},
   "source": [
    "Get a specific torsiondrive:"
   ]
  },
  {
   "cell_type": "code",
   "execution_count": 67,
   "metadata": {
    "pycharm": {
     "name": "#%%\n"
    }
   },
   "outputs": [],
   "source": [
    "td = ds.get_record(\"CO[CH:3]([OH:4])[O:2][CH3:1]\", \"default\")"
   ]
  },
  {
   "cell_type": "markdown",
   "metadata": {},
   "source": [
    "Get molecules for each angle along the torsion scan:"
   ]
  },
  {
   "cell_type": "code",
   "execution_count": 68,
   "metadata": {
    "pycharm": {
     "name": "#%%\n"
    }
   },
   "outputs": [
    {
     "ename": "OSError",
     "evalue": "Server communication failure. Reason: Not Found",
     "output_type": "error",
     "traceback": [
      "\u001b[0;31m---------------------------------------------------------------------------\u001b[0m",
      "\u001b[0;31mOSError\u001b[0m                                   Traceback (most recent call last)",
      "\u001b[0;32m<ipython-input-68-fc9129d51b15>\u001b[0m in \u001b[0;36m<module>\u001b[0;34m\u001b[0m\n\u001b[0;32m----> 1\u001b[0;31m \u001b[0mtd\u001b[0m\u001b[0;34m.\u001b[0m\u001b[0mget_final_molecules\u001b[0m\u001b[0;34m(\u001b[0m\u001b[0;34m)\u001b[0m\u001b[0;34m\u001b[0m\u001b[0;34m\u001b[0m\u001b[0m\n\u001b[0m",
      "\u001b[0;32m~/anaconda3/envs/qcfractal-master/lib/python3.7/site-packages/qcfractal-0.9.0+152.gd9f04c2.dirty-py3.7.egg/qcfractal/interface/models/torsiondrive.py\u001b[0m in \u001b[0;36mget_final_molecules\u001b[0;34m(self, key)\u001b[0m\n\u001b[1;32m    288\u001b[0m             \u001b[0mopt_ids\u001b[0m \u001b[0;34m=\u001b[0m \u001b[0mlist\u001b[0m\u001b[0;34m(\u001b[0m\u001b[0mmap_id_key\u001b[0m\u001b[0;34m.\u001b[0m\u001b[0mkeys\u001b[0m\u001b[0;34m(\u001b[0m\u001b[0;34m)\u001b[0m\u001b[0;34m)\u001b[0m\u001b[0;34m\u001b[0m\u001b[0;34m\u001b[0m\u001b[0m\n\u001b[1;32m    289\u001b[0m             results = self.client.custom_query('optimization', 'final_molecule',\n\u001b[0;32m--> 290\u001b[0;31m                                                {'optimization_ids': opt_ids})\n\u001b[0m\u001b[1;32m    291\u001b[0m \u001b[0;34m\u001b[0m\u001b[0m\n\u001b[1;32m    292\u001b[0m             \u001b[0mret\u001b[0m \u001b[0;34m=\u001b[0m \u001b[0;34m{\u001b[0m\u001b[0mmap_id_key\u001b[0m\u001b[0;34m[\u001b[0m\u001b[0mopt_id\u001b[0m\u001b[0;34m]\u001b[0m\u001b[0;34m:\u001b[0m \u001b[0mmol_record\u001b[0m \u001b[0;32mfor\u001b[0m \u001b[0mopt_id\u001b[0m\u001b[0;34m,\u001b[0m \u001b[0mmol_record\u001b[0m \u001b[0;32min\u001b[0m \u001b[0mresults\u001b[0m\u001b[0;34m.\u001b[0m\u001b[0mitems\u001b[0m\u001b[0;34m(\u001b[0m\u001b[0;34m)\u001b[0m\u001b[0;34m}\u001b[0m\u001b[0;34m\u001b[0m\u001b[0;34m\u001b[0m\u001b[0m\n",
      "\u001b[0;32m~/anaconda3/envs/qcfractal-master/lib/python3.7/site-packages/qcfractal-0.9.0+152.gd9f04c2.dirty-py3.7.egg/qcfractal/interface/client.py\u001b[0m in \u001b[0;36mcustom_query\u001b[0;34m(self, object_name, query_type, data, limit, skip, projection, full_return)\u001b[0m\n\u001b[1;32m   1111\u001b[0m         }\n\u001b[1;32m   1112\u001b[0m         response = self._automodel_request(object_name + '/' + query_type, \"get\",\n\u001b[0;32m-> 1113\u001b[0;31m                                            payload, full_return=True)\n\u001b[0m\u001b[1;32m   1114\u001b[0m \u001b[0;34m\u001b[0m\u001b[0m\n\u001b[1;32m   1115\u001b[0m         \u001b[0;31m# if not projection:\u001b[0m\u001b[0;34m\u001b[0m\u001b[0;34m\u001b[0m\u001b[0;34m\u001b[0m\u001b[0m\n",
      "\u001b[0;32m~/anaconda3/envs/qcfractal-master/lib/python3.7/site-packages/qcfractal-0.9.0+152.gd9f04c2.dirty-py3.7.egg/qcfractal/interface/client.py\u001b[0m in \u001b[0;36m_automodel_request\u001b[0;34m(self, name, rest, payload, full_return, timeout)\u001b[0m\n\u001b[1;32m    230\u001b[0m             \u001b[0;32mraise\u001b[0m \u001b[0mTypeError\u001b[0m\u001b[0;34m(\u001b[0m\u001b[0mstr\u001b[0m\u001b[0;34m(\u001b[0m\u001b[0mexc\u001b[0m\u001b[0;34m)\u001b[0m\u001b[0;34m)\u001b[0m\u001b[0;34m\u001b[0m\u001b[0;34m\u001b[0m\u001b[0m\n\u001b[1;32m    231\u001b[0m \u001b[0;34m\u001b[0m\u001b[0m\n\u001b[0;32m--> 232\u001b[0;31m         \u001b[0mr\u001b[0m \u001b[0;34m=\u001b[0m \u001b[0mself\u001b[0m\u001b[0;34m.\u001b[0m\u001b[0m_request\u001b[0m\u001b[0;34m(\u001b[0m\u001b[0mrest\u001b[0m\u001b[0;34m,\u001b[0m \u001b[0mname\u001b[0m\u001b[0;34m,\u001b[0m \u001b[0mdata\u001b[0m\u001b[0;34m=\u001b[0m\u001b[0mpayload\u001b[0m\u001b[0;34m.\u001b[0m\u001b[0mserialize\u001b[0m\u001b[0;34m(\u001b[0m\u001b[0mself\u001b[0m\u001b[0;34m.\u001b[0m\u001b[0mencoding\u001b[0m\u001b[0;34m)\u001b[0m\u001b[0;34m,\u001b[0m \u001b[0mtimeout\u001b[0m\u001b[0;34m=\u001b[0m\u001b[0mtimeout\u001b[0m\u001b[0;34m)\u001b[0m\u001b[0;34m\u001b[0m\u001b[0;34m\u001b[0m\u001b[0m\n\u001b[0m\u001b[1;32m    233\u001b[0m         \u001b[0mencoding\u001b[0m \u001b[0;34m=\u001b[0m \u001b[0mr\u001b[0m\u001b[0;34m.\u001b[0m\u001b[0mheaders\u001b[0m\u001b[0;34m[\u001b[0m\u001b[0;34m\"Content-Type\"\u001b[0m\u001b[0;34m]\u001b[0m\u001b[0;34m.\u001b[0m\u001b[0msplit\u001b[0m\u001b[0;34m(\u001b[0m\u001b[0;34m\"/\"\u001b[0m\u001b[0;34m)\u001b[0m\u001b[0;34m[\u001b[0m\u001b[0;36m1\u001b[0m\u001b[0;34m]\u001b[0m\u001b[0;34m\u001b[0m\u001b[0;34m\u001b[0m\u001b[0m\n\u001b[1;32m    234\u001b[0m         \u001b[0mresponse\u001b[0m \u001b[0;34m=\u001b[0m \u001b[0mresponse_model\u001b[0m\u001b[0;34m.\u001b[0m\u001b[0mparse_raw\u001b[0m\u001b[0;34m(\u001b[0m\u001b[0mr\u001b[0m\u001b[0;34m.\u001b[0m\u001b[0mcontent\u001b[0m\u001b[0;34m,\u001b[0m \u001b[0mencoding\u001b[0m\u001b[0;34m=\u001b[0m\u001b[0mencoding\u001b[0m\u001b[0;34m)\u001b[0m\u001b[0;34m\u001b[0m\u001b[0;34m\u001b[0m\u001b[0m\n",
      "\u001b[0;32m~/anaconda3/envs/qcfractal-master/lib/python3.7/site-packages/qcfractal-0.9.0+152.gd9f04c2.dirty-py3.7.egg/qcfractal/interface/client.py\u001b[0m in \u001b[0;36m_request\u001b[0;34m(self, method, service, data, noraise, timeout)\u001b[0m\n\u001b[1;32m    187\u001b[0m \u001b[0;34m\u001b[0m\u001b[0m\n\u001b[1;32m    188\u001b[0m         \u001b[0;32mif\u001b[0m \u001b[0;34m(\u001b[0m\u001b[0mr\u001b[0m\u001b[0;34m.\u001b[0m\u001b[0mstatus_code\u001b[0m \u001b[0;34m!=\u001b[0m \u001b[0;36m200\u001b[0m\u001b[0;34m)\u001b[0m \u001b[0;32mand\u001b[0m \u001b[0;34m(\u001b[0m\u001b[0;32mnot\u001b[0m \u001b[0mnoraise\u001b[0m\u001b[0;34m)\u001b[0m\u001b[0;34m:\u001b[0m\u001b[0;34m\u001b[0m\u001b[0;34m\u001b[0m\u001b[0m\n\u001b[0;32m--> 189\u001b[0;31m             \u001b[0;32mraise\u001b[0m \u001b[0mIOError\u001b[0m\u001b[0;34m(\u001b[0m\u001b[0;34m\"Server communication failure. Reason: {}\"\u001b[0m\u001b[0;34m.\u001b[0m\u001b[0mformat\u001b[0m\u001b[0;34m(\u001b[0m\u001b[0mr\u001b[0m\u001b[0;34m.\u001b[0m\u001b[0mreason\u001b[0m\u001b[0;34m)\u001b[0m\u001b[0;34m)\u001b[0m\u001b[0;34m\u001b[0m\u001b[0;34m\u001b[0m\u001b[0m\n\u001b[0m\u001b[1;32m    190\u001b[0m \u001b[0;34m\u001b[0m\u001b[0m\n\u001b[1;32m    191\u001b[0m         \u001b[0;32mreturn\u001b[0m \u001b[0mr\u001b[0m\u001b[0;34m\u001b[0m\u001b[0;34m\u001b[0m\u001b[0m\n",
      "\u001b[0;31mOSError\u001b[0m: Server communication failure. Reason: Not Found"
     ]
    }
   ],
   "source": [
    "td.get_final_molecules()"
   ]
  },
  {
   "cell_type": "code",
   "execution_count": 69,
   "metadata": {
    "pycharm": {
     "name": "#%%\n"
    }
   },
   "outputs": [
    {
     "ename": "OSError",
     "evalue": "Server communication failure. Reason: Not Found",
     "output_type": "error",
     "traceback": [
      "\u001b[0;31m---------------------------------------------------------------------------\u001b[0m",
      "\u001b[0;31mOSError\u001b[0m                                   Traceback (most recent call last)",
      "\u001b[0;32m<ipython-input-69-27fae83a1931>\u001b[0m in \u001b[0;36m<module>\u001b[0;34m\u001b[0m\n\u001b[0;32m----> 1\u001b[0;31m \u001b[0mtd\u001b[0m\u001b[0;34m.\u001b[0m\u001b[0mget_final_molecules\u001b[0m\u001b[0;34m(\u001b[0m\u001b[0;34m)\u001b[0m\u001b[0;34m[\u001b[0m\u001b[0;34m(\u001b[0m\u001b[0;36m30\u001b[0m\u001b[0;34m,\u001b[0m\u001b[0;34m)\u001b[0m\u001b[0;34m]\u001b[0m\u001b[0;34m\u001b[0m\u001b[0;34m\u001b[0m\u001b[0m\n\u001b[0m",
      "\u001b[0;32m~/anaconda3/envs/qcfractal-master/lib/python3.7/site-packages/qcfractal-0.9.0+152.gd9f04c2.dirty-py3.7.egg/qcfractal/interface/models/torsiondrive.py\u001b[0m in \u001b[0;36mget_final_molecules\u001b[0;34m(self, key)\u001b[0m\n\u001b[1;32m    288\u001b[0m             \u001b[0mopt_ids\u001b[0m \u001b[0;34m=\u001b[0m \u001b[0mlist\u001b[0m\u001b[0;34m(\u001b[0m\u001b[0mmap_id_key\u001b[0m\u001b[0;34m.\u001b[0m\u001b[0mkeys\u001b[0m\u001b[0;34m(\u001b[0m\u001b[0;34m)\u001b[0m\u001b[0;34m)\u001b[0m\u001b[0;34m\u001b[0m\u001b[0;34m\u001b[0m\u001b[0m\n\u001b[1;32m    289\u001b[0m             results = self.client.custom_query('optimization', 'final_molecule',\n\u001b[0;32m--> 290\u001b[0;31m                                                {'optimization_ids': opt_ids})\n\u001b[0m\u001b[1;32m    291\u001b[0m \u001b[0;34m\u001b[0m\u001b[0m\n\u001b[1;32m    292\u001b[0m             \u001b[0mret\u001b[0m \u001b[0;34m=\u001b[0m \u001b[0;34m{\u001b[0m\u001b[0mmap_id_key\u001b[0m\u001b[0;34m[\u001b[0m\u001b[0mopt_id\u001b[0m\u001b[0;34m]\u001b[0m\u001b[0;34m:\u001b[0m \u001b[0mmol_record\u001b[0m \u001b[0;32mfor\u001b[0m \u001b[0mopt_id\u001b[0m\u001b[0;34m,\u001b[0m \u001b[0mmol_record\u001b[0m \u001b[0;32min\u001b[0m \u001b[0mresults\u001b[0m\u001b[0;34m.\u001b[0m\u001b[0mitems\u001b[0m\u001b[0;34m(\u001b[0m\u001b[0;34m)\u001b[0m\u001b[0;34m}\u001b[0m\u001b[0;34m\u001b[0m\u001b[0;34m\u001b[0m\u001b[0m\n",
      "\u001b[0;32m~/anaconda3/envs/qcfractal-master/lib/python3.7/site-packages/qcfractal-0.9.0+152.gd9f04c2.dirty-py3.7.egg/qcfractal/interface/client.py\u001b[0m in \u001b[0;36mcustom_query\u001b[0;34m(self, object_name, query_type, data, limit, skip, projection, full_return)\u001b[0m\n\u001b[1;32m   1111\u001b[0m         }\n\u001b[1;32m   1112\u001b[0m         response = self._automodel_request(object_name + '/' + query_type, \"get\",\n\u001b[0;32m-> 1113\u001b[0;31m                                            payload, full_return=True)\n\u001b[0m\u001b[1;32m   1114\u001b[0m \u001b[0;34m\u001b[0m\u001b[0m\n\u001b[1;32m   1115\u001b[0m         \u001b[0;31m# if not projection:\u001b[0m\u001b[0;34m\u001b[0m\u001b[0;34m\u001b[0m\u001b[0;34m\u001b[0m\u001b[0m\n",
      "\u001b[0;32m~/anaconda3/envs/qcfractal-master/lib/python3.7/site-packages/qcfractal-0.9.0+152.gd9f04c2.dirty-py3.7.egg/qcfractal/interface/client.py\u001b[0m in \u001b[0;36m_automodel_request\u001b[0;34m(self, name, rest, payload, full_return, timeout)\u001b[0m\n\u001b[1;32m    230\u001b[0m             \u001b[0;32mraise\u001b[0m \u001b[0mTypeError\u001b[0m\u001b[0;34m(\u001b[0m\u001b[0mstr\u001b[0m\u001b[0;34m(\u001b[0m\u001b[0mexc\u001b[0m\u001b[0;34m)\u001b[0m\u001b[0;34m)\u001b[0m\u001b[0;34m\u001b[0m\u001b[0;34m\u001b[0m\u001b[0m\n\u001b[1;32m    231\u001b[0m \u001b[0;34m\u001b[0m\u001b[0m\n\u001b[0;32m--> 232\u001b[0;31m         \u001b[0mr\u001b[0m \u001b[0;34m=\u001b[0m \u001b[0mself\u001b[0m\u001b[0;34m.\u001b[0m\u001b[0m_request\u001b[0m\u001b[0;34m(\u001b[0m\u001b[0mrest\u001b[0m\u001b[0;34m,\u001b[0m \u001b[0mname\u001b[0m\u001b[0;34m,\u001b[0m \u001b[0mdata\u001b[0m\u001b[0;34m=\u001b[0m\u001b[0mpayload\u001b[0m\u001b[0;34m.\u001b[0m\u001b[0mserialize\u001b[0m\u001b[0;34m(\u001b[0m\u001b[0mself\u001b[0m\u001b[0;34m.\u001b[0m\u001b[0mencoding\u001b[0m\u001b[0;34m)\u001b[0m\u001b[0;34m,\u001b[0m \u001b[0mtimeout\u001b[0m\u001b[0;34m=\u001b[0m\u001b[0mtimeout\u001b[0m\u001b[0;34m)\u001b[0m\u001b[0;34m\u001b[0m\u001b[0;34m\u001b[0m\u001b[0m\n\u001b[0m\u001b[1;32m    233\u001b[0m         \u001b[0mencoding\u001b[0m \u001b[0;34m=\u001b[0m \u001b[0mr\u001b[0m\u001b[0;34m.\u001b[0m\u001b[0mheaders\u001b[0m\u001b[0;34m[\u001b[0m\u001b[0;34m\"Content-Type\"\u001b[0m\u001b[0;34m]\u001b[0m\u001b[0;34m.\u001b[0m\u001b[0msplit\u001b[0m\u001b[0;34m(\u001b[0m\u001b[0;34m\"/\"\u001b[0m\u001b[0;34m)\u001b[0m\u001b[0;34m[\u001b[0m\u001b[0;36m1\u001b[0m\u001b[0;34m]\u001b[0m\u001b[0;34m\u001b[0m\u001b[0;34m\u001b[0m\u001b[0m\n\u001b[1;32m    234\u001b[0m         \u001b[0mresponse\u001b[0m \u001b[0;34m=\u001b[0m \u001b[0mresponse_model\u001b[0m\u001b[0;34m.\u001b[0m\u001b[0mparse_raw\u001b[0m\u001b[0;34m(\u001b[0m\u001b[0mr\u001b[0m\u001b[0;34m.\u001b[0m\u001b[0mcontent\u001b[0m\u001b[0;34m,\u001b[0m \u001b[0mencoding\u001b[0m\u001b[0;34m=\u001b[0m\u001b[0mencoding\u001b[0m\u001b[0;34m)\u001b[0m\u001b[0;34m\u001b[0m\u001b[0;34m\u001b[0m\u001b[0m\n",
      "\u001b[0;32m~/anaconda3/envs/qcfractal-master/lib/python3.7/site-packages/qcfractal-0.9.0+152.gd9f04c2.dirty-py3.7.egg/qcfractal/interface/client.py\u001b[0m in \u001b[0;36m_request\u001b[0;34m(self, method, service, data, noraise, timeout)\u001b[0m\n\u001b[1;32m    187\u001b[0m \u001b[0;34m\u001b[0m\u001b[0m\n\u001b[1;32m    188\u001b[0m         \u001b[0;32mif\u001b[0m \u001b[0;34m(\u001b[0m\u001b[0mr\u001b[0m\u001b[0;34m.\u001b[0m\u001b[0mstatus_code\u001b[0m \u001b[0;34m!=\u001b[0m \u001b[0;36m200\u001b[0m\u001b[0;34m)\u001b[0m \u001b[0;32mand\u001b[0m \u001b[0;34m(\u001b[0m\u001b[0;32mnot\u001b[0m \u001b[0mnoraise\u001b[0m\u001b[0;34m)\u001b[0m\u001b[0;34m:\u001b[0m\u001b[0;34m\u001b[0m\u001b[0;34m\u001b[0m\u001b[0m\n\u001b[0;32m--> 189\u001b[0;31m             \u001b[0;32mraise\u001b[0m \u001b[0mIOError\u001b[0m\u001b[0;34m(\u001b[0m\u001b[0;34m\"Server communication failure. Reason: {}\"\u001b[0m\u001b[0;34m.\u001b[0m\u001b[0mformat\u001b[0m\u001b[0;34m(\u001b[0m\u001b[0mr\u001b[0m\u001b[0;34m.\u001b[0m\u001b[0mreason\u001b[0m\u001b[0;34m)\u001b[0m\u001b[0;34m)\u001b[0m\u001b[0;34m\u001b[0m\u001b[0;34m\u001b[0m\u001b[0m\n\u001b[0m\u001b[1;32m    190\u001b[0m \u001b[0;34m\u001b[0m\u001b[0m\n\u001b[1;32m    191\u001b[0m         \u001b[0;32mreturn\u001b[0m \u001b[0mr\u001b[0m\u001b[0;34m\u001b[0m\u001b[0;34m\u001b[0m\u001b[0m\n",
      "\u001b[0;31mOSError\u001b[0m: Server communication failure. Reason: Not Found"
     ]
    }
   ],
   "source": [
    "td.get_final_molecules()[(30,)]"
   ]
  }
 ],
 "metadata": {
  "kernelspec": {
   "display_name": "Python 3",
   "language": "python",
   "name": "python3"
  },
  "language_info": {
   "codemirror_mode": {
    "name": "ipython",
    "version": 3
   },
   "file_extension": ".py",
   "mimetype": "text/x-python",
   "name": "python",
   "nbconvert_exporter": "python",
   "pygments_lexer": "ipython3",
   "version": "3.7.3"
  },
  "pycharm": {
   "stem_cell": {
    "cell_type": "raw",
    "metadata": {
     "collapsed": false
    },
    "source": []
   }
  }
 },
 "nbformat": 4,
 "nbformat_minor": 1
}
