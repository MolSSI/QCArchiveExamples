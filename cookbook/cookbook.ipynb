{
 "cells": [
  {
   "cell_type": "markdown",
   "metadata": {
    "collapsed": true,
    "pycharm": {
     "name": "#%% md\n"
    }
   },
   "source": [
    "# QCPortal Cookbook\n",
    "\n",
    "This cookbook gathers recipes for manipulating QCArchive data using QCPortal. If you can't find what you're looking for, please feel free to [reach out to us](https://docs.qcarchive.molssi.org/en/latest/community.html#work-with-us)."
   ]
  },
  {
   "cell_type": "markdown",
   "metadata": {
    "pycharm": {
     "name": "#%% md\n"
    }
   },
   "source": [
    "## Get molecules and geometries..."
   ]
  },
  {
   "cell_type": "markdown",
   "metadata": {
    "pycharm": {
     "name": "#%% md\n"
    }
   },
   "source": [
    "### ... from an ID\n",
    "\n",
    "Every molecule computed with QCArchive is assigned a unique ID.\n",
    "If a molecule's ID is known, it can be queried from the Molecules table. "
   ]
  },
  {
   "cell_type": "code",
   "execution_count": 1,
   "metadata": {
    "pycharm": {
     "name": "#%%\n"
    }
   },
   "outputs": [],
   "source": [
    "import qcportal as ptl\n",
    "client = ptl.FractalClient()"
   ]
  },
  {
   "cell_type": "markdown",
   "metadata": {},
   "source": [
    "For example, molecule 1234 is 1,2,3-trimethylbenzene."
   ]
  },
  {
   "cell_type": "code",
   "execution_count": 2,
   "metadata": {},
   "outputs": [
    {
     "data": {
      "application/3dmoljs_load.v0": "<div id=\"3dmolviewer_156641622222911\"  style=\"position: relative; width: 400px; height: 400px\">\n        <p id=\"3dmolwarning_156641622222911\" style=\"background-color:#ffcccc;color:black\">You appear to be running in JupyterLab (or JavaScript failed to load for some other reason).  You need to install the 3dmol extension: <br>\n        <tt>jupyter labextension install jupyterlab_3dmol</tt></p>\n        </div>\n<script>\n\nvar loadScriptAsync = function(uri){\n  return new Promise((resolve, reject) => {\n    var tag = document.createElement('script');\n    tag.src = uri;\n    tag.async = true;\n    tag.onload = () => {\n      resolve();\n    };\n  var firstScriptTag = document.getElementsByTagName('script')[0];\n  firstScriptTag.parentNode.insertBefore(tag, firstScriptTag);\n});\n};\n\nif(typeof $3Dmolpromise === 'undefined') {\n$3Dmolpromise = null;\n  $3Dmolpromise = loadScriptAsync('https://3dmol.csb.pitt.edu/build/3Dmol.js');\n}\n\nvar viewer_156641622222911 = null;\nvar warn = document.getElementById(\"3dmolwarning_156641622222911\");\nif(warn) {\n    warn.parentNode.removeChild(warn);\n}\n$3Dmolpromise.then(function() {\nviewer_156641622222911 = $3Dmol.createViewer($(\"#3dmolviewer_156641622222911\"),{backgroundColor:\"white\"});\n\tviewer_156641622222911.addModel(\"21\\nC9H12\\nC                     0.776479871994     1.156134463385     0.121542591228\\nC                     0.438429690334     0.679567908122    -1.141595091975\\nC                     0.439577078821     0.423533055514     1.255585387764\\nC                    -0.363723536834    -0.465178778108    -1.279725991730\\nC                    -0.415502828385    -0.685937227907     1.160631416613\\nC                    -0.792912983429    -1.170236644458    -0.121804279943\\nC                    -0.744392084678    -0.917923156500    -2.666766549983\\nC                    -0.856925058179    -1.374181477949     2.427060703777\\nC                    -1.703936690413    -2.374380900784    -0.246989621254\\nH                     1.380610203168     2.049406423411     0.216714048921\\nH                     0.770290662964     1.232461941773    -2.011963177510\\nH                     0.769502950936     0.784464203584     2.222141623291\\nH                    -0.238962510978    -1.878436765084    -2.898916777516\\nH                    -0.447809351101    -0.177691478927    -3.439954373507\\nH                    -1.844638825192    -1.050455805875    -2.735084841327\\nH                    -1.962016543060    -1.480103641644     2.438815782834\\nH                    -0.562925111565    -0.802128403465     3.332572326307\\nH                    -0.383242656300    -2.377541231755     2.485353500027\\nH                    -2.761425129123    -2.038610393380    -0.229251405356\\nH                    -1.542976842368    -3.097214459361     0.578338572599\\nH                    -1.519884697209    -2.938478658464    -1.182927991461\\n\",\"xyz\");\n\tviewer_156641622222911.setStyle({\"stick\": {\"radius\": 0.2}, \"sphere\": {\"scale\": 0.3}});\n\tviewer_156641622222911.zoomTo();\nviewer_156641622222911.render();\n});\n</script>",
      "text/html": [
       "<div id=\"3dmolviewer_156641622222911\"  style=\"position: relative; width: 400px; height: 400px\">\n",
       "        <p id=\"3dmolwarning_156641622222911\" style=\"background-color:#ffcccc;color:black\">You appear to be running in JupyterLab (or JavaScript failed to load for some other reason).  You need to install the 3dmol extension: <br>\n",
       "        <tt>jupyter labextension install jupyterlab_3dmol</tt></p>\n",
       "        </div>\n",
       "<script>\n",
       "\n",
       "var loadScriptAsync = function(uri){\n",
       "  return new Promise((resolve, reject) => {\n",
       "    var tag = document.createElement('script');\n",
       "    tag.src = uri;\n",
       "    tag.async = true;\n",
       "    tag.onload = () => {\n",
       "      resolve();\n",
       "    };\n",
       "  var firstScriptTag = document.getElementsByTagName('script')[0];\n",
       "  firstScriptTag.parentNode.insertBefore(tag, firstScriptTag);\n",
       "});\n",
       "};\n",
       "\n",
       "if(typeof $3Dmolpromise === 'undefined') {\n",
       "$3Dmolpromise = null;\n",
       "  $3Dmolpromise = loadScriptAsync('https://3dmol.csb.pitt.edu/build/3Dmol.js');\n",
       "}\n",
       "\n",
       "var viewer_156641622222911 = null;\n",
       "var warn = document.getElementById(\"3dmolwarning_156641622222911\");\n",
       "if(warn) {\n",
       "    warn.parentNode.removeChild(warn);\n",
       "}\n",
       "$3Dmolpromise.then(function() {\n",
       "viewer_156641622222911 = $3Dmol.createViewer($(\"#3dmolviewer_156641622222911\"),{backgroundColor:\"white\"});\n",
       "\tviewer_156641622222911.addModel(\"21\\nC9H12\\nC                     0.776479871994     1.156134463385     0.121542591228\\nC                     0.438429690334     0.679567908122    -1.141595091975\\nC                     0.439577078821     0.423533055514     1.255585387764\\nC                    -0.363723536834    -0.465178778108    -1.279725991730\\nC                    -0.415502828385    -0.685937227907     1.160631416613\\nC                    -0.792912983429    -1.170236644458    -0.121804279943\\nC                    -0.744392084678    -0.917923156500    -2.666766549983\\nC                    -0.856925058179    -1.374181477949     2.427060703777\\nC                    -1.703936690413    -2.374380900784    -0.246989621254\\nH                     1.380610203168     2.049406423411     0.216714048921\\nH                     0.770290662964     1.232461941773    -2.011963177510\\nH                     0.769502950936     0.784464203584     2.222141623291\\nH                    -0.238962510978    -1.878436765084    -2.898916777516\\nH                    -0.447809351101    -0.177691478927    -3.439954373507\\nH                    -1.844638825192    -1.050455805875    -2.735084841327\\nH                    -1.962016543060    -1.480103641644     2.438815782834\\nH                    -0.562925111565    -0.802128403465     3.332572326307\\nH                    -0.383242656300    -2.377541231755     2.485353500027\\nH                    -2.761425129123    -2.038610393380    -0.229251405356\\nH                    -1.542976842368    -3.097214459361     0.578338572599\\nH                    -1.519884697209    -2.938478658464    -1.182927991461\\n\",\"xyz\");\n",
       "\tviewer_156641622222911.setStyle({\"stick\": {\"radius\": 0.2}, \"sphere\": {\"scale\": 0.3}});\n",
       "\tviewer_156641622222911.zoomTo();\n",
       "viewer_156641622222911.render();\n",
       "});\n",
       "</script>"
      ]
     },
     "metadata": {},
     "output_type": "display_data"
    },
    {
     "data": {
      "text/plain": [
       "<Molecule(name='C9H12' formula='C9H12' hash='572b510')>"
      ]
     },
     "execution_count": 2,
     "metadata": {},
     "output_type": "execute_result"
    }
   ],
   "source": [
    "mol = client.query_molecules(1234)[0]\n",
    "mol "
   ]
  },
  {
   "cell_type": "code",
   "execution_count": 3,
   "metadata": {},
   "outputs": [
    {
     "name": "stdout",
     "output_type": "stream",
     "text": [
      "    Geometry (in Angstrom), charge = 0.0, multiplicity = 1:\n",
      "\n",
      "       Center              X                  Y                   Z       \n",
      "    ------------   -----------------  -----------------  -----------------\n",
      "    C                 0.776479871994     1.156134463385     0.121542591228\n",
      "    C                 0.438429690334     0.679567908122    -1.141595091975\n",
      "    C                 0.439577078821     0.423533055514     1.255585387764\n",
      "    C                -0.363723536834    -0.465178778108    -1.279725991730\n",
      "    C                -0.415502828385    -0.685937227907     1.160631416613\n",
      "    C                -0.792912983429    -1.170236644458    -0.121804279943\n",
      "    C                -0.744392084678    -0.917923156500    -2.666766549983\n",
      "    C                -0.856925058179    -1.374181477949     2.427060703777\n",
      "    C                -1.703936690413    -2.374380900784    -0.246989621254\n",
      "    H                 1.380610203168     2.049406423411     0.216714048921\n",
      "    H                 0.770290662964     1.232461941773    -2.011963177510\n",
      "    H                 0.769502950936     0.784464203584     2.222141623291\n",
      "    H                -0.238962510978    -1.878436765084    -2.898916777516\n",
      "    H                -0.447809351101    -0.177691478927    -3.439954373507\n",
      "    H                -1.844638825192    -1.050455805875    -2.735084841327\n",
      "    H                -1.962016543060    -1.480103641644     2.438815782834\n",
      "    H                -0.562925111565    -0.802128403465     3.332572326307\n",
      "    H                -0.383242656300    -2.377541231755     2.485353500027\n",
      "    H                -2.761425129123    -2.038610393380    -0.229251405356\n",
      "    H                -1.542976842368    -3.097214459361     0.578338572599\n",
      "    H                -1.519884697209    -2.938478658464    -1.182927991461\n",
      "\n"
     ]
    }
   ],
   "source": [
    "print(mol)"
   ]
  },
  {
   "cell_type": "markdown",
   "metadata": {
    "pycharm": {
     "name": "#%% md\n"
    }
   },
   "source": [
    "The following sections show how to find molecule IDs from Collections."
   ]
  },
  {
   "cell_type": "markdown",
   "metadata": {},
   "source": [
    "### ...from a ReactionDataset\n",
    "\n",
    "Load a ReactionDataset:"
   ]
  },
  {
   "cell_type": "code",
   "execution_count": 4,
   "metadata": {},
   "outputs": [
    {
     "data": {
      "text/html": [
       "<div>\n",
       "<style scoped>\n",
       "    .dataframe tbody tr th:only-of-type {\n",
       "        vertical-align: middle;\n",
       "    }\n",
       "\n",
       "    .dataframe tbody tr th {\n",
       "        vertical-align: top;\n",
       "    }\n",
       "\n",
       "    .dataframe thead th {\n",
       "        text-align: right;\n",
       "    }\n",
       "</style>\n",
       "<table border=\"1\" class=\"dataframe\">\n",
       "  <thead>\n",
       "    <tr style=\"text-align: right;\">\n",
       "      <th></th>\n",
       "      <th>S220</th>\n",
       "      <th>S22a</th>\n",
       "      <th>S22b</th>\n",
       "    </tr>\n",
       "  </thead>\n",
       "  <tbody>\n",
       "    <tr>\n",
       "      <th>Ammonia Dimer</th>\n",
       "      <td>-3.17</td>\n",
       "      <td>-3.15</td>\n",
       "      <td>-3.133</td>\n",
       "    </tr>\n",
       "    <tr>\n",
       "      <th>Water Dimer</th>\n",
       "      <td>-5.02</td>\n",
       "      <td>-5.07</td>\n",
       "      <td>-4.989</td>\n",
       "    </tr>\n",
       "    <tr>\n",
       "      <th>Formic Acid Dimer</th>\n",
       "      <td>-18.61</td>\n",
       "      <td>-18.81</td>\n",
       "      <td>-18.753</td>\n",
       "    </tr>\n",
       "    <tr>\n",
       "      <th>Formamide Dimer</th>\n",
       "      <td>-15.96</td>\n",
       "      <td>-16.11</td>\n",
       "      <td>-16.062</td>\n",
       "    </tr>\n",
       "    <tr>\n",
       "      <th>Uracil Dimer HB</th>\n",
       "      <td>-20.65</td>\n",
       "      <td>-20.69</td>\n",
       "      <td>-20.641</td>\n",
       "    </tr>\n",
       "    <tr>\n",
       "      <th>2-Pyridone-2-Aminopyridine Complex</th>\n",
       "      <td>-16.71</td>\n",
       "      <td>-17.00</td>\n",
       "      <td>-16.934</td>\n",
       "    </tr>\n",
       "    <tr>\n",
       "      <th>Adenine-Thymine Complex WC</th>\n",
       "      <td>-16.37</td>\n",
       "      <td>-16.74</td>\n",
       "      <td>-16.660</td>\n",
       "    </tr>\n",
       "    <tr>\n",
       "      <th>Methane Dimer</th>\n",
       "      <td>-0.53</td>\n",
       "      <td>-0.53</td>\n",
       "      <td>-0.527</td>\n",
       "    </tr>\n",
       "    <tr>\n",
       "      <th>Ethene Dimer</th>\n",
       "      <td>-1.51</td>\n",
       "      <td>-1.48</td>\n",
       "      <td>-1.472</td>\n",
       "    </tr>\n",
       "    <tr>\n",
       "      <th>Benzene-Methane Complex</th>\n",
       "      <td>-1.50</td>\n",
       "      <td>-1.45</td>\n",
       "      <td>-1.448</td>\n",
       "    </tr>\n",
       "    <tr>\n",
       "      <th>Benzene Dimer PD</th>\n",
       "      <td>-2.73</td>\n",
       "      <td>-2.62</td>\n",
       "      <td>-2.654</td>\n",
       "    </tr>\n",
       "    <tr>\n",
       "      <th>Pyrazine Dimer</th>\n",
       "      <td>-4.42</td>\n",
       "      <td>-4.20</td>\n",
       "      <td>-4.255</td>\n",
       "    </tr>\n",
       "    <tr>\n",
       "      <th>Uracil Dimer Stack</th>\n",
       "      <td>-10.12</td>\n",
       "      <td>-9.74</td>\n",
       "      <td>-9.805</td>\n",
       "    </tr>\n",
       "    <tr>\n",
       "      <th>Indole-Benzene Complex Stack</th>\n",
       "      <td>-5.22</td>\n",
       "      <td>-4.59</td>\n",
       "      <td>-4.524</td>\n",
       "    </tr>\n",
       "    <tr>\n",
       "      <th>Adenine-Thymine Complex Stack</th>\n",
       "      <td>-12.23</td>\n",
       "      <td>-11.66</td>\n",
       "      <td>-11.730</td>\n",
       "    </tr>\n",
       "    <tr>\n",
       "      <th>Ethene-Ethine Complex</th>\n",
       "      <td>-1.53</td>\n",
       "      <td>-1.50</td>\n",
       "      <td>-1.496</td>\n",
       "    </tr>\n",
       "    <tr>\n",
       "      <th>Benzene-Water Complex</th>\n",
       "      <td>-3.28</td>\n",
       "      <td>-3.29</td>\n",
       "      <td>-3.275</td>\n",
       "    </tr>\n",
       "    <tr>\n",
       "      <th>Benzene-Ammonia Complex</th>\n",
       "      <td>-2.35</td>\n",
       "      <td>-2.32</td>\n",
       "      <td>-2.312</td>\n",
       "    </tr>\n",
       "    <tr>\n",
       "      <th>Benzene-HCN Complex</th>\n",
       "      <td>-4.46</td>\n",
       "      <td>-4.55</td>\n",
       "      <td>-4.541</td>\n",
       "    </tr>\n",
       "    <tr>\n",
       "      <th>Benzene Dimer T-Shape</th>\n",
       "      <td>-2.74</td>\n",
       "      <td>-2.71</td>\n",
       "      <td>-2.717</td>\n",
       "    </tr>\n",
       "    <tr>\n",
       "      <th>Indole-Benzene Complex T-Shape</th>\n",
       "      <td>-5.73</td>\n",
       "      <td>-5.62</td>\n",
       "      <td>-5.627</td>\n",
       "    </tr>\n",
       "    <tr>\n",
       "      <th>Phenol Dimer</th>\n",
       "      <td>-7.05</td>\n",
       "      <td>-7.09</td>\n",
       "      <td>-7.097</td>\n",
       "    </tr>\n",
       "  </tbody>\n",
       "</table>\n",
       "</div>"
      ],
      "text/plain": [
       "                                     S220   S22a    S22b\n",
       "Ammonia Dimer                       -3.17  -3.15  -3.133\n",
       "Water Dimer                         -5.02  -5.07  -4.989\n",
       "Formic Acid Dimer                  -18.61 -18.81 -18.753\n",
       "Formamide Dimer                    -15.96 -16.11 -16.062\n",
       "Uracil Dimer HB                    -20.65 -20.69 -20.641\n",
       "2-Pyridone-2-Aminopyridine Complex -16.71 -17.00 -16.934\n",
       "Adenine-Thymine Complex WC         -16.37 -16.74 -16.660\n",
       "Methane Dimer                       -0.53  -0.53  -0.527\n",
       "Ethene Dimer                        -1.51  -1.48  -1.472\n",
       "Benzene-Methane Complex             -1.50  -1.45  -1.448\n",
       "Benzene Dimer PD                    -2.73  -2.62  -2.654\n",
       "Pyrazine Dimer                      -4.42  -4.20  -4.255\n",
       "Uracil Dimer Stack                 -10.12  -9.74  -9.805\n",
       "Indole-Benzene Complex Stack        -5.22  -4.59  -4.524\n",
       "Adenine-Thymine Complex Stack      -12.23 -11.66 -11.730\n",
       "Ethene-Ethine Complex               -1.53  -1.50  -1.496\n",
       "Benzene-Water Complex               -3.28  -3.29  -3.275\n",
       "Benzene-Ammonia Complex             -2.35  -2.32  -2.312\n",
       "Benzene-HCN Complex                 -4.46  -4.55  -4.541\n",
       "Benzene Dimer T-Shape               -2.74  -2.71  -2.717\n",
       "Indole-Benzene Complex T-Shape      -5.73  -5.62  -5.627\n",
       "Phenol Dimer                        -7.05  -7.09  -7.097"
      ]
     },
     "execution_count": 4,
     "metadata": {},
     "output_type": "execute_result"
    }
   ],
   "source": [
    "import qcportal as ptl\n",
    "client = ptl.FractalClient()\n",
    "\n",
    "ds = client.get_collection(\"ReactionDataset\", \"S22\")\n",
    "ds.df  # list available reactions"
   ]
  },
  {
   "cell_type": "markdown",
   "metadata": {},
   "source": [
    "Each reaction has a `stoichiometry` describing which molecules are involved in the reactants and products:"
   ]
  },
  {
   "cell_type": "code",
   "execution_count": 5,
   "metadata": {
    "scrolled": true
   },
   "outputs": [
    {
     "data": {
      "text/plain": [
       "{'default1': {'25': 1.0, '26': 1.0},\n",
       " 'cp1': {'27': 1.0, '28': 1.0},\n",
       " 'default': {'29': 1.0},\n",
       " 'cp': {'29': 1.0}}"
      ]
     },
     "execution_count": 5,
     "metadata": {},
     "output_type": "execute_result"
    }
   ],
   "source": [
    "ds.get_rxn('Adenine-Thymine Complex WC').stoichiometry"
   ]
  },
  {
   "cell_type": "markdown",
   "metadata": {},
   "source": [
    "For the case of the S22 dataset, `default` corresponds to the dimer (molecule ID 29) and `default1` corresponds to the monomers (molecule IDs 25 and 26) without counterpoise corrections.  "
   ]
  },
  {
   "cell_type": "code",
   "execution_count": 6,
   "metadata": {},
   "outputs": [
    {
     "data": {
      "application/3dmoljs_load.v0": "<div id=\"3dmolviewer_15664162227036211\"  style=\"position: relative; width: 400px; height: 400px\">\n        <p id=\"3dmolwarning_15664162227036211\" style=\"background-color:#ffcccc;color:black\">You appear to be running in JupyterLab (or JavaScript failed to load for some other reason).  You need to install the 3dmol extension: <br>\n        <tt>jupyter labextension install jupyterlab_3dmol</tt></p>\n        </div>\n<script>\n\nvar loadScriptAsync = function(uri){\n  return new Promise((resolve, reject) => {\n    var tag = document.createElement('script');\n    tag.src = uri;\n    tag.async = true;\n    tag.onload = () => {\n      resolve();\n    };\n  var firstScriptTag = document.getElementsByTagName('script')[0];\n  firstScriptTag.parentNode.insertBefore(tag, firstScriptTag);\n});\n};\n\nif(typeof $3Dmolpromise === 'undefined') {\n$3Dmolpromise = null;\n  $3Dmolpromise = loadScriptAsync('https://3dmol.csb.pitt.edu/build/3Dmol.js');\n}\n\nvar viewer_15664162227036211 = null;\nvar warn = document.getElementById(\"3dmolwarning_15664162227036211\");\nif(warn) {\n    warn.parentNode.removeChild(warn);\n}\n$3Dmolpromise.then(function() {\nviewer_15664162227036211 = $3Dmol.createViewer($(\"#3dmolviewer_15664162227036211\"),{backgroundColor:\"white\"});\n\tviewer_15664162227036211.addModel(\"15\\nC10H11N7O2 ((0,),[])\\nN                     1.946701651864     0.459206388857     0.002691776301\\nC                     1.211499353879    -0.664601649456     0.000649649694\\nC                    -0.190017100977    -0.525980138926     0.000085880170\\nC                    -0.684328645606     0.778089068141    -0.001242317587\\nN                     0.023374096069     1.915425204339    -0.001445918519\\nC                     1.328482850599     1.659337312300     0.001159178555\\nN                    -1.200818705647    -1.458754955474     0.001839673989\\nC                    -2.297905628493    -0.720315437069     0.001172011103\\nN                    -2.048903990816     0.624562879298    -0.000940892956\\nN                     1.818191601266    -1.859762593454    -0.009628940276\\nH                     1.995293539738     2.512328096671     0.002469172616\\nH                    -3.302022206254    -1.110146259682     0.002182173355\\nH                    -2.725587417464     1.369506244918    -0.001544959325\\nH                     2.830559300599    -1.920515915565     0.043318181877\\nH                     1.247349448285    -2.683678021740     0.035842140873\\n\",\"xyz\");\n\tviewer_15664162227036211.setStyle({\"stick\": {\"radius\": 0.2}, \"sphere\": {\"scale\": 0.3}});\n\tviewer_15664162227036211.zoomTo();\nviewer_15664162227036211.render();\n});\n</script>",
      "text/html": [
       "<div id=\"3dmolviewer_15664162227036211\"  style=\"position: relative; width: 400px; height: 400px\">\n",
       "        <p id=\"3dmolwarning_15664162227036211\" style=\"background-color:#ffcccc;color:black\">You appear to be running in JupyterLab (or JavaScript failed to load for some other reason).  You need to install the 3dmol extension: <br>\n",
       "        <tt>jupyter labextension install jupyterlab_3dmol</tt></p>\n",
       "        </div>\n",
       "<script>\n",
       "\n",
       "var loadScriptAsync = function(uri){\n",
       "  return new Promise((resolve, reject) => {\n",
       "    var tag = document.createElement('script');\n",
       "    tag.src = uri;\n",
       "    tag.async = true;\n",
       "    tag.onload = () => {\n",
       "      resolve();\n",
       "    };\n",
       "  var firstScriptTag = document.getElementsByTagName('script')[0];\n",
       "  firstScriptTag.parentNode.insertBefore(tag, firstScriptTag);\n",
       "});\n",
       "};\n",
       "\n",
       "if(typeof $3Dmolpromise === 'undefined') {\n",
       "$3Dmolpromise = null;\n",
       "  $3Dmolpromise = loadScriptAsync('https://3dmol.csb.pitt.edu/build/3Dmol.js');\n",
       "}\n",
       "\n",
       "var viewer_15664162227036211 = null;\n",
       "var warn = document.getElementById(\"3dmolwarning_15664162227036211\");\n",
       "if(warn) {\n",
       "    warn.parentNode.removeChild(warn);\n",
       "}\n",
       "$3Dmolpromise.then(function() {\n",
       "viewer_15664162227036211 = $3Dmol.createViewer($(\"#3dmolviewer_15664162227036211\"),{backgroundColor:\"white\"});\n",
       "\tviewer_15664162227036211.addModel(\"15\\nC10H11N7O2 ((0,),[])\\nN                     1.946701651864     0.459206388857     0.002691776301\\nC                     1.211499353879    -0.664601649456     0.000649649694\\nC                    -0.190017100977    -0.525980138926     0.000085880170\\nC                    -0.684328645606     0.778089068141    -0.001242317587\\nN                     0.023374096069     1.915425204339    -0.001445918519\\nC                     1.328482850599     1.659337312300     0.001159178555\\nN                    -1.200818705647    -1.458754955474     0.001839673989\\nC                    -2.297905628493    -0.720315437069     0.001172011103\\nN                    -2.048903990816     0.624562879298    -0.000940892956\\nN                     1.818191601266    -1.859762593454    -0.009628940276\\nH                     1.995293539738     2.512328096671     0.002469172616\\nH                    -3.302022206254    -1.110146259682     0.002182173355\\nH                    -2.725587417464     1.369506244918    -0.001544959325\\nH                     2.830559300599    -1.920515915565     0.043318181877\\nH                     1.247349448285    -2.683678021740     0.035842140873\\n\",\"xyz\");\n",
       "\tviewer_15664162227036211.setStyle({\"stick\": {\"radius\": 0.2}, \"sphere\": {\"scale\": 0.3}});\n",
       "\tviewer_15664162227036211.zoomTo();\n",
       "viewer_15664162227036211.render();\n",
       "});\n",
       "</script>"
      ]
     },
     "metadata": {},
     "output_type": "display_data"
    },
    {
     "data": {
      "text/plain": [
       "<Molecule(name='C10H11N7O2 ((0,),[])' formula='C5H5N5' hash='c0e7ed3')>"
      ]
     },
     "execution_count": 6,
     "metadata": {},
     "output_type": "execute_result"
    }
   ],
   "source": [
    "client.query_molecules('25')[0]"
   ]
  },
  {
   "cell_type": "code",
   "execution_count": 7,
   "metadata": {},
   "outputs": [
    {
     "data": {
      "application/3dmoljs_load.v0": "<div id=\"3dmolviewer_15664162227727911\"  style=\"position: relative; width: 400px; height: 400px\">\n        <p id=\"3dmolwarning_15664162227727911\" style=\"background-color:#ffcccc;color:black\">You appear to be running in JupyterLab (or JavaScript failed to load for some other reason).  You need to install the 3dmol extension: <br>\n        <tt>jupyter labextension install jupyterlab_3dmol</tt></p>\n        </div>\n<script>\n\nvar loadScriptAsync = function(uri){\n  return new Promise((resolve, reject) => {\n    var tag = document.createElement('script');\n    tag.src = uri;\n    tag.async = true;\n    tag.onload = () => {\n      resolve();\n    };\n  var firstScriptTag = document.getElementsByTagName('script')[0];\n  firstScriptTag.parentNode.insertBefore(tag, firstScriptTag);\n});\n};\n\nif(typeof $3Dmolpromise === 'undefined') {\n$3Dmolpromise = null;\n  $3Dmolpromise = loadScriptAsync('https://3dmol.csb.pitt.edu/build/3Dmol.js');\n}\n\nvar viewer_15664162227727911 = null;\nvar warn = document.getElementById(\"3dmolwarning_15664162227727911\");\nif(warn) {\n    warn.parentNode.removeChild(warn);\n}\n$3Dmolpromise.then(function() {\nviewer_15664162227727911 = $3Dmol.createViewer($(\"#3dmolviewer_15664162227727911\"),{backgroundColor:\"white\"});\n\tviewer_15664162227727911.addModel(\"15\\nC10H11N7O2 ((1,),[])\\nN                     1.107047853029     1.237553452056     0.000448234265\\nC                    -0.232426934296     1.528258413266     0.000175083572\\nC                    -1.179728030410     0.564190511861    -0.000007202102\\nC                    -0.737087221918    -0.822590828935     0.000264112346\\nN                     0.631893931038    -1.017360576276     0.001469133523\\nC                     1.612419624702    -0.050835509287     0.000136009127\\nC                    -2.646041250442     0.841168245803    -0.000414859058\\nO                    -1.513439959088    -1.779918658417    -0.000593726247\\nO                     2.806912672975    -0.289391749753    -0.001181324622\\nH                     1.798057080455     1.969069152335    -0.000260931991\\nH                     0.969553616959    -2.003110794207     0.001664161784\\nH                    -0.482622485721     2.579866100342    -0.000090007752\\nH                    -3.119123866995     0.396883378970     0.873920552694\\nH                    -3.118561886089     0.397014382080    -0.875117461584\\nH                    -2.839305160530     1.911959448158    -0.000409075151\\n\",\"xyz\");\n\tviewer_15664162227727911.setStyle({\"stick\": {\"radius\": 0.2}, \"sphere\": {\"scale\": 0.3}});\n\tviewer_15664162227727911.zoomTo();\nviewer_15664162227727911.render();\n});\n</script>",
      "text/html": [
       "<div id=\"3dmolviewer_15664162227727911\"  style=\"position: relative; width: 400px; height: 400px\">\n",
       "        <p id=\"3dmolwarning_15664162227727911\" style=\"background-color:#ffcccc;color:black\">You appear to be running in JupyterLab (or JavaScript failed to load for some other reason).  You need to install the 3dmol extension: <br>\n",
       "        <tt>jupyter labextension install jupyterlab_3dmol</tt></p>\n",
       "        </div>\n",
       "<script>\n",
       "\n",
       "var loadScriptAsync = function(uri){\n",
       "  return new Promise((resolve, reject) => {\n",
       "    var tag = document.createElement('script');\n",
       "    tag.src = uri;\n",
       "    tag.async = true;\n",
       "    tag.onload = () => {\n",
       "      resolve();\n",
       "    };\n",
       "  var firstScriptTag = document.getElementsByTagName('script')[0];\n",
       "  firstScriptTag.parentNode.insertBefore(tag, firstScriptTag);\n",
       "});\n",
       "};\n",
       "\n",
       "if(typeof $3Dmolpromise === 'undefined') {\n",
       "$3Dmolpromise = null;\n",
       "  $3Dmolpromise = loadScriptAsync('https://3dmol.csb.pitt.edu/build/3Dmol.js');\n",
       "}\n",
       "\n",
       "var viewer_15664162227727911 = null;\n",
       "var warn = document.getElementById(\"3dmolwarning_15664162227727911\");\n",
       "if(warn) {\n",
       "    warn.parentNode.removeChild(warn);\n",
       "}\n",
       "$3Dmolpromise.then(function() {\n",
       "viewer_15664162227727911 = $3Dmol.createViewer($(\"#3dmolviewer_15664162227727911\"),{backgroundColor:\"white\"});\n",
       "\tviewer_15664162227727911.addModel(\"15\\nC10H11N7O2 ((1,),[])\\nN                     1.107047853029     1.237553452056     0.000448234265\\nC                    -0.232426934296     1.528258413266     0.000175083572\\nC                    -1.179728030410     0.564190511861    -0.000007202102\\nC                    -0.737087221918    -0.822590828935     0.000264112346\\nN                     0.631893931038    -1.017360576276     0.001469133523\\nC                     1.612419624702    -0.050835509287     0.000136009127\\nC                    -2.646041250442     0.841168245803    -0.000414859058\\nO                    -1.513439959088    -1.779918658417    -0.000593726247\\nO                     2.806912672975    -0.289391749753    -0.001181324622\\nH                     1.798057080455     1.969069152335    -0.000260931991\\nH                     0.969553616959    -2.003110794207     0.001664161784\\nH                    -0.482622485721     2.579866100342    -0.000090007752\\nH                    -3.119123866995     0.396883378970     0.873920552694\\nH                    -3.118561886089     0.397014382080    -0.875117461584\\nH                    -2.839305160530     1.911959448158    -0.000409075151\\n\",\"xyz\");\n",
       "\tviewer_15664162227727911.setStyle({\"stick\": {\"radius\": 0.2}, \"sphere\": {\"scale\": 0.3}});\n",
       "\tviewer_15664162227727911.zoomTo();\n",
       "viewer_15664162227727911.render();\n",
       "});\n",
       "</script>"
      ]
     },
     "metadata": {},
     "output_type": "display_data"
    },
    {
     "data": {
      "text/plain": [
       "<Molecule(name='C10H11N7O2 ((1,),[])' formula='C5H6N2O2' hash='a4f9749')>"
      ]
     },
     "execution_count": 7,
     "metadata": {},
     "output_type": "execute_result"
    }
   ],
   "source": [
    "client.query_molecules('26')[0]"
   ]
  },
  {
   "cell_type": "code",
   "execution_count": 8,
   "metadata": {},
   "outputs": [
    {
     "data": {
      "application/3dmoljs_load.v0": "<div id=\"3dmolviewer_1566416222922518\"  style=\"position: relative; width: 400px; height: 400px\">\n        <p id=\"3dmolwarning_1566416222922518\" style=\"background-color:#ffcccc;color:black\">You appear to be running in JupyterLab (or JavaScript failed to load for some other reason).  You need to install the 3dmol extension: <br>\n        <tt>jupyter labextension install jupyterlab_3dmol</tt></p>\n        </div>\n<script>\n\nvar loadScriptAsync = function(uri){\n  return new Promise((resolve, reject) => {\n    var tag = document.createElement('script');\n    tag.src = uri;\n    tag.async = true;\n    tag.onload = () => {\n      resolve();\n    };\n  var firstScriptTag = document.getElementsByTagName('script')[0];\n  firstScriptTag.parentNode.insertBefore(tag, firstScriptTag);\n});\n};\n\nif(typeof $3Dmolpromise === 'undefined') {\n$3Dmolpromise = null;\n  $3Dmolpromise = loadScriptAsync('https://3dmol.csb.pitt.edu/build/3Dmol.js');\n}\n\nvar viewer_1566416222922518 = null;\nvar warn = document.getElementById(\"3dmolwarning_1566416222922518\");\nif(warn) {\n    warn.parentNode.removeChild(warn);\n}\n$3Dmolpromise.then(function() {\nviewer_1566416222922518 = $3Dmol.createViewer($(\"#3dmolviewer_1566416222922518\"),{backgroundColor:\"white\"});\n\tviewer_1566416222922518.addModel(\"30\\nC10H11N7O2\\nN                     0.935015501028    -0.027980102136    -0.378891602521\\nC                     1.673963802153    -0.035776602275     0.742431599531\\nC                     3.074795501699    -0.009447998712     0.599456198832\\nC                     3.564610897448     0.019544599348    -0.705987202075\\nN                     2.853150997578     0.025803098842    -1.840959598925\\nC                     1.549076001313     0.001256901711    -1.580800900065\\nN                     4.088582401393    -0.005442899826     1.528978602283\\nC                     5.182992100311     0.025397098211     0.787217602572\\nN                     4.929487101070     0.041240399310    -0.556727398657\\nN                     1.071617697781    -0.076536598638     1.939139000426\\nH                     0.879443501157     0.005025998144    -2.431570902311\\nH                     6.188259098745     0.037554198486     1.173882400267\\nH                     5.603536802157     0.064875501454    -1.303681097917\\nH                     0.058691499528    -0.042376500447     2.003918101668\\nH                     1.644379599847    -0.034739499611     2.761915898652\\nN                    -3.921172899171    -0.000964600095    -1.516365901596\\nC                    -4.613683301800     0.016905100464    -0.333651999359\\nC                    -3.991738701381     0.021934797557     0.866333802526\\nC                    -2.536136700147     0.007465097619     0.876672401192\\nN                    -1.925648400039    -0.011059300985    -0.363894799747\\nC                    -2.539589697866    -0.014947398789    -1.596235697524\\nC                    -4.710613098945     0.041337302241     2.173863701548\\nO                    -1.867473001753     0.011209301557     1.912083302084\\nO                    -1.941678299606    -0.029187800950    -2.657378300670\\nH                    -4.401717200150    -0.003607797928    -2.400492398813\\nH                    -0.883825501219    -0.021616799096    -0.378426900261\\nH                    -5.690921999289     0.026934701973    -0.422718302530\\nH                    -4.443928200424    -0.830257299650     2.769565499197\\nH                    -4.426705598926     0.918617802132     2.753025599802\\nH                    -5.788397097675     0.050552997449     2.024728000769\\n\",\"xyz\");\n\tviewer_1566416222922518.setStyle({\"stick\": {\"radius\": 0.2}, \"sphere\": {\"scale\": 0.3}});\n\tviewer_1566416222922518.zoomTo();\nviewer_1566416222922518.render();\n});\n</script>",
      "text/html": [
       "<div id=\"3dmolviewer_1566416222922518\"  style=\"position: relative; width: 400px; height: 400px\">\n",
       "        <p id=\"3dmolwarning_1566416222922518\" style=\"background-color:#ffcccc;color:black\">You appear to be running in JupyterLab (or JavaScript failed to load for some other reason).  You need to install the 3dmol extension: <br>\n",
       "        <tt>jupyter labextension install jupyterlab_3dmol</tt></p>\n",
       "        </div>\n",
       "<script>\n",
       "\n",
       "var loadScriptAsync = function(uri){\n",
       "  return new Promise((resolve, reject) => {\n",
       "    var tag = document.createElement('script');\n",
       "    tag.src = uri;\n",
       "    tag.async = true;\n",
       "    tag.onload = () => {\n",
       "      resolve();\n",
       "    };\n",
       "  var firstScriptTag = document.getElementsByTagName('script')[0];\n",
       "  firstScriptTag.parentNode.insertBefore(tag, firstScriptTag);\n",
       "});\n",
       "};\n",
       "\n",
       "if(typeof $3Dmolpromise === 'undefined') {\n",
       "$3Dmolpromise = null;\n",
       "  $3Dmolpromise = loadScriptAsync('https://3dmol.csb.pitt.edu/build/3Dmol.js');\n",
       "}\n",
       "\n",
       "var viewer_1566416222922518 = null;\n",
       "var warn = document.getElementById(\"3dmolwarning_1566416222922518\");\n",
       "if(warn) {\n",
       "    warn.parentNode.removeChild(warn);\n",
       "}\n",
       "$3Dmolpromise.then(function() {\n",
       "viewer_1566416222922518 = $3Dmol.createViewer($(\"#3dmolviewer_1566416222922518\"),{backgroundColor:\"white\"});\n",
       "\tviewer_1566416222922518.addModel(\"30\\nC10H11N7O2\\nN                     0.935015501028    -0.027980102136    -0.378891602521\\nC                     1.673963802153    -0.035776602275     0.742431599531\\nC                     3.074795501699    -0.009447998712     0.599456198832\\nC                     3.564610897448     0.019544599348    -0.705987202075\\nN                     2.853150997578     0.025803098842    -1.840959598925\\nC                     1.549076001313     0.001256901711    -1.580800900065\\nN                     4.088582401393    -0.005442899826     1.528978602283\\nC                     5.182992100311     0.025397098211     0.787217602572\\nN                     4.929487101070     0.041240399310    -0.556727398657\\nN                     1.071617697781    -0.076536598638     1.939139000426\\nH                     0.879443501157     0.005025998144    -2.431570902311\\nH                     6.188259098745     0.037554198486     1.173882400267\\nH                     5.603536802157     0.064875501454    -1.303681097917\\nH                     0.058691499528    -0.042376500447     2.003918101668\\nH                     1.644379599847    -0.034739499611     2.761915898652\\nN                    -3.921172899171    -0.000964600095    -1.516365901596\\nC                    -4.613683301800     0.016905100464    -0.333651999359\\nC                    -3.991738701381     0.021934797557     0.866333802526\\nC                    -2.536136700147     0.007465097619     0.876672401192\\nN                    -1.925648400039    -0.011059300985    -0.363894799747\\nC                    -2.539589697866    -0.014947398789    -1.596235697524\\nC                    -4.710613098945     0.041337302241     2.173863701548\\nO                    -1.867473001753     0.011209301557     1.912083302084\\nO                    -1.941678299606    -0.029187800950    -2.657378300670\\nH                    -4.401717200150    -0.003607797928    -2.400492398813\\nH                    -0.883825501219    -0.021616799096    -0.378426900261\\nH                    -5.690921999289     0.026934701973    -0.422718302530\\nH                    -4.443928200424    -0.830257299650     2.769565499197\\nH                    -4.426705598926     0.918617802132     2.753025599802\\nH                    -5.788397097675     0.050552997449     2.024728000769\\n\",\"xyz\");\n",
       "\tviewer_1566416222922518.setStyle({\"stick\": {\"radius\": 0.2}, \"sphere\": {\"scale\": 0.3}});\n",
       "\tviewer_1566416222922518.zoomTo();\n",
       "viewer_1566416222922518.render();\n",
       "});\n",
       "</script>"
      ]
     },
     "metadata": {},
     "output_type": "display_data"
    },
    {
     "data": {
      "text/plain": [
       "<Molecule(name='C10H11N7O2' formula='C10H11N7O2' hash='5357c2c')>"
      ]
     },
     "execution_count": 8,
     "metadata": {},
     "output_type": "execute_result"
    }
   ],
   "source": [
    "client.query_molecules('29')[0]"
   ]
  },
  {
   "cell_type": "markdown",
   "metadata": {},
   "source": [
    "Monomers used in counterpoise-corrected calculations contain ghost atoms:"
   ]
  },
  {
   "cell_type": "code",
   "execution_count": 9,
   "metadata": {
    "scrolled": false
   },
   "outputs": [
    {
     "data": {
      "application/3dmoljs_load.v0": "<div id=\"3dmolviewer_156641622298678\"  style=\"position: relative; width: 400px; height: 400px\">\n        <p id=\"3dmolwarning_156641622298678\" style=\"background-color:#ffcccc;color:black\">You appear to be running in JupyterLab (or JavaScript failed to load for some other reason).  You need to install the 3dmol extension: <br>\n        <tt>jupyter labextension install jupyterlab_3dmol</tt></p>\n        </div>\n<script>\n\nvar loadScriptAsync = function(uri){\n  return new Promise((resolve, reject) => {\n    var tag = document.createElement('script');\n    tag.src = uri;\n    tag.async = true;\n    tag.onload = () => {\n      resolve();\n    };\n  var firstScriptTag = document.getElementsByTagName('script')[0];\n  firstScriptTag.parentNode.insertBefore(tag, firstScriptTag);\n});\n};\n\nif(typeof $3Dmolpromise === 'undefined') {\n$3Dmolpromise = null;\n  $3Dmolpromise = loadScriptAsync('https://3dmol.csb.pitt.edu/build/3Dmol.js');\n}\n\nvar viewer_156641622298678 = null;\nvar warn = document.getElementById(\"3dmolwarning_156641622298678\");\nif(warn) {\n    warn.parentNode.removeChild(warn);\n}\n$3Dmolpromise.then(function() {\nviewer_156641622298678 = $3Dmol.createViewer($(\"#3dmolviewer_156641622298678\"),{backgroundColor:\"white\"});\n\tviewer_156641622298678.addModel(\"30\\nC10H11N7O2 ((0,),[1])\\nN                     0.934901981932     0.378864879072     0.027979123158\\nC                     1.673881176424    -0.742437976117     0.035774326813\\nC                     3.074708954766    -0.599423929605     0.009446834522\\nC                     3.564488398216     0.706033012946    -0.019543398116\\nN                     2.852997223973     1.840985814364    -0.025800558792\\nC                     1.548929382183     1.580791142037    -0.001255594643\\nN                     4.088521471929    -1.528918392500     0.005440910120\\nC                     5.182910749899    -0.787127187353    -0.025397225213\\nN                     4.929368724128     0.556810855195    -0.041238568357\\nN                     1.071568023916    -1.939162035510     0.076532053006\\nH                     0.879273444768     2.431542697166    -0.005023775600\\nH                     6.188188411253    -1.173764266747    -0.037554299030\\nH                     5.603397861388     1.303783165618    -0.064872067094\\nH                     0.058643635449    -2.003968997932     0.042371213967\\nH                     1.644352627684    -2.761923084879     0.034734017335\\n@N                   -3.921317740265     1.516205402148     0.000962340508\\n@C                   -4.613795540286     0.333472449531    -0.016909661971\\n@C                   -3.991817871583    -0.866496207012    -0.021940856636\\n@C                   -2.536215595177    -0.876794720504    -0.007470251805\\n@N                   -1.925761490501     0.363789276519     0.011056491054\\n@C                   -2.539736750921     1.596113245918     0.014946139348\\n@C                   -4.710656226888    -2.174045886678    -0.041345874911\\n@O                   -1.867523363548    -1.912187190154    -0.011215662267\\n@O                   -1.941854600286     2.657272301182     0.029188594716\\n@H                   -4.401886404563     2.400318654059     0.003606628446\\n@H                   -0.883938999147     0.378350063730     0.021614671803\\n@H                   -5.691036687866     0.422509081736    -0.026939803241\\n@H                   -4.443955463634    -2.769741709917     0.830247954380\\n@H                   -4.426732211247    -2.753198577249    -0.918627110359\\n@H                   -5.788444326741    -2.024939867449    -0.050562019921\\n\",\"xyz\");\n\tviewer_156641622298678.setStyle({\"stick\": {\"radius\": 0.2}, \"sphere\": {\"scale\": 0.3}});\n\tviewer_156641622298678.zoomTo();\nviewer_156641622298678.render();\n});\n</script>",
      "text/html": [
       "<div id=\"3dmolviewer_156641622298678\"  style=\"position: relative; width: 400px; height: 400px\">\n",
       "        <p id=\"3dmolwarning_156641622298678\" style=\"background-color:#ffcccc;color:black\">You appear to be running in JupyterLab (or JavaScript failed to load for some other reason).  You need to install the 3dmol extension: <br>\n",
       "        <tt>jupyter labextension install jupyterlab_3dmol</tt></p>\n",
       "        </div>\n",
       "<script>\n",
       "\n",
       "var loadScriptAsync = function(uri){\n",
       "  return new Promise((resolve, reject) => {\n",
       "    var tag = document.createElement('script');\n",
       "    tag.src = uri;\n",
       "    tag.async = true;\n",
       "    tag.onload = () => {\n",
       "      resolve();\n",
       "    };\n",
       "  var firstScriptTag = document.getElementsByTagName('script')[0];\n",
       "  firstScriptTag.parentNode.insertBefore(tag, firstScriptTag);\n",
       "});\n",
       "};\n",
       "\n",
       "if(typeof $3Dmolpromise === 'undefined') {\n",
       "$3Dmolpromise = null;\n",
       "  $3Dmolpromise = loadScriptAsync('https://3dmol.csb.pitt.edu/build/3Dmol.js');\n",
       "}\n",
       "\n",
       "var viewer_156641622298678 = null;\n",
       "var warn = document.getElementById(\"3dmolwarning_156641622298678\");\n",
       "if(warn) {\n",
       "    warn.parentNode.removeChild(warn);\n",
       "}\n",
       "$3Dmolpromise.then(function() {\n",
       "viewer_156641622298678 = $3Dmol.createViewer($(\"#3dmolviewer_156641622298678\"),{backgroundColor:\"white\"});\n",
       "\tviewer_156641622298678.addModel(\"30\\nC10H11N7O2 ((0,),[1])\\nN                     0.934901981932     0.378864879072     0.027979123158\\nC                     1.673881176424    -0.742437976117     0.035774326813\\nC                     3.074708954766    -0.599423929605     0.009446834522\\nC                     3.564488398216     0.706033012946    -0.019543398116\\nN                     2.852997223973     1.840985814364    -0.025800558792\\nC                     1.548929382183     1.580791142037    -0.001255594643\\nN                     4.088521471929    -1.528918392500     0.005440910120\\nC                     5.182910749899    -0.787127187353    -0.025397225213\\nN                     4.929368724128     0.556810855195    -0.041238568357\\nN                     1.071568023916    -1.939162035510     0.076532053006\\nH                     0.879273444768     2.431542697166    -0.005023775600\\nH                     6.188188411253    -1.173764266747    -0.037554299030\\nH                     5.603397861388     1.303783165618    -0.064872067094\\nH                     0.058643635449    -2.003968997932     0.042371213967\\nH                     1.644352627684    -2.761923084879     0.034734017335\\n@N                   -3.921317740265     1.516205402148     0.000962340508\\n@C                   -4.613795540286     0.333472449531    -0.016909661971\\n@C                   -3.991817871583    -0.866496207012    -0.021940856636\\n@C                   -2.536215595177    -0.876794720504    -0.007470251805\\n@N                   -1.925761490501     0.363789276519     0.011056491054\\n@C                   -2.539736750921     1.596113245918     0.014946139348\\n@C                   -4.710656226888    -2.174045886678    -0.041345874911\\n@O                   -1.867523363548    -1.912187190154    -0.011215662267\\n@O                   -1.941854600286     2.657272301182     0.029188594716\\n@H                   -4.401886404563     2.400318654059     0.003606628446\\n@H                   -0.883938999147     0.378350063730     0.021614671803\\n@H                   -5.691036687866     0.422509081736    -0.026939803241\\n@H                   -4.443955463634    -2.769741709917     0.830247954380\\n@H                   -4.426732211247    -2.753198577249    -0.918627110359\\n@H                   -5.788444326741    -2.024939867449    -0.050562019921\\n\",\"xyz\");\n",
       "\tviewer_156641622298678.setStyle({\"stick\": {\"radius\": 0.2}, \"sphere\": {\"scale\": 0.3}});\n",
       "\tviewer_156641622298678.zoomTo();\n",
       "viewer_156641622298678.render();\n",
       "});\n",
       "</script>"
      ]
     },
     "metadata": {},
     "output_type": "display_data"
    },
    {
     "data": {
      "text/plain": [
       "<Molecule(name='C10H11N7O2 ((0,),[1])' formula='C10H11N7O2' hash='d3955aa')>"
      ]
     },
     "execution_count": 9,
     "metadata": {},
     "output_type": "execute_result"
    }
   ],
   "source": [
    "client.query_molecules('27')[0]"
   ]
  },
  {
   "cell_type": "code",
   "execution_count": 10,
   "metadata": {
    "scrolled": false
   },
   "outputs": [
    {
     "data": {
      "application/3dmoljs_load.v0": "<div id=\"3dmolviewer_1566416223088108\"  style=\"position: relative; width: 400px; height: 400px\">\n        <p id=\"3dmolwarning_1566416223088108\" style=\"background-color:#ffcccc;color:black\">You appear to be running in JupyterLab (or JavaScript failed to load for some other reason).  You need to install the 3dmol extension: <br>\n        <tt>jupyter labextension install jupyterlab_3dmol</tt></p>\n        </div>\n<script>\n\nvar loadScriptAsync = function(uri){\n  return new Promise((resolve, reject) => {\n    var tag = document.createElement('script');\n    tag.src = uri;\n    tag.async = true;\n    tag.onload = () => {\n      resolve();\n    };\n  var firstScriptTag = document.getElementsByTagName('script')[0];\n  firstScriptTag.parentNode.insertBefore(tag, firstScriptTag);\n});\n};\n\nif(typeof $3Dmolpromise === 'undefined') {\n$3Dmolpromise = null;\n  $3Dmolpromise = loadScriptAsync('https://3dmol.csb.pitt.edu/build/3Dmol.js');\n}\n\nvar viewer_1566416223088108 = null;\nvar warn = document.getElementById(\"3dmolwarning_1566416223088108\");\nif(warn) {\n    warn.parentNode.removeChild(warn);\n}\n$3Dmolpromise.then(function() {\nviewer_1566416223088108 = $3Dmol.createViewer($(\"#3dmolviewer_1566416223088108\"),{backgroundColor:\"white\"});\n\tviewer_1566416223088108.addModel(\"30\\nC10H11N7O2 ((1,),[0])\\nN                     3.921317740265     1.516205402148     0.000962340508\\nC                     4.613795540286     0.333472449531    -0.016909661971\\nC                     3.991817871583    -0.866496207012    -0.021940856636\\nC                     2.536215595177    -0.876794720504    -0.007470251805\\nN                     1.925761490501     0.363789276519     0.011056491054\\nC                     2.539736750921     1.596113245918     0.014946139348\\nC                     4.710656226888    -2.174045886678    -0.041345874911\\nO                     1.867523363548    -1.912187190154    -0.011215662267\\nO                     1.941854600286     2.657272301182     0.029188594716\\nH                     4.401886404563     2.400318654059     0.003606628446\\nH                     0.883938999147     0.378350063730     0.021614671803\\nH                     5.691036687866     0.422509081736    -0.026939803241\\nH                     4.443955463634    -2.769741709917     0.830247954380\\nH                     4.426732211247    -2.753198577249    -0.918627110359\\nH                     5.788444326741    -2.024939867449    -0.050562019921\\n@N                   -0.934901981932     0.378864879072     0.027979123158\\n@C                   -1.673881176424    -0.742437976117     0.035774326813\\n@C                   -3.074708954766    -0.599423929605     0.009446834522\\n@C                   -3.564488398216     0.706033012946    -0.019543398116\\n@N                   -2.852997223973     1.840985814364    -0.025800558792\\n@C                   -1.548929382183     1.580791142037    -0.001255594643\\n@N                   -4.088521471929    -1.528918392500     0.005440910120\\n@C                   -5.182910749899    -0.787127187353    -0.025397225213\\n@N                   -4.929368724128     0.556810855195    -0.041238568357\\n@N                   -1.071568023916    -1.939162035510     0.076532053006\\n@H                   -0.879273444768     2.431542697166    -0.005023775600\\n@H                   -6.188188411253    -1.173764266747    -0.037554299030\\n@H                   -5.603397861388     1.303783165618    -0.064872067094\\n@H                   -0.058643635449    -2.003968997932     0.042371213967\\n@H                   -1.644352627684    -2.761923084879     0.034734017335\\n\",\"xyz\");\n\tviewer_1566416223088108.setStyle({\"stick\": {\"radius\": 0.2}, \"sphere\": {\"scale\": 0.3}});\n\tviewer_1566416223088108.zoomTo();\nviewer_1566416223088108.render();\n});\n</script>",
      "text/html": [
       "<div id=\"3dmolviewer_1566416223088108\"  style=\"position: relative; width: 400px; height: 400px\">\n",
       "        <p id=\"3dmolwarning_1566416223088108\" style=\"background-color:#ffcccc;color:black\">You appear to be running in JupyterLab (or JavaScript failed to load for some other reason).  You need to install the 3dmol extension: <br>\n",
       "        <tt>jupyter labextension install jupyterlab_3dmol</tt></p>\n",
       "        </div>\n",
       "<script>\n",
       "\n",
       "var loadScriptAsync = function(uri){\n",
       "  return new Promise((resolve, reject) => {\n",
       "    var tag = document.createElement('script');\n",
       "    tag.src = uri;\n",
       "    tag.async = true;\n",
       "    tag.onload = () => {\n",
       "      resolve();\n",
       "    };\n",
       "  var firstScriptTag = document.getElementsByTagName('script')[0];\n",
       "  firstScriptTag.parentNode.insertBefore(tag, firstScriptTag);\n",
       "});\n",
       "};\n",
       "\n",
       "if(typeof $3Dmolpromise === 'undefined') {\n",
       "$3Dmolpromise = null;\n",
       "  $3Dmolpromise = loadScriptAsync('https://3dmol.csb.pitt.edu/build/3Dmol.js');\n",
       "}\n",
       "\n",
       "var viewer_1566416223088108 = null;\n",
       "var warn = document.getElementById(\"3dmolwarning_1566416223088108\");\n",
       "if(warn) {\n",
       "    warn.parentNode.removeChild(warn);\n",
       "}\n",
       "$3Dmolpromise.then(function() {\n",
       "viewer_1566416223088108 = $3Dmol.createViewer($(\"#3dmolviewer_1566416223088108\"),{backgroundColor:\"white\"});\n",
       "\tviewer_1566416223088108.addModel(\"30\\nC10H11N7O2 ((1,),[0])\\nN                     3.921317740265     1.516205402148     0.000962340508\\nC                     4.613795540286     0.333472449531    -0.016909661971\\nC                     3.991817871583    -0.866496207012    -0.021940856636\\nC                     2.536215595177    -0.876794720504    -0.007470251805\\nN                     1.925761490501     0.363789276519     0.011056491054\\nC                     2.539736750921     1.596113245918     0.014946139348\\nC                     4.710656226888    -2.174045886678    -0.041345874911\\nO                     1.867523363548    -1.912187190154    -0.011215662267\\nO                     1.941854600286     2.657272301182     0.029188594716\\nH                     4.401886404563     2.400318654059     0.003606628446\\nH                     0.883938999147     0.378350063730     0.021614671803\\nH                     5.691036687866     0.422509081736    -0.026939803241\\nH                     4.443955463634    -2.769741709917     0.830247954380\\nH                     4.426732211247    -2.753198577249    -0.918627110359\\nH                     5.788444326741    -2.024939867449    -0.050562019921\\n@N                   -0.934901981932     0.378864879072     0.027979123158\\n@C                   -1.673881176424    -0.742437976117     0.035774326813\\n@C                   -3.074708954766    -0.599423929605     0.009446834522\\n@C                   -3.564488398216     0.706033012946    -0.019543398116\\n@N                   -2.852997223973     1.840985814364    -0.025800558792\\n@C                   -1.548929382183     1.580791142037    -0.001255594643\\n@N                   -4.088521471929    -1.528918392500     0.005440910120\\n@C                   -5.182910749899    -0.787127187353    -0.025397225213\\n@N                   -4.929368724128     0.556810855195    -0.041238568357\\n@N                   -1.071568023916    -1.939162035510     0.076532053006\\n@H                   -0.879273444768     2.431542697166    -0.005023775600\\n@H                   -6.188188411253    -1.173764266747    -0.037554299030\\n@H                   -5.603397861388     1.303783165618    -0.064872067094\\n@H                   -0.058643635449    -2.003968997932     0.042371213967\\n@H                   -1.644352627684    -2.761923084879     0.034734017335\\n\",\"xyz\");\n",
       "\tviewer_1566416223088108.setStyle({\"stick\": {\"radius\": 0.2}, \"sphere\": {\"scale\": 0.3}});\n",
       "\tviewer_1566416223088108.zoomTo();\n",
       "viewer_1566416223088108.render();\n",
       "});\n",
       "</script>"
      ]
     },
     "metadata": {},
     "output_type": "display_data"
    },
    {
     "data": {
      "text/plain": [
       "<Molecule(name='C10H11N7O2 ((1,),[0])' formula='C10H11N7O2' hash='e63c41f')>"
      ]
     },
     "execution_count": 10,
     "metadata": {},
     "output_type": "execute_result"
    }
   ],
   "source": [
    "client.query_molecules('28')[0]"
   ]
  },
  {
   "cell_type": "markdown",
   "metadata": {},
   "source": [
    "### ...from an OptimizationDataset\n",
    "\n",
    "Load an `OptimizationDataset`:"
   ]
  },
  {
   "cell_type": "code",
   "execution_count": 11,
   "metadata": {},
   "outputs": [],
   "source": [
    "import qcportal as ptl\n",
    "client = ptl.FractalClient()\n",
    "\n",
    "client.list_collections()\n",
    "ds = client.get_collection(\"OptimizationDataset\", \"SMIRNOFF Coverage Set 1\")"
   ]
  },
  {
   "cell_type": "markdown",
   "metadata": {},
   "source": [
    "Show some available molecules:"
   ]
  },
  {
   "cell_type": "code",
   "execution_count": 12,
   "metadata": {},
   "outputs": [
    {
     "data": {
      "text/html": [
       "<div>\n",
       "<style scoped>\n",
       "    .dataframe tbody tr th:only-of-type {\n",
       "        vertical-align: middle;\n",
       "    }\n",
       "\n",
       "    .dataframe tbody tr th {\n",
       "        vertical-align: top;\n",
       "    }\n",
       "\n",
       "    .dataframe thead th {\n",
       "        text-align: right;\n",
       "    }\n",
       "</style>\n",
       "<table border=\"1\" class=\"dataframe\">\n",
       "  <thead>\n",
       "    <tr style=\"text-align: right;\">\n",
       "      <th></th>\n",
       "    </tr>\n",
       "  </thead>\n",
       "  <tbody>\n",
       "    <tr>\n",
       "      <th>COC(O)OC-0</th>\n",
       "    </tr>\n",
       "    <tr>\n",
       "      <th>C[S-]-0</th>\n",
       "    </tr>\n",
       "    <tr>\n",
       "      <th>CS-0</th>\n",
       "    </tr>\n",
       "    <tr>\n",
       "      <th>CO-0</th>\n",
       "    </tr>\n",
       "    <tr>\n",
       "      <th>CCO-0</th>\n",
       "    </tr>\n",
       "  </tbody>\n",
       "</table>\n",
       "</div>"
      ],
      "text/plain": [
       "Empty DataFrame\n",
       "Columns: []\n",
       "Index: [COC(O)OC-0, C[S-]-0, CS-0, CO-0, CCO-0]"
      ]
     },
     "execution_count": 12,
     "metadata": {},
     "output_type": "execute_result"
    }
   ],
   "source": [
    "ds.df.head()"
   ]
  },
  {
   "cell_type": "markdown",
   "metadata": {},
   "source": [
    "Show available specifications:"
   ]
  },
  {
   "cell_type": "code",
   "execution_count": 13,
   "metadata": {},
   "outputs": [
    {
     "data": {
      "text/html": [
       "<div>\n",
       "<style scoped>\n",
       "    .dataframe tbody tr th:only-of-type {\n",
       "        vertical-align: middle;\n",
       "    }\n",
       "\n",
       "    .dataframe tbody tr th {\n",
       "        vertical-align: top;\n",
       "    }\n",
       "\n",
       "    .dataframe thead th {\n",
       "        text-align: right;\n",
       "    }\n",
       "</style>\n",
       "<table border=\"1\" class=\"dataframe\">\n",
       "  <thead>\n",
       "    <tr style=\"text-align: right;\">\n",
       "      <th></th>\n",
       "      <th>Description</th>\n",
       "    </tr>\n",
       "    <tr>\n",
       "      <th>Name</th>\n",
       "      <th></th>\n",
       "    </tr>\n",
       "  </thead>\n",
       "  <tbody>\n",
       "    <tr>\n",
       "      <th>default</th>\n",
       "      <td>Standard OpenFF optimization quantum chemistry...</td>\n",
       "    </tr>\n",
       "  </tbody>\n",
       "</table>\n",
       "</div>"
      ],
      "text/plain": [
       "                                               Description\n",
       "Name                                                      \n",
       "default  Standard OpenFF optimization quantum chemistry..."
      ]
     },
     "execution_count": 13,
     "metadata": {},
     "output_type": "execute_result"
    }
   ],
   "source": [
    "ds.list_specifications()"
   ]
  },
  {
   "cell_type": "markdown",
   "metadata": {},
   "source": [
    "Obtain a specific record from a molecule and specification:"
   ]
  },
  {
   "cell_type": "code",
   "execution_count": 14,
   "metadata": {},
   "outputs": [],
   "source": [
    "r = ds.get_record(\"CCO-0\",\"default\")"
   ]
  },
  {
   "cell_type": "markdown",
   "metadata": {},
   "source": [
    "Get the optimized molecule:"
   ]
  },
  {
   "cell_type": "code",
   "execution_count": 15,
   "metadata": {},
   "outputs": [
    {
     "data": {
      "application/3dmoljs_load.v0": "<div id=\"3dmolviewer_15664162243078048\"  style=\"position: relative; width: 400px; height: 400px\">\n        <p id=\"3dmolwarning_15664162243078048\" style=\"background-color:#ffcccc;color:black\">You appear to be running in JupyterLab (or JavaScript failed to load for some other reason).  You need to install the 3dmol extension: <br>\n        <tt>jupyter labextension install jupyterlab_3dmol</tt></p>\n        </div>\n<script>\n\nvar loadScriptAsync = function(uri){\n  return new Promise((resolve, reject) => {\n    var tag = document.createElement('script');\n    tag.src = uri;\n    tag.async = true;\n    tag.onload = () => {\n      resolve();\n    };\n  var firstScriptTag = document.getElementsByTagName('script')[0];\n  firstScriptTag.parentNode.insertBefore(tag, firstScriptTag);\n});\n};\n\nif(typeof $3Dmolpromise === 'undefined') {\n$3Dmolpromise = null;\n  $3Dmolpromise = loadScriptAsync('https://3dmol.csb.pitt.edu/build/3Dmol.js');\n}\n\nvar viewer_15664162243078048 = null;\nvar warn = document.getElementById(\"3dmolwarning_15664162243078048\");\nif(warn) {\n    warn.parentNode.removeChild(warn);\n}\n$3Dmolpromise.then(function() {\nviewer_15664162243078048 = $3Dmol.createViewer($(\"#3dmolviewer_15664162243078048\"),{backgroundColor:\"white\"});\n\tviewer_15664162243078048.addModel(\"9\\nC2H6O\\nC                     1.061794570636    -0.292452256734     0.016362466277\\nC                     1.911485400629     0.889539392695    -0.444082895767\\nO                     1.536076916594     1.374958024338    -1.738057550114\\nH                    -0.000090468136    -0.027376676071     0.012252907809\\nH                     1.201060735428    -1.160032261008    -0.640835972835\\nH                     1.340584985238    -0.597358206987     1.031700352625\\nH                     2.978762871597     0.622464183647    -0.426853864765\\nH                     1.776466110499     1.740665181947     0.228962934984\\nH                     1.638810824637     0.648006451042    -2.371976107868\\n\",\"xyz\");\n\tviewer_15664162243078048.setStyle({\"stick\": {\"radius\": 0.2}, \"sphere\": {\"scale\": 0.3}});\n\tviewer_15664162243078048.zoomTo();\nviewer_15664162243078048.render();\n});\n</script>",
      "text/html": [
       "<div id=\"3dmolviewer_15664162243078048\"  style=\"position: relative; width: 400px; height: 400px\">\n",
       "        <p id=\"3dmolwarning_15664162243078048\" style=\"background-color:#ffcccc;color:black\">You appear to be running in JupyterLab (or JavaScript failed to load for some other reason).  You need to install the 3dmol extension: <br>\n",
       "        <tt>jupyter labextension install jupyterlab_3dmol</tt></p>\n",
       "        </div>\n",
       "<script>\n",
       "\n",
       "var loadScriptAsync = function(uri){\n",
       "  return new Promise((resolve, reject) => {\n",
       "    var tag = document.createElement('script');\n",
       "    tag.src = uri;\n",
       "    tag.async = true;\n",
       "    tag.onload = () => {\n",
       "      resolve();\n",
       "    };\n",
       "  var firstScriptTag = document.getElementsByTagName('script')[0];\n",
       "  firstScriptTag.parentNode.insertBefore(tag, firstScriptTag);\n",
       "});\n",
       "};\n",
       "\n",
       "if(typeof $3Dmolpromise === 'undefined') {\n",
       "$3Dmolpromise = null;\n",
       "  $3Dmolpromise = loadScriptAsync('https://3dmol.csb.pitt.edu/build/3Dmol.js');\n",
       "}\n",
       "\n",
       "var viewer_15664162243078048 = null;\n",
       "var warn = document.getElementById(\"3dmolwarning_15664162243078048\");\n",
       "if(warn) {\n",
       "    warn.parentNode.removeChild(warn);\n",
       "}\n",
       "$3Dmolpromise.then(function() {\n",
       "viewer_15664162243078048 = $3Dmol.createViewer($(\"#3dmolviewer_15664162243078048\"),{backgroundColor:\"white\"});\n",
       "\tviewer_15664162243078048.addModel(\"9\\nC2H6O\\nC                     1.061794570636    -0.292452256734     0.016362466277\\nC                     1.911485400629     0.889539392695    -0.444082895767\\nO                     1.536076916594     1.374958024338    -1.738057550114\\nH                    -0.000090468136    -0.027376676071     0.012252907809\\nH                     1.201060735428    -1.160032261008    -0.640835972835\\nH                     1.340584985238    -0.597358206987     1.031700352625\\nH                     2.978762871597     0.622464183647    -0.426853864765\\nH                     1.776466110499     1.740665181947     0.228962934984\\nH                     1.638810824637     0.648006451042    -2.371976107868\\n\",\"xyz\");\n",
       "\tviewer_15664162243078048.setStyle({\"stick\": {\"radius\": 0.2}, \"sphere\": {\"scale\": 0.3}});\n",
       "\tviewer_15664162243078048.zoomTo();\n",
       "viewer_15664162243078048.render();\n",
       "});\n",
       "</script>"
      ]
     },
     "metadata": {},
     "output_type": "display_data"
    },
    {
     "data": {
      "text/plain": [
       "<Molecule(name='C2H6O' formula='C2H6O' hash='422ad57')>"
      ]
     },
     "execution_count": 15,
     "metadata": {},
     "output_type": "execute_result"
    }
   ],
   "source": [
    "r.get_final_molecule()"
   ]
  },
  {
   "cell_type": "markdown",
   "metadata": {},
   "source": [
    "Get the optimization trajectory:"
   ]
  },
  {
   "cell_type": "code",
   "execution_count": 16,
   "metadata": {},
   "outputs": [
    {
     "data": {
      "text/plain": [
       "[<Molecule(name='C2H6O' formula='C2H6O' hash='29df3ae')>,\n",
       " <Molecule(name='C2H6O' formula='C2H6O' hash='93989e4')>,\n",
       " <Molecule(name='C2H6O' formula='C2H6O' hash='14261f7')>,\n",
       " <Molecule(name='C2H6O' formula='C2H6O' hash='3b6db86')>,\n",
       " <Molecule(name='C2H6O' formula='C2H6O' hash='b35d632')>,\n",
       " <Molecule(name='C2H6O' formula='C2H6O' hash='c900f12')>,\n",
       " <Molecule(name='C2H6O' formula='C2H6O' hash='a1e9d7a')>,\n",
       " <Molecule(name='C2H6O' formula='C2H6O' hash='422ad57')>]"
      ]
     },
     "execution_count": 16,
     "metadata": {},
     "output_type": "execute_result"
    }
   ],
   "source": [
    "r.get_molecular_trajectory()"
   ]
  },
  {
   "cell_type": "markdown",
   "metadata": {
    "pycharm": {
     "name": "#%% md\n"
    }
   },
   "source": [
    "### ...from a TorsionDriveDataset"
   ]
  },
  {
   "cell_type": "code",
   "execution_count": 17,
   "metadata": {
    "scrolled": true
   },
   "outputs": [],
   "source": [
    "import qcportal as ptl\n",
    "client = ptl.FractalClient()\n",
    "\n",
    "ds = client.get_collection(\"TorsionDriveDataset\", \"SMIRNOFF Coverage Torsion Set 1\")"
   ]
  },
  {
   "cell_type": "markdown",
   "metadata": {},
   "source": [
    "Show some available torsions:"
   ]
  },
  {
   "cell_type": "code",
   "execution_count": 18,
   "metadata": {},
   "outputs": [
    {
     "data": {
      "text/html": [
       "<div>\n",
       "<style scoped>\n",
       "    .dataframe tbody tr th:only-of-type {\n",
       "        vertical-align: middle;\n",
       "    }\n",
       "\n",
       "    .dataframe tbody tr th {\n",
       "        vertical-align: top;\n",
       "    }\n",
       "\n",
       "    .dataframe thead th {\n",
       "        text-align: right;\n",
       "    }\n",
       "</style>\n",
       "<table border=\"1\" class=\"dataframe\">\n",
       "  <thead>\n",
       "    <tr style=\"text-align: right;\">\n",
       "      <th></th>\n",
       "    </tr>\n",
       "  </thead>\n",
       "  <tbody>\n",
       "    <tr>\n",
       "      <th>[CH3:1][O:2][CH:3]([OH:4])OC</th>\n",
       "    </tr>\n",
       "    <tr>\n",
       "      <th>[CH3:1][O:2][CH:3](O)[O:4]C</th>\n",
       "    </tr>\n",
       "    <tr>\n",
       "      <th>CO[CH:3]([OH:4])[O:2][CH3:1]</th>\n",
       "    </tr>\n",
       "    <tr>\n",
       "      <th>C[O:4][CH:3](O)[O:2][CH3:1]</th>\n",
       "    </tr>\n",
       "    <tr>\n",
       "      <th>[H:4][C:3](O)([O:2][CH3:1])OC</th>\n",
       "    </tr>\n",
       "  </tbody>\n",
       "</table>\n",
       "</div>"
      ],
      "text/plain": [
       "Empty DataFrame\n",
       "Columns: []\n",
       "Index: [[CH3:1][O:2][CH:3]([OH:4])OC, [CH3:1][O:2][CH:3](O)[O:4]C, CO[CH:3]([OH:4])[O:2][CH3:1], C[O:4][CH:3](O)[O:2][CH3:1], [H:4][C:3](O)([O:2][CH3:1])OC]"
      ]
     },
     "execution_count": 18,
     "metadata": {},
     "output_type": "execute_result"
    }
   ],
   "source": [
    "ds.df.head()  "
   ]
  },
  {
   "cell_type": "markdown",
   "metadata": {},
   "source": [
    "Show available specifications:"
   ]
  },
  {
   "cell_type": "code",
   "execution_count": 19,
   "metadata": {},
   "outputs": [
    {
     "data": {
      "text/html": [
       "<div>\n",
       "<style scoped>\n",
       "    .dataframe tbody tr th:only-of-type {\n",
       "        vertical-align: middle;\n",
       "    }\n",
       "\n",
       "    .dataframe tbody tr th {\n",
       "        vertical-align: top;\n",
       "    }\n",
       "\n",
       "    .dataframe thead th {\n",
       "        text-align: right;\n",
       "    }\n",
       "</style>\n",
       "<table border=\"1\" class=\"dataframe\">\n",
       "  <thead>\n",
       "    <tr style=\"text-align: right;\">\n",
       "      <th></th>\n",
       "      <th>Description</th>\n",
       "    </tr>\n",
       "    <tr>\n",
       "      <th>Name</th>\n",
       "      <th></th>\n",
       "    </tr>\n",
       "  </thead>\n",
       "  <tbody>\n",
       "    <tr>\n",
       "      <th>default</th>\n",
       "      <td>Standard OpenFF torsiondrive specification.</td>\n",
       "    </tr>\n",
       "  </tbody>\n",
       "</table>\n",
       "</div>"
      ],
      "text/plain": [
       "                                         Description\n",
       "Name                                                \n",
       "default  Standard OpenFF torsiondrive specification."
      ]
     },
     "execution_count": 19,
     "metadata": {},
     "output_type": "execute_result"
    }
   ],
   "source": [
    "ds.list_specifications()"
   ]
  },
  {
   "cell_type": "markdown",
   "metadata": {},
   "source": [
    "Get a specific torsiondrive:"
   ]
  },
  {
   "cell_type": "code",
   "execution_count": 20,
   "metadata": {},
   "outputs": [],
   "source": [
    "td = ds.get_record(\"CO[CH:3]([OH:4])[O:2][CH3:1]\", \"default\")"
   ]
  },
  {
   "cell_type": "markdown",
   "metadata": {},
   "source": [
    "Get molecules for each angle along the torsion scan:"
   ]
  },
  {
   "cell_type": "code",
   "execution_count": 21,
   "metadata": {},
   "outputs": [
    {
     "data": {
      "text/plain": [
       "{(-75,): <Molecule(name='C3H8O3' formula='C3H8O3' hash='60e16ca')>,\n",
       " (-90,): <Molecule(name='C3H8O3' formula='C3H8O3' hash='c337c03')>,\n",
       " (-60,): <Molecule(name='C3H8O3' formula='C3H8O3' hash='b4ff4d4')>,\n",
       " (-105,): <Molecule(name='C3H8O3' formula='C3H8O3' hash='5b05d3a')>,\n",
       " (-45,): <Molecule(name='C3H8O3' formula='C3H8O3' hash='240c817')>,\n",
       " (-120,): <Molecule(name='C3H8O3' formula='C3H8O3' hash='399d214')>,\n",
       " (-30,): <Molecule(name='C3H8O3' formula='C3H8O3' hash='8737c8f')>,\n",
       " (-135,): <Molecule(name='C3H8O3' formula='C3H8O3' hash='530c77d')>,\n",
       " (-15,): <Molecule(name='C3H8O3' formula='C3H8O3' hash='05c30a0')>,\n",
       " (-150,): <Molecule(name='C3H8O3' formula='C3H8O3' hash='1c56b54')>,\n",
       " (0,): <Molecule(name='C3H8O3' formula='C3H8O3' hash='f1b0dd1')>,\n",
       " (-165,): <Molecule(name='C3H8O3' formula='C3H8O3' hash='c81a1fc')>,\n",
       " (15,): <Molecule(name='C3H8O3' formula='C3H8O3' hash='f329f87')>,\n",
       " (30,): <Molecule(name='C3H8O3' formula='C3H8O3' hash='99156ab')>,\n",
       " (180,): <Molecule(name='C3H8O3' formula='C3H8O3' hash='d299528')>,\n",
       " (45,): <Molecule(name='C3H8O3' formula='C3H8O3' hash='e1f13fa')>,\n",
       " (165,): <Molecule(name='C3H8O3' formula='C3H8O3' hash='df216e3')>,\n",
       " (60,): <Molecule(name='C3H8O3' formula='C3H8O3' hash='e69654b')>,\n",
       " (150,): <Molecule(name='C3H8O3' formula='C3H8O3' hash='810b759')>,\n",
       " (75,): <Molecule(name='C3H8O3' formula='C3H8O3' hash='5c12648')>,\n",
       " (135,): <Molecule(name='C3H8O3' formula='C3H8O3' hash='35f87a2')>,\n",
       " (90,): <Molecule(name='C3H8O3' formula='C3H8O3' hash='cdbfa17')>,\n",
       " (120,): <Molecule(name='C3H8O3' formula='C3H8O3' hash='5271be0')>,\n",
       " (105,): <Molecule(name='C3H8O3' formula='C3H8O3' hash='c0f46d7')>}"
      ]
     },
     "execution_count": 21,
     "metadata": {},
     "output_type": "execute_result"
    }
   ],
   "source": [
    "td.get_final_molecules()"
   ]
  },
  {
   "cell_type": "code",
   "execution_count": 22,
   "metadata": {},
   "outputs": [
    {
     "data": {
      "application/3dmoljs_load.v0": "<div id=\"3dmolviewer_15664162280645602\"  style=\"position: relative; width: 400px; height: 400px\">\n        <p id=\"3dmolwarning_15664162280645602\" style=\"background-color:#ffcccc;color:black\">You appear to be running in JupyterLab (or JavaScript failed to load for some other reason).  You need to install the 3dmol extension: <br>\n        <tt>jupyter labextension install jupyterlab_3dmol</tt></p>\n        </div>\n<script>\n\nvar loadScriptAsync = function(uri){\n  return new Promise((resolve, reject) => {\n    var tag = document.createElement('script');\n    tag.src = uri;\n    tag.async = true;\n    tag.onload = () => {\n      resolve();\n    };\n  var firstScriptTag = document.getElementsByTagName('script')[0];\n  firstScriptTag.parentNode.insertBefore(tag, firstScriptTag);\n});\n};\n\nif(typeof $3Dmolpromise === 'undefined') {\n$3Dmolpromise = null;\n  $3Dmolpromise = loadScriptAsync('https://3dmol.csb.pitt.edu/build/3Dmol.js');\n}\n\nvar viewer_15664162280645602 = null;\nvar warn = document.getElementById(\"3dmolwarning_15664162280645602\");\nif(warn) {\n    warn.parentNode.removeChild(warn);\n}\n$3Dmolpromise.then(function() {\nviewer_15664162280645602 = $3Dmol.createViewer($(\"#3dmolviewer_15664162280645602\"),{backgroundColor:\"white\"});\n\tviewer_15664162280645602.addModel(\"14\\nC3H8O3\\nC                     0.355737141453    -1.588879594535    -0.001596188971\\nC                    -1.847268375545     1.450559244047    -0.791021434197\\nC                    -0.930912869490     0.144434887322     1.017157324601\\nO                    -0.719803971420     1.369284424415     1.647948238661\\nO                     0.351639738186    -0.301082110437     0.616578510665\\nO                    -1.815477440769     0.212814002295    -0.073921410155\\nH                     1.400247890079    -1.827659020782    -0.209320802984\\nH                    -0.218367039774    -1.583157019261    -0.933429313506\\nH                    -0.060770430409    -2.348367390499     0.674155377775\\nH                    -2.538587875446     1.290968382738    -1.620607006879\\nH                    -0.861053963365     1.712490517226    -1.195317432283\\nH                    -2.209037015345     2.264469005509    -0.157189058244\\nH                    -1.388630471182    -0.562056980475     1.719394909256\\nH                     0.172889862504     1.658715460284     1.394700969889\\n\",\"xyz\");\n\tviewer_15664162280645602.setStyle({\"stick\": {\"radius\": 0.2}, \"sphere\": {\"scale\": 0.3}});\n\tviewer_15664162280645602.zoomTo();\nviewer_15664162280645602.render();\n});\n</script>",
      "text/html": [
       "<div id=\"3dmolviewer_15664162280645602\"  style=\"position: relative; width: 400px; height: 400px\">\n",
       "        <p id=\"3dmolwarning_15664162280645602\" style=\"background-color:#ffcccc;color:black\">You appear to be running in JupyterLab (or JavaScript failed to load for some other reason).  You need to install the 3dmol extension: <br>\n",
       "        <tt>jupyter labextension install jupyterlab_3dmol</tt></p>\n",
       "        </div>\n",
       "<script>\n",
       "\n",
       "var loadScriptAsync = function(uri){\n",
       "  return new Promise((resolve, reject) => {\n",
       "    var tag = document.createElement('script');\n",
       "    tag.src = uri;\n",
       "    tag.async = true;\n",
       "    tag.onload = () => {\n",
       "      resolve();\n",
       "    };\n",
       "  var firstScriptTag = document.getElementsByTagName('script')[0];\n",
       "  firstScriptTag.parentNode.insertBefore(tag, firstScriptTag);\n",
       "});\n",
       "};\n",
       "\n",
       "if(typeof $3Dmolpromise === 'undefined') {\n",
       "$3Dmolpromise = null;\n",
       "  $3Dmolpromise = loadScriptAsync('https://3dmol.csb.pitt.edu/build/3Dmol.js');\n",
       "}\n",
       "\n",
       "var viewer_15664162280645602 = null;\n",
       "var warn = document.getElementById(\"3dmolwarning_15664162280645602\");\n",
       "if(warn) {\n",
       "    warn.parentNode.removeChild(warn);\n",
       "}\n",
       "$3Dmolpromise.then(function() {\n",
       "viewer_15664162280645602 = $3Dmol.createViewer($(\"#3dmolviewer_15664162280645602\"),{backgroundColor:\"white\"});\n",
       "\tviewer_15664162280645602.addModel(\"14\\nC3H8O3\\nC                     0.355737141453    -1.588879594535    -0.001596188971\\nC                    -1.847268375545     1.450559244047    -0.791021434197\\nC                    -0.930912869490     0.144434887322     1.017157324601\\nO                    -0.719803971420     1.369284424415     1.647948238661\\nO                     0.351639738186    -0.301082110437     0.616578510665\\nO                    -1.815477440769     0.212814002295    -0.073921410155\\nH                     1.400247890079    -1.827659020782    -0.209320802984\\nH                    -0.218367039774    -1.583157019261    -0.933429313506\\nH                    -0.060770430409    -2.348367390499     0.674155377775\\nH                    -2.538587875446     1.290968382738    -1.620607006879\\nH                    -0.861053963365     1.712490517226    -1.195317432283\\nH                    -2.209037015345     2.264469005509    -0.157189058244\\nH                    -1.388630471182    -0.562056980475     1.719394909256\\nH                     0.172889862504     1.658715460284     1.394700969889\\n\",\"xyz\");\n",
       "\tviewer_15664162280645602.setStyle({\"stick\": {\"radius\": 0.2}, \"sphere\": {\"scale\": 0.3}});\n",
       "\tviewer_15664162280645602.zoomTo();\n",
       "viewer_15664162280645602.render();\n",
       "});\n",
       "</script>"
      ]
     },
     "metadata": {},
     "output_type": "display_data"
    },
    {
     "data": {
      "text/plain": [
       "<Molecule(name='C3H8O3' formula='C3H8O3' hash='99156ab')>"
      ]
     },
     "execution_count": 22,
     "metadata": {},
     "output_type": "execute_result"
    }
   ],
   "source": [
    "td.get_final_molecules()[(30,)]"
   ]
  },
  {
   "cell_type": "markdown",
   "metadata": {},
   "source": [
    "## Dataset and ReactionDataset: list available methods, basis sets, programs, etc.\n",
    "\n",
    "When exploring a `Dataset` or `ReactionDataset`, it can be helpful to see which search parameters and search values are available. That is, this section will discuss how to list what basis sets, methods, programs, etc. are represented in a dataset's results. "
   ]
  },
  {
   "cell_type": "code",
   "execution_count": 23,
   "metadata": {},
   "outputs": [],
   "source": [
    "import qcportal as ptl\n",
    "client = ptl.FractalClient()\n",
    "\n",
    "ds = client.get_collection(\"ReactionDataset\", \"S22\")"
   ]
  },
  {
   "cell_type": "markdown",
   "metadata": {},
   "source": [
    "To see available search parameters:"
   ]
  },
  {
   "cell_type": "code",
   "execution_count": 24,
   "metadata": {},
   "outputs": [
    {
     "data": {
      "text/plain": [
       "Index(['driver', 'program', 'method', 'basis', 'keywords', 'stoichiometry'], dtype='object')"
      ]
     },
     "execution_count": 24,
     "metadata": {},
     "output_type": "execute_result"
    }
   ],
   "source": [
    "ds.list_history().reset_index().columns"
   ]
  },
  {
   "cell_type": "markdown",
   "metadata": {},
   "source": [
    "To see available search values (e.g. which basis sets and methods are available in the dataset):"
   ]
  },
  {
   "cell_type": "code",
   "execution_count": 25,
   "metadata": {},
   "outputs": [
    {
     "data": {
      "text/plain": [
       "array(['b2plyp', 'b2plyp-d3', 'b2plyp-d3(bj)', 'b2plyp-d3m',\n",
       "       'b2plyp-d3m(bj)', 'b3lyp', 'b3lyp-d3', 'b3lyp-d3(bj)', 'b3lyp-d3m',\n",
       "       'b3lyp-d3m(bj)', 'hf', 'mp2', 'pbe', 'sapt0', 'wb97m-v', 'wb97x-d'],\n",
       "      dtype=object)"
      ]
     },
     "execution_count": 25,
     "metadata": {},
     "output_type": "execute_result"
    }
   ],
   "source": [
    "ds.list_history().reset_index()['method'].unique()"
   ]
  },
  {
   "cell_type": "code",
   "execution_count": 26,
   "metadata": {
    "scrolled": false
   },
   "outputs": [
    {
     "data": {
      "text/plain": [
       "array(['aug-cc-pvdz', 'aug-cc-pvtz', 'def2-svp', 'def2-tzvp', 'sto-3g',\n",
       "       'jun-cc-pvdz'], dtype=object)"
      ]
     },
     "execution_count": 26,
     "metadata": {},
     "output_type": "execute_result"
    }
   ],
   "source": [
    "ds.list_history().reset_index()['basis'].unique()"
   ]
  },
  {
   "cell_type": "markdown",
   "metadata": {},
   "source": [
    "List combinations of method and basis set:"
   ]
  },
  {
   "cell_type": "code",
   "execution_count": 27,
   "metadata": {
    "scrolled": true
   },
   "outputs": [
    {
     "data": {
      "text/html": [
       "<div>\n",
       "<style scoped>\n",
       "    .dataframe tbody tr th:only-of-type {\n",
       "        vertical-align: middle;\n",
       "    }\n",
       "\n",
       "    .dataframe tbody tr th {\n",
       "        vertical-align: top;\n",
       "    }\n",
       "\n",
       "    .dataframe thead th {\n",
       "        text-align: right;\n",
       "    }\n",
       "</style>\n",
       "<table border=\"1\" class=\"dataframe\">\n",
       "  <thead>\n",
       "    <tr style=\"text-align: right;\">\n",
       "      <th></th>\n",
       "      <th>method</th>\n",
       "      <th>basis</th>\n",
       "      <th>0</th>\n",
       "    </tr>\n",
       "  </thead>\n",
       "  <tbody>\n",
       "    <tr>\n",
       "      <th>0</th>\n",
       "      <td>b2plyp</td>\n",
       "      <td>aug-cc-pvdz</td>\n",
       "      <td>2</td>\n",
       "    </tr>\n",
       "    <tr>\n",
       "      <th>1</th>\n",
       "      <td>b2plyp</td>\n",
       "      <td>aug-cc-pvtz</td>\n",
       "      <td>2</td>\n",
       "    </tr>\n",
       "    <tr>\n",
       "      <th>2</th>\n",
       "      <td>b2plyp</td>\n",
       "      <td>def2-svp</td>\n",
       "      <td>2</td>\n",
       "    </tr>\n",
       "    <tr>\n",
       "      <th>3</th>\n",
       "      <td>b2plyp</td>\n",
       "      <td>def2-tzvp</td>\n",
       "      <td>2</td>\n",
       "    </tr>\n",
       "    <tr>\n",
       "      <th>4</th>\n",
       "      <td>b2plyp-d3</td>\n",
       "      <td>aug-cc-pvdz</td>\n",
       "      <td>2</td>\n",
       "    </tr>\n",
       "    <tr>\n",
       "      <th>5</th>\n",
       "      <td>b2plyp-d3</td>\n",
       "      <td>aug-cc-pvtz</td>\n",
       "      <td>2</td>\n",
       "    </tr>\n",
       "    <tr>\n",
       "      <th>6</th>\n",
       "      <td>b2plyp-d3</td>\n",
       "      <td>def2-svp</td>\n",
       "      <td>2</td>\n",
       "    </tr>\n",
       "    <tr>\n",
       "      <th>7</th>\n",
       "      <td>b2plyp-d3</td>\n",
       "      <td>def2-tzvp</td>\n",
       "      <td>2</td>\n",
       "    </tr>\n",
       "    <tr>\n",
       "      <th>8</th>\n",
       "      <td>b2plyp-d3(bj)</td>\n",
       "      <td>aug-cc-pvdz</td>\n",
       "      <td>2</td>\n",
       "    </tr>\n",
       "    <tr>\n",
       "      <th>9</th>\n",
       "      <td>b2plyp-d3(bj)</td>\n",
       "      <td>aug-cc-pvtz</td>\n",
       "      <td>2</td>\n",
       "    </tr>\n",
       "    <tr>\n",
       "      <th>10</th>\n",
       "      <td>b2plyp-d3(bj)</td>\n",
       "      <td>def2-svp</td>\n",
       "      <td>2</td>\n",
       "    </tr>\n",
       "    <tr>\n",
       "      <th>11</th>\n",
       "      <td>b2plyp-d3(bj)</td>\n",
       "      <td>def2-tzvp</td>\n",
       "      <td>2</td>\n",
       "    </tr>\n",
       "    <tr>\n",
       "      <th>12</th>\n",
       "      <td>b2plyp-d3m</td>\n",
       "      <td>aug-cc-pvdz</td>\n",
       "      <td>2</td>\n",
       "    </tr>\n",
       "    <tr>\n",
       "      <th>13</th>\n",
       "      <td>b2plyp-d3m</td>\n",
       "      <td>aug-cc-pvtz</td>\n",
       "      <td>2</td>\n",
       "    </tr>\n",
       "    <tr>\n",
       "      <th>14</th>\n",
       "      <td>b2plyp-d3m</td>\n",
       "      <td>def2-svp</td>\n",
       "      <td>2</td>\n",
       "    </tr>\n",
       "    <tr>\n",
       "      <th>15</th>\n",
       "      <td>b2plyp-d3m</td>\n",
       "      <td>def2-tzvp</td>\n",
       "      <td>2</td>\n",
       "    </tr>\n",
       "    <tr>\n",
       "      <th>16</th>\n",
       "      <td>b2plyp-d3m(bj)</td>\n",
       "      <td>aug-cc-pvdz</td>\n",
       "      <td>2</td>\n",
       "    </tr>\n",
       "    <tr>\n",
       "      <th>17</th>\n",
       "      <td>b2plyp-d3m(bj)</td>\n",
       "      <td>aug-cc-pvtz</td>\n",
       "      <td>2</td>\n",
       "    </tr>\n",
       "    <tr>\n",
       "      <th>18</th>\n",
       "      <td>b2plyp-d3m(bj)</td>\n",
       "      <td>def2-svp</td>\n",
       "      <td>2</td>\n",
       "    </tr>\n",
       "    <tr>\n",
       "      <th>19</th>\n",
       "      <td>b2plyp-d3m(bj)</td>\n",
       "      <td>def2-tzvp</td>\n",
       "      <td>2</td>\n",
       "    </tr>\n",
       "    <tr>\n",
       "      <th>20</th>\n",
       "      <td>b3lyp</td>\n",
       "      <td>aug-cc-pvdz</td>\n",
       "      <td>2</td>\n",
       "    </tr>\n",
       "    <tr>\n",
       "      <th>21</th>\n",
       "      <td>b3lyp</td>\n",
       "      <td>aug-cc-pvtz</td>\n",
       "      <td>2</td>\n",
       "    </tr>\n",
       "    <tr>\n",
       "      <th>22</th>\n",
       "      <td>b3lyp</td>\n",
       "      <td>def2-svp</td>\n",
       "      <td>2</td>\n",
       "    </tr>\n",
       "    <tr>\n",
       "      <th>23</th>\n",
       "      <td>b3lyp</td>\n",
       "      <td>def2-tzvp</td>\n",
       "      <td>2</td>\n",
       "    </tr>\n",
       "    <tr>\n",
       "      <th>24</th>\n",
       "      <td>b3lyp-d3</td>\n",
       "      <td>aug-cc-pvdz</td>\n",
       "      <td>2</td>\n",
       "    </tr>\n",
       "    <tr>\n",
       "      <th>25</th>\n",
       "      <td>b3lyp-d3</td>\n",
       "      <td>aug-cc-pvtz</td>\n",
       "      <td>2</td>\n",
       "    </tr>\n",
       "    <tr>\n",
       "      <th>26</th>\n",
       "      <td>b3lyp-d3</td>\n",
       "      <td>def2-svp</td>\n",
       "      <td>2</td>\n",
       "    </tr>\n",
       "    <tr>\n",
       "      <th>27</th>\n",
       "      <td>b3lyp-d3</td>\n",
       "      <td>def2-tzvp</td>\n",
       "      <td>2</td>\n",
       "    </tr>\n",
       "    <tr>\n",
       "      <th>28</th>\n",
       "      <td>b3lyp-d3(bj)</td>\n",
       "      <td>aug-cc-pvdz</td>\n",
       "      <td>2</td>\n",
       "    </tr>\n",
       "    <tr>\n",
       "      <th>29</th>\n",
       "      <td>b3lyp-d3(bj)</td>\n",
       "      <td>aug-cc-pvtz</td>\n",
       "      <td>2</td>\n",
       "    </tr>\n",
       "    <tr>\n",
       "      <th>30</th>\n",
       "      <td>b3lyp-d3(bj)</td>\n",
       "      <td>def2-svp</td>\n",
       "      <td>2</td>\n",
       "    </tr>\n",
       "    <tr>\n",
       "      <th>31</th>\n",
       "      <td>b3lyp-d3(bj)</td>\n",
       "      <td>def2-tzvp</td>\n",
       "      <td>2</td>\n",
       "    </tr>\n",
       "    <tr>\n",
       "      <th>32</th>\n",
       "      <td>b3lyp-d3m</td>\n",
       "      <td>aug-cc-pvdz</td>\n",
       "      <td>2</td>\n",
       "    </tr>\n",
       "    <tr>\n",
       "      <th>33</th>\n",
       "      <td>b3lyp-d3m</td>\n",
       "      <td>aug-cc-pvtz</td>\n",
       "      <td>2</td>\n",
       "    </tr>\n",
       "    <tr>\n",
       "      <th>34</th>\n",
       "      <td>b3lyp-d3m</td>\n",
       "      <td>def2-svp</td>\n",
       "      <td>2</td>\n",
       "    </tr>\n",
       "    <tr>\n",
       "      <th>35</th>\n",
       "      <td>b3lyp-d3m</td>\n",
       "      <td>def2-tzvp</td>\n",
       "      <td>2</td>\n",
       "    </tr>\n",
       "    <tr>\n",
       "      <th>36</th>\n",
       "      <td>b3lyp-d3m(bj)</td>\n",
       "      <td>aug-cc-pvdz</td>\n",
       "      <td>2</td>\n",
       "    </tr>\n",
       "    <tr>\n",
       "      <th>37</th>\n",
       "      <td>b3lyp-d3m(bj)</td>\n",
       "      <td>aug-cc-pvtz</td>\n",
       "      <td>2</td>\n",
       "    </tr>\n",
       "    <tr>\n",
       "      <th>38</th>\n",
       "      <td>b3lyp-d3m(bj)</td>\n",
       "      <td>def2-svp</td>\n",
       "      <td>2</td>\n",
       "    </tr>\n",
       "    <tr>\n",
       "      <th>39</th>\n",
       "      <td>b3lyp-d3m(bj)</td>\n",
       "      <td>def2-tzvp</td>\n",
       "      <td>2</td>\n",
       "    </tr>\n",
       "    <tr>\n",
       "      <th>40</th>\n",
       "      <td>hf</td>\n",
       "      <td>sto-3g</td>\n",
       "      <td>2</td>\n",
       "    </tr>\n",
       "    <tr>\n",
       "      <th>41</th>\n",
       "      <td>mp2</td>\n",
       "      <td>aug-cc-pvdz</td>\n",
       "      <td>2</td>\n",
       "    </tr>\n",
       "    <tr>\n",
       "      <th>42</th>\n",
       "      <td>mp2</td>\n",
       "      <td>aug-cc-pvtz</td>\n",
       "      <td>2</td>\n",
       "    </tr>\n",
       "    <tr>\n",
       "      <th>43</th>\n",
       "      <td>mp2</td>\n",
       "      <td>def2-svp</td>\n",
       "      <td>2</td>\n",
       "    </tr>\n",
       "    <tr>\n",
       "      <th>44</th>\n",
       "      <td>mp2</td>\n",
       "      <td>def2-tzvp</td>\n",
       "      <td>2</td>\n",
       "    </tr>\n",
       "    <tr>\n",
       "      <th>45</th>\n",
       "      <td>pbe</td>\n",
       "      <td>aug-cc-pvdz</td>\n",
       "      <td>2</td>\n",
       "    </tr>\n",
       "    <tr>\n",
       "      <th>46</th>\n",
       "      <td>pbe</td>\n",
       "      <td>aug-cc-pvtz</td>\n",
       "      <td>2</td>\n",
       "    </tr>\n",
       "    <tr>\n",
       "      <th>47</th>\n",
       "      <td>pbe</td>\n",
       "      <td>def2-svp</td>\n",
       "      <td>2</td>\n",
       "    </tr>\n",
       "    <tr>\n",
       "      <th>48</th>\n",
       "      <td>pbe</td>\n",
       "      <td>def2-tzvp</td>\n",
       "      <td>2</td>\n",
       "    </tr>\n",
       "    <tr>\n",
       "      <th>49</th>\n",
       "      <td>sapt0</td>\n",
       "      <td>aug-cc-pvdz</td>\n",
       "      <td>1</td>\n",
       "    </tr>\n",
       "    <tr>\n",
       "      <th>50</th>\n",
       "      <td>sapt0</td>\n",
       "      <td>aug-cc-pvtz</td>\n",
       "      <td>1</td>\n",
       "    </tr>\n",
       "    <tr>\n",
       "      <th>51</th>\n",
       "      <td>sapt0</td>\n",
       "      <td>jun-cc-pvdz</td>\n",
       "      <td>1</td>\n",
       "    </tr>\n",
       "    <tr>\n",
       "      <th>52</th>\n",
       "      <td>wb97m-v</td>\n",
       "      <td>def2-svp</td>\n",
       "      <td>2</td>\n",
       "    </tr>\n",
       "    <tr>\n",
       "      <th>53</th>\n",
       "      <td>wb97m-v</td>\n",
       "      <td>def2-tzvp</td>\n",
       "      <td>2</td>\n",
       "    </tr>\n",
       "    <tr>\n",
       "      <th>54</th>\n",
       "      <td>wb97x-d</td>\n",
       "      <td>def2-svp</td>\n",
       "      <td>2</td>\n",
       "    </tr>\n",
       "    <tr>\n",
       "      <th>55</th>\n",
       "      <td>wb97x-d</td>\n",
       "      <td>def2-tzvp</td>\n",
       "      <td>2</td>\n",
       "    </tr>\n",
       "  </tbody>\n",
       "</table>\n",
       "</div>"
      ],
      "text/plain": [
       "            method        basis  0\n",
       "0           b2plyp  aug-cc-pvdz  2\n",
       "1           b2plyp  aug-cc-pvtz  2\n",
       "2           b2plyp     def2-svp  2\n",
       "3           b2plyp    def2-tzvp  2\n",
       "4        b2plyp-d3  aug-cc-pvdz  2\n",
       "5        b2plyp-d3  aug-cc-pvtz  2\n",
       "6        b2plyp-d3     def2-svp  2\n",
       "7        b2plyp-d3    def2-tzvp  2\n",
       "8    b2plyp-d3(bj)  aug-cc-pvdz  2\n",
       "9    b2plyp-d3(bj)  aug-cc-pvtz  2\n",
       "10   b2plyp-d3(bj)     def2-svp  2\n",
       "11   b2plyp-d3(bj)    def2-tzvp  2\n",
       "12      b2plyp-d3m  aug-cc-pvdz  2\n",
       "13      b2plyp-d3m  aug-cc-pvtz  2\n",
       "14      b2plyp-d3m     def2-svp  2\n",
       "15      b2plyp-d3m    def2-tzvp  2\n",
       "16  b2plyp-d3m(bj)  aug-cc-pvdz  2\n",
       "17  b2plyp-d3m(bj)  aug-cc-pvtz  2\n",
       "18  b2plyp-d3m(bj)     def2-svp  2\n",
       "19  b2plyp-d3m(bj)    def2-tzvp  2\n",
       "20           b3lyp  aug-cc-pvdz  2\n",
       "21           b3lyp  aug-cc-pvtz  2\n",
       "22           b3lyp     def2-svp  2\n",
       "23           b3lyp    def2-tzvp  2\n",
       "24        b3lyp-d3  aug-cc-pvdz  2\n",
       "25        b3lyp-d3  aug-cc-pvtz  2\n",
       "26        b3lyp-d3     def2-svp  2\n",
       "27        b3lyp-d3    def2-tzvp  2\n",
       "28    b3lyp-d3(bj)  aug-cc-pvdz  2\n",
       "29    b3lyp-d3(bj)  aug-cc-pvtz  2\n",
       "30    b3lyp-d3(bj)     def2-svp  2\n",
       "31    b3lyp-d3(bj)    def2-tzvp  2\n",
       "32       b3lyp-d3m  aug-cc-pvdz  2\n",
       "33       b3lyp-d3m  aug-cc-pvtz  2\n",
       "34       b3lyp-d3m     def2-svp  2\n",
       "35       b3lyp-d3m    def2-tzvp  2\n",
       "36   b3lyp-d3m(bj)  aug-cc-pvdz  2\n",
       "37   b3lyp-d3m(bj)  aug-cc-pvtz  2\n",
       "38   b3lyp-d3m(bj)     def2-svp  2\n",
       "39   b3lyp-d3m(bj)    def2-tzvp  2\n",
       "40              hf       sto-3g  2\n",
       "41             mp2  aug-cc-pvdz  2\n",
       "42             mp2  aug-cc-pvtz  2\n",
       "43             mp2     def2-svp  2\n",
       "44             mp2    def2-tzvp  2\n",
       "45             pbe  aug-cc-pvdz  2\n",
       "46             pbe  aug-cc-pvtz  2\n",
       "47             pbe     def2-svp  2\n",
       "48             pbe    def2-tzvp  2\n",
       "49           sapt0  aug-cc-pvdz  1\n",
       "50           sapt0  aug-cc-pvtz  1\n",
       "51           sapt0  jun-cc-pvdz  1\n",
       "52         wb97m-v     def2-svp  2\n",
       "53         wb97m-v    def2-tzvp  2\n",
       "54         wb97x-d     def2-svp  2\n",
       "55         wb97x-d    def2-tzvp  2"
      ]
     },
     "execution_count": 27,
     "metadata": {},
     "output_type": "execute_result"
    }
   ],
   "source": [
    "ds.list_history().reset_index().groupby(['method','basis']).size().reset_index()"
   ]
  },
  {
   "cell_type": "markdown",
   "metadata": {},
   "source": [
    "## Get all calculations done on a molecule"
   ]
  },
  {
   "cell_type": "code",
   "execution_count": 28,
   "metadata": {},
   "outputs": [
    {
     "data": {
      "application/3dmoljs_load.v0": "<div id=\"3dmolviewer_15664162285877702\"  style=\"position: relative; width: 400px; height: 400px\">\n        <p id=\"3dmolwarning_15664162285877702\" style=\"background-color:#ffcccc;color:black\">You appear to be running in JupyterLab (or JavaScript failed to load for some other reason).  You need to install the 3dmol extension: <br>\n        <tt>jupyter labextension install jupyterlab_3dmol</tt></p>\n        </div>\n<script>\n\nvar loadScriptAsync = function(uri){\n  return new Promise((resolve, reject) => {\n    var tag = document.createElement('script');\n    tag.src = uri;\n    tag.async = true;\n    tag.onload = () => {\n      resolve();\n    };\n  var firstScriptTag = document.getElementsByTagName('script')[0];\n  firstScriptTag.parentNode.insertBefore(tag, firstScriptTag);\n});\n};\n\nif(typeof $3Dmolpromise === 'undefined') {\n$3Dmolpromise = null;\n  $3Dmolpromise = loadScriptAsync('https://3dmol.csb.pitt.edu/build/3Dmol.js');\n}\n\nvar viewer_15664162285877702 = null;\nvar warn = document.getElementById(\"3dmolwarning_15664162285877702\");\nif(warn) {\n    warn.parentNode.removeChild(warn);\n}\n$3Dmolpromise.then(function() {\nviewer_15664162285877702 = $3Dmol.createViewer($(\"#3dmolviewer_15664162285877702\"),{backgroundColor:\"white\"});\n\tviewer_15664162285877702.addModel(\"4\\nH6N2 ((1,),[])\\nN                     0.000285136556     0.000000000000     0.068314375433\\nH                    -0.471089248335     0.809564999600    -0.315853864726\\nH                     0.938216679187     0.000000000000    -0.317476099800\\nH                    -0.471089248335    -0.809564999600    -0.315853864726\\n\",\"xyz\");\n\tviewer_15664162285877702.setStyle({\"stick\": {\"radius\": 0.2}, \"sphere\": {\"scale\": 0.3}});\n\tviewer_15664162285877702.zoomTo();\nviewer_15664162285877702.render();\n});\n</script>",
      "text/html": [
       "<div id=\"3dmolviewer_15664162285877702\"  style=\"position: relative; width: 400px; height: 400px\">\n",
       "        <p id=\"3dmolwarning_15664162285877702\" style=\"background-color:#ffcccc;color:black\">You appear to be running in JupyterLab (or JavaScript failed to load for some other reason).  You need to install the 3dmol extension: <br>\n",
       "        <tt>jupyter labextension install jupyterlab_3dmol</tt></p>\n",
       "        </div>\n",
       "<script>\n",
       "\n",
       "var loadScriptAsync = function(uri){\n",
       "  return new Promise((resolve, reject) => {\n",
       "    var tag = document.createElement('script');\n",
       "    tag.src = uri;\n",
       "    tag.async = true;\n",
       "    tag.onload = () => {\n",
       "      resolve();\n",
       "    };\n",
       "  var firstScriptTag = document.getElementsByTagName('script')[0];\n",
       "  firstScriptTag.parentNode.insertBefore(tag, firstScriptTag);\n",
       "});\n",
       "};\n",
       "\n",
       "if(typeof $3Dmolpromise === 'undefined') {\n",
       "$3Dmolpromise = null;\n",
       "  $3Dmolpromise = loadScriptAsync('https://3dmol.csb.pitt.edu/build/3Dmol.js');\n",
       "}\n",
       "\n",
       "var viewer_15664162285877702 = null;\n",
       "var warn = document.getElementById(\"3dmolwarning_15664162285877702\");\n",
       "if(warn) {\n",
       "    warn.parentNode.removeChild(warn);\n",
       "}\n",
       "$3Dmolpromise.then(function() {\n",
       "viewer_15664162285877702 = $3Dmol.createViewer($(\"#3dmolviewer_15664162285877702\"),{backgroundColor:\"white\"});\n",
       "\tviewer_15664162285877702.addModel(\"4\\nH6N2 ((1,),[])\\nN                     0.000285136556     0.000000000000     0.068314375433\\nH                    -0.471089248335     0.809564999600    -0.315853864726\\nH                     0.938216679187     0.000000000000    -0.317476099800\\nH                    -0.471089248335    -0.809564999600    -0.315853864726\\n\",\"xyz\");\n",
       "\tviewer_15664162285877702.setStyle({\"stick\": {\"radius\": 0.2}, \"sphere\": {\"scale\": 0.3}});\n",
       "\tviewer_15664162285877702.zoomTo();\n",
       "viewer_15664162285877702.render();\n",
       "});\n",
       "</script>"
      ]
     },
     "metadata": {},
     "output_type": "display_data"
    },
    {
     "data": {
      "text/plain": [
       "<Molecule(name='H6N2 ((1,),[])' formula='H3N' hash='5ad632d')>"
      ]
     },
     "execution_count": 28,
     "metadata": {},
     "output_type": "execute_result"
    }
   ],
   "source": [
    "import qcportal as ptl\n",
    "client = ptl.FractalClient()\n",
    "\n",
    "mol = client.query_molecules(2)[0]\n",
    "mol"
   ]
  },
  {
   "cell_type": "markdown",
   "metadata": {},
   "source": [
    "Query the results table for all calculations performed on the molecule:"
   ]
  },
  {
   "cell_type": "code",
   "execution_count": 29,
   "metadata": {},
   "outputs": [
    {
     "data": {
      "text/plain": [
       "[<ResultRecord(id='735838' status='COMPLETE')>,\n",
       " <ResultRecord(id='735899' status='COMPLETE')>,\n",
       " <ResultRecord(id='970453' status='COMPLETE')>,\n",
       " <ResultRecord(id='970514' status='COMPLETE')>,\n",
       " <ResultRecord(id='608545' status='COMPLETE')>,\n",
       " <ResultRecord(id='735599' status='COMPLETE')>,\n",
       " <ResultRecord(id='735489' status='COMPLETE')>,\n",
       " <ResultRecord(id='735550' status='COMPLETE')>,\n",
       " <ResultRecord(id='1847216' status='COMPLETE')>,\n",
       " <ResultRecord(id='1847316' status='COMPLETE')>,\n",
       " <ResultRecord(id='624' status='COMPLETE')>,\n",
       " <ResultRecord(id='663' status='COMPLETE')>,\n",
       " <ResultRecord(id='1846816' status='COMPLETE')>,\n",
       " <ResultRecord(id='1846916' status='COMPLETE')>,\n",
       " <ResultRecord(id='468' status='COMPLETE')>,\n",
       " <ResultRecord(id='507' status='COMPLETE')>,\n",
       " <ResultRecord(id='63' status='COMPLETE')>,\n",
       " <ResultRecord(id='208187' status='COMPLETE')>,\n",
       " <ResultRecord(id='208287' status='COMPLETE')>,\n",
       " <ResultRecord(id='1764410' status='COMPLETE')>,\n",
       " <ResultRecord(id='1819425' status='COMPLETE')>,\n",
       " <ResultRecord(id='1847016' status='COMPLETE')>,\n",
       " <ResultRecord(id='1847116' status='COMPLETE')>,\n",
       " <ResultRecord(id='546' status='COMPLETE')>,\n",
       " <ResultRecord(id='585' status='COMPLETE')>,\n",
       " <ResultRecord(id='618857' status='COMPLETE')>,\n",
       " <ResultRecord(id='618957' status='COMPLETE')>,\n",
       " <ResultRecord(id='621598' status='COMPLETE')>,\n",
       " <ResultRecord(id='621698' status='COMPLETE')>]"
      ]
     },
     "execution_count": 29,
     "metadata": {},
     "output_type": "execute_result"
    }
   ],
   "source": [
    "ret = client.query_results(molecule=mol.id)\n",
    "ret"
   ]
  },
  {
   "cell_type": "markdown",
   "metadata": {},
   "source": [
    "Inspect one of the results:"
   ]
  },
  {
   "cell_type": "code",
   "execution_count": 30,
   "metadata": {},
   "outputs": [
    {
     "name": "stdout",
     "output_type": "stream",
     "text": [
      "Program: psi4\n",
      "Method: b2plyp\n",
      "Basis: aug-cc-pvtz\n"
     ]
    }
   ],
   "source": [
    "r = ret[9]\n",
    "print(f\"Program: {r.program}\\nMethod: {r.method}\\nBasis: {r.basis}\")"
   ]
  },
  {
   "cell_type": "code",
   "execution_count": 31,
   "metadata": {},
   "outputs": [
    {
     "name": "stdout",
     "output_type": "stream",
     "text": [
      "\n",
      "  Memory set to  60.800 GiB by Python driver.\n",
      "\n",
      "*** tstart() called on ca131\n",
      "*** at Fri Jul 12 22:18:51 2019\n",
      "\n",
      "   => Loading Basis Set <=\n",
      "\n",
      "    Name: AUG-CC-PVTZ\n",
      "    Role: ORBITAL\n",
      "    Keyword: BASIS\n",
      "    atoms 1   entry N          line   281 file /home/lnaden/miniconda3/envs/qca/share/psi4/basis/aug-cc-pvtz.gbs \n",
      "    atoms 2-4 entry H          line    36 file /home/lnaden/miniconda3/envs/qca/share/psi4/basis/aug-cc-pvtz.gbs \n",
      "\n",
      "\n",
      "         ---------------------------------------------------------\n",
      "                                   SCF\n",
      "               by Justin Turney, Rob Parrish, Andy Simmonett\n",
      "                          and Daniel G. A. Smith\n",
      "                              RKS Reference\n",
      "                       16 Threads,  62259 MiB Core\n",
      "         ---------------------------------------------------------\n",
      "\n",
      "  ==> Geometry <==\n",
      "\n",
      "    Molecular point group: cs\n",
      "    Full point group: Cs\n",
      "\n",
      "    Geometry (in Bohr), charge = 0, multiplicity = 1:\n",
      "\n",
      "       Center              X                  Y                   Z               Mass       \n",
      "    ------------   -----------------  -----------------  -----------------  -----------------\n",
      "         N            0.000538830000     0.000000000000     0.129095460000    14.003074004430\n",
      "         H           -0.890229660000     1.529856130000    -0.596877300000     1.007825032230\n",
      "         H            1.772972570000     0.000000000000    -0.599942880000     1.007825032230\n",
      "         H           -0.890229660000    -1.529856130000    -0.596877300000     1.007825032230\n",
      "\n",
      "  Running in cs symmetry.\n",
      "\n",
      "  Rotational constants: A =      9.98044  B =      9.90180  C =      6.34817 [cm^-1]\n",
      "  Rotational constants: A = 299206.07647  B = 296848.42896  C = 190313.28552 [MHz]\n",
      "  Nuclear repulsion =   11.947431780818354\n",
      "\n",
      "  Charge       = 0\n",
      "  Multiplicity = 1\n",
      "  Electrons    = 10\n",
      "  Nalpha       = 5\n",
      "  Nbeta        = 5\n",
      "\n",
      "  ==> Algorithm <==\n",
      "\n",
      "  SCF Algorithm Type is DF.\n",
      "  DIIS enabled.\n",
      "  MOM disabled.\n",
      "  Fractional occupation disabled.\n",
      "  Guess Type is SAD.\n",
      "  Energy threshold   = 1.00e-08\n",
      "  Density threshold  = 1.00e-08\n",
      "  Integral threshold = 0.00e+00\n",
      "\n",
      "  ==> Primary Basis <==\n",
      "\n",
      "  Basis Set: AUG-CC-PVTZ\n",
      "    Blend: AUG-CC-PVTZ\n",
      "    Number of shells: 41\n",
      "    Number of basis function: 115\n",
      "    Number of Cartesian functions: 130\n",
      "    Spherical Harmonics?: true\n",
      "    Max angular momentum: 3\n",
      "\n",
      "  ==> DFT Potential <==\n",
      "\n",
      "   => Composite Functional: B2PLYP <= \n",
      "\n",
      "    B2PLYP Double Hybrid Exchange-Correlation Functional\n",
      "\n",
      "    S. Grimme, J. Chem. Phys., 124, 034108, 2006\n",
      "\n",
      "\n",
      "    Deriv               =              1\n",
      "    GGA                 =           TRUE\n",
      "    Meta                =          FALSE\n",
      "\n",
      "    Exchange Hybrid     =           TRUE\n",
      "    MP2 Hybrid          =           TRUE\n",
      "\n",
      "   => Exchange Functionals <=\n",
      "\n",
      "    0.4700     XC_GGA_X_B88\n",
      "\n",
      "   => Exact (HF) Exchange <=\n",
      "\n",
      "    0.5300               HF \n",
      "\n",
      "   => Correlation Functionals <=\n",
      "\n",
      "    0.7300     XC_GGA_C_LYP\n",
      "\n",
      "   => MP2 Correlation <=\n",
      "\n",
      "    0.2700       MP2 \n",
      "\n",
      "   => Molecular Quadrature <=\n",
      "\n",
      "    Radial Scheme          =       TREUTLER\n",
      "    Pruning Scheme         =           FLAT\n",
      "    Nuclear Scheme         =       TREUTLER\n",
      "\n",
      "    BS radius alpha        =              1\n",
      "    Pruning alpha          =              1\n",
      "    Radial Points          =            100\n",
      "    Spherical Points       =            302\n",
      "    Total Points           =         120800\n",
      "    Total Blocks           =            962\n",
      "    Max Points             =            256\n",
      "    Max Functions          =            115\n",
      "\n",
      "   => Loading Basis Set <=\n",
      "\n",
      "    Name: (AUG-CC-PVTZ AUX)\n",
      "    Role: JKFIT\n",
      "    Keyword: DF_BASIS_SCF\n",
      "    atoms 1   entry N          line   224 file /home/lnaden/miniconda3/envs/qca/share/psi4/basis/aug-cc-pvtz-jkfit.gbs \n",
      "    atoms 2-4 entry H          line    70 file /home/lnaden/miniconda3/envs/qca/share/psi4/basis/aug-cc-pvtz-jkfit.gbs \n",
      "\n",
      "  ==> Pre-Iterations <==\n",
      "\n",
      "   -------------------------------------------------------\n",
      "    Irrep   Nso     Nmo     Nalpha   Nbeta   Ndocc  Nsocc\n",
      "   -------------------------------------------------------\n",
      "     A'        69      69       0       0       0       0\n",
      "     A\"        46      46       0       0       0       0\n",
      "   -------------------------------------------------------\n",
      "    Total     115     115       5       5       5       0\n",
      "   -------------------------------------------------------\n",
      "\n",
      "  ==> Integral Setup <==\n",
      "\n",
      "  DFHelper Memory: AOs need 0.029 GiB; user supplied 45.214 GiB. Using in-core AOs.\n",
      "\n",
      "  ==> MemDFJK: Density-Fitted J/K Matrices <==\n",
      "\n",
      "    J tasked:                   Yes\n",
      "    K tasked:                   Yes\n",
      "    wK tasked:                   No\n",
      "    OpenMP threads:              16\n",
      "    Memory [MiB]:             46299\n",
      "    Algorithm:                 Core\n",
      "    Schwarz Cutoff:           1E-12\n",
      "    Mask sparsity (%):       0.0000\n",
      "    Fitting Condition:        1E-10\n",
      "\n",
      "   => Auxiliary Basis Set <=\n",
      "\n",
      "  Basis Set: (AUG-CC-PVTZ AUX)\n",
      "    Blend: AUG-CC-PVTZ-JKFIT\n",
      "    Number of shells: 72\n",
      "    Number of basis function: 242\n",
      "    Number of Cartesian functions: 296\n",
      "    Spherical Harmonics?: true\n",
      "    Max angular momentum: 4\n",
      "\n",
      "  Cached 100.0% of DFT collocation blocks in 0.386 [GiB].\n",
      "\n",
      "  Minimum eigenvalue in the overlap matrix is 2.7046565184E-04.\n",
      "  Using Symmetric Orthogonalization.\n",
      "\n",
      "  SCF Guess: Superposition of Atomic Densities via on-the-fly atomic UHF.\n",
      "\n",
      "  ==> Iterations <==\n",
      "\n",
      "                           Total Energy        Delta E     RMS |[F,P]|\n",
      "\n",
      "   @DF-RKS iter SAD:   -55.95900007653938   -5.59590e+01   0.00000e+00 \n",
      "   @DF-RKS iter   1:   -56.28269366355451   -3.23694e-01   7.97409e-03 DIIS\n",
      "   @DF-RKS iter   2:   -56.25795337003415    2.47403e-02   8.17064e-03 DIIS\n",
      "   @DF-RKS iter   3:   -56.46021265743074   -2.02259e-01   3.01786e-04 DIIS\n",
      "   @DF-RKS iter   4:   -56.46058235120474   -3.69694e-04   4.20726e-05 DIIS\n",
      "   @DF-RKS iter   5:   -56.46059082137342   -8.47017e-06   5.25979e-06 DIIS\n",
      "   @DF-RKS iter   6:   -56.46059098813920   -1.66766e-07   8.96776e-07 DIIS\n",
      "   @DF-RKS iter   7:   -56.46059099415442   -6.01521e-09   1.68815e-07 DIIS\n",
      "   @DF-RKS iter   8:   -56.46059099435612   -2.01709e-10   1.85779e-08 DIIS\n",
      "   @DF-RKS iter   9:   -56.46059099435834   -2.21689e-12   1.47837e-09 DIIS\n",
      "  Energy and wave function converged.\n",
      "\n",
      "\n",
      "  ==> Post-Iterations <==\n",
      "\n",
      "    Orbital Energies [Eh]\n",
      "    ---------------------\n",
      "\n",
      "    Doubly Occupied:                                                      \n",
      "\n",
      "       1Ap   -14.819149     2Ap    -0.976248     3Ap    -0.534045  \n",
      "       1App   -0.533186     4Ap    -0.339638  \n",
      "\n",
      "    Virtual:                                                              \n",
      "\n",
      "       5Ap     0.005072     6Ap     0.034962     2App    0.035036  \n",
      "       7Ap     0.089759     8Ap     0.113558     3App    0.134620  \n",
      "       9Ap     0.134671    10Ap     0.169461     4App    0.169498  \n",
      "      11Ap     0.193429     5App    0.193675    12Ap     0.207388  \n",
      "      13Ap     0.306696     6App    0.319665    14Ap     0.330115  \n",
      "       7App    0.330183    15Ap     0.372804    16Ap     0.394143  \n",
      "       8App    0.394171     9App    0.426433    17Ap     0.426544  \n",
      "      18Ap     0.496383    19Ap     0.530978    10App    0.531450  \n",
      "      20Ap     0.658333    11App    0.692667    21Ap     0.692961  \n",
      "      22Ap     0.725184    23Ap     0.787072    12App    0.828871  \n",
      "      24Ap     0.837552    13App    0.838044    25Ap     0.891859  \n",
      "      14App    0.892131    26Ap     0.948626    15App    0.954762  \n",
      "      27Ap     0.954986    16App    1.004354    28Ap     1.020553  \n",
      "      17App    1.020716    29Ap     1.059845    18App    1.060092  \n",
      "      30Ap     1.097281    31Ap     1.134872    19App    1.135737  \n",
      "      32Ap     1.217908    33Ap     1.256436    20App    1.257636  \n",
      "      34Ap     1.496074    35Ap     1.634208    21App    1.635259  \n",
      "      22App    1.645091    36Ap     1.726835    37Ap     1.734060  \n",
      "      23App    1.734740    38Ap     1.869625    24App    1.894604  \n",
      "      39Ap     1.895043    25App    1.922060    40Ap     1.922836  \n",
      "      41Ap     2.121233    26App    2.214693    27App    2.232937  \n",
      "      42Ap     2.233925    28App    2.288278    43Ap     2.288892  \n",
      "      44Ap     2.313244    45Ap     3.184724    46Ap     3.357067  \n",
      "      29App    3.358506    47Ap     3.788945    30App    3.791293  \n",
      "      48Ap     3.804931    49Ap     3.957783    31App    3.958851  \n",
      "      32App    4.008523    33App    4.044058    50Ap     4.050021  \n",
      "      34App    4.052268    51Ap     4.134546    52Ap     4.153090  \n",
      "      35App    4.153732    53Ap     4.281663    54Ap     4.326653  \n",
      "      36App    4.328826    55Ap     4.479902    37App    4.535739  \n",
      "      56Ap     4.537064    57Ap     4.758429    38App    4.761317  \n",
      "      39App    4.806924    58Ap     4.846585    40App    4.847183  \n",
      "      59Ap     4.852472    60Ap     5.024442    41App    5.425674  \n",
      "      61Ap     5.428564    62Ap     5.493979    42App    5.650005  \n",
      "      63Ap     5.656241    64Ap     5.792429    43App    6.095473  \n",
      "      65Ap     6.100774    44App    6.175525    66Ap     6.371456  \n",
      "      45App    6.689084    67Ap     6.689587    68Ap     7.415202  \n",
      "      46App    7.422249    69Ap    16.716513  \n",
      "\n",
      "    Final Occupation by Irrep:\n",
      "             Ap   App \n",
      "    DOCC [     4,    1 ]\n",
      "\n",
      "  @DF-RKS Final Energy:   -56.46059099435834\n",
      "\n",
      "   => Energetics <=\n",
      "\n",
      "    Nuclear Repulsion Energy =             11.9474317808183539\n",
      "    One-Electron Energy =                 -99.6482974230888345\n",
      "    Two-Electron Energy =                  35.0831019748610800\n",
      "    DFT Exchange-Correlation Energy =      -3.8428273269489335\n",
      "    Empirical Dispersion Energy =           0.0000000000000000\n",
      "    VV10 Nonlocal Energy =                  0.0000000000000000\n",
      "    Total Energy =                        -56.4605909943583413\n",
      "\n",
      "Computation Completed\n",
      "\n",
      "\n",
      "Properties will be evaluated at   0.000000,   0.000000,   0.000000 [a0]\n",
      "\n",
      "Properties computed using the SCF density matrix\n",
      "\n",
      "  Nuclear Dipole Moment: [e a0]\n",
      "     X:    -0.0037      Y:     0.0000      Z:    -0.8900\n",
      "\n",
      "  Electronic Dipole Moment: [e a0]\n",
      "     X:     0.0018      Y:     0.0000      Z:     0.2704\n",
      "\n",
      "  Dipole Moment: [e a0]\n",
      "     X:    -0.0020      Y:     0.0000      Z:    -0.6196     Total:     0.6196\n",
      "\n",
      "  Dipole Moment: [D]\n",
      "     X:    -0.0050      Y:     0.0000      Z:    -1.5749     Total:     1.5749\n",
      "\n",
      "\n",
      "*** tstop() called on ca131 at Fri Jul 12 22:18:54 2019\n",
      "Module time:\n",
      "\tuser time   =      30.17 seconds =       0.50 minutes\n",
      "\tsystem time =       1.14 seconds =       0.02 minutes\n",
      "\ttotal time  =          3 seconds =       0.05 minutes\n",
      "Total time:\n",
      "\tuser time   =      30.17 seconds =       0.50 minutes\n",
      "\tsystem time =       1.14 seconds =       0.02 minutes\n",
      "\ttotal time  =          3 seconds =       0.05 minutes\n",
      "\n",
      "*** tstart() called on ca131\n",
      "*** at Fri Jul 12 22:18:54 2019\n",
      "\n",
      "   => Loading Basis Set <=\n",
      "\n",
      "    Name: (AUG-CC-PVTZ AUX)\n",
      "    Role: RIFIT\n",
      "    Keyword: DF_BASIS_MP2\n",
      "    atoms 1   entry N          line   206 file /home/lnaden/miniconda3/envs/qca/share/psi4/basis/aug-cc-pvtz-ri.gbs \n",
      "    atoms 2-4 entry H          line    30 file /home/lnaden/miniconda3/envs/qca/share/psi4/basis/aug-cc-pvtz-ri.gbs \n",
      "\n",
      "\t --------------------------------------------------------\n",
      "\t                          DF-MP2                         \n",
      "\t      2nd-Order Density-Fitted Moller-Plesset Theory     \n",
      "\t              RMP2 Wavefunction,  16 Threads             \n",
      "\t                                                         \n",
      "\t        Rob Parrish, Justin Turney, Andy Simmonett,      \n",
      "\t           Ed Hohenstein, and C. David Sherrill          \n",
      "\t --------------------------------------------------------\n",
      "\n",
      "   => Auxiliary Basis Set <=\n",
      "\n",
      "  Basis Set: (AUG-CC-PVTZ AUX)\n",
      "    Blend: AUG-CC-PVTZ-RI\n",
      "    Number of shells: 70\n",
      "    Number of basis function: 244\n",
      "    Number of Cartesian functions: 301\n",
      "    Spherical Harmonics?: true\n",
      "    Max angular momentum: 4\n",
      "\n",
      "\t --------------------------------------------------------\n",
      "\t                 NBF =   115, NAUX =   244\n",
      "\t --------------------------------------------------------\n",
      "\t   CLASS    FOCC     OCC    AOCC    AVIR     VIR    FVIR\n",
      "\t   PAIRS       1       5       4     110     110       0\n",
      "\t --------------------------------------------------------\n",
      "\n",
      "\t-----------------------------------------------------------\n",
      "\t ==================> DF-MP2 Energies <==================== \n",
      "\t-----------------------------------------------------------\n",
      "\t Reference Energy          =     -56.4605909943583413 [Eh]\n",
      "\t Singles Energy            =      -0.0000000000000000 [Eh]\n",
      "\t Same-Spin Energy          =      -0.0643396155609966 [Eh]\n",
      "\t Opposite-Spin Energy      =      -0.2226985414819575 [Eh]\n",
      "\t Correlation Energy        =      -0.2870381570429541 [Eh]\n",
      "\t Total Energy              =     -56.7476291514012985 [Eh]\n",
      "\t-----------------------------------------------------------\n",
      "\t ================> DF-SCS-MP2 Energies <================== \n",
      "\t-----------------------------------------------------------\n",
      "\t SCS Same-Spin Scale       =       0.3333333333333333 [-]\n",
      "\t SCS Opposite-Spin Scale   =       1.2000000000000000 [-]\n",
      "\t SCS Same-Spin Energy      =      -0.0214465385203322 [Eh]\n",
      "\t SCS Opposite-Spin Energy  =      -0.2672382497783490 [Eh]\n",
      "\t SCS Correlation Energy    =      -0.2886847882986812 [Eh]\n",
      "\t SCS Total Energy          =     -56.7492757826570227 [Eh]\n",
      "\t-----------------------------------------------------------\n",
      "\n",
      "\n",
      "\n",
      "    B2PLYP Energy Summary\n",
      "    ---------------------\n",
      "    DFT Reference Energy                  =   -56.4605909943583413\n",
      "    Scaled MP2 Correlation                =    -0.0775003024015976\n",
      "    @Final double-hybrid DFT total energy =   -56.5380912967599372\n",
      "\n",
      "\n",
      "*** tstop() called on ca131 at Fri Jul 12 22:18:54 2019\n",
      "Module time:\n",
      "\tuser time   =       6.88 seconds =       0.11 minutes\n",
      "\tsystem time =       0.01 seconds =       0.00 minutes\n",
      "\ttotal time  =          0 seconds =       0.00 minutes\n",
      "Total time:\n",
      "\tuser time   =      37.07 seconds =       0.62 minutes\n",
      "\tsystem time =       1.15 seconds =       0.02 minutes\n",
      "\ttotal time  =          3 seconds =       0.05 minutes\n",
      "\n"
     ]
    }
   ],
   "source": [
    "print(r.get_stdout())"
   ]
  },
  {
   "cell_type": "markdown",
   "metadata": {},
   "source": [
    "## What can QCArchive help you with?\n",
    "\n",
    "If you have questions about how to access QCArchive data for your specific use case, please [reach out to us](https://docs.qcarchive.molssi.org/en/latest/community.html#work-with-us). Also, please feel free to [submit recipes of your own](https://github.com/MolSSI/QCArchiveExamples)."
   ]
  }
 ],
 "metadata": {
  "kernelspec": {
   "display_name": "Python 3",
   "language": "python",
   "name": "python3"
  },
  "language_info": {
   "codemirror_mode": {
    "name": "ipython",
    "version": 3
   },
   "file_extension": ".py",
   "mimetype": "text/x-python",
   "name": "python",
   "nbconvert_exporter": "python",
   "pygments_lexer": "ipython3",
   "version": "3.7.3"
  },
  "pycharm": {
   "stem_cell": {
    "cell_type": "raw",
    "metadata": {
     "collapsed": false
    },
    "source": []
   }
  }
 },
 "nbformat": 4,
 "nbformat_minor": 1
}
