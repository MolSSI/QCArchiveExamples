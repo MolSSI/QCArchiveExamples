{
 "cells": [
  {
   "cell_type": "markdown",
   "metadata": {},
   "source": [
    "# Creating your own datasets on your private server\n",
    "\n",
    "In addition to querying existing datasets, the QCArchive software can be used to easily generate new ones. In this example, we will create a new dataset of small molecules with up to 3 heavy atoms and compute their DFT and AN1-1x energies. \n",
    "\n",
    "For this example, we will use a demonstation \"Snowflake\" server which runs calculations locally in this Jupyter notebook session. In general, QCArchive can be used with thousands of distributed compute nodes at once. "
   ]
  },
  {
   "cell_type": "code",
   "execution_count": 2,
   "metadata": {},
   "outputs": [],
   "source": [
    "import numpy as np\n",
    "import pandas as pd\n",
    "import qcportal as ptl\n",
    "\n",
    "from qcfractal import FractalSnowflakeHandler\n",
    "\n",
    "server = FractalSnowflakeHandler()\n",
    "local_client = server.client()"
   ]
  },
  {
   "cell_type": "markdown",
   "metadata": {},
   "source": [
    "Our new dataset will be called \"QM3\":"
   ]
  },
  {
   "cell_type": "code",
   "execution_count": 3,
   "metadata": {},
   "outputs": [],
   "source": [
    "qm3 = ptl.collections.Dataset(name=\"QM3\", client=local_client, default_units=\"hartree\")"
   ]
  },
  {
   "cell_type": "markdown",
   "metadata": {},
   "source": [
    "### Adding molecules to a dataset"
   ]
  },
  {
   "cell_type": "markdown",
   "metadata": {},
   "source": [
    "The following function counts heavy atoms in a molecule:"
   ]
  },
  {
   "cell_type": "code",
   "execution_count": 4,
   "metadata": {},
   "outputs": [],
   "source": [
    "def count_heavy_atoms(molecule):\n",
    "    return len(list(filter(lambda a: a != 'H', molecule.symbols)))"
   ]
  },
  {
   "cell_type": "markdown",
   "metadata": {},
   "source": [
    "The `add_entry` function adds a molecule to a dataset. Below, we add all molecules in QM7b with 3 or fewer heavy atoms. The `save` function commits these changes to the server. First, pull QM7b down from the MolSSI server:"
   ]
  },
  {
   "cell_type": "code",
   "execution_count": 5,
   "metadata": {},
   "outputs": [],
   "source": [
    "client = ptl.FractalClient()\n",
    "qm7b = client.get_collection(\"dataset\", \"QM7b\")\n",
    "qm7b_mols = qm7b.get_molecules()"
   ]
  },
  {
   "cell_type": "code",
   "execution_count": 6,
   "metadata": {},
   "outputs": [
    {
     "data": {
      "text/plain": [
       "'1'"
      ]
     },
     "execution_count": 6,
     "metadata": {},
     "output_type": "execute_result"
    }
   ],
   "source": [
    "for molecule in qm7b_mols[\"molecule\"]:\n",
    "    if count_heavy_atoms(molecule) <= 3:\n",
    "        qm3.add_entry(f\"{molecule.name}_{molecule.get_hash()[:2]}\", molecule)\n",
    "qm3.save()"
   ]
  },
  {
   "cell_type": "markdown",
   "metadata": {},
   "source": [
    "We can now query the server for the molecules in our dataset:"
   ]
  },
  {
   "cell_type": "code",
   "execution_count": 7,
   "metadata": {},
   "outputs": [
    {
     "data": {
      "text/html": [
       "<div>\n",
       "<style scoped>\n",
       "    .dataframe tbody tr th:only-of-type {\n",
       "        vertical-align: middle;\n",
       "    }\n",
       "\n",
       "    .dataframe tbody tr th {\n",
       "        vertical-align: top;\n",
       "    }\n",
       "\n",
       "    .dataframe thead th {\n",
       "        text-align: right;\n",
       "    }\n",
       "</style>\n",
       "<table border=\"1\" class=\"dataframe\">\n",
       "  <thead>\n",
       "    <tr style=\"text-align: right;\">\n",
       "      <th></th>\n",
       "      <th>molecule</th>\n",
       "    </tr>\n",
       "    <tr>\n",
       "      <th>index</th>\n",
       "      <th></th>\n",
       "    </tr>\n",
       "  </thead>\n",
       "  <tbody>\n",
       "    <tr>\n",
       "      <th>CH4_b3</th>\n",
       "      <td>Geometry (in Angstrom), charge = 0.0, mult...</td>\n",
       "    </tr>\n",
       "    <tr>\n",
       "      <th>C2H6_f3</th>\n",
       "      <td>Geometry (in Angstrom), charge = 0.0, mult...</td>\n",
       "    </tr>\n",
       "    <tr>\n",
       "      <th>C2H3N_a0</th>\n",
       "      <td>Geometry (in Angstrom), charge = 0.0, mult...</td>\n",
       "    </tr>\n",
       "    <tr>\n",
       "      <th>C2H7N_57</th>\n",
       "      <td>Geometry (in Angstrom), charge = 0.0, mult...</td>\n",
       "    </tr>\n",
       "    <tr>\n",
       "      <th>C2H4O_07</th>\n",
       "      <td>Geometry (in Angstrom), charge = 0.0, mult...</td>\n",
       "    </tr>\n",
       "    <tr>\n",
       "      <th>C2H6O_18</th>\n",
       "      <td>Geometry (in Angstrom), charge = 0.0, mult...</td>\n",
       "    </tr>\n",
       "    <tr>\n",
       "      <th>C2H4O_15</th>\n",
       "      <td>Geometry (in Angstrom), charge = 0.0, mult...</td>\n",
       "    </tr>\n",
       "    <tr>\n",
       "      <th>C2H6O_69</th>\n",
       "      <td>Geometry (in Angstrom), charge = 0.0, mult...</td>\n",
       "    </tr>\n",
       "    <tr>\n",
       "      <th>C2H4_96</th>\n",
       "      <td>Geometry (in Angstrom), charge = 0.0, mult...</td>\n",
       "    </tr>\n",
       "    <tr>\n",
       "      <th>C2H2_66</th>\n",
       "      <td>Geometry (in Angstrom), charge = 0.0, mult...</td>\n",
       "    </tr>\n",
       "    <tr>\n",
       "      <th>C3H6_d1</th>\n",
       "      <td>Geometry (in Angstrom), charge = 0.0, mult...</td>\n",
       "    </tr>\n",
       "    <tr>\n",
       "      <th>C3H8_5c</th>\n",
       "      <td>Geometry (in Angstrom), charge = 0.0, mult...</td>\n",
       "    </tr>\n",
       "    <tr>\n",
       "      <th>C3H6_17</th>\n",
       "      <td>Geometry (in Angstrom), charge = 0.0, mult...</td>\n",
       "    </tr>\n",
       "    <tr>\n",
       "      <th>C3H4_11</th>\n",
       "      <td>Geometry (in Angstrom), charge = 0.0, mult...</td>\n",
       "    </tr>\n",
       "    <tr>\n",
       "      <th>C2H5N_1a</th>\n",
       "      <td>Geometry (in Angstrom), charge = 0.0, mult...</td>\n",
       "    </tr>\n",
       "    <tr>\n",
       "      <th>C2H7N_5e</th>\n",
       "      <td>Geometry (in Angstrom), charge = 0.0, mult...</td>\n",
       "    </tr>\n",
       "  </tbody>\n",
       "</table>\n",
       "</div>"
      ],
      "text/plain": [
       "                                                   molecule\n",
       "index                                                      \n",
       "CH4_b3        Geometry (in Angstrom), charge = 0.0, mult...\n",
       "C2H6_f3       Geometry (in Angstrom), charge = 0.0, mult...\n",
       "C2H3N_a0      Geometry (in Angstrom), charge = 0.0, mult...\n",
       "C2H7N_57      Geometry (in Angstrom), charge = 0.0, mult...\n",
       "C2H4O_07      Geometry (in Angstrom), charge = 0.0, mult...\n",
       "C2H6O_18      Geometry (in Angstrom), charge = 0.0, mult...\n",
       "C2H4O_15      Geometry (in Angstrom), charge = 0.0, mult...\n",
       "C2H6O_69      Geometry (in Angstrom), charge = 0.0, mult...\n",
       "C2H4_96       Geometry (in Angstrom), charge = 0.0, mult...\n",
       "C2H2_66       Geometry (in Angstrom), charge = 0.0, mult...\n",
       "C3H6_d1       Geometry (in Angstrom), charge = 0.0, mult...\n",
       "C3H8_5c       Geometry (in Angstrom), charge = 0.0, mult...\n",
       "C3H6_17       Geometry (in Angstrom), charge = 0.0, mult...\n",
       "C3H4_11       Geometry (in Angstrom), charge = 0.0, mult...\n",
       "C2H5N_1a      Geometry (in Angstrom), charge = 0.0, mult...\n",
       "C2H7N_5e      Geometry (in Angstrom), charge = 0.0, mult..."
      ]
     },
     "execution_count": 7,
     "metadata": {},
     "output_type": "execute_result"
    }
   ],
   "source": [
    "qm3.get_molecules()"
   ]
  },
  {
   "cell_type": "markdown",
   "metadata": {},
   "source": [
    "And look at one of them:"
   ]
  },
  {
   "cell_type": "code",
   "execution_count": 8,
   "metadata": {
    "scrolled": true
   },
   "outputs": [
    {
     "data": {
      "application/vnd.jupyter.widget-view+json": {
       "model_id": "de133af62bba428abc834635fd2f9316",
       "version_major": 2,
       "version_minor": 0
      },
      "text/plain": [
       "_ColormakerRegistry()"
      ]
     },
     "metadata": {},
     "output_type": "display_data"
    },
    {
     "data": {
      "application/vnd.jupyter.widget-view+json": {
       "model_id": "6b7f7be6cb0d478e8002a7fe819e55aa",
       "version_major": 2,
       "version_minor": 0
      },
      "text/plain": [
       "NGLWidget()"
      ]
     },
     "metadata": {},
     "output_type": "display_data"
    }
   ],
   "source": [
    "qm3.get_molecules(subset=\"C2H6O_18\")"
   ]
  },
  {
   "cell_type": "markdown",
   "metadata": {},
   "source": [
    "### Running calculations\n",
    "\n",
    "Our QM3 dataset now has all of its molecules, but no properties have been computed for them."
   ]
  },
  {
   "cell_type": "code",
   "execution_count": 9,
   "metadata": {},
   "outputs": [
    {
     "data": {
      "text/html": [
       "<div>\n",
       "<style scoped>\n",
       "    .dataframe tbody tr th:only-of-type {\n",
       "        vertical-align: middle;\n",
       "    }\n",
       "\n",
       "    .dataframe tbody tr th {\n",
       "        vertical-align: top;\n",
       "    }\n",
       "\n",
       "    .dataframe thead th {\n",
       "        text-align: right;\n",
       "    }\n",
       "</style>\n",
       "<table border=\"1\" class=\"dataframe\">\n",
       "  <thead>\n",
       "    <tr style=\"text-align: right;\">\n",
       "      <th></th>\n",
       "      <th></th>\n",
       "      <th></th>\n",
       "      <th></th>\n",
       "      <th></th>\n",
       "      <th>keywords</th>\n",
       "      <th>name</th>\n",
       "    </tr>\n",
       "    <tr>\n",
       "      <th>native</th>\n",
       "      <th>driver</th>\n",
       "      <th>program</th>\n",
       "      <th>method</th>\n",
       "      <th>basis</th>\n",
       "      <th></th>\n",
       "      <th></th>\n",
       "    </tr>\n",
       "  </thead>\n",
       "  <tbody>\n",
       "  </tbody>\n",
       "</table>\n",
       "</div>"
      ],
      "text/plain": [
       "Empty DataFrame\n",
       "Columns: [keywords, name]\n",
       "Index: []"
      ]
     },
     "execution_count": 9,
     "metadata": {},
     "output_type": "execute_result"
    }
   ],
   "source": [
    "qm3.list_values()"
   ]
  },
  {
   "cell_type": "markdown",
   "metadata": {},
   "source": [
    "----\n",
    "\n",
    "<img src=\"https://raw.githubusercontent.com/psi4/psi4media/master/logos-psi4/psi4square.png\" alt=\"psi4\" align=\"left\" style=\"width: 80px;\"/>\n",
    "<img src=\"https://raw.githubusercontent.com/aiqm/torchani/master/logo1.png\" alt=\"torchani\" align=\"right\" style=\"width: 120px;\"/>\n",
    "\n",
    "The `compute` function is used to submit calculations for every molecule in a dataset. \n",
    "We will compute the ωB97x/6-31g(d) energy for each molecule using the Psi4 program, and the ANI-1x energy using the TorchANI program. (Other supported programs include CFOUR, entos, GAMESS, Q-Chem, Molpro, MOPAC, NWChem, RDKit, TeraChem, and Turbomole.)"
   ]
  },
  {
   "cell_type": "code",
   "execution_count": 10,
   "metadata": {},
   "outputs": [
    {
     "data": {
      "text/plain": [
       "<ComputeResponse(nsubmitted=16 nexisting=0)>"
      ]
     },
     "execution_count": 10,
     "metadata": {},
     "output_type": "execute_result"
    }
   ],
   "source": [
    "qm3.compute(program='psi4', method='wB97x', basis='6-31g(d)')"
   ]
  },
  {
   "cell_type": "code",
   "execution_count": 11,
   "metadata": {},
   "outputs": [
    {
     "data": {
      "text/plain": [
       "<ComputeResponse(nsubmitted=16 nexisting=0)>"
      ]
     },
     "execution_count": 11,
     "metadata": {},
     "output_type": "execute_result"
    }
   ],
   "source": [
    "qm3.compute(program=\"torchani\", method=\"ANI1x\")"
   ]
  },
  {
   "cell_type": "markdown",
   "metadata": {},
   "source": [
    "The calculations are submitted and run asynchronously."
   ]
  },
  {
   "cell_type": "markdown",
   "metadata": {},
   "source": [
    "As before, values are described with `list_values` and queried with `get_values`. Incomplete calculations show up as `NaN`, pandas placeholder for missing data."
   ]
  },
  {
   "cell_type": "code",
   "execution_count": 12,
   "metadata": {},
   "outputs": [
    {
     "data": {
      "text/html": [
       "<div>\n",
       "<style scoped>\n",
       "    .dataframe tbody tr th:only-of-type {\n",
       "        vertical-align: middle;\n",
       "    }\n",
       "\n",
       "    .dataframe tbody tr th {\n",
       "        vertical-align: top;\n",
       "    }\n",
       "\n",
       "    .dataframe thead th {\n",
       "        text-align: right;\n",
       "    }\n",
       "</style>\n",
       "<table border=\"1\" class=\"dataframe\">\n",
       "  <thead>\n",
       "    <tr style=\"text-align: right;\">\n",
       "      <th></th>\n",
       "      <th></th>\n",
       "      <th></th>\n",
       "      <th></th>\n",
       "      <th></th>\n",
       "      <th>keywords</th>\n",
       "      <th>name</th>\n",
       "    </tr>\n",
       "    <tr>\n",
       "      <th>native</th>\n",
       "      <th>driver</th>\n",
       "      <th>program</th>\n",
       "      <th>method</th>\n",
       "      <th>basis</th>\n",
       "      <th></th>\n",
       "      <th></th>\n",
       "    </tr>\n",
       "  </thead>\n",
       "  <tbody>\n",
       "    <tr>\n",
       "      <th rowspan=\"2\" valign=\"top\">True</th>\n",
       "      <th rowspan=\"2\" valign=\"top\">energy</th>\n",
       "      <th>psi4</th>\n",
       "      <th>wb97x</th>\n",
       "      <th>6-31g(d)</th>\n",
       "      <td>None</td>\n",
       "      <td>WB97X/6-31g(d)-Psi4</td>\n",
       "    </tr>\n",
       "    <tr>\n",
       "      <th>torchani</th>\n",
       "      <th>ani1x</th>\n",
       "      <th>None</th>\n",
       "      <td>None</td>\n",
       "      <td>ANI1X-Torchani</td>\n",
       "    </tr>\n",
       "  </tbody>\n",
       "</table>\n",
       "</div>"
      ],
      "text/plain": [
       "                                       keywords                 name\n",
       "native driver program  method basis                                 \n",
       "True   energy psi4     wb97x  6-31g(d)     None  WB97X/6-31g(d)-Psi4\n",
       "              torchani ani1x  None         None       ANI1X-Torchani"
      ]
     },
     "execution_count": 12,
     "metadata": {},
     "output_type": "execute_result"
    }
   ],
   "source": [
    "qm3.list_values()"
   ]
  },
  {
   "cell_type": "code",
   "execution_count": 16,
   "metadata": {},
   "outputs": [
    {
     "data": {
      "text/html": [
       "<div>\n",
       "<style scoped>\n",
       "    .dataframe tbody tr th:only-of-type {\n",
       "        vertical-align: middle;\n",
       "    }\n",
       "\n",
       "    .dataframe tbody tr th {\n",
       "        vertical-align: top;\n",
       "    }\n",
       "\n",
       "    .dataframe thead th {\n",
       "        text-align: right;\n",
       "    }\n",
       "</style>\n",
       "<table border=\"1\" class=\"dataframe\">\n",
       "  <thead>\n",
       "    <tr style=\"text-align: right;\">\n",
       "      <th></th>\n",
       "      <th>WB97X/6-31g(d)-Psi4</th>\n",
       "    </tr>\n",
       "  </thead>\n",
       "  <tbody>\n",
       "    <tr>\n",
       "      <th>CH4_b3</th>\n",
       "      <td>-40.4996</td>\n",
       "    </tr>\n",
       "    <tr>\n",
       "      <th>C2H6_f3</th>\n",
       "      <td>-79.8015</td>\n",
       "    </tr>\n",
       "    <tr>\n",
       "      <th>C2H3N_a0</th>\n",
       "      <td>-132.714</td>\n",
       "    </tr>\n",
       "    <tr>\n",
       "      <th>C2H7N_57</th>\n",
       "      <td>-135.122</td>\n",
       "    </tr>\n",
       "    <tr>\n",
       "      <th>C2H4O_07</th>\n",
       "      <td>-153.746</td>\n",
       "    </tr>\n",
       "    <tr>\n",
       "      <th>C2H6O_18</th>\n",
       "      <td>-154.99</td>\n",
       "    </tr>\n",
       "    <tr>\n",
       "      <th>C2H4O_15</th>\n",
       "      <td>-153.786</td>\n",
       "    </tr>\n",
       "    <tr>\n",
       "      <th>C2H6O_69</th>\n",
       "      <td>-154.979</td>\n",
       "    </tr>\n",
       "    <tr>\n",
       "      <th>C2H4_96</th>\n",
       "      <td>-78.5573</td>\n",
       "    </tr>\n",
       "    <tr>\n",
       "      <th>C2H2_66</th>\n",
       "      <td>-77.2971</td>\n",
       "    </tr>\n",
       "    <tr>\n",
       "      <th>C3H6_d1</th>\n",
       "      <td>-117.863</td>\n",
       "    </tr>\n",
       "    <tr>\n",
       "      <th>C3H8_5c</th>\n",
       "      <td>-119.106</td>\n",
       "    </tr>\n",
       "    <tr>\n",
       "      <th>C3H6_17</th>\n",
       "      <td>-117.867</td>\n",
       "    </tr>\n",
       "    <tr>\n",
       "      <th>C3H4_11</th>\n",
       "      <td>-116.613</td>\n",
       "    </tr>\n",
       "    <tr>\n",
       "      <th>C2H5N_1a</th>\n",
       "      <td>-133.885</td>\n",
       "    </tr>\n",
       "    <tr>\n",
       "      <th>C2H7N_5e</th>\n",
       "      <td>-135.13</td>\n",
       "    </tr>\n",
       "  </tbody>\n",
       "</table>\n",
       "</div>"
      ],
      "text/plain": [
       "         WB97X/6-31g(d)-Psi4\n",
       "CH4_b3              -40.4996\n",
       "C2H6_f3             -79.8015\n",
       "C2H3N_a0            -132.714\n",
       "C2H7N_57            -135.122\n",
       "C2H4O_07            -153.746\n",
       "C2H6O_18             -154.99\n",
       "C2H4O_15            -153.786\n",
       "C2H6O_69            -154.979\n",
       "C2H4_96             -78.5573\n",
       "C2H2_66             -77.2971\n",
       "C3H6_d1             -117.863\n",
       "C3H8_5c             -119.106\n",
       "C3H6_17             -117.867\n",
       "C3H4_11             -116.613\n",
       "C2H5N_1a            -133.885\n",
       "C2H7N_5e             -135.13"
      ]
     },
     "execution_count": 16,
     "metadata": {},
     "output_type": "execute_result"
    }
   ],
   "source": [
    "dft_data = qm3.get_values(program='psi4')\n",
    "dft_data"
   ]
  },
  {
   "cell_type": "code",
   "execution_count": 17,
   "metadata": {},
   "outputs": [
    {
     "data": {
      "text/html": [
       "<div>\n",
       "<style scoped>\n",
       "    .dataframe tbody tr th:only-of-type {\n",
       "        vertical-align: middle;\n",
       "    }\n",
       "\n",
       "    .dataframe tbody tr th {\n",
       "        vertical-align: top;\n",
       "    }\n",
       "\n",
       "    .dataframe thead th {\n",
       "        text-align: right;\n",
       "    }\n",
       "</style>\n",
       "<table border=\"1\" class=\"dataframe\">\n",
       "  <thead>\n",
       "    <tr style=\"text-align: right;\">\n",
       "      <th></th>\n",
       "      <th>ANI1X-Torchani</th>\n",
       "    </tr>\n",
       "  </thead>\n",
       "  <tbody>\n",
       "    <tr>\n",
       "      <th>CH4_b3</th>\n",
       "      <td>-40.4997</td>\n",
       "    </tr>\n",
       "    <tr>\n",
       "      <th>C2H6_f3</th>\n",
       "      <td>-79.8012</td>\n",
       "    </tr>\n",
       "    <tr>\n",
       "      <th>C2H3N_a0</th>\n",
       "      <td>-132.714</td>\n",
       "    </tr>\n",
       "    <tr>\n",
       "      <th>C2H7N_57</th>\n",
       "      <td>-135.122</td>\n",
       "    </tr>\n",
       "    <tr>\n",
       "      <th>C2H4O_07</th>\n",
       "      <td>-153.746</td>\n",
       "    </tr>\n",
       "    <tr>\n",
       "      <th>C2H6O_18</th>\n",
       "      <td>-154.99</td>\n",
       "    </tr>\n",
       "    <tr>\n",
       "      <th>C2H4O_15</th>\n",
       "      <td>-153.786</td>\n",
       "    </tr>\n",
       "    <tr>\n",
       "      <th>C2H6O_69</th>\n",
       "      <td>-154.978</td>\n",
       "    </tr>\n",
       "    <tr>\n",
       "      <th>C2H4_96</th>\n",
       "      <td>-78.5572</td>\n",
       "    </tr>\n",
       "    <tr>\n",
       "      <th>C2H2_66</th>\n",
       "      <td>-77.2973</td>\n",
       "    </tr>\n",
       "    <tr>\n",
       "      <th>C3H6_d1</th>\n",
       "      <td>-117.863</td>\n",
       "    </tr>\n",
       "    <tr>\n",
       "      <th>C3H8_5c</th>\n",
       "      <td>-119.106</td>\n",
       "    </tr>\n",
       "    <tr>\n",
       "      <th>C3H6_17</th>\n",
       "      <td>-117.867</td>\n",
       "    </tr>\n",
       "    <tr>\n",
       "      <th>C3H4_11</th>\n",
       "      <td>-116.613</td>\n",
       "    </tr>\n",
       "    <tr>\n",
       "      <th>C2H5N_1a</th>\n",
       "      <td>-133.885</td>\n",
       "    </tr>\n",
       "    <tr>\n",
       "      <th>C2H7N_5e</th>\n",
       "      <td>-135.13</td>\n",
       "    </tr>\n",
       "  </tbody>\n",
       "</table>\n",
       "</div>"
      ],
      "text/plain": [
       "         ANI1X-Torchani\n",
       "CH4_b3         -40.4997\n",
       "C2H6_f3        -79.8012\n",
       "C2H3N_a0       -132.714\n",
       "C2H7N_57       -135.122\n",
       "C2H4O_07       -153.746\n",
       "C2H6O_18        -154.99\n",
       "C2H4O_15       -153.786\n",
       "C2H6O_69       -154.978\n",
       "C2H4_96        -78.5572\n",
       "C2H2_66        -77.2973\n",
       "C3H6_d1        -117.863\n",
       "C3H8_5c        -119.106\n",
       "C3H6_17        -117.867\n",
       "C3H4_11        -116.613\n",
       "C2H5N_1a       -133.885\n",
       "C2H7N_5e        -135.13"
      ]
     },
     "execution_count": 17,
     "metadata": {},
     "output_type": "execute_result"
    }
   ],
   "source": [
    "ml_model_data = qm3.get_values(program='torchani')\n",
    "ml_model_data"
   ]
  },
  {
   "cell_type": "markdown",
   "metadata": {},
   "source": [
    "We can compare the ANI-1x predictions to the DFT values:"
   ]
  },
  {
   "cell_type": "code",
   "execution_count": 18,
   "metadata": {},
   "outputs": [
    {
     "data": {
      "application/vnd.plotly.v1+json": {
       "config": {
        "plotlyServerURL": "https://plot.ly"
       },
       "data": [
        {
         "alignmentgroup": "True",
         "box": {
          "visible": true
         },
         "hoverlabel": {
          "namelength": 0
         },
         "hovertemplate": "Unsigned Difference (Hartree)=%{y}",
         "legendgroup": "",
         "marker": {
          "color": "#636efa"
         },
         "name": "",
         "offsetgroup": "",
         "orientation": "v",
         "scalegroup": "True",
         "showlegend": false,
         "type": "violin",
         "x0": " ",
         "xaxis": "x",
         "y": [
          0.00010063248149094761,
          0.0003092288674935162,
          0.0001540255726979467,
          0.00012165646592166013,
          0.00019515162478001002,
          0.0001311025581856029,
          0.00019306039604316538,
          0.00011784678346771216,
          9.726902064244314e-05,
          0.00019368579741296799,
          0.0005744890448085016,
          0.00034002963880652715,
          2.8818491770721266e-05,
          0.0003052474008597983,
          0.0001335049377928499,
          0.00013512957684724825
         ],
         "y0": " ",
         "yaxis": "y"
        }
       ],
       "layout": {
        "height": 600,
        "legend": {
         "tracegroupgap": 0
        },
        "template": {
         "data": {
          "bar": [
           {
            "error_x": {
             "color": "#2a3f5f"
            },
            "error_y": {
             "color": "#2a3f5f"
            },
            "marker": {
             "line": {
              "color": "#E5ECF6",
              "width": 0.5
             }
            },
            "type": "bar"
           }
          ],
          "barpolar": [
           {
            "marker": {
             "line": {
              "color": "#E5ECF6",
              "width": 0.5
             }
            },
            "type": "barpolar"
           }
          ],
          "carpet": [
           {
            "aaxis": {
             "endlinecolor": "#2a3f5f",
             "gridcolor": "white",
             "linecolor": "white",
             "minorgridcolor": "white",
             "startlinecolor": "#2a3f5f"
            },
            "baxis": {
             "endlinecolor": "#2a3f5f",
             "gridcolor": "white",
             "linecolor": "white",
             "minorgridcolor": "white",
             "startlinecolor": "#2a3f5f"
            },
            "type": "carpet"
           }
          ],
          "choropleth": [
           {
            "colorbar": {
             "outlinewidth": 0,
             "ticks": ""
            },
            "type": "choropleth"
           }
          ],
          "contour": [
           {
            "colorbar": {
             "outlinewidth": 0,
             "ticks": ""
            },
            "colorscale": [
             [
              0,
              "#0d0887"
             ],
             [
              0.1111111111111111,
              "#46039f"
             ],
             [
              0.2222222222222222,
              "#7201a8"
             ],
             [
              0.3333333333333333,
              "#9c179e"
             ],
             [
              0.4444444444444444,
              "#bd3786"
             ],
             [
              0.5555555555555556,
              "#d8576b"
             ],
             [
              0.6666666666666666,
              "#ed7953"
             ],
             [
              0.7777777777777778,
              "#fb9f3a"
             ],
             [
              0.8888888888888888,
              "#fdca26"
             ],
             [
              1,
              "#f0f921"
             ]
            ],
            "type": "contour"
           }
          ],
          "contourcarpet": [
           {
            "colorbar": {
             "outlinewidth": 0,
             "ticks": ""
            },
            "type": "contourcarpet"
           }
          ],
          "heatmap": [
           {
            "colorbar": {
             "outlinewidth": 0,
             "ticks": ""
            },
            "colorscale": [
             [
              0,
              "#0d0887"
             ],
             [
              0.1111111111111111,
              "#46039f"
             ],
             [
              0.2222222222222222,
              "#7201a8"
             ],
             [
              0.3333333333333333,
              "#9c179e"
             ],
             [
              0.4444444444444444,
              "#bd3786"
             ],
             [
              0.5555555555555556,
              "#d8576b"
             ],
             [
              0.6666666666666666,
              "#ed7953"
             ],
             [
              0.7777777777777778,
              "#fb9f3a"
             ],
             [
              0.8888888888888888,
              "#fdca26"
             ],
             [
              1,
              "#f0f921"
             ]
            ],
            "type": "heatmap"
           }
          ],
          "heatmapgl": [
           {
            "colorbar": {
             "outlinewidth": 0,
             "ticks": ""
            },
            "colorscale": [
             [
              0,
              "#0d0887"
             ],
             [
              0.1111111111111111,
              "#46039f"
             ],
             [
              0.2222222222222222,
              "#7201a8"
             ],
             [
              0.3333333333333333,
              "#9c179e"
             ],
             [
              0.4444444444444444,
              "#bd3786"
             ],
             [
              0.5555555555555556,
              "#d8576b"
             ],
             [
              0.6666666666666666,
              "#ed7953"
             ],
             [
              0.7777777777777778,
              "#fb9f3a"
             ],
             [
              0.8888888888888888,
              "#fdca26"
             ],
             [
              1,
              "#f0f921"
             ]
            ],
            "type": "heatmapgl"
           }
          ],
          "histogram": [
           {
            "marker": {
             "colorbar": {
              "outlinewidth": 0,
              "ticks": ""
             }
            },
            "type": "histogram"
           }
          ],
          "histogram2d": [
           {
            "colorbar": {
             "outlinewidth": 0,
             "ticks": ""
            },
            "colorscale": [
             [
              0,
              "#0d0887"
             ],
             [
              0.1111111111111111,
              "#46039f"
             ],
             [
              0.2222222222222222,
              "#7201a8"
             ],
             [
              0.3333333333333333,
              "#9c179e"
             ],
             [
              0.4444444444444444,
              "#bd3786"
             ],
             [
              0.5555555555555556,
              "#d8576b"
             ],
             [
              0.6666666666666666,
              "#ed7953"
             ],
             [
              0.7777777777777778,
              "#fb9f3a"
             ],
             [
              0.8888888888888888,
              "#fdca26"
             ],
             [
              1,
              "#f0f921"
             ]
            ],
            "type": "histogram2d"
           }
          ],
          "histogram2dcontour": [
           {
            "colorbar": {
             "outlinewidth": 0,
             "ticks": ""
            },
            "colorscale": [
             [
              0,
              "#0d0887"
             ],
             [
              0.1111111111111111,
              "#46039f"
             ],
             [
              0.2222222222222222,
              "#7201a8"
             ],
             [
              0.3333333333333333,
              "#9c179e"
             ],
             [
              0.4444444444444444,
              "#bd3786"
             ],
             [
              0.5555555555555556,
              "#d8576b"
             ],
             [
              0.6666666666666666,
              "#ed7953"
             ],
             [
              0.7777777777777778,
              "#fb9f3a"
             ],
             [
              0.8888888888888888,
              "#fdca26"
             ],
             [
              1,
              "#f0f921"
             ]
            ],
            "type": "histogram2dcontour"
           }
          ],
          "mesh3d": [
           {
            "colorbar": {
             "outlinewidth": 0,
             "ticks": ""
            },
            "type": "mesh3d"
           }
          ],
          "parcoords": [
           {
            "line": {
             "colorbar": {
              "outlinewidth": 0,
              "ticks": ""
             }
            },
            "type": "parcoords"
           }
          ],
          "pie": [
           {
            "automargin": true,
            "type": "pie"
           }
          ],
          "scatter": [
           {
            "marker": {
             "colorbar": {
              "outlinewidth": 0,
              "ticks": ""
             }
            },
            "type": "scatter"
           }
          ],
          "scatter3d": [
           {
            "line": {
             "colorbar": {
              "outlinewidth": 0,
              "ticks": ""
             }
            },
            "marker": {
             "colorbar": {
              "outlinewidth": 0,
              "ticks": ""
             }
            },
            "type": "scatter3d"
           }
          ],
          "scattercarpet": [
           {
            "marker": {
             "colorbar": {
              "outlinewidth": 0,
              "ticks": ""
             }
            },
            "type": "scattercarpet"
           }
          ],
          "scattergeo": [
           {
            "marker": {
             "colorbar": {
              "outlinewidth": 0,
              "ticks": ""
             }
            },
            "type": "scattergeo"
           }
          ],
          "scattergl": [
           {
            "marker": {
             "colorbar": {
              "outlinewidth": 0,
              "ticks": ""
             }
            },
            "type": "scattergl"
           }
          ],
          "scattermapbox": [
           {
            "marker": {
             "colorbar": {
              "outlinewidth": 0,
              "ticks": ""
             }
            },
            "type": "scattermapbox"
           }
          ],
          "scatterpolar": [
           {
            "marker": {
             "colorbar": {
              "outlinewidth": 0,
              "ticks": ""
             }
            },
            "type": "scatterpolar"
           }
          ],
          "scatterpolargl": [
           {
            "marker": {
             "colorbar": {
              "outlinewidth": 0,
              "ticks": ""
             }
            },
            "type": "scatterpolargl"
           }
          ],
          "scatterternary": [
           {
            "marker": {
             "colorbar": {
              "outlinewidth": 0,
              "ticks": ""
             }
            },
            "type": "scatterternary"
           }
          ],
          "surface": [
           {
            "colorbar": {
             "outlinewidth": 0,
             "ticks": ""
            },
            "colorscale": [
             [
              0,
              "#0d0887"
             ],
             [
              0.1111111111111111,
              "#46039f"
             ],
             [
              0.2222222222222222,
              "#7201a8"
             ],
             [
              0.3333333333333333,
              "#9c179e"
             ],
             [
              0.4444444444444444,
              "#bd3786"
             ],
             [
              0.5555555555555556,
              "#d8576b"
             ],
             [
              0.6666666666666666,
              "#ed7953"
             ],
             [
              0.7777777777777778,
              "#fb9f3a"
             ],
             [
              0.8888888888888888,
              "#fdca26"
             ],
             [
              1,
              "#f0f921"
             ]
            ],
            "type": "surface"
           }
          ],
          "table": [
           {
            "cells": {
             "fill": {
              "color": "#EBF0F8"
             },
             "line": {
              "color": "white"
             }
            },
            "header": {
             "fill": {
              "color": "#C8D4E3"
             },
             "line": {
              "color": "white"
             }
            },
            "type": "table"
           }
          ]
         },
         "layout": {
          "annotationdefaults": {
           "arrowcolor": "#2a3f5f",
           "arrowhead": 0,
           "arrowwidth": 1
          },
          "coloraxis": {
           "colorbar": {
            "outlinewidth": 0,
            "ticks": ""
           }
          },
          "colorscale": {
           "diverging": [
            [
             0,
             "#8e0152"
            ],
            [
             0.1,
             "#c51b7d"
            ],
            [
             0.2,
             "#de77ae"
            ],
            [
             0.3,
             "#f1b6da"
            ],
            [
             0.4,
             "#fde0ef"
            ],
            [
             0.5,
             "#f7f7f7"
            ],
            [
             0.6,
             "#e6f5d0"
            ],
            [
             0.7,
             "#b8e186"
            ],
            [
             0.8,
             "#7fbc41"
            ],
            [
             0.9,
             "#4d9221"
            ],
            [
             1,
             "#276419"
            ]
           ],
           "sequential": [
            [
             0,
             "#0d0887"
            ],
            [
             0.1111111111111111,
             "#46039f"
            ],
            [
             0.2222222222222222,
             "#7201a8"
            ],
            [
             0.3333333333333333,
             "#9c179e"
            ],
            [
             0.4444444444444444,
             "#bd3786"
            ],
            [
             0.5555555555555556,
             "#d8576b"
            ],
            [
             0.6666666666666666,
             "#ed7953"
            ],
            [
             0.7777777777777778,
             "#fb9f3a"
            ],
            [
             0.8888888888888888,
             "#fdca26"
            ],
            [
             1,
             "#f0f921"
            ]
           ],
           "sequentialminus": [
            [
             0,
             "#0d0887"
            ],
            [
             0.1111111111111111,
             "#46039f"
            ],
            [
             0.2222222222222222,
             "#7201a8"
            ],
            [
             0.3333333333333333,
             "#9c179e"
            ],
            [
             0.4444444444444444,
             "#bd3786"
            ],
            [
             0.5555555555555556,
             "#d8576b"
            ],
            [
             0.6666666666666666,
             "#ed7953"
            ],
            [
             0.7777777777777778,
             "#fb9f3a"
            ],
            [
             0.8888888888888888,
             "#fdca26"
            ],
            [
             1,
             "#f0f921"
            ]
           ]
          },
          "colorway": [
           "#636efa",
           "#EF553B",
           "#00cc96",
           "#ab63fa",
           "#FFA15A",
           "#19d3f3",
           "#FF6692",
           "#B6E880",
           "#FF97FF",
           "#FECB52"
          ],
          "font": {
           "color": "#2a3f5f"
          },
          "geo": {
           "bgcolor": "white",
           "lakecolor": "white",
           "landcolor": "#E5ECF6",
           "showlakes": true,
           "showland": true,
           "subunitcolor": "white"
          },
          "hoverlabel": {
           "align": "left"
          },
          "hovermode": "closest",
          "mapbox": {
           "style": "light"
          },
          "paper_bgcolor": "white",
          "plot_bgcolor": "#E5ECF6",
          "polar": {
           "angularaxis": {
            "gridcolor": "white",
            "linecolor": "white",
            "ticks": ""
           },
           "bgcolor": "#E5ECF6",
           "radialaxis": {
            "gridcolor": "white",
            "linecolor": "white",
            "ticks": ""
           }
          },
          "scene": {
           "xaxis": {
            "backgroundcolor": "#E5ECF6",
            "gridcolor": "white",
            "gridwidth": 2,
            "linecolor": "white",
            "showbackground": true,
            "ticks": "",
            "zerolinecolor": "white"
           },
           "yaxis": {
            "backgroundcolor": "#E5ECF6",
            "gridcolor": "white",
            "gridwidth": 2,
            "linecolor": "white",
            "showbackground": true,
            "ticks": "",
            "zerolinecolor": "white"
           },
           "zaxis": {
            "backgroundcolor": "#E5ECF6",
            "gridcolor": "white",
            "gridwidth": 2,
            "linecolor": "white",
            "showbackground": true,
            "ticks": "",
            "zerolinecolor": "white"
           }
          },
          "shapedefaults": {
           "line": {
            "color": "#2a3f5f"
           }
          },
          "ternary": {
           "aaxis": {
            "gridcolor": "white",
            "linecolor": "white",
            "ticks": ""
           },
           "baxis": {
            "gridcolor": "white",
            "linecolor": "white",
            "ticks": ""
           },
           "bgcolor": "#E5ECF6",
           "caxis": {
            "gridcolor": "white",
            "linecolor": "white",
            "ticks": ""
           }
          },
          "title": {
           "x": 0.05
          },
          "xaxis": {
           "automargin": true,
           "gridcolor": "white",
           "linecolor": "white",
           "ticks": "",
           "title": {
            "standoff": 15
           },
           "zerolinecolor": "white",
           "zerolinewidth": 2
          },
          "yaxis": {
           "automargin": true,
           "gridcolor": "white",
           "linecolor": "white",
           "ticks": "",
           "title": {
            "standoff": 15
           },
           "zerolinecolor": "white",
           "zerolinewidth": 2
          }
         }
        },
        "title": {
         "text": "Difference Distribution between ANI-1x and ωB97x/6-31g(d)"
        },
        "violinmode": "group",
        "xaxis": {
         "anchor": "y",
         "domain": [
          0,
          1
         ]
        },
        "yaxis": {
         "anchor": "x",
         "domain": [
          0,
          1
         ],
         "title": {
          "text": "Unsigned Difference (Hartree)"
         }
        }
       }
      },
      "text/html": [
       "<div>\n",
       "        \n",
       "        \n",
       "            <div id=\"f3b7f349-27cc-4883-9875-cd2243d75bd3\" class=\"plotly-graph-div\" style=\"height:600px; width:100%;\"></div>\n",
       "            <script type=\"text/javascript\">\n",
       "                require([\"plotly\"], function(Plotly) {\n",
       "                    window.PLOTLYENV=window.PLOTLYENV || {};\n",
       "                    \n",
       "                if (document.getElementById(\"f3b7f349-27cc-4883-9875-cd2243d75bd3\")) {\n",
       "                    Plotly.newPlot(\n",
       "                        'f3b7f349-27cc-4883-9875-cd2243d75bd3',\n",
       "                        [{\"alignmentgroup\": \"True\", \"box\": {\"visible\": true}, \"hoverlabel\": {\"namelength\": 0}, \"hovertemplate\": \"Unsigned Difference (Hartree)=%{y}\", \"legendgroup\": \"\", \"marker\": {\"color\": \"#636efa\"}, \"name\": \"\", \"offsetgroup\": \"\", \"orientation\": \"v\", \"scalegroup\": \"True\", \"showlegend\": false, \"type\": \"violin\", \"x0\": \" \", \"xaxis\": \"x\", \"y\": [0.00010063248149094761, 0.0003092288674935162, 0.0001540255726979467, 0.00012165646592166013, 0.00019515162478001002, 0.0001311025581856029, 0.00019306039604316538, 0.00011784678346771216, 9.726902064244314e-05, 0.00019368579741296799, 0.0005744890448085016, 0.00034002963880652715, 2.8818491770721266e-05, 0.0003052474008597983, 0.0001335049377928499, 0.00013512957684724825], \"y0\": \" \", \"yaxis\": \"y\"}],\n",
       "                        {\"height\": 600, \"legend\": {\"tracegroupgap\": 0}, \"template\": {\"data\": {\"bar\": [{\"error_x\": {\"color\": \"#2a3f5f\"}, \"error_y\": {\"color\": \"#2a3f5f\"}, \"marker\": {\"line\": {\"color\": \"#E5ECF6\", \"width\": 0.5}}, \"type\": \"bar\"}], \"barpolar\": [{\"marker\": {\"line\": {\"color\": \"#E5ECF6\", \"width\": 0.5}}, \"type\": \"barpolar\"}], \"carpet\": [{\"aaxis\": {\"endlinecolor\": \"#2a3f5f\", \"gridcolor\": \"white\", \"linecolor\": \"white\", \"minorgridcolor\": \"white\", \"startlinecolor\": \"#2a3f5f\"}, \"baxis\": {\"endlinecolor\": \"#2a3f5f\", \"gridcolor\": \"white\", \"linecolor\": \"white\", \"minorgridcolor\": \"white\", \"startlinecolor\": \"#2a3f5f\"}, \"type\": \"carpet\"}], \"choropleth\": [{\"colorbar\": {\"outlinewidth\": 0, \"ticks\": \"\"}, \"type\": \"choropleth\"}], \"contour\": [{\"colorbar\": {\"outlinewidth\": 0, \"ticks\": \"\"}, \"colorscale\": [[0.0, \"#0d0887\"], [0.1111111111111111, \"#46039f\"], [0.2222222222222222, \"#7201a8\"], [0.3333333333333333, \"#9c179e\"], [0.4444444444444444, \"#bd3786\"], [0.5555555555555556, \"#d8576b\"], [0.6666666666666666, \"#ed7953\"], [0.7777777777777778, \"#fb9f3a\"], [0.8888888888888888, \"#fdca26\"], [1.0, \"#f0f921\"]], \"type\": \"contour\"}], \"contourcarpet\": [{\"colorbar\": {\"outlinewidth\": 0, \"ticks\": \"\"}, \"type\": \"contourcarpet\"}], \"heatmap\": [{\"colorbar\": {\"outlinewidth\": 0, \"ticks\": \"\"}, \"colorscale\": [[0.0, \"#0d0887\"], [0.1111111111111111, \"#46039f\"], [0.2222222222222222, \"#7201a8\"], [0.3333333333333333, \"#9c179e\"], [0.4444444444444444, \"#bd3786\"], [0.5555555555555556, \"#d8576b\"], [0.6666666666666666, \"#ed7953\"], [0.7777777777777778, \"#fb9f3a\"], [0.8888888888888888, \"#fdca26\"], [1.0, \"#f0f921\"]], \"type\": \"heatmap\"}], \"heatmapgl\": [{\"colorbar\": {\"outlinewidth\": 0, \"ticks\": \"\"}, \"colorscale\": [[0.0, \"#0d0887\"], [0.1111111111111111, \"#46039f\"], [0.2222222222222222, \"#7201a8\"], [0.3333333333333333, \"#9c179e\"], [0.4444444444444444, \"#bd3786\"], [0.5555555555555556, \"#d8576b\"], [0.6666666666666666, \"#ed7953\"], [0.7777777777777778, \"#fb9f3a\"], [0.8888888888888888, \"#fdca26\"], [1.0, \"#f0f921\"]], \"type\": \"heatmapgl\"}], \"histogram\": [{\"marker\": {\"colorbar\": {\"outlinewidth\": 0, \"ticks\": \"\"}}, \"type\": \"histogram\"}], \"histogram2d\": [{\"colorbar\": {\"outlinewidth\": 0, \"ticks\": \"\"}, \"colorscale\": [[0.0, \"#0d0887\"], [0.1111111111111111, \"#46039f\"], [0.2222222222222222, \"#7201a8\"], [0.3333333333333333, \"#9c179e\"], [0.4444444444444444, \"#bd3786\"], [0.5555555555555556, \"#d8576b\"], [0.6666666666666666, \"#ed7953\"], [0.7777777777777778, \"#fb9f3a\"], [0.8888888888888888, \"#fdca26\"], [1.0, \"#f0f921\"]], \"type\": \"histogram2d\"}], \"histogram2dcontour\": [{\"colorbar\": {\"outlinewidth\": 0, \"ticks\": \"\"}, \"colorscale\": [[0.0, \"#0d0887\"], [0.1111111111111111, \"#46039f\"], [0.2222222222222222, \"#7201a8\"], [0.3333333333333333, \"#9c179e\"], [0.4444444444444444, \"#bd3786\"], [0.5555555555555556, \"#d8576b\"], [0.6666666666666666, \"#ed7953\"], [0.7777777777777778, \"#fb9f3a\"], [0.8888888888888888, \"#fdca26\"], [1.0, \"#f0f921\"]], \"type\": \"histogram2dcontour\"}], \"mesh3d\": [{\"colorbar\": {\"outlinewidth\": 0, \"ticks\": \"\"}, \"type\": \"mesh3d\"}], \"parcoords\": [{\"line\": {\"colorbar\": {\"outlinewidth\": 0, \"ticks\": \"\"}}, \"type\": \"parcoords\"}], \"pie\": [{\"automargin\": true, \"type\": \"pie\"}], \"scatter\": [{\"marker\": {\"colorbar\": {\"outlinewidth\": 0, \"ticks\": \"\"}}, \"type\": \"scatter\"}], \"scatter3d\": [{\"line\": {\"colorbar\": {\"outlinewidth\": 0, \"ticks\": \"\"}}, \"marker\": {\"colorbar\": {\"outlinewidth\": 0, \"ticks\": \"\"}}, \"type\": \"scatter3d\"}], \"scattercarpet\": [{\"marker\": {\"colorbar\": {\"outlinewidth\": 0, \"ticks\": \"\"}}, \"type\": \"scattercarpet\"}], \"scattergeo\": [{\"marker\": {\"colorbar\": {\"outlinewidth\": 0, \"ticks\": \"\"}}, \"type\": \"scattergeo\"}], \"scattergl\": [{\"marker\": {\"colorbar\": {\"outlinewidth\": 0, \"ticks\": \"\"}}, \"type\": \"scattergl\"}], \"scattermapbox\": [{\"marker\": {\"colorbar\": {\"outlinewidth\": 0, \"ticks\": \"\"}}, \"type\": \"scattermapbox\"}], \"scatterpolar\": [{\"marker\": {\"colorbar\": {\"outlinewidth\": 0, \"ticks\": \"\"}}, \"type\": \"scatterpolar\"}], \"scatterpolargl\": [{\"marker\": {\"colorbar\": {\"outlinewidth\": 0, \"ticks\": \"\"}}, \"type\": \"scatterpolargl\"}], \"scatterternary\": [{\"marker\": {\"colorbar\": {\"outlinewidth\": 0, \"ticks\": \"\"}}, \"type\": \"scatterternary\"}], \"surface\": [{\"colorbar\": {\"outlinewidth\": 0, \"ticks\": \"\"}, \"colorscale\": [[0.0, \"#0d0887\"], [0.1111111111111111, \"#46039f\"], [0.2222222222222222, \"#7201a8\"], [0.3333333333333333, \"#9c179e\"], [0.4444444444444444, \"#bd3786\"], [0.5555555555555556, \"#d8576b\"], [0.6666666666666666, \"#ed7953\"], [0.7777777777777778, \"#fb9f3a\"], [0.8888888888888888, \"#fdca26\"], [1.0, \"#f0f921\"]], \"type\": \"surface\"}], \"table\": [{\"cells\": {\"fill\": {\"color\": \"#EBF0F8\"}, \"line\": {\"color\": \"white\"}}, \"header\": {\"fill\": {\"color\": \"#C8D4E3\"}, \"line\": {\"color\": \"white\"}}, \"type\": \"table\"}]}, \"layout\": {\"annotationdefaults\": {\"arrowcolor\": \"#2a3f5f\", \"arrowhead\": 0, \"arrowwidth\": 1}, \"coloraxis\": {\"colorbar\": {\"outlinewidth\": 0, \"ticks\": \"\"}}, \"colorscale\": {\"diverging\": [[0, \"#8e0152\"], [0.1, \"#c51b7d\"], [0.2, \"#de77ae\"], [0.3, \"#f1b6da\"], [0.4, \"#fde0ef\"], [0.5, \"#f7f7f7\"], [0.6, \"#e6f5d0\"], [0.7, \"#b8e186\"], [0.8, \"#7fbc41\"], [0.9, \"#4d9221\"], [1, \"#276419\"]], \"sequential\": [[0.0, \"#0d0887\"], [0.1111111111111111, \"#46039f\"], [0.2222222222222222, \"#7201a8\"], [0.3333333333333333, \"#9c179e\"], [0.4444444444444444, \"#bd3786\"], [0.5555555555555556, \"#d8576b\"], [0.6666666666666666, \"#ed7953\"], [0.7777777777777778, \"#fb9f3a\"], [0.8888888888888888, \"#fdca26\"], [1.0, \"#f0f921\"]], \"sequentialminus\": [[0.0, \"#0d0887\"], [0.1111111111111111, \"#46039f\"], [0.2222222222222222, \"#7201a8\"], [0.3333333333333333, \"#9c179e\"], [0.4444444444444444, \"#bd3786\"], [0.5555555555555556, \"#d8576b\"], [0.6666666666666666, \"#ed7953\"], [0.7777777777777778, \"#fb9f3a\"], [0.8888888888888888, \"#fdca26\"], [1.0, \"#f0f921\"]]}, \"colorway\": [\"#636efa\", \"#EF553B\", \"#00cc96\", \"#ab63fa\", \"#FFA15A\", \"#19d3f3\", \"#FF6692\", \"#B6E880\", \"#FF97FF\", \"#FECB52\"], \"font\": {\"color\": \"#2a3f5f\"}, \"geo\": {\"bgcolor\": \"white\", \"lakecolor\": \"white\", \"landcolor\": \"#E5ECF6\", \"showlakes\": true, \"showland\": true, \"subunitcolor\": \"white\"}, \"hoverlabel\": {\"align\": \"left\"}, \"hovermode\": \"closest\", \"mapbox\": {\"style\": \"light\"}, \"paper_bgcolor\": \"white\", \"plot_bgcolor\": \"#E5ECF6\", \"polar\": {\"angularaxis\": {\"gridcolor\": \"white\", \"linecolor\": \"white\", \"ticks\": \"\"}, \"bgcolor\": \"#E5ECF6\", \"radialaxis\": {\"gridcolor\": \"white\", \"linecolor\": \"white\", \"ticks\": \"\"}}, \"scene\": {\"xaxis\": {\"backgroundcolor\": \"#E5ECF6\", \"gridcolor\": \"white\", \"gridwidth\": 2, \"linecolor\": \"white\", \"showbackground\": true, \"ticks\": \"\", \"zerolinecolor\": \"white\"}, \"yaxis\": {\"backgroundcolor\": \"#E5ECF6\", \"gridcolor\": \"white\", \"gridwidth\": 2, \"linecolor\": \"white\", \"showbackground\": true, \"ticks\": \"\", \"zerolinecolor\": \"white\"}, \"zaxis\": {\"backgroundcolor\": \"#E5ECF6\", \"gridcolor\": \"white\", \"gridwidth\": 2, \"linecolor\": \"white\", \"showbackground\": true, \"ticks\": \"\", \"zerolinecolor\": \"white\"}}, \"shapedefaults\": {\"line\": {\"color\": \"#2a3f5f\"}}, \"ternary\": {\"aaxis\": {\"gridcolor\": \"white\", \"linecolor\": \"white\", \"ticks\": \"\"}, \"baxis\": {\"gridcolor\": \"white\", \"linecolor\": \"white\", \"ticks\": \"\"}, \"bgcolor\": \"#E5ECF6\", \"caxis\": {\"gridcolor\": \"white\", \"linecolor\": \"white\", \"ticks\": \"\"}}, \"title\": {\"x\": 0.05}, \"xaxis\": {\"automargin\": true, \"gridcolor\": \"white\", \"linecolor\": \"white\", \"ticks\": \"\", \"title\": {\"standoff\": 15}, \"zerolinecolor\": \"white\", \"zerolinewidth\": 2}, \"yaxis\": {\"automargin\": true, \"gridcolor\": \"white\", \"linecolor\": \"white\", \"ticks\": \"\", \"title\": {\"standoff\": 15}, \"zerolinecolor\": \"white\", \"zerolinewidth\": 2}}}, \"title\": {\"text\": \"Difference Distribution between ANI-1x and \\u03c9B97x/6-31g(d)\"}, \"violinmode\": \"group\", \"xaxis\": {\"anchor\": \"y\", \"domain\": [0.0, 1.0]}, \"yaxis\": {\"anchor\": \"x\", \"domain\": [0.0, 1.0], \"title\": {\"text\": \"Unsigned Difference (Hartree)\"}}},\n",
       "                        {\"responsive\": true}\n",
       "                    ).then(function(){\n",
       "                            \n",
       "var gd = document.getElementById('f3b7f349-27cc-4883-9875-cd2243d75bd3');\n",
       "var x = new MutationObserver(function (mutations, observer) {{\n",
       "        var display = window.getComputedStyle(gd).display;\n",
       "        if (!display || display === 'none') {{\n",
       "            console.log([gd, 'removed!']);\n",
       "            Plotly.purge(gd);\n",
       "            observer.disconnect();\n",
       "        }}\n",
       "}});\n",
       "\n",
       "// Listen for the removal of the full notebook cells\n",
       "var notebookContainer = gd.closest('#notebook-container');\n",
       "if (notebookContainer) {{\n",
       "    x.observe(notebookContainer, {childList: true});\n",
       "}}\n",
       "\n",
       "// Listen for the clearing of the current output cell\n",
       "var outputEl = gd.closest('.output');\n",
       "if (outputEl) {{\n",
       "    x.observe(outputEl, {childList: true});\n",
       "}}\n",
       "\n",
       "                        })\n",
       "                };\n",
       "                });\n",
       "            </script>\n",
       "        </div>"
      ]
     },
     "metadata": {},
     "output_type": "display_data"
    }
   ],
   "source": [
    "import plotly.express as px\n",
    "\n",
    "data = pd.merge(dft_data, ml_model_data, left_index=True, right_index=True)\n",
    "\n",
    "data[\"Unsigned Difference (Hartree)\"] = np.abs(data[\"WB97X/6-31g(d)-Psi4\"] - data[\"ANI1X-Torchani\"])\n",
    "\n",
    "fig = px.violin(data, y=\"Unsigned Difference (Hartree)\", box=True, \n",
    "               title=\"Difference Distribution between ANI-1x and ωB97x/6-31g(d)\")\n",
    "fig.show()"
   ]
  },
  {
   "cell_type": "markdown",
   "metadata": {},
   "source": [
    "## Other calculations you can do\n",
    "\n",
    "- `Dataset`: Single point, gradients, and freqencies\n",
    "- `ReactionDataset`: Reactions and interaction energies, with many-body counterpoise corrections\n",
    "- `OptimizationDataset`: Geometry optimization\n",
    "- `TorsionDriveDataset`: PES scans over torsion angles, for force field fitting.\n",
    "\n",
    "Talk to us about adding more!\n",
    "\n",
    "- (AI)MD trajectories?\n",
    "- Normal mode sampling?"
   ]
  },
  {
   "attachments": {
    "distributed.png": {
     "image/png": "[encoded data removed]"
    }
   },
   "cell_type": "markdown",
   "metadata": {},
   "source": [
    "## The QCArchive stack enables large-scale, multi-resource calculations\n",
    "![distributed.png](attachment:distributed.png)"
   ]
  },
  {
   "cell_type": "markdown",
   "metadata": {},
   "source": [
    "## Ongoing data enrichment efforts"
   ]
  },
  {
   "cell_type": "markdown",
   "metadata": {},
   "source": [
    "With the QCArchive framework, it is very easy to submit new calculations on existing datasets. In the MolSSI database, we are augmenting existing datasets with a common set of calculations at various levels of DFT:\n",
    "\n",
    "- HF / Def2-TZVP\n",
    "- LDA / Def2-TZVP\n",
    "- PBE-D3M(BJ) / Def2-TZVP\n",
    "- B3LYP-D3M(BJ) / Def2-TZVP\n",
    "- ωB97x-D3(BJ) / Def2-TZVP\n",
    "\n",
    "and, where feasible:\n",
    "\n",
    "- MP2 / cc-pVTZ\n",
    "- CCSD(T) / cc-pVTZ\n",
    "\n",
    "Let us know if there are properties/calculations that you would like!"
   ]
  },
  {
   "cell_type": "markdown",
   "metadata": {},
   "source": [
    "# Extras"
   ]
  },
  {
   "cell_type": "code",
   "execution_count": null,
   "metadata": {},
   "outputs": [],
   "source": [
    "from IPython.core.display import HTML\n",
    "\n",
    "def print_info(dataset):\n",
    "    print(f\"Name: {dataset.data.name}\")\n",
    "    print()\n",
    "    print(f\"Data Points: {dataset.data.metadata['data_points']}\")\n",
    "    print(f\"Elements: {dataset.data.metadata['elements']}\")\n",
    "    print(f\"Labels: {dataset.data.metadata['labels']}\")\n",
    "    \n",
    "    display(HTML(\"<u>Description:</u> \" + dataset.data.description))\n",
    "    \n",
    "    for cite in dataset.data.metadata[\"citations\"]:\n",
    "        display(HTML(cite['acs_citation']))"
   ]
  }
 ],
 "metadata": {
  "kernelspec": {
   "display_name": "Python 3",
   "language": "python",
   "name": "python3"
  },
  "language_info": {
   "codemirror_mode": {
    "name": "ipython",
    "version": 3
   },
   "file_extension": ".py",
   "mimetype": "text/x-python",
   "name": "python",
   "nbconvert_exporter": "python",
   "pygments_lexer": "ipython3",
   "version": "3.7.3"
  },
  "widgets": {
   "application/vnd.jupyter.widget-state+json": {
    "state": {
     "00f0040b424f48c59e7feb35c3417f3f": {
      "model_module": "@jupyter-widgets/base",
      "model_module_version": "1.2.0",
      "model_name": "LayoutModel",
      "state": {}
     },
     "010107b2819044fe84f0d9a6b4d1b379": {
      "model_module": "@jupyter-widgets/controls",
      "model_module_version": "1.5.0",
      "model_name": "ButtonStyleModel",
      "state": {}
     },
     "0136caf5945849368cb6e03eef35480e": {
      "model_module": "@jupyter-widgets/base",
      "model_module_version": "1.2.0",
      "model_name": "LayoutModel",
      "state": {}
     },
     "01b03f17092a4eba967810f31654c2f6": {
      "model_module": "@jupyter-widgets/controls",
      "model_module_version": "1.5.0",
      "model_name": "ButtonModel",
      "state": {
       "icon": "compress",
       "layout": "IPY_MODEL_6faddd677b8a4fc0af6b57c57a76af88",
       "style": "IPY_MODEL_d212c91c40ec41439bd8d26d5697045a"
      }
     },
     "01be0ecf366b4be583745634f607b85e": {
      "model_module": "@jupyter-widgets/base",
      "model_module_version": "1.2.0",
      "model_name": "LayoutModel",
      "state": {}
     },
     "01dc4083a9084fc58155e86dbb6be27d": {
      "model_module": "@jupyter-widgets/controls",
      "model_module_version": "1.5.0",
      "model_name": "ButtonModel",
      "state": {
       "icon": "compress",
       "layout": "IPY_MODEL_039966eaf93a4412b5d30aac7c0c5842",
       "style": "IPY_MODEL_bc95b6fba99540339a92447237b3a5ce"
      }
     },
     "025b60cd6a344861936f7c8c444f8c22": {
      "model_module": "@jupyter-widgets/controls",
      "model_module_version": "1.5.0",
      "model_name": "SliderStyleModel",
      "state": {
       "description_width": ""
      }
     },
     "026f1b5bb8e047fbab1cc39b2b896220": {
      "model_module": "@jupyter-widgets/controls",
      "model_module_version": "1.5.0",
      "model_name": "SliderStyleModel",
      "state": {
       "description_width": ""
      }
     },
     "02cf190b8cd547eb90cc00c15d9738d1": {
      "model_module": "@jupyter-widgets/controls",
      "model_module_version": "1.5.0",
      "model_name": "ImageModel",
      "state": {
       "layout": "IPY_MODEL_1b998328ef554eed95bb670277cda0e3",
       "width": "900.0"
      }
     },
     "035b0d61973c403d910683225e1078fa": {
      "model_module": "@jupyter-widgets/controls",
      "model_module_version": "1.5.0",
      "model_name": "ImageModel",
      "state": {
       "layout": "IPY_MODEL_ab49acc215054122b64011fe832bfebf",
       "width": "900.0"
      }
     },
     "039966eaf93a4412b5d30aac7c0c5842": {
      "model_module": "@jupyter-widgets/base",
      "model_module_version": "1.2.0",
      "model_name": "LayoutModel",
      "state": {
       "width": "34px"
      }
     },
     "03bbbfb7dee64038ae0eb9e5ab047ebc": {
      "model_module": "@jupyter-widgets/base",
      "model_module_version": "1.2.0",
      "model_name": "LayoutModel",
      "state": {}
     },
     "03e02731118b49e19d609bf707c1f9ce": {
      "model_module": "@jupyter-widgets/base",
      "model_module_version": "1.2.0",
      "model_name": "LayoutModel",
      "state": {}
     },
     "0663fcc4dd5d4ac4ae8a9318e702b699": {
      "model_module": "@jupyter-widgets/base",
      "model_module_version": "1.2.0",
      "model_name": "LayoutModel",
      "state": {
       "width": "34px"
      }
     },
     "06e01d36fc9646968b5de359434dc562": {
      "model_module": "@jupyter-widgets/controls",
      "model_module_version": "1.5.0",
      "model_name": "ImageModel",
      "state": {
       "layout": "IPY_MODEL_03e02731118b49e19d609bf707c1f9ce",
       "width": "900.0"
      }
     },
     "07919583e64d480a96f44b2247027471": {
      "model_module": "@jupyter-widgets/base",
      "model_module_version": "1.2.0",
      "model_name": "LayoutModel",
      "state": {}
     },
     "08031f0e880641c689969391855026ba": {
      "model_module": "@jupyter-widgets/base",
      "model_module_version": "1.2.0",
      "model_name": "LayoutModel",
      "state": {}
     },
     "080892a27a7945afb0aad69ddb7ab4bb": {
      "model_module": "@jupyter-widgets/base",
      "model_module_version": "1.2.0",
      "model_name": "LayoutModel",
      "state": {}
     },
     "081be0d5367640af85a2318d7866deaf": {
      "model_module": "@jupyter-widgets/controls",
      "model_module_version": "1.5.0",
      "model_name": "PlayModel",
      "state": {
       "layout": "IPY_MODEL_1a29e0cf0d6842a593c33ede037820fe",
       "max": 0,
       "style": "IPY_MODEL_78b467ab1dfd4fe3b97f834cf19d916b"
      }
     },
     "093bc4421092469e9729ad20c8514c0e": {
      "model_module": "@jupyter-widgets/base",
      "model_module_version": "1.2.0",
      "model_name": "LayoutModel",
      "state": {
       "width": "34px"
      }
     },
     "099c35a0c97740629d196881ba222ebc": {
      "model_module": "@jupyter-widgets/controls",
      "model_module_version": "1.5.0",
      "model_name": "DescriptionStyleModel",
      "state": {
       "description_width": ""
      }
     },
     "0a2eb54800d047e8969fb8241b21f4f0": {
      "model_module": "@jupyter-widgets/controls",
      "model_module_version": "1.5.0",
      "model_name": "LinkModel",
      "state": {
       "source": [
        "IPY_MODEL_788e2e705f404e3d8ad8eaea05969ecb",
        "value"
       ],
       "target": [
        "IPY_MODEL_607bbed7f0bf46718b65f0ddc9922a8b",
        "frame"
       ]
      }
     },
     "0b7ccecca2424131b0938260bad2bff7": {
      "model_module": "@jupyter-widgets/controls",
      "model_module_version": "1.5.0",
      "model_name": "HBoxModel",
      "state": {
       "children": [
        "IPY_MODEL_c025f3133c2a44c2aebe62be9d633ccb",
        "IPY_MODEL_9ea6eb105805429e82b112e6c9e67307"
       ],
       "layout": "IPY_MODEL_c99cb9ed2d6542f396d8e435df5a8b5e"
      }
     },
     "0bd75db3e3764ce2b08908abb15a314c": {
      "model_module": "@jupyter-widgets/controls",
      "model_module_version": "1.5.0",
      "model_name": "IntSliderModel",
      "state": {
       "layout": "IPY_MODEL_2e1221e4b8b8445c9cda07536a910a18",
       "max": 0,
       "style": "IPY_MODEL_9b445fa1f6e14b72ab590bfb979b9b24"
      }
     },
     "0cb91cd35aee40158b99bf28f408e19f": {
      "model_module": "@jupyter-widgets/base",
      "model_module_version": "1.2.0",
      "model_name": "LayoutModel",
      "state": {}
     },
     "0d1af06b69a645daaff616e0ec9ddd01": {
      "model_module": "@jupyter-widgets/controls",
      "model_module_version": "1.5.0",
      "model_name": "DescriptionStyleModel",
      "state": {
       "description_width": ""
      }
     },
     "0d4dc5677a2445eab92044f01743d619": {
      "model_module": "@jupyter-widgets/base",
      "model_module_version": "1.2.0",
      "model_name": "LayoutModel",
      "state": {}
     },
     "0d70bc80582d4114b36fccf25985d0dd": {
      "model_module": "@jupyter-widgets/controls",
      "model_module_version": "1.5.0",
      "model_name": "DescriptionStyleModel",
      "state": {
       "description_width": ""
      }
     },
     "0d94e60214aa48b1a27e8ce79bf2f1be": {
      "model_module": "@jupyter-widgets/base",
      "model_module_version": "1.2.0",
      "model_name": "LayoutModel",
      "state": {
       "width": "34px"
      }
     },
     "0e510237784542eda439aa0f5fb7650d": {
      "model_module": "@jupyter-widgets/base",
      "model_module_version": "1.2.0",
      "model_name": "LayoutModel",
      "state": {
       "width": "34px"
      }
     },
     "0e66212a9afe446b92bc28f64141c1a4": {
      "model_module": "@jupyter-widgets/controls",
      "model_module_version": "1.5.0",
      "model_name": "HBoxModel",
      "state": {
       "children": [
        "IPY_MODEL_bc8d3a629780471d97c50e45aa568c08",
        "IPY_MODEL_0bd75db3e3764ce2b08908abb15a314c"
       ],
       "layout": "IPY_MODEL_d01ada86d25341aeb0764bcadd7fdfa2"
      }
     },
     "0ee119e013a74d83885e95fce563456b": {
      "model_module": "nglview-js-widgets",
      "model_module_version": "2.7.1",
      "model_name": "NGLModel",
      "state": {
       "_camera_orientation": [
        16.49732201909949,
        2.601307050702904,
        16.528207876997893,
        0,
        6.339879189140974,
        20.508602159929147,
        -9.555797042214962,
        0,
        -15.484004193502063,
        11.168729868381202,
        13.697268890618224,
        0,
        -3.039299964904785,
        -0.696899950504303,
        0.6376499831676483,
        1
       ],
       "_camera_str": "orthographic",
       "_gui_theme": null,
       "_ibtn_fullscreen": "IPY_MODEL_84f61066c7cd47f0b2e217d7160b77f8",
       "_igui": null,
       "_iplayer": "IPY_MODEL_e74f244ec8f84f15bff9798f404237c0",
       "_ngl_color_dict": {},
       "_ngl_coordinate_resource": {},
       "_ngl_full_stage_parameters": {
        "ambientColor": 14540253,
        "ambientIntensity": 0.2,
        "backgroundColor": "white",
        "cameraEyeSep": 0.3,
        "cameraFov": 40,
        "cameraType": "perspective",
        "clipDist": 10,
        "clipFar": 100,
        "clipNear": 0,
        "fogFar": 100,
        "fogNear": 50,
        "hoverTimeout": 0,
        "impostor": true,
        "lightColor": 14540253,
        "lightIntensity": 1,
        "mousePreset": "default",
        "panSpeed": 1,
        "quality": "medium",
        "rotateSpeed": 2,
        "sampleLevel": 0,
        "tooltip": true,
        "workerDefault": true,
        "zoomSpeed": 1.2
       },
       "_ngl_msg_archive": [
        {
         "args": [
          {
           "binary": false,
           "data": "\nQCElemental\n\n 15 15  0  0  0  0  0  0  0  0  0\n    1.0585   -0.0940   -0.0659 N   0  0     0  0  0  0  0  0\n    2.5047   -0.0614   -0.0256 C   0  0     0  0  0  0  0  0\n    3.2402   -0.6480   -1.2062 C   0  0     0  0  0  0  0  0\n    3.2011    0.8565   -1.0021 C   0  0     0  0  0  0  0  0\n    4.4552    1.5904   -0.6013 C   0  0     0  0  0  0  0  0\n    5.3117    1.8842   -1.7137 O   0  0     0  0  0  0  0  0\n    0.6689    0.6431    0.5271 H   0  0     0  0  0  0  0  0\n    0.7140   -0.9846    0.3015 H   0  0     0  0  0  0  0  0\n    3.0077   -0.1811    0.9445 H   0  0     0  0  0  0  0  0\n    2.6272   -1.0604   -2.0077 H   0  0     0  0  0  0  0  0\n    4.1758   -1.1755   -1.0083 H   0  0     0  0  0  0  0  0\n    2.5329    1.3997   -1.6746 H   0  0     0  0  0  0  0  0\n    4.9982    1.0070    0.1688 H   0  0     0  0  0  0  0  0\n    4.2097    2.5693   -0.1604 H   0  0     0  0  0  0  0  0\n    5.4097    1.0574   -2.2198 H   0  0     0  0  0  0  0  0\n  1  2  1  0  0  0  0\n  1  7  1  0  0  0  0\n  1  8  1  0  0  0  0\n  2  3  1  0  0  0  0\n  2  4  1  0  0  0  0\n  2  9  1  0  0  0  0\n  3  4  1  0  0  0  0\n  3 10  1  0  0  0  0\n  3 11  1  0  0  0  0\n  4  5  1  0  0  0  0\n  4 12  1  0  0  0  0\n  5  6  1  0  0  0  0\n  5 13  1  0  0  0  0\n  5 14  1  0  0  0  0\n  6 15  1  0  0  0  0\n",
           "type": "blob"
          }
         ],
         "kwargs": {
          "defaultRepresentation": true,
          "ext": "sdf"
         },
         "methodName": "loadFile",
         "reconstruc_color_scheme": false,
         "target": "Stage",
         "type": "call_method"
        }
       ],
       "_ngl_original_stage_parameters": {
        "ambientColor": 14540253,
        "ambientIntensity": 0.2,
        "backgroundColor": "white",
        "cameraEyeSep": 0.3,
        "cameraFov": 40,
        "cameraType": "perspective",
        "clipDist": 10,
        "clipFar": 100,
        "clipNear": 0,
        "fogFar": 100,
        "fogNear": 50,
        "hoverTimeout": 0,
        "impostor": true,
        "lightColor": 14540253,
        "lightIntensity": 1,
        "mousePreset": "default",
        "panSpeed": 1,
        "quality": "medium",
        "rotateSpeed": 2,
        "sampleLevel": 0,
        "tooltip": true,
        "workerDefault": true,
        "zoomSpeed": 1.2
       },
       "_ngl_repr_dict": {
        "0": {
         "0": {
          "params": {
           "aspectRatio": 1.5,
           "assembly": "default",
           "bondScale": 0.3,
           "bondSpacing": 0.75,
           "clipCenter": {
            "x": 0,
            "y": 0,
            "z": 0
           },
           "clipNear": 0,
           "clipRadius": 0,
           "colorMode": "hcl",
           "colorReverse": false,
           "colorScale": "",
           "colorScheme": "element",
           "colorValue": 9474192,
           "cylinderOnly": false,
           "defaultAssembly": "",
           "depthWrite": true,
           "diffuse": 16777215,
           "diffuseInterior": false,
           "disableImpostor": false,
           "disablePicking": false,
           "flatShaded": false,
           "interiorColor": 2236962,
           "interiorDarkening": 0,
           "lazy": false,
           "lineOnly": false,
           "linewidth": 2,
           "matrix": {
            "elements": [
             1,
             0,
             0,
             0,
             0,
             1,
             0,
             0,
             0,
             0,
             1,
             0,
             0,
             0,
             0,
             1
            ]
           },
           "metalness": 0,
           "multipleBond": "off",
           "opacity": 1,
           "openEnded": true,
           "quality": "high",
           "radialSegments": 20,
           "radiusData": {},
           "radiusScale": 2,
           "radiusSize": 0.15,
           "radiusType": "size",
           "roughness": 0.4,
           "sele": "",
           "side": "double",
           "sphereDetail": 2,
           "useInteriorColor": true,
           "visible": true,
           "wireframe": false
          },
          "type": "ball+stick"
         }
        }
       },
       "_ngl_serialize": false,
       "_ngl_version": "2.0.0-dev.36",
       "_ngl_view_id": [
        "AD82E38C-4B1B-480C-84BE-65B535322AAC"
       ],
       "_player_dict": {},
       "_scene_position": {},
       "_scene_rotation": {},
       "_synced_model_ids": [],
       "_synced_repr_model_ids": [],
       "_view_height": "",
       "_view_width": "",
       "background": "white",
       "frame": 0,
       "gui_style": null,
       "layout": "IPY_MODEL_3f54960f08774d96ba00aa9c752d92b3",
       "max_frame": 0,
       "n_components": 1,
       "picked": {}
      }
     },
     "0f23a4706b4644fcb975a424cd438a8d": {
      "model_module": "@jupyter-widgets/controls",
      "model_module_version": "1.5.0",
      "model_name": "LinkModel",
      "state": {
       "source": [
        "IPY_MODEL_47230d407f8b4dcd9a0b2dce6ec4cb28",
        "max"
       ],
       "target": [
        "IPY_MODEL_3c880efef4b3492c868b1cd7caf66848",
        "max_frame"
       ]
      }
     },
     "0fb2180fe5d84fabb58db9c32a99bcb9": {
      "model_module": "@jupyter-widgets/base",
      "model_module_version": "1.2.0",
      "model_name": "LayoutModel",
      "state": {}
     },
     "100e2d7739b640c3b54a13e99a622dca": {
      "model_module": "@jupyter-widgets/base",
      "model_module_version": "1.2.0",
      "model_name": "LayoutModel",
      "state": {
       "width": "34px"
      }
     },
     "10a2be1c7393404382c6341fab628bc8": {
      "model_module": "@jupyter-widgets/base",
      "model_module_version": "1.2.0",
      "model_name": "LayoutModel",
      "state": {}
     },
     "10d1be046b224fb2928ba76791cffb1b": {
      "model_module": "@jupyter-widgets/controls",
      "model_module_version": "1.5.0",
      "model_name": "PlayModel",
      "state": {
       "layout": "IPY_MODEL_0136caf5945849368cb6e03eef35480e",
       "max": 0,
       "style": "IPY_MODEL_feff8f6cf4694057bca9c214c74a3c71"
      }
     },
     "11574c4bd9f44733be531b54351d1cfb": {
      "model_module": "@jupyter-widgets/controls",
      "model_module_version": "1.5.0",
      "model_name": "ButtonModel",
      "state": {
       "icon": "compress",
       "layout": "IPY_MODEL_5e4f09836ef04e788ac2dfd0cdc62fe4",
       "style": "IPY_MODEL_b4f712802f934545bc550be53e1de4c9"
      }
     },
     "11e632fac1814dcca4ba2985424ec8c2": {
      "model_module": "@jupyter-widgets/base",
      "model_module_version": "1.2.0",
      "model_name": "LayoutModel",
      "state": {}
     },
     "12ca08ac2df4423daf973941e76a4467": {
      "model_module": "@jupyter-widgets/controls",
      "model_module_version": "1.5.0",
      "model_name": "LinkModel",
      "state": {
       "source": [
        "IPY_MODEL_2c5722d8e73b4eea8964df340a29bc18",
        "max"
       ],
       "target": [
        "IPY_MODEL_fe132e369c5e4a45a83894fe90e22b38",
        "max_frame"
       ]
      }
     },
     "132c5cfe7be0439f97d809e7f5e8da6b": {
      "model_module": "@jupyter-widgets/controls",
      "model_module_version": "1.5.0",
      "model_name": "LinkModel",
      "state": {
       "source": [
        "IPY_MODEL_fbfcbe35bbe34be09bce2ea11e5358e7",
        "value"
       ],
       "target": [
        "IPY_MODEL_8c03dccf879b4332b579b248b922e8d3",
        "value"
       ]
      }
     },
     "136be29f61694934baa3ac8412116412": {
      "model_module": "@jupyter-widgets/base",
      "model_module_version": "1.2.0",
      "model_name": "LayoutModel",
      "state": {}
     },
     "13c6bbaf97fc41daa36e9f91a47c6c04": {
      "model_module": "@jupyter-widgets/base",
      "model_module_version": "1.2.0",
      "model_name": "LayoutModel",
      "state": {}
     },
     "13d3ab6074b24ead8a1f1fa12b4a28b1": {
      "model_module": "@jupyter-widgets/controls",
      "model_module_version": "1.5.0",
      "model_name": "ButtonModel",
      "state": {
       "icon": "compress",
       "layout": "IPY_MODEL_0e510237784542eda439aa0f5fb7650d",
       "style": "IPY_MODEL_b02bb1c2eca44970858a618a03cb9812"
      }
     },
     "145efca9d638417a8ef4676905723ecf": {
      "model_module": "@jupyter-widgets/controls",
      "model_module_version": "1.5.0",
      "model_name": "LinkModel",
      "state": {
       "source": [
        "IPY_MODEL_64290a182a6c4d498afe7330dbddf4d8",
        "max"
       ],
       "target": [
        "IPY_MODEL_e7ea99e76d764651b7916f4564039d83",
        "max_frame"
       ]
      }
     },
     "14c9278214cb40c9b4b4f5354864bfca": {
      "model_module": "@jupyter-widgets/base",
      "model_module_version": "1.2.0",
      "model_name": "LayoutModel",
      "state": {}
     },
     "14e59bda4a254d7989559d5f93ac9e63": {
      "model_module": "@jupyter-widgets/base",
      "model_module_version": "1.2.0",
      "model_name": "LayoutModel",
      "state": {}
     },
     "15672b0edfc346988ad7d8eb0cf05714": {
      "model_module": "@jupyter-widgets/controls",
      "model_module_version": "1.5.0",
      "model_name": "ButtonStyleModel",
      "state": {}
     },
     "159f6323b0c04f169a443719e5c19890": {
      "model_module": "@jupyter-widgets/base",
      "model_module_version": "1.2.0",
      "model_name": "LayoutModel",
      "state": {}
     },
     "15e093dec5ef49e4b686232198349f7a": {
      "model_module": "@jupyter-widgets/base",
      "model_module_version": "1.2.0",
      "model_name": "LayoutModel",
      "state": {}
     },
     "164b1024c438497cb05edef82fbf2b54": {
      "model_module": "@jupyter-widgets/controls",
      "model_module_version": "1.5.0",
      "model_name": "SliderStyleModel",
      "state": {
       "description_width": ""
      }
     },
     "17ca84af00af478fbb205caea15abcbb": {
      "model_module": "@jupyter-widgets/controls",
      "model_module_version": "1.5.0",
      "model_name": "IntSliderModel",
      "state": {
       "layout": "IPY_MODEL_0cb91cd35aee40158b99bf28f408e19f",
       "max": 0,
       "style": "IPY_MODEL_46589a8ce5224486a72a1969af014fea"
      }
     },
     "181314f789e64c639a395264d6c06d01": {
      "model_module": "@jupyter-widgets/base",
      "model_module_version": "1.2.0",
      "model_name": "LayoutModel",
      "state": {}
     },
     "187fe5e6abcc442f80ce06478c5c2ff4": {
      "model_module": "nglview-js-widgets",
      "model_module_version": "2.7.1",
      "model_name": "NGLModel",
      "state": {
       "_camera_orientation": [
        12.89761313617702,
        5.742535837467696,
        2.5152958539130563,
        0,
        -3.3437370115209184,
        11.168000498194688,
        -8.351469532837191,
        0,
        -5.303098516442843,
        6.924659032437757,
        11.383237636857954,
        0,
        1.0485999584197998,
        0.9062500298023224,
        -0.356749951839447,
        1
       ],
       "_camera_str": "orthographic",
       "_gui_theme": null,
       "_ibtn_fullscreen": "IPY_MODEL_11574c4bd9f44733be531b54351d1cfb",
       "_igui": null,
       "_iplayer": "IPY_MODEL_0e66212a9afe446b92bc28f64141c1a4",
       "_ngl_color_dict": {},
       "_ngl_coordinate_resource": {},
       "_ngl_full_stage_parameters": {
        "ambientColor": 14540253,
        "ambientIntensity": 0.2,
        "backgroundColor": "white",
        "cameraEyeSep": 0.3,
        "cameraFov": 40,
        "cameraType": "perspective",
        "clipDist": 10,
        "clipFar": 100,
        "clipNear": 0,
        "fogFar": 100,
        "fogNear": 50,
        "hoverTimeout": 0,
        "impostor": true,
        "lightColor": 14540253,
        "lightIntensity": 1,
        "mousePreset": "default",
        "panSpeed": 1,
        "quality": "medium",
        "rotateSpeed": 2,
        "sampleLevel": 0,
        "tooltip": true,
        "workerDefault": true,
        "zoomSpeed": 1.2
       },
       "_ngl_msg_archive": [
        {
         "args": [
          {
           "binary": false,
           "data": "\nQCElemental\n\n  6  4  0  0  0  0  0  0  0  0  0\n   -3.2359   -1.2923    1.0737 C   0  0     0  0  0  0  0  0\n   -2.7025   -2.2906    0.9750 H   0  0     0  0  0  0  0  0\n   -3.0197   -0.5632    0.2594 H   0  0     0  0  0  0  0  0\n   -4.3339   -1.4107    1.1101 H   0  0     0  0  0  0  0  0\n   -2.5449   -0.3806    2.5888 Br  0  0     0  0  0  0  0  0\n    2.2367    0.4781   -1.8753 I   0  0     0  0  0  0  0  0\n  1  2  1  0  0  0  0\n  1  3  1  0  0  0  0\n  1  4  1  0  0  0  0\n  1  5  1  0  0  0  0\n",
           "type": "blob"
          }
         ],
         "kwargs": {
          "defaultRepresentation": true,
          "ext": "sdf"
         },
         "methodName": "loadFile",
         "reconstruc_color_scheme": false,
         "target": "Stage",
         "type": "call_method"
        }
       ],
       "_ngl_original_stage_parameters": {
        "ambientColor": 14540253,
        "ambientIntensity": 0.2,
        "backgroundColor": "white",
        "cameraEyeSep": 0.3,
        "cameraFov": 40,
        "cameraType": "perspective",
        "clipDist": 10,
        "clipFar": 100,
        "clipNear": 0,
        "fogFar": 100,
        "fogNear": 50,
        "hoverTimeout": 0,
        "impostor": true,
        "lightColor": 14540253,
        "lightIntensity": 1,
        "mousePreset": "default",
        "panSpeed": 1,
        "quality": "medium",
        "rotateSpeed": 2,
        "sampleLevel": 0,
        "tooltip": true,
        "workerDefault": true,
        "zoomSpeed": 1.2
       },
       "_ngl_repr_dict": {
        "0": {
         "0": {
          "params": {
           "aspectRatio": 1.5,
           "assembly": "default",
           "bondScale": 0.3,
           "bondSpacing": 0.75,
           "clipCenter": {
            "x": 0,
            "y": 0,
            "z": 0
           },
           "clipNear": 0,
           "clipRadius": 0,
           "colorMode": "hcl",
           "colorReverse": false,
           "colorScale": "",
           "colorScheme": "element",
           "colorValue": 9474192,
           "cylinderOnly": false,
           "defaultAssembly": "",
           "depthWrite": true,
           "diffuse": 16777215,
           "diffuseInterior": false,
           "disableImpostor": false,
           "disablePicking": false,
           "flatShaded": false,
           "interiorColor": 2236962,
           "interiorDarkening": 0,
           "lazy": false,
           "lineOnly": false,
           "linewidth": 2,
           "matrix": {
            "elements": [
             1,
             0,
             0,
             0,
             0,
             1,
             0,
             0,
             0,
             0,
             1,
             0,
             0,
             0,
             0,
             1
            ]
           },
           "metalness": 0,
           "multipleBond": "off",
           "opacity": 1,
           "openEnded": true,
           "quality": "high",
           "radialSegments": 20,
           "radiusData": {},
           "radiusScale": 2,
           "radiusSize": 0.15,
           "radiusType": "size",
           "roughness": 0.4,
           "sele": "",
           "side": "double",
           "sphereDetail": 2,
           "useInteriorColor": true,
           "visible": true,
           "wireframe": false
          },
          "type": "ball+stick"
         }
        }
       },
       "_ngl_serialize": false,
       "_ngl_version": "2.0.0-dev.36",
       "_ngl_view_id": [
        "A033EAFC-7882-4FF4-BAAC-960BDF95FC58"
       ],
       "_player_dict": {},
       "_scene_position": {},
       "_scene_rotation": {},
       "_synced_model_ids": [],
       "_synced_repr_model_ids": [],
       "_view_height": "",
       "_view_width": "",
       "background": "white",
       "frame": 0,
       "gui_style": null,
       "layout": "IPY_MODEL_29511fcbc772406abe06dee862dadcf1",
       "max_frame": 0,
       "n_components": 1,
       "picked": {}
      }
     },
     "18e2c9b9d09c4fcbb4440372946e1a46": {
      "model_module": "@jupyter-widgets/controls",
      "model_module_version": "1.5.0",
      "model_name": "HBoxModel",
      "state": {
       "children": [
        "IPY_MODEL_fc10f22e2e4241c397f0816c595b2aec",
        "IPY_MODEL_c319603f404a495a94e4d0cb9ffba3e9"
       ],
       "layout": "IPY_MODEL_40fcf5974957436d9e7153c6b510c71a"
      }
     },
     "1a29e0cf0d6842a593c33ede037820fe": {
      "model_module": "@jupyter-widgets/base",
      "model_module_version": "1.2.0",
      "model_name": "LayoutModel",
      "state": {}
     },
     "1afcd9b1d49e4ffa86f232d28bd07690": {
      "model_module": "@jupyter-widgets/base",
      "model_module_version": "1.2.0",
      "model_name": "LayoutModel",
      "state": {}
     },
     "1b807827a9c8464193d2448ee49e26cb": {
      "model_module": "@jupyter-widgets/controls",
      "model_module_version": "1.5.0",
      "model_name": "LinkModel",
      "state": {
       "source": [
        "IPY_MODEL_47230d407f8b4dcd9a0b2dce6ec4cb28",
        "value"
       ],
       "target": [
        "IPY_MODEL_e37574371144499391587e9157e8d2b6",
        "value"
       ]
      }
     },
     "1b979f17b80c41e6be4cabd01d610450": {
      "model_module": "@jupyter-widgets/controls",
      "model_module_version": "1.5.0",
      "model_name": "SliderStyleModel",
      "state": {
       "description_width": ""
      }
     },
     "1b998328ef554eed95bb670277cda0e3": {
      "model_module": "@jupyter-widgets/base",
      "model_module_version": "1.2.0",
      "model_name": "LayoutModel",
      "state": {}
     },
     "1c7499b6569842bb989859a3f8abc1e2": {
      "model_module": "@jupyter-widgets/base",
      "model_module_version": "1.2.0",
      "model_name": "LayoutModel",
      "state": {}
     },
     "1cdb177c1c0146ce901be304c0249bc7": {
      "model_module": "@jupyter-widgets/base",
      "model_module_version": "1.2.0",
      "model_name": "LayoutModel",
      "state": {
       "width": "34px"
      }
     },
     "1cea9237842648de91b91d1095fac2c5": {
      "model_module": "@jupyter-widgets/controls",
      "model_module_version": "1.5.0",
      "model_name": "ImageModel",
      "state": {
       "layout": "IPY_MODEL_a12c2a11d1634583849ddaccc0321496",
       "width": "900.0"
      }
     },
     "1d22efb6377d457a8c59f42815ea705d": {
      "model_module": "@jupyter-widgets/controls",
      "model_module_version": "1.5.0",
      "model_name": "IntSliderModel",
      "state": {
       "layout": "IPY_MODEL_14c9278214cb40c9b4b4f5354864bfca",
       "max": 0,
       "style": "IPY_MODEL_5c377603245b4aae96be03b15416c060"
      }
     },
     "1d4d5af91efc4aceb47d7591eda45365": {
      "model_module": "@jupyter-widgets/controls",
      "model_module_version": "1.5.0",
      "model_name": "IntSliderModel",
      "state": {
       "layout": "IPY_MODEL_f2cb941812fa44ceb5d5f9cf4112df66",
       "max": 0,
       "style": "IPY_MODEL_a3b29fa98d57471b820125b8a9237fe1"
      }
     },
     "1e0a56f287524d629b4de344934c5320": {
      "model_module": "@jupyter-widgets/base",
      "model_module_version": "1.2.0",
      "model_name": "LayoutModel",
      "state": {}
     },
     "1e192c8f56e243ccad59fb5d6c90b164": {
      "model_module": "@jupyter-widgets/controls",
      "model_module_version": "1.5.0",
      "model_name": "LinkModel",
      "state": {
       "source": [
        "IPY_MODEL_d92586f2fc3c46c0b2bb3aaeb3e16e2c",
        "value"
       ],
       "target": [
        "IPY_MODEL_57bdf530543c45b89755c431d8cada42",
        "value"
       ]
      }
     },
     "1eb11e654e5a4100a61e1fecf7257c50": {
      "model_module": "@jupyter-widgets/controls",
      "model_module_version": "1.5.0",
      "model_name": "IntSliderModel",
      "state": {
       "layout": "IPY_MODEL_986c197d89744fda87becb8242b02aaf",
       "max": 0,
       "style": "IPY_MODEL_665e9ac2f7ff440892c2d42718035f02"
      }
     },
     "1f1ac221e1004e419d8e999f5556325e": {
      "model_module": "@jupyter-widgets/base",
      "model_module_version": "1.2.0",
      "model_name": "LayoutModel",
      "state": {}
     },
     "1f25e5a878ce4b958912d7ed86a1f982": {
      "model_module": "@jupyter-widgets/base",
      "model_module_version": "1.2.0",
      "model_name": "LayoutModel",
      "state": {}
     },
     "1fc4884d4fe1401c88bf0ec65c8d0503": {
      "model_module": "@jupyter-widgets/base",
      "model_module_version": "1.2.0",
      "model_name": "LayoutModel",
      "state": {}
     },
     "201bbc9bd7e649bdab39b4d12d0219ad": {
      "model_module": "nglview-js-widgets",
      "model_module_version": "2.7.1",
      "model_name": "NGLModel",
      "state": {
       "_camera_orientation": [
        -183.33877764755886,
        323.6590294014478,
        11.272091467536047,
        0,
        185.35821169992957,
        115.49178429380457,
        -301.32924827251276,
        0,
        -265.5646074207621,
        -142.83492288648014,
        -218.10309222454902,
        0,
        -1.8113499879837036,
        -0.3889000415802002,
        0.0037999749183654785,
        1
       ],
       "_camera_str": "orthographic",
       "_gui_theme": null,
       "_ibtn_fullscreen": "IPY_MODEL_5ccc6c74df104946ace7570e32d39e6e",
       "_igui": null,
       "_iplayer": "IPY_MODEL_7e31f025bc364f5381432bc1ea5442c8",
       "_ngl_color_dict": {},
       "_ngl_coordinate_resource": {},
       "_ngl_full_stage_parameters": {
        "ambientColor": 14540253,
        "ambientIntensity": 0.2,
        "backgroundColor": "white",
        "cameraEyeSep": 0.3,
        "cameraFov": 40,
        "cameraType": "perspective",
        "clipDist": 10,
        "clipFar": 100,
        "clipNear": 0,
        "fogFar": 100,
        "fogNear": 50,
        "hoverTimeout": 0,
        "impostor": true,
        "lightColor": 14540253,
        "lightIntensity": 1,
        "mousePreset": "default",
        "panSpeed": 1,
        "quality": "medium",
        "rotateSpeed": 2,
        "sampleLevel": 0,
        "tooltip": true,
        "workerDefault": true,
        "zoomSpeed": 1.2
       },
       "_ngl_msg_archive": [
        {
         "args": [
          {
           "binary": false,
           "data": "\nQCElemental\n\n  9  8  0  0  0  0  0  0  0  0  0\n    0.9868   -0.0056    0.0038 C   0  0     0  0  0  0  0  0\n    2.5093    0.0197   -0.0155 C   0  0     0  0  0  0  0  0\n    3.0530    1.3461    0.0232 O   0  0     0  0  0  0  0  0\n    0.6177   -1.0421    0.0252 H   0  0     0  0  0  0  0  0\n    0.5697    0.4765   -0.8942 H   0  0     0  0  0  0  0  0\n    0.6003    0.5207    0.8877 H   0  0     0  0  0  0  0  0\n    2.8902   -0.5323   -0.8953 H   0  0     0  0  0  0  0  0\n    2.9114   -0.4777    0.8795 H   0  0     0  0  0  0  0  0\n    2.7317    1.8199   -0.7640 H   0  0     0  0  0  0  0  0\n  1  2  1  0  0  0  0\n  1  4  1  0  0  0  0\n  1  5  1  0  0  0  0\n  1  6  1  0  0  0  0\n  2  3  1  0  0  0  0\n  2  7  1  0  0  0  0\n  2  8  1  0  0  0  0\n  3  9  1  0  0  0  0\n",
           "type": "blob"
          }
         ],
         "kwargs": {
          "defaultRepresentation": true,
          "ext": "sdf"
         },
         "methodName": "loadFile",
         "reconstruc_color_scheme": false,
         "target": "Stage",
         "type": "call_method"
        }
       ],
       "_ngl_original_stage_parameters": {
        "ambientColor": 14540253,
        "ambientIntensity": 0.2,
        "backgroundColor": "white",
        "cameraEyeSep": 0.3,
        "cameraFov": 40,
        "cameraType": "perspective",
        "clipDist": 10,
        "clipFar": 100,
        "clipNear": 0,
        "fogFar": 100,
        "fogNear": 50,
        "hoverTimeout": 0,
        "impostor": true,
        "lightColor": 14540253,
        "lightIntensity": 1,
        "mousePreset": "default",
        "panSpeed": 1,
        "quality": "medium",
        "rotateSpeed": 2,
        "sampleLevel": 0,
        "tooltip": true,
        "workerDefault": true,
        "zoomSpeed": 1.2
       },
       "_ngl_repr_dict": {
        "0": {
         "0": {
          "params": {
           "aspectRatio": 1.5,
           "assembly": "default",
           "bondScale": 0.3,
           "bondSpacing": 0.75,
           "clipCenter": {
            "x": 0,
            "y": 0,
            "z": 0
           },
           "clipNear": 0,
           "clipRadius": 0,
           "colorMode": "hcl",
           "colorReverse": false,
           "colorScale": "",
           "colorScheme": "element",
           "colorValue": 9474192,
           "cylinderOnly": false,
           "defaultAssembly": "",
           "depthWrite": true,
           "diffuse": 16777215,
           "diffuseInterior": false,
           "disableImpostor": false,
           "disablePicking": false,
           "flatShaded": false,
           "interiorColor": 2236962,
           "interiorDarkening": 0,
           "lazy": false,
           "lineOnly": false,
           "linewidth": 2,
           "matrix": {
            "elements": [
             1,
             0,
             0,
             0,
             0,
             1,
             0,
             0,
             0,
             0,
             1,
             0,
             0,
             0,
             0,
             1
            ]
           },
           "metalness": 0,
           "multipleBond": "off",
           "opacity": 1,
           "openEnded": true,
           "quality": "high",
           "radialSegments": 20,
           "radiusData": {},
           "radiusScale": 2,
           "radiusSize": 0.15,
           "radiusType": "size",
           "roughness": 0.4,
           "sele": "",
           "side": "double",
           "sphereDetail": 2,
           "useInteriorColor": true,
           "visible": true,
           "wireframe": false
          },
          "type": "ball+stick"
         }
        }
       },
       "_ngl_serialize": false,
       "_ngl_version": "2.0.0-dev.36",
       "_ngl_view_id": [
        "523CC3E6-D3E0-4F75-B060-19DCF469090B"
       ],
       "_player_dict": {},
       "_scene_position": {},
       "_scene_rotation": {},
       "_synced_model_ids": [],
       "_synced_repr_model_ids": [],
       "_view_height": "",
       "_view_width": "",
       "background": "white",
       "frame": 0,
       "gui_style": null,
       "layout": "IPY_MODEL_1fc4884d4fe1401c88bf0ec65c8d0503",
       "max_frame": 0,
       "n_components": 1,
       "picked": {}
      }
     },
     "205c0dbfafde42749255a936933a7cd9": {
      "model_module": "@jupyter-widgets/controls",
      "model_module_version": "1.5.0",
      "model_name": "ButtonModel",
      "state": {
       "icon": "compress",
       "layout": "IPY_MODEL_ab0e4f9c7830474fa9e9742acd74e18e",
       "style": "IPY_MODEL_96a84bc2b793448fbf9d9cc813566b4c"
      }
     },
     "208dd8fd061346aeb77c7582a4c00d30": {
      "model_module": "@jupyter-widgets/base",
      "model_module_version": "1.2.0",
      "model_name": "LayoutModel",
      "state": {}
     },
     "209dcb00cdfa4779bd8711bd18a57932": {
      "model_module": "@jupyter-widgets/controls",
      "model_module_version": "1.5.0",
      "model_name": "HBoxModel",
      "state": {
       "children": [
        "IPY_MODEL_86be563ee65a41aaa4384de646a6547b",
        "IPY_MODEL_64ca71755dea426c8a4b808abd595b42"
       ],
       "layout": "IPY_MODEL_5e7d55a5616a470aa2aea06e1b07c574"
      }
     },
     "21985cefc97e449286b3a7b125a3d7d6": {
      "model_module": "@jupyter-widgets/base",
      "model_module_version": "1.2.0",
      "model_name": "LayoutModel",
      "state": {
       "width": "34px"
      }
     },
     "23728bef7863453a81bff6e2bf781e02": {
      "model_module": "@jupyter-widgets/controls",
      "model_module_version": "1.5.0",
      "model_name": "IntSliderModel",
      "state": {
       "layout": "IPY_MODEL_cd0955e5d7254bdd854689a35d979b8c",
       "max": 0,
       "style": "IPY_MODEL_026f1b5bb8e047fbab1cc39b2b896220"
      }
     },
     "2426b142f59d4749a5bea269e574b821": {
      "model_module": "@jupyter-widgets/controls",
      "model_module_version": "1.5.0",
      "model_name": "PlayModel",
      "state": {
       "layout": "IPY_MODEL_83c12a455c8e447fa7ea4b92dab83a1e",
       "max": 0,
       "style": "IPY_MODEL_7992b4a87ef14a80a1dd27f5ffa58333"
      }
     },
     "24ce75e4a6114f7fadd413c794daabf2": {
      "model_module": "nglview-js-widgets",
      "model_module_version": "2.7.1",
      "model_name": "ColormakerRegistryModel",
      "state": {
       "_msg_ar": [],
       "_msg_q": [],
       "_ready": true,
       "layout": "IPY_MODEL_080892a27a7945afb0aad69ddb7ab4bb"
      }
     },
     "260ef89ca8bd4ab78beff6ee3dc93d22": {
      "model_module": "@jupyter-widgets/controls",
      "model_module_version": "1.5.0",
      "model_name": "LinkModel",
      "state": {
       "source": [
        "IPY_MODEL_85b7429944484dbab2d8c2a0dcde8a8b",
        "max"
       ],
       "target": [
        "IPY_MODEL_4a657bc4c42f42cd8fc4146692bc691b",
        "max_frame"
       ]
      }
     },
     "2631151dcae2428abfa746acf59931a4": {
      "model_module": "@jupyter-widgets/controls",
      "model_module_version": "1.5.0",
      "model_name": "DescriptionStyleModel",
      "state": {
       "description_width": ""
      }
     },
     "266074656b0247b1ac80492a250e81c7": {
      "model_module": "@jupyter-widgets/controls",
      "model_module_version": "1.5.0",
      "model_name": "SliderStyleModel",
      "state": {
       "description_width": ""
      }
     },
     "267080979efe4b5ca47b932022ea5f78": {
      "model_module": "@jupyter-widgets/base",
      "model_module_version": "1.2.0",
      "model_name": "LayoutModel",
      "state": {}
     },
     "26c14499dab2473c812c4bcfa3323535": {
      "model_module": "@jupyter-widgets/controls",
      "model_module_version": "1.5.0",
      "model_name": "ButtonModel",
      "state": {
       "icon": "compress",
       "layout": "IPY_MODEL_46594750d9134fd4b81a63216d1fe7df",
       "style": "IPY_MODEL_2e5b723923ac4a16a405e03e357f37db"
      }
     },
     "271f504db0c64173b2aef42d5c838732": {
      "model_module": "@jupyter-widgets/base",
      "model_module_version": "1.2.0",
      "model_name": "LayoutModel",
      "state": {
       "width": "34px"
      }
     },
     "27810f7a125544c99ce71806a98a370f": {
      "model_module": "@jupyter-widgets/controls",
      "model_module_version": "1.5.0",
      "model_name": "HBoxModel",
      "state": {
       "children": [
        "IPY_MODEL_2e0afb7432a54daaa058ec1ac0b78af6",
        "IPY_MODEL_1d22efb6377d457a8c59f42815ea705d"
       ],
       "layout": "IPY_MODEL_159f6323b0c04f169a443719e5c19890"
      }
     },
     "2892490fa79d429c9b87e334a4518aee": {
      "model_module": "@jupyter-widgets/controls",
      "model_module_version": "1.5.0",
      "model_name": "SliderStyleModel",
      "state": {
       "description_width": ""
      }
     },
     "28d559fab1e244f781bff267c558bf2e": {
      "model_module": "@jupyter-widgets/controls",
      "model_module_version": "1.5.0",
      "model_name": "LinkModel",
      "state": {
       "source": [
        "IPY_MODEL_beb56c8ddb5c45a6822b28f08d3e2cd2",
        "value"
       ],
       "target": [
        "IPY_MODEL_a0c0e14fd7c244908097d4fd342192cb",
        "value"
       ]
      }
     },
     "29511fcbc772406abe06dee862dadcf1": {
      "model_module": "@jupyter-widgets/base",
      "model_module_version": "1.2.0",
      "model_name": "LayoutModel",
      "state": {}
     },
     "2a2b433332ff4c7da32baa0ae0f84987": {
      "model_module": "@jupyter-widgets/base",
      "model_module_version": "1.2.0",
      "model_name": "LayoutModel",
      "state": {}
     },
     "2a5b348d20cc4e458bb80570ce91d706": {
      "model_module": "@jupyter-widgets/base",
      "model_module_version": "1.2.0",
      "model_name": "LayoutModel",
      "state": {}
     },
     "2ae176cf026346be986be2aad4896fe3": {
      "model_module": "@jupyter-widgets/controls",
      "model_module_version": "1.5.0",
      "model_name": "LinkModel",
      "state": {
       "source": [
        "IPY_MODEL_2e0afb7432a54daaa058ec1ac0b78af6",
        "value"
       ],
       "target": [
        "IPY_MODEL_1d22efb6377d457a8c59f42815ea705d",
        "value"
       ]
      }
     },
     "2b127f3f1f374ad0939b9ce933568c2f": {
      "model_module": "@jupyter-widgets/base",
      "model_module_version": "1.2.0",
      "model_name": "LayoutModel",
      "state": {}
     },
     "2b43db3cab1947bbaaf75710aeba6a83": {
      "model_module": "@jupyter-widgets/base",
      "model_module_version": "1.2.0",
      "model_name": "LayoutModel",
      "state": {}
     },
     "2b80dc401f604b76903475e7ac870c54": {
      "model_module": "@jupyter-widgets/controls",
      "model_module_version": "1.5.0",
      "model_name": "LinkModel",
      "state": {
       "source": [
        "IPY_MODEL_1d22efb6377d457a8c59f42815ea705d",
        "max"
       ],
       "target": [
        "IPY_MODEL_aea826d954b84cf5b12322150f640b8d",
        "max_frame"
       ]
      }
     },
     "2b947f37296f4dbc84837509d521668c": {
      "model_module": "@jupyter-widgets/controls",
      "model_module_version": "1.5.0",
      "model_name": "IntSliderModel",
      "state": {
       "layout": "IPY_MODEL_3d23f268a9f942b6bb94ae40059f3368",
       "max": 0,
       "style": "IPY_MODEL_be8453d76c5b4276b681b1bb61192995"
      }
     },
     "2c5722d8e73b4eea8964df340a29bc18": {
      "model_module": "@jupyter-widgets/controls",
      "model_module_version": "1.5.0",
      "model_name": "PlayModel",
      "state": {
       "layout": "IPY_MODEL_5991e4f7832a4579bf9eada3b68979e9",
       "max": 0,
       "style": "IPY_MODEL_3d096ac747a74cbb8bf0bc345e2562db"
      }
     },
     "2ccbe191fe2b4f9d8d51714108294e26": {
      "model_module": "nglview-js-widgets",
      "model_module_version": "2.7.1",
      "model_name": "NGLModel",
      "state": {
       "_camera_orientation": [
        -10.894579703448436,
        -47.237918921375,
        10.778349621424868,
        0,
        -11.440805502073415,
        -8.227021503203511,
        -47.62047624865169,
        0,
        47.08186247428778,
        -12.929841633302525,
        -9.077614928425646,
        0,
        -0.12629997730255127,
        0.10379999876022339,
        0.13075000047683716,
        1
       ],
       "_camera_str": "orthographic",
       "_gui_theme": null,
       "_ibtn_fullscreen": "IPY_MODEL_516faa703a1e4162929e65f453bb6685",
       "_igui": null,
       "_iplayer": "IPY_MODEL_6a0cdf694e0a442e9c95b8276ab597c6",
       "_ngl_color_dict": {},
       "_ngl_coordinate_resource": {},
       "_ngl_full_stage_parameters": {
        "ambientColor": 14540253,
        "ambientIntensity": 0.2,
        "backgroundColor": "white",
        "cameraEyeSep": 0.3,
        "cameraFov": 40,
        "cameraType": "perspective",
        "clipDist": 10,
        "clipFar": 100,
        "clipNear": 0,
        "fogFar": 100,
        "fogNear": 50,
        "hoverTimeout": 0,
        "impostor": true,
        "lightColor": 14540253,
        "lightIntensity": 1,
        "mousePreset": "default",
        "panSpeed": 1,
        "quality": "medium",
        "rotateSpeed": 2,
        "sampleLevel": 0,
        "tooltip": true,
        "workerDefault": true,
        "zoomSpeed": 1.2
       },
       "_ngl_msg_archive": [
        {
         "args": [
          {
           "binary": false,
           "data": "\nQCElemental\n\n 17 15  0  0  0  0  0  0  0  0  0\n   -2.8505   -0.3264    0.2721 N   0  0     0  0  0  0  0  0\n   -1.9946    0.4736   -0.4414 C   0  0     0  0  0  0  0  0\n   -0.5269    0.1784   -0.3058 C   0  0     0  0  0  0  0  0\n   -0.0946   -0.8778   -0.7942 N   0  0     0  0  0  0  0  0\n    1.2424   -1.2467   -0.6762 N   0  0     0  0  0  0  0  0\n    2.2555   -0.4354    0.0799 C   0  0     0  0  0  0  0  0\n    1.6714    0.7842    0.6251 C   0  0     0  0  0  0  0  0\n    0.3886    1.0615    0.4513 C   0  0     0  0  0  0  0  0\n   -2.5265   -0.3625    1.4762 H   0  0     0  0  0  0  0  0\n   -2.7565   -1.0164   -0.2812 H   0  0     0  0  0  0  0  0\n   -2.2298    1.2910    0.0904 H   0  0     0  0  0  0  0  0\n   -2.2387    0.4757   -1.7377 H   0  0     0  0  0  0  0  0\n    1.5979   -2.1218   -1.0785 H   0  0     0  0  0  0  0  0\n    3.1031   -0.1113   -0.5854 H   0  0     0  0  0  0  0  0\n    2.6852   -1.0303    0.8765 H   0  0     0  0  0  0  0  0\n    2.3903    1.4668    1.1911 H   0  0     0  0  0  0  0  0\n    0.0385    1.9142    0.8119 H   0  0     0  0  0  0  0  0\n  1  2  1  0  0  0  0\n  1 10  1  0  0  0  0\n  2  3  1  0  0  0  0\n  2 11  1  0  0  0  0\n  3  4  1  0  0  0  0\n  3  8  1  0  0  0  0\n  4  5  1  0  0  0  0\n  5  6  1  0  0  0  0\n  5 13  1  0  0  0  0\n  6  7  1  0  0  0  0\n  6 14  1  0  0  0  0\n  6 15  1  0  0  0  0\n  7  8  1  0  0  0  0\n  7 16  1  0  0  0  0\n  8 17  1  0  0  0  0\n",
           "type": "blob"
          }
         ],
         "kwargs": {
          "defaultRepresentation": true,
          "ext": "sdf"
         },
         "methodName": "loadFile",
         "reconstruc_color_scheme": false,
         "target": "Stage",
         "type": "call_method"
        }
       ],
       "_ngl_original_stage_parameters": {
        "ambientColor": 14540253,
        "ambientIntensity": 0.2,
        "backgroundColor": "white",
        "cameraEyeSep": 0.3,
        "cameraFov": 40,
        "cameraType": "perspective",
        "clipDist": 10,
        "clipFar": 100,
        "clipNear": 0,
        "fogFar": 100,
        "fogNear": 50,
        "hoverTimeout": 0,
        "impostor": true,
        "lightColor": 14540253,
        "lightIntensity": 1,
        "mousePreset": "default",
        "panSpeed": 1,
        "quality": "medium",
        "rotateSpeed": 2,
        "sampleLevel": 0,
        "tooltip": true,
        "workerDefault": true,
        "zoomSpeed": 1.2
       },
       "_ngl_repr_dict": {
        "0": {
         "0": {
          "params": {
           "aspectRatio": 1.5,
           "assembly": "default",
           "bondScale": 0.3,
           "bondSpacing": 0.75,
           "clipCenter": {
            "x": 0,
            "y": 0,
            "z": 0
           },
           "clipNear": 0,
           "clipRadius": 0,
           "colorMode": "hcl",
           "colorReverse": false,
           "colorScale": "",
           "colorScheme": "element",
           "colorValue": 9474192,
           "cylinderOnly": false,
           "defaultAssembly": "",
           "depthWrite": true,
           "diffuse": 16777215,
           "diffuseInterior": false,
           "disableImpostor": false,
           "disablePicking": false,
           "flatShaded": false,
           "interiorColor": 2236962,
           "interiorDarkening": 0,
           "lazy": false,
           "lineOnly": false,
           "linewidth": 2,
           "matrix": {
            "elements": [
             1,
             0,
             0,
             0,
             0,
             1,
             0,
             0,
             0,
             0,
             1,
             0,
             0,
             0,
             0,
             1
            ]
           },
           "metalness": 0,
           "multipleBond": "off",
           "opacity": 1,
           "openEnded": true,
           "quality": "high",
           "radialSegments": 20,
           "radiusData": {},
           "radiusScale": 2,
           "radiusSize": 0.15,
           "radiusType": "size",
           "roughness": 0.4,
           "sele": "",
           "side": "double",
           "sphereDetail": 2,
           "useInteriorColor": true,
           "visible": true,
           "wireframe": false
          },
          "type": "ball+stick"
         }
        }
       },
       "_ngl_serialize": false,
       "_ngl_version": "2.0.0-dev.36",
       "_ngl_view_id": [
        "3B1DE6F1-7DF9-4784-A739-94286F2F25CF"
       ],
       "_player_dict": {},
       "_scene_position": {},
       "_scene_rotation": {},
       "_synced_model_ids": [],
       "_synced_repr_model_ids": [],
       "_view_height": "",
       "_view_width": "",
       "background": "white",
       "frame": 0,
       "gui_style": null,
       "layout": "IPY_MODEL_3d71a0e30070475a9131280d35b8b945",
       "max_frame": 0,
       "n_components": 1,
       "picked": {}
      }
     },
     "2d59815229534c74954c594467402af6": {
      "model_module": "@jupyter-widgets/controls",
      "model_module_version": "1.5.0",
      "model_name": "PlayModel",
      "state": {
       "layout": "IPY_MODEL_b3dee8c2622d4d69900bd28568cfc6b3",
       "max": 0,
       "style": "IPY_MODEL_40f84e4a511240d2a7e15fcb616f2e62"
      }
     },
     "2da5123add1b421bb9463e71b01b8107": {
      "model_module": "nglview-js-widgets",
      "model_module_version": "2.7.1",
      "model_name": "NGLModel",
      "state": {
       "_camera_orientation": [
        21.739522599727792,
        0,
        0,
        0,
        0,
        21.739522599727792,
        0,
        0,
        0,
        0,
        21.739522599727792,
        0,
        -3.6217499375343323,
        -1.1101000308990479,
        -0.30744999647140503,
        1
       ],
       "_camera_str": "orthographic",
       "_gui_theme": null,
       "_ibtn_fullscreen": "IPY_MODEL_13d3ab6074b24ead8a1f1fa12b4a28b1",
       "_igui": null,
       "_iplayer": "IPY_MODEL_5307d537377a4de984cf2ce63bde2d4c",
       "_ngl_color_dict": {},
       "_ngl_coordinate_resource": {},
       "_ngl_full_stage_parameters": {
        "ambientColor": 14540253,
        "ambientIntensity": 0.2,
        "backgroundColor": "white",
        "cameraEyeSep": 0.3,
        "cameraFov": 40,
        "cameraType": "perspective",
        "clipDist": 10,
        "clipFar": 100,
        "clipNear": 0,
        "fogFar": 100,
        "fogNear": 50,
        "hoverTimeout": 0,
        "impostor": true,
        "lightColor": 14540253,
        "lightIntensity": 1,
        "mousePreset": "default",
        "panSpeed": 1,
        "quality": "medium",
        "rotateSpeed": 2,
        "sampleLevel": 0,
        "tooltip": true,
        "workerDefault": true,
        "zoomSpeed": 1.2
       },
       "_ngl_msg_archive": [
        {
         "args": [
          {
           "binary": false,
           "data": "\nQCElemental\n\n 15 14  0  0  0  0  0  0  0  0  0\n    0.8609   -0.0032    0.4328 C   0  0     0  0  0  0  0  0\n    2.3553   -0.0570    0.1724 C   0  0     0  0  0  0  0  0\n    2.9907    1.3258    0.2306 C   0  0     0  0  0  0  0  0\n    4.3897    1.1897   -0.0239 O   0  0     0  0  0  0  0  0\n    4.9789    2.4603    0.0388 N   0  0     0  0  0  0  0  0\n    6.2411    2.3388   -0.1918 C   0  0     0  0  0  0  0  0\n    0.4317   -1.0091    0.3886 H   0  0     0  0  0  0  0  0\n    0.3542    0.6153   -0.3152 H   0  0     0  0  0  0  0  0\n    0.6496    0.4130    1.4231 H   0  0     0  0  0  0  0  0\n    2.5465   -0.5082   -0.8082 H   0  0     0  0  0  0  0  0\n    2.8376   -0.7137    0.9058 H   0  0     0  0  0  0  0  0\n    2.8450    1.7723    1.2215 H   0  0     0  0  0  0  0  0\n    2.5478    1.9831   -0.5270 H   0  0     0  0  0  0  0  0\n    6.8893    3.2293   -0.1875 H   0  0     0  0  0  0  0  0\n    6.7236    1.3687   -0.3989 H   0  0     0  0  0  0  0  0\n  1  2  1  0  0  0  0\n  1  7  1  0  0  0  0\n  1  8  1  0  0  0  0\n  1  9  1  0  0  0  0\n  2  3  1  0  0  0  0\n  2 10  1  0  0  0  0\n  2 11  1  0  0  0  0\n  3  4  1  0  0  0  0\n  3 12  1  0  0  0  0\n  3 13  1  0  0  0  0\n  4  5  1  0  0  0  0\n  5  6  1  0  0  0  0\n  6 14  1  0  0  0  0\n  6 15  1  0  0  0  0\n",
           "type": "blob"
          }
         ],
         "kwargs": {
          "defaultRepresentation": true,
          "ext": "sdf"
         },
         "methodName": "loadFile",
         "reconstruc_color_scheme": false,
         "target": "Stage",
         "type": "call_method"
        }
       ],
       "_ngl_original_stage_parameters": {
        "ambientColor": 14540253,
        "ambientIntensity": 0.2,
        "backgroundColor": "white",
        "cameraEyeSep": 0.3,
        "cameraFov": 40,
        "cameraType": "perspective",
        "clipDist": 10,
        "clipFar": 100,
        "clipNear": 0,
        "fogFar": 100,
        "fogNear": 50,
        "hoverTimeout": 0,
        "impostor": true,
        "lightColor": 14540253,
        "lightIntensity": 1,
        "mousePreset": "default",
        "panSpeed": 1,
        "quality": "medium",
        "rotateSpeed": 2,
        "sampleLevel": 0,
        "tooltip": true,
        "workerDefault": true,
        "zoomSpeed": 1.2
       },
       "_ngl_repr_dict": {
        "0": {
         "0": {
          "params": {
           "aspectRatio": 1.5,
           "assembly": "default",
           "bondScale": 0.3,
           "bondSpacing": 0.75,
           "clipCenter": {
            "x": 0,
            "y": 0,
            "z": 0
           },
           "clipNear": 0,
           "clipRadius": 0,
           "colorMode": "hcl",
           "colorReverse": false,
           "colorScale": "",
           "colorScheme": "element",
           "colorValue": 9474192,
           "cylinderOnly": false,
           "defaultAssembly": "",
           "depthWrite": true,
           "diffuse": 16777215,
           "diffuseInterior": false,
           "disableImpostor": false,
           "disablePicking": false,
           "flatShaded": false,
           "interiorColor": 2236962,
           "interiorDarkening": 0,
           "lazy": false,
           "lineOnly": false,
           "linewidth": 2,
           "matrix": {
            "elements": [
             1,
             0,
             0,
             0,
             0,
             1,
             0,
             0,
             0,
             0,
             1,
             0,
             0,
             0,
             0,
             1
            ]
           },
           "metalness": 0,
           "multipleBond": "off",
           "opacity": 1,
           "openEnded": true,
           "quality": "high",
           "radialSegments": 20,
           "radiusData": {},
           "radiusScale": 2,
           "radiusSize": 0.15,
           "radiusType": "size",
           "roughness": 0.4,
           "sele": "",
           "side": "double",
           "sphereDetail": 2,
           "useInteriorColor": true,
           "visible": true,
           "wireframe": false
          },
          "type": "ball+stick"
         }
        }
       },
       "_ngl_serialize": false,
       "_ngl_version": "2.0.0-dev.36",
       "_ngl_view_id": [
        "6B2E4AF1-2D73-44CF-84E7-AD6DF5AAB0E8"
       ],
       "_player_dict": {},
       "_scene_position": {},
       "_scene_rotation": {},
       "_synced_model_ids": [],
       "_synced_repr_model_ids": [],
       "_view_height": "",
       "_view_width": "",
       "background": "white",
       "frame": 0,
       "gui_style": null,
       "layout": "IPY_MODEL_9a331aa2c7c54857a96b3403b3599f8b",
       "max_frame": 0,
       "n_components": 1,
       "picked": {}
      }
     },
     "2e0afb7432a54daaa058ec1ac0b78af6": {
      "model_module": "@jupyter-widgets/controls",
      "model_module_version": "1.5.0",
      "model_name": "PlayModel",
      "state": {
       "layout": "IPY_MODEL_7638cf8deedc419299b2cd47813e7d58",
       "max": 0,
       "style": "IPY_MODEL_553381bced8e4be5a0bf0c4f4b7f8434"
      }
     },
     "2e1221e4b8b8445c9cda07536a910a18": {
      "model_module": "@jupyter-widgets/base",
      "model_module_version": "1.2.0",
      "model_name": "LayoutModel",
      "state": {}
     },
     "2e1ff1b1610c4bdeb2ba483e3c64c4c4": {
      "model_module": "@jupyter-widgets/base",
      "model_module_version": "1.2.0",
      "model_name": "LayoutModel",
      "state": {}
     },
     "2e5b723923ac4a16a405e03e357f37db": {
      "model_module": "@jupyter-widgets/controls",
      "model_module_version": "1.5.0",
      "model_name": "ButtonStyleModel",
      "state": {}
     },
     "2f0d82d16d6e48b4ab0ea4d5d6dca069": {
      "model_module": "@jupyter-widgets/controls",
      "model_module_version": "1.5.0",
      "model_name": "LinkModel",
      "state": {
       "source": [
        "IPY_MODEL_959584c30f9e41c7870ec9e50e1273ef",
        "max"
       ],
       "target": [
        "IPY_MODEL_4a657bc4c42f42cd8fc4146692bc691b",
        "max_frame"
       ]
      }
     },
     "2f390cf11c434e5b9d0f890b37f2d9a6": {
      "model_module": "nglview-js-widgets",
      "model_module_version": "2.7.1",
      "model_name": "NGLModel",
      "state": {
       "_camera_orientation": [
        27.007891059606607,
        0,
        0,
        0,
        0,
        27.007891059606607,
        0,
        0,
        0,
        0,
        27.007891059606607,
        0,
        -0.6850500106811523,
        -1.0210000276565552,
        0.9401000738143921,
        1
       ],
       "_camera_str": "orthographic",
       "_gui_theme": null,
       "_ibtn_fullscreen": "IPY_MODEL_58c0799554a8413ab2d4cce887841e00",
       "_igui": null,
       "_iplayer": "IPY_MODEL_919c815bc4cc439b883b046a278f820d",
       "_ngl_color_dict": {},
       "_ngl_coordinate_resource": {},
       "_ngl_full_stage_parameters": {
        "ambientColor": 14540253,
        "ambientIntensity": 0.2,
        "backgroundColor": "white",
        "cameraEyeSep": 0.3,
        "cameraFov": 40,
        "cameraType": "perspective",
        "clipDist": 10,
        "clipFar": 100,
        "clipNear": 0,
        "fogFar": 100,
        "fogNear": 50,
        "hoverTimeout": 0,
        "impostor": true,
        "lightColor": 14540253,
        "lightIntensity": 1,
        "mousePreset": "default",
        "panSpeed": 1,
        "quality": "medium",
        "rotateSpeed": 2,
        "sampleLevel": 0,
        "tooltip": true,
        "workerDefault": true,
        "zoomSpeed": 1.2
       },
       "_ngl_msg_archive": [
        {
         "args": [
          {
           "binary": false,
           "data": "\nQCElemental\n\n  6  4  0  0  0  0  0  0  0  0  0\n    3.2310    3.3707   -3.8704 C   0  0     0  0  0  0  0  0\n    3.9848    4.1195   -3.7045 H   0  0     0  0  0  0  0  0\n    3.5510    2.7458   -2.9599 H   0  0     0  0  0  0  0  0\n    2.2167    3.8630   -3.5111 H   0  0     0  0  0  0  0  0\n    3.6691    2.4565   -5.5114 Cl  0  0     0  0  0  0  0  0\n   -2.6147   -2.0775    3.6312 Br  0  0     0  0  0  0  0  0\n  1  2  1  0  0  0  0\n  1  3  1  0  0  0  0\n  1  4  1  0  0  0  0\n  1  5  1  0  0  0  0\n",
           "type": "blob"
          }
         ],
         "kwargs": {
          "defaultRepresentation": true,
          "ext": "sdf"
         },
         "methodName": "loadFile",
         "reconstruc_color_scheme": false,
         "target": "Stage",
         "type": "call_method"
        }
       ],
       "_ngl_original_stage_parameters": {
        "ambientColor": 14540253,
        "ambientIntensity": 0.2,
        "backgroundColor": "white",
        "cameraEyeSep": 0.3,
        "cameraFov": 40,
        "cameraType": "perspective",
        "clipDist": 10,
        "clipFar": 100,
        "clipNear": 0,
        "fogFar": 100,
        "fogNear": 50,
        "hoverTimeout": 0,
        "impostor": true,
        "lightColor": 14540253,
        "lightIntensity": 1,
        "mousePreset": "default",
        "panSpeed": 1,
        "quality": "medium",
        "rotateSpeed": 2,
        "sampleLevel": 0,
        "tooltip": true,
        "workerDefault": true,
        "zoomSpeed": 1.2
       },
       "_ngl_repr_dict": {
        "0": {
         "0": {
          "params": {
           "aspectRatio": 1.5,
           "assembly": "default",
           "bondScale": 0.3,
           "bondSpacing": 0.75,
           "clipCenter": {
            "x": 0,
            "y": 0,
            "z": 0
           },
           "clipNear": 0,
           "clipRadius": 0,
           "colorMode": "hcl",
           "colorReverse": false,
           "colorScale": "",
           "colorScheme": "element",
           "colorValue": 9474192,
           "cylinderOnly": false,
           "defaultAssembly": "",
           "depthWrite": true,
           "diffuse": 16777215,
           "diffuseInterior": false,
           "disableImpostor": false,
           "disablePicking": false,
           "flatShaded": false,
           "interiorColor": 2236962,
           "interiorDarkening": 0,
           "lazy": false,
           "lineOnly": false,
           "linewidth": 2,
           "matrix": {
            "elements": [
             1,
             0,
             0,
             0,
             0,
             1,
             0,
             0,
             0,
             0,
             1,
             0,
             0,
             0,
             0,
             1
            ]
           },
           "metalness": 0,
           "multipleBond": "off",
           "opacity": 1,
           "openEnded": true,
           "quality": "high",
           "radialSegments": 20,
           "radiusData": {},
           "radiusScale": 2,
           "radiusSize": 0.15,
           "radiusType": "size",
           "roughness": 0.4,
           "sele": "",
           "side": "double",
           "sphereDetail": 2,
           "useInteriorColor": true,
           "visible": true,
           "wireframe": false
          },
          "type": "ball+stick"
         }
        }
       },
       "_ngl_serialize": false,
       "_ngl_version": "2.0.0-dev.36",
       "_ngl_view_id": [
        "47F2FD33-6C65-4E6A-8FD9-08CE603B3499"
       ],
       "_player_dict": {},
       "_scene_position": {},
       "_scene_rotation": {},
       "_synced_model_ids": [],
       "_synced_repr_model_ids": [],
       "_view_height": "",
       "_view_width": "",
       "background": "white",
       "frame": 0,
       "gui_style": null,
       "layout": "IPY_MODEL_e234e6bd397642818caae0ef568d9d80",
       "max_frame": 0,
       "n_components": 1,
       "picked": {}
      }
     },
     "2fa7f92f97924b779427305acecd285a": {
      "model_module": "@jupyter-widgets/controls",
      "model_module_version": "1.5.0",
      "model_name": "ButtonStyleModel",
      "state": {}
     },
     "301d163479944b1ebc256c3bb53da485": {
      "model_module": "@jupyter-widgets/base",
      "model_module_version": "1.2.0",
      "model_name": "LayoutModel",
      "state": {}
     },
     "30fc22ad37ec4b15af5caac15544f8cb": {
      "model_module": "@jupyter-widgets/controls",
      "model_module_version": "1.5.0",
      "model_name": "ButtonModel",
      "state": {
       "icon": "compress",
       "layout": "IPY_MODEL_0d94e60214aa48b1a27e8ce79bf2f1be",
       "style": "IPY_MODEL_f3ac13e7e7f445c6988e1779e9bd544c"
      }
     },
     "317d47a2ce5a45019057613c02e6a45a": {
      "model_module": "@jupyter-widgets/controls",
      "model_module_version": "1.5.0",
      "model_name": "SliderStyleModel",
      "state": {
       "description_width": ""
      }
     },
     "31e6249953054af98e6d92367b796723": {
      "model_module": "nglview-js-widgets",
      "model_module_version": "2.7.1",
      "model_name": "NGLModel",
      "state": {
       "_camera_orientation": [
        10.052800062644467,
        -3.832422000458541,
        12.896722100181073,
        0,
        11.53625092518973,
        10.739424730614271,
        -5.800979181563084,
        0,
        -6.922991687843814,
        12.33081451017212,
        9.06062293797583,
        0,
        -3.039299964904785,
        -0.696899950504303,
        0.6376499831676483,
        1
       ],
       "_camera_str": "orthographic",
       "_gui_theme": null,
       "_ibtn_fullscreen": "IPY_MODEL_cab7ec09eead473696e6fef233eebdb7",
       "_igui": null,
       "_iplayer": "IPY_MODEL_5bb5946aaf334364b2325a6b7ff37c4b",
       "_ngl_color_dict": {},
       "_ngl_coordinate_resource": {},
       "_ngl_full_stage_parameters": {
        "ambientColor": 14540253,
        "ambientIntensity": 0.2,
        "backgroundColor": "white",
        "cameraEyeSep": 0.3,
        "cameraFov": 40,
        "cameraType": "perspective",
        "clipDist": 10,
        "clipFar": 100,
        "clipNear": 0,
        "fogFar": 100,
        "fogNear": 50,
        "hoverTimeout": 0,
        "impostor": true,
        "lightColor": 14540253,
        "lightIntensity": 1,
        "mousePreset": "default",
        "panSpeed": 1,
        "quality": "medium",
        "rotateSpeed": 2,
        "sampleLevel": 0,
        "tooltip": true,
        "workerDefault": true,
        "zoomSpeed": 1.2
       },
       "_ngl_msg_archive": [
        {
         "args": [
          {
           "binary": false,
           "data": "\nQCElemental\n\n 15 15  0  0  0  0  0  0  0  0  0\n    1.0585   -0.0940   -0.0659 N   0  0     0  0  0  0  0  0\n    2.5047   -0.0614   -0.0256 C   0  0     0  0  0  0  0  0\n    3.2402   -0.6480   -1.2062 C   0  0     0  0  0  0  0  0\n    3.2011    0.8565   -1.0021 C   0  0     0  0  0  0  0  0\n    4.4552    1.5904   -0.6013 C   0  0     0  0  0  0  0  0\n    5.3117    1.8842   -1.7137 O   0  0     0  0  0  0  0  0\n    0.6689    0.6431    0.5271 H   0  0     0  0  0  0  0  0\n    0.7140   -0.9846    0.3015 H   0  0     0  0  0  0  0  0\n    3.0077   -0.1811    0.9445 H   0  0     0  0  0  0  0  0\n    2.6272   -1.0604   -2.0077 H   0  0     0  0  0  0  0  0\n    4.1758   -1.1755   -1.0083 H   0  0     0  0  0  0  0  0\n    2.5329    1.3997   -1.6746 H   0  0     0  0  0  0  0  0\n    4.9982    1.0070    0.1688 H   0  0     0  0  0  0  0  0\n    4.2097    2.5693   -0.1604 H   0  0     0  0  0  0  0  0\n    5.4097    1.0574   -2.2198 H   0  0     0  0  0  0  0  0\n  1  2  1  0  0  0  0\n  1  7  1  0  0  0  0\n  1  8  1  0  0  0  0\n  2  3  1  0  0  0  0\n  2  4  1  0  0  0  0\n  2  9  1  0  0  0  0\n  3  4  1  0  0  0  0\n  3 10  1  0  0  0  0\n  3 11  1  0  0  0  0\n  4  5  1  0  0  0  0\n  4 12  1  0  0  0  0\n  5  6  1  0  0  0  0\n  5 13  1  0  0  0  0\n  5 14  1  0  0  0  0\n  6 15  1  0  0  0  0\n",
           "type": "blob"
          }
         ],
         "kwargs": {
          "defaultRepresentation": true,
          "ext": "sdf"
         },
         "methodName": "loadFile",
         "reconstruc_color_scheme": false,
         "target": "Stage",
         "type": "call_method"
        }
       ],
       "_ngl_original_stage_parameters": {
        "ambientColor": 14540253,
        "ambientIntensity": 0.2,
        "backgroundColor": "white",
        "cameraEyeSep": 0.3,
        "cameraFov": 40,
        "cameraType": "perspective",
        "clipDist": 10,
        "clipFar": 100,
        "clipNear": 0,
        "fogFar": 100,
        "fogNear": 50,
        "hoverTimeout": 0,
        "impostor": true,
        "lightColor": 14540253,
        "lightIntensity": 1,
        "mousePreset": "default",
        "panSpeed": 1,
        "quality": "medium",
        "rotateSpeed": 2,
        "sampleLevel": 0,
        "tooltip": true,
        "workerDefault": true,
        "zoomSpeed": 1.2
       },
       "_ngl_repr_dict": {
        "0": {
         "0": {
          "params": {
           "aspectRatio": 1.5,
           "assembly": "default",
           "bondScale": 0.3,
           "bondSpacing": 0.75,
           "clipCenter": {
            "x": 0,
            "y": 0,
            "z": 0
           },
           "clipNear": 0,
           "clipRadius": 0,
           "colorMode": "hcl",
           "colorReverse": false,
           "colorScale": "",
           "colorScheme": "element",
           "colorValue": 9474192,
           "cylinderOnly": false,
           "defaultAssembly": "",
           "depthWrite": true,
           "diffuse": 16777215,
           "diffuseInterior": false,
           "disableImpostor": false,
           "disablePicking": false,
           "flatShaded": false,
           "interiorColor": 2236962,
           "interiorDarkening": 0,
           "lazy": false,
           "lineOnly": false,
           "linewidth": 2,
           "matrix": {
            "elements": [
             1,
             0,
             0,
             0,
             0,
             1,
             0,
             0,
             0,
             0,
             1,
             0,
             0,
             0,
             0,
             1
            ]
           },
           "metalness": 0,
           "multipleBond": "off",
           "opacity": 1,
           "openEnded": true,
           "quality": "high",
           "radialSegments": 20,
           "radiusData": {},
           "radiusScale": 2,
           "radiusSize": 0.15,
           "radiusType": "size",
           "roughness": 0.4,
           "sele": "",
           "side": "double",
           "sphereDetail": 2,
           "useInteriorColor": true,
           "visible": true,
           "wireframe": false
          },
          "type": "ball+stick"
         }
        }
       },
       "_ngl_serialize": false,
       "_ngl_version": "2.0.0-dev.36",
       "_ngl_view_id": [
        "D39D650D-941B-4AB2-8FC5-2BCB6E9110B2"
       ],
       "_player_dict": {},
       "_scene_position": {},
       "_scene_rotation": {},
       "_synced_model_ids": [],
       "_synced_repr_model_ids": [],
       "_view_height": "",
       "_view_width": "",
       "background": "white",
       "frame": 0,
       "gui_style": null,
       "layout": "IPY_MODEL_544f9706ac924297abc04e922feb360e",
       "max_frame": 0,
       "n_components": 1,
       "picked": {}
      }
     },
     "32773ba479e0427f8079e5fd06cd727b": {
      "model_module": "@jupyter-widgets/controls",
      "model_module_version": "1.5.0",
      "model_name": "SliderStyleModel",
      "state": {
       "description_width": ""
      }
     },
     "329e6cd629254869b04f3ae022bcfc90": {
      "model_module": "@jupyter-widgets/base",
      "model_module_version": "1.2.0",
      "model_name": "LayoutModel",
      "state": {}
     },
     "3305455e59244fca901bde260cfbf681": {
      "model_module": "nglview-js-widgets",
      "model_module_version": "2.7.1",
      "model_name": "ColormakerRegistryModel",
      "state": {
       "_msg_ar": [],
       "_msg_q": [],
       "_ready": true,
       "layout": "IPY_MODEL_1f1ac221e1004e419d8e999f5556325e"
      }
     },
     "332a582e207141ba92a78803a1fa8e8f": {
      "model_module": "@jupyter-widgets/base",
      "model_module_version": "1.2.0",
      "model_name": "LayoutModel",
      "state": {}
     },
     "3354420c6ce4454db4b758cad10bbd1d": {
      "model_module": "@jupyter-widgets/controls",
      "model_module_version": "1.5.0",
      "model_name": "LinkModel",
      "state": {
       "source": [
        "IPY_MODEL_cbaa71bccb1746689611f15a14ba49e1",
        "max"
       ],
       "target": [
        "IPY_MODEL_55adfc6b48814c279b75e0edbb4ace8d",
        "max_frame"
       ]
      }
     },
     "33b4cbfbff2249dbb9ee1aed5b5f55d5": {
      "model_module": "@jupyter-widgets/controls",
      "model_module_version": "1.5.0",
      "model_name": "DescriptionStyleModel",
      "state": {
       "description_width": ""
      }
     },
     "3500600196ab4627a09828299a4d6004": {
      "model_module": "@jupyter-widgets/base",
      "model_module_version": "1.2.0",
      "model_name": "LayoutModel",
      "state": {
       "width": "34px"
      }
     },
     "353b4f495983458db9c43509d95cc520": {
      "model_module": "@jupyter-widgets/base",
      "model_module_version": "1.2.0",
      "model_name": "LayoutModel",
      "state": {}
     },
     "353dde2fd3e84a4da83a9cbbe28c8379": {
      "model_module": "@jupyter-widgets/controls",
      "model_module_version": "1.5.0",
      "model_name": "LinkModel",
      "state": {
       "source": [
        "IPY_MODEL_3c2c099563af4e2693fb678217add5d7",
        "max"
       ],
       "target": [
        "IPY_MODEL_551a237782854eaabca747ab3f0c8813",
        "max_frame"
       ]
      }
     },
     "358b78177ec64fcc8edf27c0414c6d62": {
      "model_module": "@jupyter-widgets/controls",
      "model_module_version": "1.5.0",
      "model_name": "DescriptionStyleModel",
      "state": {
       "description_width": ""
      }
     },
     "364c3be422924839a079c918df031391": {
      "model_module": "@jupyter-widgets/controls",
      "model_module_version": "1.5.0",
      "model_name": "LinkModel",
      "state": {
       "source": [
        "IPY_MODEL_6b7498827f0342d1a8623dd4679d8cc2",
        "value"
       ],
       "target": [
        "IPY_MODEL_d1f4d8b1f12d42b4ae67f2e4abf8080b",
        "value"
       ]
      }
     },
     "3666c2c99e81459d9fd15004891ee980": {
      "model_module": "@jupyter-widgets/controls",
      "model_module_version": "1.5.0",
      "model_name": "HBoxModel",
      "state": {
       "children": [
        "IPY_MODEL_47230d407f8b4dcd9a0b2dce6ec4cb28",
        "IPY_MODEL_e37574371144499391587e9157e8d2b6"
       ],
       "layout": "IPY_MODEL_c936e48c617640798e768a24467cfc77"
      }
     },
     "366d815a2885408ca3f612c4cec7ac75": {
      "model_module": "@jupyter-widgets/controls",
      "model_module_version": "1.5.0",
      "model_name": "SliderStyleModel",
      "state": {
       "description_width": ""
      }
     },
     "3670551d862f487794f1c247a7eef879": {
      "model_module": "@jupyter-widgets/base",
      "model_module_version": "1.2.0",
      "model_name": "LayoutModel",
      "state": {}
     },
     "367df12340444db88338d812134f06cf": {
      "model_module": "@jupyter-widgets/controls",
      "model_module_version": "1.5.0",
      "model_name": "LinkModel",
      "state": {
       "source": [
        "IPY_MODEL_2e0afb7432a54daaa058ec1ac0b78af6",
        "max"
       ],
       "target": [
        "IPY_MODEL_aea826d954b84cf5b12322150f640b8d",
        "max_frame"
       ]
      }
     },
     "3795ced6efeb487bb419222199f804f5": {
      "model_module": "@jupyter-widgets/base",
      "model_module_version": "1.2.0",
      "model_name": "LayoutModel",
      "state": {}
     },
     "37ac57f930c8475d8716460290b483f6": {
      "model_module": "@jupyter-widgets/controls",
      "model_module_version": "1.5.0",
      "model_name": "LinkModel",
      "state": {
       "source": [
        "IPY_MODEL_813e64819f2c48ffa825439c630fd04c",
        "max"
       ],
       "target": [
        "IPY_MODEL_551a237782854eaabca747ab3f0c8813",
        "max_frame"
       ]
      }
     },
     "3822b802cf0a4f6a93f1949516f80c11": {
      "model_module": "@jupyter-widgets/controls",
      "model_module_version": "1.5.0",
      "model_name": "ButtonModel",
      "state": {
       "icon": "compress",
       "layout": "IPY_MODEL_a01d277bd35c4188b0ddb6899d9397ab",
       "style": "IPY_MODEL_45ab0a5b8eba4fed9c8e072905e95ee8"
      }
     },
     "38282500b2694aab9b6bb2a4eed745a7": {
      "model_module": "nglview-js-widgets",
      "model_module_version": "2.7.1",
      "model_name": "NGLModel",
      "state": {
       "_camera_orientation": [
        5.666684696829869,
        -6.554947507608402,
        18.13548293163617,
        0,
        -0.713306461027024,
        18.818106866973256,
        7.024559863812417,
        0,
        -19.270554529743706,
        -2.6241018578031157,
        5.0728898076444535,
        0,
        0.25905001163482666,
        -0.9194500595331192,
        -0.06314992904663086,
        1
       ],
       "_camera_str": "orthographic",
       "_gui_theme": null,
       "_ibtn_fullscreen": "IPY_MODEL_26c14499dab2473c812c4bcfa3323535",
       "_igui": null,
       "_iplayer": "IPY_MODEL_7aef0a2f85ec47bd95a5bdec885158b7",
       "_ngl_color_dict": {},
       "_ngl_coordinate_resource": {},
       "_ngl_full_stage_parameters": {
        "ambientColor": 14540253,
        "ambientIntensity": 0.2,
        "backgroundColor": "white",
        "cameraEyeSep": 0.3,
        "cameraFov": 40,
        "cameraType": "perspective",
        "clipDist": 10,
        "clipFar": 100,
        "clipNear": 0,
        "fogFar": 100,
        "fogNear": 50,
        "hoverTimeout": 0,
        "impostor": true,
        "lightColor": 14540253,
        "lightIntensity": 1,
        "mousePreset": "default",
        "panSpeed": 1,
        "quality": "medium",
        "rotateSpeed": 2,
        "sampleLevel": 0,
        "tooltip": true,
        "workerDefault": true,
        "zoomSpeed": 1.2
       },
       "_ngl_msg_archive": [
        {
         "args": [
          {
           "binary": false,
           "data": "\nQCElemental\n\n  6  4  0  0  0  0  0  0  0  0  0\n   -0.3355    1.5712   -1.3264 C   0  0     0  0  0  0  0  0\n   -0.6521    2.0813   -2.2502 H   0  0     0  0  0  0  0  0\n   -0.0955    2.2952   -0.3558 H   0  0     0  0  0  0  0  0\n   -1.4233    1.4494   -0.7417 H   0  0     0  0  0  0  0  0\n    1.2399    0.0136   -1.3561 I   0  0     0  0  0  0  0  0\n   -1.7580   -0.4563    2.3765 Br  0  0     0  0  0  0  0  0\n  1  2  1  0  0  0  0\n  1  3  1  0  0  0  0\n  1  4  1  0  0  0  0\n  1  5  1  0  0  0  0\n",
           "type": "blob"
          }
         ],
         "kwargs": {
          "defaultRepresentation": true,
          "ext": "sdf"
         },
         "methodName": "loadFile",
         "reconstruc_color_scheme": false,
         "target": "Stage",
         "type": "call_method"
        }
       ],
       "_ngl_original_stage_parameters": {
        "ambientColor": 14540253,
        "ambientIntensity": 0.2,
        "backgroundColor": "white",
        "cameraEyeSep": 0.3,
        "cameraFov": 40,
        "cameraType": "perspective",
        "clipDist": 10,
        "clipFar": 100,
        "clipNear": 0,
        "fogFar": 100,
        "fogNear": 50,
        "hoverTimeout": 0,
        "impostor": true,
        "lightColor": 14540253,
        "lightIntensity": 1,
        "mousePreset": "default",
        "panSpeed": 1,
        "quality": "medium",
        "rotateSpeed": 2,
        "sampleLevel": 0,
        "tooltip": true,
        "workerDefault": true,
        "zoomSpeed": 1.2
       },
       "_ngl_repr_dict": {
        "0": {
         "0": {
          "params": {
           "aspectRatio": 1.5,
           "assembly": "default",
           "bondScale": 0.3,
           "bondSpacing": 0.75,
           "clipCenter": {
            "x": 0,
            "y": 0,
            "z": 0
           },
           "clipNear": 0,
           "clipRadius": 0,
           "colorMode": "hcl",
           "colorReverse": false,
           "colorScale": "",
           "colorScheme": "element",
           "colorValue": 9474192,
           "cylinderOnly": false,
           "defaultAssembly": "",
           "depthWrite": true,
           "diffuse": 16777215,
           "diffuseInterior": false,
           "disableImpostor": false,
           "disablePicking": false,
           "flatShaded": false,
           "interiorColor": 2236962,
           "interiorDarkening": 0,
           "lazy": false,
           "lineOnly": false,
           "linewidth": 2,
           "matrix": {
            "elements": [
             1,
             0,
             0,
             0,
             0,
             1,
             0,
             0,
             0,
             0,
             1,
             0,
             0,
             0,
             0,
             1
            ]
           },
           "metalness": 0,
           "multipleBond": "off",
           "opacity": 1,
           "openEnded": true,
           "quality": "high",
           "radialSegments": 20,
           "radiusData": {},
           "radiusScale": 2,
           "radiusSize": 0.15,
           "radiusType": "size",
           "roughness": 0.4,
           "sele": "",
           "side": "double",
           "sphereDetail": 2,
           "useInteriorColor": true,
           "visible": true,
           "wireframe": false
          },
          "type": "ball+stick"
         }
        }
       },
       "_ngl_serialize": false,
       "_ngl_version": "2.0.0-dev.36",
       "_ngl_view_id": [
        "FE64F955-66E4-41F5-88CD-982061CFCAA4"
       ],
       "_player_dict": {},
       "_scene_position": {},
       "_scene_rotation": {},
       "_synced_model_ids": [],
       "_synced_repr_model_ids": [],
       "_view_height": "",
       "_view_width": "",
       "background": "white",
       "frame": 0,
       "gui_style": null,
       "layout": "IPY_MODEL_ee8bf733106c495b8944d1bfc8fe1112",
       "max_frame": 0,
       "n_components": 1,
       "picked": {}
      }
     },
     "383ca9c25473406ca4a3d84c13b4c1e6": {
      "model_module": "@jupyter-widgets/controls",
      "model_module_version": "1.5.0",
      "model_name": "ButtonModel",
      "state": {
       "icon": "compress",
       "layout": "IPY_MODEL_1cdb177c1c0146ce901be304c0249bc7",
       "style": "IPY_MODEL_652cbaea15754a49868c4bd0276a26fe"
      }
     },
     "395d9819271b44df9f5a3a2d83f64b24": {
      "model_module": "@jupyter-widgets/controls",
      "model_module_version": "1.5.0",
      "model_name": "PlayModel",
      "state": {
       "layout": "IPY_MODEL_a043fc443c1940ee814077b5a9e1a9a7",
       "max": 0,
       "style": "IPY_MODEL_7d1dd44e0fea4676848940f75d150490"
      }
     },
     "398b288639994297ab91ce4a8f611197": {
      "model_module": "@jupyter-widgets/base",
      "model_module_version": "1.2.0",
      "model_name": "LayoutModel",
      "state": {}
     },
     "3a47a0d03ca44d5abd42740746652ea5": {
      "model_module": "@jupyter-widgets/controls",
      "model_module_version": "1.5.0",
      "model_name": "LinkModel",
      "state": {
       "source": [
        "IPY_MODEL_70cc2982ff3742cf9afdf8d49071f71d",
        "value"
       ],
       "target": [
        "IPY_MODEL_5bb4124c96c84bb98f65ba81e252fba6",
        "frame"
       ]
      }
     },
     "3a85e6cf6d81494b98bd5946c8e08f36": {
      "model_module": "@jupyter-widgets/controls",
      "model_module_version": "1.5.0",
      "model_name": "ImageModel",
      "state": {
       "layout": "IPY_MODEL_dc81837b77b14fae89de3cd432c828c8",
       "width": "900.0"
      }
     },
     "3a8fff4ed6fd47518d9e928bff9cfddc": {
      "model_module": "@jupyter-widgets/base",
      "model_module_version": "1.2.0",
      "model_name": "LayoutModel",
      "state": {}
     },
     "3b1b052cf9654b40999ae67f9dd6c56e": {
      "model_module": "@jupyter-widgets/controls",
      "model_module_version": "1.5.0",
      "model_name": "ImageModel",
      "state": {
       "layout": "IPY_MODEL_f34b698f7a2447a3b2f60ec378cd6bfb",
       "width": "900.0"
      }
     },
     "3b278d4a7f31466d8d4567f8d7972322": {
      "model_module": "@jupyter-widgets/base",
      "model_module_version": "1.2.0",
      "model_name": "LayoutModel",
      "state": {}
     },
     "3b8bde20f5b34984b4212bde608d6d74": {
      "model_module": "@jupyter-widgets/controls",
      "model_module_version": "1.5.0",
      "model_name": "SliderStyleModel",
      "state": {
       "description_width": ""
      }
     },
     "3c2c099563af4e2693fb678217add5d7": {
      "model_module": "@jupyter-widgets/controls",
      "model_module_version": "1.5.0",
      "model_name": "PlayModel",
      "state": {
       "layout": "IPY_MODEL_7da0f13b61d74f0ca0842f2c54faeb0f",
       "max": 0,
       "style": "IPY_MODEL_099c35a0c97740629d196881ba222ebc"
      }
     },
     "3c41950f76c949fc8e41b138a001a41c": {
      "model_module": "@jupyter-widgets/base",
      "model_module_version": "1.2.0",
      "model_name": "LayoutModel",
      "state": {}
     },
     "3c80e39792194065badaebbbc8aa6331": {
      "model_module": "@jupyter-widgets/controls",
      "model_module_version": "1.5.0",
      "model_name": "LinkModel",
      "state": {
       "source": [
        "IPY_MODEL_788e2e705f404e3d8ad8eaea05969ecb",
        "value"
       ],
       "target": [
        "IPY_MODEL_d302f960595e4badb74d5c684f49f821",
        "value"
       ]
      }
     },
     "3c880efef4b3492c868b1cd7caf66848": {
      "model_module": "nglview-js-widgets",
      "model_module_version": "2.7.1",
      "model_name": "NGLModel",
      "state": {
       "_camera_orientation": [
        18.017732234128175,
        0,
        0,
        0,
        0,
        18.017732234128175,
        0,
        0,
        0,
        0,
        18.017732234128175,
        0,
        0.0485500693321228,
        -0.43974995613098145,
        0.07864999771118164,
        1
       ],
       "_camera_str": "orthographic",
       "_gui_theme": null,
       "_ibtn_fullscreen": "IPY_MODEL_5ae40ee583484d50a22b304df62798a4",
       "_igui": null,
       "_iplayer": "IPY_MODEL_3666c2c99e81459d9fd15004891ee980",
       "_ngl_color_dict": {},
       "_ngl_coordinate_resource": {},
       "_ngl_full_stage_parameters": {
        "ambientColor": 14540253,
        "ambientIntensity": 0.2,
        "backgroundColor": "white",
        "cameraEyeSep": 0.3,
        "cameraFov": 40,
        "cameraType": "perspective",
        "clipDist": 10,
        "clipFar": 100,
        "clipNear": 0,
        "fogFar": 100,
        "fogNear": 50,
        "hoverTimeout": 0,
        "impostor": true,
        "lightColor": 14540253,
        "lightIntensity": 1,
        "mousePreset": "default",
        "panSpeed": 1,
        "quality": "medium",
        "rotateSpeed": 2,
        "sampleLevel": 0,
        "tooltip": true,
        "workerDefault": true,
        "zoomSpeed": 1.2
       },
       "_ngl_msg_archive": [
        {
         "args": [
          {
           "binary": false,
           "data": "\nQCElemental\n\n  6  4  0  0  0  0  0  0  0  0  0\n    0.2750    0.9850   -0.7702 C   0  0     0  0  0  0  0  0\n    0.8505    0.4048   -1.2521 H   0  0     0  0  0  0  0  0\n    0.5741    1.0574    0.2411 H   0  0     0  0  0  0  0  0\n    0.3246    1.9847   -0.9315 H   0  0     0  0  0  0  0  0\n   -2.0243    0.8378   -0.9073 Br  0  0     0  0  0  0  0  0\n    1.9272   -1.1052    1.0948 Br  0  0     0  0  0  0  0  0\n  1  2  1  0  0  0  0\n  1  3  1  0  0  0  0\n  1  4  1  0  0  0  0\n  1  5  1  0  0  0  0\n",
           "type": "blob"
          }
         ],
         "kwargs": {
          "defaultRepresentation": true,
          "ext": "sdf"
         },
         "methodName": "loadFile",
         "reconstruc_color_scheme": false,
         "target": "Stage",
         "type": "call_method"
        }
       ],
       "_ngl_original_stage_parameters": {
        "ambientColor": 14540253,
        "ambientIntensity": 0.2,
        "backgroundColor": "white",
        "cameraEyeSep": 0.3,
        "cameraFov": 40,
        "cameraType": "perspective",
        "clipDist": 10,
        "clipFar": 100,
        "clipNear": 0,
        "fogFar": 100,
        "fogNear": 50,
        "hoverTimeout": 0,
        "impostor": true,
        "lightColor": 14540253,
        "lightIntensity": 1,
        "mousePreset": "default",
        "panSpeed": 1,
        "quality": "medium",
        "rotateSpeed": 2,
        "sampleLevel": 0,
        "tooltip": true,
        "workerDefault": true,
        "zoomSpeed": 1.2
       },
       "_ngl_repr_dict": {
        "0": {
         "0": {
          "params": {
           "aspectRatio": 1.5,
           "assembly": "default",
           "bondScale": 0.3,
           "bondSpacing": 0.75,
           "clipCenter": {
            "x": 0,
            "y": 0,
            "z": 0
           },
           "clipNear": 0,
           "clipRadius": 0,
           "colorMode": "hcl",
           "colorReverse": false,
           "colorScale": "",
           "colorScheme": "element",
           "colorValue": 9474192,
           "cylinderOnly": false,
           "defaultAssembly": "",
           "depthWrite": true,
           "diffuse": 16777215,
           "diffuseInterior": false,
           "disableImpostor": false,
           "disablePicking": false,
           "flatShaded": false,
           "interiorColor": 2236962,
           "interiorDarkening": 0,
           "lazy": false,
           "lineOnly": false,
           "linewidth": 2,
           "matrix": {
            "elements": [
             1,
             0,
             0,
             0,
             0,
             1,
             0,
             0,
             0,
             0,
             1,
             0,
             0,
             0,
             0,
             1
            ]
           },
           "metalness": 0,
           "multipleBond": "off",
           "opacity": 1,
           "openEnded": true,
           "quality": "high",
           "radialSegments": 20,
           "radiusData": {},
           "radiusScale": 2,
           "radiusSize": 0.15,
           "radiusType": "size",
           "roughness": 0.4,
           "sele": "",
           "side": "double",
           "sphereDetail": 2,
           "useInteriorColor": true,
           "visible": true,
           "wireframe": false
          },
          "type": "ball+stick"
         }
        }
       },
       "_ngl_serialize": false,
       "_ngl_version": "2.0.0-dev.36",
       "_ngl_view_id": [
        "CABA0B34-ABAA-4D31-A015-B02610945204"
       ],
       "_player_dict": {},
       "_scene_position": {},
       "_scene_rotation": {},
       "_synced_model_ids": [],
       "_synced_repr_model_ids": [],
       "_view_height": "",
       "_view_width": "",
       "background": "white",
       "frame": 0,
       "gui_style": null,
       "layout": "IPY_MODEL_181314f789e64c639a395264d6c06d01",
       "max_frame": 0,
       "n_components": 1,
       "picked": {}
      }
     },
     "3d096ac747a74cbb8bf0bc345e2562db": {
      "model_module": "@jupyter-widgets/controls",
      "model_module_version": "1.5.0",
      "model_name": "DescriptionStyleModel",
      "state": {
       "description_width": ""
      }
     },
     "3d23f268a9f942b6bb94ae40059f3368": {
      "model_module": "@jupyter-widgets/base",
      "model_module_version": "1.2.0",
      "model_name": "LayoutModel",
      "state": {}
     },
     "3d71a0e30070475a9131280d35b8b945": {
      "model_module": "@jupyter-widgets/base",
      "model_module_version": "1.2.0",
      "model_name": "LayoutModel",
      "state": {}
     },
     "3f54960f08774d96ba00aa9c752d92b3": {
      "model_module": "@jupyter-widgets/base",
      "model_module_version": "1.2.0",
      "model_name": "LayoutModel",
      "state": {}
     },
     "3f7faf627a574798835e89d0c382a5ad": {
      "model_module": "@jupyter-widgets/controls",
      "model_module_version": "1.5.0",
      "model_name": "LinkModel",
      "state": {
       "source": [
        "IPY_MODEL_bc8d3a629780471d97c50e45aa568c08",
        "value"
       ],
       "target": [
        "IPY_MODEL_0bd75db3e3764ce2b08908abb15a314c",
        "value"
       ]
      }
     },
     "4005c0c953fa4e9094b52fb29356ff1e": {
      "model_module": "@jupyter-widgets/controls",
      "model_module_version": "1.5.0",
      "model_name": "ImageModel",
      "state": {
       "layout": "IPY_MODEL_7adc9110fc1645fd9f72ec7d262ac172",
       "width": "900.0"
      }
     },
     "4091f0aa8e2643c3aa08d685e3bee606": {
      "model_module": "@jupyter-widgets/controls",
      "model_module_version": "1.5.0",
      "model_name": "LinkModel",
      "state": {
       "source": [
        "IPY_MODEL_8c03dccf879b4332b579b248b922e8d3",
        "max"
       ],
       "target": [
        "IPY_MODEL_201bbc9bd7e649bdab39b4d12d0219ad",
        "max_frame"
       ]
      }
     },
     "40bb47e0717148f3a55e5daedea9416f": {
      "model_module": "@jupyter-widgets/controls",
      "model_module_version": "1.5.0",
      "model_name": "LinkModel",
      "state": {
       "source": [
        "IPY_MODEL_85b7429944484dbab2d8c2a0dcde8a8b",
        "value"
       ],
       "target": [
        "IPY_MODEL_4a657bc4c42f42cd8fc4146692bc691b",
        "frame"
       ]
      }
     },
     "40c900f362fe44f88953e3dfdd383b1b": {
      "model_module": "@jupyter-widgets/controls",
      "model_module_version": "1.5.0",
      "model_name": "LinkModel",
      "state": {
       "source": [
        "IPY_MODEL_86be563ee65a41aaa4384de646a6547b",
        "value"
       ],
       "target": [
        "IPY_MODEL_64ca71755dea426c8a4b808abd595b42",
        "value"
       ]
      }
     },
     "40ea4d4f3f054c74afac77ae71bcfc1b": {
      "model_module": "@jupyter-widgets/controls",
      "model_module_version": "1.5.0",
      "model_name": "LinkModel",
      "state": {
       "source": [
        "IPY_MODEL_2e0afb7432a54daaa058ec1ac0b78af6",
        "value"
       ],
       "target": [
        "IPY_MODEL_aea826d954b84cf5b12322150f640b8d",
        "frame"
       ]
      }
     },
     "40f84e4a511240d2a7e15fcb616f2e62": {
      "model_module": "@jupyter-widgets/controls",
      "model_module_version": "1.5.0",
      "model_name": "DescriptionStyleModel",
      "state": {
       "description_width": ""
      }
     },
     "40fcf5974957436d9e7153c6b510c71a": {
      "model_module": "@jupyter-widgets/base",
      "model_module_version": "1.2.0",
      "model_name": "LayoutModel",
      "state": {}
     },
     "41d1e0a25324438dbaee2b93155520f2": {
      "model_module": "@jupyter-widgets/base",
      "model_module_version": "1.2.0",
      "model_name": "LayoutModel",
      "state": {}
     },
     "428755c365b04fa1b3717a959135becc": {
      "model_module": "@jupyter-widgets/controls",
      "model_module_version": "1.5.0",
      "model_name": "LinkModel",
      "state": {
       "source": [
        "IPY_MODEL_c21da1e34b39438a8c196704a58dc5f3",
        "max"
       ],
       "target": [
        "IPY_MODEL_f697cef67b4a4d1088a72ff8042f07e4",
        "max_frame"
       ]
      }
     },
     "43189d0bb6ab41439b675be1ff2a9c1d": {
      "model_module": "@jupyter-widgets/controls",
      "model_module_version": "1.5.0",
      "model_name": "LinkModel",
      "state": {
       "source": [
        "IPY_MODEL_81e73632a1d2495abb6547d6fee12fc8",
        "max"
       ],
       "target": [
        "IPY_MODEL_c5d8541b208b4c5e9a24a6b2d81a03b1",
        "max_frame"
       ]
      }
     },
     "4397ea47c24f495481b0ae3a5fdaf08a": {
      "model_module": "nglview-js-widgets",
      "model_module_version": "2.7.1",
      "model_name": "NGLModel",
      "state": {
       "_camera_orientation": [
        -9.353281668969432,
        -0.846813143949584,
        10.969916394352671,
        0,
        -1.377394397189948,
        -14.194689793286045,
        -2.2701547361144776,
        0,
        10.915994818359122,
        -2.5166893631410905,
        9.11303286255144,
        0,
        -3.039299964904785,
        -0.696899950504303,
        0.6376499831676483,
        1
       ],
       "_camera_str": "orthographic",
       "_gui_theme": null,
       "_ibtn_fullscreen": "IPY_MODEL_3822b802cf0a4f6a93f1949516f80c11",
       "_igui": null,
       "_iplayer": "IPY_MODEL_18e2c9b9d09c4fcbb4440372946e1a46",
       "_ngl_color_dict": {},
       "_ngl_coordinate_resource": {},
       "_ngl_full_stage_parameters": {
        "ambientColor": 14540253,
        "ambientIntensity": 0.2,
        "backgroundColor": "white",
        "cameraEyeSep": 0.3,
        "cameraFov": 40,
        "cameraType": "perspective",
        "clipDist": 10,
        "clipFar": 100,
        "clipNear": 0,
        "fogFar": 100,
        "fogNear": 50,
        "hoverTimeout": 0,
        "impostor": true,
        "lightColor": 14540253,
        "lightIntensity": 1,
        "mousePreset": "default",
        "panSpeed": 1,
        "quality": "medium",
        "rotateSpeed": 2,
        "sampleLevel": 0,
        "tooltip": true,
        "workerDefault": true,
        "zoomSpeed": 1.2
       },
       "_ngl_msg_archive": [
        {
         "args": [
          {
           "binary": false,
           "data": "\nQCElemental\n\n 15 15  0  0  0  0  0  0  0  0  0\n    1.0585   -0.0940   -0.0659 N   0  0     0  0  0  0  0  0\n    2.5047   -0.0614   -0.0256 C   0  0     0  0  0  0  0  0\n    3.2402   -0.6480   -1.2062 C   0  0     0  0  0  0  0  0\n    3.2011    0.8565   -1.0021 C   0  0     0  0  0  0  0  0\n    4.4552    1.5904   -0.6013 C   0  0     0  0  0  0  0  0\n    5.3117    1.8842   -1.7137 O   0  0     0  0  0  0  0  0\n    0.6689    0.6431    0.5271 H   0  0     0  0  0  0  0  0\n    0.7140   -0.9846    0.3015 H   0  0     0  0  0  0  0  0\n    3.0077   -0.1811    0.9445 H   0  0     0  0  0  0  0  0\n    2.6272   -1.0604   -2.0077 H   0  0     0  0  0  0  0  0\n    4.1758   -1.1755   -1.0083 H   0  0     0  0  0  0  0  0\n    2.5329    1.3997   -1.6746 H   0  0     0  0  0  0  0  0\n    4.9982    1.0070    0.1688 H   0  0     0  0  0  0  0  0\n    4.2097    2.5693   -0.1604 H   0  0     0  0  0  0  0  0\n    5.4097    1.0574   -2.2198 H   0  0     0  0  0  0  0  0\n  1  2  1  0  0  0  0\n  1  7  1  0  0  0  0\n  1  8  1  0  0  0  0\n  2  3  1  0  0  0  0\n  2  4  1  0  0  0  0\n  2  9  1  0  0  0  0\n  3  4  1  0  0  0  0\n  3 10  1  0  0  0  0\n  3 11  1  0  0  0  0\n  4  5  1  0  0  0  0\n  4 12  1  0  0  0  0\n  5  6  1  0  0  0  0\n  5 13  1  0  0  0  0\n  5 14  1  0  0  0  0\n  6 15  1  0  0  0  0\n",
           "type": "blob"
          }
         ],
         "kwargs": {
          "defaultRepresentation": true,
          "ext": "sdf"
         },
         "methodName": "loadFile",
         "reconstruc_color_scheme": false,
         "target": "Stage",
         "type": "call_method"
        }
       ],
       "_ngl_original_stage_parameters": {
        "ambientColor": 14540253,
        "ambientIntensity": 0.2,
        "backgroundColor": "white",
        "cameraEyeSep": 0.3,
        "cameraFov": 40,
        "cameraType": "perspective",
        "clipDist": 10,
        "clipFar": 100,
        "clipNear": 0,
        "fogFar": 100,
        "fogNear": 50,
        "hoverTimeout": 0,
        "impostor": true,
        "lightColor": 14540253,
        "lightIntensity": 1,
        "mousePreset": "default",
        "panSpeed": 1,
        "quality": "medium",
        "rotateSpeed": 2,
        "sampleLevel": 0,
        "tooltip": true,
        "workerDefault": true,
        "zoomSpeed": 1.2
       },
       "_ngl_repr_dict": {
        "0": {
         "0": {
          "params": {
           "aspectRatio": 1.5,
           "assembly": "default",
           "bondScale": 0.3,
           "bondSpacing": 0.75,
           "clipCenter": {
            "x": 0,
            "y": 0,
            "z": 0
           },
           "clipNear": 0,
           "clipRadius": 0,
           "colorMode": "hcl",
           "colorReverse": false,
           "colorScale": "",
           "colorScheme": "element",
           "colorValue": 9474192,
           "cylinderOnly": false,
           "defaultAssembly": "",
           "depthWrite": true,
           "diffuse": 16777215,
           "diffuseInterior": false,
           "disableImpostor": false,
           "disablePicking": false,
           "flatShaded": false,
           "interiorColor": 2236962,
           "interiorDarkening": 0,
           "lazy": false,
           "lineOnly": false,
           "linewidth": 2,
           "matrix": {
            "elements": [
             1,
             0,
             0,
             0,
             0,
             1,
             0,
             0,
             0,
             0,
             1,
             0,
             0,
             0,
             0,
             1
            ]
           },
           "metalness": 0,
           "multipleBond": "off",
           "opacity": 1,
           "openEnded": true,
           "quality": "high",
           "radialSegments": 20,
           "radiusData": {},
           "radiusScale": 2,
           "radiusSize": 0.15,
           "radiusType": "size",
           "roughness": 0.4,
           "sele": "",
           "side": "double",
           "sphereDetail": 2,
           "useInteriorColor": true,
           "visible": true,
           "wireframe": false
          },
          "type": "ball+stick"
         }
        }
       },
       "_ngl_serialize": false,
       "_ngl_version": "2.0.0-dev.36",
       "_ngl_view_id": [
        "2AF8C04C-5EE2-4E59-94ED-5A7ED895ED55"
       ],
       "_player_dict": {},
       "_scene_position": {},
       "_scene_rotation": {},
       "_synced_model_ids": [],
       "_synced_repr_model_ids": [],
       "_view_height": "",
       "_view_width": "",
       "background": "white",
       "frame": 0,
       "gui_style": null,
       "layout": "IPY_MODEL_870e2cbfad364f63af63e88f65a44868",
       "max_frame": 0,
       "n_components": 1,
       "picked": {}
      }
     },
     "4404a6d27a004f328ffbf0c3ada65318": {
      "model_module": "@jupyter-widgets/controls",
      "model_module_version": "1.5.0",
      "model_name": "DescriptionStyleModel",
      "state": {
       "description_width": ""
      }
     },
     "44cf0b74e3344bc68140e2105a2a94b7": {
      "model_module": "@jupyter-widgets/controls",
      "model_module_version": "1.5.0",
      "model_name": "ButtonModel",
      "state": {
       "icon": "compress",
       "layout": "IPY_MODEL_d167ea2c4d0c492ab8edf4488b7021b9",
       "style": "IPY_MODEL_98411e26ab134f42bf43205bbd6eb23e"
      }
     },
     "45a80eb4e95e4881b16c20a40b8d3300": {
      "model_module": "@jupyter-widgets/controls",
      "model_module_version": "1.5.0",
      "model_name": "IntSliderModel",
      "state": {
       "layout": "IPY_MODEL_889c802c68a749ebb95ee4ad92b69dd3",
       "max": 0,
       "style": "IPY_MODEL_511f6183c9b74eff9e6e62c3370935de"
      }
     },
     "45ab0a5b8eba4fed9c8e072905e95ee8": {
      "model_module": "@jupyter-widgets/controls",
      "model_module_version": "1.5.0",
      "model_name": "ButtonStyleModel",
      "state": {}
     },
     "45eaf6b23d19414caf4aa0ed22318025": {
      "model_module": "@jupyter-widgets/controls",
      "model_module_version": "1.5.0",
      "model_name": "LinkModel",
      "state": {
       "source": [
        "IPY_MODEL_081be0d5367640af85a2318d7866deaf",
        "value"
       ],
       "target": [
        "IPY_MODEL_2f390cf11c434e5b9d0f890b37f2d9a6",
        "frame"
       ]
      }
     },
     "46589a8ce5224486a72a1969af014fea": {
      "model_module": "@jupyter-widgets/controls",
      "model_module_version": "1.5.0",
      "model_name": "SliderStyleModel",
      "state": {
       "description_width": ""
      }
     },
     "46594750d9134fd4b81a63216d1fe7df": {
      "model_module": "@jupyter-widgets/base",
      "model_module_version": "1.2.0",
      "model_name": "LayoutModel",
      "state": {
       "width": "34px"
      }
     },
     "46b2d504c1ac496aa1acb5747cfd9c66": {
      "model_module": "@jupyter-widgets/controls",
      "model_module_version": "1.5.0",
      "model_name": "ButtonStyleModel",
      "state": {}
     },
     "46cdc2ad4fdd4340b08ddd6bd99101c0": {
      "model_module": "@jupyter-widgets/controls",
      "model_module_version": "1.5.0",
      "model_name": "ButtonStyleModel",
      "state": {}
     },
     "47230d407f8b4dcd9a0b2dce6ec4cb28": {
      "model_module": "@jupyter-widgets/controls",
      "model_module_version": "1.5.0",
      "model_name": "PlayModel",
      "state": {
       "layout": "IPY_MODEL_9962678e102f4e4fa9aa67f3301e0363",
       "max": 0,
       "style": "IPY_MODEL_578e5008b62b40a28e069067485107a2"
      }
     },
     "4824ae1ac7cc4ae381d31325e5438c69": {
      "model_module": "@jupyter-widgets/base",
      "model_module_version": "1.2.0",
      "model_name": "LayoutModel",
      "state": {
       "width": "34px"
      }
     },
     "48c0101547424074bfc36d88c776a9c8": {
      "model_module": "@jupyter-widgets/controls",
      "model_module_version": "1.5.0",
      "model_name": "LinkModel",
      "state": {
       "source": [
        "IPY_MODEL_c319603f404a495a94e4d0cb9ffba3e9",
        "max"
       ],
       "target": [
        "IPY_MODEL_4397ea47c24f495481b0ae3a5fdaf08a",
        "max_frame"
       ]
      }
     },
     "4a657bc4c42f42cd8fc4146692bc691b": {
      "model_module": "nglview-js-widgets",
      "model_module_version": "2.7.1",
      "model_name": "NGLModel",
      "state": {
       "_camera_orientation": [
        23.26367292074641,
        5.729321880177968,
        16.7711784173122,
        0,
        4.751265951969106,
        24.645892945087102,
        -15.010045478559974,
        0,
        -17.074045407157122,
        14.664612651144028,
        18.674103504632203,
        0,
        0.05889999866485596,
        0.2998499870300293,
        0.6545000076293945,
        1
       ],
       "_camera_str": "orthographic",
       "_gui_theme": null,
       "_ibtn_fullscreen": "IPY_MODEL_205c0dbfafde42749255a936933a7cd9",
       "_igui": null,
       "_iplayer": "IPY_MODEL_4f171aebe9d14f94a29123a87b44420f",
       "_ngl_color_dict": {},
       "_ngl_coordinate_resource": {},
       "_ngl_full_stage_parameters": {
        "ambientColor": 14540253,
        "ambientIntensity": 0.2,
        "backgroundColor": "white",
        "cameraEyeSep": 0.3,
        "cameraFov": 40,
        "cameraType": "perspective",
        "clipDist": 10,
        "clipFar": 100,
        "clipNear": 0,
        "fogFar": 100,
        "fogNear": 50,
        "hoverTimeout": 0,
        "impostor": true,
        "lightColor": 14540253,
        "lightIntensity": 1,
        "mousePreset": "default",
        "panSpeed": 1,
        "quality": "medium",
        "rotateSpeed": 2,
        "sampleLevel": 0,
        "tooltip": true,
        "workerDefault": true,
        "zoomSpeed": 1.2
       },
       "_ngl_msg_archive": [
        {
         "args": [
          {
           "binary": false,
           "data": "\nQCElemental\n\n  2  1  0  0  0  0  0  0  0  0  0\n    0.0035    0.0176    0.0385 Br  0  0     0  0  0  0  0  0\n   -0.1213   -0.6173   -1.3475 H   0  0     0  0  0  0  0  0\n  1  2  1  0  0  0  0\n",
           "type": "blob"
          }
         ],
         "kwargs": {
          "defaultRepresentation": true,
          "ext": "sdf"
         },
         "methodName": "loadFile",
         "reconstruc_color_scheme": false,
         "target": "Stage",
         "type": "call_method"
        }
       ],
       "_ngl_original_stage_parameters": {
        "ambientColor": 14540253,
        "ambientIntensity": 0.2,
        "backgroundColor": "white",
        "cameraEyeSep": 0.3,
        "cameraFov": 40,
        "cameraType": "perspective",
        "clipDist": 10,
        "clipFar": 100,
        "clipNear": 0,
        "fogFar": 100,
        "fogNear": 50,
        "hoverTimeout": 0,
        "impostor": true,
        "lightColor": 14540253,
        "lightIntensity": 1,
        "mousePreset": "default",
        "panSpeed": 1,
        "quality": "medium",
        "rotateSpeed": 2,
        "sampleLevel": 0,
        "tooltip": true,
        "workerDefault": true,
        "zoomSpeed": 1.2
       },
       "_ngl_repr_dict": {
        "0": {
         "0": {
          "params": {
           "aspectRatio": 1.5,
           "assembly": "default",
           "bondScale": 0.3,
           "bondSpacing": 0.75,
           "clipCenter": {
            "x": 0,
            "y": 0,
            "z": 0
           },
           "clipNear": 0,
           "clipRadius": 0,
           "colorMode": "hcl",
           "colorReverse": false,
           "colorScale": "",
           "colorScheme": "element",
           "colorValue": 9474192,
           "cylinderOnly": false,
           "defaultAssembly": "",
           "depthWrite": true,
           "diffuse": 16777215,
           "diffuseInterior": false,
           "disableImpostor": false,
           "disablePicking": false,
           "flatShaded": false,
           "interiorColor": 2236962,
           "interiorDarkening": 0,
           "lazy": false,
           "lineOnly": false,
           "linewidth": 2,
           "matrix": {
            "elements": [
             1,
             0,
             0,
             0,
             0,
             1,
             0,
             0,
             0,
             0,
             1,
             0,
             0,
             0,
             0,
             1
            ]
           },
           "metalness": 0,
           "multipleBond": "off",
           "opacity": 1,
           "openEnded": true,
           "quality": "high",
           "radialSegments": 20,
           "radiusData": {},
           "radiusScale": 2,
           "radiusSize": 0.15,
           "radiusType": "size",
           "roughness": 0.4,
           "sele": "",
           "side": "double",
           "sphereDetail": 2,
           "useInteriorColor": true,
           "visible": true,
           "wireframe": false
          },
          "type": "ball+stick"
         }
        }
       },
       "_ngl_serialize": false,
       "_ngl_version": "2.0.0-dev.36",
       "_ngl_view_id": [
        "29FEBCC5-B862-464A-AD38-56AA109A8040"
       ],
       "_player_dict": {},
       "_scene_position": {},
       "_scene_rotation": {},
       "_synced_model_ids": [],
       "_synced_repr_model_ids": [],
       "_view_height": "",
       "_view_width": "",
       "background": "white",
       "frame": 0,
       "gui_style": null,
       "layout": "IPY_MODEL_d2f1d876d35040fca967bddb6c9798d8",
       "max_frame": 0,
       "n_components": 1,
       "picked": {}
      }
     },
     "4a76af98757c46e5b33b2d68cc4e1fc8": {
      "model_module": "@jupyter-widgets/controls",
      "model_module_version": "1.5.0",
      "model_name": "LinkModel",
      "state": {
       "source": [
        "IPY_MODEL_3c2c099563af4e2693fb678217add5d7",
        "value"
       ],
       "target": [
        "IPY_MODEL_551a237782854eaabca747ab3f0c8813",
        "frame"
       ]
      }
     },
     "4a9422221b344fa5b21655488b6c90a3": {
      "model_module": "@jupyter-widgets/base",
      "model_module_version": "1.2.0",
      "model_name": "LayoutModel",
      "state": {}
     },
     "4ab9c665deba42e8b8a5de16402e4b12": {
      "model_module": "@jupyter-widgets/base",
      "model_module_version": "1.2.0",
      "model_name": "LayoutModel",
      "state": {
       "width": "34px"
      }
     },
     "4b9f50a3fd584f76a279797832107cf1": {
      "model_module": "@jupyter-widgets/controls",
      "model_module_version": "1.5.0",
      "model_name": "DescriptionStyleModel",
      "state": {
       "description_width": ""
      }
     },
     "4dca6abb0c2643a5ad81622fa5e697cc": {
      "model_module": "@jupyter-widgets/controls",
      "model_module_version": "1.5.0",
      "model_name": "ButtonStyleModel",
      "state": {}
     },
     "4dd5ab18a651465cb15806a552b1f06b": {
      "model_module": "@jupyter-widgets/controls",
      "model_module_version": "1.5.0",
      "model_name": "LinkModel",
      "state": {
       "source": [
        "IPY_MODEL_c21da1e34b39438a8c196704a58dc5f3",
        "value"
       ],
       "target": [
        "IPY_MODEL_1eb11e654e5a4100a61e1fecf7257c50",
        "value"
       ]
      }
     },
     "4e8d57a9b0ce4a6892783cd87a491412": {
      "model_module": "@jupyter-widgets/base",
      "model_module_version": "1.2.0",
      "model_name": "LayoutModel",
      "state": {}
     },
     "4ef1ad095621401daa82a56d1ffe8dc4": {
      "model_module": "nglview-js-widgets",
      "model_module_version": "2.7.1",
      "model_name": "NGLModel",
      "state": {
       "_camera_orientation": [
        16.137138161209307,
        0,
        0,
        0,
        0,
        16.137138161209307,
        0,
        0,
        0,
        0,
        16.137138161209307,
        0,
        -1.8113499879837036,
        -0.3889000415802002,
        0.0037999749183654785,
        1
       ],
       "_camera_str": "orthographic",
       "_gui_theme": null,
       "_ibtn_fullscreen": "IPY_MODEL_9bf07a1db0794be989d880f048b24304",
       "_igui": null,
       "_iplayer": "IPY_MODEL_0b7ccecca2424131b0938260bad2bff7",
       "_ngl_color_dict": {},
       "_ngl_coordinate_resource": {},
       "_ngl_full_stage_parameters": {
        "ambientColor": 14540253,
        "ambientIntensity": 0.2,
        "backgroundColor": "white",
        "cameraEyeSep": 0.3,
        "cameraFov": 40,
        "cameraType": "perspective",
        "clipDist": 10,
        "clipFar": 100,
        "clipNear": 0,
        "fogFar": 100,
        "fogNear": 50,
        "hoverTimeout": 0,
        "impostor": true,
        "lightColor": 14540253,
        "lightIntensity": 1,
        "mousePreset": "default",
        "panSpeed": 1,
        "quality": "medium",
        "rotateSpeed": 2,
        "sampleLevel": 0,
        "tooltip": true,
        "workerDefault": true,
        "zoomSpeed": 1.2
       },
       "_ngl_msg_archive": [
        {
         "args": [
          {
           "binary": false,
           "data": "\nQCElemental\n\n  9  8  0  0  0  0  0  0  0  0  0\n    0.9868   -0.0056    0.0038 C   0  0     0  0  0  0  0  0\n    2.5093    0.0197   -0.0155 C   0  0     0  0  0  0  0  0\n    3.0530    1.3461    0.0232 O   0  0     0  0  0  0  0  0\n    0.6177   -1.0421    0.0252 H   0  0     0  0  0  0  0  0\n    0.5697    0.4765   -0.8942 H   0  0     0  0  0  0  0  0\n    0.6003    0.5207    0.8877 H   0  0     0  0  0  0  0  0\n    2.8902   -0.5323   -0.8953 H   0  0     0  0  0  0  0  0\n    2.9114   -0.4777    0.8795 H   0  0     0  0  0  0  0  0\n    2.7317    1.8199   -0.7640 H   0  0     0  0  0  0  0  0\n  1  2  1  0  0  0  0\n  1  4  1  0  0  0  0\n  1  5  1  0  0  0  0\n  1  6  1  0  0  0  0\n  2  3  1  0  0  0  0\n  2  7  1  0  0  0  0\n  2  8  1  0  0  0  0\n  3  9  1  0  0  0  0\n",
           "type": "blob"
          }
         ],
         "kwargs": {
          "defaultRepresentation": true,
          "ext": "sdf"
         },
         "methodName": "loadFile",
         "reconstruc_color_scheme": false,
         "target": "Stage",
         "type": "call_method"
        }
       ],
       "_ngl_original_stage_parameters": {
        "ambientColor": 14540253,
        "ambientIntensity": 0.2,
        "backgroundColor": "white",
        "cameraEyeSep": 0.3,
        "cameraFov": 40,
        "cameraType": "perspective",
        "clipDist": 10,
        "clipFar": 100,
        "clipNear": 0,
        "fogFar": 100,
        "fogNear": 50,
        "hoverTimeout": 0,
        "impostor": true,
        "lightColor": 14540253,
        "lightIntensity": 1,
        "mousePreset": "default",
        "panSpeed": 1,
        "quality": "medium",
        "rotateSpeed": 2,
        "sampleLevel": 0,
        "tooltip": true,
        "workerDefault": true,
        "zoomSpeed": 1.2
       },
       "_ngl_repr_dict": {
        "0": {
         "0": {
          "params": {
           "aspectRatio": 1.5,
           "assembly": "default",
           "bondScale": 0.3,
           "bondSpacing": 0.75,
           "clipCenter": {
            "x": 0,
            "y": 0,
            "z": 0
           },
           "clipNear": 0,
           "clipRadius": 0,
           "colorMode": "hcl",
           "colorReverse": false,
           "colorScale": "",
           "colorScheme": "element",
           "colorValue": 9474192,
           "cylinderOnly": false,
           "defaultAssembly": "",
           "depthWrite": true,
           "diffuse": 16777215,
           "diffuseInterior": false,
           "disableImpostor": false,
           "disablePicking": false,
           "flatShaded": false,
           "interiorColor": 2236962,
           "interiorDarkening": 0,
           "lazy": false,
           "lineOnly": false,
           "linewidth": 2,
           "matrix": {
            "elements": [
             1,
             0,
             0,
             0,
             0,
             1,
             0,
             0,
             0,
             0,
             1,
             0,
             0,
             0,
             0,
             1
            ]
           },
           "metalness": 0,
           "multipleBond": "off",
           "opacity": 1,
           "openEnded": true,
           "quality": "high",
           "radialSegments": 20,
           "radiusData": {},
           "radiusScale": 2,
           "radiusSize": 0.15,
           "radiusType": "size",
           "roughness": 0.4,
           "sele": "",
           "side": "double",
           "sphereDetail": 2,
           "useInteriorColor": true,
           "visible": true,
           "wireframe": false
          },
          "type": "ball+stick"
         }
        }
       },
       "_ngl_serialize": false,
       "_ngl_version": "2.0.0-dev.36",
       "_ngl_view_id": [
        "F8535A7C-6F0D-4CFC-B837-B2236A670A3A"
       ],
       "_player_dict": {},
       "_scene_position": {},
       "_scene_rotation": {},
       "_synced_model_ids": [],
       "_synced_repr_model_ids": [],
       "_view_height": "",
       "_view_width": "",
       "background": "white",
       "frame": 0,
       "gui_style": null,
       "layout": "IPY_MODEL_8393ca6ff8224589b486fb251a36b548",
       "max_frame": 0,
       "n_components": 1,
       "picked": {}
      }
     },
     "4f018651c3c344fd868398475dbf4c35": {
      "model_module": "@jupyter-widgets/controls",
      "model_module_version": "1.5.0",
      "model_name": "ButtonStyleModel",
      "state": {}
     },
     "4f171aebe9d14f94a29123a87b44420f": {
      "model_module": "@jupyter-widgets/controls",
      "model_module_version": "1.5.0",
      "model_name": "HBoxModel",
      "state": {
       "children": [
        "IPY_MODEL_85b7429944484dbab2d8c2a0dcde8a8b",
        "IPY_MODEL_959584c30f9e41c7870ec9e50e1273ef"
       ],
       "layout": "IPY_MODEL_ab5705c0927249a58a5447714c6f5c52"
      }
     },
     "4f1c532643ee48e8b9d72f47d669f46e": {
      "model_module": "@jupyter-widgets/controls",
      "model_module_version": "1.5.0",
      "model_name": "ButtonStyleModel",
      "state": {}
     },
     "4fbe978adb584bb7a874aa47016a05cc": {
      "model_module": "@jupyter-widgets/controls",
      "model_module_version": "1.5.0",
      "model_name": "IntSliderModel",
      "state": {
       "layout": "IPY_MODEL_86300375c1e94bf3a75415e18cec367c",
       "max": 0,
       "style": "IPY_MODEL_d48692ee725544ee86253e87023d9c51"
      }
     },
     "50e8892497334fd29f9b092856e4acf0": {
      "model_module": "@jupyter-widgets/base",
      "model_module_version": "1.2.0",
      "model_name": "LayoutModel",
      "state": {}
     },
     "511f6183c9b74eff9e6e62c3370935de": {
      "model_module": "@jupyter-widgets/controls",
      "model_module_version": "1.5.0",
      "model_name": "SliderStyleModel",
      "state": {
       "description_width": ""
      }
     },
     "516faa703a1e4162929e65f453bb6685": {
      "model_module": "@jupyter-widgets/controls",
      "model_module_version": "1.5.0",
      "model_name": "ButtonModel",
      "state": {
       "icon": "compress",
       "layout": "IPY_MODEL_c3296661df1d48759708721361ea7148",
       "style": "IPY_MODEL_4f1c532643ee48e8b9d72f47d669f46e"
      }
     },
     "52f7a67d50734e54b66f82d06ee9d984": {
      "model_module": "@jupyter-widgets/base",
      "model_module_version": "1.2.0",
      "model_name": "LayoutModel",
      "state": {}
     },
     "5307d537377a4de984cf2ce63bde2d4c": {
      "model_module": "@jupyter-widgets/controls",
      "model_module_version": "1.5.0",
      "model_name": "HBoxModel",
      "state": {
       "children": [
        "IPY_MODEL_804b0dbd10ef4420927cb157f70173c5",
        "IPY_MODEL_1d4d5af91efc4aceb47d7591eda45365"
       ],
       "layout": "IPY_MODEL_2a5b348d20cc4e458bb80570ce91d706"
      }
     },
     "539934b177e247e1b61fbfe92bcb29d1": {
      "model_module": "@jupyter-widgets/base",
      "model_module_version": "1.2.0",
      "model_name": "LayoutModel",
      "state": {}
     },
     "53a11b4c84b945cdba6b74ae5b6f255f": {
      "model_module": "@jupyter-widgets/controls",
      "model_module_version": "1.5.0",
      "model_name": "LinkModel",
      "state": {
       "source": [
        "IPY_MODEL_10d1be046b224fb2928ba76791cffb1b",
        "max"
       ],
       "target": [
        "IPY_MODEL_716d189f9c7a43eaa939bcd250f33a4b",
        "max_frame"
       ]
      }
     },
     "53d47149099a4d1f865b993ba7e687a1": {
      "model_module": "@jupyter-widgets/controls",
      "model_module_version": "1.5.0",
      "model_name": "IntSliderModel",
      "state": {
       "layout": "IPY_MODEL_9f92f887244d4830b93767f4698921da",
       "max": 0,
       "style": "IPY_MODEL_e68d95ba18d54e4ca612f327f197d641"
      }
     },
     "544ea8fce1e64a328921d2d010d70ee7": {
      "model_module": "@jupyter-widgets/controls",
      "model_module_version": "1.5.0",
      "model_name": "ImageModel",
      "state": {
       "layout": "IPY_MODEL_01be0ecf366b4be583745634f607b85e",
       "width": "900.0"
      }
     },
     "544f9706ac924297abc04e922feb360e": {
      "model_module": "@jupyter-widgets/base",
      "model_module_version": "1.2.0",
      "model_name": "LayoutModel",
      "state": {}
     },
     "551a237782854eaabca747ab3f0c8813": {
      "model_module": "nglview-js-widgets",
      "model_module_version": "2.7.1",
      "model_name": "NGLModel",
      "state": {
       "_camera_orientation": [
        18.210385378683693,
        3.6663754599063094,
        6.039065336329553,
        0,
        -1.3263968500665249,
        18.174014181602132,
        -7.033962945075467,
        0,
        -6.939257204167747,
        6.147654374113596,
        17.192551001538003,
        0,
        -3.039299964904785,
        -0.696899950504303,
        0.6376499831676483,
        1
       ],
       "_camera_str": "orthographic",
       "_gui_theme": null,
       "_ibtn_fullscreen": "IPY_MODEL_01b03f17092a4eba967810f31654c2f6",
       "_igui": null,
       "_iplayer": "IPY_MODEL_cc5f07e69680404ca5c556fb5e8f7cee",
       "_ngl_color_dict": {},
       "_ngl_coordinate_resource": {},
       "_ngl_full_stage_parameters": {
        "ambientColor": 14540253,
        "ambientIntensity": 0.2,
        "backgroundColor": "white",
        "cameraEyeSep": 0.3,
        "cameraFov": 40,
        "cameraType": "perspective",
        "clipDist": 10,
        "clipFar": 100,
        "clipNear": 0,
        "fogFar": 100,
        "fogNear": 50,
        "hoverTimeout": 0,
        "impostor": true,
        "lightColor": 14540253,
        "lightIntensity": 1,
        "mousePreset": "default",
        "panSpeed": 1,
        "quality": "medium",
        "rotateSpeed": 2,
        "sampleLevel": 0,
        "tooltip": true,
        "workerDefault": true,
        "zoomSpeed": 1.2
       },
       "_ngl_msg_archive": [
        {
         "args": [
          {
           "binary": false,
           "data": "\nQCElemental\n\n 15 15  0  0  0  0  0  0  0  0  0\n    1.0585   -0.0940   -0.0659 N   0  0     0  0  0  0  0  0\n    2.5047   -0.0614   -0.0256 C   0  0     0  0  0  0  0  0\n    3.2402   -0.6480   -1.2062 C   0  0     0  0  0  0  0  0\n    3.2011    0.8565   -1.0021 C   0  0     0  0  0  0  0  0\n    4.4552    1.5904   -0.6013 C   0  0     0  0  0  0  0  0\n    5.3117    1.8842   -1.7137 O   0  0     0  0  0  0  0  0\n    0.6689    0.6431    0.5271 H   0  0     0  0  0  0  0  0\n    0.7140   -0.9846    0.3015 H   0  0     0  0  0  0  0  0\n    3.0077   -0.1811    0.9445 H   0  0     0  0  0  0  0  0\n    2.6272   -1.0604   -2.0077 H   0  0     0  0  0  0  0  0\n    4.1758   -1.1755   -1.0083 H   0  0     0  0  0  0  0  0\n    2.5329    1.3997   -1.6746 H   0  0     0  0  0  0  0  0\n    4.9982    1.0070    0.1688 H   0  0     0  0  0  0  0  0\n    4.2097    2.5693   -0.1604 H   0  0     0  0  0  0  0  0\n    5.4097    1.0574   -2.2198 H   0  0     0  0  0  0  0  0\n  1  2  1  0  0  0  0\n  1  7  1  0  0  0  0\n  1  8  1  0  0  0  0\n  2  3  1  0  0  0  0\n  2  4  1  0  0  0  0\n  2  9  1  0  0  0  0\n  3  4  1  0  0  0  0\n  3 10  1  0  0  0  0\n  3 11  1  0  0  0  0\n  4  5  1  0  0  0  0\n  4 12  1  0  0  0  0\n  5  6  1  0  0  0  0\n  5 13  1  0  0  0  0\n  5 14  1  0  0  0  0\n  6 15  1  0  0  0  0\n",
           "type": "blob"
          }
         ],
         "kwargs": {
          "defaultRepresentation": true,
          "ext": "sdf"
         },
         "methodName": "loadFile",
         "reconstruc_color_scheme": false,
         "target": "Stage",
         "type": "call_method"
        }
       ],
       "_ngl_original_stage_parameters": {
        "ambientColor": 14540253,
        "ambientIntensity": 0.2,
        "backgroundColor": "white",
        "cameraEyeSep": 0.3,
        "cameraFov": 40,
        "cameraType": "perspective",
        "clipDist": 10,
        "clipFar": 100,
        "clipNear": 0,
        "fogFar": 100,
        "fogNear": 50,
        "hoverTimeout": 0,
        "impostor": true,
        "lightColor": 14540253,
        "lightIntensity": 1,
        "mousePreset": "default",
        "panSpeed": 1,
        "quality": "medium",
        "rotateSpeed": 2,
        "sampleLevel": 0,
        "tooltip": true,
        "workerDefault": true,
        "zoomSpeed": 1.2
       },
       "_ngl_repr_dict": {
        "0": {
         "0": {
          "params": {
           "aspectRatio": 1.5,
           "assembly": "default",
           "bondScale": 0.3,
           "bondSpacing": 0.75,
           "clipCenter": {
            "x": 0,
            "y": 0,
            "z": 0
           },
           "clipNear": 0,
           "clipRadius": 0,
           "colorMode": "hcl",
           "colorReverse": false,
           "colorScale": "",
           "colorScheme": "element",
           "colorValue": 9474192,
           "cylinderOnly": false,
           "defaultAssembly": "",
           "depthWrite": true,
           "diffuse": 16777215,
           "diffuseInterior": false,
           "disableImpostor": false,
           "disablePicking": false,
           "flatShaded": false,
           "interiorColor": 2236962,
           "interiorDarkening": 0,
           "lazy": false,
           "lineOnly": false,
           "linewidth": 2,
           "matrix": {
            "elements": [
             1,
             0,
             0,
             0,
             0,
             1,
             0,
             0,
             0,
             0,
             1,
             0,
             0,
             0,
             0,
             1
            ]
           },
           "metalness": 0,
           "multipleBond": "off",
           "opacity": 1,
           "openEnded": true,
           "quality": "high",
           "radialSegments": 20,
           "radiusData": {},
           "radiusScale": 2,
           "radiusSize": 0.15,
           "radiusType": "size",
           "roughness": 0.4,
           "sele": "",
           "side": "double",
           "sphereDetail": 2,
           "useInteriorColor": true,
           "visible": true,
           "wireframe": false
          },
          "type": "ball+stick"
         }
        }
       },
       "_ngl_serialize": false,
       "_ngl_version": "2.0.0-dev.36",
       "_ngl_view_id": [
        "80798C14-1431-4B17-A07E-F03A928D689A"
       ],
       "_player_dict": {},
       "_scene_position": {},
       "_scene_rotation": {},
       "_synced_model_ids": [],
       "_synced_repr_model_ids": [],
       "_view_height": "",
       "_view_width": "",
       "background": "white",
       "frame": 0,
       "gui_style": null,
       "layout": "IPY_MODEL_353b4f495983458db9c43509d95cc520",
       "max_frame": 0,
       "n_components": 1,
       "picked": {}
      }
     },
     "553381bced8e4be5a0bf0c4f4b7f8434": {
      "model_module": "@jupyter-widgets/controls",
      "model_module_version": "1.5.0",
      "model_name": "DescriptionStyleModel",
      "state": {
       "description_width": ""
      }
     },
     "55adfc6b48814c279b75e0edbb4ace8d": {
      "model_module": "nglview-js-widgets",
      "model_module_version": "2.7.1",
      "model_name": "NGLModel",
      "state": {
       "_camera_orientation": [
        15.123108693984433,
        2.648048184403858,
        -1.7178201336015149,
        0,
        -2.6897069447770217,
        6.4113499002064165,
        -13.796070120753253,
        0,
        -1.6518298185798723,
        13.80412673944283,
        6.737137743897809,
        0,
        -1.035099983215332,
        0.8422499895095825,
        -0.5491999387741089,
        1
       ],
       "_camera_str": "orthographic",
       "_gui_theme": null,
       "_ibtn_fullscreen": "IPY_MODEL_e92b7433559a4ee3b909178e09f53a6a",
       "_igui": null,
       "_iplayer": "IPY_MODEL_8c3370fb4a5b4a6b81602f4835eee0d8",
       "_ngl_color_dict": {},
       "_ngl_coordinate_resource": {},
       "_ngl_full_stage_parameters": {
        "ambientColor": 14540253,
        "ambientIntensity": 0.2,
        "backgroundColor": "white",
        "cameraEyeSep": 0.3,
        "cameraFov": 40,
        "cameraType": "perspective",
        "clipDist": 10,
        "clipFar": 100,
        "clipNear": 0,
        "fogFar": 100,
        "fogNear": 50,
        "hoverTimeout": 0,
        "impostor": true,
        "lightColor": 14540253,
        "lightIntensity": 1,
        "mousePreset": "default",
        "panSpeed": 1,
        "quality": "medium",
        "rotateSpeed": 2,
        "sampleLevel": 0,
        "tooltip": true,
        "workerDefault": true,
        "zoomSpeed": 1.2
       },
       "_ngl_msg_archive": [
        {
         "args": [
          {
           "binary": false,
           "data": "\nQCElemental\n\n  6  4  0  0  0  0  0  0  0  0  0\n    3.1803   -1.8940    0.4041 C   0  0     0  0  0  0  0  0\n    3.3144   -2.9817    0.4945 H   0  0     0  0  0  0  0  0\n    4.2120   -1.5286    0.0478 H   0  0     0  0  0  0  0  0\n    2.2490   -1.6833   -0.1720 H   0  0     0  0  0  0  0  0\n    2.7121   -1.6379    2.2910 Cl  0  0     0  0  0  0  0  0\n   -2.1418    1.2972   -1.1926 Br  0  0     0  0  0  0  0  0\n  1  2  1  0  0  0  0\n  1  3  1  0  0  0  0\n  1  4  1  0  0  0  0\n  1  5  1  0  0  0  0\n",
           "type": "blob"
          }
         ],
         "kwargs": {
          "defaultRepresentation": true,
          "ext": "sdf"
         },
         "methodName": "loadFile",
         "reconstruc_color_scheme": false,
         "target": "Stage",
         "type": "call_method"
        }
       ],
       "_ngl_original_stage_parameters": {
        "ambientColor": 14540253,
        "ambientIntensity": 0.2,
        "backgroundColor": "white",
        "cameraEyeSep": 0.3,
        "cameraFov": 40,
        "cameraType": "perspective",
        "clipDist": 10,
        "clipFar": 100,
        "clipNear": 0,
        "fogFar": 100,
        "fogNear": 50,
        "hoverTimeout": 0,
        "impostor": true,
        "lightColor": 14540253,
        "lightIntensity": 1,
        "mousePreset": "default",
        "panSpeed": 1,
        "quality": "medium",
        "rotateSpeed": 2,
        "sampleLevel": 0,
        "tooltip": true,
        "workerDefault": true,
        "zoomSpeed": 1.2
       },
       "_ngl_repr_dict": {
        "0": {
         "0": {
          "params": {
           "aspectRatio": 1.5,
           "assembly": "default",
           "bondScale": 0.3,
           "bondSpacing": 0.75,
           "clipCenter": {
            "x": 0,
            "y": 0,
            "z": 0
           },
           "clipNear": 0,
           "clipRadius": 0,
           "colorMode": "hcl",
           "colorReverse": false,
           "colorScale": "",
           "colorScheme": "element",
           "colorValue": 9474192,
           "cylinderOnly": false,
           "defaultAssembly": "",
           "depthWrite": true,
           "diffuse": 16777215,
           "diffuseInterior": false,
           "disableImpostor": false,
           "disablePicking": false,
           "flatShaded": false,
           "interiorColor": 2236962,
           "interiorDarkening": 0,
           "lazy": false,
           "lineOnly": false,
           "linewidth": 2,
           "matrix": {
            "elements": [
             1,
             0,
             0,
             0,
             0,
             1,
             0,
             0,
             0,
             0,
             1,
             0,
             0,
             0,
             0,
             1
            ]
           },
           "metalness": 0,
           "multipleBond": "off",
           "opacity": 1,
           "openEnded": true,
           "quality": "high",
           "radialSegments": 20,
           "radiusData": {},
           "radiusScale": 2,
           "radiusSize": 0.15,
           "radiusType": "size",
           "roughness": 0.4,
           "sele": "",
           "side": "double",
           "sphereDetail": 2,
           "useInteriorColor": true,
           "visible": true,
           "wireframe": false
          },
          "type": "ball+stick"
         }
        }
       },
       "_ngl_serialize": false,
       "_ngl_version": "2.0.0-dev.36",
       "_ngl_view_id": [
        "EE64A945-9A63-41D3-8B4D-AA057786DBA2"
       ],
       "_player_dict": {},
       "_scene_position": {},
       "_scene_rotation": {},
       "_synced_model_ids": [],
       "_synced_repr_model_ids": [],
       "_view_height": "",
       "_view_width": "",
       "background": "white",
       "frame": 0,
       "gui_style": null,
       "layout": "IPY_MODEL_8f16d579ea704df6a0b7d40577db59aa",
       "max_frame": 0,
       "n_components": 1,
       "picked": {}
      }
     },
     "567bf32532494f8ab658a6b5715e3b41": {
      "model_module": "@jupyter-widgets/base",
      "model_module_version": "1.2.0",
      "model_name": "LayoutModel",
      "state": {}
     },
     "56e29377ed254f04a69d612c9fafd2df": {
      "model_module": "@jupyter-widgets/controls",
      "model_module_version": "1.5.0",
      "model_name": "LinkModel",
      "state": {
       "source": [
        "IPY_MODEL_c025f3133c2a44c2aebe62be9d633ccb",
        "max"
       ],
       "target": [
        "IPY_MODEL_4ef1ad095621401daa82a56d1ffe8dc4",
        "max_frame"
       ]
      }
     },
     "56f734f629b24e5aad1f3c67600637ff": {
      "model_module": "@jupyter-widgets/base",
      "model_module_version": "1.2.0",
      "model_name": "LayoutModel",
      "state": {}
     },
     "574e102d4bfb4cb6b5e6224ce7b971c4": {
      "model_module": "@jupyter-widgets/base",
      "model_module_version": "1.2.0",
      "model_name": "LayoutModel",
      "state": {}
     },
     "578e5008b62b40a28e069067485107a2": {
      "model_module": "@jupyter-widgets/controls",
      "model_module_version": "1.5.0",
      "model_name": "DescriptionStyleModel",
      "state": {
       "description_width": ""
      }
     },
     "57bdf530543c45b89755c431d8cada42": {
      "model_module": "@jupyter-widgets/controls",
      "model_module_version": "1.5.0",
      "model_name": "IntSliderModel",
      "state": {
       "layout": "IPY_MODEL_3a8fff4ed6fd47518d9e928bff9cfddc",
       "max": 0,
       "style": "IPY_MODEL_d35e5aee3a914b11a2fe68b2f934712b"
      }
     },
     "58c0799554a8413ab2d4cce887841e00": {
      "model_module": "@jupyter-widgets/controls",
      "model_module_version": "1.5.0",
      "model_name": "ButtonModel",
      "state": {
       "icon": "compress",
       "layout": "IPY_MODEL_6f15765a990f4fd09dc8110b5cc28440",
       "style": "IPY_MODEL_2fa7f92f97924b779427305acecd285a"
      }
     },
     "58c4f33e42b54a2cb77fe292145ee567": {
      "model_module": "@jupyter-widgets/controls",
      "model_module_version": "1.5.0",
      "model_name": "ButtonModel",
      "state": {
       "icon": "compress",
       "layout": "IPY_MODEL_be8f13f30443440a8ca725e37b126d1c",
       "style": "IPY_MODEL_6466a2927f034678b311b110019288fc"
      }
     },
     "5991e4f7832a4579bf9eada3b68979e9": {
      "model_module": "@jupyter-widgets/base",
      "model_module_version": "1.2.0",
      "model_name": "LayoutModel",
      "state": {}
     },
     "5ae40ee583484d50a22b304df62798a4": {
      "model_module": "@jupyter-widgets/controls",
      "model_module_version": "1.5.0",
      "model_name": "ButtonModel",
      "state": {
       "icon": "compress",
       "layout": "IPY_MODEL_100e2d7739b640c3b54a13e99a622dca",
       "style": "IPY_MODEL_7afdc2ed6ac448988a3d7aaf5db3a5c6"
      }
     },
     "5bb4124c96c84bb98f65ba81e252fba6": {
      "model_module": "nglview-js-widgets",
      "model_module_version": "2.7.1",
      "model_name": "NGLModel",
      "state": {
       "_camera_orientation": [
        0.960938248886024,
        0.7351899685329045,
        9.896359376355045,
        0,
        2.5379635325678067,
        9.5937798096707,
        -0.9591483643757657,
        0,
        -9.593600695419713,
        2.611650854861221,
        0.7375235746190384,
        0,
        -0.8838000297546387,
        0.21685004234313965,
        -0.3096500337123871,
        1
       ],
       "_camera_str": "orthographic",
       "_gui_theme": null,
       "_ibtn_fullscreen": "IPY_MODEL_8d85fb6e5733496e87f3eeb702b45d27",
       "_igui": null,
       "_iplayer": "IPY_MODEL_aeec6f102ef64ccb8ae076aae1850e61",
       "_ngl_color_dict": {},
       "_ngl_coordinate_resource": {},
       "_ngl_full_stage_parameters": {
        "ambientColor": 14540253,
        "ambientIntensity": 0.2,
        "backgroundColor": "white",
        "cameraEyeSep": 0.3,
        "cameraFov": 40,
        "cameraType": "perspective",
        "clipDist": 10,
        "clipFar": 100,
        "clipNear": 0,
        "fogFar": 100,
        "fogNear": 50,
        "hoverTimeout": 0,
        "impostor": true,
        "lightColor": 14540253,
        "lightIntensity": 1,
        "mousePreset": "default",
        "panSpeed": 1,
        "quality": "medium",
        "rotateSpeed": 2,
        "sampleLevel": 0,
        "tooltip": true,
        "workerDefault": true,
        "zoomSpeed": 1.2
       },
       "_ngl_msg_archive": [
        {
         "args": [
          {
           "binary": false,
           "data": "\nQCElemental\n\n  6  4  0  0  0  0  0  0  0  0  0\n    1.4310    2.6501    0.2824 C   0  0     0  0  0  0  0  0\n    2.2778    2.8523   -0.4592 H   0  0     0  0  0  0  0  0\n    1.7682    2.3245    1.1900 H   0  0     0  0  0  0  0  0\n    1.0742    3.6555    0.6742 H   0  0     0  0  0  0  0  0\n   -0.5102    2.2337   -0.5707 I   0  0     0  0  0  0  0  0\n    0.3810   -4.0892    0.7756 Br  0  0     0  0  0  0  0  0\n  1  2  1  0  0  0  0\n  1  3  1  0  0  0  0\n  1  4  1  0  0  0  0\n  1  5  1  0  0  0  0\n",
           "type": "blob"
          }
         ],
         "kwargs": {
          "defaultRepresentation": true,
          "ext": "sdf"
         },
         "methodName": "loadFile",
         "reconstruc_color_scheme": false,
         "target": "Stage",
         "type": "call_method"
        }
       ],
       "_ngl_original_stage_parameters": {
        "ambientColor": 14540253,
        "ambientIntensity": 0.2,
        "backgroundColor": "white",
        "cameraEyeSep": 0.3,
        "cameraFov": 40,
        "cameraType": "perspective",
        "clipDist": 10,
        "clipFar": 100,
        "clipNear": 0,
        "fogFar": 100,
        "fogNear": 50,
        "hoverTimeout": 0,
        "impostor": true,
        "lightColor": 14540253,
        "lightIntensity": 1,
        "mousePreset": "default",
        "panSpeed": 1,
        "quality": "medium",
        "rotateSpeed": 2,
        "sampleLevel": 0,
        "tooltip": true,
        "workerDefault": true,
        "zoomSpeed": 1.2
       },
       "_ngl_repr_dict": {
        "0": {
         "0": {
          "params": {
           "aspectRatio": 1.5,
           "assembly": "default",
           "bondScale": 0.3,
           "bondSpacing": 0.75,
           "clipCenter": {
            "x": 0,
            "y": 0,
            "z": 0
           },
           "clipNear": 0,
           "clipRadius": 0,
           "colorMode": "hcl",
           "colorReverse": false,
           "colorScale": "",
           "colorScheme": "element",
           "colorValue": 9474192,
           "cylinderOnly": false,
           "defaultAssembly": "",
           "depthWrite": true,
           "diffuse": 16777215,
           "diffuseInterior": false,
           "disableImpostor": false,
           "disablePicking": false,
           "flatShaded": false,
           "interiorColor": 2236962,
           "interiorDarkening": 0,
           "lazy": false,
           "lineOnly": false,
           "linewidth": 2,
           "matrix": {
            "elements": [
             1,
             0,
             0,
             0,
             0,
             1,
             0,
             0,
             0,
             0,
             1,
             0,
             0,
             0,
             0,
             1
            ]
           },
           "metalness": 0,
           "multipleBond": "off",
           "opacity": 1,
           "openEnded": true,
           "quality": "high",
           "radialSegments": 20,
           "radiusData": {},
           "radiusScale": 2,
           "radiusSize": 0.15,
           "radiusType": "size",
           "roughness": 0.4,
           "sele": "",
           "side": "double",
           "sphereDetail": 2,
           "useInteriorColor": true,
           "visible": true,
           "wireframe": false
          },
          "type": "ball+stick"
         }
        }
       },
       "_ngl_serialize": false,
       "_ngl_version": "2.0.0-dev.36",
       "_ngl_view_id": [
        "DD9D3FA5-8E10-42D5-8F4B-19440A0C951B"
       ],
       "_player_dict": {},
       "_scene_position": {},
       "_scene_rotation": {},
       "_synced_model_ids": [],
       "_synced_repr_model_ids": [],
       "_view_height": "",
       "_view_width": "",
       "background": "white",
       "frame": 0,
       "gui_style": null,
       "layout": "IPY_MODEL_50e8892497334fd29f9b092856e4acf0",
       "max_frame": 0,
       "n_components": 1,
       "picked": {}
      }
     },
     "5bb5946aaf334364b2325a6b7ff37c4b": {
      "model_module": "@jupyter-widgets/controls",
      "model_module_version": "1.5.0",
      "model_name": "HBoxModel",
      "state": {
       "children": [
        "IPY_MODEL_395d9819271b44df9f5a3a2d83f64b24",
        "IPY_MODEL_2b947f37296f4dbc84837509d521668c"
       ],
       "layout": "IPY_MODEL_567bf32532494f8ab658a6b5715e3b41"
      }
     },
     "5bfa2633785f466c96b7002ae8a30ba9": {
      "model_module": "@jupyter-widgets/controls",
      "model_module_version": "1.5.0",
      "model_name": "LinkModel",
      "state": {
       "source": [
        "IPY_MODEL_45a80eb4e95e4881b16c20a40b8d3300",
        "max"
       ],
       "target": [
        "IPY_MODEL_fe132e369c5e4a45a83894fe90e22b38",
        "max_frame"
       ]
      }
     },
     "5c377603245b4aae96be03b15416c060": {
      "model_module": "@jupyter-widgets/controls",
      "model_module_version": "1.5.0",
      "model_name": "SliderStyleModel",
      "state": {
       "description_width": ""
      }
     },
     "5ccc6c74df104946ace7570e32d39e6e": {
      "model_module": "@jupyter-widgets/controls",
      "model_module_version": "1.5.0",
      "model_name": "ButtonModel",
      "state": {
       "icon": "compress",
       "layout": "IPY_MODEL_21985cefc97e449286b3a7b125a3d7d6",
       "style": "IPY_MODEL_46cdc2ad4fdd4340b08ddd6bd99101c0"
      }
     },
     "5e4f09836ef04e788ac2dfd0cdc62fe4": {
      "model_module": "@jupyter-widgets/base",
      "model_module_version": "1.2.0",
      "model_name": "LayoutModel",
      "state": {
       "width": "34px"
      }
     },
     "5e7d55a5616a470aa2aea06e1b07c574": {
      "model_module": "@jupyter-widgets/base",
      "model_module_version": "1.2.0",
      "model_name": "LayoutModel",
      "state": {}
     },
     "5f655b38c3ae48c2a22203e1d4faf8cc": {
      "model_module": "@jupyter-widgets/base",
      "model_module_version": "1.2.0",
      "model_name": "LayoutModel",
      "state": {
       "width": "34px"
      }
     },
     "5f8d44dab0104a15941d83415099d308": {
      "model_module": "@jupyter-widgets/controls",
      "model_module_version": "1.5.0",
      "model_name": "LinkModel",
      "state": {
       "source": [
        "IPY_MODEL_7c45a844de4e4cf895c716ce51116e5b",
        "value"
       ],
       "target": [
        "IPY_MODEL_76aa286afdd24fd4a530c50a3d8abc10",
        "value"
       ]
      }
     },
     "600d703cef4e4ffb86041f5b6e97d277": {
      "model_module": "@jupyter-widgets/controls",
      "model_module_version": "1.5.0",
      "model_name": "LinkModel",
      "state": {
       "source": [
        "IPY_MODEL_70cc2982ff3742cf9afdf8d49071f71d",
        "max"
       ],
       "target": [
        "IPY_MODEL_5bb4124c96c84bb98f65ba81e252fba6",
        "max_frame"
       ]
      }
     },
     "607bbed7f0bf46718b65f0ddc9922a8b": {
      "model_module": "nglview-js-widgets",
      "model_module_version": "2.7.1",
      "model_name": "NGLModel",
      "state": {
       "_camera_orientation": [
        11.480135438599394,
        6.238230969211316,
        12.60626829703663,
        0,
        -2.152164622156954,
        16.859731896953036,
        -6.383154666203955,
        0,
        -13.899701919150417,
        2.5418399690614937,
        11.400191744928287,
        0,
        -0.6850500106811523,
        -1.0210000276565552,
        0.9401000738143921,
        1
       ],
       "_camera_str": "orthographic",
       "_gui_theme": null,
       "_ibtn_fullscreen": "IPY_MODEL_b71b7f5a459c46228a7451839846264d",
       "_igui": null,
       "_iplayer": "IPY_MODEL_61581bf5469344c28dcdb26117b0281a",
       "_ngl_color_dict": {},
       "_ngl_coordinate_resource": {},
       "_ngl_full_stage_parameters": {
        "ambientColor": 14540253,
        "ambientIntensity": 0.2,
        "backgroundColor": "white",
        "cameraEyeSep": 0.3,
        "cameraFov": 40,
        "cameraType": "perspective",
        "clipDist": 10,
        "clipFar": 100,
        "clipNear": 0,
        "fogFar": 100,
        "fogNear": 50,
        "hoverTimeout": 0,
        "impostor": true,
        "lightColor": 14540253,
        "lightIntensity": 1,
        "mousePreset": "default",
        "panSpeed": 1,
        "quality": "medium",
        "rotateSpeed": 2,
        "sampleLevel": 0,
        "tooltip": true,
        "workerDefault": true,
        "zoomSpeed": 1.2
       },
       "_ngl_msg_archive": [
        {
         "args": [
          {
           "binary": false,
           "data": "\nQCElemental\n\n  6  4  0  0  0  0  0  0  0  0  0\n    3.2310    3.3707   -3.8704 C   0  0     0  0  0  0  0  0\n    3.9848    4.1195   -3.7045 H   0  0     0  0  0  0  0  0\n    3.5510    2.7458   -2.9599 H   0  0     0  0  0  0  0  0\n    2.2167    3.8630   -3.5111 H   0  0     0  0  0  0  0  0\n    3.6691    2.4565   -5.5114 Cl  0  0     0  0  0  0  0  0\n   -2.6147   -2.0775    3.6312 Br  0  0     0  0  0  0  0  0\n  1  2  1  0  0  0  0\n  1  3  1  0  0  0  0\n  1  4  1  0  0  0  0\n  1  5  1  0  0  0  0\n",
           "type": "blob"
          }
         ],
         "kwargs": {
          "defaultRepresentation": true,
          "ext": "sdf"
         },
         "methodName": "loadFile",
         "reconstruc_color_scheme": false,
         "target": "Stage",
         "type": "call_method"
        }
       ],
       "_ngl_original_stage_parameters": {
        "ambientColor": 14540253,
        "ambientIntensity": 0.2,
        "backgroundColor": "white",
        "cameraEyeSep": 0.3,
        "cameraFov": 40,
        "cameraType": "perspective",
        "clipDist": 10,
        "clipFar": 100,
        "clipNear": 0,
        "fogFar": 100,
        "fogNear": 50,
        "hoverTimeout": 0,
        "impostor": true,
        "lightColor": 14540253,
        "lightIntensity": 1,
        "mousePreset": "default",
        "panSpeed": 1,
        "quality": "medium",
        "rotateSpeed": 2,
        "sampleLevel": 0,
        "tooltip": true,
        "workerDefault": true,
        "zoomSpeed": 1.2
       },
       "_ngl_repr_dict": {
        "0": {
         "0": {
          "params": {
           "aspectRatio": 1.5,
           "assembly": "default",
           "bondScale": 0.3,
           "bondSpacing": 0.75,
           "clipCenter": {
            "x": 0,
            "y": 0,
            "z": 0
           },
           "clipNear": 0,
           "clipRadius": 0,
           "colorMode": "hcl",
           "colorReverse": false,
           "colorScale": "",
           "colorScheme": "element",
           "colorValue": 9474192,
           "cylinderOnly": false,
           "defaultAssembly": "",
           "depthWrite": true,
           "diffuse": 16777215,
           "diffuseInterior": false,
           "disableImpostor": false,
           "disablePicking": false,
           "flatShaded": false,
           "interiorColor": 2236962,
           "interiorDarkening": 0,
           "lazy": false,
           "lineOnly": false,
           "linewidth": 2,
           "matrix": {
            "elements": [
             1,
             0,
             0,
             0,
             0,
             1,
             0,
             0,
             0,
             0,
             1,
             0,
             0,
             0,
             0,
             1
            ]
           },
           "metalness": 0,
           "multipleBond": "off",
           "opacity": 1,
           "openEnded": true,
           "quality": "high",
           "radialSegments": 20,
           "radiusData": {},
           "radiusScale": 2,
           "radiusSize": 0.15,
           "radiusType": "size",
           "roughness": 0.4,
           "sele": "",
           "side": "double",
           "sphereDetail": 2,
           "useInteriorColor": true,
           "visible": true,
           "wireframe": false
          },
          "type": "ball+stick"
         }
        }
       },
       "_ngl_serialize": false,
       "_ngl_version": "2.0.0-dev.36",
       "_ngl_view_id": [
        "AFE7E21B-392C-4AEC-B5F4-977282EDE857"
       ],
       "_player_dict": {},
       "_scene_position": {},
       "_scene_rotation": {},
       "_synced_model_ids": [],
       "_synced_repr_model_ids": [],
       "_view_height": "",
       "_view_width": "",
       "background": "white",
       "frame": 0,
       "gui_style": null,
       "layout": "IPY_MODEL_208dd8fd061346aeb77c7582a4c00d30",
       "max_frame": 0,
       "n_components": 1,
       "picked": {}
      }
     },
     "6092905ebaff47cba6447c31b8a669a0": {
      "model_module": "@jupyter-widgets/controls",
      "model_module_version": "1.5.0",
      "model_name": "LinkModel",
      "state": {
       "source": [
        "IPY_MODEL_fc10f22e2e4241c397f0816c595b2aec",
        "value"
       ],
       "target": [
        "IPY_MODEL_c319603f404a495a94e4d0cb9ffba3e9",
        "value"
       ]
      }
     },
     "6096812504a94359b57cf47a7740ad85": {
      "model_module": "@jupyter-widgets/controls",
      "model_module_version": "1.5.0",
      "model_name": "PlayModel",
      "state": {
       "layout": "IPY_MODEL_6f7e5c88d19c489c823c7034d86f0f2a",
       "max": 0,
       "style": "IPY_MODEL_780ac242612d449caf2a0837246c77fb"
      }
     },
     "60c643af8e994216a063a28e5e767c20": {
      "model_module": "@jupyter-widgets/controls",
      "model_module_version": "1.5.0",
      "model_name": "SliderStyleModel",
      "state": {
       "description_width": ""
      }
     },
     "6157960b97b148c1a7a4de7f16a705bc": {
      "model_module": "@jupyter-widgets/controls",
      "model_module_version": "1.5.0",
      "model_name": "LinkModel",
      "state": {
       "source": [
        "IPY_MODEL_e3fe6dcb9d3f486e8ca728174eaf2bb8",
        "value"
       ],
       "target": [
        "IPY_MODEL_0ee119e013a74d83885e95fce563456b",
        "frame"
       ]
      }
     },
     "61581bf5469344c28dcdb26117b0281a": {
      "model_module": "@jupyter-widgets/controls",
      "model_module_version": "1.5.0",
      "model_name": "HBoxModel",
      "state": {
       "children": [
        "IPY_MODEL_788e2e705f404e3d8ad8eaea05969ecb",
        "IPY_MODEL_d302f960595e4badb74d5c684f49f821"
       ],
       "layout": "IPY_MODEL_07919583e64d480a96f44b2247027471"
      }
     },
     "61cf96301de34e978dd0c0243052bb50": {
      "model_module": "@jupyter-widgets/controls",
      "model_module_version": "1.5.0",
      "model_name": "ButtonModel",
      "state": {
       "icon": "compress",
       "layout": "IPY_MODEL_5f655b38c3ae48c2a22203e1d4faf8cc",
       "style": "IPY_MODEL_4dca6abb0c2643a5ad81622fa5e697cc"
      }
     },
     "626ac96567404b5b84934bf49fbc1ce0": {
      "model_module": "nglview-js-widgets",
      "model_module_version": "2.7.1",
      "model_name": "NGLModel",
      "state": {
       "_camera_orientation": [
        20.6693635959724,
        0,
        0,
        0,
        0,
        20.6693635959724,
        0,
        0,
        0,
        0,
        20.6693635959724,
        0,
        -1.0539999902248383,
        -1.840950071811676,
        0.6715000048279762,
        1
       ],
       "_camera_str": "orthographic",
       "_gui_theme": null,
       "_ibtn_fullscreen": "IPY_MODEL_383ca9c25473406ca4a3d84c13b4c1e6",
       "_igui": null,
       "_iplayer": "IPY_MODEL_c4303efef38e4b84992363cd74c13bbd",
       "_ngl_color_dict": {},
       "_ngl_coordinate_resource": {},
       "_ngl_full_stage_parameters": {
        "ambientColor": 14540253,
        "ambientIntensity": 0.2,
        "backgroundColor": "white",
        "cameraEyeSep": 0.3,
        "cameraFov": 40,
        "cameraType": "perspective",
        "clipDist": 10,
        "clipFar": 100,
        "clipNear": 0,
        "fogFar": 100,
        "fogNear": 50,
        "hoverTimeout": 0,
        "impostor": true,
        "lightColor": 14540253,
        "lightIntensity": 1,
        "mousePreset": "default",
        "panSpeed": 1,
        "quality": "medium",
        "rotateSpeed": 2,
        "sampleLevel": 0,
        "tooltip": true,
        "workerDefault": true,
        "zoomSpeed": 1.2
       },
       "_ngl_msg_archive": [
        {
         "args": [
          {
           "binary": false,
           "data": "\nQCElemental\n\n  6  4  0  0  0  0  0  0  0  0  0\n    1.9331    3.8247   -0.6585 C   0  0     0  0  0  0  0  0\n    1.8418    4.8372   -0.4877 H   0  0     0  0  0  0  0  0\n    1.2801    3.7040   -1.5223 H   0  0     0  0  0  0  0  0\n    2.7356    3.9153   -1.3231 H   0  0     0  0  0  0  0  0\n    1.7561    2.8698    0.1793 F   0  0     0  0  0  0  0  0\n   -0.6276   -1.1553    0.1070 I   0  0     0  0  0  0  0  0\n  1  2  1  0  0  0  0\n  1  3  1  0  0  0  0\n  1  4  1  0  0  0  0\n  1  5  1  0  0  0  0\n",
           "type": "blob"
          }
         ],
         "kwargs": {
          "defaultRepresentation": true,
          "ext": "sdf"
         },
         "methodName": "loadFile",
         "reconstruc_color_scheme": false,
         "target": "Stage",
         "type": "call_method"
        }
       ],
       "_ngl_original_stage_parameters": {
        "ambientColor": 14540253,
        "ambientIntensity": 0.2,
        "backgroundColor": "white",
        "cameraEyeSep": 0.3,
        "cameraFov": 40,
        "cameraType": "perspective",
        "clipDist": 10,
        "clipFar": 100,
        "clipNear": 0,
        "fogFar": 100,
        "fogNear": 50,
        "hoverTimeout": 0,
        "impostor": true,
        "lightColor": 14540253,
        "lightIntensity": 1,
        "mousePreset": "default",
        "panSpeed": 1,
        "quality": "medium",
        "rotateSpeed": 2,
        "sampleLevel": 0,
        "tooltip": true,
        "workerDefault": true,
        "zoomSpeed": 1.2
       },
       "_ngl_repr_dict": {
        "0": {
         "0": {
          "params": {
           "aspectRatio": 1.5,
           "assembly": "default",
           "bondScale": 0.3,
           "bondSpacing": 0.75,
           "clipCenter": {
            "x": 0,
            "y": 0,
            "z": 0
           },
           "clipNear": 0,
           "clipRadius": 0,
           "colorMode": "hcl",
           "colorReverse": false,
           "colorScale": "",
           "colorScheme": "element",
           "colorValue": 9474192,
           "cylinderOnly": false,
           "defaultAssembly": "",
           "depthWrite": true,
           "diffuse": 16777215,
           "diffuseInterior": false,
           "disableImpostor": false,
           "disablePicking": false,
           "flatShaded": false,
           "interiorColor": 2236962,
           "interiorDarkening": 0,
           "lazy": false,
           "lineOnly": false,
           "linewidth": 2,
           "matrix": {
            "elements": [
             1,
             0,
             0,
             0,
             0,
             1,
             0,
             0,
             0,
             0,
             1,
             0,
             0,
             0,
             0,
             1
            ]
           },
           "metalness": 0,
           "multipleBond": "off",
           "opacity": 1,
           "openEnded": true,
           "quality": "high",
           "radialSegments": 20,
           "radiusData": {},
           "radiusScale": 2,
           "radiusSize": 0.15,
           "radiusType": "size",
           "roughness": 0.4,
           "sele": "",
           "side": "double",
           "sphereDetail": 2,
           "useInteriorColor": true,
           "visible": true,
           "wireframe": false
          },
          "type": "ball+stick"
         }
        }
       },
       "_ngl_serialize": false,
       "_ngl_version": "2.0.0-dev.36",
       "_ngl_view_id": [
        "54B0BB2C-D1A7-43F4-A06E-30043D39CEC6"
       ],
       "_player_dict": {},
       "_scene_position": {},
       "_scene_rotation": {},
       "_synced_model_ids": [],
       "_synced_repr_model_ids": [],
       "_view_height": "",
       "_view_width": "",
       "background": "white",
       "frame": 0,
       "gui_style": null,
       "layout": "IPY_MODEL_c62008f030434a06b4e601890d9f8b6c",
       "max_frame": 0,
       "n_components": 1,
       "picked": {}
      }
     },
     "64290a182a6c4d498afe7330dbddf4d8": {
      "model_module": "@jupyter-widgets/controls",
      "model_module_version": "1.5.0",
      "model_name": "IntSliderModel",
      "state": {
       "layout": "IPY_MODEL_539934b177e247e1b61fbfe92bcb29d1",
       "max": 0,
       "style": "IPY_MODEL_2892490fa79d429c9b87e334a4518aee"
      }
     },
     "6466a2927f034678b311b110019288fc": {
      "model_module": "@jupyter-widgets/controls",
      "model_module_version": "1.5.0",
      "model_name": "ButtonStyleModel",
      "state": {}
     },
     "64b871325c0746aba3fd3847d0e47b6b": {
      "model_module": "@jupyter-widgets/base",
      "model_module_version": "1.2.0",
      "model_name": "LayoutModel",
      "state": {}
     },
     "64ca71755dea426c8a4b808abd595b42": {
      "model_module": "@jupyter-widgets/controls",
      "model_module_version": "1.5.0",
      "model_name": "IntSliderModel",
      "state": {
       "layout": "IPY_MODEL_94e822b0b87142699956b0b3486e22cd",
       "max": 0,
       "style": "IPY_MODEL_7cd97c20c4864f319b3e8052bf900566"
      }
     },
     "64f42983c08f44708edb7e39bd48f0d4": {
      "model_module": "@jupyter-widgets/controls",
      "model_module_version": "1.5.0",
      "model_name": "LinkModel",
      "state": {
       "source": [
        "IPY_MODEL_4fbe978adb584bb7a874aa47016a05cc",
        "max"
       ],
       "target": [
        "IPY_MODEL_0ee119e013a74d83885e95fce563456b",
        "max_frame"
       ]
      }
     },
     "652cbaea15754a49868c4bd0276a26fe": {
      "model_module": "@jupyter-widgets/controls",
      "model_module_version": "1.5.0",
      "model_name": "ButtonStyleModel",
      "state": {}
     },
     "65ab59cf297a4c0a8804edd7fc9c226a": {
      "model_module": "@jupyter-widgets/controls",
      "model_module_version": "1.5.0",
      "model_name": "LinkModel",
      "state": {
       "source": [
        "IPY_MODEL_c025f3133c2a44c2aebe62be9d633ccb",
        "value"
       ],
       "target": [
        "IPY_MODEL_4ef1ad095621401daa82a56d1ffe8dc4",
        "frame"
       ]
      }
     },
     "65b5c1b2e5da4de9baca85a0c20596ab": {
      "model_module": "@jupyter-widgets/base",
      "model_module_version": "1.2.0",
      "model_name": "LayoutModel",
      "state": {}
     },
     "665e9ac2f7ff440892c2d42718035f02": {
      "model_module": "@jupyter-widgets/controls",
      "model_module_version": "1.5.0",
      "model_name": "SliderStyleModel",
      "state": {
       "description_width": ""
      }
     },
     "66c98f9ffe994291b2cabe627b2013d7": {
      "model_module": "@jupyter-widgets/controls",
      "model_module_version": "1.5.0",
      "model_name": "ImageModel",
      "state": {
       "layout": "IPY_MODEL_b860a0a9b97041b7bbc6f0fe46e31b91",
       "width": "900.0"
      }
     },
     "67024ee8d65c49f9862837a08b91e172": {
      "model_module": "@jupyter-widgets/controls",
      "model_module_version": "1.5.0",
      "model_name": "LinkModel",
      "state": {
       "source": [
        "IPY_MODEL_9ea6eb105805429e82b112e6c9e67307",
        "max"
       ],
       "target": [
        "IPY_MODEL_4ef1ad095621401daa82a56d1ffe8dc4",
        "max_frame"
       ]
      }
     },
     "689b37fe9fd64a15a366360c7b1fca63": {
      "model_module": "@jupyter-widgets/base",
      "model_module_version": "1.2.0",
      "model_name": "LayoutModel",
      "state": {}
     },
     "68a2394c2d9a4c7f8cb7e695b9024e3c": {
      "model_module": "@jupyter-widgets/base",
      "model_module_version": "1.2.0",
      "model_name": "LayoutModel",
      "state": {}
     },
     "6a0cdf694e0a442e9c95b8276ab597c6": {
      "model_module": "@jupyter-widgets/controls",
      "model_module_version": "1.5.0",
      "model_name": "HBoxModel",
      "state": {
       "children": [
        "IPY_MODEL_2d59815229534c74954c594467402af6",
        "IPY_MODEL_bb7ace8cdaf14c12bccc3fe4b7199e6d"
       ],
       "layout": "IPY_MODEL_a7e297725ad54b03a3dc72ee19606be3"
      }
     },
     "6a380e34ad684bfc8d3a90c350dbb42c": {
      "model_module": "@jupyter-widgets/controls",
      "model_module_version": "1.5.0",
      "model_name": "LinkModel",
      "state": {
       "source": [
        "IPY_MODEL_2d59815229534c74954c594467402af6",
        "max"
       ],
       "target": [
        "IPY_MODEL_2ccbe191fe2b4f9d8d51714108294e26",
        "max_frame"
       ]
      }
     },
     "6af8d24b2b7840f8a9174830a8cac768": {
      "model_module": "@jupyter-widgets/controls",
      "model_module_version": "1.5.0",
      "model_name": "LinkModel",
      "state": {
       "source": [
        "IPY_MODEL_7c45a844de4e4cf895c716ce51116e5b",
        "value"
       ],
       "target": [
        "IPY_MODEL_6b7f7be6cb0d478e8002a7fe819e55aa",
        "frame"
       ]
      }
     },
     "6b7498827f0342d1a8623dd4679d8cc2": {
      "model_module": "@jupyter-widgets/controls",
      "model_module_version": "1.5.0",
      "model_name": "PlayModel",
      "state": {
       "layout": "IPY_MODEL_9f440e4482024b9684a64db28cee5425",
       "max": 0,
       "style": "IPY_MODEL_d7570f66913646d6805f5086985e674e"
      }
     },
     "6b7f7be6cb0d478e8002a7fe819e55aa": {
      "model_module": "nglview-js-widgets",
      "model_module_version": "2.7.1",
      "model_name": "NGLModel",
      "state": {
       "_camera_orientation": [
        11.748682003885202,
        0,
        0,
        0,
        0,
        11.748682003885202,
        0,
        0,
        0,
        0,
        11.748682003885202,
        0,
        -1.8113499879837036,
        -0.3889000415802002,
        0.0037999749183654785,
        1
       ],
       "_camera_str": "orthographic",
       "_gui_theme": null,
       "_ibtn_fullscreen": "IPY_MODEL_f1b58f50ac0a4069aa66b85f4c60dfd6",
       "_igui": null,
       "_iplayer": "IPY_MODEL_9008dab0a4b24d0d86be46882723ed19",
       "_ngl_color_dict": {},
       "_ngl_coordinate_resource": {},
       "_ngl_full_stage_parameters": {
        "ambientColor": 14540253,
        "ambientIntensity": 0.2,
        "backgroundColor": "white",
        "cameraEyeSep": 0.3,
        "cameraFov": 40,
        "cameraType": "perspective",
        "clipDist": 10,
        "clipFar": 100,
        "clipNear": 0,
        "fogFar": 100,
        "fogNear": 50,
        "hoverTimeout": 0,
        "impostor": true,
        "lightColor": 14540253,
        "lightIntensity": 1,
        "mousePreset": "default",
        "panSpeed": 1,
        "quality": "medium",
        "rotateSpeed": 2,
        "sampleLevel": 0,
        "tooltip": true,
        "workerDefault": true,
        "zoomSpeed": 1.2
       },
       "_ngl_msg_archive": [
        {
         "args": [
          {
           "binary": false,
           "data": "\nQCElemental\n\n  9  8  0  0  0  0  0  0  0  0  0\n    0.9868   -0.0056    0.0038 C   0  0     0  0  0  0  0  0\n    2.5093    0.0197   -0.0155 C   0  0     0  0  0  0  0  0\n    3.0530    1.3461    0.0232 O   0  0     0  0  0  0  0  0\n    0.6177   -1.0421    0.0252 H   0  0     0  0  0  0  0  0\n    0.5697    0.4765   -0.8942 H   0  0     0  0  0  0  0  0\n    0.6003    0.5207    0.8877 H   0  0     0  0  0  0  0  0\n    2.8902   -0.5323   -0.8953 H   0  0     0  0  0  0  0  0\n    2.9114   -0.4777    0.8795 H   0  0     0  0  0  0  0  0\n    2.7317    1.8199   -0.7640 H   0  0     0  0  0  0  0  0\n  1  2  1  0  0  0  0\n  1  4  1  0  0  0  0\n  1  5  1  0  0  0  0\n  1  6  1  0  0  0  0\n  2  3  1  0  0  0  0\n  2  7  1  0  0  0  0\n  2  8  1  0  0  0  0\n  3  9  1  0  0  0  0\n",
           "type": "blob"
          }
         ],
         "kwargs": {
          "defaultRepresentation": true,
          "ext": "sdf"
         },
         "methodName": "loadFile",
         "reconstruc_color_scheme": false,
         "target": "Stage",
         "type": "call_method"
        }
       ],
       "_ngl_original_stage_parameters": {
        "ambientColor": 14540253,
        "ambientIntensity": 0.2,
        "backgroundColor": "white",
        "cameraEyeSep": 0.3,
        "cameraFov": 40,
        "cameraType": "perspective",
        "clipDist": 10,
        "clipFar": 100,
        "clipNear": 0,
        "fogFar": 100,
        "fogNear": 50,
        "hoverTimeout": 0,
        "impostor": true,
        "lightColor": 14540253,
        "lightIntensity": 1,
        "mousePreset": "default",
        "panSpeed": 1,
        "quality": "medium",
        "rotateSpeed": 2,
        "sampleLevel": 0,
        "tooltip": true,
        "workerDefault": true,
        "zoomSpeed": 1.2
       },
       "_ngl_repr_dict": {
        "0": {
         "0": {
          "params": {
           "aspectRatio": 1.5,
           "assembly": "default",
           "bondScale": 0.3,
           "bondSpacing": 0.75,
           "clipCenter": {
            "x": 0,
            "y": 0,
            "z": 0
           },
           "clipNear": 0,
           "clipRadius": 0,
           "colorMode": "hcl",
           "colorReverse": false,
           "colorScale": "",
           "colorScheme": "element",
           "colorValue": 9474192,
           "cylinderOnly": false,
           "defaultAssembly": "",
           "depthWrite": true,
           "diffuse": 16777215,
           "diffuseInterior": false,
           "disableImpostor": false,
           "disablePicking": false,
           "flatShaded": false,
           "interiorColor": 2236962,
           "interiorDarkening": 0,
           "lazy": false,
           "lineOnly": false,
           "linewidth": 2,
           "matrix": {
            "elements": [
             1,
             0,
             0,
             0,
             0,
             1,
             0,
             0,
             0,
             0,
             1,
             0,
             0,
             0,
             0,
             1
            ]
           },
           "metalness": 0,
           "multipleBond": "off",
           "opacity": 1,
           "openEnded": true,
           "quality": "high",
           "radialSegments": 20,
           "radiusData": {},
           "radiusScale": 2,
           "radiusSize": 0.15,
           "radiusType": "size",
           "roughness": 0.4,
           "sele": "",
           "side": "double",
           "sphereDetail": 2,
           "useInteriorColor": true,
           "visible": true,
           "wireframe": false
          },
          "type": "ball+stick"
         }
        }
       },
       "_ngl_serialize": false,
       "_ngl_version": "2.0.0-dev.36",
       "_ngl_view_id": [
        "17B91872-FEE8-490D-9D23-CB2E41180CB8"
       ],
       "_player_dict": {},
       "_scene_position": {},
       "_scene_rotation": {},
       "_synced_model_ids": [],
       "_synced_repr_model_ids": [],
       "_view_height": "",
       "_view_width": "",
       "background": "white",
       "frame": 0,
       "gui_style": null,
       "layout": "IPY_MODEL_94370b7311004680acbd665c6e4dc3ea",
       "max_frame": 0,
       "n_components": 1,
       "picked": {}
      }
     },
     "6c95ff9b4336493b88e7b1ed530f9ec2": {
      "model_module": "@jupyter-widgets/base",
      "model_module_version": "1.2.0",
      "model_name": "LayoutModel",
      "state": {}
     },
     "6cc05778d0a9497884242170a318da7a": {
      "model_module": "@jupyter-widgets/controls",
      "model_module_version": "1.5.0",
      "model_name": "LinkModel",
      "state": {
       "source": [
        "IPY_MODEL_fbfcbe35bbe34be09bce2ea11e5358e7",
        "value"
       ],
       "target": [
        "IPY_MODEL_201bbc9bd7e649bdab39b4d12d0219ad",
        "frame"
       ]
      }
     },
     "6d1cb57839cc4a5a8ba1bb53df075ace": {
      "model_module": "@jupyter-widgets/controls",
      "model_module_version": "1.5.0",
      "model_name": "ImageModel",
      "state": {
       "layout": "IPY_MODEL_da47b0a0381443c191d9198208ed3a7c",
       "width": "900.0"
      }
     },
     "6f15765a990f4fd09dc8110b5cc28440": {
      "model_module": "@jupyter-widgets/base",
      "model_module_version": "1.2.0",
      "model_name": "LayoutModel",
      "state": {
       "width": "34px"
      }
     },
     "6f7e5c88d19c489c823c7034d86f0f2a": {
      "model_module": "@jupyter-widgets/base",
      "model_module_version": "1.2.0",
      "model_name": "LayoutModel",
      "state": {}
     },
     "6faddd677b8a4fc0af6b57c57a76af88": {
      "model_module": "@jupyter-widgets/base",
      "model_module_version": "1.2.0",
      "model_name": "LayoutModel",
      "state": {
       "width": "34px"
      }
     },
     "6fca398a0e2c4403a9ea8c6fabd7b892": {
      "model_module": "@jupyter-widgets/base",
      "model_module_version": "1.2.0",
      "model_name": "LayoutModel",
      "state": {}
     },
     "7078c4e7a78e497a9851abb692d252ff": {
      "model_module": "@jupyter-widgets/base",
      "model_module_version": "1.2.0",
      "model_name": "LayoutModel",
      "state": {}
     },
     "70cc2982ff3742cf9afdf8d49071f71d": {
      "model_module": "@jupyter-widgets/controls",
      "model_module_version": "1.5.0",
      "model_name": "PlayModel",
      "state": {
       "layout": "IPY_MODEL_e09a7855fe9d4e8c8dbf3e0861bf58fa",
       "max": 0,
       "style": "IPY_MODEL_33b4cbfbff2249dbb9ee1aed5b5f55d5"
      }
     },
     "716d189f9c7a43eaa939bcd250f33a4b": {
      "model_module": "nglview-js-widgets",
      "model_module_version": "2.7.1",
      "model_name": "NGLModel",
      "state": {
       "_camera_orientation": [
        22.709006845500973,
        0,
        0,
        0,
        0,
        22.709006845500973,
        0,
        0,
        0,
        0,
        22.709006845500973,
        0,
        -0.04369997978210449,
        -0.15859997272491455,
        -0.0209999680519104,
        1
       ],
       "_camera_str": "orthographic",
       "_gui_theme": null,
       "_ibtn_fullscreen": "IPY_MODEL_a74d8e4c1cc44987b6761fc492fdf6fb",
       "_igui": null,
       "_iplayer": "IPY_MODEL_aa553b7ce5824edfac4310a78e0c268e",
       "_ngl_color_dict": {},
       "_ngl_coordinate_resource": {},
       "_ngl_full_stage_parameters": {
        "ambientColor": 14540253,
        "ambientIntensity": 0.2,
        "backgroundColor": "white",
        "cameraEyeSep": 0.3,
        "cameraFov": 40,
        "cameraType": "perspective",
        "clipDist": 10,
        "clipFar": 100,
        "clipNear": 0,
        "fogFar": 100,
        "fogNear": 50,
        "hoverTimeout": 0,
        "impostor": true,
        "lightColor": 14540253,
        "lightIntensity": 1,
        "mousePreset": "default",
        "panSpeed": 1,
        "quality": "medium",
        "rotateSpeed": 2,
        "sampleLevel": 0,
        "tooltip": true,
        "workerDefault": true,
        "zoomSpeed": 1.2
       },
       "_ngl_msg_archive": [
        {
         "args": [
          {
           "binary": false,
           "data": "\nQCElemental\n\n 19 15  0  0  0  0  0  0  0  0  0\n    2.7393   -1.1018   -0.0747 C   0  0     0  0  0  0  0  0\n    1.9408    0.4079   -0.1117 C   0  0     0  0  0  0  0  0\n    0.7267    0.2231    0.5287 O   0  0     0  0  0  0  0  0\n   -0.4384    0.3217   -0.2732 C   0  0     0  0  0  0  0  0\n   -1.0491    1.7618    0.0811 C   0  0     0  0  0  0  0  0\n   -1.3622   -0.8091    0.2515 C   0  0     0  0  0  0  0  0\n   -2.5939   -0.7999   -0.3807 O   0  0     0  0  0  0  0  0\n    2.1452   -2.2865   -0.4238 H   0  0     0  0  0  0  0  0\n    3.5770   -1.2834    1.2375 H   0  0     0  0  0  0  0  0\n    3.4835   -0.7517   -0.9088 H   0  0     0  0  0  0  0  0\n    1.8994    0.9409   -1.1816 H   0  0     0  0  0  0  0  0\n    2.4769    1.1424    0.5479 H   0  0     0  0  0  0  0  0\n   -0.1027    0.2653   -1.2998 H   0  0     0  0  0  0  0  0\n   -2.0123    2.1884   -0.3964 H   0  0     0  0  0  0  0  0\n   -0.3976    2.6037   -0.3743 H   0  0     0  0  0  0  0  0\n   -0.9836    1.8359    1.3155 H   0  0     0  0  0  0  0  0\n   -1.4608   -0.6398    1.3418 H   0  0     0  0  0  0  0  0\n   -0.7945   -1.7631    0.2868 H   0  0     0  0  0  0  0  0\n   -3.4896   -0.7430    0.4729 H   0  0     0  0  0  0  0  0\n  1  2  1  0  0  0  0\n  1 10  1  0  0  0  0\n  2  3  1  0  0  0  0\n  2 11  1  0  0  0  0\n  2 12  1  0  0  0  0\n  3  4  1  0  0  0  0\n  4  5  1  0  0  0  0\n  4  6  1  0  0  0  0\n  4 13  1  0  0  0  0\n  5 14  1  0  0  0  0\n  5 15  1  0  0  0  0\n  5 16  1  0  0  0  0\n  6  7  1  0  0  0  0\n  6 17  1  0  0  0  0\n  6 18  1  0  0  0  0\n",
           "type": "blob"
          }
         ],
         "kwargs": {
          "defaultRepresentation": true,
          "ext": "sdf"
         },
         "methodName": "loadFile",
         "reconstruc_color_scheme": false,
         "target": "Stage",
         "type": "call_method"
        }
       ],
       "_ngl_original_stage_parameters": {
        "ambientColor": 14540253,
        "ambientIntensity": 0.2,
        "backgroundColor": "white",
        "cameraEyeSep": 0.3,
        "cameraFov": 40,
        "cameraType": "perspective",
        "clipDist": 10,
        "clipFar": 100,
        "clipNear": 0,
        "fogFar": 100,
        "fogNear": 50,
        "hoverTimeout": 0,
        "impostor": true,
        "lightColor": 14540253,
        "lightIntensity": 1,
        "mousePreset": "default",
        "panSpeed": 1,
        "quality": "medium",
        "rotateSpeed": 2,
        "sampleLevel": 0,
        "tooltip": true,
        "workerDefault": true,
        "zoomSpeed": 1.2
       },
       "_ngl_repr_dict": {
        "0": {
         "0": {
          "params": {
           "aspectRatio": 1.5,
           "assembly": "default",
           "bondScale": 0.3,
           "bondSpacing": 0.75,
           "clipCenter": {
            "x": 0,
            "y": 0,
            "z": 0
           },
           "clipNear": 0,
           "clipRadius": 0,
           "colorMode": "hcl",
           "colorReverse": false,
           "colorScale": "",
           "colorScheme": "element",
           "colorValue": 9474192,
           "cylinderOnly": false,
           "defaultAssembly": "",
           "depthWrite": true,
           "diffuse": 16777215,
           "diffuseInterior": false,
           "disableImpostor": false,
           "disablePicking": false,
           "flatShaded": false,
           "interiorColor": 2236962,
           "interiorDarkening": 0,
           "lazy": false,
           "lineOnly": false,
           "linewidth": 2,
           "matrix": {
            "elements": [
             1,
             0,
             0,
             0,
             0,
             1,
             0,
             0,
             0,
             0,
             1,
             0,
             0,
             0,
             0,
             1
            ]
           },
           "metalness": 0,
           "multipleBond": "off",
           "opacity": 1,
           "openEnded": true,
           "quality": "high",
           "radialSegments": 20,
           "radiusData": {},
           "radiusScale": 2,
           "radiusSize": 0.15,
           "radiusType": "size",
           "roughness": 0.4,
           "sele": "",
           "side": "double",
           "sphereDetail": 2,
           "useInteriorColor": true,
           "visible": true,
           "wireframe": false
          },
          "type": "ball+stick"
         }
        }
       },
       "_ngl_serialize": false,
       "_ngl_version": "2.0.0-dev.36",
       "_ngl_view_id": [
        "FB208690-A44D-4D65-A61D-65BF66D3C0A9"
       ],
       "_player_dict": {},
       "_scene_position": {},
       "_scene_rotation": {},
       "_synced_model_ids": [],
       "_synced_repr_model_ids": [],
       "_view_height": "",
       "_view_width": "",
       "background": "white",
       "frame": 0,
       "gui_style": null,
       "layout": "IPY_MODEL_a3db0f2ecb6b4a90a9e38c841f6a9f34",
       "max_frame": 0,
       "n_components": 1,
       "picked": {}
      }
     },
     "71b5c0b8e1324af787c538b44ef1aaf7": {
      "model_module": "@jupyter-widgets/controls",
      "model_module_version": "1.5.0",
      "model_name": "ButtonStyleModel",
      "state": {}
     },
     "72e91e1134274ad09b2b6f238ffb4c6c": {
      "model_module": "@jupyter-widgets/controls",
      "model_module_version": "1.5.0",
      "model_name": "LinkModel",
      "state": {
       "source": [
        "IPY_MODEL_395d9819271b44df9f5a3a2d83f64b24",
        "max"
       ],
       "target": [
        "IPY_MODEL_31e6249953054af98e6d92367b796723",
        "max_frame"
       ]
      }
     },
     "759479cef6c847dd8099162b8af53dd9": {
      "model_module": "@jupyter-widgets/base",
      "model_module_version": "1.2.0",
      "model_name": "LayoutModel",
      "state": {}
     },
     "75cdaae245a44948bf84a17920557cc4": {
      "model_module": "@jupyter-widgets/controls",
      "model_module_version": "1.5.0",
      "model_name": "LinkModel",
      "state": {
       "source": [
        "IPY_MODEL_0bd75db3e3764ce2b08908abb15a314c",
        "max"
       ],
       "target": [
        "IPY_MODEL_187fe5e6abcc442f80ce06478c5c2ff4",
        "max_frame"
       ]
      }
     },
     "7638cf8deedc419299b2cd47813e7d58": {
      "model_module": "@jupyter-widgets/base",
      "model_module_version": "1.2.0",
      "model_name": "LayoutModel",
      "state": {}
     },
     "76aa286afdd24fd4a530c50a3d8abc10": {
      "model_module": "@jupyter-widgets/controls",
      "model_module_version": "1.5.0",
      "model_name": "IntSliderModel",
      "state": {
       "layout": "IPY_MODEL_56f734f629b24e5aad1f3c67600637ff",
       "max": 0,
       "style": "IPY_MODEL_60c643af8e994216a063a28e5e767c20"
      }
     },
     "76d43d500d4548abb64b9e824a22e819": {
      "model_module": "@jupyter-widgets/controls",
      "model_module_version": "1.5.0",
      "model_name": "LinkModel",
      "state": {
       "source": [
        "IPY_MODEL_fbfcbe35bbe34be09bce2ea11e5358e7",
        "max"
       ],
       "target": [
        "IPY_MODEL_201bbc9bd7e649bdab39b4d12d0219ad",
        "max_frame"
       ]
      }
     },
     "778a9f147663408cb0147df3ff7e6e7c": {
      "model_module": "@jupyter-widgets/controls",
      "model_module_version": "1.5.0",
      "model_name": "LinkModel",
      "state": {
       "source": [
        "IPY_MODEL_1d4d5af91efc4aceb47d7591eda45365",
        "max"
       ],
       "target": [
        "IPY_MODEL_2da5123add1b421bb9463e71b01b8107",
        "max_frame"
       ]
      }
     },
     "780ac242612d449caf2a0837246c77fb": {
      "model_module": "@jupyter-widgets/controls",
      "model_module_version": "1.5.0",
      "model_name": "DescriptionStyleModel",
      "state": {
       "description_width": ""
      }
     },
     "782dfcb9dc12440b9b18b9425d5ec7bc": {
      "model_module": "@jupyter-widgets/controls",
      "model_module_version": "1.5.0",
      "model_name": "LinkModel",
      "state": {
       "source": [
        "IPY_MODEL_beb56c8ddb5c45a6822b28f08d3e2cd2",
        "value"
       ],
       "target": [
        "IPY_MODEL_bee017367ca44506a20a7d58b3be4b02",
        "frame"
       ]
      }
     },
     "788e2e705f404e3d8ad8eaea05969ecb": {
      "model_module": "@jupyter-widgets/controls",
      "model_module_version": "1.5.0",
      "model_name": "PlayModel",
      "state": {
       "layout": "IPY_MODEL_41d1e0a25324438dbaee2b93155520f2",
       "max": 0,
       "style": "IPY_MODEL_804245e010b34f3584ad9940d88c6967"
      }
     },
     "78b467ab1dfd4fe3b97f834cf19d916b": {
      "model_module": "@jupyter-widgets/controls",
      "model_module_version": "1.5.0",
      "model_name": "DescriptionStyleModel",
      "state": {
       "description_width": ""
      }
     },
     "79838dde69f04d06bade6614a7c2f054": {
      "model_module": "@jupyter-widgets/controls",
      "model_module_version": "1.5.0",
      "model_name": "DescriptionStyleModel",
      "state": {
       "description_width": ""
      }
     },
     "7992b4a87ef14a80a1dd27f5ffa58333": {
      "model_module": "@jupyter-widgets/controls",
      "model_module_version": "1.5.0",
      "model_name": "DescriptionStyleModel",
      "state": {
       "description_width": ""
      }
     },
     "7a1db8e60166417883cb87c5aa5b4fc0": {
      "model_module": "@jupyter-widgets/controls",
      "model_module_version": "1.5.0",
      "model_name": "HBoxModel",
      "state": {
       "children": [
        "IPY_MODEL_2c5722d8e73b4eea8964df340a29bc18",
        "IPY_MODEL_45a80eb4e95e4881b16c20a40b8d3300"
       ],
       "layout": "IPY_MODEL_0fb2180fe5d84fabb58db9c32a99bcb9"
      }
     },
     "7a3e91b675964e4195264dd3d20a5db7": {
      "model_module": "@jupyter-widgets/base",
      "model_module_version": "1.2.0",
      "model_name": "LayoutModel",
      "state": {
       "width": "34px"
      }
     },
     "7adc9110fc1645fd9f72ec7d262ac172": {
      "model_module": "@jupyter-widgets/base",
      "model_module_version": "1.2.0",
      "model_name": "LayoutModel",
      "state": {}
     },
     "7aef0a2f85ec47bd95a5bdec885158b7": {
      "model_module": "@jupyter-widgets/controls",
      "model_module_version": "1.5.0",
      "model_name": "HBoxModel",
      "state": {
       "children": [
        "IPY_MODEL_6b7498827f0342d1a8623dd4679d8cc2",
        "IPY_MODEL_d1f4d8b1f12d42b4ae67f2e4abf8080b"
       ],
       "layout": "IPY_MODEL_65b5c1b2e5da4de9baca85a0c20596ab"
      }
     },
     "7afdc2ed6ac448988a3d7aaf5db3a5c6": {
      "model_module": "@jupyter-widgets/controls",
      "model_module_version": "1.5.0",
      "model_name": "ButtonStyleModel",
      "state": {}
     },
     "7bf24758de3e418396649bcae66e19aa": {
      "model_module": "@jupyter-widgets/controls",
      "model_module_version": "1.5.0",
      "model_name": "ImageModel",
      "state": {
       "layout": "IPY_MODEL_cd87f44589ec4ba483e8f7ea80490d57",
       "width": "900.0"
      }
     },
     "7c45a844de4e4cf895c716ce51116e5b": {
      "model_module": "@jupyter-widgets/controls",
      "model_module_version": "1.5.0",
      "model_name": "PlayModel",
      "state": {
       "layout": "IPY_MODEL_1c7499b6569842bb989859a3f8abc1e2",
       "max": 0,
       "style": "IPY_MODEL_914d99719d674b708177439da816a83f"
      }
     },
     "7cd97c20c4864f319b3e8052bf900566": {
      "model_module": "@jupyter-widgets/controls",
      "model_module_version": "1.5.0",
      "model_name": "SliderStyleModel",
      "state": {
       "description_width": ""
      }
     },
     "7d034781c4a049a2873c810b51d0538b": {
      "model_module": "@jupyter-widgets/controls",
      "model_module_version": "1.5.0",
      "model_name": "DescriptionStyleModel",
      "state": {
       "description_width": ""
      }
     },
     "7d1dd44e0fea4676848940f75d150490": {
      "model_module": "@jupyter-widgets/controls",
      "model_module_version": "1.5.0",
      "model_name": "DescriptionStyleModel",
      "state": {
       "description_width": ""
      }
     },
     "7d948f499d914e8ca7384df9406f5f9c": {
      "model_module": "@jupyter-widgets/controls",
      "model_module_version": "1.5.0",
      "model_name": "LinkModel",
      "state": {
       "source": [
        "IPY_MODEL_d0857da9e7454dce843ea2c53098d5d1",
        "value"
       ],
       "target": [
        "IPY_MODEL_23728bef7863453a81bff6e2bf781e02",
        "value"
       ]
      }
     },
     "7da0f13b61d74f0ca0842f2c54faeb0f": {
      "model_module": "@jupyter-widgets/base",
      "model_module_version": "1.2.0",
      "model_name": "LayoutModel",
      "state": {}
     },
     "7e314eab05214437b154ad1ac3013740": {
      "model_module": "@jupyter-widgets/controls",
      "model_module_version": "1.5.0",
      "model_name": "LinkModel",
      "state": {
       "source": [
        "IPY_MODEL_804b0dbd10ef4420927cb157f70173c5",
        "value"
       ],
       "target": [
        "IPY_MODEL_2da5123add1b421bb9463e71b01b8107",
        "frame"
       ]
      }
     },
     "7e31f025bc364f5381432bc1ea5442c8": {
      "model_module": "@jupyter-widgets/controls",
      "model_module_version": "1.5.0",
      "model_name": "HBoxModel",
      "state": {
       "children": [
        "IPY_MODEL_fbfcbe35bbe34be09bce2ea11e5358e7",
        "IPY_MODEL_8c03dccf879b4332b579b248b922e8d3"
       ],
       "layout": "IPY_MODEL_c104d3fa1f954d18a1fcf2ab3d271b58"
      }
     },
     "7f21711394db4bb4b658af8b8ac58d4f": {
      "model_module": "@jupyter-widgets/controls",
      "model_module_version": "1.5.0",
      "model_name": "LinkModel",
      "state": {
       "source": [
        "IPY_MODEL_6b7498827f0342d1a8623dd4679d8cc2",
        "value"
       ],
       "target": [
        "IPY_MODEL_38282500b2694aab9b6bb2a4eed745a7",
        "frame"
       ]
      }
     },
     "7f8a671522a44a80aca32d550af91897": {
      "model_module": "@jupyter-widgets/controls",
      "model_module_version": "1.5.0",
      "model_name": "LinkModel",
      "state": {
       "source": [
        "IPY_MODEL_2d59815229534c74954c594467402af6",
        "value"
       ],
       "target": [
        "IPY_MODEL_bb7ace8cdaf14c12bccc3fe4b7199e6d",
        "value"
       ]
      }
     },
     "804245e010b34f3584ad9940d88c6967": {
      "model_module": "@jupyter-widgets/controls",
      "model_module_version": "1.5.0",
      "model_name": "DescriptionStyleModel",
      "state": {
       "description_width": ""
      }
     },
     "804b0dbd10ef4420927cb157f70173c5": {
      "model_module": "@jupyter-widgets/controls",
      "model_module_version": "1.5.0",
      "model_name": "PlayModel",
      "state": {
       "layout": "IPY_MODEL_2e1ff1b1610c4bdeb2ba483e3c64c4c4",
       "max": 0,
       "style": "IPY_MODEL_2631151dcae2428abfa746acf59931a4"
      }
     },
     "813e64819f2c48ffa825439c630fd04c": {
      "model_module": "@jupyter-widgets/controls",
      "model_module_version": "1.5.0",
      "model_name": "IntSliderModel",
      "state": {
       "layout": "IPY_MODEL_3c41950f76c949fc8e41b138a001a41c",
       "max": 0,
       "style": "IPY_MODEL_025b60cd6a344861936f7c8c444f8c22"
      }
     },
     "81a40990c35b4ff4a0cd07ce33c93f05": {
      "model_module": "@jupyter-widgets/controls",
      "model_module_version": "1.5.0",
      "model_name": "LinkModel",
      "state": {
       "source": [
        "IPY_MODEL_85b7429944484dbab2d8c2a0dcde8a8b",
        "value"
       ],
       "target": [
        "IPY_MODEL_959584c30f9e41c7870ec9e50e1273ef",
        "value"
       ]
      }
     },
     "81cc0a680b7d470a80bdcab1d21dc903": {
      "model_module": "@jupyter-widgets/controls",
      "model_module_version": "1.5.0",
      "model_name": "LinkModel",
      "state": {
       "source": [
        "IPY_MODEL_804b0dbd10ef4420927cb157f70173c5",
        "value"
       ],
       "target": [
        "IPY_MODEL_1d4d5af91efc4aceb47d7591eda45365",
        "value"
       ]
      }
     },
     "81e73632a1d2495abb6547d6fee12fc8": {
      "model_module": "@jupyter-widgets/controls",
      "model_module_version": "1.5.0",
      "model_name": "PlayModel",
      "state": {
       "layout": "IPY_MODEL_136be29f61694934baa3ac8412116412",
       "max": 0,
       "style": "IPY_MODEL_fbe71157d3ea46a385e1396ca95b6fb6"
      }
     },
     "8393ca6ff8224589b486fb251a36b548": {
      "model_module": "@jupyter-widgets/base",
      "model_module_version": "1.2.0",
      "model_name": "LayoutModel",
      "state": {}
     },
     "83c12a455c8e447fa7ea4b92dab83a1e": {
      "model_module": "@jupyter-widgets/base",
      "model_module_version": "1.2.0",
      "model_name": "LayoutModel",
      "state": {}
     },
     "84f61066c7cd47f0b2e217d7160b77f8": {
      "model_module": "@jupyter-widgets/controls",
      "model_module_version": "1.5.0",
      "model_name": "ButtonModel",
      "state": {
       "icon": "compress",
       "layout": "IPY_MODEL_8d91eae0a0a747b8a90c007c19884a69",
       "style": "IPY_MODEL_e956d3c975e64299ac9bc2d85117bc2b"
      }
     },
     "85b7429944484dbab2d8c2a0dcde8a8b": {
      "model_module": "@jupyter-widgets/controls",
      "model_module_version": "1.5.0",
      "model_name": "PlayModel",
      "state": {
       "layout": "IPY_MODEL_301d163479944b1ebc256c3bb53da485",
       "max": 0,
       "style": "IPY_MODEL_0d1af06b69a645daaff616e0ec9ddd01"
      }
     },
     "85f871c4db634c3f9eb9435fe922f280": {
      "model_module": "@jupyter-widgets/controls",
      "model_module_version": "1.5.0",
      "model_name": "LinkModel",
      "state": {
       "source": [
        "IPY_MODEL_081be0d5367640af85a2318d7866deaf",
        "max"
       ],
       "target": [
        "IPY_MODEL_2f390cf11c434e5b9d0f890b37f2d9a6",
        "max_frame"
       ]
      }
     },
     "86300375c1e94bf3a75415e18cec367c": {
      "model_module": "@jupyter-widgets/base",
      "model_module_version": "1.2.0",
      "model_name": "LayoutModel",
      "state": {}
     },
     "86be563ee65a41aaa4384de646a6547b": {
      "model_module": "@jupyter-widgets/controls",
      "model_module_version": "1.5.0",
      "model_name": "PlayModel",
      "state": {
       "layout": "IPY_MODEL_dfafcf0f7cf44ee09580953b1d68241c",
       "max": 0,
       "style": "IPY_MODEL_9ae7535a113844bfac03b873622947da"
      }
     },
     "870e2cbfad364f63af63e88f65a44868": {
      "model_module": "@jupyter-widgets/base",
      "model_module_version": "1.2.0",
      "model_name": "LayoutModel",
      "state": {}
     },
     "87a616aa9c0d4ea4817c7fa06f7bd8a0": {
      "model_module": "@jupyter-widgets/controls",
      "model_module_version": "1.5.0",
      "model_name": "LinkModel",
      "state": {
       "source": [
        "IPY_MODEL_ec3faf11e1ef4f5bbd02fe3af81b79aa",
        "value"
       ],
       "target": [
        "IPY_MODEL_e7ea99e76d764651b7916f4564039d83",
        "frame"
       ]
      }
     },
     "87ed7b5329084174a0d5267134589230": {
      "model_module": "@jupyter-widgets/controls",
      "model_module_version": "1.5.0",
      "model_name": "ButtonStyleModel",
      "state": {}
     },
     "885190f4a8f447a4afa1d4f90bb680b7": {
      "model_module": "@jupyter-widgets/controls",
      "model_module_version": "1.5.0",
      "model_name": "ImageModel",
      "state": {
       "layout": "IPY_MODEL_6c95ff9b4336493b88e7b1ed530f9ec2",
       "width": "900.0"
      }
     },
     "8883190d67304000b676a059b16effd6": {
      "model_module": "@jupyter-widgets/controls",
      "model_module_version": "1.5.0",
      "model_name": "LinkModel",
      "state": {
       "source": [
        "IPY_MODEL_e3fe6dcb9d3f486e8ca728174eaf2bb8",
        "value"
       ],
       "target": [
        "IPY_MODEL_4fbe978adb584bb7a874aa47016a05cc",
        "value"
       ]
      }
     },
     "889c802c68a749ebb95ee4ad92b69dd3": {
      "model_module": "@jupyter-widgets/base",
      "model_module_version": "1.2.0",
      "model_name": "LayoutModel",
      "state": {}
     },
     "8924a2a61f4c43db80402d0541cfef2b": {
      "model_module": "@jupyter-widgets/controls",
      "model_module_version": "1.5.0",
      "model_name": "LinkModel",
      "state": {
       "source": [
        "IPY_MODEL_86be563ee65a41aaa4384de646a6547b",
        "value"
       ],
       "target": [
        "IPY_MODEL_93188f1b9278462cab3ea9e6a75dc1ed",
        "frame"
       ]
      }
     },
     "89f17244f1a640908ccf94222d779f68": {
      "model_module": "@jupyter-widgets/controls",
      "model_module_version": "1.5.0",
      "model_name": "ButtonStyleModel",
      "state": {}
     },
     "8bbd8bce6df845eaabb6c4adca2ebfdc": {
      "model_module": "@jupyter-widgets/base",
      "model_module_version": "1.2.0",
      "model_name": "LayoutModel",
      "state": {}
     },
     "8c03dccf879b4332b579b248b922e8d3": {
      "model_module": "@jupyter-widgets/controls",
      "model_module_version": "1.5.0",
      "model_name": "IntSliderModel",
      "state": {
       "layout": "IPY_MODEL_f9cf7dc2c8f1425b88f3cf72c060e22c",
       "max": 0,
       "style": "IPY_MODEL_f40f5b0ddcd745128ad029c2d107dad2"
      }
     },
     "8c3370fb4a5b4a6b81602f4835eee0d8": {
      "model_module": "@jupyter-widgets/controls",
      "model_module_version": "1.5.0",
      "model_name": "HBoxModel",
      "state": {
       "children": [
        "IPY_MODEL_6096812504a94359b57cf47a7740ad85",
        "IPY_MODEL_cbaa71bccb1746689611f15a14ba49e1"
       ],
       "layout": "IPY_MODEL_f0946e76b3d54d7ca8bd6ad75e37fe35"
      }
     },
     "8c63a441d20a4b749521fa8008b8138b": {
      "model_module": "@jupyter-widgets/controls",
      "model_module_version": "1.5.0",
      "model_name": "LinkModel",
      "state": {
       "source": [
        "IPY_MODEL_bb7ace8cdaf14c12bccc3fe4b7199e6d",
        "max"
       ],
       "target": [
        "IPY_MODEL_2ccbe191fe2b4f9d8d51714108294e26",
        "max_frame"
       ]
      }
     },
     "8d85fb6e5733496e87f3eeb702b45d27": {
      "model_module": "@jupyter-widgets/controls",
      "model_module_version": "1.5.0",
      "model_name": "ButtonModel",
      "state": {
       "icon": "compress",
       "layout": "IPY_MODEL_093bc4421092469e9729ad20c8514c0e",
       "style": "IPY_MODEL_89f17244f1a640908ccf94222d779f68"
      }
     },
     "8d91eae0a0a747b8a90c007c19884a69": {
      "model_module": "@jupyter-widgets/base",
      "model_module_version": "1.2.0",
      "model_name": "LayoutModel",
      "state": {
       "width": "34px"
      }
     },
     "8e04649850ea473fa326c7f5bc34a05e": {
      "model_module": "@jupyter-widgets/controls",
      "model_module_version": "1.5.0",
      "model_name": "DescriptionStyleModel",
      "state": {
       "description_width": ""
      }
     },
     "8ebb9c735e584ba99d89166a0abdcbf0": {
      "model_module": "@jupyter-widgets/controls",
      "model_module_version": "1.5.0",
      "model_name": "ImageModel",
      "state": {
       "layout": "IPY_MODEL_b51640f34e3a4a8c9de5ac03284101e5",
       "width": "900.0"
      }
     },
     "8f16d579ea704df6a0b7d40577db59aa": {
      "model_module": "@jupyter-widgets/base",
      "model_module_version": "1.2.0",
      "model_name": "LayoutModel",
      "state": {}
     },
     "8f3e4befe7c8457198f65d703c1a2652": {
      "model_module": "@jupyter-widgets/controls",
      "model_module_version": "1.5.0",
      "model_name": "LinkModel",
      "state": {
       "source": [
        "IPY_MODEL_3c2c099563af4e2693fb678217add5d7",
        "value"
       ],
       "target": [
        "IPY_MODEL_813e64819f2c48ffa825439c630fd04c",
        "value"
       ]
      }
     },
     "8f83ef79f74a45159b2994db52adb7a3": {
      "model_module": "@jupyter-widgets/controls",
      "model_module_version": "1.5.0",
      "model_name": "ImageModel",
      "state": {
       "layout": "IPY_MODEL_d3c7da689eb94657a0a218eff741e8aa",
       "width": "900.0"
      }
     },
     "8fbf297c4f4d444ab15179f7a06af665": {
      "model_module": "@jupyter-widgets/base",
      "model_module_version": "1.2.0",
      "model_name": "LayoutModel",
      "state": {}
     },
     "9008dab0a4b24d0d86be46882723ed19": {
      "model_module": "@jupyter-widgets/controls",
      "model_module_version": "1.5.0",
      "model_name": "HBoxModel",
      "state": {
       "children": [
        "IPY_MODEL_7c45a844de4e4cf895c716ce51116e5b",
        "IPY_MODEL_76aa286afdd24fd4a530c50a3d8abc10"
       ],
       "layout": "IPY_MODEL_1e0a56f287524d629b4de344934c5320"
      }
     },
     "907a2de779514e4c8bfd146b023ed39d": {
      "model_module": "@jupyter-widgets/base",
      "model_module_version": "1.2.0",
      "model_name": "LayoutModel",
      "state": {}
     },
     "90ac183abd7c4e17be6b58a018938fb3": {
      "model_module": "@jupyter-widgets/base",
      "model_module_version": "1.2.0",
      "model_name": "LayoutModel",
      "state": {}
     },
     "914d99719d674b708177439da816a83f": {
      "model_module": "@jupyter-widgets/controls",
      "model_module_version": "1.5.0",
      "model_name": "DescriptionStyleModel",
      "state": {
       "description_width": ""
      }
     },
     "917dd491ac6c476087d5ed02e0ccdd90": {
      "model_module": "@jupyter-widgets/controls",
      "model_module_version": "1.5.0",
      "model_name": "LinkModel",
      "state": {
       "source": [
        "IPY_MODEL_10d1be046b224fb2928ba76791cffb1b",
        "value"
       ],
       "target": [
        "IPY_MODEL_716d189f9c7a43eaa939bcd250f33a4b",
        "frame"
       ]
      }
     },
     "9198c206217b4888a5dd2af43e91d731": {
      "model_module": "@jupyter-widgets/controls",
      "model_module_version": "1.5.0",
      "model_name": "SliderStyleModel",
      "state": {
       "description_width": ""
      }
     },
     "919c815bc4cc439b883b046a278f820d": {
      "model_module": "@jupyter-widgets/controls",
      "model_module_version": "1.5.0",
      "model_name": "HBoxModel",
      "state": {
       "children": [
        "IPY_MODEL_081be0d5367640af85a2318d7866deaf",
        "IPY_MODEL_53d47149099a4d1f865b993ba7e687a1"
       ],
       "layout": "IPY_MODEL_4a9422221b344fa5b21655488b6c90a3"
      }
     },
     "923526252c964b5b8b2c793e05404e3c": {
      "model_module": "@jupyter-widgets/controls",
      "model_module_version": "1.5.0",
      "model_name": "ImageModel",
      "state": {
       "layout": "IPY_MODEL_13c6bbaf97fc41daa36e9f91a47c6c04",
       "width": "900.0"
      }
     },
     "93188f1b9278462cab3ea9e6a75dc1ed": {
      "model_module": "nglview-js-widgets",
      "model_module_version": "2.7.1",
      "model_name": "NGLModel",
      "state": {
       "_camera_orientation": [
        13.130628529587725,
        0,
        0,
        0,
        0,
        13.130628529587725,
        0,
        0,
        0,
        0,
        13.130628529587725,
        0,
        -3.039299964904785,
        -0.696899950504303,
        0.6376499831676483,
        1
       ],
       "_camera_str": "orthographic",
       "_gui_theme": null,
       "_ibtn_fullscreen": "IPY_MODEL_61cf96301de34e978dd0c0243052bb50",
       "_igui": null,
       "_iplayer": "IPY_MODEL_209dcb00cdfa4779bd8711bd18a57932",
       "_ngl_color_dict": {},
       "_ngl_coordinate_resource": {},
       "_ngl_full_stage_parameters": {
        "ambientColor": 14540253,
        "ambientIntensity": 0.2,
        "backgroundColor": "white",
        "cameraEyeSep": 0.3,
        "cameraFov": 40,
        "cameraType": "perspective",
        "clipDist": 10,
        "clipFar": 100,
        "clipNear": 0,
        "fogFar": 100,
        "fogNear": 50,
        "hoverTimeout": 0,
        "impostor": true,
        "lightColor": 14540253,
        "lightIntensity": 1,
        "mousePreset": "default",
        "panSpeed": 1,
        "quality": "medium",
        "rotateSpeed": 2,
        "sampleLevel": 0,
        "tooltip": true,
        "workerDefault": true,
        "zoomSpeed": 1.2
       },
       "_ngl_msg_archive": [
        {
         "args": [
          {
           "binary": false,
           "data": "\nQCElemental\n\n 15 15  0  0  0  0  0  0  0  0  0\n    1.0585   -0.0940   -0.0659 N   0  0     0  0  0  0  0  0\n    2.5047   -0.0614   -0.0256 C   0  0     0  0  0  0  0  0\n    3.2402   -0.6480   -1.2062 C   0  0     0  0  0  0  0  0\n    3.2011    0.8565   -1.0021 C   0  0     0  0  0  0  0  0\n    4.4552    1.5904   -0.6013 C   0  0     0  0  0  0  0  0\n    5.3117    1.8842   -1.7137 O   0  0     0  0  0  0  0  0\n    0.6689    0.6431    0.5271 H   0  0     0  0  0  0  0  0\n    0.7140   -0.9846    0.3015 H   0  0     0  0  0  0  0  0\n    3.0077   -0.1811    0.9445 H   0  0     0  0  0  0  0  0\n    2.6272   -1.0604   -2.0077 H   0  0     0  0  0  0  0  0\n    4.1758   -1.1755   -1.0083 H   0  0     0  0  0  0  0  0\n    2.5329    1.3997   -1.6746 H   0  0     0  0  0  0  0  0\n    4.9982    1.0070    0.1688 H   0  0     0  0  0  0  0  0\n    4.2097    2.5693   -0.1604 H   0  0     0  0  0  0  0  0\n    5.4097    1.0574   -2.2198 H   0  0     0  0  0  0  0  0\n  1  2  1  0  0  0  0\n  1  7  1  0  0  0  0\n  1  8  1  0  0  0  0\n  2  3  1  0  0  0  0\n  2  4  1  0  0  0  0\n  2  9  1  0  0  0  0\n  3  4  1  0  0  0  0\n  3 10  1  0  0  0  0\n  3 11  1  0  0  0  0\n  4  5  1  0  0  0  0\n  4 12  1  0  0  0  0\n  5  6  1  0  0  0  0\n  5 13  1  0  0  0  0\n  5 14  1  0  0  0  0\n  6 15  1  0  0  0  0\n",
           "type": "blob"
          }
         ],
         "kwargs": {
          "defaultRepresentation": true,
          "ext": "sdf"
         },
         "methodName": "loadFile",
         "reconstruc_color_scheme": false,
         "target": "Stage",
         "type": "call_method"
        }
       ],
       "_ngl_original_stage_parameters": {
        "ambientColor": 14540253,
        "ambientIntensity": 0.2,
        "backgroundColor": "white",
        "cameraEyeSep": 0.3,
        "cameraFov": 40,
        "cameraType": "perspective",
        "clipDist": 10,
        "clipFar": 100,
        "clipNear": 0,
        "fogFar": 100,
        "fogNear": 50,
        "hoverTimeout": 0,
        "impostor": true,
        "lightColor": 14540253,
        "lightIntensity": 1,
        "mousePreset": "default",
        "panSpeed": 1,
        "quality": "medium",
        "rotateSpeed": 2,
        "sampleLevel": 0,
        "tooltip": true,
        "workerDefault": true,
        "zoomSpeed": 1.2
       },
       "_ngl_repr_dict": {
        "0": {
         "0": {
          "params": {
           "aspectRatio": 1.5,
           "assembly": "default",
           "bondScale": 0.3,
           "bondSpacing": 0.75,
           "clipCenter": {
            "x": 0,
            "y": 0,
            "z": 0
           },
           "clipNear": 0,
           "clipRadius": 0,
           "colorMode": "hcl",
           "colorReverse": false,
           "colorScale": "",
           "colorScheme": "element",
           "colorValue": 9474192,
           "cylinderOnly": false,
           "defaultAssembly": "",
           "depthWrite": true,
           "diffuse": 16777215,
           "diffuseInterior": false,
           "disableImpostor": false,
           "disablePicking": false,
           "flatShaded": false,
           "interiorColor": 2236962,
           "interiorDarkening": 0,
           "lazy": false,
           "lineOnly": false,
           "linewidth": 2,
           "matrix": {
            "elements": [
             1,
             0,
             0,
             0,
             0,
             1,
             0,
             0,
             0,
             0,
             1,
             0,
             0,
             0,
             0,
             1
            ]
           },
           "metalness": 0,
           "multipleBond": "off",
           "opacity": 1,
           "openEnded": true,
           "quality": "high",
           "radialSegments": 20,
           "radiusData": {},
           "radiusScale": 2,
           "radiusSize": 0.15,
           "radiusType": "size",
           "roughness": 0.4,
           "sele": "",
           "side": "double",
           "sphereDetail": 2,
           "useInteriorColor": true,
           "visible": true,
           "wireframe": false
          },
          "type": "ball+stick"
         }
        }
       },
       "_ngl_serialize": false,
       "_ngl_version": "2.0.0-dev.36",
       "_ngl_view_id": [
        "A090FBF2-F63B-4093-B77F-5CCEB990E4B2"
       ],
       "_player_dict": {},
       "_scene_position": {},
       "_scene_rotation": {},
       "_synced_model_ids": [],
       "_synced_repr_model_ids": [],
       "_view_height": "",
       "_view_width": "",
       "background": "white",
       "frame": 0,
       "gui_style": null,
       "layout": "IPY_MODEL_d5482d9df5524f059458e6c626b4760a",
       "max_frame": 0,
       "n_components": 1,
       "picked": {}
      }
     },
     "94370b7311004680acbd665c6e4dc3ea": {
      "model_module": "@jupyter-widgets/base",
      "model_module_version": "1.2.0",
      "model_name": "LayoutModel",
      "state": {}
     },
     "94825893482a481ab408638fc7d3e506": {
      "model_module": "@jupyter-widgets/controls",
      "model_module_version": "1.5.0",
      "model_name": "HBoxModel",
      "state": {
       "children": [
        "IPY_MODEL_beb56c8ddb5c45a6822b28f08d3e2cd2",
        "IPY_MODEL_a0c0e14fd7c244908097d4fd342192cb"
       ],
       "layout": "IPY_MODEL_2b43db3cab1947bbaaf75710aeba6a83"
      }
     },
     "94e62e2b5ab1472484b8483366631888": {
      "model_module": "@jupyter-widgets/controls",
      "model_module_version": "1.5.0",
      "model_name": "ButtonModel",
      "state": {
       "icon": "compress",
       "layout": "IPY_MODEL_0663fcc4dd5d4ac4ae8a9318e702b699",
       "style": "IPY_MODEL_010107b2819044fe84f0d9a6b4d1b379"
      }
     },
     "94e822b0b87142699956b0b3486e22cd": {
      "model_module": "@jupyter-widgets/base",
      "model_module_version": "1.2.0",
      "model_name": "LayoutModel",
      "state": {}
     },
     "959584c30f9e41c7870ec9e50e1273ef": {
      "model_module": "@jupyter-widgets/controls",
      "model_module_version": "1.5.0",
      "model_name": "IntSliderModel",
      "state": {
       "layout": "IPY_MODEL_bf9cacac23a14a13ad5184245a692398",
       "max": 0,
       "style": "IPY_MODEL_32773ba479e0427f8079e5fd06cd727b"
      }
     },
     "95c5d51924184fc0bd52429ef3483a15": {
      "model_module": "nglview-js-widgets",
      "model_module_version": "2.7.1",
      "model_name": "ColormakerRegistryModel",
      "state": {
       "_msg_ar": [],
       "_msg_q": [],
       "_ready": true,
       "layout": "IPY_MODEL_e5d2ea6f0dea4a92801999cbf845c1da"
      }
     },
     "95e5a1a48e9a479493166f2d07168744": {
      "model_module": "@jupyter-widgets/controls",
      "model_module_version": "1.5.0",
      "model_name": "IntSliderModel",
      "state": {
       "layout": "IPY_MODEL_332a582e207141ba92a78803a1fa8e8f",
       "max": 0,
       "style": "IPY_MODEL_164b1024c438497cb05edef82fbf2b54"
      }
     },
     "96a84bc2b793448fbf9d9cc813566b4c": {
      "model_module": "@jupyter-widgets/controls",
      "model_module_version": "1.5.0",
      "model_name": "ButtonStyleModel",
      "state": {}
     },
     "9785091d1b094cbd9c0e6601a2e6a291": {
      "model_module": "@jupyter-widgets/controls",
      "model_module_version": "1.5.0",
      "model_name": "LinkModel",
      "state": {
       "source": [
        "IPY_MODEL_eb5799357011401197da905470cc41e7",
        "max"
       ],
       "target": [
        "IPY_MODEL_c5d8541b208b4c5e9a24a6b2d81a03b1",
        "max_frame"
       ]
      }
     },
     "98411e26ab134f42bf43205bbd6eb23e": {
      "model_module": "@jupyter-widgets/controls",
      "model_module_version": "1.5.0",
      "model_name": "ButtonStyleModel",
      "state": {}
     },
     "986c197d89744fda87becb8242b02aaf": {
      "model_module": "@jupyter-widgets/base",
      "model_module_version": "1.2.0",
      "model_name": "LayoutModel",
      "state": {}
     },
     "9878726c21d940c1887b8d0cc7c507bf": {
      "model_module": "@jupyter-widgets/controls",
      "model_module_version": "1.5.0",
      "model_name": "LinkModel",
      "state": {
       "source": [
        "IPY_MODEL_e238f46ec9034d04a4342f559530fc29",
        "max"
       ],
       "target": [
        "IPY_MODEL_5bb4124c96c84bb98f65ba81e252fba6",
        "max_frame"
       ]
      }
     },
     "98d3c76ad0194fd69686cc5e42799977": {
      "model_module": "@jupyter-widgets/controls",
      "model_module_version": "1.5.0",
      "model_name": "ImageModel",
      "state": {
       "layout": "IPY_MODEL_2a2b433332ff4c7da32baa0ae0f84987",
       "width": "900.0"
      }
     },
     "9944640aebe14c78adeb2043f0238768": {
      "model_module": "@jupyter-widgets/controls",
      "model_module_version": "1.5.0",
      "model_name": "LinkModel",
      "state": {
       "source": [
        "IPY_MODEL_d0857da9e7454dce843ea2c53098d5d1",
        "value"
       ],
       "target": [
        "IPY_MODEL_f7c85dd42d4943908cf7d0ecb390edf2",
        "frame"
       ]
      }
     },
     "99480439ce574bd2a9f419c693a1a3e2": {
      "model_module": "@jupyter-widgets/controls",
      "model_module_version": "1.5.0",
      "model_name": "LinkModel",
      "state": {
       "source": [
        "IPY_MODEL_c21da1e34b39438a8c196704a58dc5f3",
        "value"
       ],
       "target": [
        "IPY_MODEL_f697cef67b4a4d1088a72ff8042f07e4",
        "frame"
       ]
      }
     },
     "9962678e102f4e4fa9aa67f3301e0363": {
      "model_module": "@jupyter-widgets/base",
      "model_module_version": "1.2.0",
      "model_name": "LayoutModel",
      "state": {}
     },
     "99fd5e04510d4ecfbc8615e97fa04af8": {
      "model_module": "@jupyter-widgets/controls",
      "model_module_version": "1.5.0",
      "model_name": "LinkModel",
      "state": {
       "source": [
        "IPY_MODEL_e37574371144499391587e9157e8d2b6",
        "max"
       ],
       "target": [
        "IPY_MODEL_3c880efef4b3492c868b1cd7caf66848",
        "max_frame"
       ]
      }
     },
     "9a331aa2c7c54857a96b3403b3599f8b": {
      "model_module": "@jupyter-widgets/base",
      "model_module_version": "1.2.0",
      "model_name": "LayoutModel",
      "state": {}
     },
     "9ae7535a113844bfac03b873622947da": {
      "model_module": "@jupyter-widgets/controls",
      "model_module_version": "1.5.0",
      "model_name": "DescriptionStyleModel",
      "state": {
       "description_width": ""
      }
     },
     "9b445fa1f6e14b72ab590bfb979b9b24": {
      "model_module": "@jupyter-widgets/controls",
      "model_module_version": "1.5.0",
      "model_name": "SliderStyleModel",
      "state": {
       "description_width": ""
      }
     },
     "9bf07a1db0794be989d880f048b24304": {
      "model_module": "@jupyter-widgets/controls",
      "model_module_version": "1.5.0",
      "model_name": "ButtonModel",
      "state": {
       "icon": "compress",
       "layout": "IPY_MODEL_eb08f99342cc4affb13d23a74d4f77be",
       "style": "IPY_MODEL_f10218126a914d2293931d782d99297d"
      }
     },
     "9cef1456b67443ff8666fad3fa426134": {
      "model_module": "@jupyter-widgets/controls",
      "model_module_version": "1.5.0",
      "model_name": "LinkModel",
      "state": {
       "source": [
        "IPY_MODEL_2426b142f59d4749a5bea269e574b821",
        "max"
       ],
       "target": [
        "IPY_MODEL_626ac96567404b5b84934bf49fbc1ce0",
        "max_frame"
       ]
      }
     },
     "9d0f84d850354ee8acc83584819b0cee": {
      "model_module": "@jupyter-widgets/controls",
      "model_module_version": "1.5.0",
      "model_name": "LinkModel",
      "state": {
       "source": [
        "IPY_MODEL_ec3faf11e1ef4f5bbd02fe3af81b79aa",
        "max"
       ],
       "target": [
        "IPY_MODEL_e7ea99e76d764651b7916f4564039d83",
        "max_frame"
       ]
      }
     },
     "9d193758c8244503b082e3a06f7b909a": {
      "model_module": "@jupyter-widgets/controls",
      "model_module_version": "1.5.0",
      "model_name": "ButtonModel",
      "state": {
       "icon": "compress",
       "layout": "IPY_MODEL_a2db928b567c428783ec1dcfb72b9c9e",
       "style": "IPY_MODEL_be5d511b33514e31b2e84abc63eb7ed8"
      }
     },
     "9d781cf540134f0aacfd47d477f72e06": {
      "model_module": "@jupyter-widgets/controls",
      "model_module_version": "1.5.0",
      "model_name": "LinkModel",
      "state": {
       "source": [
        "IPY_MODEL_2426b142f59d4749a5bea269e574b821",
        "value"
       ],
       "target": [
        "IPY_MODEL_626ac96567404b5b84934bf49fbc1ce0",
        "frame"
       ]
      }
     },
     "9d9c7d0589cb4d6aa16f8dd4d4f81b48": {
      "model_module": "@jupyter-widgets/controls",
      "model_module_version": "1.5.0",
      "model_name": "DescriptionStyleModel",
      "state": {
       "description_width": ""
      }
     },
     "9dace8745a2248c4939908162211e02e": {
      "model_module": "@jupyter-widgets/controls",
      "model_module_version": "1.5.0",
      "model_name": "LinkModel",
      "state": {
       "source": [
        "IPY_MODEL_e3fe6dcb9d3f486e8ca728174eaf2bb8",
        "max"
       ],
       "target": [
        "IPY_MODEL_0ee119e013a74d83885e95fce563456b",
        "max_frame"
       ]
      }
     },
     "9dbc590af6d44dfabf67161036855f8f": {
      "model_module": "@jupyter-widgets/controls",
      "model_module_version": "1.5.0",
      "model_name": "LinkModel",
      "state": {
       "source": [
        "IPY_MODEL_6b7498827f0342d1a8623dd4679d8cc2",
        "max"
       ],
       "target": [
        "IPY_MODEL_38282500b2694aab9b6bb2a4eed745a7",
        "max_frame"
       ]
      }
     },
     "9ea6eb105805429e82b112e6c9e67307": {
      "model_module": "@jupyter-widgets/controls",
      "model_module_version": "1.5.0",
      "model_name": "IntSliderModel",
      "state": {
       "layout": "IPY_MODEL_267080979efe4b5ca47b932022ea5f78",
       "max": 0,
       "style": "IPY_MODEL_3b8bde20f5b34984b4212bde608d6d74"
      }
     },
     "9f3daa83c7fb45b38caf37e40a676820": {
      "model_module": "@jupyter-widgets/controls",
      "model_module_version": "1.5.0",
      "model_name": "LinkModel",
      "state": {
       "source": [
        "IPY_MODEL_bc8d3a629780471d97c50e45aa568c08",
        "max"
       ],
       "target": [
        "IPY_MODEL_187fe5e6abcc442f80ce06478c5c2ff4",
        "max_frame"
       ]
      }
     },
     "9f440e4482024b9684a64db28cee5425": {
      "model_module": "@jupyter-widgets/base",
      "model_module_version": "1.2.0",
      "model_name": "LayoutModel",
      "state": {}
     },
     "9f92f887244d4830b93767f4698921da": {
      "model_module": "@jupyter-widgets/base",
      "model_module_version": "1.2.0",
      "model_name": "LayoutModel",
      "state": {}
     },
     "a01d277bd35c4188b0ddb6899d9397ab": {
      "model_module": "@jupyter-widgets/base",
      "model_module_version": "1.2.0",
      "model_name": "LayoutModel",
      "state": {
       "width": "34px"
      }
     },
     "a043fc443c1940ee814077b5a9e1a9a7": {
      "model_module": "@jupyter-widgets/base",
      "model_module_version": "1.2.0",
      "model_name": "LayoutModel",
      "state": {}
     },
     "a0c0e14fd7c244908097d4fd342192cb": {
      "model_module": "@jupyter-widgets/controls",
      "model_module_version": "1.5.0",
      "model_name": "IntSliderModel",
      "state": {
       "layout": "IPY_MODEL_8bbd8bce6df845eaabb6c4adca2ebfdc",
       "max": 0,
       "style": "IPY_MODEL_b54999f611124ee7b6bafc7ba217b41d"
      }
     },
     "a0fc50e1687d43c69953550ac8665f95": {
      "model_module": "@jupyter-widgets/controls",
      "model_module_version": "1.5.0",
      "model_name": "LinkModel",
      "state": {
       "source": [
        "IPY_MODEL_395d9819271b44df9f5a3a2d83f64b24",
        "value"
       ],
       "target": [
        "IPY_MODEL_31e6249953054af98e6d92367b796723",
        "frame"
       ]
      }
     },
     "a12c2a11d1634583849ddaccc0321496": {
      "model_module": "@jupyter-widgets/base",
      "model_module_version": "1.2.0",
      "model_name": "LayoutModel",
      "state": {}
     },
     "a23a02c1fe134c6dbc4430c239dbf447": {
      "model_module": "@jupyter-widgets/controls",
      "model_module_version": "1.5.0",
      "model_name": "LinkModel",
      "state": {
       "source": [
        "IPY_MODEL_bc8d3a629780471d97c50e45aa568c08",
        "value"
       ],
       "target": [
        "IPY_MODEL_187fe5e6abcc442f80ce06478c5c2ff4",
        "frame"
       ]
      }
     },
     "a2db928b567c428783ec1dcfb72b9c9e": {
      "model_module": "@jupyter-widgets/base",
      "model_module_version": "1.2.0",
      "model_name": "LayoutModel",
      "state": {
       "width": "34px"
      }
     },
     "a3419f74cb934f01a9b41c1ed0f1e4e1": {
      "model_module": "@jupyter-widgets/controls",
      "model_module_version": "1.5.0",
      "model_name": "LinkModel",
      "state": {
       "source": [
        "IPY_MODEL_395d9819271b44df9f5a3a2d83f64b24",
        "value"
       ],
       "target": [
        "IPY_MODEL_2b947f37296f4dbc84837509d521668c",
        "value"
       ]
      }
     },
     "a3b29fa98d57471b820125b8a9237fe1": {
      "model_module": "@jupyter-widgets/controls",
      "model_module_version": "1.5.0",
      "model_name": "SliderStyleModel",
      "state": {
       "description_width": ""
      }
     },
     "a3db0f2ecb6b4a90a9e38c841f6a9f34": {
      "model_module": "@jupyter-widgets/base",
      "model_module_version": "1.2.0",
      "model_name": "LayoutModel",
      "state": {}
     },
     "a62798bdd80b4db4867261fbea808f57": {
      "model_module": "@jupyter-widgets/controls",
      "model_module_version": "1.5.0",
      "model_name": "ImageModel",
      "state": {
       "layout": "IPY_MODEL_90ac183abd7c4e17be6b58a018938fb3",
       "width": "900.0"
      }
     },
     "a74d8e4c1cc44987b6761fc492fdf6fb": {
      "model_module": "@jupyter-widgets/controls",
      "model_module_version": "1.5.0",
      "model_name": "ButtonModel",
      "state": {
       "icon": "compress",
       "layout": "IPY_MODEL_4ab9c665deba42e8b8a5de16402e4b12",
       "style": "IPY_MODEL_4f018651c3c344fd868398475dbf4c35"
      }
     },
     "a75facc8b63b407491414e6871f07b2d": {
      "model_module": "@jupyter-widgets/controls",
      "model_module_version": "1.5.0",
      "model_name": "ImageModel",
      "state": {
       "layout": "IPY_MODEL_f36b1d9f0fe641779352ba3632d1df10",
       "width": "900.0"
      }
     },
     "a7645dff296446f2b39c41af6b6d53b5": {
      "model_module": "@jupyter-widgets/base",
      "model_module_version": "1.2.0",
      "model_name": "LayoutModel",
      "state": {}
     },
     "a7e297725ad54b03a3dc72ee19606be3": {
      "model_module": "@jupyter-widgets/base",
      "model_module_version": "1.2.0",
      "model_name": "LayoutModel",
      "state": {}
     },
     "a89cc0c981674609b934055ae21f763c": {
      "model_module": "@jupyter-widgets/controls",
      "model_module_version": "1.5.0",
      "model_name": "LinkModel",
      "state": {
       "source": [
        "IPY_MODEL_1eb11e654e5a4100a61e1fecf7257c50",
        "max"
       ],
       "target": [
        "IPY_MODEL_f697cef67b4a4d1088a72ff8042f07e4",
        "max_frame"
       ]
      }
     },
     "a8e07f3693ee4edc9acf462598f3e61c": {
      "model_module": "@jupyter-widgets/controls",
      "model_module_version": "1.5.0",
      "model_name": "DescriptionStyleModel",
      "state": {
       "description_width": ""
      }
     },
     "a977511059884fd091b239d3845b5911": {
      "model_module": "@jupyter-widgets/controls",
      "model_module_version": "1.5.0",
      "model_name": "ImageModel",
      "state": {
       "layout": "IPY_MODEL_907a2de779514e4c8bfd146b023ed39d",
       "width": "900.0"
      }
     },
     "aa2840ae82c741baaf2b999c16dba232": {
      "model_module": "@jupyter-widgets/base",
      "model_module_version": "1.2.0",
      "model_name": "LayoutModel",
      "state": {}
     },
     "aa553b7ce5824edfac4310a78e0c268e": {
      "model_module": "@jupyter-widgets/controls",
      "model_module_version": "1.5.0",
      "model_name": "HBoxModel",
      "state": {
       "children": [
        "IPY_MODEL_10d1be046b224fb2928ba76791cffb1b",
        "IPY_MODEL_17ca84af00af478fbb205caea15abcbb"
       ],
       "layout": "IPY_MODEL_b3764b4c95194f629f2b9d98af04ca4a"
      }
     },
     "aaa5513b4b0046f0ae04d3d45f39f796": {
      "model_module": "@jupyter-widgets/controls",
      "model_module_version": "1.5.0",
      "model_name": "ImageModel",
      "state": {
       "layout": "IPY_MODEL_ab3f6411d799460486f178b38592b357",
       "width": "900.0"
      }
     },
     "ab0e4f9c7830474fa9e9742acd74e18e": {
      "model_module": "@jupyter-widgets/base",
      "model_module_version": "1.2.0",
      "model_name": "LayoutModel",
      "state": {
       "width": "34px"
      }
     },
     "ab3f6411d799460486f178b38592b357": {
      "model_module": "@jupyter-widgets/base",
      "model_module_version": "1.2.0",
      "model_name": "LayoutModel",
      "state": {}
     },
     "ab49acc215054122b64011fe832bfebf": {
      "model_module": "@jupyter-widgets/base",
      "model_module_version": "1.2.0",
      "model_name": "LayoutModel",
      "state": {}
     },
     "ab5666e4ebb04d56af5b0609ed5aef05": {
      "model_module": "@jupyter-widgets/controls",
      "model_module_version": "1.5.0",
      "model_name": "LinkModel",
      "state": {
       "source": [
        "IPY_MODEL_7c45a844de4e4cf895c716ce51116e5b",
        "max"
       ],
       "target": [
        "IPY_MODEL_6b7f7be6cb0d478e8002a7fe819e55aa",
        "max_frame"
       ]
      }
     },
     "ab5705c0927249a58a5447714c6f5c52": {
      "model_module": "@jupyter-widgets/base",
      "model_module_version": "1.2.0",
      "model_name": "LayoutModel",
      "state": {}
     },
     "ab6d1e7bf84b42c48f9f946e847f2d6c": {
      "model_module": "@jupyter-widgets/controls",
      "model_module_version": "1.5.0",
      "model_name": "LinkModel",
      "state": {
       "source": [
        "IPY_MODEL_6096812504a94359b57cf47a7740ad85",
        "value"
       ],
       "target": [
        "IPY_MODEL_55adfc6b48814c279b75e0edbb4ace8d",
        "frame"
       ]
      }
     },
     "ac50e8058483400a9618e32efc10c302": {
      "model_module": "@jupyter-widgets/base",
      "model_module_version": "1.2.0",
      "model_name": "LayoutModel",
      "state": {}
     },
     "ada21ed377e24c288fbf7347df81f6aa": {
      "model_module": "@jupyter-widgets/base",
      "model_module_version": "1.2.0",
      "model_name": "LayoutModel",
      "state": {}
     },
     "aea826d954b84cf5b12322150f640b8d": {
      "model_module": "nglview-js-widgets",
      "model_module_version": "2.7.1",
      "model_name": "NGLModel",
      "state": {
       "_camera_orientation": [
        11.072894283443459,
        0.6537175322342624,
        15.129694666712343,
        0,
        1.5923292728615401,
        18.588527399681293,
        -1.968535427746919,
        0,
        -15.05986370478439,
        2.4460780101125255,
        10.916098327423143,
        0,
        0,
        0,
        0,
        1
       ],
       "_camera_str": "orthographic",
       "_gui_theme": null,
       "_ibtn_fullscreen": "IPY_MODEL_58c4f33e42b54a2cb77fe292145ee567",
       "_igui": null,
       "_iplayer": "IPY_MODEL_27810f7a125544c99ce71806a98a370f",
       "_ngl_color_dict": {},
       "_ngl_coordinate_resource": {},
       "_ngl_full_stage_parameters": {
        "ambientColor": 14540253,
        "ambientIntensity": 0.2,
        "backgroundColor": "white",
        "cameraEyeSep": 0.3,
        "cameraFov": 40,
        "cameraType": "perspective",
        "clipDist": 10,
        "clipFar": 100,
        "clipNear": 0,
        "fogFar": 100,
        "fogNear": 50,
        "hoverTimeout": 0,
        "impostor": true,
        "lightColor": 14540253,
        "lightIntensity": 1,
        "mousePreset": "default",
        "panSpeed": 1,
        "quality": "medium",
        "rotateSpeed": 2,
        "sampleLevel": 0,
        "tooltip": true,
        "workerDefault": true,
        "zoomSpeed": 1.2
       },
       "_ngl_msg_archive": [
        {
         "args": [
          {
           "binary": false,
           "data": "\nQCElemental\n\n  2  0  0  0  0  0  0  0  0  0  0\n    0.3312    0.2079   -2.6732 I   0  0     0  0  0  0  0  0\n   -0.3312   -0.2079    2.6732 I   0  0     0  0  0  0  0  0\n",
           "type": "blob"
          }
         ],
         "kwargs": {
          "defaultRepresentation": true,
          "ext": "sdf"
         },
         "methodName": "loadFile",
         "reconstruc_color_scheme": false,
         "target": "Stage",
         "type": "call_method"
        }
       ],
       "_ngl_original_stage_parameters": {
        "ambientColor": 14540253,
        "ambientIntensity": 0.2,
        "backgroundColor": "white",
        "cameraEyeSep": 0.3,
        "cameraFov": 40,
        "cameraType": "perspective",
        "clipDist": 10,
        "clipFar": 100,
        "clipNear": 0,
        "fogFar": 100,
        "fogNear": 50,
        "hoverTimeout": 0,
        "impostor": true,
        "lightColor": 14540253,
        "lightIntensity": 1,
        "mousePreset": "default",
        "panSpeed": 1,
        "quality": "medium",
        "rotateSpeed": 2,
        "sampleLevel": 0,
        "tooltip": true,
        "workerDefault": true,
        "zoomSpeed": 1.2
       },
       "_ngl_repr_dict": {
        "0": {
         "0": {
          "params": {
           "aspectRatio": 1.5,
           "assembly": "default",
           "bondScale": 0.3,
           "bondSpacing": 0.75,
           "clipCenter": {
            "x": 0,
            "y": 0,
            "z": 0
           },
           "clipNear": 0,
           "clipRadius": 0,
           "colorMode": "hcl",
           "colorReverse": false,
           "colorScale": "",
           "colorScheme": "element",
           "colorValue": 9474192,
           "cylinderOnly": false,
           "defaultAssembly": "",
           "depthWrite": true,
           "diffuse": 16777215,
           "diffuseInterior": false,
           "disableImpostor": false,
           "disablePicking": false,
           "flatShaded": false,
           "interiorColor": 2236962,
           "interiorDarkening": 0,
           "lazy": false,
           "lineOnly": false,
           "linewidth": 2,
           "matrix": {
            "elements": [
             1,
             0,
             0,
             0,
             0,
             1,
             0,
             0,
             0,
             0,
             1,
             0,
             0,
             0,
             0,
             1
            ]
           },
           "metalness": 0,
           "multipleBond": "off",
           "opacity": 1,
           "openEnded": true,
           "quality": "high",
           "radialSegments": 20,
           "radiusData": {},
           "radiusScale": 2,
           "radiusSize": 0.15,
           "radiusType": "size",
           "roughness": 0.4,
           "sele": "",
           "side": "double",
           "sphereDetail": 2,
           "useInteriorColor": true,
           "visible": true,
           "wireframe": false
          },
          "type": "ball+stick"
         }
        }
       },
       "_ngl_serialize": false,
       "_ngl_version": "2.0.0-dev.36",
       "_ngl_view_id": [
        "4B3B2330-5482-4078-A397-3ABF299C55D6"
       ],
       "_player_dict": {},
       "_scene_position": {},
       "_scene_rotation": {},
       "_synced_model_ids": [],
       "_synced_repr_model_ids": [],
       "_view_height": "",
       "_view_width": "",
       "background": "white",
       "frame": 0,
       "gui_style": null,
       "layout": "IPY_MODEL_11e632fac1814dcca4ba2985424ec8c2",
       "max_frame": 0,
       "n_components": 1,
       "picked": {}
      }
     },
     "aebdc44611084d469bacec9bde399305": {
      "model_module": "@jupyter-widgets/controls",
      "model_module_version": "1.5.0",
      "model_name": "HBoxModel",
      "state": {
       "children": [
        "IPY_MODEL_c21da1e34b39438a8c196704a58dc5f3",
        "IPY_MODEL_1eb11e654e5a4100a61e1fecf7257c50"
       ],
       "layout": "IPY_MODEL_68a2394c2d9a4c7f8cb7e695b9024e3c"
      }
     },
     "aed506ee683f424d8f0fe4b1263f174d": {
      "model_module": "@jupyter-widgets/controls",
      "model_module_version": "1.5.0",
      "model_name": "SliderStyleModel",
      "state": {
       "description_width": ""
      }
     },
     "aee994d79e674fc5b1678de37314c13c": {
      "model_module": "@jupyter-widgets/base",
      "model_module_version": "1.2.0",
      "model_name": "LayoutModel",
      "state": {}
     },
     "aeec6f102ef64ccb8ae076aae1850e61": {
      "model_module": "@jupyter-widgets/controls",
      "model_module_version": "1.5.0",
      "model_name": "HBoxModel",
      "state": {
       "children": [
        "IPY_MODEL_70cc2982ff3742cf9afdf8d49071f71d",
        "IPY_MODEL_e238f46ec9034d04a4342f559530fc29"
       ],
       "layout": "IPY_MODEL_cef1ac7c84044ff49e2ff8194cbdfc20"
      }
     },
     "b02bb1c2eca44970858a618a03cb9812": {
      "model_module": "@jupyter-widgets/controls",
      "model_module_version": "1.5.0",
      "model_name": "ButtonStyleModel",
      "state": {}
     },
     "b034a41414174892b32db1db5347bce2": {
      "model_module": "@jupyter-widgets/base",
      "model_module_version": "1.2.0",
      "model_name": "LayoutModel",
      "state": {}
     },
     "b0c223b7c72343468251a165749d2fd1": {
      "model_module": "@jupyter-widgets/base",
      "model_module_version": "1.2.0",
      "model_name": "LayoutModel",
      "state": {}
     },
     "b2b7d18fd5d144a79e7dad16b2285eb7": {
      "model_module": "@jupyter-widgets/controls",
      "model_module_version": "1.5.0",
      "model_name": "LinkModel",
      "state": {
       "source": [
        "IPY_MODEL_23728bef7863453a81bff6e2bf781e02",
        "max"
       ],
       "target": [
        "IPY_MODEL_f7c85dd42d4943908cf7d0ecb390edf2",
        "max_frame"
       ]
      }
     },
     "b32aa4ad1d66439bb8e78903bb1bdd12": {
      "model_module": "@jupyter-widgets/controls",
      "model_module_version": "1.5.0",
      "model_name": "HBoxModel",
      "state": {
       "children": [
        "IPY_MODEL_ec3faf11e1ef4f5bbd02fe3af81b79aa",
        "IPY_MODEL_64290a182a6c4d498afe7330dbddf4d8"
       ],
       "layout": "IPY_MODEL_b034a41414174892b32db1db5347bce2"
      }
     },
     "b35cc6c7349849429cefb8122d45f9e4": {
      "model_module": "@jupyter-widgets/controls",
      "model_module_version": "1.5.0",
      "model_name": "LinkModel",
      "state": {
       "source": [
        "IPY_MODEL_64ca71755dea426c8a4b808abd595b42",
        "max"
       ],
       "target": [
        "IPY_MODEL_93188f1b9278462cab3ea9e6a75dc1ed",
        "max_frame"
       ]
      }
     },
     "b3764b4c95194f629f2b9d98af04ca4a": {
      "model_module": "@jupyter-widgets/base",
      "model_module_version": "1.2.0",
      "model_name": "LayoutModel",
      "state": {}
     },
     "b3dee8c2622d4d69900bd28568cfc6b3": {
      "model_module": "@jupyter-widgets/base",
      "model_module_version": "1.2.0",
      "model_name": "LayoutModel",
      "state": {}
     },
     "b4f712802f934545bc550be53e1de4c9": {
      "model_module": "@jupyter-widgets/controls",
      "model_module_version": "1.5.0",
      "model_name": "ButtonStyleModel",
      "state": {}
     },
     "b51640f34e3a4a8c9de5ac03284101e5": {
      "model_module": "@jupyter-widgets/base",
      "model_module_version": "1.2.0",
      "model_name": "LayoutModel",
      "state": {}
     },
     "b54999f611124ee7b6bafc7ba217b41d": {
      "model_module": "@jupyter-widgets/controls",
      "model_module_version": "1.5.0",
      "model_name": "SliderStyleModel",
      "state": {
       "description_width": ""
      }
     },
     "b554073568b546a38f6d8529c23af099": {
      "model_module": "@jupyter-widgets/base",
      "model_module_version": "1.2.0",
      "model_name": "LayoutModel",
      "state": {}
     },
     "b63d8be5cea64446b89db51ab54f2099": {
      "model_module": "@jupyter-widgets/controls",
      "model_module_version": "1.5.0",
      "model_name": "DescriptionStyleModel",
      "state": {
       "description_width": ""
      }
     },
     "b6452ffbaf59421194adaef78157c421": {
      "model_module": "@jupyter-widgets/controls",
      "model_module_version": "1.5.0",
      "model_name": "ButtonStyleModel",
      "state": {}
     },
     "b71b7f5a459c46228a7451839846264d": {
      "model_module": "@jupyter-widgets/controls",
      "model_module_version": "1.5.0",
      "model_name": "ButtonModel",
      "state": {
       "icon": "compress",
       "layout": "IPY_MODEL_271f504db0c64173b2aef42d5c838732",
       "style": "IPY_MODEL_e7e5c54c393e4df292faf7c0e71470e6"
      }
     },
     "b78355b807114c2295d55d9670c457b9": {
      "model_module": "@jupyter-widgets/controls",
      "model_module_version": "1.5.0",
      "model_name": "HBoxModel",
      "state": {
       "children": [
        "IPY_MODEL_81e73632a1d2495abb6547d6fee12fc8",
        "IPY_MODEL_eb5799357011401197da905470cc41e7"
       ],
       "layout": "IPY_MODEL_2b127f3f1f374ad0939b9ce933568c2f"
      }
     },
     "b8243df900c848d9947abe6d1269da48": {
      "model_module": "@jupyter-widgets/controls",
      "model_module_version": "1.5.0",
      "model_name": "ImageModel",
      "state": {
       "layout": "IPY_MODEL_1f25e5a878ce4b958912d7ed86a1f982",
       "width": "900.0"
      }
     },
     "b860a0a9b97041b7bbc6f0fe46e31b91": {
      "model_module": "@jupyter-widgets/base",
      "model_module_version": "1.2.0",
      "model_name": "LayoutModel",
      "state": {}
     },
     "b917dfad3b0442ab98b4c90b47839833": {
      "model_module": "@jupyter-widgets/controls",
      "model_module_version": "1.5.0",
      "model_name": "ImageModel",
      "state": {
       "layout": "IPY_MODEL_e2e9c2aad51d49f3920d2f71687e4890",
       "width": "900.0"
      }
     },
     "b9d2181b956c404bba3cdc0783f2d2ec": {
      "model_module": "@jupyter-widgets/controls",
      "model_module_version": "1.5.0",
      "model_name": "ButtonModel",
      "state": {
       "icon": "compress",
       "layout": "IPY_MODEL_bf8292e9c98149bc9820578c3e05772f",
       "style": "IPY_MODEL_71b5c0b8e1324af787c538b44ef1aaf7"
      }
     },
     "bac77811bc504d2dab4a1ac055d75a96": {
      "model_module": "@jupyter-widgets/base",
      "model_module_version": "1.2.0",
      "model_name": "LayoutModel",
      "state": {
       "width": "34px"
      }
     },
     "bafa05c2f1264f3f86cd8108bd4c053d": {
      "model_module": "@jupyter-widgets/controls",
      "model_module_version": "1.5.0",
      "model_name": "SliderStyleModel",
      "state": {
       "description_width": ""
      }
     },
     "bb7ace8cdaf14c12bccc3fe4b7199e6d": {
      "model_module": "@jupyter-widgets/controls",
      "model_module_version": "1.5.0",
      "model_name": "IntSliderModel",
      "state": {
       "layout": "IPY_MODEL_3b278d4a7f31466d8d4567f8d7972322",
       "max": 0,
       "style": "IPY_MODEL_e8ae57e1e7a74c07ba8a2ff0c9fd7701"
      }
     },
     "bbba0aa989614a40ac2115c0a1a18948": {
      "model_module": "@jupyter-widgets/controls",
      "model_module_version": "1.5.0",
      "model_name": "LinkModel",
      "state": {
       "source": [
        "IPY_MODEL_10d1be046b224fb2928ba76791cffb1b",
        "value"
       ],
       "target": [
        "IPY_MODEL_17ca84af00af478fbb205caea15abcbb",
        "value"
       ]
      }
     },
     "bc8d3a629780471d97c50e45aa568c08": {
      "model_module": "@jupyter-widgets/controls",
      "model_module_version": "1.5.0",
      "model_name": "PlayModel",
      "state": {
       "layout": "IPY_MODEL_574e102d4bfb4cb6b5e6224ce7b971c4",
       "max": 0,
       "style": "IPY_MODEL_0d70bc80582d4114b36fccf25985d0dd"
      }
     },
     "bc95b6fba99540339a92447237b3a5ce": {
      "model_module": "@jupyter-widgets/controls",
      "model_module_version": "1.5.0",
      "model_name": "ButtonStyleModel",
      "state": {}
     },
     "bdd045004f094ba685ba39b2bd0791f1": {
      "model_module": "@jupyter-widgets/controls",
      "model_module_version": "1.5.0",
      "model_name": "LinkModel",
      "state": {
       "source": [
        "IPY_MODEL_2b947f37296f4dbc84837509d521668c",
        "max"
       ],
       "target": [
        "IPY_MODEL_31e6249953054af98e6d92367b796723",
        "max_frame"
       ]
      }
     },
     "be5d511b33514e31b2e84abc63eb7ed8": {
      "model_module": "@jupyter-widgets/controls",
      "model_module_version": "1.5.0",
      "model_name": "ButtonStyleModel",
      "state": {}
     },
     "be8453d76c5b4276b681b1bb61192995": {
      "model_module": "@jupyter-widgets/controls",
      "model_module_version": "1.5.0",
      "model_name": "SliderStyleModel",
      "state": {
       "description_width": ""
      }
     },
     "be8f13f30443440a8ca725e37b126d1c": {
      "model_module": "@jupyter-widgets/base",
      "model_module_version": "1.2.0",
      "model_name": "LayoutModel",
      "state": {
       "width": "34px"
      }
     },
     "beb0bf75c053456c8ff988f9d5c895db": {
      "model_module": "@jupyter-widgets/controls",
      "model_module_version": "1.5.0",
      "model_name": "LinkModel",
      "state": {
       "source": [
        "IPY_MODEL_fc10f22e2e4241c397f0816c595b2aec",
        "max"
       ],
       "target": [
        "IPY_MODEL_4397ea47c24f495481b0ae3a5fdaf08a",
        "max_frame"
       ]
      }
     },
     "beb56c8ddb5c45a6822b28f08d3e2cd2": {
      "model_module": "@jupyter-widgets/controls",
      "model_module_version": "1.5.0",
      "model_name": "PlayModel",
      "state": {
       "layout": "IPY_MODEL_10a2be1c7393404382c6341fab628bc8",
       "max": 0,
       "style": "IPY_MODEL_79838dde69f04d06bade6614a7c2f054"
      }
     },
     "bee017367ca44506a20a7d58b3be4b02": {
      "model_module": "nglview-js-widgets",
      "model_module_version": "2.7.1",
      "model_name": "NGLModel",
      "state": {
       "_camera_orientation": [
        18.353240823070905,
        0,
        0,
        0,
        0,
        18.353240823070905,
        0,
        0,
        0,
        0,
        18.353240823070905,
        0,
        0.07125002145767212,
        0.04739999771118164,
        -0.07545000314712524,
        1
       ],
       "_camera_str": "orthographic",
       "_gui_theme": null,
       "_ibtn_fullscreen": "IPY_MODEL_44cf0b74e3344bc68140e2105a2a94b7",
       "_igui": null,
       "_iplayer": "IPY_MODEL_94825893482a481ab408638fc7d3e506",
       "_ngl_color_dict": {},
       "_ngl_coordinate_resource": {},
       "_ngl_full_stage_parameters": {
        "ambientColor": 14540253,
        "ambientIntensity": 0.2,
        "backgroundColor": "white",
        "cameraEyeSep": 0.3,
        "cameraFov": 40,
        "cameraType": "perspective",
        "clipDist": 10,
        "clipFar": 100,
        "clipNear": 0,
        "fogFar": 100,
        "fogNear": 50,
        "hoverTimeout": 0,
        "impostor": true,
        "lightColor": 14540253,
        "lightIntensity": 1,
        "mousePreset": "default",
        "panSpeed": 1,
        "quality": "medium",
        "rotateSpeed": 2,
        "sampleLevel": 0,
        "tooltip": true,
        "workerDefault": true,
        "zoomSpeed": 1.2
       },
       "_ngl_msg_archive": [
        {
         "args": [
          {
           "binary": false,
           "data": "\nQCElemental\n\n 14 14  0  0  0  0  0  0  0  0  0\n   -1.0819   -1.2026    0.0057 C   0  0     0  0  0  0  0  0\n   -0.1526   -0.0506   -0.0914 C   0  0     0  0  0  0  0  0\n   -0.6863    1.4063   -0.0467 C   0  0     0  0  0  0  0  0\n    1.2040   -0.1066   -0.6664 C   0  0     0  0  0  0  0  0\n    0.9584   -0.1818    0.8137 N   0  0     0  0  0  0  0  0\n   -0.6365   -2.1770    0.1829 H   0  0     0  0  0  0  0  0\n   -1.8120   -1.2453    0.9021 H   0  0     0  0  0  0  0  0\n   -1.6709   -1.3258   -0.8270 H   0  0     0  0  0  0  0  0\n   -1.0147    1.6492    1.0720 H   0  0     0  0  0  0  0  0\n    0.1898    2.0822   -0.5363 H   0  0     0  0  0  0  0  0\n   -1.7929    1.3729   -0.6329 H   0  0     0  0  0  0  0  0\n    1.6695   -1.0583   -0.9041 H   0  0     0  0  0  0  0  0\n    1.5667    0.8593   -0.9812 H   0  0     0  0  0  0  0  0\n    1.1106    0.7652    1.1321 H   0  0     0  0  0  0  0  0\n  1  2  1  0  0  0  0\n  1  6  1  0  0  0  0\n  1  7  1  0  0  0  0\n  1  8  1  0  0  0  0\n  2  3  1  0  0  0  0\n  2  4  1  0  0  0  0\n  2  5  1  0  0  0  0\n  3  9  1  0  0  0  0\n  3 10  1  0  0  0  0\n  3 11  1  0  0  0  0\n  4  5  1  0  0  0  0\n  4 12  1  0  0  0  0\n  4 13  1  0  0  0  0\n  5 14  1  0  0  0  0\n",
           "type": "blob"
          }
         ],
         "kwargs": {
          "defaultRepresentation": true,
          "ext": "sdf"
         },
         "methodName": "loadFile",
         "reconstruc_color_scheme": false,
         "target": "Stage",
         "type": "call_method"
        }
       ],
       "_ngl_original_stage_parameters": {
        "ambientColor": 14540253,
        "ambientIntensity": 0.2,
        "backgroundColor": "white",
        "cameraEyeSep": 0.3,
        "cameraFov": 40,
        "cameraType": "perspective",
        "clipDist": 10,
        "clipFar": 100,
        "clipNear": 0,
        "fogFar": 100,
        "fogNear": 50,
        "hoverTimeout": 0,
        "impostor": true,
        "lightColor": 14540253,
        "lightIntensity": 1,
        "mousePreset": "default",
        "panSpeed": 1,
        "quality": "medium",
        "rotateSpeed": 2,
        "sampleLevel": 0,
        "tooltip": true,
        "workerDefault": true,
        "zoomSpeed": 1.2
       },
       "_ngl_repr_dict": {
        "0": {
         "0": {
          "params": {
           "aspectRatio": 1.5,
           "assembly": "default",
           "bondScale": 0.3,
           "bondSpacing": 0.75,
           "clipCenter": {
            "x": 0,
            "y": 0,
            "z": 0
           },
           "clipNear": 0,
           "clipRadius": 0,
           "colorMode": "hcl",
           "colorReverse": false,
           "colorScale": "",
           "colorScheme": "element",
           "colorValue": 9474192,
           "cylinderOnly": false,
           "defaultAssembly": "",
           "depthWrite": true,
           "diffuse": 16777215,
           "diffuseInterior": false,
           "disableImpostor": false,
           "disablePicking": false,
           "flatShaded": false,
           "interiorColor": 2236962,
           "interiorDarkening": 0,
           "lazy": false,
           "lineOnly": false,
           "linewidth": 2,
           "matrix": {
            "elements": [
             1,
             0,
             0,
             0,
             0,
             1,
             0,
             0,
             0,
             0,
             1,
             0,
             0,
             0,
             0,
             1
            ]
           },
           "metalness": 0,
           "multipleBond": "off",
           "opacity": 1,
           "openEnded": true,
           "quality": "high",
           "radialSegments": 20,
           "radiusData": {},
           "radiusScale": 2,
           "radiusSize": 0.15,
           "radiusType": "size",
           "roughness": 0.4,
           "sele": "",
           "side": "double",
           "sphereDetail": 2,
           "useInteriorColor": true,
           "visible": true,
           "wireframe": false
          },
          "type": "ball+stick"
         }
        }
       },
       "_ngl_serialize": false,
       "_ngl_version": "2.0.0-dev.36",
       "_ngl_view_id": [
        "47FEC910-E5EC-45DF-8C82-3D0EEDEDC5B5"
       ],
       "_player_dict": {},
       "_scene_position": {},
       "_scene_rotation": {},
       "_synced_model_ids": [],
       "_synced_repr_model_ids": [],
       "_view_height": "",
       "_view_width": "",
       "background": "white",
       "frame": 0,
       "gui_style": null,
       "layout": "IPY_MODEL_0d4dc5677a2445eab92044f01743d619",
       "max_frame": 0,
       "n_components": 1,
       "picked": {}
      }
     },
     "bf60aaeda9a34c4a8903f9e1d3fd7c61": {
      "model_module": "@jupyter-widgets/controls",
      "model_module_version": "1.5.0",
      "model_name": "LinkModel",
      "state": {
       "source": [
        "IPY_MODEL_53d47149099a4d1f865b993ba7e687a1",
        "max"
       ],
       "target": [
        "IPY_MODEL_2f390cf11c434e5b9d0f890b37f2d9a6",
        "max_frame"
       ]
      }
     },
     "bf8292e9c98149bc9820578c3e05772f": {
      "model_module": "@jupyter-widgets/base",
      "model_module_version": "1.2.0",
      "model_name": "LayoutModel",
      "state": {
       "width": "34px"
      }
     },
     "bf9cacac23a14a13ad5184245a692398": {
      "model_module": "@jupyter-widgets/base",
      "model_module_version": "1.2.0",
      "model_name": "LayoutModel",
      "state": {}
     },
     "c025f3133c2a44c2aebe62be9d633ccb": {
      "model_module": "@jupyter-widgets/controls",
      "model_module_version": "1.5.0",
      "model_name": "PlayModel",
      "state": {
       "layout": "IPY_MODEL_a7645dff296446f2b39c41af6b6d53b5",
       "max": 0,
       "style": "IPY_MODEL_8e04649850ea473fa326c7f5bc34a05e"
      }
     },
     "c104d3fa1f954d18a1fcf2ab3d271b58": {
      "model_module": "@jupyter-widgets/base",
      "model_module_version": "1.2.0",
      "model_name": "LayoutModel",
      "state": {}
     },
     "c141989d3a0c484d81b9293c40e37ec5": {
      "model_module": "@jupyter-widgets/controls",
      "model_module_version": "1.5.0",
      "model_name": "LinkModel",
      "state": {
       "source": [
        "IPY_MODEL_47230d407f8b4dcd9a0b2dce6ec4cb28",
        "value"
       ],
       "target": [
        "IPY_MODEL_3c880efef4b3492c868b1cd7caf66848",
        "frame"
       ]
      }
     },
     "c21da1e34b39438a8c196704a58dc5f3": {
      "model_module": "@jupyter-widgets/controls",
      "model_module_version": "1.5.0",
      "model_name": "PlayModel",
      "state": {
       "layout": "IPY_MODEL_00f0040b424f48c59e7feb35c3417f3f",
       "max": 0,
       "style": "IPY_MODEL_7d034781c4a049a2873c810b51d0538b"
      }
     },
     "c319603f404a495a94e4d0cb9ffba3e9": {
      "model_module": "@jupyter-widgets/controls",
      "model_module_version": "1.5.0",
      "model_name": "IntSliderModel",
      "state": {
       "layout": "IPY_MODEL_aa2840ae82c741baaf2b999c16dba232",
       "max": 0,
       "style": "IPY_MODEL_317d47a2ce5a45019057613c02e6a45a"
      }
     },
     "c3296661df1d48759708721361ea7148": {
      "model_module": "@jupyter-widgets/base",
      "model_module_version": "1.2.0",
      "model_name": "LayoutModel",
      "state": {
       "width": "34px"
      }
     },
     "c4303efef38e4b84992363cd74c13bbd": {
      "model_module": "@jupyter-widgets/controls",
      "model_module_version": "1.5.0",
      "model_name": "HBoxModel",
      "state": {
       "children": [
        "IPY_MODEL_2426b142f59d4749a5bea269e574b821",
        "IPY_MODEL_95e5a1a48e9a479493166f2d07168744"
       ],
       "layout": "IPY_MODEL_f5dd74e1a3a44c369751a14a4b969478"
      }
     },
     "c5d8541b208b4c5e9a24a6b2d81a03b1": {
      "model_module": "nglview-js-widgets",
      "model_module_version": "2.7.1",
      "model_name": "NGLModel",
      "state": {
       "_camera_orientation": [
        201.87656757872912,
        120.82361933925023,
        -171.20856625655898,
        0,
        -58.446600060056966,
        260.7657266890114,
        115.10907615389276,
        0,
        201.23298708532434,
        -45.47260143588681,
        205.18868417776469,
        0,
        -0.40240001678466797,
        -0.016499996185302734,
        -0.14480000734329224,
        1
       ],
       "_camera_str": "orthographic",
       "_gui_theme": null,
       "_ibtn_fullscreen": "IPY_MODEL_94e62e2b5ab1472484b8483366631888",
       "_igui": null,
       "_iplayer": "IPY_MODEL_b78355b807114c2295d55d9670c457b9",
       "_ngl_color_dict": {},
       "_ngl_coordinate_resource": {},
       "_ngl_full_stage_parameters": {
        "ambientColor": 14540253,
        "ambientIntensity": 0.2,
        "backgroundColor": "white",
        "cameraEyeSep": 0.3,
        "cameraFov": 40,
        "cameraType": "perspective",
        "clipDist": 10,
        "clipFar": 100,
        "clipNear": 0,
        "fogFar": 100,
        "fogNear": 50,
        "hoverTimeout": 0,
        "impostor": true,
        "lightColor": 14540253,
        "lightIntensity": 1,
        "mousePreset": "default",
        "panSpeed": 1,
        "quality": "medium",
        "rotateSpeed": 2,
        "sampleLevel": 0,
        "tooltip": true,
        "workerDefault": true,
        "zoomSpeed": 1.2
       },
       "_ngl_msg_archive": [
        {
         "args": [
          {
           "binary": false,
           "data": "\nQCElemental\n\n 16 15  0  0  0  0  0  0  0  0  0\n    1.7347    0.1979   -0.5172 C   0  0     0  0  0  0  0  0\n    0.9088   -0.1707    0.7008 C   0  0     0  0  0  0  0  0\n   -0.5989   -0.0623    0.4513 C   0  0     0  0  0  0  0  0\n   -0.9986    1.2558   -0.2145 C   0  0     0  0  0  0  0  0\n   -1.0110   -1.2500   -0.3291 N   0  0     0  0  0  0  0  0\n    2.8805    0.3400   -0.3003 H   0  0     0  0  0  0  0  0\n    1.3993    1.1955   -0.9248 H   0  0     0  0  0  0  0  0\n    1.6163   -0.5425   -1.3267 H   0  0     0  0  0  0  0  0\n    1.1489   -1.2084    1.0157 H   0  0     0  0  0  0  0  0\n    1.0606    0.4197    1.6163 H   0  0     0  0  0  0  0  0\n   -1.1260   -0.1500    1.3742 H   0  0     0  0  0  0  0  0\n   -0.3987    1.2604   -1.2015 H   0  0     0  0  0  0  0  0\n   -0.7754    2.1914    0.3530 H   0  0     0  0  0  0  0  0\n   -2.0757    1.2980   -0.5934 H   0  0     0  0  0  0  0  0\n   -0.9913   -2.1584    0.1496 H   0  0     0  0  0  0  0  0\n   -1.9642   -1.1328   -0.5937 H   0  0     0  0  0  0  0  0\n  1  2  1  0  0  0  0\n  1  6  1  0  0  0  0\n  1  7  1  0  0  0  0\n  1  8  1  0  0  0  0\n  2  3  1  0  0  0  0\n  2  9  1  0  0  0  0\n  2 10  1  0  0  0  0\n  3  4  1  0  0  0  0\n  3  5  1  0  0  0  0\n  3 11  1  0  0  0  0\n  4 12  1  0  0  0  0\n  4 13  1  0  0  0  0\n  4 14  1  0  0  0  0\n  5 15  1  0  0  0  0\n  5 16  1  0  0  0  0\n",
           "type": "blob"
          }
         ],
         "kwargs": {
          "defaultRepresentation": true,
          "ext": "sdf"
         },
         "methodName": "loadFile",
         "reconstruc_color_scheme": false,
         "target": "Stage",
         "type": "call_method"
        }
       ],
       "_ngl_original_stage_parameters": {
        "ambientColor": 14540253,
        "ambientIntensity": 0.2,
        "backgroundColor": "white",
        "cameraEyeSep": 0.3,
        "cameraFov": 40,
        "cameraType": "perspective",
        "clipDist": 10,
        "clipFar": 100,
        "clipNear": 0,
        "fogFar": 100,
        "fogNear": 50,
        "hoverTimeout": 0,
        "impostor": true,
        "lightColor": 14540253,
        "lightIntensity": 1,
        "mousePreset": "default",
        "panSpeed": 1,
        "quality": "medium",
        "rotateSpeed": 2,
        "sampleLevel": 0,
        "tooltip": true,
        "workerDefault": true,
        "zoomSpeed": 1.2
       },
       "_ngl_repr_dict": {
        "0": {
         "0": {
          "params": {
           "aspectRatio": 1.5,
           "assembly": "default",
           "bondScale": 0.3,
           "bondSpacing": 0.75,
           "clipCenter": {
            "x": 0,
            "y": 0,
            "z": 0
           },
           "clipNear": 0,
           "clipRadius": 0,
           "colorMode": "hcl",
           "colorReverse": false,
           "colorScale": "",
           "colorScheme": "element",
           "colorValue": 9474192,
           "cylinderOnly": false,
           "defaultAssembly": "",
           "depthWrite": true,
           "diffuse": 16777215,
           "diffuseInterior": false,
           "disableImpostor": false,
           "disablePicking": false,
           "flatShaded": false,
           "interiorColor": 2236962,
           "interiorDarkening": 0,
           "lazy": false,
           "lineOnly": false,
           "linewidth": 2,
           "matrix": {
            "elements": [
             1,
             0,
             0,
             0,
             0,
             1,
             0,
             0,
             0,
             0,
             1,
             0,
             0,
             0,
             0,
             1
            ]
           },
           "metalness": 0,
           "multipleBond": "off",
           "opacity": 1,
           "openEnded": true,
           "quality": "high",
           "radialSegments": 20,
           "radiusData": {},
           "radiusScale": 2,
           "radiusSize": 0.15,
           "radiusType": "size",
           "roughness": 0.4,
           "sele": "",
           "side": "double",
           "sphereDetail": 2,
           "useInteriorColor": true,
           "visible": true,
           "wireframe": false
          },
          "type": "ball+stick"
         }
        }
       },
       "_ngl_serialize": false,
       "_ngl_version": "2.0.0-dev.36",
       "_ngl_view_id": [
        "FF1156B3-3C70-4457-9DBA-237F7748ABB9"
       ],
       "_player_dict": {},
       "_scene_position": {},
       "_scene_rotation": {},
       "_synced_model_ids": [],
       "_synced_repr_model_ids": [],
       "_view_height": "",
       "_view_width": "",
       "background": "white",
       "frame": 0,
       "gui_style": null,
       "layout": "IPY_MODEL_15e093dec5ef49e4b686232198349f7a",
       "max_frame": 0,
       "n_components": 1,
       "picked": {}
      }
     },
     "c61f34d40c864cbab42d880bf66256fc": {
      "model_module": "@jupyter-widgets/controls",
      "model_module_version": "1.5.0",
      "model_name": "LinkModel",
      "state": {
       "source": [
        "IPY_MODEL_6096812504a94359b57cf47a7740ad85",
        "max"
       ],
       "target": [
        "IPY_MODEL_55adfc6b48814c279b75e0edbb4ace8d",
        "max_frame"
       ]
      }
     },
     "c62008f030434a06b4e601890d9f8b6c": {
      "model_module": "@jupyter-widgets/base",
      "model_module_version": "1.2.0",
      "model_name": "LayoutModel",
      "state": {}
     },
     "c83ba357b11d448bb919b170214ab3f8": {
      "model_module": "@jupyter-widgets/controls",
      "model_module_version": "1.5.0",
      "model_name": "LinkModel",
      "state": {
       "source": [
        "IPY_MODEL_d1f4d8b1f12d42b4ae67f2e4abf8080b",
        "max"
       ],
       "target": [
        "IPY_MODEL_38282500b2694aab9b6bb2a4eed745a7",
        "max_frame"
       ]
      }
     },
     "c936e48c617640798e768a24467cfc77": {
      "model_module": "@jupyter-widgets/base",
      "model_module_version": "1.2.0",
      "model_name": "LayoutModel",
      "state": {}
     },
     "c99cb9ed2d6542f396d8e435df5a8b5e": {
      "model_module": "@jupyter-widgets/base",
      "model_module_version": "1.2.0",
      "model_name": "LayoutModel",
      "state": {}
     },
     "cab7ec09eead473696e6fef233eebdb7": {
      "model_module": "@jupyter-widgets/controls",
      "model_module_version": "1.5.0",
      "model_name": "ButtonModel",
      "state": {
       "icon": "compress",
       "layout": "IPY_MODEL_4824ae1ac7cc4ae381d31325e5438c69",
       "style": "IPY_MODEL_46b2d504c1ac496aa1acb5747cfd9c66"
      }
     },
     "cbaa71bccb1746689611f15a14ba49e1": {
      "model_module": "@jupyter-widgets/controls",
      "model_module_version": "1.5.0",
      "model_name": "IntSliderModel",
      "state": {
       "layout": "IPY_MODEL_f7535f14c62d4b72b3535a230c109c5f",
       "max": 0,
       "style": "IPY_MODEL_1b979f17b80c41e6be4cabd01d610450"
      }
     },
     "cc5f07e69680404ca5c556fb5e8f7cee": {
      "model_module": "@jupyter-widgets/controls",
      "model_module_version": "1.5.0",
      "model_name": "HBoxModel",
      "state": {
       "children": [
        "IPY_MODEL_3c2c099563af4e2693fb678217add5d7",
        "IPY_MODEL_813e64819f2c48ffa825439c630fd04c"
       ],
       "layout": "IPY_MODEL_fbe1ff0e8f084b53be5de6748a6f9266"
      }
     },
     "cd0955e5d7254bdd854689a35d979b8c": {
      "model_module": "@jupyter-widgets/base",
      "model_module_version": "1.2.0",
      "model_name": "LayoutModel",
      "state": {}
     },
     "cd87f44589ec4ba483e8f7ea80490d57": {
      "model_module": "@jupyter-widgets/base",
      "model_module_version": "1.2.0",
      "model_name": "LayoutModel",
      "state": {}
     },
     "ce0faeea9b3b4996be585fc3bf341e81": {
      "model_module": "@jupyter-widgets/controls",
      "model_module_version": "1.5.0",
      "model_name": "LinkModel",
      "state": {
       "source": [
        "IPY_MODEL_2d59815229534c74954c594467402af6",
        "value"
       ],
       "target": [
        "IPY_MODEL_2ccbe191fe2b4f9d8d51714108294e26",
        "frame"
       ]
      }
     },
     "cef1ac7c84044ff49e2ff8194cbdfc20": {
      "model_module": "@jupyter-widgets/base",
      "model_module_version": "1.2.0",
      "model_name": "LayoutModel",
      "state": {}
     },
     "cf62730034f0469386f2bbf995bf79e2": {
      "model_module": "@jupyter-widgets/controls",
      "model_module_version": "1.5.0",
      "model_name": "HBoxModel",
      "state": {
       "children": [
        "IPY_MODEL_d0857da9e7454dce843ea2c53098d5d1",
        "IPY_MODEL_23728bef7863453a81bff6e2bf781e02"
       ],
       "layout": "IPY_MODEL_d3c5cf8087674f5f95d58c900286462f"
      }
     },
     "d01ada86d25341aeb0764bcadd7fdfa2": {
      "model_module": "@jupyter-widgets/base",
      "model_module_version": "1.2.0",
      "model_name": "LayoutModel",
      "state": {}
     },
     "d0857da9e7454dce843ea2c53098d5d1": {
      "model_module": "@jupyter-widgets/controls",
      "model_module_version": "1.5.0",
      "model_name": "PlayModel",
      "state": {
       "layout": "IPY_MODEL_08031f0e880641c689969391855026ba",
       "max": 0,
       "style": "IPY_MODEL_b63d8be5cea64446b89db51ab54f2099"
      }
     },
     "d0dbde592b7d4b83bf699665c5bdef33": {
      "model_module": "@jupyter-widgets/controls",
      "model_module_version": "1.5.0",
      "model_name": "LinkModel",
      "state": {
       "source": [
        "IPY_MODEL_c025f3133c2a44c2aebe62be9d633ccb",
        "value"
       ],
       "target": [
        "IPY_MODEL_9ea6eb105805429e82b112e6c9e67307",
        "value"
       ]
      }
     },
     "d167ea2c4d0c492ab8edf4488b7021b9": {
      "model_module": "@jupyter-widgets/base",
      "model_module_version": "1.2.0",
      "model_name": "LayoutModel",
      "state": {
       "width": "34px"
      }
     },
     "d1f4d8b1f12d42b4ae67f2e4abf8080b": {
      "model_module": "@jupyter-widgets/controls",
      "model_module_version": "1.5.0",
      "model_name": "IntSliderModel",
      "state": {
       "layout": "IPY_MODEL_3795ced6efeb487bb419222199f804f5",
       "max": 0,
       "style": "IPY_MODEL_bafa05c2f1264f3f86cd8108bd4c053d"
      }
     },
     "d212c91c40ec41439bd8d26d5697045a": {
      "model_module": "@jupyter-widgets/controls",
      "model_module_version": "1.5.0",
      "model_name": "ButtonStyleModel",
      "state": {}
     },
     "d2f1d876d35040fca967bddb6c9798d8": {
      "model_module": "@jupyter-widgets/base",
      "model_module_version": "1.2.0",
      "model_name": "LayoutModel",
      "state": {}
     },
     "d302f960595e4badb74d5c684f49f821": {
      "model_module": "@jupyter-widgets/controls",
      "model_module_version": "1.5.0",
      "model_name": "IntSliderModel",
      "state": {
       "layout": "IPY_MODEL_eac05a57ff93449fad464292653c0898",
       "max": 0,
       "style": "IPY_MODEL_aed506ee683f424d8f0fe4b1263f174d"
      }
     },
     "d3058909994346ca90b73724ae4da121": {
      "model_module": "@jupyter-widgets/controls",
      "model_module_version": "1.5.0",
      "model_name": "LinkModel",
      "state": {
       "source": [
        "IPY_MODEL_17ca84af00af478fbb205caea15abcbb",
        "max"
       ],
       "target": [
        "IPY_MODEL_716d189f9c7a43eaa939bcd250f33a4b",
        "max_frame"
       ]
      }
     },
     "d35e5aee3a914b11a2fe68b2f934712b": {
      "model_module": "@jupyter-widgets/controls",
      "model_module_version": "1.5.0",
      "model_name": "SliderStyleModel",
      "state": {
       "description_width": ""
      }
     },
     "d3c5cf8087674f5f95d58c900286462f": {
      "model_module": "@jupyter-widgets/base",
      "model_module_version": "1.2.0",
      "model_name": "LayoutModel",
      "state": {}
     },
     "d3c7da689eb94657a0a218eff741e8aa": {
      "model_module": "@jupyter-widgets/base",
      "model_module_version": "1.2.0",
      "model_name": "LayoutModel",
      "state": {}
     },
     "d48692ee725544ee86253e87023d9c51": {
      "model_module": "@jupyter-widgets/controls",
      "model_module_version": "1.5.0",
      "model_name": "SliderStyleModel",
      "state": {
       "description_width": ""
      }
     },
     "d4cbcfa305ac47cb8f97f43b81ddd5ed": {
      "model_module": "@jupyter-widgets/controls",
      "model_module_version": "1.5.0",
      "model_name": "ImageModel",
      "state": {
       "layout": "IPY_MODEL_7078c4e7a78e497a9851abb692d252ff",
       "width": "900.0"
      }
     },
     "d5223aa96bbb43fda12cd2896174ff17": {
      "model_module": "@jupyter-widgets/controls",
      "model_module_version": "1.5.0",
      "model_name": "LinkModel",
      "state": {
       "source": [
        "IPY_MODEL_76aa286afdd24fd4a530c50a3d8abc10",
        "max"
       ],
       "target": [
        "IPY_MODEL_6b7f7be6cb0d478e8002a7fe819e55aa",
        "max_frame"
       ]
      }
     },
     "d5328501515146a58efebe29223244b2": {
      "model_module": "@jupyter-widgets/controls",
      "model_module_version": "1.5.0",
      "model_name": "LinkModel",
      "state": {
       "source": [
        "IPY_MODEL_a0c0e14fd7c244908097d4fd342192cb",
        "max"
       ],
       "target": [
        "IPY_MODEL_bee017367ca44506a20a7d58b3be4b02",
        "max_frame"
       ]
      }
     },
     "d5482d9df5524f059458e6c626b4760a": {
      "model_module": "@jupyter-widgets/base",
      "model_module_version": "1.2.0",
      "model_name": "LayoutModel",
      "state": {}
     },
     "d5eb1f8372784cc08f19f95321b5239b": {
      "model_module": "@jupyter-widgets/controls",
      "model_module_version": "1.5.0",
      "model_name": "LinkModel",
      "state": {
       "source": [
        "IPY_MODEL_2c5722d8e73b4eea8964df340a29bc18",
        "value"
       ],
       "target": [
        "IPY_MODEL_45a80eb4e95e4881b16c20a40b8d3300",
        "value"
       ]
      }
     },
     "d5f5f464f5974feb8cdc4ac1fb30d79f": {
      "model_module": "@jupyter-widgets/controls",
      "model_module_version": "1.5.0",
      "model_name": "LinkModel",
      "state": {
       "source": [
        "IPY_MODEL_788e2e705f404e3d8ad8eaea05969ecb",
        "max"
       ],
       "target": [
        "IPY_MODEL_607bbed7f0bf46718b65f0ddc9922a8b",
        "max_frame"
       ]
      }
     },
     "d62f5ce9f44d43f397ecf0487074fddf": {
      "model_module": "@jupyter-widgets/controls",
      "model_module_version": "1.5.0",
      "model_name": "ImageModel",
      "state": {
       "layout": "IPY_MODEL_e192ee143f9f49488144dcc6ebc7c330",
       "width": "900.0"
      }
     },
     "d7570f66913646d6805f5086985e674e": {
      "model_module": "@jupyter-widgets/controls",
      "model_module_version": "1.5.0",
      "model_name": "DescriptionStyleModel",
      "state": {
       "description_width": ""
      }
     },
     "d81eca6614634d95b4a09f000bd43a80": {
      "model_module": "@jupyter-widgets/base",
      "model_module_version": "1.2.0",
      "model_name": "LayoutModel",
      "state": {}
     },
     "d92586f2fc3c46c0b2bb3aaeb3e16e2c": {
      "model_module": "@jupyter-widgets/controls",
      "model_module_version": "1.5.0",
      "model_name": "PlayModel",
      "state": {
       "layout": "IPY_MODEL_3670551d862f487794f1c247a7eef879",
       "max": 0,
       "style": "IPY_MODEL_9d9c7d0589cb4d6aa16f8dd4d4f81b48"
      }
     },
     "d929273c840e4f09adb9fedd4c7dc918": {
      "model_module": "@jupyter-widgets/controls",
      "model_module_version": "1.5.0",
      "model_name": "LinkModel",
      "state": {
       "source": [
        "IPY_MODEL_2c5722d8e73b4eea8964df340a29bc18",
        "value"
       ],
       "target": [
        "IPY_MODEL_fe132e369c5e4a45a83894fe90e22b38",
        "frame"
       ]
      }
     },
     "d9dffc539a0a437498291569e08c0a81": {
      "model_module": "@jupyter-widgets/controls",
      "model_module_version": "1.5.0",
      "model_name": "LinkModel",
      "state": {
       "source": [
        "IPY_MODEL_81e73632a1d2495abb6547d6fee12fc8",
        "value"
       ],
       "target": [
        "IPY_MODEL_eb5799357011401197da905470cc41e7",
        "value"
       ]
      }
     },
     "da47b0a0381443c191d9198208ed3a7c": {
      "model_module": "@jupyter-widgets/base",
      "model_module_version": "1.2.0",
      "model_name": "LayoutModel",
      "state": {}
     },
     "db7ed512eabc4b569f034aa1cd6e9c8a": {
      "model_module": "@jupyter-widgets/controls",
      "model_module_version": "1.5.0",
      "model_name": "LinkModel",
      "state": {
       "source": [
        "IPY_MODEL_6096812504a94359b57cf47a7740ad85",
        "value"
       ],
       "target": [
        "IPY_MODEL_cbaa71bccb1746689611f15a14ba49e1",
        "value"
       ]
      }
     },
     "dba0e494c19c45f8be8921112d79b787": {
      "model_module": "@jupyter-widgets/controls",
      "model_module_version": "1.5.0",
      "model_name": "LinkModel",
      "state": {
       "source": [
        "IPY_MODEL_ec3faf11e1ef4f5bbd02fe3af81b79aa",
        "value"
       ],
       "target": [
        "IPY_MODEL_64290a182a6c4d498afe7330dbddf4d8",
        "value"
       ]
      }
     },
     "dc81837b77b14fae89de3cd432c828c8": {
      "model_module": "@jupyter-widgets/base",
      "model_module_version": "1.2.0",
      "model_name": "LayoutModel",
      "state": {}
     },
     "dcc6d21d133c493badc8fc96bff00be8": {
      "model_module": "@jupyter-widgets/controls",
      "model_module_version": "1.5.0",
      "model_name": "LinkModel",
      "state": {
       "source": [
        "IPY_MODEL_d92586f2fc3c46c0b2bb3aaeb3e16e2c",
        "max"
       ],
       "target": [
        "IPY_MODEL_e76b32c9e71c42eebcb32d5f759996ee",
        "max_frame"
       ]
      }
     },
     "dd75bb94c4a94a57ad344262a67dd884": {
      "model_module": "@jupyter-widgets/controls",
      "model_module_version": "1.5.0",
      "model_name": "ImageModel",
      "state": {
       "layout": "IPY_MODEL_b0c223b7c72343468251a165749d2fd1",
       "width": "900.0"
      }
     },
     "de133af62bba428abc834635fd2f9316": {
      "model_module": "nglview-js-widgets",
      "model_module_version": "2.7.1",
      "model_name": "ColormakerRegistryModel",
      "state": {
       "_msg_ar": [],
       "_msg_q": [],
       "_ready": true,
       "layout": "IPY_MODEL_759479cef6c847dd8099162b8af53dd9"
      }
     },
     "dfafcf0f7cf44ee09580953b1d68241c": {
      "model_module": "@jupyter-widgets/base",
      "model_module_version": "1.2.0",
      "model_name": "LayoutModel",
      "state": {}
     },
     "e07a1bd564644e11af24b5423d0d82c5": {
      "model_module": "@jupyter-widgets/controls",
      "model_module_version": "1.5.0",
      "model_name": "LinkModel",
      "state": {
       "source": [
        "IPY_MODEL_86be563ee65a41aaa4384de646a6547b",
        "max"
       ],
       "target": [
        "IPY_MODEL_93188f1b9278462cab3ea9e6a75dc1ed",
        "max_frame"
       ]
      }
     },
     "e09a7855fe9d4e8c8dbf3e0861bf58fa": {
      "model_module": "@jupyter-widgets/base",
      "model_module_version": "1.2.0",
      "model_name": "LayoutModel",
      "state": {}
     },
     "e192ee143f9f49488144dcc6ebc7c330": {
      "model_module": "@jupyter-widgets/base",
      "model_module_version": "1.2.0",
      "model_name": "LayoutModel",
      "state": {}
     },
     "e234e6bd397642818caae0ef568d9d80": {
      "model_module": "@jupyter-widgets/base",
      "model_module_version": "1.2.0",
      "model_name": "LayoutModel",
      "state": {}
     },
     "e238f46ec9034d04a4342f559530fc29": {
      "model_module": "@jupyter-widgets/controls",
      "model_module_version": "1.5.0",
      "model_name": "IntSliderModel",
      "state": {
       "layout": "IPY_MODEL_329e6cd629254869b04f3ae022bcfc90",
       "max": 0,
       "style": "IPY_MODEL_9198c206217b4888a5dd2af43e91d731"
      }
     },
     "e2e9c2aad51d49f3920d2f71687e4890": {
      "model_module": "@jupyter-widgets/base",
      "model_module_version": "1.2.0",
      "model_name": "LayoutModel",
      "state": {}
     },
     "e37574371144499391587e9157e8d2b6": {
      "model_module": "@jupyter-widgets/controls",
      "model_module_version": "1.5.0",
      "model_name": "IntSliderModel",
      "state": {
       "layout": "IPY_MODEL_64b871325c0746aba3fd3847d0e47b6b",
       "max": 0,
       "style": "IPY_MODEL_266074656b0247b1ac80492a250e81c7"
      }
     },
     "e3ab70d4cec24f97a10ae1d6ca73148a": {
      "model_module": "@jupyter-widgets/controls",
      "model_module_version": "1.5.0",
      "model_name": "LinkModel",
      "state": {
       "source": [
        "IPY_MODEL_2426b142f59d4749a5bea269e574b821",
        "value"
       ],
       "target": [
        "IPY_MODEL_95e5a1a48e9a479493166f2d07168744",
        "value"
       ]
      }
     },
     "e3fe6dcb9d3f486e8ca728174eaf2bb8": {
      "model_module": "@jupyter-widgets/controls",
      "model_module_version": "1.5.0",
      "model_name": "PlayModel",
      "state": {
       "layout": "IPY_MODEL_52f7a67d50734e54b66f82d06ee9d984",
       "max": 0,
       "style": "IPY_MODEL_358b78177ec64fcc8edf27c0414c6d62"
      }
     },
     "e43ca88c5e544dd48d740ae3586c84eb": {
      "model_module": "@jupyter-widgets/controls",
      "model_module_version": "1.5.0",
      "model_name": "ImageModel",
      "state": {
       "layout": "IPY_MODEL_6fca398a0e2c4403a9ea8c6fabd7b892",
       "width": "900.0"
      }
     },
     "e4ba7da3528c4617b0506972e270ce04": {
      "model_module": "@jupyter-widgets/controls",
      "model_module_version": "1.5.0",
      "model_name": "LinkModel",
      "state": {
       "source": [
        "IPY_MODEL_804b0dbd10ef4420927cb157f70173c5",
        "max"
       ],
       "target": [
        "IPY_MODEL_2da5123add1b421bb9463e71b01b8107",
        "max_frame"
       ]
      }
     },
     "e5d2ea6f0dea4a92801999cbf845c1da": {
      "model_module": "@jupyter-widgets/base",
      "model_module_version": "1.2.0",
      "model_name": "LayoutModel",
      "state": {}
     },
     "e5f08862997f4714a92cd090faf53c53": {
      "model_module": "@jupyter-widgets/controls",
      "model_module_version": "1.5.0",
      "model_name": "LinkModel",
      "state": {
       "source": [
        "IPY_MODEL_d0857da9e7454dce843ea2c53098d5d1",
        "max"
       ],
       "target": [
        "IPY_MODEL_f7c85dd42d4943908cf7d0ecb390edf2",
        "max_frame"
       ]
      }
     },
     "e68d95ba18d54e4ca612f327f197d641": {
      "model_module": "@jupyter-widgets/controls",
      "model_module_version": "1.5.0",
      "model_name": "SliderStyleModel",
      "state": {
       "description_width": ""
      }
     },
     "e707ec84756d41e2b4f2b7781a4cf3f6": {
      "model_module": "@jupyter-widgets/controls",
      "model_module_version": "1.5.0",
      "model_name": "LinkModel",
      "state": {
       "source": [
        "IPY_MODEL_81e73632a1d2495abb6547d6fee12fc8",
        "value"
       ],
       "target": [
        "IPY_MODEL_c5d8541b208b4c5e9a24a6b2d81a03b1",
        "frame"
       ]
      }
     },
     "e74f244ec8f84f15bff9798f404237c0": {
      "model_module": "@jupyter-widgets/controls",
      "model_module_version": "1.5.0",
      "model_name": "HBoxModel",
      "state": {
       "children": [
        "IPY_MODEL_e3fe6dcb9d3f486e8ca728174eaf2bb8",
        "IPY_MODEL_4fbe978adb584bb7a874aa47016a05cc"
       ],
       "layout": "IPY_MODEL_14e59bda4a254d7989559d5f93ac9e63"
      }
     },
     "e76b32c9e71c42eebcb32d5f759996ee": {
      "model_module": "nglview-js-widgets",
      "model_module_version": "2.7.1",
      "model_name": "NGLModel",
      "state": {
       "_camera_orientation": [
        50.69629808994817,
        0,
        0,
        0,
        0,
        50.69629808994817,
        0,
        0,
        0,
        0,
        50.69629808994817,
        0,
        -2.28410005569458,
        -0.42535001039505005,
        0,
        1
       ],
       "_camera_str": "orthographic",
       "_gui_theme": null,
       "_ibtn_fullscreen": "IPY_MODEL_01dc4083a9084fc58155e86dbb6be27d",
       "_igui": null,
       "_iplayer": "IPY_MODEL_fb310a4cc9fe4330a8f22408d82d1014",
       "_ngl_color_dict": {},
       "_ngl_coordinate_resource": {},
       "_ngl_full_stage_parameters": {
        "ambientColor": 14540253,
        "ambientIntensity": 0.2,
        "backgroundColor": "white",
        "cameraEyeSep": 0.3,
        "cameraFov": 40,
        "cameraType": "perspective",
        "clipDist": 10,
        "clipFar": 100,
        "clipNear": 0,
        "fogFar": 100,
        "fogNear": 50,
        "hoverTimeout": 0,
        "impostor": true,
        "lightColor": 14540253,
        "lightIntensity": 1,
        "mousePreset": "default",
        "panSpeed": 1,
        "quality": "medium",
        "rotateSpeed": 2,
        "sampleLevel": 0,
        "tooltip": true,
        "workerDefault": true,
        "zoomSpeed": 1.2
       },
       "_ngl_msg_archive": [
        {
         "args": [
          {
           "binary": false,
           "data": "\nQCElemental\n\n  9  8  0  0  0  0  0  0  0  0  0\n    0.9873   -0.0049    0.0042 C   0  0     0  0  0  0  0  0\n    2.4063    0.0194    0.0000 O   0  0     0  0  0  0  0  0\n    2.9029    1.3489   -0.0042 C   0  0     0  0  0  0  0  0\n    0.6799   -1.0584    0.0043 H   0  0     0  0  0  0  0  0\n    0.5697    0.4941   -0.8918 H   0  0     0  0  0  0  0  0\n    0.5752    0.4927    0.9036 H   0  0     0  0  0  0  0  0\n    3.9985    1.2870   -0.0043 H   0  0     0  0  0  0  0  0\n    2.5719    1.9091    0.8918 H   0  0     0  0  0  0  0  0\n    2.5713    1.9034   -0.9036 H   0  0     0  0  0  0  0  0\n  1  2  1  0  0  0  0\n  1  4  1  0  0  0  0\n  1  5  1  0  0  0  0\n  1  6  1  0  0  0  0\n  2  3  1  0  0  0  0\n  3  7  1  0  0  0  0\n  3  8  1  0  0  0  0\n  3  9  1  0  0  0  0\n",
           "type": "blob"
          }
         ],
         "kwargs": {
          "defaultRepresentation": true,
          "ext": "sdf"
         },
         "methodName": "loadFile",
         "reconstruc_color_scheme": false,
         "target": "Stage",
         "type": "call_method"
        }
       ],
       "_ngl_original_stage_parameters": {
        "ambientColor": 14540253,
        "ambientIntensity": 0.2,
        "backgroundColor": "white",
        "cameraEyeSep": 0.3,
        "cameraFov": 40,
        "cameraType": "perspective",
        "clipDist": 10,
        "clipFar": 100,
        "clipNear": 0,
        "fogFar": 100,
        "fogNear": 50,
        "hoverTimeout": 0,
        "impostor": true,
        "lightColor": 14540253,
        "lightIntensity": 1,
        "mousePreset": "default",
        "panSpeed": 1,
        "quality": "medium",
        "rotateSpeed": 2,
        "sampleLevel": 0,
        "tooltip": true,
        "workerDefault": true,
        "zoomSpeed": 1.2
       },
       "_ngl_repr_dict": {
        "0": {
         "0": {
          "params": {
           "aspectRatio": 1.5,
           "assembly": "default",
           "bondScale": 0.3,
           "bondSpacing": 0.75,
           "clipCenter": {
            "x": 0,
            "y": 0,
            "z": 0
           },
           "clipNear": 0,
           "clipRadius": 0,
           "colorMode": "hcl",
           "colorReverse": false,
           "colorScale": "",
           "colorScheme": "element",
           "colorValue": 9474192,
           "cylinderOnly": false,
           "defaultAssembly": "",
           "depthWrite": true,
           "diffuse": 16777215,
           "diffuseInterior": false,
           "disableImpostor": false,
           "disablePicking": false,
           "flatShaded": false,
           "interiorColor": 2236962,
           "interiorDarkening": 0,
           "lazy": false,
           "lineOnly": false,
           "linewidth": 2,
           "matrix": {
            "elements": [
             1,
             0,
             0,
             0,
             0,
             1,
             0,
             0,
             0,
             0,
             1,
             0,
             0,
             0,
             0,
             1
            ]
           },
           "metalness": 0,
           "multipleBond": "off",
           "opacity": 1,
           "openEnded": true,
           "quality": "high",
           "radialSegments": 20,
           "radiusData": {},
           "radiusScale": 2,
           "radiusSize": 0.15,
           "radiusType": "size",
           "roughness": 0.4,
           "sele": "",
           "side": "double",
           "sphereDetail": 2,
           "useInteriorColor": true,
           "visible": true,
           "wireframe": false
          },
          "type": "ball+stick"
         }
        }
       },
       "_ngl_serialize": false,
       "_ngl_version": "2.0.0-dev.36",
       "_ngl_view_id": [
        "102657A1-5AB8-4C14-A9A6-253684B2608C"
       ],
       "_player_dict": {},
       "_scene_position": {},
       "_scene_rotation": {},
       "_synced_model_ids": [],
       "_synced_repr_model_ids": [],
       "_view_height": "",
       "_view_width": "",
       "background": "white",
       "frame": 0,
       "gui_style": null,
       "layout": "IPY_MODEL_398b288639994297ab91ce4a8f611197",
       "max_frame": 0,
       "n_components": 1,
       "picked": {}
      }
     },
     "e784387b0b9a4139bdca13c56d587bb3": {
      "model_module": "@jupyter-widgets/controls",
      "model_module_version": "1.5.0",
      "model_name": "ImageModel",
      "state": {
       "layout": "IPY_MODEL_d81eca6614634d95b4a09f000bd43a80",
       "width": "900.0"
      }
     },
     "e7e5c54c393e4df292faf7c0e71470e6": {
      "model_module": "@jupyter-widgets/controls",
      "model_module_version": "1.5.0",
      "model_name": "ButtonStyleModel",
      "state": {}
     },
     "e7ea99e76d764651b7916f4564039d83": {
      "model_module": "nglview-js-widgets",
      "model_module_version": "2.7.1",
      "model_name": "NGLModel",
      "state": {
       "_camera_orientation": [
        16.137138161209307,
        0,
        0,
        0,
        0,
        16.137138161209307,
        0,
        0,
        0,
        0,
        16.137138161209307,
        0,
        -1.8113499879837036,
        -0.3889000415802002,
        0.0037999749183654785,
        1
       ],
       "_camera_str": "orthographic",
       "_gui_theme": null,
       "_ibtn_fullscreen": "IPY_MODEL_9d193758c8244503b082e3a06f7b909a",
       "_igui": null,
       "_iplayer": "IPY_MODEL_b32aa4ad1d66439bb8e78903bb1bdd12",
       "_ngl_color_dict": {},
       "_ngl_coordinate_resource": {},
       "_ngl_full_stage_parameters": {
        "ambientColor": 14540253,
        "ambientIntensity": 0.2,
        "backgroundColor": "white",
        "cameraEyeSep": 0.3,
        "cameraFov": 40,
        "cameraType": "perspective",
        "clipDist": 10,
        "clipFar": 100,
        "clipNear": 0,
        "fogFar": 100,
        "fogNear": 50,
        "hoverTimeout": 0,
        "impostor": true,
        "lightColor": 14540253,
        "lightIntensity": 1,
        "mousePreset": "default",
        "panSpeed": 1,
        "quality": "medium",
        "rotateSpeed": 2,
        "sampleLevel": 0,
        "tooltip": true,
        "workerDefault": true,
        "zoomSpeed": 1.2
       },
       "_ngl_msg_archive": [
        {
         "args": [
          {
           "binary": false,
           "data": "\nQCElemental\n\n  9  8  0  0  0  0  0  0  0  0  0\n    0.9868   -0.0056    0.0038 C   0  0     0  0  0  0  0  0\n    2.5093    0.0197   -0.0155 C   0  0     0  0  0  0  0  0\n    3.0530    1.3461    0.0232 O   0  0     0  0  0  0  0  0\n    0.6177   -1.0421    0.0252 H   0  0     0  0  0  0  0  0\n    0.5697    0.4765   -0.8942 H   0  0     0  0  0  0  0  0\n    0.6003    0.5207    0.8877 H   0  0     0  0  0  0  0  0\n    2.8902   -0.5323   -0.8953 H   0  0     0  0  0  0  0  0\n    2.9114   -0.4777    0.8795 H   0  0     0  0  0  0  0  0\n    2.7317    1.8199   -0.7640 H   0  0     0  0  0  0  0  0\n  1  2  1  0  0  0  0\n  1  4  1  0  0  0  0\n  1  5  1  0  0  0  0\n  1  6  1  0  0  0  0\n  2  3  1  0  0  0  0\n  2  7  1  0  0  0  0\n  2  8  1  0  0  0  0\n  3  9  1  0  0  0  0\n",
           "type": "blob"
          }
         ],
         "kwargs": {
          "defaultRepresentation": true,
          "ext": "sdf"
         },
         "methodName": "loadFile",
         "reconstruc_color_scheme": false,
         "target": "Stage",
         "type": "call_method"
        }
       ],
       "_ngl_original_stage_parameters": {
        "ambientColor": 14540253,
        "ambientIntensity": 0.2,
        "backgroundColor": "white",
        "cameraEyeSep": 0.3,
        "cameraFov": 40,
        "cameraType": "perspective",
        "clipDist": 10,
        "clipFar": 100,
        "clipNear": 0,
        "fogFar": 100,
        "fogNear": 50,
        "hoverTimeout": 0,
        "impostor": true,
        "lightColor": 14540253,
        "lightIntensity": 1,
        "mousePreset": "default",
        "panSpeed": 1,
        "quality": "medium",
        "rotateSpeed": 2,
        "sampleLevel": 0,
        "tooltip": true,
        "workerDefault": true,
        "zoomSpeed": 1.2
       },
       "_ngl_repr_dict": {
        "0": {
         "0": {
          "params": {
           "aspectRatio": 1.5,
           "assembly": "default",
           "bondScale": 0.3,
           "bondSpacing": 0.75,
           "clipCenter": {
            "x": 0,
            "y": 0,
            "z": 0
           },
           "clipNear": 0,
           "clipRadius": 0,
           "colorMode": "hcl",
           "colorReverse": false,
           "colorScale": "",
           "colorScheme": "element",
           "colorValue": 9474192,
           "cylinderOnly": false,
           "defaultAssembly": "",
           "depthWrite": true,
           "diffuse": 16777215,
           "diffuseInterior": false,
           "disableImpostor": false,
           "disablePicking": false,
           "flatShaded": false,
           "interiorColor": 2236962,
           "interiorDarkening": 0,
           "lazy": false,
           "lineOnly": false,
           "linewidth": 2,
           "matrix": {
            "elements": [
             1,
             0,
             0,
             0,
             0,
             1,
             0,
             0,
             0,
             0,
             1,
             0,
             0,
             0,
             0,
             1
            ]
           },
           "metalness": 0,
           "multipleBond": "off",
           "opacity": 1,
           "openEnded": true,
           "quality": "high",
           "radialSegments": 20,
           "radiusData": {},
           "radiusScale": 2,
           "radiusSize": 0.15,
           "radiusType": "size",
           "roughness": 0.4,
           "sele": "",
           "side": "double",
           "sphereDetail": 2,
           "useInteriorColor": true,
           "visible": true,
           "wireframe": false
          },
          "type": "ball+stick"
         }
        }
       },
       "_ngl_serialize": false,
       "_ngl_version": "2.0.0-dev.36",
       "_ngl_view_id": [
        "F2526144-C16E-463E-9A3B-0DD0730B7F36"
       ],
       "_player_dict": {},
       "_scene_position": {},
       "_scene_rotation": {},
       "_synced_model_ids": [],
       "_synced_repr_model_ids": [],
       "_view_height": "",
       "_view_width": "",
       "background": "white",
       "frame": 0,
       "gui_style": null,
       "layout": "IPY_MODEL_689b37fe9fd64a15a366360c7b1fca63",
       "max_frame": 0,
       "n_components": 1,
       "picked": {}
      }
     },
     "e8ae57e1e7a74c07ba8a2ff0c9fd7701": {
      "model_module": "@jupyter-widgets/controls",
      "model_module_version": "1.5.0",
      "model_name": "SliderStyleModel",
      "state": {
       "description_width": ""
      }
     },
     "e8bec8fc49674e089f3ed7fb96dd527a": {
      "model_module": "@jupyter-widgets/controls",
      "model_module_version": "1.5.0",
      "model_name": "LinkModel",
      "state": {
       "source": [
        "IPY_MODEL_70cc2982ff3742cf9afdf8d49071f71d",
        "value"
       ],
       "target": [
        "IPY_MODEL_e238f46ec9034d04a4342f559530fc29",
        "value"
       ]
      }
     },
     "e92b7433559a4ee3b909178e09f53a6a": {
      "model_module": "@jupyter-widgets/controls",
      "model_module_version": "1.5.0",
      "model_name": "ButtonModel",
      "state": {
       "icon": "compress",
       "layout": "IPY_MODEL_3500600196ab4627a09828299a4d6004",
       "style": "IPY_MODEL_b6452ffbaf59421194adaef78157c421"
      }
     },
     "e956d3c975e64299ac9bc2d85117bc2b": {
      "model_module": "@jupyter-widgets/controls",
      "model_module_version": "1.5.0",
      "model_name": "ButtonStyleModel",
      "state": {}
     },
     "e9a72cdfab3d4430add24558cdced159": {
      "model_module": "@jupyter-widgets/controls",
      "model_module_version": "1.5.0",
      "model_name": "LinkModel",
      "state": {
       "source": [
        "IPY_MODEL_57bdf530543c45b89755c431d8cada42",
        "max"
       ],
       "target": [
        "IPY_MODEL_e76b32c9e71c42eebcb32d5f759996ee",
        "max_frame"
       ]
      }
     },
     "eac05a57ff93449fad464292653c0898": {
      "model_module": "@jupyter-widgets/base",
      "model_module_version": "1.2.0",
      "model_name": "LayoutModel",
      "state": {}
     },
     "eb08f99342cc4affb13d23a74d4f77be": {
      "model_module": "@jupyter-widgets/base",
      "model_module_version": "1.2.0",
      "model_name": "LayoutModel",
      "state": {
       "width": "34px"
      }
     },
     "eb5799357011401197da905470cc41e7": {
      "model_module": "@jupyter-widgets/controls",
      "model_module_version": "1.5.0",
      "model_name": "IntSliderModel",
      "state": {
       "layout": "IPY_MODEL_8fbf297c4f4d444ab15179f7a06af665",
       "max": 0,
       "style": "IPY_MODEL_366d815a2885408ca3f612c4cec7ac75"
      }
     },
     "ec0af6fa952b4542a75cdfbe3ac9c9b5": {
      "model_module": "@jupyter-widgets/base",
      "model_module_version": "1.2.0",
      "model_name": "LayoutModel",
      "state": {}
     },
     "ec3faf11e1ef4f5bbd02fe3af81b79aa": {
      "model_module": "@jupyter-widgets/controls",
      "model_module_version": "1.5.0",
      "model_name": "PlayModel",
      "state": {
       "layout": "IPY_MODEL_1afcd9b1d49e4ffa86f232d28bd07690",
       "max": 0,
       "style": "IPY_MODEL_4404a6d27a004f328ffbf0c3ada65318"
      }
     },
     "ee8bf733106c495b8944d1bfc8fe1112": {
      "model_module": "@jupyter-widgets/base",
      "model_module_version": "1.2.0",
      "model_name": "LayoutModel",
      "state": {}
     },
     "eeb43db1ba23476c8a5b924ab5fd48b0": {
      "model_module": "@jupyter-widgets/controls",
      "model_module_version": "1.5.0",
      "model_name": "LinkModel",
      "state": {
       "source": [
        "IPY_MODEL_beb56c8ddb5c45a6822b28f08d3e2cd2",
        "max"
       ],
       "target": [
        "IPY_MODEL_bee017367ca44506a20a7d58b3be4b02",
        "max_frame"
       ]
      }
     },
     "f0946e76b3d54d7ca8bd6ad75e37fe35": {
      "model_module": "@jupyter-widgets/base",
      "model_module_version": "1.2.0",
      "model_name": "LayoutModel",
      "state": {}
     },
     "f10218126a914d2293931d782d99297d": {
      "model_module": "@jupyter-widgets/controls",
      "model_module_version": "1.5.0",
      "model_name": "ButtonStyleModel",
      "state": {}
     },
     "f1b58f50ac0a4069aa66b85f4c60dfd6": {
      "model_module": "@jupyter-widgets/controls",
      "model_module_version": "1.5.0",
      "model_name": "ButtonModel",
      "state": {
       "icon": "compress",
       "layout": "IPY_MODEL_7a3e91b675964e4195264dd3d20a5db7",
       "style": "IPY_MODEL_87ed7b5329084174a0d5267134589230"
      }
     },
     "f2cb941812fa44ceb5d5f9cf4112df66": {
      "model_module": "@jupyter-widgets/base",
      "model_module_version": "1.2.0",
      "model_name": "LayoutModel",
      "state": {}
     },
     "f2de830bb5694f7c8d9ef303cb32b1dc": {
      "model_module": "@jupyter-widgets/controls",
      "model_module_version": "1.5.0",
      "model_name": "ButtonModel",
      "state": {
       "icon": "compress",
       "layout": "IPY_MODEL_bac77811bc504d2dab4a1ac055d75a96",
       "style": "IPY_MODEL_15672b0edfc346988ad7d8eb0cf05714"
      }
     },
     "f34b698f7a2447a3b2f60ec378cd6bfb": {
      "model_module": "@jupyter-widgets/base",
      "model_module_version": "1.2.0",
      "model_name": "LayoutModel",
      "state": {}
     },
     "f36b1d9f0fe641779352ba3632d1df10": {
      "model_module": "@jupyter-widgets/base",
      "model_module_version": "1.2.0",
      "model_name": "LayoutModel",
      "state": {}
     },
     "f3ac13e7e7f445c6988e1779e9bd544c": {
      "model_module": "@jupyter-widgets/controls",
      "model_module_version": "1.5.0",
      "model_name": "ButtonStyleModel",
      "state": {}
     },
     "f40f5b0ddcd745128ad029c2d107dad2": {
      "model_module": "@jupyter-widgets/controls",
      "model_module_version": "1.5.0",
      "model_name": "SliderStyleModel",
      "state": {
       "description_width": ""
      }
     },
     "f469c9792e9c423d977012aea913b2f9": {
      "model_module": "@jupyter-widgets/controls",
      "model_module_version": "1.5.0",
      "model_name": "LinkModel",
      "state": {
       "source": [
        "IPY_MODEL_d92586f2fc3c46c0b2bb3aaeb3e16e2c",
        "value"
       ],
       "target": [
        "IPY_MODEL_e76b32c9e71c42eebcb32d5f759996ee",
        "frame"
       ]
      }
     },
     "f5dd74e1a3a44c369751a14a4b969478": {
      "model_module": "@jupyter-widgets/base",
      "model_module_version": "1.2.0",
      "model_name": "LayoutModel",
      "state": {}
     },
     "f667a44594fc42458a5e35048cb0f728": {
      "model_module": "@jupyter-widgets/controls",
      "model_module_version": "1.5.0",
      "model_name": "LinkModel",
      "state": {
       "source": [
        "IPY_MODEL_d302f960595e4badb74d5c684f49f821",
        "max"
       ],
       "target": [
        "IPY_MODEL_607bbed7f0bf46718b65f0ddc9922a8b",
        "max_frame"
       ]
      }
     },
     "f697cef67b4a4d1088a72ff8042f07e4": {
      "model_module": "nglview-js-widgets",
      "model_module_version": "2.7.1",
      "model_name": "NGLModel",
      "state": {
       "_camera_orientation": [
        10.068109111964697,
        2.849397002664047,
        -4.483387066247675,
        0,
        1.0511381967923767,
        8.348936694023388,
        7.666616497872272,
        0,
        5.207199953509751,
        -7.19463944582444,
        7.121016489502737,
        0,
        -3.3582999855279922,
        -0.7177500128746033,
        0.003500014543533325,
        1
       ],
       "_camera_str": "orthographic",
       "_gui_theme": null,
       "_ibtn_fullscreen": "IPY_MODEL_b9d2181b956c404bba3cdc0783f2d2ec",
       "_igui": null,
       "_iplayer": "IPY_MODEL_aebdc44611084d469bacec9bde399305",
       "_ngl_color_dict": {},
       "_ngl_coordinate_resource": {},
       "_ngl_full_stage_parameters": {
        "ambientColor": 14540253,
        "ambientIntensity": 0.2,
        "backgroundColor": "white",
        "cameraEyeSep": 0.3,
        "cameraFov": 40,
        "cameraType": "perspective",
        "clipDist": 10,
        "clipFar": 100,
        "clipNear": 0,
        "fogFar": 100,
        "fogNear": 50,
        "hoverTimeout": 0,
        "impostor": true,
        "lightColor": 14540253,
        "lightIntensity": 1,
        "mousePreset": "default",
        "panSpeed": 1,
        "quality": "medium",
        "rotateSpeed": 2,
        "sampleLevel": 0,
        "tooltip": true,
        "workerDefault": true,
        "zoomSpeed": 1.2
       },
       "_ngl_msg_archive": [
        {
         "args": [
          {
           "binary": false,
           "data": "\nQCElemental\n\n 13 12  0  0  0  0  0  0  0  0  0\n    0.7070    0.1137   -0.0629 C   0  0     0  0  0  0  0  0\n    2.1569   -0.1182    0.2289 C   0  0     0  0  0  0  0  0\n    3.1101    0.8155    0.0808 C   0  0     0  0  0  0  0  0\n    4.4698    0.6257    0.3461 N   0  0     0  0  0  0  0  0\n    5.4444    1.5837    0.1939 C   0  0     0  0  0  0  0  0\n    6.6313    1.4051    0.4298 O   0  0     0  0  0  0  0  0\n    0.3376   -0.5769   -0.8380 H   0  0     0  0  0  0  0  0\n    0.5239    1.1399   -0.4112 H   0  0     0  0  0  0  0  0\n    0.0853   -0.0552    0.8310 H   0  0     0  0  0  0  0  0\n    2.4419   -1.1147    0.5841 H   0  0     0  0  0  0  0  0\n    2.8709    1.8227   -0.2707 H   0  0     0  0  0  0  0  0\n    4.7910   -0.2841    0.6794 H   0  0     0  0  0  0  0  0\n    5.0271    2.5502   -0.1712 H   0  0     0  0  0  0  0  0\n  1  2  1  0  0  0  0\n  1  7  1  0  0  0  0\n  1  8  1  0  0  0  0\n  1  9  1  0  0  0  0\n  2  3  1  0  0  0  0\n  2 10  1  0  0  0  0\n  3  4  1  0  0  0  0\n  3 11  1  0  0  0  0\n  4  5  1  0  0  0  0\n  4 12  1  0  0  0  0\n  5  6  1  0  0  0  0\n  5 13  1  0  0  0  0\n",
           "type": "blob"
          }
         ],
         "kwargs": {
          "defaultRepresentation": true,
          "ext": "sdf"
         },
         "methodName": "loadFile",
         "reconstruc_color_scheme": false,
         "target": "Stage",
         "type": "call_method"
        }
       ],
       "_ngl_original_stage_parameters": {
        "ambientColor": 14540253,
        "ambientIntensity": 0.2,
        "backgroundColor": "white",
        "cameraEyeSep": 0.3,
        "cameraFov": 40,
        "cameraType": "perspective",
        "clipDist": 10,
        "clipFar": 100,
        "clipNear": 0,
        "fogFar": 100,
        "fogNear": 50,
        "hoverTimeout": 0,
        "impostor": true,
        "lightColor": 14540253,
        "lightIntensity": 1,
        "mousePreset": "default",
        "panSpeed": 1,
        "quality": "medium",
        "rotateSpeed": 2,
        "sampleLevel": 0,
        "tooltip": true,
        "workerDefault": true,
        "zoomSpeed": 1.2
       },
       "_ngl_repr_dict": {
        "0": {
         "0": {
          "params": {
           "aspectRatio": 1.5,
           "assembly": "default",
           "bondScale": 0.3,
           "bondSpacing": 0.75,
           "clipCenter": {
            "x": 0,
            "y": 0,
            "z": 0
           },
           "clipNear": 0,
           "clipRadius": 0,
           "colorMode": "hcl",
           "colorReverse": false,
           "colorScale": "",
           "colorScheme": "element",
           "colorValue": 9474192,
           "cylinderOnly": false,
           "defaultAssembly": "",
           "depthWrite": true,
           "diffuse": 16777215,
           "diffuseInterior": false,
           "disableImpostor": false,
           "disablePicking": false,
           "flatShaded": false,
           "interiorColor": 2236962,
           "interiorDarkening": 0,
           "lazy": false,
           "lineOnly": false,
           "linewidth": 2,
           "matrix": {
            "elements": [
             1,
             0,
             0,
             0,
             0,
             1,
             0,
             0,
             0,
             0,
             1,
             0,
             0,
             0,
             0,
             1
            ]
           },
           "metalness": 0,
           "multipleBond": "off",
           "opacity": 1,
           "openEnded": true,
           "quality": "high",
           "radialSegments": 20,
           "radiusData": {},
           "radiusScale": 2,
           "radiusSize": 0.15,
           "radiusType": "size",
           "roughness": 0.4,
           "sele": "",
           "side": "double",
           "sphereDetail": 2,
           "useInteriorColor": true,
           "visible": true,
           "wireframe": false
          },
          "type": "ball+stick"
         }
        }
       },
       "_ngl_serialize": false,
       "_ngl_version": "2.0.0-dev.36",
       "_ngl_view_id": [
        "5ABEC261-206F-4835-B8F1-759DB8769139"
       ],
       "_player_dict": {},
       "_scene_position": {},
       "_scene_rotation": {},
       "_synced_model_ids": [],
       "_synced_repr_model_ids": [],
       "_view_height": "",
       "_view_width": "",
       "background": "white",
       "frame": 0,
       "gui_style": null,
       "layout": "IPY_MODEL_ada21ed377e24c288fbf7347df81f6aa",
       "max_frame": 0,
       "n_components": 1,
       "picked": {}
      }
     },
     "f7535f14c62d4b72b3535a230c109c5f": {
      "model_module": "@jupyter-widgets/base",
      "model_module_version": "1.2.0",
      "model_name": "LayoutModel",
      "state": {}
     },
     "f7c85dd42d4943908cf7d0ecb390edf2": {
      "model_module": "nglview-js-widgets",
      "model_module_version": "2.7.1",
      "model_name": "NGLModel",
      "state": {
       "_camera_orientation": [
        1.333236055832244,
        1.7609358507442854,
        -1.2392573750480693,
        0,
        0.8463390250507782,
        0.9117250646321741,
        2.206046226581875,
        0,
        1.9799909511721576,
        -1.5754474376200565,
        -0.10850574727373431,
        0,
        -2.28410005569458,
        -0.42535001039505005,
        0,
        1
       ],
       "_camera_str": "orthographic",
       "_gui_theme": null,
       "_ibtn_fullscreen": "IPY_MODEL_30fc22ad37ec4b15af5caac15544f8cb",
       "_igui": null,
       "_iplayer": "IPY_MODEL_cf62730034f0469386f2bbf995bf79e2",
       "_ngl_color_dict": {},
       "_ngl_coordinate_resource": {},
       "_ngl_full_stage_parameters": {
        "ambientColor": 14540253,
        "ambientIntensity": 0.2,
        "backgroundColor": "white",
        "cameraEyeSep": 0.3,
        "cameraFov": 40,
        "cameraType": "perspective",
        "clipDist": 10,
        "clipFar": 100,
        "clipNear": 0,
        "fogFar": 100,
        "fogNear": 50,
        "hoverTimeout": 0,
        "impostor": true,
        "lightColor": 14540253,
        "lightIntensity": 1,
        "mousePreset": "default",
        "panSpeed": 1,
        "quality": "medium",
        "rotateSpeed": 2,
        "sampleLevel": 0,
        "tooltip": true,
        "workerDefault": true,
        "zoomSpeed": 1.2
       },
       "_ngl_msg_archive": [
        {
         "args": [
          {
           "binary": false,
           "data": "\nQCElemental\n\n  9  8  0  0  0  0  0  0  0  0  0\n    0.9873   -0.0049    0.0042 C   0  0     0  0  0  0  0  0\n    2.4063    0.0194    0.0000 O   0  0     0  0  0  0  0  0\n    2.9029    1.3489   -0.0042 C   0  0     0  0  0  0  0  0\n    0.6799   -1.0584    0.0043 H   0  0     0  0  0  0  0  0\n    0.5697    0.4941   -0.8918 H   0  0     0  0  0  0  0  0\n    0.5752    0.4927    0.9036 H   0  0     0  0  0  0  0  0\n    3.9985    1.2870   -0.0043 H   0  0     0  0  0  0  0  0\n    2.5719    1.9091    0.8918 H   0  0     0  0  0  0  0  0\n    2.5713    1.9034   -0.9036 H   0  0     0  0  0  0  0  0\n  1  2  1  0  0  0  0\n  1  4  1  0  0  0  0\n  1  5  1  0  0  0  0\n  1  6  1  0  0  0  0\n  2  3  1  0  0  0  0\n  3  7  1  0  0  0  0\n  3  8  1  0  0  0  0\n  3  9  1  0  0  0  0\n",
           "type": "blob"
          }
         ],
         "kwargs": {
          "defaultRepresentation": true,
          "ext": "sdf"
         },
         "methodName": "loadFile",
         "reconstruc_color_scheme": false,
         "target": "Stage",
         "type": "call_method"
        }
       ],
       "_ngl_original_stage_parameters": {
        "ambientColor": 14540253,
        "ambientIntensity": 0.2,
        "backgroundColor": "white",
        "cameraEyeSep": 0.3,
        "cameraFov": 40,
        "cameraType": "perspective",
        "clipDist": 10,
        "clipFar": 100,
        "clipNear": 0,
        "fogFar": 100,
        "fogNear": 50,
        "hoverTimeout": 0,
        "impostor": true,
        "lightColor": 14540253,
        "lightIntensity": 1,
        "mousePreset": "default",
        "panSpeed": 1,
        "quality": "medium",
        "rotateSpeed": 2,
        "sampleLevel": 0,
        "tooltip": true,
        "workerDefault": true,
        "zoomSpeed": 1.2
       },
       "_ngl_repr_dict": {
        "0": {
         "0": {
          "params": {
           "aspectRatio": 1.5,
           "assembly": "default",
           "bondScale": 0.3,
           "bondSpacing": 0.75,
           "clipCenter": {
            "x": 0,
            "y": 0,
            "z": 0
           },
           "clipNear": 0,
           "clipRadius": 0,
           "colorMode": "hcl",
           "colorReverse": false,
           "colorScale": "",
           "colorScheme": "element",
           "colorValue": 9474192,
           "cylinderOnly": false,
           "defaultAssembly": "",
           "depthWrite": true,
           "diffuse": 16777215,
           "diffuseInterior": false,
           "disableImpostor": false,
           "disablePicking": false,
           "flatShaded": false,
           "interiorColor": 2236962,
           "interiorDarkening": 0,
           "lazy": false,
           "lineOnly": false,
           "linewidth": 2,
           "matrix": {
            "elements": [
             1,
             0,
             0,
             0,
             0,
             1,
             0,
             0,
             0,
             0,
             1,
             0,
             0,
             0,
             0,
             1
            ]
           },
           "metalness": 0,
           "multipleBond": "off",
           "opacity": 1,
           "openEnded": true,
           "quality": "high",
           "radialSegments": 20,
           "radiusData": {},
           "radiusScale": 2,
           "radiusSize": 0.15,
           "radiusType": "size",
           "roughness": 0.4,
           "sele": "",
           "side": "double",
           "sphereDetail": 2,
           "useInteriorColor": true,
           "visible": true,
           "wireframe": false
          },
          "type": "ball+stick"
         }
        }
       },
       "_ngl_serialize": false,
       "_ngl_version": "2.0.0-dev.36",
       "_ngl_view_id": [
        "20E62FA6-D45D-424E-953B-7FE0EBA7F563"
       ],
       "_player_dict": {},
       "_scene_position": {},
       "_scene_rotation": {},
       "_synced_model_ids": [],
       "_synced_repr_model_ids": [],
       "_view_height": "",
       "_view_width": "",
       "background": "white",
       "frame": 0,
       "gui_style": null,
       "layout": "IPY_MODEL_b554073568b546a38f6d8529c23af099",
       "max_frame": 0,
       "n_components": 1,
       "picked": {}
      }
     },
     "f841d81a00434802b0ac56c01736acc5": {
      "model_module": "@jupyter-widgets/controls",
      "model_module_version": "1.5.0",
      "model_name": "LinkModel",
      "state": {
       "source": [
        "IPY_MODEL_fc10f22e2e4241c397f0816c595b2aec",
        "value"
       ],
       "target": [
        "IPY_MODEL_4397ea47c24f495481b0ae3a5fdaf08a",
        "frame"
       ]
      }
     },
     "f9cf7dc2c8f1425b88f3cf72c060e22c": {
      "model_module": "@jupyter-widgets/base",
      "model_module_version": "1.2.0",
      "model_name": "LayoutModel",
      "state": {}
     },
     "fb310a4cc9fe4330a8f22408d82d1014": {
      "model_module": "@jupyter-widgets/controls",
      "model_module_version": "1.5.0",
      "model_name": "HBoxModel",
      "state": {
       "children": [
        "IPY_MODEL_d92586f2fc3c46c0b2bb3aaeb3e16e2c",
        "IPY_MODEL_57bdf530543c45b89755c431d8cada42"
       ],
       "layout": "IPY_MODEL_03bbbfb7dee64038ae0eb9e5ab047ebc"
      }
     },
     "fbe1ff0e8f084b53be5de6748a6f9266": {
      "model_module": "@jupyter-widgets/base",
      "model_module_version": "1.2.0",
      "model_name": "LayoutModel",
      "state": {}
     },
     "fbe71157d3ea46a385e1396ca95b6fb6": {
      "model_module": "@jupyter-widgets/controls",
      "model_module_version": "1.5.0",
      "model_name": "DescriptionStyleModel",
      "state": {
       "description_width": ""
      }
     },
     "fbfcbe35bbe34be09bce2ea11e5358e7": {
      "model_module": "@jupyter-widgets/controls",
      "model_module_version": "1.5.0",
      "model_name": "PlayModel",
      "state": {
       "layout": "IPY_MODEL_ec0af6fa952b4542a75cdfbe3ac9c9b5",
       "max": 0,
       "style": "IPY_MODEL_4b9f50a3fd584f76a279797832107cf1"
      }
     },
     "fc10f22e2e4241c397f0816c595b2aec": {
      "model_module": "@jupyter-widgets/controls",
      "model_module_version": "1.5.0",
      "model_name": "PlayModel",
      "state": {
       "layout": "IPY_MODEL_aee994d79e674fc5b1678de37314c13c",
       "max": 0,
       "style": "IPY_MODEL_a8e07f3693ee4edc9acf462598f3e61c"
      }
     },
     "fde30bd9dba841fe951c541849490689": {
      "model_module": "@jupyter-widgets/controls",
      "model_module_version": "1.5.0",
      "model_name": "LinkModel",
      "state": {
       "source": [
        "IPY_MODEL_081be0d5367640af85a2318d7866deaf",
        "value"
       ],
       "target": [
        "IPY_MODEL_53d47149099a4d1f865b993ba7e687a1",
        "value"
       ]
      }
     },
     "fe132e369c5e4a45a83894fe90e22b38": {
      "model_module": "nglview-js-widgets",
      "model_module_version": "2.7.1",
      "model_name": "NGLModel",
      "state": {
       "_camera_orientation": [
        12.373626765480486,
        0,
        0,
        0,
        0,
        12.373626765480486,
        0,
        0,
        0,
        0,
        12.373626765480486,
        0,
        -3.039299964904785,
        -0.696899950504303,
        0.6376499831676483,
        1
       ],
       "_camera_str": "orthographic",
       "_gui_theme": null,
       "_ibtn_fullscreen": "IPY_MODEL_f2de830bb5694f7c8d9ef303cb32b1dc",
       "_igui": null,
       "_iplayer": "IPY_MODEL_7a1db8e60166417883cb87c5aa5b4fc0",
       "_ngl_color_dict": {},
       "_ngl_coordinate_resource": {},
       "_ngl_full_stage_parameters": {
        "ambientColor": 14540253,
        "ambientIntensity": 0.2,
        "backgroundColor": "white",
        "cameraEyeSep": 0.3,
        "cameraFov": 40,
        "cameraType": "perspective",
        "clipDist": 10,
        "clipFar": 100,
        "clipNear": 0,
        "fogFar": 100,
        "fogNear": 50,
        "hoverTimeout": 0,
        "impostor": true,
        "lightColor": 14540253,
        "lightIntensity": 1,
        "mousePreset": "default",
        "panSpeed": 1,
        "quality": "medium",
        "rotateSpeed": 2,
        "sampleLevel": 0,
        "tooltip": true,
        "workerDefault": true,
        "zoomSpeed": 1.2
       },
       "_ngl_msg_archive": [
        {
         "args": [
          {
           "binary": false,
           "data": "\nQCElemental\n\n 15 15  0  0  0  0  0  0  0  0  0\n    1.0585   -0.0940   -0.0659 N   0  0     0  0  0  0  0  0\n    2.5047   -0.0614   -0.0256 C   0  0     0  0  0  0  0  0\n    3.2402   -0.6480   -1.2062 C   0  0     0  0  0  0  0  0\n    3.2011    0.8565   -1.0021 C   0  0     0  0  0  0  0  0\n    4.4552    1.5904   -0.6013 C   0  0     0  0  0  0  0  0\n    5.3117    1.8842   -1.7137 O   0  0     0  0  0  0  0  0\n    0.6689    0.6431    0.5271 H   0  0     0  0  0  0  0  0\n    0.7140   -0.9846    0.3015 H   0  0     0  0  0  0  0  0\n    3.0077   -0.1811    0.9445 H   0  0     0  0  0  0  0  0\n    2.6272   -1.0604   -2.0077 H   0  0     0  0  0  0  0  0\n    4.1758   -1.1755   -1.0083 H   0  0     0  0  0  0  0  0\n    2.5329    1.3997   -1.6746 H   0  0     0  0  0  0  0  0\n    4.9982    1.0070    0.1688 H   0  0     0  0  0  0  0  0\n    4.2097    2.5693   -0.1604 H   0  0     0  0  0  0  0  0\n    5.4097    1.0574   -2.2198 H   0  0     0  0  0  0  0  0\n  1  2  1  0  0  0  0\n  1  7  1  0  0  0  0\n  1  8  1  0  0  0  0\n  2  3  1  0  0  0  0\n  2  4  1  0  0  0  0\n  2  9  1  0  0  0  0\n  3  4  1  0  0  0  0\n  3 10  1  0  0  0  0\n  3 11  1  0  0  0  0\n  4  5  1  0  0  0  0\n  4 12  1  0  0  0  0\n  5  6  1  0  0  0  0\n  5 13  1  0  0  0  0\n  5 14  1  0  0  0  0\n  6 15  1  0  0  0  0\n",
           "type": "blob"
          }
         ],
         "kwargs": {
          "defaultRepresentation": true,
          "ext": "sdf"
         },
         "methodName": "loadFile",
         "reconstruc_color_scheme": false,
         "target": "Stage",
         "type": "call_method"
        }
       ],
       "_ngl_original_stage_parameters": {
        "ambientColor": 14540253,
        "ambientIntensity": 0.2,
        "backgroundColor": "white",
        "cameraEyeSep": 0.3,
        "cameraFov": 40,
        "cameraType": "perspective",
        "clipDist": 10,
        "clipFar": 100,
        "clipNear": 0,
        "fogFar": 100,
        "fogNear": 50,
        "hoverTimeout": 0,
        "impostor": true,
        "lightColor": 14540253,
        "lightIntensity": 1,
        "mousePreset": "default",
        "panSpeed": 1,
        "quality": "medium",
        "rotateSpeed": 2,
        "sampleLevel": 0,
        "tooltip": true,
        "workerDefault": true,
        "zoomSpeed": 1.2
       },
       "_ngl_repr_dict": {
        "0": {
         "0": {
          "params": {
           "aspectRatio": 1.5,
           "assembly": "default",
           "bondScale": 0.3,
           "bondSpacing": 0.75,
           "clipCenter": {
            "x": 0,
            "y": 0,
            "z": 0
           },
           "clipNear": 0,
           "clipRadius": 0,
           "colorMode": "hcl",
           "colorReverse": false,
           "colorScale": "",
           "colorScheme": "element",
           "colorValue": 9474192,
           "cylinderOnly": false,
           "defaultAssembly": "",
           "depthWrite": true,
           "diffuse": 16777215,
           "diffuseInterior": false,
           "disableImpostor": false,
           "disablePicking": false,
           "flatShaded": false,
           "interiorColor": 2236962,
           "interiorDarkening": 0,
           "lazy": false,
           "lineOnly": false,
           "linewidth": 2,
           "matrix": {
            "elements": [
             1,
             0,
             0,
             0,
             0,
             1,
             0,
             0,
             0,
             0,
             1,
             0,
             0,
             0,
             0,
             1
            ]
           },
           "metalness": 0,
           "multipleBond": "off",
           "opacity": 1,
           "openEnded": true,
           "quality": "high",
           "radialSegments": 20,
           "radiusData": {},
           "radiusScale": 2,
           "radiusSize": 0.15,
           "radiusType": "size",
           "roughness": 0.4,
           "sele": "",
           "side": "double",
           "sphereDetail": 2,
           "useInteriorColor": true,
           "visible": true,
           "wireframe": false
          },
          "type": "ball+stick"
         }
        }
       },
       "_ngl_serialize": false,
       "_ngl_version": "2.0.0-dev.36",
       "_ngl_view_id": [
        "BAC2F2CC-1464-4E8A-962F-86FA7D028EC3"
       ],
       "_player_dict": {},
       "_scene_position": {},
       "_scene_rotation": {},
       "_synced_model_ids": [],
       "_synced_repr_model_ids": [],
       "_view_height": "",
       "_view_width": "",
       "background": "white",
       "frame": 0,
       "gui_style": null,
       "layout": "IPY_MODEL_ac50e8058483400a9618e32efc10c302",
       "max_frame": 0,
       "n_components": 1,
       "picked": {}
      }
     },
     "fe25c470f0494e3d8b120561239b3609": {
      "model_module": "@jupyter-widgets/controls",
      "model_module_version": "1.5.0",
      "model_name": "ImageModel",
      "state": {
       "layout": "IPY_MODEL_4e8d57a9b0ce4a6892783cd87a491412",
       "width": "900.0"
      }
     },
     "feff8f6cf4694057bca9c214c74a3c71": {
      "model_module": "@jupyter-widgets/controls",
      "model_module_version": "1.5.0",
      "model_name": "DescriptionStyleModel",
      "state": {
       "description_width": ""
      }
     },
     "ffb4583ed28f4fc28ea07c413c674708": {
      "model_module": "@jupyter-widgets/controls",
      "model_module_version": "1.5.0",
      "model_name": "LinkModel",
      "state": {
       "source": [
        "IPY_MODEL_95e5a1a48e9a479493166f2d07168744",
        "max"
       ],
       "target": [
        "IPY_MODEL_626ac96567404b5b84934bf49fbc1ce0",
        "max_frame"
       ]
      }
     }
    },
    "version_major": 2,
    "version_minor": 0
   }
  }
 },
 "nbformat": 4,
 "nbformat_minor": 2
}
